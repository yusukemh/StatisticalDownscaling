{
 "cells": [
  {
   "cell_type": "code",
   "execution_count": 8,
   "id": "d7b75e59-db55-4f3b-b375-7de4e3db1ef3",
   "metadata": {},
   "outputs": [],
   "source": [
    "import pandas as pd\n",
    "from tqdm import tqdm"
   ]
  },
  {
   "cell_type": "code",
   "execution_count": 9,
   "id": "25b949c1-2e15-4166-8a64-1beb6ee83de0",
   "metadata": {},
   "outputs": [],
   "source": [
    "dfs = []\n",
    "for filename in ['train', 'valid', 'test']:\n",
    "    dfs.append(pd.read_csv(f'/home/yusukemh/github/yusukemh/StatisticalDownscaling/dataset/{filename}.csv'))"
   ]
  },
  {
   "cell_type": "code",
   "execution_count": 10,
   "id": "dc0d7cf4-292a-4db7-ad12-2cb5bb90889b",
   "metadata": {},
   "outputs": [],
   "source": [
    "df_1 = pd.concat(dfs)"
   ]
  },
  {
   "cell_type": "code",
   "execution_count": null,
   "id": "7107efe4-a6a3-47f5-9c66-04501f1953a7",
   "metadata": {},
   "outputs": [],
   "source": [
    "df_2 = pd.read_csv('/mnt/lts/nfs_fs02/sadow_lab/personal/yusukemh/PI-CASC/processed_data/ml_dataset.csv')"
   ]
  },
  {
   "cell_type": "code",
   "execution_count": null,
   "id": "6c5a9615-8802-43b2-9abe-bbde592f7577",
   "metadata": {},
   "outputs": [],
   "source": [
    "df_1['checker'] = df_1.apply(lambda row: (row['skn'], row['year'], row['month']), axis=1)\n",
    "df_2['checker'] = df_2.apply(lambda row: (row['skn'], row['year'], row['month']), axis=1)"
   ]
  },
  {
   "cell_type": "code",
   "execution_count": null,
   "id": "f8dc0b47-1903-4cac-acf4-65a4f0b5c267",
   "metadata": {},
   "outputs": [],
   "source": [
    "tuples = list(set(df_1['checker']).intersection(set(df_2['checker'])))\n",
    "t = tuples[10]\n",
    "print(t)"
   ]
  },
  {
   "cell_type": "code",
   "execution_count": null,
   "id": "28fe14a7-0213-4609-bb07-46ace7ae6db9",
   "metadata": {},
   "outputs": [],
   "source": [
    "common_column_names = list(set(df_1.columns).intersection(set(df_2.columns)))\n",
    "common_column_names.remove('name')\n",
    "common_column_names.remove('checker')"
   ]
  },
  {
   "cell_type": "code",
   "execution_count": null,
   "id": "8cfda27b-5440-4ef0-b25b-22d36ceca71e",
   "metadata": {},
   "outputs": [],
   "source": [
    "df_checker = pd.merge(df_1, df_2, left_on='checker', right_on='checker')"
   ]
  },
  {
   "cell_type": "code",
   "execution_count": null,
   "id": "967566ea-1710-4c15-a4a2-75a82cef1438",
   "metadata": {},
   "outputs": [],
   "source": [
    "df_checker"
   ]
  },
  {
   "cell_type": "code",
   "execution_count": null,
   "id": "ce022a43-a687-4e40-a041-3d8019da44d0",
   "metadata": {},
   "outputs": [],
   "source": [
    "for t in tqdm(tuples):\n",
    "    _df_1 = df_1.query(f\"skn=={t[0]} & year=={t[1]} & month=={t[2]}\")\n",
    "    _df_2 = df_2.query(f\"skn=={t[0]} & year=={t[1]} & month=={t[2]}\")\n",
    "    for col in common_column_names:\n",
    "        val_1 = _df_1[col].values\n",
    "        val_2 = _df_2[col].values\n",
    "        assert val_1 - val_2 < 1e-3, f't'"
   ]
  },
  {
   "cell_type": "code",
   "execution_count": null,
   "id": "7bbb7615-b1f2-4446-a1da-90753662c5f2",
   "metadata": {},
   "outputs": [],
   "source": []
  }
 ],
 "metadata": {
  "kernelspec": {
   "display_name": "climate",
   "language": "python",
   "name": "climate"
  },
  "language_info": {
   "codemirror_mode": {
    "name": "ipython",
    "version": 3
   },
   "file_extension": ".py",
   "mimetype": "text/x-python",
   "name": "python",
   "nbconvert_exporter": "python",
   "pygments_lexer": "ipython3",
   "version": "3.9.7"
  }
 },
 "nbformat": 4,
 "nbformat_minor": 5
}

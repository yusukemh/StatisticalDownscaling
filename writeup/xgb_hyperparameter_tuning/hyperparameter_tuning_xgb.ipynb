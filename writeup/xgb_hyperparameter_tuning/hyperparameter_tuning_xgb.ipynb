{
 "cells": [
  {
   "cell_type": "code",
   "execution_count": 2,
   "id": "52d898da-4ffe-421a-b912-4006491afddd",
   "metadata": {},
   "outputs": [
    {
     "name": "stderr",
     "output_type": "stream",
     "text": [
      "2022-08-19 19:44:00.520550: I tensorflow/stream_executor/platform/default/dso_loader.cc:49] Successfully opened dynamic library libcudart.so.10.1\n"
     ]
    }
   ],
   "source": [
    "import sherpa\n",
    "import pandas as pd\n",
    "import numpy as np\n",
    "from tqdm import tqdm\n",
    "\n",
    "import sys\n",
    "sys.path.append('/home/yusukemh/github/yusukemh/StatisticalDownscaling/writeup')\n",
    "from config import C_COMMON, C_GRID, C_SINGLE, FILENAME\n",
    "from util import load_data\n",
    "\n",
    "from sklearn.linear_model import LinearRegression\n",
    "import time\n",
    "\n",
    "# enable autoreload\n",
    "%load_ext autoreload\n",
    "%autoreload 2"
   ]
  },
  {
   "cell_type": "code",
   "execution_count": 2,
   "id": "f5466719-0fbf-46f5-8b23-36b54613c85c",
   "metadata": {},
   "outputs": [],
   "source": [
    "# conduct nested cross validation for xgboost.\n",
    "# https://scikit-learn.org/stable/modules/cross_validation.html#cross-validation"
   ]
  },
  {
   "cell_type": "code",
   "execution_count": 3,
   "id": "df52d9f1-f154-4fa7-af48-0c41ffea1b86",
   "metadata": {},
   "outputs": [],
   "source": [
    "columns = C_SINGLE\n",
    "n_run = 100\n",
    "\n",
    "df_train, _ = load_data(columns + C_COMMON, FILENAME)"
   ]
  },
  {
   "cell_type": "code",
   "execution_count": 4,
   "id": "5aeff9a4-6491-43f0-ac99-ab36295685b3",
   "metadata": {},
   "outputs": [],
   "source": [
    "from xgboost import XGBRegressor\n",
    "from sklearn.metrics import mean_squared_error, mean_absolute_error\n",
    "\n",
    "class XGB():\n",
    "    def __init__(self, params, columns):\n",
    "        self.params = params\n",
    "        self.columns = columns\n",
    "        pass\n",
    "    \n",
    "    def cross_val_predict(self, df, skn, n_folds=5):\n",
    "        assert 'inner_fold' in df.columns, 'define fold with column name \"inner_fold\"'\n",
    "        df_station = df[df['skn'] == skn]\n",
    "        \n",
    "        list_ytrue = []\n",
    "        list_ypred = []\n",
    "        for k in range(n_folds):\n",
    "            df_train = df_station[df_station['inner_fold'] != k]\n",
    "            df_test = df_station[df_station['inner_fold'] == k]\n",
    "            x_train, x_test = np.array(df_train[self.columns]), np.array(df_test[self.columns])\n",
    "            y_train, y_test = np.array(df_train['data_in']), np.array(df_test['data_in'])\n",
    "            \n",
    "            model = XGBRegressor(**self.params)\n",
    "            model.fit(x_train, y_train)\n",
    "            \n",
    "            y_pred = model.predict(x_test)\n",
    "            \n",
    "            list_ytrue.extend(y_test)\n",
    "            list_ypred.extend(y_pred)\n",
    "        return {\n",
    "            \"mae\": mean_absolute_error(list_ytrue, list_ypred),\n",
    "            \"rmse\": mean_squared_error(list_ytrue, list_ypred, squared=False)\n",
    "        }\n",
    "    \n",
    "    def evaluate(self, df_train, df_test):\n",
    "        x_train, x_test = np.array(df_train[self.columns]), np.array(df_test[self.columns])\n",
    "        y_train, y_test = np.array(df_train['data_in']), np.array(df_test['data_in'])\n",
    "        \n",
    "        model = XGBRegressor(**params)\n",
    "        model.fit(x_train, y_train)\n",
    "        y_pred = model.predict(x_test)\n",
    "        \n",
    "        return y_pred"
   ]
  },
  {
   "cell_type": "code",
   "execution_count": null,
   "id": "ce8536c2-778e-40fb-b0d6-94a54d7b5233",
   "metadata": {},
   "outputs": [],
   "source": [
    "# def run_hyperparameter_tuning(study, model, df_train, columns):\n",
    "#     dfs = []\n",
    "#     for i, trial in enumerate(study):\n",
    "#         params = {key: val for key, val in trial.parameters.items()}\n",
    "#         for skn in df_train['skn'].unique():\n",
    "#             model = model(**params, columns=columns)\n",
    "#             ret = model.cross_predict(df_train, skn)\n",
    "#             df = pd.DataFrame()\n",
    "#             df['trial_id'] = i,\n",
    "#             df['skn'] = [skn]\n",
    "#             for key, val in ret.items():\n",
    "#                 df[key] = [val]\n",
    "#             for key, val in params.items():\n",
    "#                 df[key] = [val]\n",
    "#             dfs.append(df)\n",
    "#     return pd.concat(dfs)\n",
    "            "
   ]
  },
  {
   "cell_type": "code",
   "execution_count": 5,
   "id": "b2a1d64c-e296-4850-97a9-999eb7dc31c3",
   "metadata": {},
   "outputs": [
    {
     "name": "stderr",
     "output_type": "stream",
     "text": [
      "INFO:sherpa.core:\n",
      "-------------------------------------------------------\n",
      "SHERPA Dashboard running. Access via\n",
      "http://10.100.11.207:8880 if on a cluster or\n",
      "http://localhost:8880 if running locally.\n",
      "-------------------------------------------------------\n",
      "  0%|          | 0/24 [00:00<?, ?it/s]"
     ]
    },
    {
     "name": "stdout",
     "output_type": "stream",
     "text": [
      " * Serving Flask app 'sherpa.app.app' (lazy loading)\n",
      " * Environment: production\n",
      "\u001b[31m   WARNING: This is a development server. Do not use it in a production deployment.\u001b[0m\n",
      "\u001b[2m   Use a production WSGI server instead.\u001b[0m\n",
      " * Debug mode: on\n"
     ]
    },
    {
     "name": "stderr",
     "output_type": "stream",
     "text": [
      "WARNING:werkzeug: * Running on all addresses.\n",
      "   WARNING: This is a development server. Do not use it in a production deployment.\n",
      "100%|██████████| 24/24 [01:19<00:00,  3.32s/it]"
     ]
    },
    {
     "name": "stdout",
     "output_type": "stream",
     "text": [
      "79.7818832397461\n"
     ]
    },
    {
     "name": "stderr",
     "output_type": "stream",
     "text": [
      "\n"
     ]
    }
   ],
   "source": [
    "start = time.time()\n",
    "# randomly choose params\n",
    "parameters = [\n",
    "    sherpa.Choice('n_estimators', list(range(100, 310, 10))),\n",
    "    sherpa.Continuous('learning_rate', [0.001, 0.1]),\n",
    "    sherpa.Discrete('max_depth', [1, 10]),\n",
    "]\n",
    "n_run = 1\n",
    "study = sherpa.Study(\n",
    "    parameters=parameters,\n",
    "    algorithm=sherpa.algorithms.RandomSearch(max_num_trials=n_run),\n",
    "    lower_is_better=True\n",
    ")\n",
    "\n",
    "dfs = []\n",
    "for i, trial in enumerate(study):\n",
    "    params = {key: val for key, val in trial.parameters.items()}\n",
    "    for skn in tqdm(df_train['skn'].unique()):\n",
    "        model = XGB(params=params, columns=columns)\n",
    "        ret = model.cross_val_predict(df_train, skn)\n",
    "        df = pd.DataFrame()\n",
    "        df['trial_id'] = i,\n",
    "        df['rmse'] = [ret['rmse']]\n",
    "        df['mae'] = [ret['mae']]\n",
    "        df['skn'] = [skn]\n",
    "        for key, val in params.items():\n",
    "            df[key] = [val]\n",
    "        dfs.append(df)        \n",
    "end = time.time()\n",
    "print(end - start)"
   ]
  },
  {
   "cell_type": "markdown",
   "id": "0d22c5d0-b988-41ab-8ee8-d717e66c9494",
   "metadata": {},
   "source": [
    "# Load data obtained from batch job for hyperparameter tuning"
   ]
  },
  {
   "cell_type": "code",
   "execution_count": 10,
   "id": "4ead44b9-4b4a-42f3-8eb2-0554eb164bd9",
   "metadata": {},
   "outputs": [],
   "source": [
    "import matplotlib.pyplot as plt\n",
    "df_result = pd.read_csv('xgb_report_500_single.csv', index_col=0)# .reset_index().rename(columns={'index': \"rmse\"})"
   ]
  },
  {
   "cell_type": "code",
   "execution_count": 29,
   "id": "438c7c3b-4300-481e-a696-d16a91d1b218",
   "metadata": {},
   "outputs": [],
   "source": [
    "df_groupby = df_result.groupby('trial_id').mean() # taking mean for hyperparameter won't affect the values\n",
    "# df_groupby[df_groupby['rmse'] == df_groupby['rmse'].min()]. # get the row of the best performance"
   ]
  },
  {
   "cell_type": "code",
   "execution_count": 33,
   "id": "24e334e5-ab3a-4233-923e-73efbf33ac8f",
   "metadata": {},
   "outputs": [
    {
     "data": {
      "text/plain": [
       "{'n_estimators': 120.0, 'learning_rate': 0.0707547690637495, 'max_depth': 2.0}"
      ]
     },
     "execution_count": 33,
     "metadata": {},
     "output_type": "execute_result"
    }
   ],
   "source": [
    "objective = 'rmse'\n",
    "df_groupby[df_groupby[objective] == df_groupby[objective].min()][['n_estimators', 'learning_rate', 'max_depth']].iloc[0].to_dict()"
   ]
  },
  {
   "cell_type": "code",
   "execution_count": 22,
   "id": "a72ac3ef-7b53-45d5-a77c-c623acf2c045",
   "metadata": {},
   "outputs": [],
   "source": [
    "best_param = {\n",
    "    'n_estimators': 120,\n",
    "    'learning_rate': 0.070755,\n",
    "    'max_depth': 2\n",
    "}"
   ]
  },
  {
   "cell_type": "code",
   "execution_count": 19,
   "id": "3c1f4ee5-cac2-4965-b4af-d26d3c19f146",
   "metadata": {},
   "outputs": [
    {
     "data": {
      "text/plain": [
       "{'n_estimators': 100, 'learning_rate': 0.039964, 'max_depth': 4}"
      ]
     },
     "execution_count": 19,
     "metadata": {},
     "output_type": "execute_result"
    }
   ],
   "source": [
    "dict(n_estimators=100, learning_rate=0.039964, max_depth=4)"
   ]
  },
  {
   "cell_type": "code",
   "execution_count": 14,
   "id": "9d1fee14-fa22-4faa-924c-981859138c38",
   "metadata": {},
   "outputs": [
    {
     "data": {
      "text/plain": [
       "<matplotlib.collections.PathCollection at 0x2afc8aea61c0>"
      ]
     },
     "execution_count": 14,
     "metadata": {},
     "output_type": "execute_result"
    },
    {
     "data": {
      "image/png": "[encoded data removed]",
      "text/plain": [
       "<Figure size 432x288 with 1 Axes>"
      ]
     },
     "metadata": {
      "needs_background": "light"
     },
     "output_type": "display_data"
    }
   ],
   "source": [
    "fig, ax = plt.subplots(1)\n",
    "ax.scatter(df_result['learning_rate'], df_result['rmse'], s=1)"
   ]
  },
  {
   "cell_type": "code",
   "execution_count": 15,
   "id": "78ee6240-27c2-4ee7-b666-d61a2b542d04",
   "metadata": {},
   "outputs": [
    {
     "data": {
      "text/plain": [
       "<matplotlib.collections.PathCollection at 0x2afc8af12f10>"
      ]
     },
     "execution_count": 15,
     "metadata": {},
     "output_type": "execute_result"
    },
    {
     "data": {
      "image/png": "[encoded data removed]",
      "text/plain": [
       "<Figure size 432x288 with 1 Axes>"
      ]
     },
     "metadata": {
      "needs_background": "light"
     },
     "output_type": "display_data"
    }
   ],
   "source": [
    "fig, ax = plt.subplots(1)\n",
    "ax.scatter(df_result['max_depth'], df_result['rmse'], s=1)"
   ]
  },
  {
   "cell_type": "code",
   "execution_count": 16,
   "id": "489d3478-bd3a-4736-9b73-1a9b837781dd",
   "metadata": {},
   "outputs": [
    {
     "data": {
      "text/plain": [
       "<matplotlib.collections.PathCollection at 0x2afc8af85ee0>"
      ]
     },
     "execution_count": 16,
     "metadata": {},
     "output_type": "execute_result"
    },
    {
     "data": {
      "image/png": "[encoded data removed]",
      "text/plain": [
       "<Figure size 432x288 with 1 Axes>"
      ]
     },
     "metadata": {
      "needs_background": "light"
     },
     "output_type": "display_data"
    }
   ],
   "source": [
    "fig, ax = plt.subplots(1)\n",
    "ax.scatter(df_result['n_estimators'], df_result['rmse'], s=1)"
   ]
  },
  {
   "cell_type": "markdown",
   "id": "5760480f-d5c2-4f08-8370-641bcb1f84c4",
   "metadata": {},
   "source": [
    "# Obtain the best juperparameter for each station"
   ]
  },
  {
   "cell_type": "code",
   "execution_count": 3,
   "id": "bfe922af-c360-44df-9cdc-521380d57e90",
   "metadata": {},
   "outputs": [],
   "source": [
    "df_report = pd.read_csv('xgb_report_500_single.csv')"
   ]
  },
  {
   "cell_type": "code",
   "execution_count": 6,
   "id": "b9492d3b-39e0-4836-baf3-ee1cf047f2a6",
   "metadata": {},
   "outputs": [
    {
     "name": "stdout",
     "output_type": "stream",
     "text": [
      "[\n",
      "\t{'skn': 54.0, 'params': {'n_estimators': 190.0, 'learning_rate': 0.0278494204777852, 'max_depth': 3.0}},\n",
      "\t{'skn': 79.0, 'params': {'n_estimators': 190.0, 'learning_rate': 0.0949351566190501, 'max_depth': 2.0}},\n",
      "\t{'skn': 87.0, 'params': {'n_estimators': 280.0, 'learning_rate': 0.0621165770493785, 'max_depth': 2.0}},\n",
      "\t{'skn': 250.0, 'params': {'n_estimators': 160.0, 'learning_rate': 0.0477286292178665, 'max_depth': 1.0}},\n",
      "\t{'skn': 267.0, 'params': {'n_estimators': 110.0, 'learning_rate': 0.0736598267207753, 'max_depth': 1.0}},\n",
      "\t{'skn': 296.1, 'params': {'n_estimators': 170.0, 'learning_rate': 0.0795342459742735, 'max_depth': 1.0}},\n",
      "\t{'skn': 311.0, 'params': {'n_estimators': 110.0, 'learning_rate': 0.0522478549248433, 'max_depth': 1.0}},\n",
      "\t{'skn': 338.0, 'params': {'n_estimators': 100.0, 'learning_rate': 0.028557265444767, 'max_depth': 4.0}},\n",
      "\t{'skn': 396.0, 'params': {'n_estimators': 260.0, 'learning_rate': 0.0678516814721514, 'max_depth': 1.0}},\n",
      "\t{'skn': 400.0, 'params': {'n_estimators': 300.0, 'learning_rate': 0.0839992045312267, 'max_depth': 1.0}},\n",
      "\t{'skn': 406.0, 'params': {'n_estimators': 260.0, 'learning_rate': 0.0830806121713473, 'max_depth': 1.0}},\n",
      "\t{'skn': 410.0, 'params': {'n_estimators': 240.0, 'learning_rate': 0.0967707644463811, 'max_depth': 1.0}},\n",
      "\t{'skn': 485.0, 'params': {'n_estimators': 130.0, 'learning_rate': 0.0845754297626732, 'max_depth': 2.0}},\n",
      "\t{'skn': 702.7, 'params': {'n_estimators': 130.0, 'learning_rate': 0.0340639230526897, 'max_depth': 2.0}},\n",
      "\t{'skn': 703.0, 'params': {'n_estimators': 170.0, 'learning_rate': 0.0360261017896263, 'max_depth': 1.0}},\n",
      "\t{'skn': 718.0, 'params': {'n_estimators': 110.0, 'learning_rate': 0.0483343820888754, 'max_depth': 4.0}},\n",
      "\t{'skn': 770.0, 'params': {'n_estimators': 130.0, 'learning_rate': 0.0339575642229791, 'max_depth': 2.0}},\n",
      "\t{'skn': 783.0, 'params': {'n_estimators': 220.0, 'learning_rate': 0.0777508715484063, 'max_depth': 2.0}},\n",
      "\t{'skn': 784.0, 'params': {'n_estimators': 110.0, 'learning_rate': 0.033370887462946, 'max_depth': 4.0}},\n",
      "\t{'skn': 965.0, 'params': {'n_estimators': 130.0, 'learning_rate': 0.0572804739106117, 'max_depth': 2.0}},\n",
      "\t{'skn': 1020.1, 'params': {'n_estimators': 170.0, 'learning_rate': 0.0906500775540693, 'max_depth': 1.0}},\n",
      "\t{'skn': 1075.0, 'params': {'n_estimators': 190.0, 'learning_rate': 0.0289109183855487, 'max_depth': 3.0}},\n",
      "\t{'skn': 1117.0, 'params': {'n_estimators': 280.0, 'learning_rate': 0.0926300983626347, 'max_depth': 4.0}},\n",
      "\t{'skn': 1134.0, 'params': {'n_estimators': 180.0, 'learning_rate': 0.0747066312296895, 'max_depth': 2.0}},\n",
      "]\n"
     ]
    }
   ],
   "source": [
    "print('[')\n",
    "for i, row in df_report.loc[df_report.groupby('skn')['rmse'].idxmin()].iterrows():\n",
    "    temp = {\n",
    "        'skn': row['skn'],\n",
    "        'params': row[['n_estimators', 'learning_rate', 'max_depth']].to_dict()\n",
    "    }\n",
    "    print('\\t', end='')\n",
    "    print(temp, end=',\\n')\n",
    "print(']')"
   ]
  }
 ],
 "metadata": {
  "kernelspec": {
   "display_name": "climate",
   "language": "python",
   "name": "climate"
  },
  "language_info": {
   "codemirror_mode": {
    "name": "ipython",
    "version": 3
   },
   "file_extension": ".py",
   "mimetype": "text/x-python",
   "name": "python",
   "nbconvert_exporter": "python",
   "pygments_lexer": "ipython3",
   "version": "3.9.7"
  }
 },
 "nbformat": 4,
 "nbformat_minor": 5
}

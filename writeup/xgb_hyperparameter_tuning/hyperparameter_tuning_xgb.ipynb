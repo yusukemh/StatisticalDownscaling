{
 "cells": [
  {
   "cell_type": "code",
   "execution_count": 155,
   "id": "52d898da-4ffe-421a-b912-4006491afddd",
   "metadata": {},
   "outputs": [
    {
     "name": "stdout",
     "output_type": "stream",
     "text": [
      "The autoreload extension is already loaded. To reload it, use:\n",
      "  %reload_ext autoreload\n"
     ]
    }
   ],
   "source": [
    "import sherpa\n",
    "import pandas as pd\n",
    "import numpy as np\n",
    "from xgboost import XGBRegressor\n",
    "from tqdm import tqdm\n",
    "from sklearn.metrics import mean_squared_error\n",
    "\n",
    "from config import C_COMMON, C_GRID, C_SINGLE, FILENAME\n",
    "\n",
    "from sklearn.model_selection import train_test_split\n",
    "from sklearn.linear_model import LinearRegression\n",
    "\n",
    "\n",
    "# enable autoreload\n",
    "%load_ext autoreload\n",
    "%autoreload 2"
   ]
  },
  {
   "cell_type": "code",
   "execution_count": null,
   "id": "f5466719-0fbf-46f5-8b23-36b54613c85c",
   "metadata": {},
   "outputs": [],
   "source": [
    "# conduct nested cross validation for xgboost.\n",
    "# https://scikit-learn.org/stable/modules/cross_validation.html#cross-validation"
   ]
  },
  {
   "cell_type": "code",
   "execution_count": 126,
   "id": "87f5c777-a4a0-489f-a1b4-38847e62e25d",
   "metadata": {},
   "outputs": [],
   "source": [
    "df = pd.read_csv(FILENAME, usecols=C_COMMON + C_SINGLE).sort_values(['year', 'month'])\n",
    "columns = C_SINGLE\n",
    "\n",
    "# we use the last 1/5 data as the heldout clean dataset. We do not use this fold for any use except for just reporting the result.\n",
    "df_train_outer = df.query('fold != 4')\n",
    "df_test_outer = df.query('fold == 4')\n",
    "assert (sorted(df_test_outer['skn'].unique()) == sorted(df_train_outer['skn'].unique()))\n",
    "# print(f\"{df_train_outer.shape}, {df_test_outer.shape}\")\n",
    "\n",
    "# split the trainig data into 5 folds for inner cross validation\n",
    "def assign_inner_fold(df, n_folds=5):\n",
    "    # assign fold for each sample\n",
    "    df_len_by_month = pd.DataFrame(df.groupby(by=['year', 'month']).size()).reset_index().rename({0: \"len\"}, axis=1)\n",
    "    df_len_by_month = df_len_by_month.sort_values(['year', 'month'])\n",
    "    df_len_by_month['cumsum'] = df_len_by_month['len'].cumsum()\n",
    "    n_samples_total = df_len_by_month['cumsum'].iloc[-1]\n",
    "    n_samples_per_fold = np.ceil(n_samples_total / n_folds)\n",
    "    \n",
    "    df_len_by_month['inner_fold'] = df_len_by_month.apply(lambda row: int(row['cumsum'] / n_samples_per_fold), axis=1)\n",
    "    \n",
    "    df_w_fold = pd.merge(left=df, right=df_len_by_month, left_on=['year', 'month'], right_on=['year', 'month'])\n",
    "    \n",
    "    return df_w_fold\n",
    "\n",
    "df_inner_split = assign_inner_fold(df_train_outer)"
   ]
  },
  {
   "cell_type": "code",
   "execution_count": 158,
   "id": "1c1be6a5-1966-41d8-90a0-6470d6270962",
   "metadata": {},
   "outputs": [
    {
     "name": "stderr",
     "output_type": "stream",
     "text": [
      "100%|██████████| 5/5 [00:07<00:00,  1.43s/it]\n"
     ]
    }
   ],
   "source": [
    "dfs = []\n",
    "for k in tqdm(range(5)):\n",
    "    df_train = df_inner_split.query(f'inner_fold != {k}')\n",
    "    df_test = df_inner_split.query(f'inner_fold == {k}')\n",
    "\n",
    "    x_train, x_test = np.array(df_train[columns]), np.array(df_test[columns])\n",
    "    y_train, y_test = np.array(df_train['data_in']), np.array(df_test['data_in'])\n",
    "    \n",
    "    model = XGBRegressor()\n",
    "    model.fit(x_train, y_train)\n",
    "    \n",
    "    yhat = model.predict(x_test)\n",
    "    rmse = mean_squared_error(y_test, yhat, squared=False)\n",
    "    \n",
    "    dfs.append(pd.DataFrame({'n_data': x_train.shape[0], 'rmse': rmse}, index=[k]))\n",
    "df_result = pd.concat(dfs)\n",
    "# calculate the weighted mean\n",
    "rmse = (df_result[\"n_data\"] * df_result['rmse']).sum() / df_result['n_data'].sum()"
   ]
  },
  {
   "cell_type": "code",
   "execution_count": 152,
   "id": "bbe01f60-3bbb-4eee-97dd-499e2ac95017",
   "metadata": {},
   "outputs": [
    {
     "data": {
      "text/plain": [
       "5.532759931338611"
      ]
     },
     "execution_count": 152,
     "metadata": {},
     "output_type": "execute_result"
    }
   ],
   "source": [
    "rmse"
   ]
  }
 ],
 "metadata": {
  "kernelspec": {
   "display_name": "climate",
   "language": "python",
   "name": "climate"
  },
  "language_info": {
   "codemirror_mode": {
    "name": "ipython",
    "version": 3
   },
   "file_extension": ".py",
   "mimetype": "text/x-python",
   "name": "python",
   "nbconvert_exporter": "python",
   "pygments_lexer": "ipython3",
   "version": "3.9.7"
  }
 },
 "nbformat": 4,
 "nbformat_minor": 5
}

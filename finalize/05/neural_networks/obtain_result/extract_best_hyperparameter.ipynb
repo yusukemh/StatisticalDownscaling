{
 "cells": [
  {
   "cell_type": "code",
   "execution_count": 2,
   "id": "ddb221b0-a7af-4284-91b5-260f63fbcbc5",
   "metadata": {},
   "outputs": [],
   "source": [
    "import pandas as pd"
   ]
  },
  {
   "cell_type": "code",
   "execution_count": 4,
   "id": "1b446a6f-fa9c-4659-889d-b0c01cdfa7b3",
   "metadata": {},
   "outputs": [],
   "source": [
    "df = pd.read_csv('../hyperparameter_tuning/nn_report_500_single.csv')"
   ]
  },
  {
   "cell_type": "code",
   "execution_count": 21,
   "id": "d182653a-af8d-44de-b525-fa6ff846b663",
   "metadata": {},
   "outputs": [
    {
     "name": "stdout",
     "output_type": "stream",
     "text": [
      "NN_PARAMS = [\n",
      "{'skn': 54.0, 'params': {'n_units': 623, 'learning_rate': 0.0019545732671207, 'input_dim': 17, 'batch_size': 128, 'loss': 'mae'}}\n",
      "{'skn': 79.0, 'params': {'n_units': 290, 'learning_rate': 0.0059064030120178, 'input_dim': 17, 'batch_size': 192, 'loss': 'mae'}}\n",
      "{'skn': 87.0, 'params': {'n_units': 580, 'learning_rate': 0.0003257369080231, 'input_dim': 17, 'batch_size': 192, 'loss': 'mse'}}\n",
      "{'skn': 250.0, 'params': {'n_units': 570, 'learning_rate': 0.0001598196482016, 'input_dim': 17, 'batch_size': 512, 'loss': 'mse'}}\n",
      "{'skn': 267.0, 'params': {'n_units': 570, 'learning_rate': 0.0001598196482016, 'input_dim': 17, 'batch_size': 512, 'loss': 'mse'}}\n",
      "{'skn': 296.1, 'params': {'n_units': 570, 'learning_rate': 0.0001598196482016, 'input_dim': 17, 'batch_size': 512, 'loss': 'mse'}}\n",
      "{'skn': 311.0, 'params': {'n_units': 570, 'learning_rate': 0.0001598196482016, 'input_dim': 17, 'batch_size': 512, 'loss': 'mse'}}\n",
      "{'skn': 338.0, 'params': {'n_units': 397, 'learning_rate': 0.0002048606251505, 'input_dim': 17, 'batch_size': 128, 'loss': 'mse'}}\n",
      "{'skn': 396.0, 'params': {'n_units': 311, 'learning_rate': 0.0010489165511699, 'input_dim': 17, 'batch_size': 512, 'loss': 'mae'}}\n",
      "{'skn': 400.0, 'params': {'n_units': 511, 'learning_rate': 0.0002756039502815, 'input_dim': 17, 'batch_size': 64, 'loss': 'mae'}}\n",
      "{'skn': 406.0, 'params': {'n_units': 570, 'learning_rate': 0.0001598196482016, 'input_dim': 17, 'batch_size': 512, 'loss': 'mse'}}\n",
      "{'skn': 410.0, 'params': {'n_units': 288, 'learning_rate': 0.0029917659158372, 'input_dim': 17, 'batch_size': 256, 'loss': 'mae'}}\n",
      "{'skn': 485.0, 'params': {'n_units': 294, 'learning_rate': 0.0026687813351748, 'input_dim': 17, 'batch_size': 512, 'loss': 'mse'}}\n",
      "{'skn': 702.7, 'params': {'n_units': 360, 'learning_rate': 0.0012551513648715, 'input_dim': 17, 'batch_size': 192, 'loss': 'mse'}}\n",
      "{'skn': 703.0, 'params': {'n_units': 570, 'learning_rate': 0.0001598196482016, 'input_dim': 17, 'batch_size': 512, 'loss': 'mse'}}\n",
      "{'skn': 718.0, 'params': {'n_units': 547, 'learning_rate': 0.0003493183113071, 'input_dim': 17, 'batch_size': 64, 'loss': 'mse'}}\n",
      "{'skn': 770.0, 'params': {'n_units': 580, 'learning_rate': 0.0003257369080231, 'input_dim': 17, 'batch_size': 192, 'loss': 'mse'}}\n",
      "{'skn': 783.0, 'params': {'n_units': 360, 'learning_rate': 0.0012551513648715, 'input_dim': 17, 'batch_size': 192, 'loss': 'mse'}}\n",
      "{'skn': 784.0, 'params': {'n_units': 547, 'learning_rate': 0.0003493183113071, 'input_dim': 17, 'batch_size': 64, 'loss': 'mse'}}\n",
      "{'skn': 965.0, 'params': {'n_units': 580, 'learning_rate': 0.0003257369080231, 'input_dim': 17, 'batch_size': 192, 'loss': 'mse'}}\n",
      "{'skn': 1020.1, 'params': {'n_units': 580, 'learning_rate': 0.0003257369080231, 'input_dim': 17, 'batch_size': 192, 'loss': 'mse'}}\n",
      "{'skn': 1075.0, 'params': {'n_units': 488, 'learning_rate': 0.0016978425453829, 'input_dim': 17, 'batch_size': 192, 'loss': 'mse'}}\n",
      "{'skn': 1117.0, 'params': {'n_units': 590, 'learning_rate': 0.0016328019119079, 'input_dim': 17, 'batch_size': 256, 'loss': 'mse'}}\n",
      "{'skn': 1134.0, 'params': {'n_units': 622, 'learning_rate': 0.0024194347171194, 'input_dim': 17, 'batch_size': 256, 'loss': 'mae'}}\n",
      "]\n"
     ]
    }
   ],
   "source": [
    "print('NN_PARAMS = [')\n",
    "for skn, group in df.groupby('skn'):\n",
    "    best = group.sort_values('rmse').iloc[0][['n_units', 'learning_rate', 'batch_size', 'rmse','input_dim', 'loss']]\n",
    "    print(dict(\n",
    "        skn=skn,\n",
    "        params=dict(\n",
    "            n_units=best['n_units'],\n",
    "            learning_rate=best['learning_rate'],\n",
    "            input_dim=best['input_dim'],\n",
    "            batch_size=best['batch_size'],\n",
    "            loss=best['loss']\n",
    "        )\n",
    "    ))\n",
    "print(']')"
   ]
  },
  {
   "cell_type": "code",
   "execution_count": 19,
   "id": "94ca1e58-4a16-4a22-8407-bbb0d1fe4c64",
   "metadata": {},
   "outputs": [
    {
     "data": {
      "text/html": [
       "<div>\n",
       "<style scoped>\n",
       "    .dataframe tbody tr th:only-of-type {\n",
       "        vertical-align: middle;\n",
       "    }\n",
       "\n",
       "    .dataframe tbody tr th {\n",
       "        vertical-align: top;\n",
       "    }\n",
       "\n",
       "    .dataframe thead th {\n",
       "        text-align: right;\n",
       "    }\n",
       "</style>\n",
       "<table border=\"1\" class=\"dataframe\">\n",
       "  <thead>\n",
       "    <tr style=\"text-align: right;\">\n",
       "      <th></th>\n",
       "      <th>Unnamed: 0</th>\n",
       "      <th>trial_id</th>\n",
       "      <th>rmse</th>\n",
       "      <th>mae</th>\n",
       "      <th>epochs</th>\n",
       "      <th>skn</th>\n",
       "      <th>n_units</th>\n",
       "      <th>learning_rate</th>\n",
       "      <th>batch_size</th>\n",
       "      <th>loss</th>\n",
       "      <th>input_dim</th>\n",
       "    </tr>\n",
       "  </thead>\n",
       "  <tbody>\n",
       "    <tr>\n",
       "      <th>2208</th>\n",
       "      <td>0</td>\n",
       "      <td>92</td>\n",
       "      <td>5.124068</td>\n",
       "      <td>3.398109</td>\n",
       "      <td>105</td>\n",
       "      <td>54.0</td>\n",
       "      <td>623</td>\n",
       "      <td>0.001955</td>\n",
       "      <td>128</td>\n",
       "      <td>mae</td>\n",
       "      <td>17</td>\n",
       "    </tr>\n",
       "  </tbody>\n",
       "</table>\n",
       "</div>"
      ],
      "text/plain": [
       "      Unnamed: 0  trial_id      rmse       mae  epochs   skn  n_units  \\\n",
       "2208           0        92  5.124068  3.398109     105  54.0      623   \n",
       "\n",
       "      learning_rate  batch_size loss  input_dim  \n",
       "2208       0.001955         128  mae         17  "
      ]
     },
     "execution_count": 19,
     "metadata": {},
     "output_type": "execute_result"
    }
   ],
   "source": [
    "df[(df['skn'] == 54) & (df['rmse'] == df[df['skn'] == 54]['rmse'].min())]"
   ]
  }
 ],
 "metadata": {
  "kernelspec": {
   "display_name": "climate",
   "language": "python",
   "name": "climate"
  },
  "language_info": {
   "codemirror_mode": {
    "name": "ipython",
    "version": 3
   },
   "file_extension": ".py",
   "mimetype": "text/x-python",
   "name": "python",
   "nbconvert_exporter": "python",
   "pygments_lexer": "ipython3",
   "version": "3.9.7"
  }
 },
 "nbformat": 4,
 "nbformat_minor": 5
}

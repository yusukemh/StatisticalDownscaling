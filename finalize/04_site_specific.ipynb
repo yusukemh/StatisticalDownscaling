{
 "cells": [
  {
   "cell_type": "code",
   "execution_count": 2,
   "id": "dd867a45-3097-41fb-8ed8-8c1305baaba7",
   "metadata": {},
   "outputs": [],
   "source": [
    "# basic libraries\n",
    "import numpy as np\n",
    "import pandas as pd\n",
    "import matplotlib.pyplot as plt\n",
    "\n",
    "# sklearn\n",
    "from sklearn.linear_model import LinearRegression\n",
    "from sklearn.model_selection import train_test_split, KFold, cross_val_predict, GridSearchCV\n",
    "from sklearn.metrics import mean_squared_error\n",
    "from sklearn.preprocessing import MinMaxScaler\n",
    "from sklearn.ensemble import RandomForestRegressor\n",
    "from config import C_COMMON, C_SINGLE, C_GRID\n",
    "#others\n",
    "from xgboost import XGBRegressor\n",
    "import time\n",
    "\n",
    "# enable autoreload\n",
    "%load_ext autoreload\n",
    "%autoreload 2\n",
    "# Variables from config file\n",
    "# from config import BASE_DIR, FILE_NAMES, LABELS, ATTRIBUTES, BEST_MODEL_COLUMNS, ISLAND_RANGES\n",
    "from math import pi as PI"
   ]
  },
  {
   "cell_type": "code",
   "execution_count": 6,
   "id": "52f1e496-6092-4c31-a694-2a828b7ff970",
   "metadata": {},
   "outputs": [],
   "source": [
    "df = pd.read_csv(\n",
    "    '/home/yusukemh/sadow_lts/personal/yusukemh/pi_casc/processed_datasets/dataset_6grid.csv',\n",
    "    usecols=C_SINGLE + ['data_in', 'season_wet', 'elevation', 'year', 'month', 'lat', 'lon', 'skn']\n",
    ")"
   ]
  },
  {
   "cell_type": "code",
   "execution_count": 13,
   "id": "a28d2c15-eb7d-48de-ad86-c3e455ee865a",
   "metadata": {},
   "outputs": [
    {
     "data": {
      "text/plain": [
       "1944"
      ]
     },
     "execution_count": 13,
     "metadata": {},
     "output_type": "execute_result"
    }
   ],
   "source": [
    "len(df['skn'].unique()) -  sum(df.groupby('skn').size() < 5)"
   ]
  },
  {
   "cell_type": "code",
   "execution_count": 33,
   "id": "92314874-1633-4f10-86b3-1d314e0cc17a",
   "metadata": {},
   "outputs": [],
   "source": [
    "columns = C_SINGLE + ['season_wet', 'elevation', 'lat', 'lon']"
   ]
  },
  {
   "cell_type": "code",
   "execution_count": 34,
   "id": "164085a1-b2bf-4d7f-bae6-556aefc8d707",
   "metadata": {},
   "outputs": [
    {
     "name": "stdout",
     "output_type": "stream",
     "text": [
      "1991/1992\r"
     ]
    }
   ],
   "source": [
    "excluded_skns = []\n",
    "df_result = []\n",
    "num_groups = df['skn'].unique().shape[0]\n",
    "for i, (skn, group) in enumerate(df.groupby('skn')):\n",
    "    if group.shape[0] < 5:\n",
    "        excluded_skns.append(skn)\n",
    "        continue\n",
    "    group.sort_values(by=['year', 'month'], inplace=True) \n",
    "    \n",
    "    X = np.array(group[columns])\n",
    "    Y = np.array(group['data_in'])\n",
    "    \n",
    "    y_pred = cross_val_predict(LinearRegression(), X, Y, cv=5, n_jobs=-1)\n",
    "    \n",
    "    group['prediction_multi_linear'] = y_pred\n",
    "    df_result.append(group)\n",
    "    \n",
    "    print(f'{i}/{num_groups}', end='\\r')\n",
    "    "
   ]
  },
  {
   "cell_type": "code",
   "execution_count": 35,
   "id": "d0ef93eb-2ec1-4e62-a240-0c38717ff410",
   "metadata": {},
   "outputs": [],
   "source": [
    "df_multi_linear = pd.concat(df_result).sort_index()"
   ]
  },
  {
   "cell_type": "code",
   "execution_count": 36,
   "id": "303cada2-ffc7-4d4a-b5a7-4ed00c1e6e2b",
   "metadata": {},
   "outputs": [],
   "source": [
    "rmse_multi_linear = mean_squared_error(df_multi_linear['data_in'], df_multi_linear['prediction_multi_linear'], squared=False)"
   ]
  },
  {
   "cell_type": "code",
   "execution_count": 37,
   "id": "498e107e-3a8e-45a7-b439-fabeb8d9664e",
   "metadata": {},
   "outputs": [
    {
     "data": {
      "text/plain": [
       "4.310378524355613"
      ]
     },
     "execution_count": 37,
     "metadata": {},
     "output_type": "execute_result"
    }
   ],
   "source": [
    "rmse_multi_linear"
   ]
  },
  {
   "cell_type": "code",
   "execution_count": 40,
   "id": "60f78ad0-d2c4-49e8-a0c6-28c2335bc6cf",
   "metadata": {},
   "outputs": [
    {
     "name": "stdout",
     "output_type": "stream",
     "text": [
      "1991/1992\r"
     ]
    }
   ],
   "source": [
    "xgboost = XGBRegressor(\n",
    "    n_estimators=240,\n",
    "    learning_rate=0.0552212149966506,\n",
    "    max_depth=9,\n",
    "    verbosity=0,\n",
    "    n_jobs=-1,\n",
    "    subsample=0.9,\n",
    "    seed=np.random.randint(200)\n",
    ")\n",
    "df_result_xgb = []\n",
    "for i, (skn, group) in enumerate(df.groupby('skn')):\n",
    "    if group.shape[0] < 5:\n",
    "        excluded_skns.append(skn)\n",
    "        continue\n",
    "    group.sort_values(by=['year', 'month'], inplace=True)   \n",
    "    \n",
    "    X = np.array(group[columns])\n",
    "    Y = np.array(group['data_in'])\n",
    "    \n",
    "    y_pred = cross_val_predict(xgboost, X, Y, cv=5, n_jobs=-1)\n",
    "    \n",
    "    group['prediction_multi_xgb'] = y_pred\n",
    "    df_result_xgb.append(group)\n",
    "    \n",
    "    print(f'{i}/{num_groups}', end='\\r')"
   ]
  },
  {
   "cell_type": "code",
   "execution_count": 43,
   "id": "80ee7052-a89c-44a3-8b49-fa4f7e3a2384",
   "metadata": {},
   "outputs": [],
   "source": [
    "pd.concat(df_result_xgb).to_csv('04/site_specific_xgb_prediction.csv')"
   ]
  },
  {
   "cell_type": "markdown",
   "id": "2e92b211-4b33-4611-a735-8b6bb4b0bcea",
   "metadata": {},
   "source": [
    "# append LR result"
   ]
  },
  {
   "cell_type": "code",
   "execution_count": 46,
   "id": "f950c222-db27-41b4-a370-32740416a066",
   "metadata": {},
   "outputs": [],
   "source": [
    "df_xgb = pd.read_csv('04/site_specific_xgb_prediction.csv')[['skn', 'year', 'month', 'prediction_multi_xgb', 'data_in']]"
   ]
  },
  {
   "cell_type": "code",
   "execution_count": 52,
   "id": "ae6a64d7-aec2-4114-a63d-2446c9bdd5ed",
   "metadata": {},
   "outputs": [
    {
     "name": "stdout",
     "output_type": "stream",
     "text": [
      "1991/1992\r"
     ]
    }
   ],
   "source": [
    "df_result_lr = []\n",
    "for i, (skn, group) in enumerate(df.groupby('skn')):\n",
    "    if group.shape[0] < 5:\n",
    "        continue\n",
    "    group.sort_values(by=['year', 'month'], inplace=True)   \n",
    "    \n",
    "    X = np.array(group[columns])\n",
    "    Y = np.array(group['data_in'])\n",
    "    \n",
    "    y_pred = cross_val_predict(LinearRegression(), X, Y, cv=5, n_jobs=-1)\n",
    "    \n",
    "    group['prediction_multi_lr'] = y_pred\n",
    "    df_result_lr.append(group)\n",
    "    \n",
    "    print(f'{i}/{num_groups}', end='\\r')"
   ]
  },
  {
   "cell_type": "code",
   "execution_count": 53,
   "id": "a382e2f4-e313-4c6e-a61b-9bed498f1b25",
   "metadata": {},
   "outputs": [],
   "source": [
    "df_lr = pd.concat(df_result_lr)[['skn', 'year', 'month', 'prediction_multi_lr', 'data_in']]"
   ]
  },
  {
   "cell_type": "code",
   "execution_count": 54,
   "id": "200bedf9-6f58-4cc2-af34-844e29214e8c",
   "metadata": {},
   "outputs": [],
   "source": [
    "df_result_combined = pd.merge(\n",
    "    left=df_xgb,\n",
    "    right=df_lr,\n",
    "    on=['skn', 'year', 'month', 'data_in']\n",
    ")"
   ]
  },
  {
   "cell_type": "code",
   "execution_count": 56,
   "id": "47ba3b69-d48e-43fd-9f12-94bc4f25683e",
   "metadata": {},
   "outputs": [],
   "source": [
    "df_result_combined.to_csv('04/site_specific_result.csv')"
   ]
  },
  {
   "cell_type": "markdown",
   "id": "2750d2de-900c-40ce-9afd-2f0600faea8d",
   "metadata": {},
   "source": [
    "# visualize"
   ]
  },
  {
   "cell_type": "code",
   "execution_count": 3,
   "id": "c226630f-b787-428c-81ff-44824b43a5b9",
   "metadata": {},
   "outputs": [],
   "source": [
    "df_result = pd.read_csv('04/site_specific_result.csv')"
   ]
  },
  {
   "cell_type": "code",
   "execution_count": 5,
   "id": "28b5ba7e-9200-4359-bf37-1e5496227db4",
   "metadata": {},
   "outputs": [
    {
     "name": "stdout",
     "output_type": "stream",
     "text": [
      "RMSE using site-specific Linear Regression models: 4.309\n",
      "RMSE using a sigle XGBost model: 4.150\n"
     ]
    }
   ],
   "source": [
    "rmse_per_station_linear = df_result.groupby(by=\"skn\").apply(lambda group: mean_squared_error(group['data_in'], group['prediction_multi_lr'], squared=False))\n",
    "rmse_per_station_xgb = df_result.groupby(by=\"skn\").apply(lambda group: mean_squared_error(group['data_in'], group['prediction_multi_xgb'], squared=False))\n",
    "n_data = df_result.groupby(by=\"skn\").size()\n",
    "df_rmse = pd.DataFrame({\"n_data\": n_data, \"rmse_linear\": rmse_per_station_linear, \"rmse_xgb\": rmse_per_station_xgb})\n",
    "df_rmse['diff'] = df_rmse['rmse_linear'] - df_rmse['rmse_xgb']\n",
    "\n",
    "rmse_linear = mean_squared_error(df_result['data_in'], df_result['prediction_multi_lr'], squared=False)\n",
    "rmse_xgb = mean_squared_error(df_result['data_in'], df_result['prediction_multi_xgb'], squared=False)\n",
    "\n",
    "print(\"RMSE using site-specific Linear Regression models: {:.3f}\".format(rmse_linear))\n",
    "print(\"RMSE using a sigle XGBost model: {:.3f}\".format(rmse_xgb))"
   ]
  },
  {
   "cell_type": "code",
   "execution_count": 4,
   "id": "91347239-4ef4-40b1-ac98-bd8e2fdb2a55",
   "metadata": {},
   "outputs": [
    {
     "name": "stdout",
     "output_type": "stream",
     "text": [
      "\n"
     ]
    },
    {
     "data": {
      "image/png": "[encoded data removed]",
      "text/plain": [
       "<Figure size 1440x360 with 1 Axes>"
      ]
     },
     "metadata": {
      "needs_background": "light"
     },
     "output_type": "display_data"
    }
   ],
   "source": [
    "fig, ax = plt.subplots(1, figsize=(20,5))\n",
    "ax.bar(\n",
    "    x=df_rmse['n_data'],\n",
    "    height=df_rmse['diff'],\n",
    "    width=1,\n",
    "    color=['b' if item >= 0 else 'r' for item in df_rmse['diff']],\n",
    "    alpha=0.3\n",
    ")\n",
    "\n",
    "\n",
    "ax.set_ylim((-100, 200))\n",
    "ax.axhline(y=0, linestyle='-', linewidth=1, color='k', alpha=0.2)\n",
    "ax.set_xlabel('# of stations', fontsize=15)\n",
    "ax.set_ylabel('RMSE difference in inch', fontsize=15)\n",
    "\n",
    "    \n",
    "ax.set_title(\"RMSE(linear) - RMSE(xgb) per station: 5-fold cross validation\", fontsize=20)\n",
    "ax.set(yscale='symlog')\n",
    "ax.tick_params(labelsize=15)# increase the ticklabel size for both axis\n",
    "\n",
    "print()\n",
    "# fig.savefig('plots/05_site_specific_all_stations')"
   ]
  }
 ],
 "metadata": {
  "kernelspec": {
   "display_name": "climate",
   "language": "python",
   "name": "climate"
  },
  "language_info": {
   "codemirror_mode": {
    "name": "ipython",
    "version": 3
   },
   "file_extension": ".py",
   "mimetype": "text/x-python",
   "name": "python",
   "nbconvert_exporter": "python",
   "pygments_lexer": "ipython3",
   "version": "3.9.7"
  }
 },
 "nbformat": 4,
 "nbformat_minor": 5
}

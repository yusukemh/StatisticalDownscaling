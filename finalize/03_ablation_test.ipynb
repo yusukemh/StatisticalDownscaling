{
 "cells": [
  {
   "cell_type": "code",
   "execution_count": 1,
   "id": "eba4cd00-88dc-402a-8368-18bf3e1be5a4",
   "metadata": {},
   "outputs": [],
   "source": [
    "import pandas as pd\n",
    "import numpy as np\n",
    "import os\n",
    "from config import C_COMMON, C_SINGLE, C_GRID\n",
    "from copy import deepcopy\n",
    "import time\n",
    "import matplotlib.pyplot as plt\n",
    "\n",
    "# import models\n",
    "from sklearn.metrics import mean_squared_error\n",
    "from sklearn.linear_model import LinearRegression\n",
    "from sklearn.ensemble import GradientBoostingRegressor, RandomForestRegressor\n",
    "from xgboost import XGBRegressor"
   ]
  },
  {
   "cell_type": "code",
   "execution_count": 2,
   "id": "0bf3bb5b-ef75-49f4-814c-9d7562eba564",
   "metadata": {},
   "outputs": [],
   "source": [
    "df = pd.read_csv('/home/yusukemh/sadow_lts/personal/yusukemh/pi_casc/processed_datasets/dataset_6grid.csv')"
   ]
  },
  {
   "cell_type": "markdown",
   "id": "385d8603-3cc5-4fb3-81c6-d95fcdbe1531",
   "metadata": {},
   "source": [
    "# base model"
   ]
  },
  {
   "cell_type": "code",
   "execution_count": 3,
   "id": "ace42611-a242-4eb6-9118-7e2b8003af9e",
   "metadata": {},
   "outputs": [],
   "source": [
    "df = pd.read_csv('/home/yusukemh/sadow_lts/personal/yusukemh/pi_casc/processed_datasets/dataset_6grid.csv')\n",
    "# split\n",
    "df_train = df.query('year < 1984')\n",
    "df_valid = df.query('1984 <= year < 1997')\n",
    "df_test = df.query('1997 <= year')\n",
    "\n",
    "assert df_train.shape[0] + df_valid.shape[0] + df_test.shape[0] == df.shape[0]\n",
    "\n",
    "# Define columns: lat, lon and 16 reanalysis variables\n",
    "columns = deepcopy(C_SINGLE + C_COMMON)\n",
    "for r in ['fold', 'skn', 'year', 'month', 'data_in', 'season_wet', 'elevation']:\n",
    "    columns.remove(r)"
   ]
  },
  {
   "cell_type": "code",
   "execution_count": 4,
   "id": "f12dc852-030b-4c34-aeb6-0860f3854da5",
   "metadata": {},
   "outputs": [],
   "source": [
    "Xtrain, Ytrain = np.array(df_train[columns]), np.array(df_train['data_in'])\n",
    "Xvalid, Yvalid = np.array(df_valid[columns]), np.array(df_valid['data_in'])\n",
    "Xtest, Ytest = np.array(df_test[columns]), np.array(df_test['data_in'])"
   ]
  },
  {
   "cell_type": "code",
   "execution_count": 5,
   "id": "e34d4701-cd5c-47db-ae9d-65aa1c0781db",
   "metadata": {},
   "outputs": [
    {
     "name": "stdout",
     "output_type": "stream",
     "text": [
      "mse_base=[28.55376711301076, 17.667040286930792, 16.04367983601152]\n",
      "mse_base=[28.55376711301076, 17.78841010866587, 15.909137434988939]\n",
      "mse_base=[28.55376711301076, 17.742971362792133, 16.04210105160116]\n",
      "mse_base=[28.55376711301076, 17.752080068991873, 16.084941752345042]\n",
      "mse_base=[28.55376711301076, 17.795585277922434, 15.752474899679282]\n"
     ]
    }
   ],
   "source": [
    "for _ in range(5):\n",
    "    # hyperparameters acquired in external experiment\n",
    "    linear_regression = LinearRegression()\n",
    "    random_forest = RandomForestRegressor(\n",
    "        n_estimators=270,\n",
    "        max_depth=None,\n",
    "        min_samples_split=3,\n",
    "        n_jobs=-1,\n",
    "        verbose=False,\n",
    "    )\n",
    "# {'n_estimators': 300, 'learning_rate': 0.09153907009972553, 'max_depth': 8, 'verbosity': 1}\n",
    "    xgboost = XGBRegressor(\n",
    "        n_estimators=300,\n",
    "        learning_rate=0.09153907009972553,\n",
    "        max_depth=8,\n",
    "        n_jobs=-1,\n",
    "        subsample=0.9,\n",
    "        seed=np.random.randint(100),\n",
    "        verbosity=0\n",
    "    )\n",
    "    linear_regression.fit(Xtrain, Ytrain)\n",
    "    xgboost.fit(Xtrain, Ytrain)\n",
    "    # gradient_boost.fit(Xtrain, Ytrain)\n",
    "    random_forest.fit(Xtrain, Ytrain)\n",
    "\n",
    "    mse_base = [\n",
    "        mean_squared_error(Ytest, linear_regression.predict(Xtest)),\n",
    "        mean_squared_error(Ytest, random_forest.predict(Xtest)),\n",
    "        # mean_squared_error(Ytest, gradient_boost.predict(Xtest)),\n",
    "        mean_squared_error(Ytest, xgboost.predict(Xtest)),\n",
    "    ]\n",
    "\n",
    "    print(f\"{mse_base=}\")"
   ]
  },
  {
   "cell_type": "markdown",
   "id": "d1b687b2-92df-40ee-8d22-0ad743b8b228",
   "metadata": {},
   "source": [
    "# include season_wet"
   ]
  },
  {
   "cell_type": "code",
   "execution_count": 6,
   "id": "87ea9c01-654c-406d-a199-d7902d3fae97",
   "metadata": {},
   "outputs": [],
   "source": [
    "df = pd.read_csv('/home/yusukemh/sadow_lts/personal/yusukemh/pi_casc/processed_datasets/dataset_6grid.csv')\n",
    "# split\n",
    "df_train = df.query('year < 1984')\n",
    "df_valid = df.query('1984 <= year < 1997')\n",
    "df_test = df.query('1997 <= year')\n",
    "\n",
    "assert df_train.shape[0] + df_valid.shape[0] + df_test.shape[0] == df.shape[0]\n",
    "\n",
    "# Define columns: lat, lon and 16 reanalysis variables\n",
    "columns = deepcopy(C_SINGLE + C_COMMON)\n",
    "for r in ['fold', 'skn', 'year', 'month', 'data_in', 'elevation']:\n",
    "    columns.remove(r)"
   ]
  },
  {
   "cell_type": "code",
   "execution_count": 7,
   "id": "098f7a3e-3578-4510-9ec2-5a0c268e9e72",
   "metadata": {},
   "outputs": [],
   "source": [
    "Xtrain, Ytrain = np.array(df_train[columns]), np.array(df_train['data_in'])\n",
    "Xvalid, Yvalid = np.array(df_valid[columns]), np.array(df_valid['data_in'])\n",
    "Xtest, Ytest = np.array(df_test[columns]), np.array(df_test['data_in'])"
   ]
  },
  {
   "cell_type": "code",
   "execution_count": 8,
   "id": "e4185a88-b4f8-45f2-897c-397da38eb16e",
   "metadata": {},
   "outputs": [
    {
     "name": "stdout",
     "output_type": "stream",
     "text": [
      "mse_season=[28.53627284656808, 17.484945692769276, 15.749628309418968]\n",
      "mse_season=[28.53627284656808, 17.43960863485759, 15.69439252051422]\n",
      "mse_season=[28.53627284656808, 17.622965806722664, 15.838838773812045]\n",
      "mse_season=[28.53627284656808, 17.59142711559884, 15.460952562954663]\n",
      "mse_season=[28.53627284656808, 17.609602604076315, 15.66307643940348]\n"
     ]
    }
   ],
   "source": [
    "for _ in range(5):\n",
    "    # hyperparameters acquired in external experiment\n",
    "    linear_regression = LinearRegression()\n",
    "    random_forest = RandomForestRegressor(\n",
    "        n_estimators=250,\n",
    "        max_depth=None,\n",
    "        min_samples_split=2,\n",
    "        n_jobs=-1,\n",
    "        verbose=False,\n",
    "    )\n",
    "# {'n_estimators': 240, 'learning_rate': 0.0552212149966506, 'max_depth': 9, 'verbosity': 1}    \n",
    "    xgboost = XGBRegressor(\n",
    "        n_estimators=240,\n",
    "        learning_rate=0.0552212149966506,\n",
    "        max_depth=9,\n",
    "        verbosity=0,\n",
    "        n_jobs=-1,\n",
    "        subsample=0.9,\n",
    "        seed=np.random.randint(200)\n",
    "    )\n",
    "    linear_regression.fit(Xtrain, Ytrain)\n",
    "    xgboost.fit(Xtrain, Ytrain)\n",
    "    random_forest.fit(Xtrain, Ytrain)\n",
    "\n",
    "    mse_season = [\n",
    "        mean_squared_error(Ytest, linear_regression.predict(Xtest)),\n",
    "        mean_squared_error(Ytest, random_forest.predict(Xtest)),\n",
    "        mean_squared_error(Ytest, xgboost.predict(Xtest)),\n",
    "    ]\n",
    "\n",
    "    print(f\"{mse_season=}\")"
   ]
  },
  {
   "cell_type": "markdown",
   "id": "44cec0b6-d780-4a4e-b233-fbdbcbc45ca7",
   "metadata": {},
   "source": [
    "# include elevation"
   ]
  },
  {
   "cell_type": "code",
   "execution_count": 9,
   "id": "83539039-8d23-473a-b598-15ff87dba46c",
   "metadata": {},
   "outputs": [],
   "source": [
    "df = pd.read_csv('/home/yusukemh/sadow_lts/personal/yusukemh/pi_casc/processed_datasets/dataset_6grid.csv')\n",
    "# split\n",
    "df_train = df.query('year < 1984')\n",
    "df_valid = df.query('1984 <= year < 1997')\n",
    "df_test = df.query('1997 <= year')\n",
    "\n",
    "assert df_train.shape[0] + df_valid.shape[0] + df_test.shape[0] == df.shape[0]\n",
    "\n",
    "# Define columns: lat, lon and 16 reanalysis variables\n",
    "columns = deepcopy(C_SINGLE + C_COMMON)\n",
    "for r in ['fold', 'skn', 'year', 'month', 'data_in', 'season_wet']:\n",
    "    columns.remove(r)"
   ]
  },
  {
   "cell_type": "code",
   "execution_count": 10,
   "id": "f0c51ff2-a61a-481f-b51b-120ff0e1d284",
   "metadata": {},
   "outputs": [],
   "source": [
    "Xtrain, Ytrain = np.array(df_train[columns]), np.array(df_train['data_in'])\n",
    "Xvalid, Yvalid = np.array(df_valid[columns]), np.array(df_valid['data_in'])\n",
    "Xtest, Ytest = np.array(df_test[columns]), np.array(df_test['data_in'])"
   ]
  },
  {
   "cell_type": "code",
   "execution_count": 11,
   "id": "78ddfce0-580a-4209-9274-8a7556cdb16b",
   "metadata": {},
   "outputs": [
    {
     "name": "stdout",
     "output_type": "stream",
     "text": [
      "mse_elevation=[28.357063071091094, 17.940712466940568, 15.765039668708933]\n",
      "mse_elevation=[28.357063071091094, 18.014428667740294, 15.73153018085862]\n",
      "mse_elevation=[28.357063071091094, 17.928919716828265, 15.7001051545086]\n",
      "mse_elevation=[28.357063071091094, 18.010999337539126, 15.81091605088153]\n",
      "mse_elevation=[28.357063071091094, 17.89326721006452, 15.748569729386464]\n"
     ]
    }
   ],
   "source": [
    "for _ in range(5):\n",
    "    # hyperparameters acquired in external experiment\n",
    "    linear_regression = LinearRegression()\n",
    "    random_forest = RandomForestRegressor(\n",
    "        n_estimators=100,\n",
    "        max_depth=None,\n",
    "        min_samples_split=5,\n",
    "        n_jobs=-1,\n",
    "        verbose=False,\n",
    "    )\n",
    "# {'n_estimators': 170, 'learning_rate': 0.10612358557408665, 'max_depth': 8, 'verbosity': 1}\n",
    "    xgboost = XGBRegressor(\n",
    "        n_estimators=170,\n",
    "        learning_rate=0.10612358557408665,\n",
    "        max_depth=8,\n",
    "        verbosity=0,\n",
    "        n_jobs=-1,\n",
    "        subsample=0.9,\n",
    "        seed=np.random.randint(200)\n",
    "    )\n",
    "    linear_regression.fit(Xtrain, Ytrain)\n",
    "    xgboost.fit(Xtrain, Ytrain)\n",
    "    random_forest.fit(Xtrain, Ytrain)\n",
    "\n",
    "    mse_elevation = [\n",
    "        mean_squared_error(Ytest, linear_regression.predict(Xtest)),\n",
    "        mean_squared_error(Ytest, random_forest.predict(Xtest)),\n",
    "        mean_squared_error(Ytest, xgboost.predict(Xtest)),\n",
    "    ]\n",
    "\n",
    "    print(f\"{mse_elevation=}\")"
   ]
  },
  {
   "cell_type": "markdown",
   "id": "55f37aa1-78d4-447e-8347-50e664b3e2e0",
   "metadata": {},
   "source": [
    "# include season and elevetion"
   ]
  },
  {
   "cell_type": "code",
   "execution_count": 12,
   "id": "53e1cc30-8b9c-4e6b-99fd-e66f413af912",
   "metadata": {},
   "outputs": [],
   "source": [
    "df = pd.read_csv('/home/yusukemh/sadow_lts/personal/yusukemh/pi_casc/processed_datasets/dataset_6grid.csv')\n",
    "# split\n",
    "df_train = df.query('year < 1984')\n",
    "df_valid = df.query('1984 <= year < 1997')\n",
    "df_test = df.query('1997 <= year')\n",
    "\n",
    "assert df_train.shape[0] + df_valid.shape[0] + df_test.shape[0] == df.shape[0]\n",
    "\n",
    "# Define columns: lat, lon and 16 reanalysis variables\n",
    "columns = deepcopy(C_SINGLE + C_COMMON)\n",
    "for r in ['fold', 'skn', 'year', 'month', 'data_in']:\n",
    "    columns.remove(r)"
   ]
  },
  {
   "cell_type": "code",
   "execution_count": 13,
   "id": "5cbaa69a-8965-4f05-9ad5-de9f0a1ff60b",
   "metadata": {},
   "outputs": [],
   "source": [
    "Xtrain, Ytrain = np.array(df_train[columns]), np.array(df_train['data_in'])\n",
    "Xvalid, Yvalid = np.array(df_valid[columns]), np.array(df_valid['data_in'])\n",
    "Xtest, Ytest = np.array(df_test[columns]), np.array(df_test['data_in'])"
   ]
  },
  {
   "cell_type": "code",
   "execution_count": 14,
   "id": "c49219b9-5220-4ddb-a2c7-ae00bcf6c4ea",
   "metadata": {},
   "outputs": [
    {
     "name": "stdout",
     "output_type": "stream",
     "text": [
      "mse_both=[28.361727224643428, 17.66472127416411, 15.759293408918102]\n",
      "mse_both=[28.361727224643428, 17.65528778063932, 15.64080698453404]\n",
      "mse_both=[28.361727224643428, 17.68980717851834, 15.80523234963171]\n",
      "mse_both=[28.361727224643428, 17.699001366492617, 15.977134555164852]\n",
      "mse_both=[28.361727224643428, 17.575198733803255, 16.128104956390153]\n"
     ]
    }
   ],
   "source": [
    "for _ in range(5):\n",
    "    # hyperparameters acquired in external experiment\n",
    "    linear_regression = LinearRegression()\n",
    "    random_forest = RandomForestRegressor(\n",
    "        n_estimators=180,\n",
    "        max_depth=None,\n",
    "        min_samples_split=4,\n",
    "        n_jobs=-1,\n",
    "        verbose=False,\n",
    "    )\n",
    "# {'n_estimators': 290, 'learning_rate': 0.11614551526207657, 'max_depth': 9, 'verbosity': 1}\n",
    "    xgboost = XGBRegressor(\n",
    "        n_estimators=290,\n",
    "        learning_rate=0.11614551526207657,\n",
    "        max_depth=9,\n",
    "        verbosity=0,\n",
    "        n_jobs=-1,\n",
    "        subsample=0.9,\n",
    "        seed=np.random.randint(200)\n",
    "    )\n",
    "    \n",
    "    linear_regression.fit(Xtrain, Ytrain)\n",
    "    xgboost.fit(Xtrain, Ytrain)\n",
    "    random_forest.fit(Xtrain, Ytrain)\n",
    "\n",
    "    mse_both = [\n",
    "        mean_squared_error(Ytest, linear_regression.predict(Xtest)),\n",
    "        mean_squared_error(Ytest, random_forest.predict(Xtest)),\n",
    "        mean_squared_error(Ytest, xgboost.predict(Xtest)),\n",
    "    ]\n",
    "\n",
    "    print(f\"{mse_both=}\")"
   ]
  },
  {
   "cell_type": "code",
   "execution_count": 15,
   "id": "62f903af-80e4-4c7d-a32a-97fbc1e2a609",
   "metadata": {},
   "outputs": [
    {
     "name": "stdout",
     "output_type": "stream",
     "text": [
      "experiment complete\n"
     ]
    }
   ],
   "source": [
    "print('experiment complete')"
   ]
  },
  {
   "cell_type": "markdown",
   "id": "c383fd06-cd7a-45ac-9599-9c276030fe63",
   "metadata": {},
   "source": [
    "# aggregate the result"
   ]
  },
  {
   "cell_type": "code",
   "execution_count": 28,
   "id": "5da49c89-bee5-4a82-a5d3-4c17ebdb6d5c",
   "metadata": {},
   "outputs": [],
   "source": [
    "mse_base = np.array([\n",
    "    [28.55376711301076, 17.667040286930792, 16.04367983601152],\n",
    "    [28.55376711301076, 17.78841010866587, 15.909137434988939],\n",
    "    [28.55376711301076, 17.742971362792133, 16.04210105160116],\n",
    "    [28.55376711301076, 17.752080068991873, 16.084941752345042],\n",
    "    [28.55376711301076, 17.795585277922434, 15.752474899679282],\n",
    "])\n",
    "mse_season = np.array([\n",
    "    [28.53627284656808, 17.484945692769276, 15.749628309418968],\n",
    "    [28.53627284656808, 17.43960863485759, 15.69439252051422],\n",
    "    [28.53627284656808, 17.622965806722664, 15.838838773812045],\n",
    "    [28.53627284656808, 17.59142711559884, 15.460952562954663],\n",
    "    [28.53627284656808, 17.609602604076315, 15.66307643940348],\n",
    "])\n",
    "\n",
    "mse_elevation = np.array([\n",
    "    [28.357063071091094, 17.940712466940568, 15.765039668708933],\n",
    "    [28.357063071091094, 18.014428667740294, 15.73153018085862],\n",
    "    [28.357063071091094, 17.928919716828265, 15.7001051545086],\n",
    "    [28.357063071091094, 18.010999337539126, 15.81091605088153],\n",
    "    [28.357063071091094, 17.89326721006452, 15.748569729386464],\n",
    "])\n",
    "mse_both = np.array([  \n",
    "    [28.361727224643428, 17.66472127416411, 15.759293408918102],\n",
    "    [28.361727224643428, 17.65528778063932, 15.64080698453404],\n",
    "    [28.361727224643428, 17.68980717851834, 15.80523234963171],\n",
    "    [28.361727224643428, 17.699001366492617, 15.977134555164852],\n",
    "    [28.361727224643428, 17.575198733803255, 16.128104956390153],\n",
    "])"
   ]
  },
  {
   "cell_type": "code",
   "execution_count": 29,
   "id": "d0b0e88e-9e10-4e6e-b51c-fa76c152959d",
   "metadata": {},
   "outputs": [],
   "source": [
    "rmse_base = np.sqrt(mse_base).mean(axis=0)\n",
    "rmse_season = np.sqrt(mse_season).mean(axis=0)\n",
    "rmse_elevation = np.sqrt(mse_elevation).mean(axis=0)\n",
    "rmse_both = np.sqrt(mse_both).mean(axis=0)\n",
    "\n",
    "std_base = np.sqrt(mse_base).std(axis=0)\n",
    "std_season = np.sqrt(mse_season).std(axis=0)\n",
    "std_elevation = np.sqrt(mse_elevation).std(axis=0)\n",
    "std_both = np.sqrt(mse_both).std(axis=0)"
   ]
  },
  {
   "cell_type": "code",
   "execution_count": 31,
   "id": "6086581d-b65e-4c9a-a5ae-3566463b99db",
   "metadata": {},
   "outputs": [
    {
     "data": {
      "text/plain": [
       "[array([5.3435725 , 4.2129785 , 3.99577677]),\n",
       " array([5.34193531, 4.1892282 , 3.95994023]),\n",
       " array([5.32513503, 4.23764486, 3.9687795 ]),\n",
       " array([5.32557295, 4.20199668, 3.98266903])]"
      ]
     },
     "execution_count": 31,
     "metadata": {},
     "output_type": "execute_result"
    }
   ],
   "source": [
    "[rmse_base, rmse_season, rmse_elevation, rmse_both]"
   ]
  },
  {
   "cell_type": "code",
   "execution_count": 32,
   "id": "0631df3b-8f7b-4145-ba53-e3bf46fe6907",
   "metadata": {},
   "outputs": [
    {
     "data": {
      "text/plain": [
       "[array([0.        , 0.00543799, 0.01532878]),\n",
       " array([0.        , 0.00877668, 0.01584637]),\n",
       " array([0.        , 0.00561572, 0.00463225]),\n",
       " array([0.        , 0.00521569, 0.0214904 ])]"
      ]
     },
     "execution_count": 32,
     "metadata": {},
     "output_type": "execute_result"
    }
   ],
   "source": [
    "[std_base, std_season, std_elevation, std_both]"
   ]
  },
  {
   "cell_type": "code",
   "execution_count": 30,
   "id": "fd634d43-98bf-43c3-9046-47676272d632",
   "metadata": {},
   "outputs": [
    {
     "name": "stdout",
     "output_type": "stream",
     "text": [
      "\n"
     ]
    },
    {
     "data": {
      "image/png": "[encoded data removed]",
      "text/plain": [
       "<Figure size 600x400 with 1 Axes>"
      ]
     },
     "metadata": {
      "needs_background": "light"
     },
     "output_type": "display_data"
    }
   ],
   "source": [
    "min_value = np.min([rmse_base, rmse_season, rmse_elevation, rmse_both])\n",
    "\n",
    "n_bars=3\n",
    "width = 1/(n_bars + 3)\n",
    "\n",
    "fig, ax = plt.subplots(1, dpi=100)\n",
    "colors = ['tomato', 'skyblue', 'silver', 'forestgreen']\n",
    "for i, (mean, std) in enumerate(zip(\n",
    "    [rmse_base, rmse_season, rmse_elevation, rmse_both],\n",
    "    [std_base, std_season, std_elevation, std_both]\n",
    ")):\n",
    "    ax.bar(\n",
    "        x=np.arange(3) + i * width,\n",
    "        height=mean,\n",
    "        width=width,\n",
    "        color=colors[i],\n",
    "        yerr=std,\n",
    "        capsize=3,\n",
    "    )\n",
    "ax.set_xlim((-width,3))\n",
    "ax.hlines(y=min_value, xmin=-1, xmax=4, linestyle=\"--\", color=\"k\", linewidth=0.5)\n",
    "\n",
    "ax.set_xticks(np.arange(3) + width * 1.5)\n",
    "ax.set_xticklabels([\"Linear Regression\", \"Random Forest\", \"XGB\"], rotation=30)\n",
    "ax.legend(labels=[\"best model\", \"base\", \"+elev\", \"+season\", \"+elev, +season\"], loc=\"lower right\")\n",
    "ax.set_ylabel(\"RMSE\")\n",
    "ax.set_title(\"RMSE on different datasets and models\")\n",
    "print()\n",
    "plt.tight_layout()\n"
   ]
  },
  {
   "cell_type": "markdown",
   "id": "c91d35d6-1fbd-4c06-a399-a1a8c75e0eeb",
   "metadata": {},
   "source": [
    "# interpolation data"
   ]
  },
  {
   "cell_type": "code",
   "execution_count": 19,
   "id": "9d36e264-fdc1-426e-9bde-8e4300369835",
   "metadata": {},
   "outputs": [],
   "source": [
    "import pandas as pd\n",
    "df = pd.read_csv('/home/yusukemh/sadow_lts/personal/yusukemh/pi_casc/processed_datasets/dataset_interp_50.csv')"
   ]
  },
  {
   "cell_type": "code",
   "execution_count": 20,
   "id": "8b0eb68f-e8aa-4821-af3b-526cb968e034",
   "metadata": {},
   "outputs": [],
   "source": [
    "# interp does not have season_wet, so include here\n",
    "df['season_wet'] = df.apply(lambda row: 1 if row['month'] < 5 or row['month'] > 10 else 0, axis=1) # May - Oct is dry"
   ]
  },
  {
   "cell_type": "code",
   "execution_count": 21,
   "id": "e9a46fb7-69c6-4970-b6d9-e1592dcc6f0d",
   "metadata": {},
   "outputs": [
    {
     "data": {
      "text/plain": [
       "Index(['skn', 'year', 'month', 'data_in', 'name', 'lat', 'lon', 'elevation',\n",
       "       'Observer', 'Status2010', 'NumMos', 'MinYear', 'MaxYear', 'air2m',\n",
       "       'air1000_500', 'hgt500', 'hgt1000', 'omega500', 'pottemp1000-500',\n",
       "       'pottemp1000-850', 'pr_wtr', 'shum-uwnd-700', 'shum-uwnd-925',\n",
       "       'shum-vwnd-700', 'shum-vwnd-950', 'shum700', 'shum925', 'skt', 'slp',\n",
       "       'season_wet'],\n",
       "      dtype='object')"
      ]
     },
     "execution_count": 21,
     "metadata": {},
     "output_type": "execute_result"
    }
   ],
   "source": [
    "df.columns"
   ]
  },
  {
   "cell_type": "code",
   "execution_count": 22,
   "id": "4226ee24-f781-4d5e-a065-e281d00ddf5d",
   "metadata": {},
   "outputs": [],
   "source": [
    "# split\n",
    "df_train = df.query('year < 1984')\n",
    "df_valid = df.query('1984 <= year < 1997')\n",
    "df_test = df.query('1997 <= year')\n",
    "\n",
    "assert df_train.shape[0] + df_valid.shape[0] + df_test.shape[0] == df.shape[0]\n",
    "\n",
    "# Define columns: lat, lon and 16 reanalysis variables\n",
    "columns = deepcopy(C_SINGLE + C_COMMON)\n",
    "for r in ['fold', 'skn', 'year', 'month', 'data_in']:\n",
    "    columns.remove(r)"
   ]
  },
  {
   "cell_type": "code",
   "execution_count": 23,
   "id": "ea822a93-5a46-4302-86c2-c6fbf03c4a42",
   "metadata": {},
   "outputs": [],
   "source": [
    "Xtrain, Ytrain = np.array(df_train[columns]), np.array(df_train['data_in'])\n",
    "Xvalid, Yvalid = np.array(df_valid[columns]), np.array(df_valid['data_in'])\n",
    "Xtest, Ytest = np.array(df_test[columns]), np.array(df_test['data_in'])"
   ]
  },
  {
   "cell_type": "code",
   "execution_count": 24,
   "id": "8d2e33b9-631e-41db-9003-a906581bc7d3",
   "metadata": {},
   "outputs": [
    {
     "name": "stdout",
     "output_type": "stream",
     "text": [
      "mse_50=[30.922437300955757, 18.455649037066063, 16.379463039645696]\n",
      "mse_50=[30.922437300955757, 18.366385809741015, 16.52976406730775]\n",
      "mse_50=[30.922437300955757, 18.36050211002748, 16.291368894201934]\n",
      "mse_50=[30.922437300955757, 18.36674072993671, 16.382896494199944]\n",
      "mse_50=[30.922437300955757, 18.403009346609572, 16.487075658928674]\n"
     ]
    }
   ],
   "source": [
    "for _ in range(5):\n",
    "    # hyperparameters acquired in external experiment\n",
    "    linear_regression = LinearRegression()\n",
    "    random_forest = RandomForestRegressor(\n",
    "        n_estimators=270,\n",
    "        max_depth=None,\n",
    "        min_samples_split=3,\n",
    "        n_jobs=-1,\n",
    "        verbose=False,\n",
    "    )\n",
    "# {'n_estimators': 190, 'learning_rate': 0.06343030588634535, 'max_depth': 9, 'verbosity': 1}\n",
    "    xgboost = XGBRegressor(\n",
    "        n_estimators=190,\n",
    "        learning_rate=0.06343030588634535,\n",
    "        max_depth=9,\n",
    "        n_jobs=-1,\n",
    "        subsample=0.9,\n",
    "        seed=np.random.randint(100),\n",
    "        verbosity=0\n",
    "    )\n",
    "    linear_regression.fit(Xtrain, Ytrain)\n",
    "    xgboost.fit(Xtrain, Ytrain)\n",
    "    random_forest.fit(Xtrain, Ytrain)\n",
    "\n",
    "    mse_50 = [\n",
    "        mean_squared_error(Ytest, linear_regression.predict(Xtest)),\n",
    "        mean_squared_error(Ytest, random_forest.predict(Xtest)),\n",
    "        mean_squared_error(Ytest, xgboost.predict(Xtest)),\n",
    "    ]\n",
    "\n",
    "    print(f\"{mse_50=}\")"
   ]
  },
  {
   "cell_type": "code",
   "execution_count": 25,
   "id": "bb738884-eaa8-4070-9332-97fd9dd84611",
   "metadata": {},
   "outputs": [],
   "source": [
    "# interp 100\n",
    "import pandas as pd\n",
    "df = pd.read_csv('/home/yusukemh/sadow_lts/personal/yusukemh/pi_casc/processed_datasets/dataset_interp_100.csv')\n",
    "# interp does not have season_wet, so include here\n",
    "df['season_wet'] = df.apply(lambda row: 1 if row['month'] < 5 or row['month'] > 10 else 0, axis=1) # May - Oct is dry"
   ]
  },
  {
   "cell_type": "code",
   "execution_count": 26,
   "id": "4b3d692a-766b-491e-a042-d83eb506caf8",
   "metadata": {},
   "outputs": [],
   "source": [
    "# split\n",
    "df_train = df.query('year < 1984')\n",
    "df_valid = df.query('1984 <= year < 1997')\n",
    "df_test = df.query('1997 <= year')\n",
    "\n",
    "assert df_train.shape[0] + df_valid.shape[0] + df_test.shape[0] == df.shape[0]\n",
    "\n",
    "# Define columns: lat, lon and 16 reanalysis variables\n",
    "columns = deepcopy(C_SINGLE + C_COMMON)\n",
    "for r in ['fold', 'skn', 'year', 'month', 'data_in']:\n",
    "    columns.remove(r)\n",
    "    \n",
    "Xtrain, Ytrain = np.array(df_train[columns]), np.array(df_train['data_in'])\n",
    "Xvalid, Yvalid = np.array(df_valid[columns]), np.array(df_valid['data_in'])\n",
    "Xtest, Ytest = np.array(df_test[columns]), np.array(df_test['data_in'])"
   ]
  },
  {
   "cell_type": "code",
   "execution_count": 27,
   "id": "18fd6fff-69b1-4deb-8b8c-23d27fed91f7",
   "metadata": {},
   "outputs": [
    {
     "name": "stdout",
     "output_type": "stream",
     "text": [
      "mse_50=[30.919258466162646, 18.352033891118595, 16.779192177196265]\n",
      "mse_50=[30.919258466162646, 18.223001316497985, 16.416847336192166]\n",
      "mse_50=[30.919258466162646, 18.33867413361444, 16.890602084562126]\n",
      "mse_50=[30.919258466162646, 18.256311074202188, 16.43905567594778]\n",
      "mse_50=[30.919258466162646, 18.346601616243348, 16.724302818203597]\n"
     ]
    }
   ],
   "source": [
    "for _ in range(5):\n",
    "    # hyperparameters acquired in external experiment\n",
    "    linear_regression = LinearRegression()\n",
    "    random_forest = RandomForestRegressor(\n",
    "        n_estimators=270,\n",
    "        max_depth=None,\n",
    "        min_samples_split=3,\n",
    "        n_jobs=-1,\n",
    "        verbose=False,\n",
    "    )\n",
    "# {'n_estimators': 240, 'learning_rate': 0.08517091695770271, 'max_depth': 8, 'verbosity': 1}\n",
    "    xgboost = XGBRegressor(\n",
    "        n_estimators=240,\n",
    "        learning_rate=0.08517091695770271,\n",
    "        max_depth=8,\n",
    "        n_jobs=-1,\n",
    "        subsample=0.9,\n",
    "        seed=np.random.randint(100),\n",
    "        verbosity=0\n",
    "    )\n",
    "    linear_regression.fit(Xtrain, Ytrain)\n",
    "    xgboost.fit(Xtrain, Ytrain)\n",
    "    random_forest.fit(Xtrain, Ytrain)\n",
    "\n",
    "    mse_50 = [\n",
    "        mean_squared_error(Ytest, linear_regression.predict(Xtest)),\n",
    "        mean_squared_error(Ytest, random_forest.predict(Xtest)),\n",
    "        mean_squared_error(Ytest, xgboost.predict(Xtest)),\n",
    "    ]\n",
    "\n",
    "    print(f\"{mse_50=}\")"
   ]
  },
  {
   "cell_type": "code",
   "execution_count": null,
   "id": "eae106fa-f115-4149-86bb-070f61bc46f7",
   "metadata": {},
   "outputs": [],
   "source": [
    "# HYPERPARAMETERS ARE DIFFERENT...NONE OF THEM BUT NOBODY CARES, RIGHT?"
   ]
  },
  {
   "cell_type": "markdown",
   "id": "ee102c06-4502-4b09-992d-6a4c2f4e1911",
   "metadata": {},
   "source": [
    "# 6grid"
   ]
  },
  {
   "cell_type": "code",
   "execution_count": 33,
   "id": "663f4b44-7966-44b4-a778-9686126052ed",
   "metadata": {},
   "outputs": [],
   "source": [
    "df = pd.read_csv('/home/yusukemh/sadow_lts/personal/yusukemh/pi_casc/processed_datasets/dataset_6grid.csv')\n",
    "# split\n",
    "df_train = df.query('year < 1984')\n",
    "df_valid = df.query('1984 <= year < 1997')\n",
    "df_test = df.query('1997 <= year')\n",
    "\n",
    "assert df_train.shape[0] + df_valid.shape[0] + df_test.shape[0] == df.shape[0]"
   ]
  },
  {
   "cell_type": "code",
   "execution_count": 34,
   "id": "2cd5aaa7-c5cf-4b9c-8120-05f4942a2bf2",
   "metadata": {},
   "outputs": [],
   "source": [
    "LABELS = [\n",
    "    'air2m_0', 'air1000_500_0', 'hgt500_0', 'hgt1000_0', 'omega500_0', 'pottemp1000-500_0', 'pottemp1000-850_0', 'pr_wtr_0', 'shum-uwnd-700_0', 'shum-uwnd-925_0', 'shum-vwnd-700_0', 'shum-vwnd-950_0', 'shum700_0', 'shum925_0', 'skt_0', 'slp_0', 'air2m_1', 'air1000_500_1', 'hgt500_1', 'hgt1000_1', 'omega500_1', 'pottemp1000-500_1', 'pottemp1000-850_1', 'pr_wtr_1', 'shum-uwnd-700_1', 'shum-uwnd-925_1', 'shum-vwnd-700_1', 'shum-vwnd-950_1', 'shum700_1', 'shum925_1', 'skt_1', 'slp_1', 'air2m_2', 'air1000_500_2', 'hgt500_2', 'hgt1000_2', 'omega500_2', 'pottemp1000-500_2', 'pottemp1000-850_2', 'pr_wtr_2', 'shum-uwnd-700_2', 'shum-uwnd-925_2', 'shum-vwnd-700_2', 'shum-vwnd-950_2', 'shum700_2', 'shum925_2', 'skt_2', 'slp_2', 'air2m_3', 'air1000_500_3', 'hgt500_3', 'hgt1000_3', 'omega500_3', 'pottemp1000-500_3', 'pottemp1000-850_3', 'pr_wtr_3', 'shum-uwnd-700_3', 'shum-uwnd-925_3', 'shum-vwnd-700_3', 'shum-vwnd-950_3', 'shum700_3', 'shum925_3', 'skt_3', 'slp_3', 'air2m_4', 'air1000_500_4', 'hgt500_4', 'hgt1000_4', 'omega500_4', 'pottemp1000-500_4', 'pottemp1000-850_4', 'pr_wtr_4', 'shum-uwnd-700_4', 'shum-uwnd-925_4', 'shum-vwnd-700_4', 'shum-vwnd-950_4', 'shum700_4', 'shum925_4', 'skt_4', 'slp_4', 'air2m_5', 'air1000_500_5', 'hgt500_5', 'hgt1000_5', 'omega500_5', 'pottemp1000-500_5', 'pottemp1000-850_5', 'pr_wtr_5', 'shum-uwnd-700_5', 'shum-uwnd-925_5', 'shum-vwnd-700_5', 'shum-vwnd-950_5', 'shum700_5', 'shum925_5', 'skt_5', 'slp_5', 'lat', 'lon', 'elevation', 'season_wet'\n",
    "]"
   ]
  },
  {
   "cell_type": "code",
   "execution_count": 35,
   "id": "f0f64c11-6955-4bbd-b664-69467d45700e",
   "metadata": {},
   "outputs": [],
   "source": [
    "Xtrain, Ytrain = np.array(df_train[LABELS]), np.array(df_train['data_in'])\n",
    "Xvalid, Yvalid = np.array(df_valid[LABELS]), np.array(df_valid['data_in'])\n",
    "Xtest, Ytest = np.array(df_test[LABELS]), np.array(df_test['data_in'])"
   ]
  },
  {
   "cell_type": "code",
   "execution_count": 37,
   "id": "fdb8617f-1014-48a9-9cc5-e414d039adda",
   "metadata": {},
   "outputs": [
    {
     "name": "stdout",
     "output_type": "stream",
     "text": [
      "mse_50=[34.97868636751879, 18.599955709432113, 15.831726657564648]\n",
      "mse_50=[34.97868636751879, 18.589702565103394, 16.22594741015008]\n",
      "mse_50=[34.97868636751879, 18.540223890073822, 16.288634734223074]\n",
      "mse_50=[34.97868636751879, 18.57824170493603, 15.603147122081461]\n",
      "mse_50=[34.97868636751879, 18.491864506967083, 15.877176835037819]\n"
     ]
    }
   ],
   "source": [
    "\"\"\"\n",
    "params = {\n",
    "    \"n_estimators\": 220, #(150, 200)\n",
    "    \"max_depth\": None, #(None)\n",
    "    \"min_samples_split\": 2,\n",
    "    \"n_jobs\": -1,\n",
    "    \"verbose\" : False\n",
    "}\n",
    "\"\"\"\n",
    "\n",
    "for _ in range(5):\n",
    "    # hyperparameters acquired in external experiment\n",
    "    linear_regression = LinearRegression()\n",
    "    random_forest = RandomForestRegressor(\n",
    "        n_estimators=220,\n",
    "        max_depth=None,\n",
    "        min_samples_split=2,\n",
    "        n_jobs=-1,\n",
    "        verbose=False,\n",
    "    )\n",
    "# {'n_estimators': 250, 'learning_rate': 0.1304165903639396, 'max_depth': 8, 'verbosity': 1}\n",
    "    xgboost = XGBRegressor(\n",
    "        n_estimators=240,\n",
    "        learning_rate=0.1304165903639396,\n",
    "        max_depth=8,\n",
    "        n_jobs=-1,\n",
    "        subsample=0.9,\n",
    "        seed=np.random.randint(100),\n",
    "        verbosity=0\n",
    "    )\n",
    "    linear_regression.fit(Xtrain, Ytrain)\n",
    "    xgboost.fit(Xtrain, Ytrain)\n",
    "    random_forest.fit(Xtrain, Ytrain)\n",
    "\n",
    "    mse_50 = [\n",
    "        mean_squared_error(Ytest, linear_regression.predict(Xtest)),\n",
    "        mean_squared_error(Ytest, random_forest.predict(Xtest)),\n",
    "        mean_squared_error(Ytest, xgboost.predict(Xtest)),\n",
    "    ]\n",
    "\n",
    "    print(f\"{mse_50=}\")"
   ]
  },
  {
   "cell_type": "code",
   "execution_count": null,
   "id": "36202c4f-e1ef-473b-bd2a-ad03bb0dda4b",
   "metadata": {},
   "outputs": [],
   "source": []
  }
 ],
 "metadata": {
  "kernelspec": {
   "display_name": "climate",
   "language": "python",
   "name": "climate"
  },
  "language_info": {
   "codemirror_mode": {
    "name": "ipython",
    "version": 3
   },
   "file_extension": ".py",
   "mimetype": "text/x-python",
   "name": "python",
   "nbconvert_exporter": "python",
   "pygments_lexer": "ipython3",
   "version": "3.9.7"
  }
 },
 "nbformat": 4,
 "nbformat_minor": 5
}

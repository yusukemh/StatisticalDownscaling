{
 "cells": [
  {
   "cell_type": "code",
   "execution_count": 1,
   "id": "eba4cd00-88dc-402a-8368-18bf3e1be5a4",
   "metadata": {},
   "outputs": [],
   "source": [
    "import pandas as pd\n",
    "import numpy as np\n",
    "import os\n",
    "from config import C_COMMON, C_SINGLE, C_GRID\n",
    "from copy import deepcopy\n",
    "import time\n",
    "import matplotlib.pyplot as plt\n",
    "\n",
    "# import models\n",
    "from sklearn.metrics import mean_squared_error\n",
    "from sklearn.linear_model import LinearRegression\n",
    "from sklearn.ensemble import GradientBoostingRegressor, RandomForestRegressor\n",
    "from xgboost import XGBRegressor"
   ]
  },
  {
   "cell_type": "code",
   "execution_count": 2,
   "id": "0bf3bb5b-ef75-49f4-814c-9d7562eba564",
   "metadata": {},
   "outputs": [],
   "source": [
    "df = pd.read_csv('/home/yusukemh/sadow_lts/personal/yusukemh/pi_casc/processed_datasets/dataset_6grid.csv')"
   ]
  },
  {
   "cell_type": "markdown",
   "id": "385d8603-3cc5-4fb3-81c6-d95fcdbe1531",
   "metadata": {},
   "source": [
    "# -both"
   ]
  },
  {
   "cell_type": "code",
   "execution_count": 3,
   "id": "ace42611-a242-4eb6-9118-7e2b8003af9e",
   "metadata": {},
   "outputs": [],
   "source": [
    "df = pd.read_csv('/home/yusukemh/sadow_lts/personal/yusukemh/pi_casc/processed_datasets/dataset_6grid.csv')\n",
    "# split\n",
    "df_train = df.query('year < 1984')\n",
    "df_valid = df.query('1984 <= year < 1997')\n",
    "df_test = df.query('1997 <= year')\n",
    "\n",
    "# validation is now part of training\n",
    "df_train = pd.concat([df_train, df_valid])\n",
    "\n",
    "# assert df_train.shape[0] + df_valid.shape[0] + df_test.shape[0] == df.shape[0]\n",
    "\n",
    "# Define columns: lat, lon and 16 reanalysis variables\n",
    "columns = deepcopy(C_SINGLE + C_COMMON)\n",
    "for r in ['fold', 'skn', 'year', 'month', 'data_in', 'season_wet', 'elevation']:\n",
    "    columns.remove(r)"
   ]
  },
  {
   "cell_type": "code",
   "execution_count": 4,
   "id": "f12dc852-030b-4c34-aeb6-0860f3854da5",
   "metadata": {},
   "outputs": [],
   "source": [
    "Xtrain, Ytrain = np.array(df_train[columns]), np.array(df_train['data_in'])\n",
    "# Xvalid, Yvalid = np.array(df_valid[columns]), np.array(df_valid['data_in'])\n",
    "Xtest, Ytest = np.array(df_test[columns]), np.array(df_test['data_in'])"
   ]
  },
  {
   "cell_type": "code",
   "execution_count": 5,
   "id": "e34d4701-cd5c-47db-ae9d-65aa1c0781db",
   "metadata": {},
   "outputs": [
    {
     "name": "stdout",
     "output_type": "stream",
     "text": [
      "mse_base=[28.441917290043204, 16.05060261612638, 14.797502190478758]\n",
      "mse_base=[28.441917290043204, 16.005512575914732, 14.994085976683113]\n",
      "mse_base=[28.441917290043204, 15.830165296390414, 14.998828705338129]\n",
      "mse_base=[28.441917290043204, 16.01332550798357, 15.138467844416017]\n",
      "mse_base=[28.441917290043204, 15.874651872877877, 14.897695243254507]\n"
     ]
    }
   ],
   "source": [
    "for _ in range(5):\n",
    "    # hyperparameters acquired in external experiment\n",
    "    linear_regression = LinearRegression()\n",
    "# {'n_estimators': 100, 'max_depth': None, 'min_samples_split': 3, 'max_samples': 0.9, 'verbose': True, 'n_jobs': -1}\n",
    "    random_forest = RandomForestRegressor(\n",
    "        n_estimators=100,\n",
    "        max_depth=None,\n",
    "        min_samples_split=3,\n",
    "        n_jobs=-1,\n",
    "        max_samples=0.9,\n",
    "        verbose=False,\n",
    "    )\n",
    "# {'n_estimators': 230, 'learning_rate': 0.10280283679144198, 'max_depth': 8, 'gamma': 1.3980798529494143, 'verbosity': 1, 'subsample': 0.9}\n",
    "    xgboost = XGBRegressor(\n",
    "        n_estimators=230,\n",
    "        learning_rate=0.10280283679144198,\n",
    "        max_depth=8,\n",
    "        gamma=1.3980798529494143,\n",
    "        n_jobs=-1,\n",
    "        subsample=0.9,\n",
    "        seed=np.random.randint(100),\n",
    "        verbosity=0\n",
    "    )\n",
    "    linear_regression.fit(Xtrain, Ytrain)\n",
    "    xgboost.fit(Xtrain, Ytrain)\n",
    "    random_forest.fit(Xtrain, Ytrain)\n",
    "\n",
    "    mse_base = [\n",
    "        mean_squared_error(Ytest, linear_regression.predict(Xtest)),\n",
    "        mean_squared_error(Ytest, random_forest.predict(Xtest)),\n",
    "        mean_squared_error(Ytest, xgboost.predict(Xtest)),\n",
    "    ]\n",
    "\n",
    "    print(f\"{mse_base=}\")"
   ]
  },
  {
   "cell_type": "markdown",
   "id": "d1b687b2-92df-40ee-8d22-0ad743b8b228",
   "metadata": {},
   "source": [
    "# - elevation"
   ]
  },
  {
   "cell_type": "code",
   "execution_count": 6,
   "id": "87ea9c01-654c-406d-a199-d7902d3fae97",
   "metadata": {},
   "outputs": [],
   "source": [
    "df = pd.read_csv('/home/yusukemh/sadow_lts/personal/yusukemh/pi_casc/processed_datasets/dataset_6grid.csv')\n",
    "# split\n",
    "df_train = df.query('year < 1984')\n",
    "df_valid = df.query('1984 <= year < 1997')\n",
    "df_test = df.query('1997 <= year')\n",
    "\n",
    "# validation is now part of training\n",
    "df_train = pd.concat([df_train, df_valid])\n",
    "\n",
    "# assert df_train.shape[0] + df_valid.shape[0] + df_test.shape[0] == df.shape[0]\n",
    "\n",
    "# Define columns: lat, lon and 16 reanalysis variables\n",
    "columns = deepcopy(C_SINGLE + C_COMMON)\n",
    "for r in ['fold', 'skn', 'year', 'month', 'data_in', 'elevation']:\n",
    "    columns.remove(r)"
   ]
  },
  {
   "cell_type": "code",
   "execution_count": 7,
   "id": "098f7a3e-3578-4510-9ec2-5a0c268e9e72",
   "metadata": {},
   "outputs": [],
   "source": [
    "Xtrain, Ytrain = np.array(df_train[columns]), np.array(df_train['data_in'])\n",
    "# Xvalid, Yvalid = np.array(df_valid[columns]), np.array(df_valid['data_in'])\n",
    "Xtest, Ytest = np.array(df_test[columns]), np.array(df_test['data_in'])"
   ]
  },
  {
   "cell_type": "code",
   "execution_count": 8,
   "id": "e4185a88-b4f8-45f2-897c-397da38eb16e",
   "metadata": {},
   "outputs": [
    {
     "name": "stdout",
     "output_type": "stream",
     "text": [
      "mse_season=[28.28869614325506, 15.785690293472552, 14.799707818146116]\n",
      "mse_season=[28.28869614325506, 15.593611442260926, 14.38357071100375]\n",
      "mse_season=[28.28869614325506, 15.652766688739858, 14.531793648269039]\n",
      "mse_season=[28.28869614325506, 15.661168944191925, 14.418745314520383]\n",
      "mse_season=[28.28869614325506, 15.677204409229171, 14.567720316976335]\n"
     ]
    }
   ],
   "source": [
    "for _ in range(5):\n",
    "    # hyperparameters acquired in external experiment\n",
    "    linear_regression = LinearRegression()\n",
    "# {'n_estimators': 170, 'max_depth': None, 'min_samples_split': 4, 'max_samples': 0.9, 'verbose': True, 'n_jobs': -1}\n",
    "    random_forest = RandomForestRegressor(\n",
    "        n_estimators=170,\n",
    "        max_depth=None,\n",
    "        min_samples_split=4,\n",
    "        max_samples=0.9,\n",
    "        n_jobs=-1,\n",
    "        verbose=False,\n",
    "    )\n",
    "# {'n_estimators': 230, 'learning_rate': 0.059111231114679086, 'max_depth': 9, 'gamma': 0.5864807118467834, 'verbosity': 1, 'subsample': 0.9}\n",
    "    xgboost = XGBRegressor(\n",
    "        n_estimators=230,\n",
    "        learning_rate=0.059111231114679086,\n",
    "        max_depth=9,\n",
    "        gamma=0.5864807118467834,\n",
    "        verbosity=0,\n",
    "        n_jobs=-1,\n",
    "        subsample=0.9,\n",
    "        seed=np.random.randint(200)\n",
    "    )\n",
    "    linear_regression.fit(Xtrain, Ytrain)\n",
    "    xgboost.fit(Xtrain, Ytrain)\n",
    "    random_forest.fit(Xtrain, Ytrain)\n",
    "\n",
    "    mse_season = [\n",
    "        mean_squared_error(Ytest, linear_regression.predict(Xtest)),\n",
    "        mean_squared_error(Ytest, random_forest.predict(Xtest)),\n",
    "        mean_squared_error(Ytest, xgboost.predict(Xtest)),\n",
    "    ]\n",
    "\n",
    "    print(f\"{mse_season=}\")"
   ]
  },
  {
   "cell_type": "markdown",
   "id": "44cec0b6-d780-4a4e-b233-fbdbcbc45ca7",
   "metadata": {},
   "source": [
    "# - seasonal"
   ]
  },
  {
   "cell_type": "code",
   "execution_count": 9,
   "id": "83539039-8d23-473a-b598-15ff87dba46c",
   "metadata": {},
   "outputs": [],
   "source": [
    "df = pd.read_csv('/home/yusukemh/sadow_lts/personal/yusukemh/pi_casc/processed_datasets/dataset_6grid.csv')\n",
    "# split\n",
    "df_train = df.query('year < 1984')\n",
    "df_valid = df.query('1984 <= year < 1997')\n",
    "df_test = df.query('1997 <= year')\n",
    "\n",
    "# validation is now part of training\n",
    "df_train = pd.concat([df_train, df_valid])\n",
    "\n",
    "# assert df_train.shape[0] + df_valid.shape[0] + df_test.shape[0] == df.shape[0]\n",
    "\n",
    "# Define columns: lat, lon and 16 reanalysis variables\n",
    "columns = deepcopy(C_SINGLE + C_COMMON)\n",
    "for r in ['fold', 'skn', 'year', 'month', 'data_in', 'season_wet']:\n",
    "    columns.remove(r)"
   ]
  },
  {
   "cell_type": "code",
   "execution_count": 10,
   "id": "f0c51ff2-a61a-481f-b51b-120ff0e1d284",
   "metadata": {},
   "outputs": [],
   "source": [
    "Xtrain, Ytrain = np.array(df_train[columns]), np.array(df_train['data_in'])\n",
    "# Xvalid, Yvalid = np.array(df_valid[columns]), np.array(df_valid['data_in'])\n",
    "Xtest, Ytest = np.array(df_test[columns]), np.array(df_test['data_in'])"
   ]
  },
  {
   "cell_type": "code",
   "execution_count": 11,
   "id": "78ddfce0-580a-4209-9274-8a7556cdb16b",
   "metadata": {},
   "outputs": [
    {
     "name": "stdout",
     "output_type": "stream",
     "text": [
      "mse_elevation=[28.244099285990192, 15.69056779620483, 14.565783093123592]\n",
      "mse_elevation=[28.244099285990192, 15.729614146740058, 14.546645023303531]\n",
      "mse_elevation=[28.244099285990192, 15.705293440017003, 14.708041892899528]\n",
      "mse_elevation=[28.244099285990192, 15.690994375927922, 14.547056981508897]\n",
      "mse_elevation=[28.244099285990192, 15.693218944879275, 14.535561345396665]\n"
     ]
    }
   ],
   "source": [
    "for _ in range(5):\n",
    "    # hyperparameters acquired in external experiment\n",
    "    linear_regression = LinearRegression()\n",
    "# {'n_estimators': 250, 'max_depth': None, 'min_samples_split': 2, 'max_samples': 0.9, 'verbose': True, 'n_jobs': -1}\n",
    "    random_forest = RandomForestRegressor(\n",
    "        n_estimators=250,\n",
    "        max_depth=None,\n",
    "        min_samples_split=2,\n",
    "        max_samples=0.9,\n",
    "        n_jobs=-1,\n",
    "        verbose=False,\n",
    "    )\n",
    "# {'n_estimators': 250, 'learning_rate': 0.06920452295047647, 'max_depth': 9, 'gamma': 0.8394660529847431, 'verbosity': 1, 'subsample': 0.9}\n",
    "    xgboost = XGBRegressor(\n",
    "        n_estimators=250,\n",
    "        learning_rate=0.06920452295047647,\n",
    "        max_depth=9,\n",
    "        gamma=0.8394660529847431,\n",
    "        verbosity=0,\n",
    "        n_jobs=-1,\n",
    "        subsample=0.9,\n",
    "        seed=np.random.randint(200)\n",
    "    )\n",
    "    linear_regression.fit(Xtrain, Ytrain)\n",
    "    xgboost.fit(Xtrain, Ytrain)\n",
    "    random_forest.fit(Xtrain, Ytrain)\n",
    "\n",
    "    mse_elevation = [\n",
    "        mean_squared_error(Ytest, linear_regression.predict(Xtest)),\n",
    "        mean_squared_error(Ytest, random_forest.predict(Xtest)),\n",
    "        mean_squared_error(Ytest, xgboost.predict(Xtest)),\n",
    "    ]\n",
    "\n",
    "    print(f\"{mse_elevation=}\")"
   ]
  },
  {
   "cell_type": "markdown",
   "id": "55f37aa1-78d4-447e-8347-50e664b3e2e0",
   "metadata": {},
   "source": [
    "# base"
   ]
  },
  {
   "cell_type": "code",
   "execution_count": 12,
   "id": "53e1cc30-8b9c-4e6b-99fd-e66f413af912",
   "metadata": {},
   "outputs": [],
   "source": [
    "df = pd.read_csv('/home/yusukemh/sadow_lts/personal/yusukemh/pi_casc/processed_datasets/dataset_6grid.csv')\n",
    "# split\n",
    "df_train = df.query('year < 1984')\n",
    "df_valid = df.query('1984 <= year < 1997')\n",
    "df_test = df.query('1997 <= year')\n",
    "\n",
    "# validation is now part of training\n",
    "df_train = pd.concat([df_train, df_valid])\n",
    "\n",
    "# assert df_train.shape[0] + df_valid.shape[0] + df_test.shape[0] == df.shape[0]\n",
    "\n",
    "# Define columns: lat, lon and 16 reanalysis variables\n",
    "columns = deepcopy(C_SINGLE + C_COMMON)\n",
    "for r in ['fold', 'skn', 'year', 'month', 'data_in']:\n",
    "    columns.remove(r)"
   ]
  },
  {
   "cell_type": "code",
   "execution_count": 13,
   "id": "5cbaa69a-8965-4f05-9ad5-de9f0a1ff60b",
   "metadata": {},
   "outputs": [],
   "source": [
    "Xtrain, Ytrain = np.array(df_train[columns]), np.array(df_train['data_in'])\n",
    "# Xvalid, Yvalid = np.array(df_valid[columns]), np.array(df_valid['data_in'])\n",
    "Xtest, Ytest = np.array(df_test[columns]), np.array(df_test['data_in'])"
   ]
  },
  {
   "cell_type": "code",
   "execution_count": 14,
   "id": "c49219b9-5220-4ddb-a2c7-ae00bcf6c4ea",
   "metadata": {},
   "outputs": [
    {
     "name": "stdout",
     "output_type": "stream",
     "text": [
      "mse_both=[28.103742379201332, 15.502646234168711, 14.389961242275575]\n",
      "mse_both=[28.103742379201332, 15.448611775830722, 14.343760692072244]\n",
      "mse_both=[28.103742379201332, 15.381690789666262, 14.339739555036964]\n",
      "mse_both=[28.103742379201332, 15.513950610992689, 14.139265357490848]\n",
      "mse_both=[28.103742379201332, 15.413886710498717, 14.379458164251638]\n"
     ]
    }
   ],
   "source": [
    "for _ in range(5):\n",
    "    # hyperparameters acquired in external experiment\n",
    "    linear_regression = LinearRegression()\n",
    "# {'n_estimators': 200, 'max_depth': None, 'min_samples_split': 4, 'max_samples': 0.9, 'verbose': True, 'n_jobs': -1}\n",
    "    random_forest = RandomForestRegressor(\n",
    "        n_estimators=200,\n",
    "        max_depth=None,\n",
    "        min_samples_split=4,\n",
    "        max_samples=0.9,\n",
    "        n_jobs=-1,\n",
    "        verbose=False,\n",
    "    )\n",
    "# {'n_estimators': 290, 'learning_rate': 0.07060599933250315, 'max_depth': 9, 'gamma': 1.6624472756128377, 'verbosity': 1, 'subsample': 0.9}\n",
    "    xgboost = XGBRegressor(\n",
    "        n_estimators=290,\n",
    "        learning_rate=0.07060599933250315,\n",
    "        max_depth=9,\n",
    "        gamma=1.6624472756128377,\n",
    "        verbosity=0,\n",
    "        n_jobs=-1,\n",
    "        subsample=0.9,\n",
    "        seed=np.random.randint(200)\n",
    "    )\n",
    "    \n",
    "    linear_regression.fit(Xtrain, Ytrain)\n",
    "    xgboost.fit(Xtrain, Ytrain)\n",
    "    random_forest.fit(Xtrain, Ytrain)\n",
    "\n",
    "    mse_both = [\n",
    "        mean_squared_error(Ytest, linear_regression.predict(Xtest)),\n",
    "        mean_squared_error(Ytest, random_forest.predict(Xtest)),\n",
    "        mean_squared_error(Ytest, xgboost.predict(Xtest)),\n",
    "    ]\n",
    "\n",
    "    print(f\"{mse_both=}\")"
   ]
  },
  {
   "cell_type": "code",
   "execution_count": 15,
   "id": "62f903af-80e4-4c7d-a32a-97fbc1e2a609",
   "metadata": {},
   "outputs": [
    {
     "name": "stdout",
     "output_type": "stream",
     "text": [
      "experiment complete\n"
     ]
    }
   ],
   "source": [
    "print('experiment complete')"
   ]
  },
  {
   "cell_type": "markdown",
   "id": "c383fd06-cd7a-45ac-9599-9c276030fe63",
   "metadata": {},
   "source": [
    "# aggregate the result"
   ]
  },
  {
   "cell_type": "code",
   "execution_count": 30,
   "id": "5da49c89-bee5-4a82-a5d3-4c17ebdb6d5c",
   "metadata": {},
   "outputs": [],
   "source": [
    "mse_minus_both = np.array([\n",
    "    [28.441917290043204, 16.05060261612638, 14.797502190478758],\n",
    "    [28.441917290043204, 16.005512575914732, 14.994085976683113],\n",
    "    [28.441917290043204, 15.830165296390414, 14.998828705338129],\n",
    "    [28.441917290043204, 16.01332550798357, 15.138467844416017],\n",
    "    [28.441917290043204, 15.874651872877877, 14.897695243254507],\n",
    "])\n",
    "    \n",
    "mse_minus_elevation = np.array([\n",
    "    [28.28869614325506, 15.785690293472552, 14.799707818146116],\n",
    "    [28.28869614325506, 15.593611442260926, 14.38357071100375],\n",
    "    [28.28869614325506, 15.652766688739858, 14.531793648269039],\n",
    "    [28.28869614325506, 15.661168944191925, 14.418745314520383],\n",
    "    [28.28869614325506, 15.677204409229171, 14.567720316976335],\n",
    "])\n",
    "\n",
    "mse_minus_seasonal = np.array([\n",
    "    [28.244099285990192, 15.69056779620483, 14.565783093123592],\n",
    "    [28.244099285990192, 15.729614146740058, 14.546645023303531],\n",
    "    [28.244099285990192, 15.705293440017003, 14.708041892899528],\n",
    "    [28.244099285990192, 15.690994375927922, 14.547056981508897],\n",
    "    [28.244099285990192, 15.693218944879275, 14.535561345396665],\n",
    "])\n",
    "mse_base = np.array([  \n",
    "    [28.103742379201332, 15.502646234168711, 14.389961242275575],\n",
    "    [28.103742379201332, 15.448611775830722, 14.343760692072244],\n",
    "    [28.103742379201332, 15.381690789666262, 14.339739555036964],\n",
    "    [28.103742379201332, 15.513950610992689, 14.139265357490848],\n",
    "    [28.103742379201332, 15.413886710498717, 14.379458164251638],\n",
    "])"
   ]
  },
  {
   "cell_type": "code",
   "execution_count": 35,
   "id": "d0b0e88e-9e10-4e6e-b51c-fa76c152959d",
   "metadata": {},
   "outputs": [],
   "source": [
    "rmse_base = np.sqrt(mse_base).mean(axis=0)\n",
    "rmse_minus_seasonal = np.sqrt(mse_minus_seasonal).mean(axis=0)\n",
    "rmse_minus_elevation = np.sqrt(mse_minus_elevation).mean(axis=0)\n",
    "rmse_minus_both = np.sqrt(mse_minus_both).mean(axis=0)\n",
    "\n",
    "std_base = np.sqrt(mse_base).std(axis=0)\n",
    "std_minus_seasonal = np.sqrt(mse_minus_seasonal).std(axis=0)\n",
    "std_minus_elevation = np.sqrt(mse_minus_elevation).std(axis=0)\n",
    "std_minus_both = np.sqrt(mse_minus_both).std(axis=0)"
   ]
  },
  {
   "cell_type": "code",
   "execution_count": 36,
   "id": "6086581d-b65e-4c9a-a5ae-3566463b99db",
   "metadata": {},
   "outputs": [
    {
     "data": {
      "text/plain": [
       "[array([5.30129629, 3.93091793, 3.78395158]),\n",
       " array([5.31451778, 3.96256662, 3.8184482 ]),\n",
       " array([5.31871189, 3.95904358, 3.81312725]),\n",
       " array([5.33309641, 3.99433788, 3.86847515])]"
      ]
     },
     "execution_count": 36,
     "metadata": {},
     "output_type": "execute_result"
    }
   ],
   "source": [
    "[rmse_base, rmse_minus_seasonal, rmse_minus_elevation, rmse_minus_both]"
   ]
  },
  {
   "cell_type": "code",
   "execution_count": 37,
   "id": "0631df3b-8f7b-4145-ba53-e3bf46fe6907",
   "metadata": {},
   "outputs": [
    {
     "data": {
      "text/plain": [
       "[array([0.        , 0.00643863, 0.01214183]),\n",
       " array([0.        , 0.00187303, 0.00842582]),\n",
       " array([0.        , 0.00789419, 0.01918691]),\n",
       " array([0.        , 0.01079313, 0.0146982 ])]"
      ]
     },
     "execution_count": 37,
     "metadata": {},
     "output_type": "execute_result"
    }
   ],
   "source": [
    "[std_base, std_minus_seasonal, std_minus_elevation, std_minus_both]"
   ]
  },
  {
   "cell_type": "code",
   "execution_count": 41,
   "id": "fd634d43-98bf-43c3-9046-47676272d632",
   "metadata": {},
   "outputs": [
    {
     "name": "stdout",
     "output_type": "stream",
     "text": [
      "\n"
     ]
    },
    {
     "data": {
      "image/png": "[encoded data removed]",
      "text/plain": [
       "<Figure size 600x400 with 1 Axes>"
      ]
     },
     "metadata": {
      "needs_background": "light"
     },
     "output_type": "display_data"
    }
   ],
   "source": [
    "min_value = np.min([rmse_base, rmse_minus_seasonal, rmse_minus_elevation, rmse_minus_both])\n",
    "\n",
    "n_bars=3\n",
    "width = 1/(n_bars + 3)\n",
    "\n",
    "fig, ax = plt.subplots(1, dpi=100)\n",
    "colors = ['tomato', 'skyblue', 'silver', 'forestgreen']\n",
    "for i, (mean, std) in enumerate(zip(\n",
    "    [rmse_base, rmse_minus_seasonal, rmse_minus_elevation, rmse_minus_both],\n",
    "    [std_base, std_minus_seasonal, std_minus_elevation, std_minus_both]\n",
    ")):\n",
    "    ax.bar(\n",
    "        x=np.arange(3) + i * width,\n",
    "        height=mean,\n",
    "        width=width,\n",
    "        color=colors[i],\n",
    "        yerr=std,\n",
    "        capsize=3,\n",
    "    )\n",
    "ax.set_xlim((-width,3))\n",
    "ax.hlines(y=min_value, xmin=-1, xmax=4, linestyle=\"--\", color=\"k\", linewidth=0.5)\n",
    "\n",
    "ax.set_xticks(np.arange(3) + width * 1.5)\n",
    "ax.set_xticklabels([\"Linear Regression\", \"Random Forest\", \"XGB\"], rotation=30)\n",
    "ax.legend(labels=[\"best model\", \"base\", \"+elev\", \"+season\", \"+elev, +season\"], loc=\"lower right\")\n",
    "ax.set_ylabel(\"RMSE\")\n",
    "ax.set_title(\"RMSE on different datasets and models\")\n",
    "print()\n",
    "plt.tight_layout()\n"
   ]
  },
  {
   "cell_type": "markdown",
   "id": "c91d35d6-1fbd-4c06-a399-a1a8c75e0eeb",
   "metadata": {},
   "source": [
    "# interpolation data"
   ]
  },
  {
   "cell_type": "code",
   "execution_count": 16,
   "id": "9d36e264-fdc1-426e-9bde-8e4300369835",
   "metadata": {},
   "outputs": [],
   "source": [
    "import pandas as pd\n",
    "df = pd.read_csv('/home/yusukemh/sadow_lts/personal/yusukemh/pi_casc/processed_datasets/dataset_interp_50.csv')"
   ]
  },
  {
   "cell_type": "code",
   "execution_count": 17,
   "id": "8b0eb68f-e8aa-4821-af3b-526cb968e034",
   "metadata": {},
   "outputs": [],
   "source": [
    "# interp does not have season_wet, so include here\n",
    "df['season_wet'] = df.apply(lambda row: 1 if row['month'] < 5 or row['month'] > 10 else 0, axis=1) # May - Oct is dry"
   ]
  },
  {
   "cell_type": "code",
   "execution_count": 18,
   "id": "4226ee24-f781-4d5e-a065-e281d00ddf5d",
   "metadata": {},
   "outputs": [],
   "source": [
    "# split\n",
    "df_train = df.query('year < 1984')\n",
    "df_valid = df.query('1984 <= year < 1997')\n",
    "df_test = df.query('1997 <= year')\n",
    "\n",
    "# validation is now part of training\n",
    "df_train = pd.concat([df_train, df_valid])\n",
    "\n",
    "# assert df_train.shape[0] + df_valid.shape[0] + df_test.shape[0] == df.shape[0]\n",
    "\n",
    "# Define columns: lat, lon and 16 reanalysis variables\n",
    "columns = deepcopy(C_SINGLE + C_COMMON)\n",
    "for r in ['fold', 'skn', 'year', 'month', 'data_in']:\n",
    "    columns.remove(r)"
   ]
  },
  {
   "cell_type": "code",
   "execution_count": 19,
   "id": "ea822a93-5a46-4302-86c2-c6fbf03c4a42",
   "metadata": {},
   "outputs": [],
   "source": [
    "Xtrain, Ytrain = np.array(df_train[columns]), np.array(df_train['data_in'])\n",
    "# Xvalid, Yvalid = np.array(df_valid[columns]), np.array(df_valid['data_in'])\n",
    "Xtest, Ytest = np.array(df_test[columns]), np.array(df_test['data_in'])"
   ]
  },
  {
   "cell_type": "code",
   "execution_count": 20,
   "id": "8d2e33b9-631e-41db-9003-a906581bc7d3",
   "metadata": {},
   "outputs": [
    {
     "name": "stdout",
     "output_type": "stream",
     "text": [
      "mse_50=[30.870810435701756, 16.8824847147644, 16.737484525791412]\n",
      "mse_50=[30.870810435701756, 16.913638100244494, 16.99915672927188]\n",
      "mse_50=[30.870810435701756, 16.745693224147132, 16.797468005321996]\n",
      "mse_50=[30.870810435701756, 16.89615269058676, 16.797637319701902]\n",
      "mse_50=[30.870810435701756, 16.72217512689879, 17.25199732536845]\n"
     ]
    }
   ],
   "source": [
    "for _ in range(5):\n",
    "    # hyperparameters acquired in external experiment\n",
    "    linear_regression = LinearRegression()\n",
    "# {'n_estimators': 110, 'max_depth': None, 'min_samples_split': 3, 'max_samples': 0.9, 'verbose': True, 'n_jobs': -1}\n",
    "    random_forest = RandomForestRegressor(\n",
    "        n_estimators=110,\n",
    "        max_depth=None,\n",
    "        min_samples_split=3,\n",
    "        max_samples=0.9,\n",
    "        n_jobs=-1,\n",
    "        verbose=False,\n",
    "    )\n",
    "# {'n_estimators': 170, 'learning_rate': 0.1779220800600283, 'max_depth': 7, 'gamma': 0.07281476022339861, 'verbosity': 1, 'subsample': 0.9}\n",
    "    xgboost = XGBRegressor(\n",
    "        n_estimators=170,\n",
    "        learning_rate=0.1779220800600283,\n",
    "        max_depth=7,\n",
    "        gamma=0.07281476022339861,\n",
    "        n_jobs=-1,\n",
    "        subsample=0.9,\n",
    "        seed=np.random.randint(100),\n",
    "        verbosity=0\n",
    "    )\n",
    "    linear_regression.fit(Xtrain, Ytrain)\n",
    "    xgboost.fit(Xtrain, Ytrain)\n",
    "    random_forest.fit(Xtrain, Ytrain)\n",
    "\n",
    "    mse_50 = [\n",
    "        mean_squared_error(Ytest, linear_regression.predict(Xtest)),\n",
    "        mean_squared_error(Ytest, random_forest.predict(Xtest)),\n",
    "        mean_squared_error(Ytest, xgboost.predict(Xtest)),\n",
    "    ]\n",
    "\n",
    "    print(f\"{mse_50=}\")"
   ]
  },
  {
   "cell_type": "code",
   "execution_count": 21,
   "id": "bb738884-eaa8-4070-9332-97fd9dd84611",
   "metadata": {},
   "outputs": [],
   "source": [
    "# interp 100\n",
    "import pandas as pd\n",
    "df = pd.read_csv('/home/yusukemh/sadow_lts/personal/yusukemh/pi_casc/processed_datasets/dataset_interp_100.csv')\n",
    "# interp does not have season_wet, so include here\n",
    "df['season_wet'] = df.apply(lambda row: 1 if row['month'] < 5 or row['month'] > 10 else 0, axis=1) # May - Oct is dry"
   ]
  },
  {
   "cell_type": "code",
   "execution_count": 22,
   "id": "4b3d692a-766b-491e-a042-d83eb506caf8",
   "metadata": {},
   "outputs": [],
   "source": [
    "# split\n",
    "df_train = df.query('year < 1984')\n",
    "df_valid = df.query('1984 <= year < 1997')\n",
    "df_test = df.query('1997 <= year')\n",
    "\n",
    "# validation is now part of training\n",
    "df_train = pd.concat([df_train, df_valid])\n",
    "\n",
    "# assert df_train.shape[0] + df_valid.shape[0] + df_test.shape[0] == df.shape[0]\n",
    "\n",
    "# Define columns: lat, lon and 16 reanalysis variables\n",
    "columns = deepcopy(C_SINGLE + C_COMMON)\n",
    "for r in ['fold', 'skn', 'year', 'month', 'data_in']:\n",
    "    columns.remove(r)\n",
    "    \n",
    "Xtrain, Ytrain = np.array(df_train[columns]), np.array(df_train['data_in'])\n",
    "# Xvalid, Yvalid = np.array(df_valid[columns]), np.array(df_valid['data_in'])\n",
    "Xtest, Ytest = np.array(df_test[columns]), np.array(df_test['data_in'])"
   ]
  },
  {
   "cell_type": "code",
   "execution_count": 23,
   "id": "18fd6fff-69b1-4deb-8b8c-23d27fed91f7",
   "metadata": {},
   "outputs": [
    {
     "name": "stdout",
     "output_type": "stream",
     "text": [
      "mse_50=[30.869342829328556, 16.563310406906403, 16.261630792557796]\n",
      "mse_50=[30.869342829328556, 16.612080456784742, 17.46244357480626]\n",
      "mse_50=[30.869342829328556, 16.60250226685596, 16.6883514757907]\n",
      "mse_50=[30.869342829328556, 16.56210649895411, 16.415629620260457]\n",
      "mse_50=[30.869342829328556, 16.681543270242756, 16.308968758678237]\n"
     ]
    }
   ],
   "source": [
    "for _ in range(5):\n",
    "    # hyperparameters acquired in external experiment\n",
    "    linear_regression = LinearRegression()\n",
    "# {'n_estimators': 280, 'max_depth': None, 'min_samples_split': 2, 'max_samples': 0.9, 'verbose': True, 'n_jobs': -1}\n",
    "    random_forest = RandomForestRegressor(\n",
    "        n_estimators=280,\n",
    "        max_depth=None,\n",
    "        min_samples_split=2,\n",
    "        max_samples=0.9,\n",
    "        n_jobs=-1,\n",
    "        verbose=False,\n",
    "    )\n",
    "# {'n_estimators': 200, 'learning_rate': 0.1381558613341375, 'max_depth': 8, 'gamma': 1.6222446682223346, 'verbosity': 1, 'subsample': 0.9}\n",
    "    xgboost = XGBRegressor(\n",
    "        n_estimators=200,\n",
    "        learning_rate=0.1381558613341375,\n",
    "        max_depth=8,\n",
    "        gamma=1.6222446682223346,\n",
    "        n_jobs=-1,\n",
    "        subsample=0.9,\n",
    "        seed=np.random.randint(100),\n",
    "        verbosity=0\n",
    "    )\n",
    "    linear_regression.fit(Xtrain, Ytrain)\n",
    "    xgboost.fit(Xtrain, Ytrain)\n",
    "    random_forest.fit(Xtrain, Ytrain)\n",
    "\n",
    "    mse_50 = [\n",
    "        mean_squared_error(Ytest, linear_regression.predict(Xtest)),\n",
    "        mean_squared_error(Ytest, random_forest.predict(Xtest)),\n",
    "        mean_squared_error(Ytest, xgboost.predict(Xtest)),\n",
    "    ]\n",
    "\n",
    "    print(f\"{mse_50=}\")"
   ]
  },
  {
   "cell_type": "code",
   "execution_count": 42,
   "id": "eae106fa-f115-4149-86bb-070f61bc46f7",
   "metadata": {},
   "outputs": [
    {
     "data": {
      "text/plain": [
       "[array([5.55615069, 4.10267366, 4.11293327]),\n",
       " array([5.55601861, 4.07483497, 4.07731501])]"
      ]
     },
     "execution_count": 42,
     "metadata": {},
     "output_type": "execute_result"
    }
   ],
   "source": [
    "mse_50 = np.array([\n",
    "    [30.870810435701756, 16.8824847147644, 16.737484525791412],\n",
    "    [30.870810435701756, 16.913638100244494, 16.99915672927188],\n",
    "    [30.870810435701756, 16.745693224147132, 16.797468005321996],\n",
    "    [30.870810435701756, 16.89615269058676, 16.797637319701902],\n",
    "    [30.870810435701756, 16.72217512689879, 17.25199732536845],\n",
    "])\n",
    "mse_100 = np.array([\n",
    "    [30.869342829328556, 16.563310406906403, 16.261630792557796],\n",
    "    [30.869342829328556, 16.612080456784742, 17.46244357480626],\n",
    "    [30.869342829328556, 16.60250226685596, 16.6883514757907],\n",
    "    [30.869342829328556, 16.56210649895411, 16.415629620260457],\n",
    "    [30.869342829328556, 16.681543270242756, 16.308968758678237],\n",
    "])\n",
    "\n",
    "rmse_50 = np.sqrt(mse_50).mean(axis=0)\n",
    "rmse_100 = np.sqrt(mse_100).mean(axis=0)\n",
    "std_50 = np.sqrt(mse_50).std(axis=0)\n",
    "std_100 = np.sqrt(mse_100).std(axis=0)\n",
    "\n",
    "[rmse_50, rmse_100]"
   ]
  },
  {
   "cell_type": "code",
   "execution_count": 43,
   "id": "1ddbb6c5-8339-4ce0-9883-7507c489f683",
   "metadata": {},
   "outputs": [
    {
     "data": {
      "text/plain": [
       "[array([0.        , 0.00988141, 0.02299413]),\n",
       " array([0.        , 0.00534327, 0.05391837])]"
      ]
     },
     "execution_count": 43,
     "metadata": {},
     "output_type": "execute_result"
    }
   ],
   "source": [
    "[std_50, std_100]"
   ]
  },
  {
   "cell_type": "markdown",
   "id": "ee102c06-4502-4b09-992d-6a4c2f4e1911",
   "metadata": {},
   "source": [
    "# 6grid"
   ]
  },
  {
   "cell_type": "code",
   "execution_count": 24,
   "id": "663f4b44-7966-44b4-a778-9686126052ed",
   "metadata": {},
   "outputs": [],
   "source": [
    "df = pd.read_csv('/home/yusukemh/sadow_lts/personal/yusukemh/pi_casc/processed_datasets/dataset_6grid.csv')\n",
    "# split\n",
    "df_train = df.query('year < 1984')\n",
    "df_valid = df.query('1984 <= year < 1997')\n",
    "df_test = df.query('1997 <= year')\n",
    "\n",
    "# validation is now part of training\n",
    "df_train = pd.concat([df_train, df_valid])\n",
    "\n",
    "# assert df_train.shape[0] + df_valid.shape[0] + df_test.shape[0] == df.shape[0]"
   ]
  },
  {
   "cell_type": "code",
   "execution_count": 25,
   "id": "2cd5aaa7-c5cf-4b9c-8120-05f4942a2bf2",
   "metadata": {},
   "outputs": [],
   "source": [
    "LABELS = [\n",
    "    'air2m_0', 'air1000_500_0', 'hgt500_0', 'hgt1000_0', 'omega500_0', 'pottemp1000-500_0', 'pottemp1000-850_0', 'pr_wtr_0', 'shum-uwnd-700_0', 'shum-uwnd-925_0', 'shum-vwnd-700_0', 'shum-vwnd-950_0', 'shum700_0', 'shum925_0', 'skt_0', 'slp_0', 'air2m_1', 'air1000_500_1', 'hgt500_1', 'hgt1000_1', 'omega500_1', 'pottemp1000-500_1', 'pottemp1000-850_1', 'pr_wtr_1', 'shum-uwnd-700_1', 'shum-uwnd-925_1', 'shum-vwnd-700_1', 'shum-vwnd-950_1', 'shum700_1', 'shum925_1', 'skt_1', 'slp_1', 'air2m_2', 'air1000_500_2', 'hgt500_2', 'hgt1000_2', 'omega500_2', 'pottemp1000-500_2', 'pottemp1000-850_2', 'pr_wtr_2', 'shum-uwnd-700_2', 'shum-uwnd-925_2', 'shum-vwnd-700_2', 'shum-vwnd-950_2', 'shum700_2', 'shum925_2', 'skt_2', 'slp_2', 'air2m_3', 'air1000_500_3', 'hgt500_3', 'hgt1000_3', 'omega500_3', 'pottemp1000-500_3', 'pottemp1000-850_3', 'pr_wtr_3', 'shum-uwnd-700_3', 'shum-uwnd-925_3', 'shum-vwnd-700_3', 'shum-vwnd-950_3', 'shum700_3', 'shum925_3', 'skt_3', 'slp_3', 'air2m_4', 'air1000_500_4', 'hgt500_4', 'hgt1000_4', 'omega500_4', 'pottemp1000-500_4', 'pottemp1000-850_4', 'pr_wtr_4', 'shum-uwnd-700_4', 'shum-uwnd-925_4', 'shum-vwnd-700_4', 'shum-vwnd-950_4', 'shum700_4', 'shum925_4', 'skt_4', 'slp_4', 'air2m_5', 'air1000_500_5', 'hgt500_5', 'hgt1000_5', 'omega500_5', 'pottemp1000-500_5', 'pottemp1000-850_5', 'pr_wtr_5', 'shum-uwnd-700_5', 'shum-uwnd-925_5', 'shum-vwnd-700_5', 'shum-vwnd-950_5', 'shum700_5', 'shum925_5', 'skt_5', 'slp_5', 'lat', 'lon', 'elevation', 'season_wet'\n",
    "]"
   ]
  },
  {
   "cell_type": "code",
   "execution_count": 26,
   "id": "f0f64c11-6955-4bbd-b664-69467d45700e",
   "metadata": {},
   "outputs": [],
   "source": [
    "Xtrain, Ytrain = np.array(df_train[LABELS]), np.array(df_train['data_in'])\n",
    "# Xvalid, Yvalid = np.array(df_valid[LABELS]), np.array(df_valid['data_in'])\n",
    "Xtest, Ytest = np.array(df_test[LABELS]), np.array(df_test['data_in'])"
   ]
  },
  {
   "cell_type": "code",
   "execution_count": 27,
   "id": "fdb8617f-1014-48a9-9cc5-e414d039adda",
   "metadata": {},
   "outputs": [
    {
     "name": "stdout",
     "output_type": "stream",
     "text": [
      "mse_50=[32.116899267699566, 15.929972980377721, 14.149929128723118]\n",
      "mse_50=[32.116899267699566, 15.925549460854207, 13.971653141593483]\n",
      "mse_50=[32.116899267699566, 15.992589571274534, 13.997741077000402]\n",
      "mse_50=[32.116899267699566, 15.891951681192078, 14.359908392946217]\n",
      "mse_50=[32.116899267699566, 15.917889061258736, 14.299013825719877]\n"
     ]
    }
   ],
   "source": [
    "\"\"\"\n",
    "params = {\n",
    "    \"n_estimators\": 220, #(150, 200)\n",
    "    \"max_depth\": None, #(None)\n",
    "    \"min_samples_split\": 2,\n",
    "    \"n_jobs\": -1,\n",
    "    \"verbose\" : False\n",
    "}\n",
    "\"\"\"\n",
    "\n",
    "for _ in range(5):\n",
    "    # hyperparameters acquired in external experiment\n",
    "    linear_regression = LinearRegression()\n",
    "# {'n_estimators': 230, 'max_depth': None, 'min_samples_split': 4, 'max_samples': 0.9, 'verbose': True, 'n_jobs': -1}\n",
    "    random_forest = RandomForestRegressor(\n",
    "        n_estimators=230,\n",
    "        max_depth=None,\n",
    "        min_samples_split=4,\n",
    "        max_samples=0.9,\n",
    "        n_jobs=-1,\n",
    "        verbose=False,\n",
    "    )\n",
    "# {'n_estimators': 270, 'learning_rate': 0.13603325346219045, 'max_depth': 6, 'gamma': 1.251511087785645, 'verbosity': 1, 'subsample': 0.9}\n",
    "    xgboost = XGBRegressor(\n",
    "        n_estimators=270,\n",
    "        learning_rate=0.13603325346219045,\n",
    "        max_depth=6,\n",
    "        gamma=1.251511087785645,\n",
    "        n_jobs=-1,\n",
    "        subsample=0.9,\n",
    "        seed=np.random.randint(100),\n",
    "        verbosity=0\n",
    "    )\n",
    "    linear_regression.fit(Xtrain, Ytrain)\n",
    "    xgboost.fit(Xtrain, Ytrain)\n",
    "    random_forest.fit(Xtrain, Ytrain)\n",
    "\n",
    "    mse_50 = [\n",
    "        mean_squared_error(Ytest, linear_regression.predict(Xtest)),\n",
    "        mean_squared_error(Ytest, random_forest.predict(Xtest)),\n",
    "        mean_squared_error(Ytest, xgboost.predict(Xtest)),\n",
    "    ]\n",
    "\n",
    "    print(f\"{mse_50=}\")"
   ]
  },
  {
   "cell_type": "code",
   "execution_count": 44,
   "id": "36202c4f-e1ef-473b-bd2a-ad03bb0dda4b",
   "metadata": {},
   "outputs": [],
   "source": [
    "mse_6grid = np.array([\n",
    "    [32.116899267699566, 15.929972980377721, 14.149929128723118],\n",
    "    [32.116899267699566, 15.925549460854207, 13.971653141593483],\n",
    "    [32.116899267699566, 15.992589571274534, 13.997741077000402],\n",
    "    [32.116899267699566, 15.891951681192078, 14.359908392946217],\n",
    "    [32.116899267699566, 15.917889061258736, 14.299013825719877],\n",
    "])"
   ]
  },
  {
   "cell_type": "code",
   "execution_count": 45,
   "id": "21ab3ac8-35e0-4465-95c8-12ce8da39545",
   "metadata": {},
   "outputs": [
    {
     "data": {
      "text/plain": [
       "array([5.66717736, 3.99143749, 3.76234256])"
      ]
     },
     "execution_count": 45,
     "metadata": {},
     "output_type": "execute_result"
    }
   ],
   "source": [
    "np.sqrt(mse_6grid).mean(axis=0)"
   ]
  },
  {
   "cell_type": "code",
   "execution_count": 46,
   "id": "1c7f0aad-7a63-4189-b168-7a498416f0a6",
   "metadata": {},
   "outputs": [
    {
     "data": {
      "text/plain": [
       "array([0.        , 0.00415992, 0.02067829])"
      ]
     },
     "execution_count": 46,
     "metadata": {},
     "output_type": "execute_result"
    }
   ],
   "source": [
    "np.sqrt(mse_6grid).std(axis=0)"
   ]
  }
 ],
 "metadata": {
  "kernelspec": {
   "display_name": "climate",
   "language": "python",
   "name": "climate"
  },
  "language_info": {
   "codemirror_mode": {
    "name": "ipython",
    "version": 3
   },
   "file_extension": ".py",
   "mimetype": "text/x-python",
   "name": "python",
   "nbconvert_exporter": "python",
   "pygments_lexer": "ipython3",
   "version": "3.9.7"
  }
 },
 "nbformat": 4,
 "nbformat_minor": 5
}

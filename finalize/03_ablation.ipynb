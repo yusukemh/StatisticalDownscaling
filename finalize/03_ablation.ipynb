{
 "cells": [
  {
   "cell_type": "code",
   "execution_count": 2,
   "id": "eba4cd00-88dc-402a-8368-18bf3e1be5a4",
   "metadata": {},
   "outputs": [],
   "source": [
    "import pandas as pd\n",
    "import numpy as np\n",
    "import os\n",
    "from config import C_COMMON, C_SINGLE, C_GRID\n",
    "from copy import deepcopy\n",
    "import time\n",
    "\n",
    "# import models\n",
    "from sklearn.metrics import mean_squared_error\n",
    "from sklearn.linear_model import LinearRegression\n",
    "from sklearn.ensemble import GradientBoostingRegressor, RandomForestRegressor\n",
    "from xgboost import XGBRegressor"
   ]
  },
  {
   "cell_type": "code",
   "execution_count": 2,
   "id": "0bf3bb5b-ef75-49f4-814c-9d7562eba564",
   "metadata": {},
   "outputs": [],
   "source": [
    "df = pd.read_csv('/home/yusukemh/sadow_lts/personal/yusukemh/pi_casc/processed_datasets/dataset_6grid.csv')"
   ]
  },
  {
   "cell_type": "markdown",
   "id": "385d8603-3cc5-4fb3-81c6-d95fcdbe1531",
   "metadata": {},
   "source": [
    "# base model"
   ]
  },
  {
   "cell_type": "code",
   "execution_count": 3,
   "id": "ace42611-a242-4eb6-9118-7e2b8003af9e",
   "metadata": {},
   "outputs": [],
   "source": [
    "df = pd.read_csv('/home/yusukemh/sadow_lts/personal/yusukemh/pi_casc/processed_datasets/dataset_6grid.csv')\n",
    "# split\n",
    "df_train = df.query('year < 1984')\n",
    "df_valid = df.query('1984 <= year < 1997')\n",
    "df_test = df.query('1997 <= year')\n",
    "\n",
    "assert df_train.shape[0] + df_valid.shape[0] + df_test.shape[0] == df.shape[0]\n",
    "\n",
    "# Define columns: lat, lon and 16 reanalysis variables\n",
    "columns = deepcopy(C_SINGLE + C_COMMON)\n",
    "for r in ['fold', 'skn', 'year', 'month', 'data_in', 'season_wet', 'elevation']:\n",
    "    columns.remove(r)"
   ]
  },
  {
   "cell_type": "code",
   "execution_count": 4,
   "id": "bf2562d0-e472-482c-94d2-e87df741ed0e",
   "metadata": {},
   "outputs": [
    {
     "data": {
      "text/plain": [
       "(0.5938163244321155, 0.19930748194473488, 0.20687619362314955)"
      ]
     },
     "execution_count": 4,
     "metadata": {},
     "output_type": "execute_result"
    }
   ],
   "source": [
    "df_train.shape[0]/df.shape[0], df_valid.shape[0]/df.shape[0], df_test.shape[0]/df.shape[0]"
   ]
  },
  {
   "cell_type": "code",
   "execution_count": 5,
   "id": "5d8991eb-4055-42e5-a0e5-95661bdbcc32",
   "metadata": {},
   "outputs": [
    {
     "data": {
      "text/plain": [
       "['air2m',\n",
       " 'air1000_500',\n",
       " 'hgt500',\n",
       " 'hgt1000',\n",
       " 'omega500',\n",
       " 'pottemp1000-500',\n",
       " 'pottemp1000-850',\n",
       " 'pr_wtr',\n",
       " 'shum-uwnd-700',\n",
       " 'shum-uwnd-925',\n",
       " 'shum-vwnd-700',\n",
       " 'shum-vwnd-950',\n",
       " 'shum700',\n",
       " 'shum925',\n",
       " 'skt',\n",
       " 'slp',\n",
       " 'lat',\n",
       " 'lon']"
      ]
     },
     "execution_count": 5,
     "metadata": {},
     "output_type": "execute_result"
    }
   ],
   "source": [
    "columns"
   ]
  },
  {
   "cell_type": "code",
   "execution_count": 6,
   "id": "f12dc852-030b-4c34-aeb6-0860f3854da5",
   "metadata": {},
   "outputs": [],
   "source": [
    "Xtrain, Ytrain = np.array(df_train[columns]), np.array(df_train['data_in'])\n",
    "Xvalid, Yvalid = np.array(df_valid[columns]), np.array(df_valid['data_in'])\n",
    "Xtest, Ytest = np.array(df_test[columns]), np.array(df_test['data_in'])"
   ]
  },
  {
   "cell_type": "code",
   "execution_count": 7,
   "id": "e34d4701-cd5c-47db-ae9d-65aa1c0781db",
   "metadata": {},
   "outputs": [
    {
     "name": "stdout",
     "output_type": "stream",
     "text": [
      "mse_base=[28.55376711301076, 17.78627188163026, 16.257087519664214]\n",
      "mse_base=[28.55376711301076, 17.77116719555559, 16.19685882533633]\n",
      "mse_base=[28.55376711301076, 17.66887617269526, 16.11259673255068]\n",
      "mse_base=[28.55376711301076, 17.814586917186457, 15.950886489985368]\n",
      "mse_base=[28.55376711301076, 17.85522221089766, 16.605416872783817]\n"
     ]
    }
   ],
   "source": [
    "for _ in range(5):\n",
    "    # hyperparameters acquired in external experiment\n",
    "    linear_regression = LinearRegression()\n",
    "    random_forest = RandomForestRegressor(\n",
    "        n_estimators=270,\n",
    "        max_depth=None,\n",
    "        min_samples_split=3,\n",
    "        n_jobs=-1,\n",
    "        verbose=False,\n",
    "    )\n",
    "\n",
    "    # gradient_boost = GradientBoostingRegressor(\n",
    "    #     n_estimators=240,\n",
    "    #     learning_rate=0.1,\n",
    "    #     max_depth=7,\n",
    "    #     min_samples_split=4,\n",
    "    #     verbose=False\n",
    "    # )\n",
    "\n",
    "    xgboost = XGBRegressor(\n",
    "        n_estimators=210,\n",
    "        learning_rate=0.1,\n",
    "        max_depth=9,\n",
    "        n_jobs=-1,\n",
    "        subsample=0.9,\n",
    "        seed=np.random.randint(100),\n",
    "        verbosity=0\n",
    "    )\n",
    "    linear_regression.fit(Xtrain, Ytrain)\n",
    "    xgboost.fit(Xtrain, Ytrain)\n",
    "    # gradient_boost.fit(Xtrain, Ytrain)\n",
    "    random_forest.fit(Xtrain, Ytrain)\n",
    "\n",
    "    mse_base = [\n",
    "        mean_squared_error(Ytest, linear_regression.predict(Xtest)),\n",
    "        mean_squared_error(Ytest, random_forest.predict(Xtest)),\n",
    "        # mean_squared_error(Ytest, gradient_boost.predict(Xtest)),\n",
    "        mean_squared_error(Ytest, xgboost.predict(Xtest)),\n",
    "    ]\n",
    "\n",
    "    print(f\"{mse_base=}\")"
   ]
  },
  {
   "cell_type": "markdown",
   "id": "d1b687b2-92df-40ee-8d22-0ad743b8b228",
   "metadata": {},
   "source": [
    "# include season_wet"
   ]
  },
  {
   "cell_type": "code",
   "execution_count": 8,
   "id": "87ea9c01-654c-406d-a199-d7902d3fae97",
   "metadata": {},
   "outputs": [],
   "source": [
    "df = pd.read_csv('/home/yusukemh/sadow_lts/personal/yusukemh/pi_casc/processed_datasets/dataset_6grid.csv')\n",
    "# split\n",
    "df_train = df.query('year < 1984')\n",
    "df_valid = df.query('1984 <= year < 1997')\n",
    "df_test = df.query('1997 <= year')\n",
    "\n",
    "assert df_train.shape[0] + df_valid.shape[0] + df_test.shape[0] == df.shape[0]\n",
    "\n",
    "# Define columns: lat, lon and 16 reanalysis variables\n",
    "columns = deepcopy(C_SINGLE + C_COMMON)\n",
    "for r in ['fold', 'skn', 'year', 'month', 'data_in', 'elevation']:\n",
    "    columns.remove(r)"
   ]
  },
  {
   "cell_type": "code",
   "execution_count": 9,
   "id": "9c80ffac-0b68-4eee-9250-2eb9e7f7a5d5",
   "metadata": {},
   "outputs": [
    {
     "data": {
      "text/plain": [
       "['air2m',\n",
       " 'air1000_500',\n",
       " 'hgt500',\n",
       " 'hgt1000',\n",
       " 'omega500',\n",
       " 'pottemp1000-500',\n",
       " 'pottemp1000-850',\n",
       " 'pr_wtr',\n",
       " 'shum-uwnd-700',\n",
       " 'shum-uwnd-925',\n",
       " 'shum-vwnd-700',\n",
       " 'shum-vwnd-950',\n",
       " 'shum700',\n",
       " 'shum925',\n",
       " 'skt',\n",
       " 'slp',\n",
       " 'season_wet',\n",
       " 'lat',\n",
       " 'lon']"
      ]
     },
     "execution_count": 9,
     "metadata": {},
     "output_type": "execute_result"
    }
   ],
   "source": [
    "columns"
   ]
  },
  {
   "cell_type": "code",
   "execution_count": 10,
   "id": "098f7a3e-3578-4510-9ec2-5a0c268e9e72",
   "metadata": {},
   "outputs": [],
   "source": [
    "Xtrain, Ytrain = np.array(df_train[columns]), np.array(df_train['data_in'])\n",
    "Xvalid, Yvalid = np.array(df_valid[columns]), np.array(df_valid['data_in'])\n",
    "Xtest, Ytest = np.array(df_test[columns]), np.array(df_test['data_in'])"
   ]
  },
  {
   "cell_type": "code",
   "execution_count": 11,
   "id": "e4185a88-b4f8-45f2-897c-397da38eb16e",
   "metadata": {},
   "outputs": [
    {
     "name": "stdout",
     "output_type": "stream",
     "text": [
      "mse_season=[28.53627284656808, 17.58145521752626, 15.629585733934086]\n",
      "mse_season=[28.53627284656808, 17.588620027244907, 15.599226688490853]\n",
      "mse_season=[28.53627284656808, 17.51413244474182, 15.873650094247918]\n",
      "mse_season=[28.53627284656808, 17.640903030139693, 15.631470012113601]\n",
      "mse_season=[28.53627284656808, 17.51830491316549, 15.687771754921602]\n"
     ]
    }
   ],
   "source": [
    "for _ in range(5):\n",
    "    # hyperparameters acquired in external experiment\n",
    "    linear_regression = LinearRegression()\n",
    "    random_forest = RandomForestRegressor(\n",
    "        n_estimators=270,\n",
    "        max_depth=None,\n",
    "        min_samples_split=3,\n",
    "        n_jobs=-1,\n",
    "        verbose=False,\n",
    "    )\n",
    "\n",
    "    # gradient_boost = GradientBoostingRegressor(\n",
    "    #     n_estimators=240,\n",
    "    #     learning_rate=0.1,\n",
    "    #     max_depth=7,\n",
    "    #     min_samples_split=4,\n",
    "    #     verbose=False\n",
    "    # )\n",
    "\n",
    "    xgboost = XGBRegressor(\n",
    "        n_estimators=210,\n",
    "        learning_rate=0.1,\n",
    "        max_depth=9,\n",
    "        n_jobs=-1,\n",
    "        subsample=0.9,\n",
    "        seed=np.random.randint(100),\n",
    "        verbosity=0\n",
    "    )\n",
    "    linear_regression.fit(Xtrain, Ytrain)\n",
    "    xgboost.fit(Xtrain, Ytrain)\n",
    "    # gradient_boost.fit(Xtrain, Ytrain)\n",
    "    random_forest.fit(Xtrain, Ytrain)\n",
    "\n",
    "    mse_season = [\n",
    "        mean_squared_error(Ytest, linear_regression.predict(Xtest)),\n",
    "        mean_squared_error(Ytest, random_forest.predict(Xtest)),\n",
    "        # mean_squared_error(Ytest, gradient_boost.predict(Xtest)),\n",
    "        mean_squared_error(Ytest, xgboost.predict(Xtest)),\n",
    "    ]\n",
    "\n",
    "    print(f\"{mse_season=}\")"
   ]
  },
  {
   "cell_type": "code",
   "execution_count": 12,
   "id": "6e3d8cc7-3f26-478e-9fc8-ca9440fbd6eb",
   "metadata": {},
   "outputs": [
    {
     "name": "stdout",
     "output_type": "stream",
     "text": [
      "\n"
     ]
    }
   ],
   "source": [
    "print()"
   ]
  },
  {
   "cell_type": "markdown",
   "id": "44cec0b6-d780-4a4e-b233-fbdbcbc45ca7",
   "metadata": {},
   "source": [
    "# include elevation"
   ]
  },
  {
   "cell_type": "code",
   "execution_count": 3,
   "id": "83539039-8d23-473a-b598-15ff87dba46c",
   "metadata": {},
   "outputs": [],
   "source": [
    "df = pd.read_csv('/home/yusukemh/sadow_lts/personal/yusukemh/pi_casc/processed_datasets/dataset_6grid.csv')\n",
    "# split\n",
    "df_train = df.query('year < 1984')\n",
    "df_valid = df.query('1984 <= year < 1997')\n",
    "df_test = df.query('1997 <= year')\n",
    "\n",
    "assert df_train.shape[0] + df_valid.shape[0] + df_test.shape[0] == df.shape[0]\n",
    "\n",
    "# Define columns: lat, lon and 16 reanalysis variables\n",
    "columns = deepcopy(C_SINGLE + C_COMMON)\n",
    "for r in ['fold', 'skn', 'year', 'month', 'data_in', 'season_wet']:\n",
    "    columns.remove(r)"
   ]
  },
  {
   "cell_type": "code",
   "execution_count": 4,
   "id": "96b6810d-d43c-4167-aab5-51f6abed9dd4",
   "metadata": {},
   "outputs": [
    {
     "data": {
      "text/plain": [
       "['air2m',\n",
       " 'air1000_500',\n",
       " 'hgt500',\n",
       " 'hgt1000',\n",
       " 'omega500',\n",
       " 'pottemp1000-500',\n",
       " 'pottemp1000-850',\n",
       " 'pr_wtr',\n",
       " 'shum-uwnd-700',\n",
       " 'shum-uwnd-925',\n",
       " 'shum-vwnd-700',\n",
       " 'shum-vwnd-950',\n",
       " 'shum700',\n",
       " 'shum925',\n",
       " 'skt',\n",
       " 'slp',\n",
       " 'elevation',\n",
       " 'lat',\n",
       " 'lon']"
      ]
     },
     "execution_count": 4,
     "metadata": {},
     "output_type": "execute_result"
    }
   ],
   "source": [
    "columns"
   ]
  },
  {
   "cell_type": "code",
   "execution_count": 5,
   "id": "f0c51ff2-a61a-481f-b51b-120ff0e1d284",
   "metadata": {},
   "outputs": [],
   "source": [
    "Xtrain, Ytrain = np.array(df_train[columns]), np.array(df_train['data_in'])\n",
    "Xvalid, Yvalid = np.array(df_valid[columns]), np.array(df_valid['data_in'])\n",
    "Xtest, Ytest = np.array(df_test[columns]), np.array(df_test['data_in'])"
   ]
  },
  {
   "cell_type": "code",
   "execution_count": 6,
   "id": "78ddfce0-580a-4209-9274-8a7556cdb16b",
   "metadata": {},
   "outputs": [
    {
     "name": "stdout",
     "output_type": "stream",
     "text": [
      "mse_elevation=[28.357063071091094, 17.87955954825587, 16.18592539724243]\n",
      "mse_elevation=[28.357063071091094, 17.89045772774496, 16.038790956249198]\n",
      "mse_elevation=[28.357063071091094, 17.857733681439473, 16.151139385692876]\n",
      "mse_elevation=[28.357063071091094, 17.989950574056042, 16.116957669566933]\n",
      "mse_elevation=[28.357063071091094, 17.892353331108275, 16.052188333607656]\n"
     ]
    }
   ],
   "source": [
    "for _ in range(5):\n",
    "    # hyperparameters acquired in external experiment\n",
    "    linear_regression = LinearRegression()\n",
    "    random_forest = RandomForestRegressor(\n",
    "        n_estimators=270,\n",
    "        max_depth=None,\n",
    "        min_samples_split=3,\n",
    "        n_jobs=-1,\n",
    "        verbose=False,\n",
    "    )\n",
    "\n",
    "    # gradient_boost = GradientBoostingRegressor(\n",
    "    #     n_estimators=240,\n",
    "    #     learning_rate=0.1,\n",
    "    #     max_depth=7,\n",
    "    #     min_samples_split=4,\n",
    "    #     verbose=False\n",
    "    # )\n",
    "\n",
    "    xgboost = XGBRegressor(\n",
    "        n_estimators=210,\n",
    "        learning_rate=0.1,\n",
    "        max_depth=9,\n",
    "        n_jobs=-1,\n",
    "        subsample=0.9,\n",
    "        seed=np.random.randint(100),\n",
    "        verbosity=0\n",
    "    )\n",
    "    linear_regression.fit(Xtrain, Ytrain)\n",
    "    xgboost.fit(Xtrain, Ytrain)\n",
    "    # gradient_boost.fit(Xtrain, Ytrain)\n",
    "    random_forest.fit(Xtrain, Ytrain)\n",
    "\n",
    "    mse_elevation = [\n",
    "        mean_squared_error(Ytest, linear_regression.predict(Xtest)),\n",
    "        mean_squared_error(Ytest, random_forest.predict(Xtest)),\n",
    "        # mean_squared_error(Ytest, gradient_boost.predict(Xtest)),\n",
    "        mean_squared_error(Ytest, xgboost.predict(Xtest)),\n",
    "    ]\n",
    "\n",
    "    print(f\"{mse_elevation=}\")"
   ]
  },
  {
   "cell_type": "markdown",
   "id": "55f37aa1-78d4-447e-8347-50e664b3e2e0",
   "metadata": {},
   "source": [
    "# include season and elevetion"
   ]
  },
  {
   "cell_type": "code",
   "execution_count": 17,
   "id": "53e1cc30-8b9c-4e6b-99fd-e66f413af912",
   "metadata": {},
   "outputs": [],
   "source": [
    "df = pd.read_csv('/home/yusukemh/sadow_lts/personal/yusukemh/pi_casc/processed_datasets/dataset_6grid.csv')\n",
    "# split\n",
    "df_train = df.query('year < 1984')\n",
    "df_valid = df.query('1984 <= year < 1997')\n",
    "df_test = df.query('1997 <= year')\n",
    "\n",
    "assert df_train.shape[0] + df_valid.shape[0] + df_test.shape[0] == df.shape[0]\n",
    "\n",
    "# Define columns: lat, lon and 16 reanalysis variables\n",
    "columns = deepcopy(C_SINGLE + C_COMMON)\n",
    "for r in ['fold', 'skn', 'year', 'month', 'data_in']:\n",
    "    columns.remove(r)"
   ]
  },
  {
   "cell_type": "code",
   "execution_count": 18,
   "id": "db64f1f5-f847-4d67-b994-4ffe558cc224",
   "metadata": {},
   "outputs": [
    {
     "data": {
      "text/plain": [
       "['air2m',\n",
       " 'air1000_500',\n",
       " 'hgt500',\n",
       " 'hgt1000',\n",
       " 'omega500',\n",
       " 'pottemp1000-500',\n",
       " 'pottemp1000-850',\n",
       " 'pr_wtr',\n",
       " 'shum-uwnd-700',\n",
       " 'shum-uwnd-925',\n",
       " 'shum-vwnd-700',\n",
       " 'shum-vwnd-950',\n",
       " 'shum700',\n",
       " 'shum925',\n",
       " 'skt',\n",
       " 'slp',\n",
       " 'season_wet',\n",
       " 'elevation',\n",
       " 'lat',\n",
       " 'lon']"
      ]
     },
     "execution_count": 18,
     "metadata": {},
     "output_type": "execute_result"
    }
   ],
   "source": [
    "columns"
   ]
  },
  {
   "cell_type": "code",
   "execution_count": 19,
   "id": "5cbaa69a-8965-4f05-9ad5-de9f0a1ff60b",
   "metadata": {},
   "outputs": [],
   "source": [
    "Xtrain, Ytrain = np.array(df_train[columns]), np.array(df_train['data_in'])\n",
    "Xvalid, Yvalid = np.array(df_valid[columns]), np.array(df_valid['data_in'])\n",
    "Xtest, Ytest = np.array(df_test[columns]), np.array(df_test['data_in'])"
   ]
  },
  {
   "cell_type": "code",
   "execution_count": 21,
   "id": "c49219b9-5220-4ddb-a2c7-ae00bcf6c4ea",
   "metadata": {},
   "outputs": [
    {
     "name": "stdout",
     "output_type": "stream",
     "text": [
      "mse_elevation=[28.361727224643428, 17.726565081322807, 15.549596008556053]\n",
      "mse_elevation=[28.361727224643428, 17.572321477732814, 15.692316187129334]\n",
      "mse_elevation=[28.361727224643428, 17.645544978550003, 15.50373426037234]\n",
      "mse_elevation=[28.361727224643428, 17.662670631672064, 15.58376857974831]\n",
      "mse_elevation=[28.361727224643428, 17.642892294225827, 15.605503052755706]\n"
     ]
    }
   ],
   "source": [
    "for _ in range(5):\n",
    "    # hyperparameters acquired in external experiment\n",
    "    linear_regression = LinearRegression()\n",
    "    random_forest = RandomForestRegressor(\n",
    "        n_estimators=270,\n",
    "        max_depth=None,\n",
    "        min_samples_split=3,\n",
    "        n_jobs=-1,\n",
    "        verbose=False,\n",
    "    )\n",
    "\n",
    "    # gradient_boost = GradientBoostingRegressor(\n",
    "    #     n_estimators=240,\n",
    "    #     learning_rate=0.1,\n",
    "    #     max_depth=7,\n",
    "    #     min_samples_split=4,\n",
    "    #     verbose=False\n",
    "    # )\n",
    "\n",
    "    xgboost = XGBRegressor(\n",
    "        n_estimators=210,\n",
    "        learning_rate=0.1,\n",
    "        max_depth=9,\n",
    "        n_jobs=-1,\n",
    "        subsample=0.9,\n",
    "        seed=np.random.randint(100),\n",
    "        verbosity=0\n",
    "    )\n",
    "    linear_regression.fit(Xtrain, Ytrain)\n",
    "    xgboost.fit(Xtrain, Ytrain)\n",
    "    # gradient_boost.fit(Xtrain, Ytrain)\n",
    "    random_forest.fit(Xtrain, Ytrain)\n",
    "\n",
    "    mse_elevation = [\n",
    "        mean_squared_error(Ytest, linear_regression.predict(Xtest)),\n",
    "        mean_squared_error(Ytest, random_forest.predict(Xtest)),\n",
    "        # mean_squared_error(Ytest, gradient_boost.predict(Xtest)),\n",
    "        mean_squared_error(Ytest, xgboost.predict(Xtest)),\n",
    "    ]\n",
    "\n",
    "    print(f\"{mse_elevation=}\")"
   ]
  },
  {
   "cell_type": "markdown",
   "id": "c383fd06-cd7a-45ac-9599-9c276030fe63",
   "metadata": {},
   "source": [
    "# aggregate the result"
   ]
  },
  {
   "cell_type": "code",
   "execution_count": null,
   "id": "5da49c89-bee5-4a82-a5d3-4c17ebdb6d5c",
   "metadata": {},
   "outputs": [],
   "source": [
    "mse_base = np.array([\n",
    "    [28.55376711301076, 17.827354120626243, 16.137055180031865],\n",
    "    [28.55376711301076, 17.729751839262384, 16.31463228926157],\n",
    "    [28.55376711301076, 17.79919408808512, 16.076161784594714],\n",
    "    [28.55376711301076, 17.788756089407414, 16.341311856808936],\n",
    "    [28.55376711301076, 17.784662904669247, 16.23757490754904]\n",
    "])\n",
    "\n",
    "mse_season = np.array([\n",
    "    [28.55376711301076, 17.827354120626243, 16.137055180031865],\n",
    "    [28.55376711301076, 17.729751839262384, 16.31463228926157],\n",
    "    [28.55376711301076, 17.79919408808512, 16.076161784594714],\n",
    "    [28.55376711301076, 17.788756089407414, 16.341311856808936],\n",
    "    [28.55376711301076, 17.784662904669247, 16.23757490754904]\n",
    "])\n",
    "\n",
    "mse_elevation = np.array([\n",
    "    [28.55376711301076, 17.827354120626243, 16.137055180031865],\n",
    "    [28.55376711301076, 17.729751839262384, 16.31463228926157],\n",
    "    [28.55376711301076, 17.79919408808512, 16.076161784594714],\n",
    "    [28.55376711301076, 17.788756089407414, 16.341311856808936],\n",
    "    [28.55376711301076, 17.784662904669247, 16.23757490754904]\n",
    "])\n",
    "\n",
    "mse_both = np.array([\n",
    "    [28.55376711301076, 17.827354120626243, 16.137055180031865],\n",
    "    [28.55376711301076, 17.729751839262384, 16.31463228926157],\n",
    "    [28.55376711301076, 17.79919408808512, 16.076161784594714],\n",
    "    [28.55376711301076, 17.788756089407414, 16.341311856808936],\n",
    "    [28.55376711301076, 17.784662904669247, 16.23757490754904]\n",
    "])\n"
   ]
  },
  {
   "cell_type": "code",
   "execution_count": null,
   "id": "fd634d43-98bf-43c3-9046-47676272d632",
   "metadata": {},
   "outputs": [],
   "source": []
  },
  {
   "cell_type": "code",
   "execution_count": null,
   "id": "6f88559e-dce5-4a8c-a96e-09fe55959f89",
   "metadata": {},
   "outputs": [],
   "source": []
  },
  {
   "cell_type": "code",
   "execution_count": null,
   "id": "b5a4c576-3b90-4ecf-99a8-86550aa00723",
   "metadata": {},
   "outputs": [],
   "source": []
  },
  {
   "cell_type": "code",
   "execution_count": null,
   "id": "0dc2780a-5237-49a1-a3e6-aa78e602e621",
   "metadata": {},
   "outputs": [],
   "source": []
  },
  {
   "cell_type": "code",
   "execution_count": null,
   "id": "9d36e264-fdc1-426e-9bde-8e4300369835",
   "metadata": {},
   "outputs": [],
   "source": []
  },
  {
   "cell_type": "code",
   "execution_count": null,
   "id": "4226ee24-f781-4d5e-a065-e281d00ddf5d",
   "metadata": {},
   "outputs": [],
   "source": []
  },
  {
   "cell_type": "code",
   "execution_count": null,
   "id": "ea822a93-5a46-4302-86c2-c6fbf03c4a42",
   "metadata": {},
   "outputs": [],
   "source": []
  },
  {
   "cell_type": "code",
   "execution_count": null,
   "id": "8d2e33b9-631e-41db-9003-a906581bc7d3",
   "metadata": {},
   "outputs": [],
   "source": []
  },
  {
   "cell_type": "code",
   "execution_count": null,
   "id": "bb738884-eaa8-4070-9332-97fd9dd84611",
   "metadata": {},
   "outputs": [],
   "source": []
  },
  {
   "cell_type": "code",
   "execution_count": 19,
   "id": "73a3ee29-31ae-4012-a4e6-bd746026d5fd",
   "metadata": {},
   "outputs": [
    {
     "data": {
      "text/plain": [
       "(16.12653608279494,)"
      ]
     },
     "execution_count": 19,
     "metadata": {},
     "output_type": "execute_result"
    }
   ],
   "source": [
    "xgboost = XGBRegressor(\n",
    "        n_estimators=210,\n",
    "        learning_rate=0.1,\n",
    "        max_depth=9,\n",
    "        n_jobs=-1,\n",
    "        subsample=0.9,\n",
    "        seed=42,\n",
    "        verbosity=0\n",
    ")\n",
    "\n",
    "xgboost.fit(Xtrain, Ytrain)\n",
    "mean_squared_error(Ytest, xgboost.predict(Xtest)),"
   ]
  },
  {
   "cell_type": "code",
   "execution_count": 18,
   "id": "ad121dbb-2532-470b-98d1-b3a9d160929a",
   "metadata": {},
   "outputs": [
    {
     "data": {
      "text/plain": [
       "(16.036249367238465,)"
      ]
     },
     "execution_count": 18,
     "metadata": {},
     "output_type": "execute_result"
    }
   ],
   "source": [
    "xgboost = XGBRegressor(\n",
    "        n_estimators=210,\n",
    "        learning_rate=0.1,\n",
    "        max_depth=9,\n",
    "        n_jobs=-1,\n",
    "        subsample=0.9,\n",
    "        verbosity=0,\n",
    "        seed=12\n",
    ")\n",
    "\n",
    "xgboost.fit(Xtrain, Ytrain)\n",
    "mean_squared_error(Ytest, xgboost.predict(Xtest)),"
   ]
  },
  {
   "cell_type": "code",
   "execution_count": null,
   "id": "4b3d692a-766b-491e-a042-d83eb506caf8",
   "metadata": {},
   "outputs": [],
   "source": []
  }
 ],
 "metadata": {
  "kernelspec": {
   "display_name": "climate",
   "language": "python",
   "name": "climate"
  },
  "language_info": {
   "codemirror_mode": {
    "name": "ipython",
    "version": 3
   },
   "file_extension": ".py",
   "mimetype": "text/x-python",
   "name": "python",
   "nbconvert_exporter": "python",
   "pygments_lexer": "ipython3",
   "version": "3.9.7"
  }
 },
 "nbformat": 4,
 "nbformat_minor": 5
}

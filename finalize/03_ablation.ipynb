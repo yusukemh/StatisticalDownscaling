{
 "cells": [
  {
   "cell_type": "code",
   "execution_count": 14,
   "id": "eba4cd00-88dc-402a-8368-18bf3e1be5a4",
   "metadata": {},
   "outputs": [],
   "source": [
    "import pandas as pd\n",
    "import numpy as np\n",
    "import os\n",
    "from config import C_COMMON, C_SINGLE, C_GRID\n",
    "from copy import deepcopy\n",
    "import time\n",
    "import matplotlib.pyplot as plt\n",
    "\n",
    "# import models\n",
    "from sklearn.metrics import mean_squared_error\n",
    "from sklearn.linear_model import LinearRegression\n",
    "from sklearn.ensemble import GradientBoostingRegressor, RandomForestRegressor\n",
    "from xgboost import XGBRegressor"
   ]
  },
  {
   "cell_type": "code",
   "execution_count": 2,
   "id": "0bf3bb5b-ef75-49f4-814c-9d7562eba564",
   "metadata": {},
   "outputs": [],
   "source": [
    "df = pd.read_csv('/home/yusukemh/sadow_lts/personal/yusukemh/pi_casc/processed_datasets/dataset_6grid.csv')"
   ]
  },
  {
   "cell_type": "markdown",
   "id": "385d8603-3cc5-4fb3-81c6-d95fcdbe1531",
   "metadata": {},
   "source": [
    "# base model"
   ]
  },
  {
   "cell_type": "code",
   "execution_count": 3,
   "id": "ace42611-a242-4eb6-9118-7e2b8003af9e",
   "metadata": {},
   "outputs": [],
   "source": [
    "df = pd.read_csv('/home/yusukemh/sadow_lts/personal/yusukemh/pi_casc/processed_datasets/dataset_6grid.csv')\n",
    "# split\n",
    "df_train = df.query('year < 1984')\n",
    "df_valid = df.query('1984 <= year < 1997')\n",
    "df_test = df.query('1997 <= year')\n",
    "\n",
    "assert df_train.shape[0] + df_valid.shape[0] + df_test.shape[0] == df.shape[0]\n",
    "\n",
    "# Define columns: lat, lon and 16 reanalysis variables\n",
    "columns = deepcopy(C_SINGLE + C_COMMON)\n",
    "for r in ['fold', 'skn', 'year', 'month', 'data_in', 'season_wet', 'elevation']:\n",
    "    columns.remove(r)"
   ]
  },
  {
   "cell_type": "code",
   "execution_count": 6,
   "id": "f12dc852-030b-4c34-aeb6-0860f3854da5",
   "metadata": {},
   "outputs": [],
   "source": [
    "Xtrain, Ytrain = np.array(df_train[columns]), np.array(df_train['data_in'])\n",
    "Xvalid, Yvalid = np.array(df_valid[columns]), np.array(df_valid['data_in'])\n",
    "Xtest, Ytest = np.array(df_test[columns]), np.array(df_test['data_in'])"
   ]
  },
  {
   "cell_type": "code",
   "execution_count": 7,
   "id": "e34d4701-cd5c-47db-ae9d-65aa1c0781db",
   "metadata": {},
   "outputs": [
    {
     "name": "stdout",
     "output_type": "stream",
     "text": [
      "mse_base=[28.55376711301076, 17.78627188163026, 16.257087519664214]\n",
      "mse_base=[28.55376711301076, 17.77116719555559, 16.19685882533633]\n",
      "mse_base=[28.55376711301076, 17.66887617269526, 16.11259673255068]\n",
      "mse_base=[28.55376711301076, 17.814586917186457, 15.950886489985368]\n",
      "mse_base=[28.55376711301076, 17.85522221089766, 16.605416872783817]\n"
     ]
    }
   ],
   "source": [
    "for _ in range(5):\n",
    "    # hyperparameters acquired in external experiment\n",
    "    linear_regression = LinearRegression()\n",
    "    random_forest = RandomForestRegressor(\n",
    "        n_estimators=270,\n",
    "        max_depth=None,\n",
    "        min_samples_split=3,\n",
    "        n_jobs=-1,\n",
    "        verbose=False,\n",
    "    )\n",
    "\n",
    "    xgboost = XGBRegressor(\n",
    "        n_estimators=210,\n",
    "        learning_rate=0.1,\n",
    "        max_depth=9,\n",
    "        n_jobs=-1,\n",
    "        subsample=0.9,\n",
    "        seed=np.random.randint(100),\n",
    "        verbosity=0\n",
    "    )\n",
    "    linear_regression.fit(Xtrain, Ytrain)\n",
    "    xgboost.fit(Xtrain, Ytrain)\n",
    "    # gradient_boost.fit(Xtrain, Ytrain)\n",
    "    random_forest.fit(Xtrain, Ytrain)\n",
    "\n",
    "    mse_base = [\n",
    "        mean_squared_error(Ytest, linear_regression.predict(Xtest)),\n",
    "        mean_squared_error(Ytest, random_forest.predict(Xtest)),\n",
    "        # mean_squared_error(Ytest, gradient_boost.predict(Xtest)),\n",
    "        mean_squared_error(Ytest, xgboost.predict(Xtest)),\n",
    "    ]\n",
    "\n",
    "    print(f\"{mse_base=}\")"
   ]
  },
  {
   "cell_type": "markdown",
   "id": "d1b687b2-92df-40ee-8d22-0ad743b8b228",
   "metadata": {},
   "source": [
    "# include season_wet"
   ]
  },
  {
   "cell_type": "code",
   "execution_count": 8,
   "id": "87ea9c01-654c-406d-a199-d7902d3fae97",
   "metadata": {},
   "outputs": [],
   "source": [
    "df = pd.read_csv('/home/yusukemh/sadow_lts/personal/yusukemh/pi_casc/processed_datasets/dataset_6grid.csv')\n",
    "# split\n",
    "df_train = df.query('year < 1984')\n",
    "df_valid = df.query('1984 <= year < 1997')\n",
    "df_test = df.query('1997 <= year')\n",
    "\n",
    "assert df_train.shape[0] + df_valid.shape[0] + df_test.shape[0] == df.shape[0]\n",
    "\n",
    "# Define columns: lat, lon and 16 reanalysis variables\n",
    "columns = deepcopy(C_SINGLE + C_COMMON)\n",
    "for r in ['fold', 'skn', 'year', 'month', 'data_in', 'elevation']:\n",
    "    columns.remove(r)"
   ]
  },
  {
   "cell_type": "code",
   "execution_count": 10,
   "id": "098f7a3e-3578-4510-9ec2-5a0c268e9e72",
   "metadata": {},
   "outputs": [],
   "source": [
    "Xtrain, Ytrain = np.array(df_train[columns]), np.array(df_train['data_in'])\n",
    "Xvalid, Yvalid = np.array(df_valid[columns]), np.array(df_valid['data_in'])\n",
    "Xtest, Ytest = np.array(df_test[columns]), np.array(df_test['data_in'])"
   ]
  },
  {
   "cell_type": "code",
   "execution_count": 11,
   "id": "e4185a88-b4f8-45f2-897c-397da38eb16e",
   "metadata": {},
   "outputs": [
    {
     "name": "stdout",
     "output_type": "stream",
     "text": [
      "mse_season=[28.53627284656808, 17.58145521752626, 15.629585733934086]\n",
      "mse_season=[28.53627284656808, 17.588620027244907, 15.599226688490853]\n",
      "mse_season=[28.53627284656808, 17.51413244474182, 15.873650094247918]\n",
      "mse_season=[28.53627284656808, 17.640903030139693, 15.631470012113601]\n",
      "mse_season=[28.53627284656808, 17.51830491316549, 15.687771754921602]\n"
     ]
    }
   ],
   "source": [
    "for _ in range(5):\n",
    "    # hyperparameters acquired in external experiment\n",
    "    linear_regression = LinearRegression()\n",
    "    random_forest = RandomForestRegressor(\n",
    "        n_estimators=270,\n",
    "        max_depth=None,\n",
    "        min_samples_split=3,\n",
    "        n_jobs=-1,\n",
    "        verbose=False,\n",
    "    )\n",
    "\n",
    "    xgboost = XGBRegressor(\n",
    "        n_estimators=210,\n",
    "        learning_rate=0.1,\n",
    "        max_depth=9,\n",
    "        n_jobs=-1,\n",
    "        subsample=0.9,\n",
    "        seed=np.random.randint(100),\n",
    "        verbosity=0\n",
    "    )\n",
    "    linear_regression.fit(Xtrain, Ytrain)\n",
    "    xgboost.fit(Xtrain, Ytrain)\n",
    "    random_forest.fit(Xtrain, Ytrain)\n",
    "\n",
    "    mse_season = [\n",
    "        mean_squared_error(Ytest, linear_regression.predict(Xtest)),\n",
    "        mean_squared_error(Ytest, random_forest.predict(Xtest)),\n",
    "        mean_squared_error(Ytest, xgboost.predict(Xtest)),\n",
    "    ]\n",
    "\n",
    "    print(f\"{mse_season=}\")"
   ]
  },
  {
   "cell_type": "markdown",
   "id": "44cec0b6-d780-4a4e-b233-fbdbcbc45ca7",
   "metadata": {},
   "source": [
    "# include elevation"
   ]
  },
  {
   "cell_type": "code",
   "execution_count": 3,
   "id": "83539039-8d23-473a-b598-15ff87dba46c",
   "metadata": {},
   "outputs": [],
   "source": [
    "df = pd.read_csv('/home/yusukemh/sadow_lts/personal/yusukemh/pi_casc/processed_datasets/dataset_6grid.csv')\n",
    "# split\n",
    "df_train = df.query('year < 1984')\n",
    "df_valid = df.query('1984 <= year < 1997')\n",
    "df_test = df.query('1997 <= year')\n",
    "\n",
    "assert df_train.shape[0] + df_valid.shape[0] + df_test.shape[0] == df.shape[0]\n",
    "\n",
    "# Define columns: lat, lon and 16 reanalysis variables\n",
    "columns = deepcopy(C_SINGLE + C_COMMON)\n",
    "for r in ['fold', 'skn', 'year', 'month', 'data_in', 'season_wet']:\n",
    "    columns.remove(r)"
   ]
  },
  {
   "cell_type": "code",
   "execution_count": 5,
   "id": "f0c51ff2-a61a-481f-b51b-120ff0e1d284",
   "metadata": {},
   "outputs": [],
   "source": [
    "Xtrain, Ytrain = np.array(df_train[columns]), np.array(df_train['data_in'])\n",
    "Xvalid, Yvalid = np.array(df_valid[columns]), np.array(df_valid['data_in'])\n",
    "Xtest, Ytest = np.array(df_test[columns]), np.array(df_test['data_in'])"
   ]
  },
  {
   "cell_type": "code",
   "execution_count": 6,
   "id": "78ddfce0-580a-4209-9274-8a7556cdb16b",
   "metadata": {},
   "outputs": [
    {
     "name": "stdout",
     "output_type": "stream",
     "text": [
      "mse_elevation=[28.357063071091094, 17.87955954825587, 16.18592539724243]\n",
      "mse_elevation=[28.357063071091094, 17.89045772774496, 16.038790956249198]\n",
      "mse_elevation=[28.357063071091094, 17.857733681439473, 16.151139385692876]\n",
      "mse_elevation=[28.357063071091094, 17.989950574056042, 16.116957669566933]\n",
      "mse_elevation=[28.357063071091094, 17.892353331108275, 16.052188333607656]\n"
     ]
    }
   ],
   "source": [
    "for _ in range(5):\n",
    "    # hyperparameters acquired in external experiment\n",
    "    linear_regression = LinearRegression()\n",
    "    random_forest = RandomForestRegressor(\n",
    "        n_estimators=270,\n",
    "        max_depth=None,\n",
    "        min_samples_split=3,\n",
    "        n_jobs=-1,\n",
    "        verbose=False,\n",
    "    )\n",
    "\n",
    "    xgboost = XGBRegressor(\n",
    "        n_estimators=210,\n",
    "        learning_rate=0.1,\n",
    "        max_depth=9,\n",
    "        n_jobs=-1,\n",
    "        subsample=0.9,\n",
    "        seed=np.random.randint(100),\n",
    "        verbosity=0\n",
    "    )\n",
    "    linear_regression.fit(Xtrain, Ytrain)\n",
    "    xgboost.fit(Xtrain, Ytrain)\n",
    "    random_forest.fit(Xtrain, Ytrain)\n",
    "\n",
    "    mse_elevation = [\n",
    "        mean_squared_error(Ytest, linear_regression.predict(Xtest)),\n",
    "        mean_squared_error(Ytest, random_forest.predict(Xtest)),\n",
    "        mean_squared_error(Ytest, xgboost.predict(Xtest)),\n",
    "    ]\n",
    "\n",
    "    print(f\"{mse_elevation=}\")"
   ]
  },
  {
   "cell_type": "markdown",
   "id": "55f37aa1-78d4-447e-8347-50e664b3e2e0",
   "metadata": {},
   "source": [
    "# include season and elevetion"
   ]
  },
  {
   "cell_type": "code",
   "execution_count": 8,
   "id": "53e1cc30-8b9c-4e6b-99fd-e66f413af912",
   "metadata": {},
   "outputs": [],
   "source": [
    "df = pd.read_csv('/home/yusukemh/sadow_lts/personal/yusukemh/pi_casc/processed_datasets/dataset_6grid.csv')\n",
    "# split\n",
    "df_train = df.query('year < 1984')\n",
    "df_valid = df.query('1984 <= year < 1997')\n",
    "df_test = df.query('1997 <= year')\n",
    "\n",
    "assert df_train.shape[0] + df_valid.shape[0] + df_test.shape[0] == df.shape[0]\n",
    "\n",
    "# Define columns: lat, lon and 16 reanalysis variables\n",
    "columns = deepcopy(C_SINGLE + C_COMMON)\n",
    "for r in ['fold', 'skn', 'year', 'month', 'data_in']:\n",
    "    columns.remove(r)"
   ]
  },
  {
   "cell_type": "code",
   "execution_count": 10,
   "id": "5cbaa69a-8965-4f05-9ad5-de9f0a1ff60b",
   "metadata": {},
   "outputs": [],
   "source": [
    "Xtrain, Ytrain = np.array(df_train[columns]), np.array(df_train['data_in'])\n",
    "Xvalid, Yvalid = np.array(df_valid[columns]), np.array(df_valid['data_in'])\n",
    "Xtest, Ytest = np.array(df_test[columns]), np.array(df_test['data_in'])"
   ]
  },
  {
   "cell_type": "code",
   "execution_count": 11,
   "id": "c49219b9-5220-4ddb-a2c7-ae00bcf6c4ea",
   "metadata": {},
   "outputs": [
    {
     "name": "stdout",
     "output_type": "stream",
     "text": [
      "mse_both=[28.361727224643428, 17.553409756528342, 15.688108971107157]\n",
      "mse_both=[28.361727224643428, 17.678712012562496, 15.645789447919332]\n",
      "mse_both=[28.361727224643428, 17.68207406809452, 15.600515205837532]\n",
      "mse_both=[28.361727224643428, 17.654237608354315, 15.498803156271993]\n",
      "mse_both=[28.361727224643428, 17.656723315741324, 15.431661855714967]\n"
     ]
    }
   ],
   "source": [
    "for _ in range(5):\n",
    "    # hyperparameters acquired in external experiment\n",
    "    linear_regression = LinearRegression()\n",
    "    random_forest = RandomForestRegressor(\n",
    "        n_estimators=270,\n",
    "        max_depth=None,\n",
    "        min_samples_split=3,\n",
    "        n_jobs=-1,\n",
    "        verbose=False,\n",
    "    )\n",
    "\n",
    "    xgboost = XGBRegressor(\n",
    "        n_estimators=210,\n",
    "        learning_rate=0.1,\n",
    "        max_depth=9,\n",
    "        n_jobs=-1,\n",
    "        subsample=0.9,\n",
    "        seed=np.random.randint(100),\n",
    "        verbosity=0\n",
    "    )\n",
    "    linear_regression.fit(Xtrain, Ytrain)\n",
    "    xgboost.fit(Xtrain, Ytrain)\n",
    "    random_forest.fit(Xtrain, Ytrain)\n",
    "\n",
    "    mse_both = [\n",
    "        mean_squared_error(Ytest, linear_regression.predict(Xtest)),\n",
    "        mean_squared_error(Ytest, random_forest.predict(Xtest)),\n",
    "        mean_squared_error(Ytest, xgboost.predict(Xtest)),\n",
    "    ]\n",
    "\n",
    "    print(f\"{mse_both=}\")"
   ]
  },
  {
   "cell_type": "markdown",
   "id": "c383fd06-cd7a-45ac-9599-9c276030fe63",
   "metadata": {},
   "source": [
    "# aggregate the result"
   ]
  },
  {
   "cell_type": "code",
   "execution_count": 12,
   "id": "5da49c89-bee5-4a82-a5d3-4c17ebdb6d5c",
   "metadata": {},
   "outputs": [],
   "source": [
    "mse_base = np.array([\n",
    "    [28.55376711301076, 17.78627188163026, 16.257087519664214],\n",
    "    [28.55376711301076, 17.77116719555559, 16.19685882533633],\n",
    "    [28.55376711301076, 17.66887617269526, 16.11259673255068],\n",
    "    [28.55376711301076, 17.814586917186457, 15.950886489985368],\n",
    "    [28.55376711301076, 17.85522221089766, 16.605416872783817]\n",
    "])\n",
    "mse_season = np.array([\n",
    "    [28.53627284656808, 17.58145521752626, 15.629585733934086],\n",
    "    [28.53627284656808, 17.588620027244907, 15.599226688490853],\n",
    "    [28.53627284656808, 17.51413244474182, 15.873650094247918],\n",
    "    [28.53627284656808, 17.640903030139693, 15.631470012113601],\n",
    "    [28.53627284656808, 17.51830491316549, 15.687771754921602],\n",
    "])\n",
    "\n",
    "mse_elevation = np.array([\n",
    "    [28.357063071091094, 17.87955954825587, 16.18592539724243],\n",
    "    [28.357063071091094, 17.89045772774496, 16.038790956249198],\n",
    "    [28.357063071091094, 17.857733681439473, 16.151139385692876],\n",
    "    [28.357063071091094, 17.989950574056042, 16.116957669566933],\n",
    "    [28.357063071091094, 17.892353331108275, 16.052188333607656],\n",
    "])\n",
    "mse_both = np.array([\n",
    "    [28.361727224643428, 17.553409756528342, 15.688108971107157],\n",
    "    [28.361727224643428, 17.678712012562496, 15.645789447919332],\n",
    "    [28.361727224643428, 17.68207406809452, 15.600515205837532],\n",
    "    [28.361727224643428, 17.654237608354315, 15.498803156271993],\n",
    "    [28.361727224643428, 17.656723315741324, 15.431661855714967],\n",
    "])"
   ]
  },
  {
   "cell_type": "code",
   "execution_count": 78,
   "id": "d0b0e88e-9e10-4e6e-b51c-fa76c152959d",
   "metadata": {},
   "outputs": [],
   "source": [
    "rmse_base = np.sqrt(mse_base).mean(axis=0)\n",
    "rmse_season = np.sqrt(mse_season).mean(axis=0)\n",
    "rmse_elevation = np.sqrt(mse_elevation).mean(axis=0)\n",
    "rmse_both = np.sqrt(mse_both).mean(axis=0)\n",
    "\n",
    "std_base = np.sqrt(mse_base).std(axis=0)\n",
    "std_season = np.sqrt(mse_season).std(axis=0)\n",
    "std_elevation = np.sqrt(mse_elevation).std(axis=0)\n",
    "std_both = np.sqrt(mse_both).std(axis=0)"
   ]
  },
  {
   "cell_type": "code",
   "execution_count": 131,
   "id": "fd634d43-98bf-43c3-9046-47676272d632",
   "metadata": {},
   "outputs": [
    {
     "name": "stdout",
     "output_type": "stream",
     "text": [
      "\n"
     ]
    },
    {
     "data": {
      "image/png": "[encoded data removed]",
      "text/plain": [
       "<Figure size 600x400 with 1 Axes>"
      ]
     },
     "metadata": {
      "needs_background": "light"
     },
     "output_type": "display_data"
    }
   ],
   "source": [
    "min_value = np.min([rmse_base, rmse_season, rmse_elevation, rmse_both])\n",
    "\n",
    "n_bars=3\n",
    "width = 1/(n_bars + 3)\n",
    "\n",
    "fig, ax = plt.subplots(1, dpi=100)\n",
    "colors = ['tomato', 'skyblue', 'silver', 'forestgreen']\n",
    "for i, (mean, std) in enumerate(zip(\n",
    "    [rmse_base, rmse_season, rmse_elevation, rmse_both],\n",
    "    [std_base, std_season, std_elevation, std_both]\n",
    ")):\n",
    "    ax.bar(\n",
    "        x=np.arange(3) + i * width,\n",
    "        height=mean,\n",
    "        width=width,\n",
    "        color=colors[i],\n",
    "        yerr=std,\n",
    "        capsize=3,\n",
    "    )\n",
    "ax.set_xlim((-width,3))\n",
    "ax.hlines(y=min_value, xmin=-1, xmax=4, linestyle=\"--\", color=\"k\", linewidth=0.5)\n",
    "\n",
    "ax.set_xticks(np.arange(3) + width * 1.5)\n",
    "ax.set_xticklabels([\"Linear Regression\", \"Random Forest\", \"XGB\"], rotation=30)\n",
    "ax.legend(labels=[\"best model\", \"base\", \"+elev\", \"+season\", \"+elev, +season\"], loc=\"lower right\")\n",
    "ax.set_ylabel(\"RMSE\")\n",
    "ax.set_title(\"RMSE on different datasets and models\")\n",
    "print()\n",
    "plt.tight_layout()\n"
   ]
  },
  {
   "cell_type": "markdown",
   "id": "c91d35d6-1fbd-4c06-a399-a1a8c75e0eeb",
   "metadata": {},
   "source": [
    "# interpolation data"
   ]
  },
  {
   "cell_type": "code",
   "execution_count": 125,
   "id": "9d36e264-fdc1-426e-9bde-8e4300369835",
   "metadata": {},
   "outputs": [],
   "source": [
    "import pandas as pd\n",
    "df = pd.read_csv('/home/yusukemh/sadow_lts/personal/yusukemh/pi_casc/processed_datasets/dataset_interp_50.csv')"
   ]
  },
  {
   "cell_type": "code",
   "execution_count": 134,
   "id": "8b0eb68f-e8aa-4821-af3b-526cb968e034",
   "metadata": {},
   "outputs": [],
   "source": [
    "# interp does not have season_wet, so include here\n",
    "df['season_wet'] = df.apply(lambda row: 1 if row['month'] < 5 or row['month'] > 10 else 0, axis=1) # May - Oct is dry"
   ]
  },
  {
   "cell_type": "code",
   "execution_count": 135,
   "id": "e9a46fb7-69c6-4970-b6d9-e1592dcc6f0d",
   "metadata": {},
   "outputs": [
    {
     "data": {
      "text/plain": [
       "Index(['skn', 'year', 'month', 'data_in', 'name', 'lat', 'lon', 'elevation',\n",
       "       'Observer', 'Status2010', 'NumMos', 'MinYear', 'MaxYear', 'air2m',\n",
       "       'air1000_500', 'hgt500', 'hgt1000', 'omega500', 'pottemp1000-500',\n",
       "       'pottemp1000-850', 'pr_wtr', 'shum-uwnd-700', 'shum-uwnd-925',\n",
       "       'shum-vwnd-700', 'shum-vwnd-950', 'shum700', 'shum925', 'skt', 'slp',\n",
       "       'season_wet'],\n",
       "      dtype='object')"
      ]
     },
     "execution_count": 135,
     "metadata": {},
     "output_type": "execute_result"
    }
   ],
   "source": [
    "df.columns"
   ]
  },
  {
   "cell_type": "code",
   "execution_count": 136,
   "id": "4226ee24-f781-4d5e-a065-e281d00ddf5d",
   "metadata": {},
   "outputs": [],
   "source": [
    "# split\n",
    "df_train = df.query('year < 1984')\n",
    "df_valid = df.query('1984 <= year < 1997')\n",
    "df_test = df.query('1997 <= year')\n",
    "\n",
    "assert df_train.shape[0] + df_valid.shape[0] + df_test.shape[0] == df.shape[0]\n",
    "\n",
    "# Define columns: lat, lon and 16 reanalysis variables\n",
    "columns = deepcopy(C_SINGLE + C_COMMON)\n",
    "for r in ['fold', 'skn', 'year', 'month', 'data_in']:\n",
    "    columns.remove(r)"
   ]
  },
  {
   "cell_type": "code",
   "execution_count": 138,
   "id": "ea822a93-5a46-4302-86c2-c6fbf03c4a42",
   "metadata": {},
   "outputs": [],
   "source": [
    "Xtrain, Ytrain = np.array(df_train[columns]), np.array(df_train['data_in'])\n",
    "Xvalid, Yvalid = np.array(df_valid[columns]), np.array(df_valid['data_in'])\n",
    "Xtest, Ytest = np.array(df_test[columns]), np.array(df_test['data_in'])"
   ]
  },
  {
   "cell_type": "code",
   "execution_count": 139,
   "id": "8d2e33b9-631e-41db-9003-a906581bc7d3",
   "metadata": {},
   "outputs": [
    {
     "name": "stdout",
     "output_type": "stream",
     "text": [
      "mse_50=[30.922437300955757, 18.43779793588948, 16.49742019926365]\n",
      "mse_50=[30.922437300955757, 18.429768261909576, 16.514684492934283]\n",
      "mse_50=[30.922437300955757, 18.322848172241013, 16.767988202444823]\n",
      "mse_50=[30.922437300955757, 18.34747060523754, 16.844026667100636]\n",
      "mse_50=[30.922437300955757, 18.47105704909354, 16.79626668946499]\n"
     ]
    }
   ],
   "source": [
    "for _ in range(5):\n",
    "    # hyperparameters acquired in external experiment\n",
    "    linear_regression = LinearRegression()\n",
    "    random_forest = RandomForestRegressor(\n",
    "        n_estimators=270,\n",
    "        max_depth=None,\n",
    "        min_samples_split=3,\n",
    "        n_jobs=-1,\n",
    "        verbose=False,\n",
    "    )\n",
    "\n",
    "    xgboost = XGBRegressor(\n",
    "        n_estimators=210,\n",
    "        learning_rate=0.1,\n",
    "        max_depth=9,\n",
    "        n_jobs=-1,\n",
    "        subsample=0.9,\n",
    "        seed=np.random.randint(100),\n",
    "        verbosity=0\n",
    "    )\n",
    "    linear_regression.fit(Xtrain, Ytrain)\n",
    "    xgboost.fit(Xtrain, Ytrain)\n",
    "    random_forest.fit(Xtrain, Ytrain)\n",
    "\n",
    "    mse_50 = [\n",
    "        mean_squared_error(Ytest, linear_regression.predict(Xtest)),\n",
    "        mean_squared_error(Ytest, random_forest.predict(Xtest)),\n",
    "        mean_squared_error(Ytest, xgboost.predict(Xtest)),\n",
    "    ]\n",
    "\n",
    "    print(f\"{mse_50=}\")"
   ]
  },
  {
   "cell_type": "code",
   "execution_count": 140,
   "id": "bb738884-eaa8-4070-9332-97fd9dd84611",
   "metadata": {},
   "outputs": [],
   "source": [
    "# interp 100\n",
    "import pandas as pd\n",
    "df = pd.read_csv('/home/yusukemh/sadow_lts/personal/yusukemh/pi_casc/processed_datasets/dataset_interp_100.csv')\n",
    "# interp does not have season_wet, so include here\n",
    "df['season_wet'] = df.apply(lambda row: 1 if row['month'] < 5 or row['month'] > 10 else 0, axis=1) # May - Oct is dry"
   ]
  },
  {
   "cell_type": "code",
   "execution_count": 141,
   "id": "4b3d692a-766b-491e-a042-d83eb506caf8",
   "metadata": {},
   "outputs": [],
   "source": [
    "# split\n",
    "df_train = df.query('year < 1984')\n",
    "df_valid = df.query('1984 <= year < 1997')\n",
    "df_test = df.query('1997 <= year')\n",
    "\n",
    "assert df_train.shape[0] + df_valid.shape[0] + df_test.shape[0] == df.shape[0]\n",
    "\n",
    "# Define columns: lat, lon and 16 reanalysis variables\n",
    "columns = deepcopy(C_SINGLE + C_COMMON)\n",
    "for r in ['fold', 'skn', 'year', 'month', 'data_in']:\n",
    "    columns.remove(r)\n",
    "    \n",
    "Xtrain, Ytrain = np.array(df_train[columns]), np.array(df_train['data_in'])\n",
    "Xvalid, Yvalid = np.array(df_valid[columns]), np.array(df_valid['data_in'])\n",
    "Xtest, Ytest = np.array(df_test[columns]), np.array(df_test['data_in'])"
   ]
  },
  {
   "cell_type": "code",
   "execution_count": 142,
   "id": "18fd6fff-69b1-4deb-8b8c-23d27fed91f7",
   "metadata": {},
   "outputs": [
    {
     "name": "stdout",
     "output_type": "stream",
     "text": [
      "mse_50=[30.919258466162646, 18.307063849959423, 17.081798109299914]\n",
      "mse_50=[30.919258466162646, 18.270428634624796, 16.73472186989791]\n",
      "mse_50=[30.919258466162646, 18.19362563480852, 16.85443335782864]\n",
      "mse_50=[30.919258466162646, 18.27617017806098, 16.809456724279983]\n",
      "mse_50=[30.919258466162646, 18.203682808136303, 16.83875963971148]\n"
     ]
    }
   ],
   "source": [
    "for _ in range(5):\n",
    "    # hyperparameters acquired in external experiment\n",
    "    linear_regression = LinearRegression()\n",
    "    random_forest = RandomForestRegressor(\n",
    "        n_estimators=270,\n",
    "        max_depth=None,\n",
    "        min_samples_split=3,\n",
    "        n_jobs=-1,\n",
    "        verbose=False,\n",
    "    )\n",
    "\n",
    "    xgboost = XGBRegressor(\n",
    "        n_estimators=210,\n",
    "        learning_rate=0.1,\n",
    "        max_depth=9,\n",
    "        n_jobs=-1,\n",
    "        subsample=0.9,\n",
    "        seed=np.random.randint(100),\n",
    "        verbosity=0\n",
    "    )\n",
    "    linear_regression.fit(Xtrain, Ytrain)\n",
    "    xgboost.fit(Xtrain, Ytrain)\n",
    "    random_forest.fit(Xtrain, Ytrain)\n",
    "\n",
    "    mse_50 = [\n",
    "        mean_squared_error(Ytest, linear_regression.predict(Xtest)),\n",
    "        mean_squared_error(Ytest, random_forest.predict(Xtest)),\n",
    "        mean_squared_error(Ytest, xgboost.predict(Xtest)),\n",
    "    ]\n",
    "\n",
    "    print(f\"{mse_50=}\")"
   ]
  },
  {
   "cell_type": "code",
   "execution_count": null,
   "id": "eae106fa-f115-4149-86bb-070f61bc46f7",
   "metadata": {},
   "outputs": [],
   "source": [
    "# HYPERPARAMETERS ARE DIFFERENT...NONE OF THEM BUT NOBODY CARES, RIGHT?"
   ]
  }
 ],
 "metadata": {
  "kernelspec": {
   "display_name": "climate",
   "language": "python",
   "name": "climate"
  },
  "language_info": {
   "codemirror_mode": {
    "name": "ipython",
    "version": 3
   },
   "file_extension": ".py",
   "mimetype": "text/x-python",
   "name": "python",
   "nbconvert_exporter": "python",
   "pygments_lexer": "ipython3",
   "version": "3.9.7"
  }
 },
 "nbformat": 4,
 "nbformat_minor": 5
}

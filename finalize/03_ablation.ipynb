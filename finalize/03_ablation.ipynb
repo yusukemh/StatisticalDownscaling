{
 "cells": [
  {
   "cell_type": "code",
   "execution_count": 1,
   "id": "eba4cd00-88dc-402a-8368-18bf3e1be5a4",
   "metadata": {},
   "outputs": [],
   "source": [
    "import pandas as pd\n",
    "import numpy as np\n",
    "import os\n",
    "from config import C_COMMON, C_SINGLE, C_GRID\n",
    "from copy import deepcopy\n",
    "import time\n",
    "\n",
    "# import models\n",
    "from sklearn.metrics import mean_squared_error\n",
    "from sklearn.linear_model import LinearRegression\n",
    "from sklearn.ensemble import GradientBoostingRegressor, RandomForestRegressor\n",
    "from xgboost import XGBRegressor"
   ]
  },
  {
   "cell_type": "code",
   "execution_count": 2,
   "id": "ace42611-a242-4eb6-9118-7e2b8003af9e",
   "metadata": {},
   "outputs": [],
   "source": [
    "df = pd.read_csv('/home/yusukemh/sadow_lts/personal/yusukemh/pi_casc/processed_datasets/dataset_6grid.csv')"
   ]
  },
  {
   "cell_type": "code",
   "execution_count": 3,
   "id": "67761938-9ced-46c2-a835-d3e7b7dd4492",
   "metadata": {},
   "outputs": [],
   "source": [
    "df_train = df.query('year < 1984')\n",
    "df_valid = df.query('1984 <= year < 1997')\n",
    "df_test = df.query('1997 <= year')\n",
    "\n",
    "assert df_train.shape[0] + df_valid.shape[0] + df_test.shape[0] == df.shape[0]"
   ]
  },
  {
   "cell_type": "code",
   "execution_count": 4,
   "id": "97a1f974-6921-4911-9a4b-409bcec8beaf",
   "metadata": {},
   "outputs": [],
   "source": [
    "# lat, lon and 16 reanalysis variables\n",
    "columns = deepcopy(C_SINGLE + C_COMMON)\n",
    "for r in ['fold', 'skn', 'year', 'month', 'data_in', 'season_wet', 'elevation']:\n",
    "    columns.remove(r)"
   ]
  },
  {
   "cell_type": "code",
   "execution_count": 5,
   "id": "5d8991eb-4055-42e5-a0e5-95661bdbcc32",
   "metadata": {},
   "outputs": [
    {
     "data": {
      "text/plain": [
       "['air2m',\n",
       " 'air1000_500',\n",
       " 'hgt500',\n",
       " 'hgt1000',\n",
       " 'omega500',\n",
       " 'pottemp1000-500',\n",
       " 'pottemp1000-850',\n",
       " 'pr_wtr',\n",
       " 'shum-uwnd-700',\n",
       " 'shum-uwnd-925',\n",
       " 'shum-vwnd-700',\n",
       " 'shum-vwnd-950',\n",
       " 'shum700',\n",
       " 'shum925',\n",
       " 'skt',\n",
       " 'slp',\n",
       " 'lat',\n",
       " 'lon']"
      ]
     },
     "execution_count": 5,
     "metadata": {},
     "output_type": "execute_result"
    }
   ],
   "source": [
    "columns"
   ]
  },
  {
   "cell_type": "code",
   "execution_count": 6,
   "id": "f12dc852-030b-4c34-aeb6-0860f3854da5",
   "metadata": {},
   "outputs": [],
   "source": [
    "Xtrain, Ytrain = np.array(df_train[columns]), np.array(df_train['data_in'])\n",
    "Xvalid, Yvalid = np.array(df_valid[columns]), np.array(df_valid['data_in'])\n",
    "Xtest, Ytest = np.array(df_test[columns]), np.array(df_test['data_in'])"
   ]
  },
  {
   "cell_type": "code",
   "execution_count": 7,
   "id": "e34d4701-cd5c-47db-ae9d-65aa1c0781db",
   "metadata": {},
   "outputs": [
    {
     "name": "stdout",
     "output_type": "stream",
     "text": [
      "mse_base=[28.55376711301076, 17.827354120626243, 16.17704397140755, 16.137055180031865]\n",
      "mse_base=[28.55376711301076, 17.729751839262384, 16.177391441403287, 16.31463228926157]\n",
      "mse_base=[28.55376711301076, 17.79919408808512, 16.176232213967037, 16.076161784594714]\n",
      "mse_base=[28.55376711301076, 17.788756089407414, 16.337106846165064, 16.341311856808936]\n",
      "mse_base=[28.55376711301076, 17.784662904669247, 16.185710368627557, 16.23757490754904]\n"
     ]
    }
   ],
   "source": [
    "for _ in range(5):\n",
    "    # hyperparameters acquired in external experiment\n",
    "    linear_regression = LinearRegression()\n",
    "    random_forest = RandomForestRegressor(\n",
    "        n_estimators=270,\n",
    "        max_depth=None,\n",
    "        min_samples_split=3,\n",
    "        n_jobs=-1,\n",
    "        verbose=False,\n",
    "    )\n",
    "\n",
    "    gradient_boost = GradientBoostingRegressor(\n",
    "        n_estimators=240,\n",
    "        learning_rate=0.1,\n",
    "        max_depth=7,\n",
    "        min_samples_split=4,\n",
    "        verbose=False\n",
    "    )\n",
    "\n",
    "    xgboost = XGBRegressor(\n",
    "        n_estimators=210,\n",
    "        learning_rate=0.1,\n",
    "        max_depth=9,\n",
    "        n_jobs=-1,\n",
    "        subsample=0.9,\n",
    "        seed=np.random.randint(100),\n",
    "        verbosity=0\n",
    "    )\n",
    "    linear_regression.fit(Xtrain, Ytrain)\n",
    "    xgboost.fit(Xtrain, Ytrain)\n",
    "    gradient_boost.fit(Xtrain, Ytrain)\n",
    "    random_forest.fit(Xtrain, Ytrain)\n",
    "\n",
    "    mse_base = [\n",
    "        mean_squared_error(Ytest, linear_regression.predict(Xtest)),\n",
    "        mean_squared_error(Ytest, random_forest.predict(Xtest)),\n",
    "        mean_squared_error(Ytest, gradient_boost.predict(Xtest)),\n",
    "        mean_squared_error(Ytest, xgboost.predict(Xtest)),\n",
    "    ]\n",
    "\n",
    "    print(f\"{mse_base=}\")"
   ]
  },
  {
   "cell_type": "code",
   "execution_count": null,
   "id": "87ea9c01-654c-406d-a199-d7902d3fae97",
   "metadata": {},
   "outputs": [],
   "source": []
  },
  {
   "cell_type": "code",
   "execution_count": null,
   "id": "9c80ffac-0b68-4eee-9250-2eb9e7f7a5d5",
   "metadata": {},
   "outputs": [],
   "source": []
  },
  {
   "cell_type": "code",
   "execution_count": null,
   "id": "098f7a3e-3578-4510-9ec2-5a0c268e9e72",
   "metadata": {},
   "outputs": [],
   "source": []
  },
  {
   "cell_type": "code",
   "execution_count": null,
   "id": "5da49c89-bee5-4a82-a5d3-4c17ebdb6d5c",
   "metadata": {},
   "outputs": [],
   "source": []
  },
  {
   "cell_type": "code",
   "execution_count": null,
   "id": "fd634d43-98bf-43c3-9046-47676272d632",
   "metadata": {},
   "outputs": [],
   "source": []
  },
  {
   "cell_type": "code",
   "execution_count": null,
   "id": "bb738884-eaa8-4070-9332-97fd9dd84611",
   "metadata": {},
   "outputs": [],
   "source": []
  },
  {
   "cell_type": "code",
   "execution_count": 19,
   "id": "73a3ee29-31ae-4012-a4e6-bd746026d5fd",
   "metadata": {},
   "outputs": [
    {
     "data": {
      "text/plain": [
       "(16.12653608279494,)"
      ]
     },
     "execution_count": 19,
     "metadata": {},
     "output_type": "execute_result"
    }
   ],
   "source": [
    "xgboost = XGBRegressor(\n",
    "        n_estimators=210,\n",
    "        learning_rate=0.1,\n",
    "        max_depth=9,\n",
    "        n_jobs=-1,\n",
    "        subsample=0.9,\n",
    "        seed=42,\n",
    "        verbosity=0\n",
    ")\n",
    "\n",
    "xgboost.fit(Xtrain, Ytrain)\n",
    "mean_squared_error(Ytest, xgboost.predict(Xtest)),"
   ]
  },
  {
   "cell_type": "code",
   "execution_count": 18,
   "id": "ad121dbb-2532-470b-98d1-b3a9d160929a",
   "metadata": {},
   "outputs": [
    {
     "data": {
      "text/plain": [
       "(16.036249367238465,)"
      ]
     },
     "execution_count": 18,
     "metadata": {},
     "output_type": "execute_result"
    }
   ],
   "source": [
    "xgboost = XGBRegressor(\n",
    "        n_estimators=210,\n",
    "        learning_rate=0.1,\n",
    "        max_depth=9,\n",
    "        n_jobs=-1,\n",
    "        subsample=0.9,\n",
    "        verbosity=0,\n",
    "        seed=12\n",
    ")\n",
    "\n",
    "xgboost.fit(Xtrain, Ytrain)\n",
    "mean_squared_error(Ytest, xgboost.predict(Xtest)),"
   ]
  },
  {
   "cell_type": "code",
   "execution_count": null,
   "id": "4b3d692a-766b-491e-a042-d83eb506caf8",
   "metadata": {},
   "outputs": [],
   "source": []
  }
 ],
 "metadata": {
  "kernelspec": {
   "display_name": "climate",
   "language": "python",
   "name": "climate"
  },
  "language_info": {
   "codemirror_mode": {
    "name": "ipython",
    "version": 3
   },
   "file_extension": ".py",
   "mimetype": "text/x-python",
   "name": "python",
   "nbconvert_exporter": "python",
   "pygments_lexer": "ipython3",
   "version": "3.9.7"
  }
 },
 "nbformat": 4,
 "nbformat_minor": 5
}

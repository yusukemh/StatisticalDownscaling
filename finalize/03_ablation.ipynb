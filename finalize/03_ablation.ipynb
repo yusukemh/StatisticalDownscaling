{
 "cells": [
  {
   "cell_type": "code",
   "execution_count": 36,
   "id": "eba4cd00-88dc-402a-8368-18bf3e1be5a4",
   "metadata": {},
   "outputs": [],
   "source": [
    "import pandas as pd\n",
    "import numpy as np\n",
    "import os\n",
    "from config import C_COMMON, C_SINGLE, C_GRID\n",
    "from copy import deepcopy\n",
    "\n",
    "# import models\n",
    "from sklearn.metrics import mean_squared_error\n",
    "from sklearn.linear_model import LinearRegression\n",
    "from sklearn.ensemble import GradientBoostingRegressor, RandomForestRegressor\n",
    "from xgboost import XGBRegressor"
   ]
  },
  {
   "cell_type": "code",
   "execution_count": 40,
   "id": "ace42611-a242-4eb6-9118-7e2b8003af9e",
   "metadata": {},
   "outputs": [],
   "source": [
    "df = pd.read_csv('/home/yusukemh/sadow_lts/personal/yusukemh/pi_casc/processed_datasets/dataset_6grid.csv')"
   ]
  },
  {
   "cell_type": "code",
   "execution_count": 42,
   "id": "67761938-9ced-46c2-a835-d3e7b7dd4492",
   "metadata": {},
   "outputs": [],
   "source": [
    "df_train = df.query('year < 1984')\n",
    "df_valid = df.query('1984 <= year < 1997')\n",
    "df_test = df.query('1997 <= year')\n",
    "\n",
    "assert df_train.shape[0] + df_valid.shape[0] + df_test.shape[0] == df.shape[0]"
   ]
  },
  {
   "cell_type": "code",
   "execution_count": 4,
   "id": "64c24bff-7720-4beb-9c83-a0e8fe4619a8",
   "metadata": {},
   "outputs": [],
   "source": [
    "assert df_train.shape[0] + df_valid.shape[0] + df_test.shape[0] == df.shape[0]"
   ]
  },
  {
   "cell_type": "code",
   "execution_count": 49,
   "id": "97a1f974-6921-4911-9a4b-409bcec8beaf",
   "metadata": {},
   "outputs": [],
   "source": [
    "# lat, lon and 16 reanalysis variables\n",
    "columns = deepcopy(C_SINGLE + C_COMMON)\n",
    "for r in ['fold', 'skn', 'year', 'month', 'data_in', 'season_wet', 'elevation']:\n",
    "    columns.remove(r)"
   ]
  },
  {
   "cell_type": "code",
   "execution_count": 50,
   "id": "5d8991eb-4055-42e5-a0e5-95661bdbcc32",
   "metadata": {},
   "outputs": [
    {
     "data": {
      "text/plain": [
       "['air2m',\n",
       " 'air1000_500',\n",
       " 'hgt500',\n",
       " 'hgt1000',\n",
       " 'omega500',\n",
       " 'pottemp1000-500',\n",
       " 'pottemp1000-850',\n",
       " 'pr_wtr',\n",
       " 'shum-uwnd-700',\n",
       " 'shum-uwnd-925',\n",
       " 'shum-vwnd-700',\n",
       " 'shum-vwnd-950',\n",
       " 'shum700',\n",
       " 'shum925',\n",
       " 'skt',\n",
       " 'slp',\n",
       " 'lat',\n",
       " 'lon']"
      ]
     },
     "execution_count": 50,
     "metadata": {},
     "output_type": "execute_result"
    }
   ],
   "source": [
    "columns"
   ]
  },
  {
   "cell_type": "code",
   "execution_count": 54,
   "id": "f12dc852-030b-4c34-aeb6-0860f3854da5",
   "metadata": {},
   "outputs": [],
   "source": [
    "Xtrain, Ytrain = np.array(df_train[columns]), np.array(df_train['data_in'])\n",
    "Xvalid, Yvalid = np.array(df_valid[columns]), np.array(df_valid['data_in'])\n",
    "Xtest, Ytest = np.array(df_test[columns]), np.array(df_test['data_in'])"
   ]
  },
  {
   "cell_type": "code",
   "execution_count": null,
   "id": "e34d4701-cd5c-47db-ae9d-65aa1c0781db",
   "metadata": {},
   "outputs": [],
   "source": [
    "# hyperparameters acquired in external experiment\n",
    "linear_regression = LinearRegression()\n",
    "random_forest = RandomForestRegressor(\n",
    "    n_estimators=270,\n",
    "    max_depth=None,\n",
    "    min_samples_split=3,\n",
    "    n_jobs=-1,\n",
    "    verbose=False,\n",
    ")\n",
    "\n",
    "gradient_boost = GradientBoostingRegressor(\n",
    "    n_estimators=240, \n",
    "    learning_rate=0.1,\n",
    "    max_depth=7,\n",
    "    min_samples_split=4,\n",
    "    verbose=False\n",
    ")\n",
    "\n",
    "xgboost = XGBRegressor(\n",
    "    n_estimators=210,\n",
    "    learning_rate=0.1,\n",
    "    max_depth=9,\n",
    "    verbosity=0\n",
    ")\n",
    "\n",
    "linear_regression.fit(Xtrain, Ytrain)\n",
    "random_forest.fit(Xtrain, Ytrain)\n",
    "gradient_boost.fit(Xtrain, Ytrain)\n",
    "xgboost.fit(Xtrain, Ytrain)\n",
    "\n",
    "mse_wout_elev = [\n",
    "    mean_squared_error(Ytest, linear_regression.predict(Xtest)),\n",
    "    mean_squared_error(Ytest, random_forest.predict(Xtest)),\n",
    "    mean_squared_error(Ytest, gradient_boost.predict(Xtest)),\n",
    "    mean_squared_error(Ytest, xgboost.predict(Xtest)),\n",
    "]\n",
    "\n",
    "print(f\"{mse_wout_elev=}\")"
   ]
  }
 ],
 "metadata": {
  "kernelspec": {
   "display_name": "climate",
   "language": "python",
   "name": "climate"
  },
  "language_info": {
   "codemirror_mode": {
    "name": "ipython",
    "version": 3
   },
   "file_extension": ".py",
   "mimetype": "text/x-python",
   "name": "python",
   "nbconvert_exporter": "python",
   "pygments_lexer": "ipython3",
   "version": "3.9.7"
  }
 },
 "nbformat": 4,
 "nbformat_minor": 5
}

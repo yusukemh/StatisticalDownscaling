{
 "cells": [
  {
   "cell_type": "code",
   "execution_count": 56,
   "metadata": {},
   "outputs": [
    {
     "name": "stdin",
     "output_type": "stream",
     "text": [
      "Once deleted, variables cannot be recovered. Proceed (y/[n])?  y\n"
     ]
    }
   ],
   "source": [
    "%reset"
   ]
  },
  {
   "cell_type": "code",
   "execution_count": 1,
   "metadata": {},
   "outputs": [],
   "source": [
    "# basic libraries\n",
    "import numpy as np\n",
    "import pandas as pd\n",
    "import matplotlib.pyplot as plt\n",
    "\n",
    "# sklearn\n",
    "from sklearn.linear_model import LinearRegression\n",
    "from sklearn.model_selection import train_test_split, KFold, cross_val_predict, GridSearchCV\n",
    "from sklearn.metrics import mean_squared_error\n",
    "from sklearn.preprocessing import MinMaxScaler, OneHotEncoder, StandardScaler\n",
    "from sklearn.ensemble import GradientBoostingRegressor, RandomForestRegressor\n",
    "from sklearn.svm import SVR\n",
    "from sklearn.cluster import KMeans\n",
    "\n",
    "#others\n",
    "from xgboost import XGBRegressor\n",
    "import cartopy.crs as ccrs\n",
    "import cartopy.mpl.ticker as cticker\n",
    "import time\n",
    "import xarray as xr\n",
    "import sherpa\n",
    "import time\n",
    "from scipy.spatial import Delaunay\n",
    "from scipy import interpolate\n",
    "from copy import deepcopy\n",
    "\n",
    "# enable autoreload\n",
    "%load_ext autoreload\n",
    "%autoreload 2\n",
    "# Variables from config file\n",
    "from config import BASE_DIR, FILE_NAMES, LABELS, ATTRIBUTES, BEST_MODEL_COLUMNS, ISLAND_RANGES\n",
    "from math import pi as PI"
   ]
  },
  {
   "cell_type": "markdown",
   "metadata": {},
   "source": [
    "# Explore hyperparameter tuning for site-specific xgb models\n",
    "\n",
    "Site specific linear regression models performs better than single-xgb for the stations with higher numbers of samples. <br>\n",
    "<u>This is the case even if we have site-specific xgb models with shared hyperparameter.</u><br>\n",
    "Since a single xgb makes prediction for all stations, the model might not be using optimal hyperparameter in terms of the number of samples.<br>\n",
    "From now on, we test:\n",
    "### If we have site-specific xgb models with different hyperparameters (that are obtained via hyperparameter tuning), can xgb outperform linear regression?"
   ]
  },
  {
   "cell_type": "code",
   "execution_count": 4,
   "metadata": {},
   "outputs": [
    {
     "name": "stdout",
     "output_type": "stream",
     "text": [
      "RMSE using site-specific Linear Regression models: 4.098\n",
      "RMSE using a sigle XGBost model: 3.998\n",
      "\n"
     ]
    },
    {
     "data": {
      "image/png": "[encoded data removed]",
      "text/plain": [
       "<Figure size 1440x360 with 1 Axes>"
      ]
     },
     "metadata": {
      "needs_background": "light"
     },
     "output_type": "display_data"
    }
   ],
   "source": [
    "df_result = pd.read_csv(f\"{BASE_DIR}/SiteSpecific/result.csv\")\n",
    "\n",
    "rmse_per_station_linear = df_result.groupby(by=\"skn\").apply(lambda group: mean_squared_error(group['data_in'], group['prediction_multi_linear'], squared=False))\n",
    "rmse_per_station_xgb = df_result.groupby(by=\"skn\").apply(lambda group: mean_squared_error(group['data_in'], group['prediction_single_xgb'], squared=False))\n",
    "n_data = df_result.groupby(by=\"skn\").size()\n",
    "df_rmse = pd.DataFrame({\"n_data\": n_data, \"rmse_linear\": rmse_per_station_linear, \"rmse_xgb\": rmse_per_station_xgb})\n",
    "df_rmse['diff'] = df_rmse['rmse_linear'] - df_rmse['rmse_xgb']\n",
    "\n",
    "rmse_linear = mean_squared_error(df_result['data_in'], df_result['prediction_multi_linear'], squared=False)\n",
    "rmse_xgb = mean_squared_error(df_result['data_in'], df_result['prediction_single_xgb'], squared=False)\n",
    "\n",
    "print(\"RMSE using site-specific Linear Regression models: {:.3f}\".format(rmse_linear))\n",
    "print(\"RMSE using a sigle XGBost model: {:.3f}\".format(rmse_xgb))\n",
    "\n",
    "# df_stats = df_combined.groupby('skn').size().reset_index().rename(columns={0:\"n_data\"}).groupby(\"n_data\").size().reset_index().rename(columns={0: \"n_stations\"})\n",
    "\n",
    "fig, ax = plt.subplots(1, figsize=(20,5))\n",
    "ax.bar(\n",
    "    x=df_rmse['n_data'],\n",
    "    height=df_rmse['diff'],\n",
    "    width=1,\n",
    "    color=['b' if item >= 0 else 'r' for item in df_rmse['diff']],\n",
    "    alpha=0.3\n",
    ")\n",
    "\n",
    "\n",
    "ax.set_ylim((-100, 200))\n",
    "ax.axhline(y=0, linestyle='-', linewidth=1, color='k', alpha=0.2)\n",
    "ax.axvline(127, linewidth=1, color='orange')\n",
    "ax.set_xlabel('# of samples')\n",
    "ax.set_ylabel('RMSE in inch')\n",
    "# ax.axhline(y=100, linewidth=1, linestyle='--')\n",
    "    \n",
    "ax.set_title(\"RMSE(linear - xgb) per station: 5-fold cross validation\")\n",
    "ax.set(yscale='symlog')\n",
    "# plt.tight_layout()\n",
    "\n",
    "# ax.scatter(df_stats['n_data'], df_stats['n_stations'], s=1, c='k', marker='x')\n",
    "print()"
   ]
  },
  {
   "cell_type": "markdown",
   "metadata": {},
   "source": [
    "## Hyperparameter Tuning"
   ]
  },
  {
   "cell_type": "code",
   "execution_count": 24,
   "metadata": {},
   "outputs": [
    {
     "name": "stdout",
     "output_type": "stream",
     "text": [
      "air2m air1000_500 hgt500 hgt1000 omega500 pottemp1000-500 pottemp1000-850 pr_wtr shum-uwnd-700 shum-uwnd-925 shum-vwnd-700 shum-vwnd-950 shum700 shum925 skt slp season_wet elevation lat lon "
     ]
    }
   ],
   "source": [
    "# Split the stations by the number of samples available\n",
    "columns = deepcopy(LABELS)\n",
    "columns.extend([\"season_wet\", \"elevation\", \"lat\", \"lon\"])\n",
    "for item in columns:\n",
    "    print(item, end=' ')\n",
    "\n",
    "# load datasets\n",
    "df_train = pd.read_csv(f\"{BASE_DIR}/train.csv\", usecols=columns + ['year', 'month', 'skn', 'data_in'])\n",
    "df_valid = pd.read_csv(f\"{BASE_DIR}/valid.csv\", usecols=columns + ['year', 'month', 'skn', 'data_in'])\n",
    "df_test = pd.read_csv(f\"{BASE_DIR}/test.csv\", usecols=columns + ['year', 'month', 'skn', 'data_in'])\n",
    "df_combined = pd.concat([df_train, df_valid, df_test])"
   ]
  },
  {
   "cell_type": "markdown",
   "metadata": {},
   "source": [
    "# skn selsction:\n",
    "1. Split the entire data into two: everything 2007 (inclusive) and everything after 2007 (exclusive)\n",
    "2. select the stations which exist both on the test set and the training set, AND which have more than 400 training set."
   ]
  },
  {
   "cell_type": "code",
   "execution_count": 25,
   "metadata": {},
   "outputs": [],
   "source": [
    "# prepare held-out test set: any data after 2007 (exclusive)\n",
    "df_train_original = df_combined[df_combined['year'] <= 2007]\n",
    "df_test_original = df_combined[df_combined['year'] > 2007]\n",
    "\n",
    "# get the intersection\n",
    "intersection = set(df_test_original['skn'].unique()).intersection(set(df_train_original['skn'].unique()))\n",
    "df_intersection_skn = pd.DataFrame(intersection, columns={\"skn\"})\n",
    "\n",
    "df_train_intersection = df_train_original.merge(right=df_intersection_skn, left_on='skn', right_on='skn')\n",
    "df_test_intersection = df_test_original.merge(right=df_intersection_skn, left_on='skn', right_on='skn')\n",
    "\n",
    "# prune stations without enough data\n",
    "threshold = 400\n",
    "df_train_intersection_skn = df_train_intersection.groupby('skn').size().reset_index().rename(columns={0: \"n_samples\"})\n",
    "df_train_intersection_skn_high_samples = df_train_intersection_skn[df_train_intersection_skn[\"n_samples\"] > threshold]\n",
    "df_train = df_train_intersection.merge(right=df_train_intersection_skn_high_samples, left_on='skn', right_on='skn')\n",
    "df_test = df_test_intersection.merge(right=df_train_intersection_skn_high_samples, left_on='skn', right_on='skn')"
   ]
  },
  {
   "cell_type": "code",
   "execution_count": 26,
   "metadata": {},
   "outputs": [],
   "source": [
    "a = set(df_train['skn'].unique())\n",
    "b = set(df_test['skn'].unique())\n",
    "assert len(a - b) == 0\n",
    "assert len(b - a) == 0"
   ]
  },
  {
   "cell_type": "code",
   "execution_count": 7,
   "metadata": {},
   "outputs": [],
   "source": [
    "# hyperparameter tuning:\n",
    "# for a specific parameter, get site-specific predictions using cross_val_predict"
   ]
  },
  {
   "cell_type": "code",
   "execution_count": 27,
   "metadata": {},
   "outputs": [],
   "source": [
    "df_skn_samples = pd.DataFrame(np.random.choice(df_train['skn'].unique(), size=30, replace=False), columns={\"skn\"})\n",
    "df_train_samples = df_train.merge(right=df_skn_samples, left_on='skn', right_on='skn')"
   ]
  },
  {
   "cell_type": "code",
   "execution_count": 11,
   "metadata": {
    "collapsed": true,
    "jupyter": {
     "outputs_hidden": true
    }
   },
   "outputs": [
    {
     "name": "stderr",
     "output_type": "stream",
     "text": [
      "INFO:sherpa.core:\n",
      "-------------------------------------------------------\n",
      "SHERPA Dashboard running. Access via\n",
      "http://10.100.11.206:8880 if on a cluster or\n",
      "http://localhost:8880 if running locally.\n",
      "-------------------------------------------------------\n"
     ]
    },
    {
     "name": "stdout",
     "output_type": "stream",
     "text": [
      " * Serving Flask app 'sherpa.app.app' (lazy loading)\n",
      " * Environment: production\n",
      "\u001b[31m   WARNING: This is a development server. Do not use it in a production deployment.\u001b[0m\n",
      "\u001b[2m   Use a production WSGI server instead.\u001b[0m\n",
      " * Debug mode: on\n"
     ]
    },
    {
     "name": "stderr",
     "output_type": "stream",
     "text": [
      "WARNING:werkzeug: * Running on all addresses.\n",
      "   WARNING: This is a development server. Do not use it in a production deployment.\n"
     ]
    },
    {
     "name": "stdout",
     "output_type": "stream",
     "text": [
      "{'n_estimators': 250, 'learning_rate': 0.1, 'max_depth': 3, 'early_stopping_rounds': 6, 'verbosity': 0}\n",
      "RMSE on test set: 4.857173589587817\n",
      "{'n_estimators': 300, 'learning_rate': 0.05, 'max_depth': 4, 'early_stopping_rounds': 6, 'verbosity': 0}\n"
     ]
    },
    {
     "ename": "KeyboardInterrupt",
     "evalue": "",
     "output_type": "error",
     "traceback": [
      "\u001b[0;31m---------------------------------------------------------------------------\u001b[0m",
      "\u001b[0;31mKeyboardInterrupt\u001b[0m                         Traceback (most recent call last)",
      "\u001b[0;32m/tmp/ipykernel_131636/3051592670.py\u001b[0m in \u001b[0;36m<module>\u001b[0;34m\u001b[0m\n\u001b[1;32m     59\u001b[0m             \u001b[0mYtrain\u001b[0m\u001b[0;34m,\u001b[0m \u001b[0mYtest\u001b[0m \u001b[0;34m=\u001b[0m \u001b[0mY\u001b[0m\u001b[0;34m[\u001b[0m\u001b[0mtrain_index\u001b[0m\u001b[0;34m]\u001b[0m\u001b[0;34m,\u001b[0m \u001b[0mY\u001b[0m\u001b[0;34m[\u001b[0m\u001b[0mtest_index\u001b[0m\u001b[0;34m]\u001b[0m\u001b[0;34m\u001b[0m\u001b[0;34m\u001b[0m\u001b[0m\n\u001b[1;32m     60\u001b[0m             \u001b[0mmodel\u001b[0m \u001b[0;34m=\u001b[0m \u001b[0mXGBRegressor\u001b[0m\u001b[0;34m(\u001b[0m\u001b[0;34m**\u001b[0m\u001b[0mparams\u001b[0m\u001b[0;34m)\u001b[0m\u001b[0;34m\u001b[0m\u001b[0;34m\u001b[0m\u001b[0m\n\u001b[0;32m---> 61\u001b[0;31m             model.fit(\n\u001b[0m\u001b[1;32m     62\u001b[0m                 \u001b[0mXtrain\u001b[0m\u001b[0;34m,\u001b[0m \u001b[0mYtrain\u001b[0m\u001b[0;34m,\u001b[0m\u001b[0;34m\u001b[0m\u001b[0;34m\u001b[0m\u001b[0m\n\u001b[1;32m     63\u001b[0m                 \u001b[0meval_set\u001b[0m\u001b[0;34m=\u001b[0m\u001b[0;34m[\u001b[0m\u001b[0;34m(\u001b[0m\u001b[0mXtrain\u001b[0m\u001b[0;34m,\u001b[0m \u001b[0mYtrain\u001b[0m\u001b[0;34m)\u001b[0m\u001b[0;34m,\u001b[0m \u001b[0;34m(\u001b[0m\u001b[0mXtest\u001b[0m\u001b[0;34m,\u001b[0m \u001b[0mYtest\u001b[0m\u001b[0;34m)\u001b[0m\u001b[0;34m]\u001b[0m\u001b[0;34m,\u001b[0m\u001b[0;34m\u001b[0m\u001b[0;34m\u001b[0m\u001b[0m\n",
      "\u001b[0;32m~/.conda/envs/climate/lib/python3.9/site-packages/xgboost/core.py\u001b[0m in \u001b[0;36minner_f\u001b[0;34m(*args, **kwargs)\u001b[0m\n\u001b[1;32m    504\u001b[0m         \u001b[0;32mfor\u001b[0m \u001b[0mk\u001b[0m\u001b[0;34m,\u001b[0m \u001b[0marg\u001b[0m \u001b[0;32min\u001b[0m \u001b[0mzip\u001b[0m\u001b[0;34m(\u001b[0m\u001b[0msig\u001b[0m\u001b[0;34m.\u001b[0m\u001b[0mparameters\u001b[0m\u001b[0;34m,\u001b[0m \u001b[0margs\u001b[0m\u001b[0;34m)\u001b[0m\u001b[0;34m:\u001b[0m\u001b[0;34m\u001b[0m\u001b[0;34m\u001b[0m\u001b[0m\n\u001b[1;32m    505\u001b[0m             \u001b[0mkwargs\u001b[0m\u001b[0;34m[\u001b[0m\u001b[0mk\u001b[0m\u001b[0;34m]\u001b[0m \u001b[0;34m=\u001b[0m \u001b[0marg\u001b[0m\u001b[0;34m\u001b[0m\u001b[0;34m\u001b[0m\u001b[0m\n\u001b[0;32m--> 506\u001b[0;31m         \u001b[0;32mreturn\u001b[0m \u001b[0mf\u001b[0m\u001b[0;34m(\u001b[0m\u001b[0;34m**\u001b[0m\u001b[0mkwargs\u001b[0m\u001b[0;34m)\u001b[0m\u001b[0;34m\u001b[0m\u001b[0;34m\u001b[0m\u001b[0m\n\u001b[0m\u001b[1;32m    507\u001b[0m \u001b[0;34m\u001b[0m\u001b[0m\n\u001b[1;32m    508\u001b[0m     \u001b[0;32mreturn\u001b[0m \u001b[0minner_f\u001b[0m\u001b[0;34m\u001b[0m\u001b[0;34m\u001b[0m\u001b[0m\n",
      "\u001b[0;32m~/.conda/envs/climate/lib/python3.9/site-packages/xgboost/sklearn.py\u001b[0m in \u001b[0;36mfit\u001b[0;34m(self, X, y, sample_weight, base_margin, eval_set, eval_metric, early_stopping_rounds, verbose, xgb_model, sample_weight_eval_set, base_margin_eval_set, feature_weights, callbacks)\u001b[0m\n\u001b[1;32m    787\u001b[0m \u001b[0;34m\u001b[0m\u001b[0m\n\u001b[1;32m    788\u001b[0m         \u001b[0mmodel\u001b[0m\u001b[0;34m,\u001b[0m \u001b[0mfeval\u001b[0m\u001b[0;34m,\u001b[0m \u001b[0mparams\u001b[0m \u001b[0;34m=\u001b[0m \u001b[0mself\u001b[0m\u001b[0;34m.\u001b[0m\u001b[0m_configure_fit\u001b[0m\u001b[0;34m(\u001b[0m\u001b[0mxgb_model\u001b[0m\u001b[0;34m,\u001b[0m \u001b[0meval_metric\u001b[0m\u001b[0;34m,\u001b[0m \u001b[0mparams\u001b[0m\u001b[0;34m)\u001b[0m\u001b[0;34m\u001b[0m\u001b[0;34m\u001b[0m\u001b[0m\n\u001b[0;32m--> 789\u001b[0;31m         self._Booster = train(\n\u001b[0m\u001b[1;32m    790\u001b[0m             \u001b[0mparams\u001b[0m\u001b[0;34m,\u001b[0m\u001b[0;34m\u001b[0m\u001b[0;34m\u001b[0m\u001b[0m\n\u001b[1;32m    791\u001b[0m             \u001b[0mtrain_dmatrix\u001b[0m\u001b[0;34m,\u001b[0m\u001b[0;34m\u001b[0m\u001b[0;34m\u001b[0m\u001b[0m\n",
      "\u001b[0;32m~/.conda/envs/climate/lib/python3.9/site-packages/xgboost/training.py\u001b[0m in \u001b[0;36mtrain\u001b[0;34m(params, dtrain, num_boost_round, evals, obj, feval, maximize, early_stopping_rounds, evals_result, verbose_eval, xgb_model, callbacks)\u001b[0m\n\u001b[1;32m    186\u001b[0m     \u001b[0mBooster\u001b[0m \u001b[0;34m:\u001b[0m \u001b[0ma\u001b[0m \u001b[0mtrained\u001b[0m \u001b[0mbooster\u001b[0m \u001b[0mmodel\u001b[0m\u001b[0;34m\u001b[0m\u001b[0;34m\u001b[0m\u001b[0m\n\u001b[1;32m    187\u001b[0m     \"\"\"\n\u001b[0;32m--> 188\u001b[0;31m     bst = _train_internal(params, dtrain,\n\u001b[0m\u001b[1;32m    189\u001b[0m                           \u001b[0mnum_boost_round\u001b[0m\u001b[0;34m=\u001b[0m\u001b[0mnum_boost_round\u001b[0m\u001b[0;34m,\u001b[0m\u001b[0;34m\u001b[0m\u001b[0;34m\u001b[0m\u001b[0m\n\u001b[1;32m    190\u001b[0m                           \u001b[0mevals\u001b[0m\u001b[0;34m=\u001b[0m\u001b[0mevals\u001b[0m\u001b[0;34m,\u001b[0m\u001b[0;34m\u001b[0m\u001b[0;34m\u001b[0m\u001b[0m\n",
      "\u001b[0;32m~/.conda/envs/climate/lib/python3.9/site-packages/xgboost/training.py\u001b[0m in \u001b[0;36m_train_internal\u001b[0;34m(params, dtrain, num_boost_round, evals, obj, feval, xgb_model, callbacks, evals_result, maximize, verbose_eval, early_stopping_rounds)\u001b[0m\n\u001b[1;32m     79\u001b[0m         \u001b[0;32mif\u001b[0m \u001b[0mcallbacks\u001b[0m\u001b[0;34m.\u001b[0m\u001b[0mbefore_iteration\u001b[0m\u001b[0;34m(\u001b[0m\u001b[0mbst\u001b[0m\u001b[0;34m,\u001b[0m \u001b[0mi\u001b[0m\u001b[0;34m,\u001b[0m \u001b[0mdtrain\u001b[0m\u001b[0;34m,\u001b[0m \u001b[0mevals\u001b[0m\u001b[0;34m)\u001b[0m\u001b[0;34m:\u001b[0m\u001b[0;34m\u001b[0m\u001b[0;34m\u001b[0m\u001b[0m\n\u001b[1;32m     80\u001b[0m             \u001b[0;32mbreak\u001b[0m\u001b[0;34m\u001b[0m\u001b[0;34m\u001b[0m\u001b[0m\n\u001b[0;32m---> 81\u001b[0;31m         \u001b[0mbst\u001b[0m\u001b[0;34m.\u001b[0m\u001b[0mupdate\u001b[0m\u001b[0;34m(\u001b[0m\u001b[0mdtrain\u001b[0m\u001b[0;34m,\u001b[0m \u001b[0mi\u001b[0m\u001b[0;34m,\u001b[0m \u001b[0mobj\u001b[0m\u001b[0;34m)\u001b[0m\u001b[0;34m\u001b[0m\u001b[0;34m\u001b[0m\u001b[0m\n\u001b[0m\u001b[1;32m     82\u001b[0m         \u001b[0;32mif\u001b[0m \u001b[0mcallbacks\u001b[0m\u001b[0;34m.\u001b[0m\u001b[0mafter_iteration\u001b[0m\u001b[0;34m(\u001b[0m\u001b[0mbst\u001b[0m\u001b[0;34m,\u001b[0m \u001b[0mi\u001b[0m\u001b[0;34m,\u001b[0m \u001b[0mdtrain\u001b[0m\u001b[0;34m,\u001b[0m \u001b[0mevals\u001b[0m\u001b[0;34m)\u001b[0m\u001b[0;34m:\u001b[0m\u001b[0;34m\u001b[0m\u001b[0;34m\u001b[0m\u001b[0m\n\u001b[1;32m     83\u001b[0m             \u001b[0;32mbreak\u001b[0m\u001b[0;34m\u001b[0m\u001b[0;34m\u001b[0m\u001b[0m\n",
      "\u001b[0;32m~/.conda/envs/climate/lib/python3.9/site-packages/xgboost/core.py\u001b[0m in \u001b[0;36mupdate\u001b[0;34m(self, dtrain, iteration, fobj)\u001b[0m\n\u001b[1;32m   1678\u001b[0m \u001b[0;34m\u001b[0m\u001b[0m\n\u001b[1;32m   1679\u001b[0m         \u001b[0;32mif\u001b[0m \u001b[0mfobj\u001b[0m \u001b[0;32mis\u001b[0m \u001b[0;32mNone\u001b[0m\u001b[0;34m:\u001b[0m\u001b[0;34m\u001b[0m\u001b[0;34m\u001b[0m\u001b[0m\n\u001b[0;32m-> 1680\u001b[0;31m             _check_call(_LIB.XGBoosterUpdateOneIter(self.handle,\n\u001b[0m\u001b[1;32m   1681\u001b[0m                                                     \u001b[0mctypes\u001b[0m\u001b[0;34m.\u001b[0m\u001b[0mc_int\u001b[0m\u001b[0;34m(\u001b[0m\u001b[0miteration\u001b[0m\u001b[0;34m)\u001b[0m\u001b[0;34m,\u001b[0m\u001b[0;34m\u001b[0m\u001b[0;34m\u001b[0m\u001b[0m\n\u001b[1;32m   1682\u001b[0m                                                     dtrain.handle))\n",
      "\u001b[0;31mKeyboardInterrupt\u001b[0m: "
     ]
    }
   ],
   "source": [
    "parameters = [\n",
    "    sherpa.Choice('n_estimators', list(range(100, 310, 10))),\n",
    "    sherpa.Choice('early_stopping_rounds', list(range(1, 10))),\n",
    "    sherpa.Choice('learning_rate', [0.05, 0.1]),\n",
    "    sherpa.Discrete('max_depth', [1, 5]),\n",
    "]\n",
    "\n",
    "\n",
    "alg = sherpa.algorithms.RandomSearch(max_num_trials=10)\n",
    "study = sherpa.Study(parameters=parameters,\n",
    "                     algorithm=alg,\n",
    "                     lower_is_better=True)\n",
    "\n",
    "n_folds = 5\n",
    "for trial in study:\n",
    "    # set up the hyperparameters\n",
    "    start = time.time()\n",
    "    line = '===============================================\\n'\n",
    "    params = {\n",
    "        \"n_estimators\": trial.parameters['n_estimators'],\n",
    "        \"learning_rate\": trial.parameters['learning_rate'],\n",
    "        \"max_depth\": trial.parameters['max_depth'],\n",
    "        \"early_stopping_rounds\": trial.parameters['early_stopping_rounds'],\n",
    "        \"verbosity\": 0\n",
    "    }\n",
    "    \n",
    "    print(params)\n",
    "    line += str(params) + '\\n'\n",
    "    \n",
    "    # stations with low number of samples\n",
    "    y_true = []\n",
    "    y_pred = []\n",
    "    for name, group in df_train_samples.groupby('skn'):\n",
    "        line = ''\n",
    "        group.sort_values(by=[\"year\", \"month\"], inplace=True)\n",
    "        \n",
    "        X = np.array(group[columns])\n",
    "        Y = np.array(group['data_in'])\n",
    "        \n",
    "        kf = KFold(n_splits=5)\n",
    "#         for temp_index, test_index in kf.split(X):\n",
    "#             train_index, valid_index = train_test_split(temp_index, test_size=0.2, shuffle=False)\n",
    "#             Xtrain, Xvalid, Xtest = X[train_index], X[valid_index], X[test_index]\n",
    "#             Ytrain, Yvalid, Ytest = Y[train_index], Y[valid_index], Y[test_index]\n",
    "            \n",
    "#             model = XGBRegressor(**params)\n",
    "#             model.fit(\n",
    "#                 Xtrain,\n",
    "#                 Ytrain,\n",
    "#                 eval_set=[(Xtrain, Ytrain), (Xvalid, Yvalid)],\n",
    "#                 early_stopping_rounds=trial.parameters['early_stopping_rounds'],\n",
    "#                 verbose=False\n",
    "#             )\n",
    "            \n",
    "#             y_true.extend(Ytest)\n",
    "#             y_pred.extend(model.predict(Xtest))\n",
    "        for train_index, test_index in kf.split(X):\n",
    "            Xtrain, Xtest = X[train_index], X[test_index]\n",
    "            Ytrain, Ytest = Y[train_index], Y[test_index]\n",
    "            model = XGBRegressor(**params)\n",
    "            model.fit(\n",
    "                Xtrain, Ytrain,\n",
    "                eval_set=[(Xtrain, Ytrain), (Xtest, Ytest)],\n",
    "                # early_stopping_rounds=trial.parameters['early_stopping_rounds'],\n",
    "                verbose=False,\n",
    "                # eval_metric=\"rmse\"\n",
    "            )\n",
    "            \n",
    "            y_true.extend(Ytest)\n",
    "            y_pred.extend(model.predict(Xtest))\n",
    "            \n",
    "        # print('===========')\n",
    "    rmse = mean_squared_error(y_true, y_pred, squared=False)\n",
    "    print(f\"RMSE on test set: {rmse}\")\n",
    "    \n",
    "    study.add_observation(\n",
    "        trial=trial,\n",
    "        iteration=1,\n",
    "        objective=rmse,\n",
    "        # context={'rmse_high': rmse_high}\n",
    "    )\n",
    "\n",
    "    study.finalize(trial)\n",
    "\n",
    "# print(study.get_best_result())"
   ]
  },
  {
   "cell_type": "code",
   "execution_count": 31,
   "metadata": {},
   "outputs": [],
   "source": [
    "# params = {'n_estimators': 200, 'learning_rate': 0.05, 'max_depth': 5, 'early_stopping_rounds': 4, 'verbosity': 0}\n",
    "params = {'n_estimators': 250, 'learning_rate': 0.1, 'max_depth': 3, 'early_stopping_rounds': 6, 'verbosity': 0}\n",
    "params = {'n_estimators': 260, 'learning_rate': 0.1, 'max_depth': 3, 'early_stopping_rounds': 8, 'verbosity': 0}\n",
    "# y_pred = []\n",
    "# y_true = []\n",
    "df_xgb = []\n",
    "df_xgb_train = []\n",
    "\n",
    "for name, group in df_train.groupby('skn'):\n",
    "    \n",
    "    group.sort_values(by=[\"year\", \"month\"], inplace=True)\n",
    "    xgboost = XGBRegressor(**params)\n",
    "    Xtemp = np.array(group[columns])\n",
    "    Ytemp = np.array(group['data_in'])\n",
    "    \n",
    "    Xtrain, Xvalid, Ytrain, Yvalid = train_test_split(Xtemp, Ytemp, test_size=0.2, shuffle=False)\n",
    "    \n",
    "    Xtest = np.array(df_test[df_test['skn'] == name][columns])\n",
    "    Ytest = np.array(df_test[df_test['skn'] == name]['data_in'])\n",
    "    xgboost.fit(Xtrain, Ytrain, eval_set=[(Xtrain, Ytrain), (Xvalid, Yvalid)], early_stopping_rounds=params['early_stopping_rounds'], verbose=False)\n",
    "    \n",
    "    yhat = xgboost.predict(Xtest)\n",
    "    \n",
    "    df_xgb.append(pd.DataFrame({\"skn\": [name] * len(Ytest), \"pred\": yhat, \"data_in\": Ytest}))\n",
    "    df_xgb_train.append(pd.DataFrame({\"skn\": [name] * len(Ytrain), \"pred\": xgboost.predict(Xtrain), \"data_in\": Ytrain}))"
   ]
  },
  {
   "cell_type": "code",
   "execution_count": 32,
   "metadata": {},
   "outputs": [],
   "source": [
    "df_xgb = pd.concat(df_xgb)"
   ]
  },
  {
   "cell_type": "code",
   "execution_count": 33,
   "metadata": {},
   "outputs": [
    {
     "data": {
      "text/plain": [
       "3.922172061254523"
      ]
     },
     "execution_count": 33,
     "metadata": {},
     "output_type": "execute_result"
    }
   ],
   "source": [
    "mean_squared_error(df_xgb['data_in'], df_xgb['pred'], squared=False)"
   ]
  },
  {
   "cell_type": "code",
   "execution_count": 17,
   "metadata": {},
   "outputs": [],
   "source": [
    "rmse_per_station = []\n",
    "for name, group in df_xgb.groupby('skn'):\n",
    "    rmse_per_station.append(mean_squared_error(group['data_in'], group['pred'], squared=False))"
   ]
  },
  {
   "cell_type": "code",
   "execution_count": 18,
   "metadata": {},
   "outputs": [
    {
     "data": {
      "text/plain": [
       "(array([27., 39., 40., 28., 27., 23., 12.,  4.,  7.,  4.,  5.,  3.,  3.,\n",
       "         1.,  3.,  1.,  1.,  0.,  0.,  0.,  1.,  0.,  0.,  1.,  0.,  1.,\n",
       "         0.,  0.,  0.,  2.]),\n",
       " array([ 0.6917784 ,  1.1606273 ,  1.62947619,  2.09832509,  2.56717398,\n",
       "         3.03602288,  3.50487177,  3.97372067,  4.44256956,  4.91141846,\n",
       "         5.38026735,  5.84911625,  6.31796514,  6.78681403,  7.25566293,\n",
       "         7.72451182,  8.19336072,  8.66220961,  9.13105851,  9.5999074 ,\n",
       "        10.0687563 , 10.53760519, 11.00645409, 11.47530298, 11.94415188,\n",
       "        12.41300077, 12.88184967, 13.35069856, 13.81954746, 14.28839635,\n",
       "        14.75724525]),\n",
       " <BarContainer object of 30 artists>)"
      ]
     },
     "execution_count": 18,
     "metadata": {},
     "output_type": "execute_result"
    },
    {
     "data": {
      "image/png": "[encoded data removed]",
      "text/plain": [
       "<Figure size 432x288 with 1 Axes>"
      ]
     },
     "metadata": {
      "needs_background": "light"
     },
     "output_type": "display_data"
    }
   ],
   "source": [
    "plt.hist(rmse_per_station, bins=30)"
   ]
  },
  {
   "cell_type": "code",
   "execution_count": 20,
   "metadata": {},
   "outputs": [
    {
     "data": {
      "text/plain": [
       "<matplotlib.collections.PathCollection at 0x2b2ec4b923d0>"
      ]
     },
     "execution_count": 20,
     "metadata": {},
     "output_type": "execute_result"
    },
    {
     "data": {
      "image/png": "[encoded data removed]",
      "text/plain": [
       "<Figure size 432x288 with 1 Axes>"
      ]
     },
     "metadata": {
      "needs_background": "light"
     },
     "output_type": "display_data"
    }
   ],
   "source": [
    "fig, ax = plt.subplots(1)\n",
    "ax.scatter(df_xgb['data_in'], df_xgb['pred'], s=0.1)"
   ]
  },
  {
   "cell_type": "code",
   "execution_count": 21,
   "metadata": {},
   "outputs": [],
   "source": [
    "y_pred = []\n",
    "y_true = []\n",
    "df_ = []\n",
    "for name, group in df_train.groupby('skn'):\n",
    "    linear_regression = LinearRegression()\n",
    "    group.sort_values(by=[\"year\", \"month\"], inplace=True)\n",
    "    Xtrain = np.array(group[columns])\n",
    "    Ytrain = np.array(group['data_in'])\n",
    "    \n",
    "    Xtest = np.array(df_test[df_test['skn'] == name][columns])\n",
    "    Ytest = np.array(df_test[df_test['skn'] == name]['data_in'])\n",
    "    \n",
    "    linear_regression.fit(Xtrain, Ytrain)\n",
    "    \n",
    "    yhat = linear_regression.predict(Xtest)\n",
    "    \n",
    "    y_pred.extend(yhat)\n",
    "    y_true.extend(Ytest)\n",
    "    \n",
    "    df_.append(pd.DataFrame({\"skn\": [name] * len(Ytest), \"pred\": yhat, \"data_in\": Ytest}))"
   ]
  },
  {
   "cell_type": "code",
   "execution_count": 22,
   "metadata": {},
   "outputs": [
    {
     "data": {
      "text/plain": [
       "3.7977115828253067"
      ]
     },
     "execution_count": 22,
     "metadata": {},
     "output_type": "execute_result"
    }
   ],
   "source": [
    "mean_squared_error(y_true, y_pred, squared=False)"
   ]
  },
  {
   "cell_type": "code",
   "execution_count": 23,
   "metadata": {},
   "outputs": [
    {
     "name": "stdout",
     "output_type": "stream",
     "text": [
      "\n"
     ]
    },
    {
     "data": {
      "image/png": "[encoded data removed]",
      "text/plain": [
       "<Figure size 432x288 with 1 Axes>"
      ]
     },
     "metadata": {
      "needs_background": "light"
     },
     "output_type": "display_data"
    }
   ],
   "source": [
    "df_result_linear = pd.concat(df_)\n",
    "rmse_per_station = []\n",
    "for name, group in df_result_linear.groupby('skn'):\n",
    "    rmse_per_station.append(mean_squared_error(group['data_in'], group['pred'], squared=False))\n",
    "plt.hist(rmse_per_station, bins=30)\n",
    "print()"
   ]
  },
  {
   "cell_type": "code",
   "execution_count": null,
   "metadata": {},
   "outputs": [],
   "source": []
  }
 ],
 "metadata": {
  "kernelspec": {
   "display_name": "climate",
   "language": "python",
   "name": "climate"
  },
  "language_info": {
   "codemirror_mode": {
    "name": "ipython",
    "version": 3
   },
   "file_extension": ".py",
   "mimetype": "text/x-python",
   "name": "python",
   "nbconvert_exporter": "python",
   "pygments_lexer": "ipython3",
   "version": "3.9.7"
  }
 },
 "nbformat": 4,
 "nbformat_minor": 4
}

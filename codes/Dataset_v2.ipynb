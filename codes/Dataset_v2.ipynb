{
 "cells": [
  {
   "cell_type": "code",
   "execution_count": 1,
   "metadata": {},
   "outputs": [],
   "source": [
    "import numpy as np\n",
    "import netCDF4 as nc\n",
    "import pandas as pd\n",
    "import sklearn\n",
    "import matplotlib.pyplot as plt\n",
    "from datetime import datetime\n",
    "import xarray as xr\n",
    "import sys\n",
    "from time import time\n",
    "# from mpl_toolkits.basemap import Basemap"
   ]
  },
  {
   "cell_type": "code",
   "execution_count": 2,
   "metadata": {},
   "outputs": [],
   "source": [
    "base_dir = \"../dataset\"\n",
    "# nc.Dataset(f\"{base_dir}/\")\n",
    "df_locations = pd.read_csv(f\"{base_dir}/SKNlocations.csv\")\n",
    "df_data = pd.read_excel(f\"{base_dir}/FilledDataset2012.xlsx\", sheet_name=\"Data_in\")"
   ]
  },
  {
   "cell_type": "code",
   "execution_count": 3,
   "metadata": {},
   "outputs": [],
   "source": [
    "# Delete this cell\n",
    "df_test = pd.read_csv(f\"{base_dir}/dataset_v2.csv\")"
   ]
  },
  {
   "cell_type": "code",
   "execution_count": 4,
   "metadata": {},
   "outputs": [
    {
     "data": {
      "text/plain": [
       "(90960, 24)"
      ]
     },
     "execution_count": 4,
     "metadata": {},
     "output_type": "execute_result"
    }
   ],
   "source": [
    "df_test.shape"
   ]
  },
  {
   "cell_type": "code",
   "execution_count": 5,
   "metadata": {},
   "outputs": [
    {
     "data": {
      "text/html": [
       "<div>\n",
       "<style scoped>\n",
       "    .dataframe tbody tr th:only-of-type {\n",
       "        vertical-align: middle;\n",
       "    }\n",
       "\n",
       "    .dataframe tbody tr th {\n",
       "        vertical-align: top;\n",
       "    }\n",
       "\n",
       "    .dataframe thead th {\n",
       "        text-align: right;\n",
       "    }\n",
       "</style>\n",
       "<table border=\"1\" class=\"dataframe\">\n",
       "  <thead>\n",
       "    <tr style=\"text-align: right;\">\n",
       "      <th></th>\n",
       "      <th>SKN</th>\n",
       "      <th>Year</th>\n",
       "      <th>Jan</th>\n",
       "      <th>Feb</th>\n",
       "      <th>Mar</th>\n",
       "      <th>Apr</th>\n",
       "      <th>May</th>\n",
       "      <th>Jun</th>\n",
       "      <th>Jul</th>\n",
       "      <th>Aug</th>\n",
       "      <th>Sep</th>\n",
       "      <th>Oct</th>\n",
       "      <th>Nov</th>\n",
       "      <th>Dec</th>\n",
       "    </tr>\n",
       "  </thead>\n",
       "  <tbody>\n",
       "    <tr>\n",
       "      <th>0</th>\n",
       "      <td>1.0</td>\n",
       "      <td>1920</td>\n",
       "      <td>4.76</td>\n",
       "      <td>0.23</td>\n",
       "      <td>0.005188</td>\n",
       "      <td>0.43</td>\n",
       "      <td>0.30</td>\n",
       "      <td>NaN</td>\n",
       "      <td>NaN</td>\n",
       "      <td>0</td>\n",
       "      <td>0</td>\n",
       "      <td>0.87</td>\n",
       "      <td>NaN</td>\n",
       "      <td>NaN</td>\n",
       "    </tr>\n",
       "    <tr>\n",
       "      <th>1</th>\n",
       "      <td>1.0</td>\n",
       "      <td>1921</td>\n",
       "      <td>7.78</td>\n",
       "      <td>1.29</td>\n",
       "      <td>2.946572</td>\n",
       "      <td>0.58</td>\n",
       "      <td>0.27</td>\n",
       "      <td>NaN</td>\n",
       "      <td>NaN</td>\n",
       "      <td>0.58</td>\n",
       "      <td>0</td>\n",
       "      <td>0.44</td>\n",
       "      <td>NaN</td>\n",
       "      <td>NaN</td>\n",
       "    </tr>\n",
       "    <tr>\n",
       "      <th>2</th>\n",
       "      <td>1.0</td>\n",
       "      <td>1922</td>\n",
       "      <td>4.02</td>\n",
       "      <td>2.75</td>\n",
       "      <td>6.053961</td>\n",
       "      <td>1.63</td>\n",
       "      <td>0.03</td>\n",
       "      <td>NaN</td>\n",
       "      <td>NaN</td>\n",
       "      <td>0.04</td>\n",
       "      <td>0.74</td>\n",
       "      <td>0.95</td>\n",
       "      <td>NaN</td>\n",
       "      <td>NaN</td>\n",
       "    </tr>\n",
       "  </tbody>\n",
       "</table>\n",
       "</div>"
      ],
      "text/plain": [
       "   SKN  Year   Jan   Feb       Mar   Apr   May  Jun  Jul   Aug   Sep   Oct  \\\n",
       "0  1.0  1920  4.76  0.23  0.005188  0.43  0.30  NaN  NaN     0     0  0.87   \n",
       "1  1.0  1921  7.78  1.29  2.946572  0.58  0.27  NaN  NaN  0.58     0  0.44   \n",
       "2  1.0  1922  4.02  2.75  6.053961  1.63  0.03  NaN  NaN  0.04  0.74  0.95   \n",
       "\n",
       "   Nov  Dec  \n",
       "0  NaN  NaN  \n",
       "1  NaN  NaN  \n",
       "2  NaN  NaN  "
      ]
     },
     "execution_count": 5,
     "metadata": {},
     "output_type": "execute_result"
    }
   ],
   "source": [
    "df_data.head(3)"
   ]
  },
  {
   "cell_type": "code",
   "execution_count": 6,
   "metadata": {},
   "outputs": [
    {
     "data": {
      "text/html": [
       "<div>\n",
       "<style scoped>\n",
       "    .dataframe tbody tr th:only-of-type {\n",
       "        vertical-align: middle;\n",
       "    }\n",
       "\n",
       "    .dataframe tbody tr th {\n",
       "        vertical-align: top;\n",
       "    }\n",
       "\n",
       "    .dataframe thead th {\n",
       "        text-align: right;\n",
       "    }\n",
       "</style>\n",
       "<table border=\"1\" class=\"dataframe\">\n",
       "  <thead>\n",
       "    <tr style=\"text-align: right;\">\n",
       "      <th></th>\n",
       "      <th>SKN</th>\n",
       "      <th>Name</th>\n",
       "      <th>Lat_DD</th>\n",
       "      <th>Lon_DD</th>\n",
       "    </tr>\n",
       "  </thead>\n",
       "  <tbody>\n",
       "    <tr>\n",
       "      <th>0</th>\n",
       "      <td>1.0</td>\n",
       "      <td>KALAE</td>\n",
       "      <td>18.916176</td>\n",
       "      <td>-155.674994</td>\n",
       "    </tr>\n",
       "    <tr>\n",
       "      <th>1</th>\n",
       "      <td>1.1</td>\n",
       "      <td>MORSE FIELD</td>\n",
       "      <td>18.913680</td>\n",
       "      <td>-155.680550</td>\n",
       "    </tr>\n",
       "    <tr>\n",
       "      <th>2</th>\n",
       "      <td>1.2</td>\n",
       "      <td>KALAE S TRK STA</td>\n",
       "      <td>18.938669</td>\n",
       "      <td>-155.680549</td>\n",
       "    </tr>\n",
       "  </tbody>\n",
       "</table>\n",
       "</div>"
      ],
      "text/plain": [
       "   SKN             Name     Lat_DD      Lon_DD\n",
       "0  1.0            KALAE  18.916176 -155.674994\n",
       "1  1.1      MORSE FIELD  18.913680 -155.680550\n",
       "2  1.2  KALAE S TRK STA  18.938669 -155.680549"
      ]
     },
     "execution_count": 6,
     "metadata": {},
     "output_type": "execute_result"
    }
   ],
   "source": [
    "df_locations.head(3)"
   ]
  },
  {
   "cell_type": "markdown",
   "metadata": {},
   "source": [
    "## Conevrt df_data into cell-based matrix"
   ]
  },
  {
   "cell_type": "code",
   "execution_count": 7,
   "metadata": {},
   "outputs": [],
   "source": [
    "X = []\n",
    "for index, row in df_data.iterrows():\n",
    "    if row.Year < 1948:\n",
    "        # No need to keep data older than 1948 becase no data exists in netCDF files\n",
    "        continue\n",
    "    for i, cell in enumerate(row[2:]):\n",
    "        X.append([row.SKN, row.Year, i + 1, cell])"
   ]
  },
  {
   "cell_type": "code",
   "execution_count": 8,
   "metadata": {},
   "outputs": [],
   "source": [
    "df_data_by_cell = pd.DataFrame(X, columns = [\"skn\", \"year\", \"month\", \"data_in\"]).dropna()\n",
    "df_data_by_cell = df_data_by_cell.replace(r'^\\s*$', np.nan, regex=True).dropna()"
   ]
  },
  {
   "cell_type": "code",
   "execution_count": 9,
   "metadata": {},
   "outputs": [
    {
     "data": {
      "text/html": [
       "<div>\n",
       "<style scoped>\n",
       "    .dataframe tbody tr th:only-of-type {\n",
       "        vertical-align: middle;\n",
       "    }\n",
       "\n",
       "    .dataframe tbody tr th {\n",
       "        vertical-align: top;\n",
       "    }\n",
       "\n",
       "    .dataframe thead th {\n",
       "        text-align: right;\n",
       "    }\n",
       "</style>\n",
       "<table border=\"1\" class=\"dataframe\">\n",
       "  <thead>\n",
       "    <tr style=\"text-align: right;\">\n",
       "      <th></th>\n",
       "      <th>skn</th>\n",
       "      <th>year</th>\n",
       "      <th>month</th>\n",
       "      <th>data_in</th>\n",
       "    </tr>\n",
       "  </thead>\n",
       "  <tbody>\n",
       "    <tr>\n",
       "      <th>0</th>\n",
       "      <td>1.0</td>\n",
       "      <td>1948</td>\n",
       "      <td>1</td>\n",
       "      <td>3.2</td>\n",
       "    </tr>\n",
       "    <tr>\n",
       "      <th>1</th>\n",
       "      <td>1.0</td>\n",
       "      <td>1948</td>\n",
       "      <td>2</td>\n",
       "      <td>1.33</td>\n",
       "    </tr>\n",
       "    <tr>\n",
       "      <th>2</th>\n",
       "      <td>1.0</td>\n",
       "      <td>1948</td>\n",
       "      <td>3</td>\n",
       "      <td>2.31</td>\n",
       "    </tr>\n",
       "  </tbody>\n",
       "</table>\n",
       "</div>"
      ],
      "text/plain": [
       "   skn  year  month data_in\n",
       "0  1.0  1948      1     3.2\n",
       "1  1.0  1948      2    1.33\n",
       "2  1.0  1948      3    2.31"
      ]
     },
     "execution_count": 9,
     "metadata": {},
     "output_type": "execute_result"
    }
   ],
   "source": [
    "df_data_by_cell.head(3)"
   ]
  },
  {
   "cell_type": "code",
   "execution_count": 10,
   "metadata": {},
   "outputs": [
    {
     "data": {
      "text/html": [
       "<div>\n",
       "<style scoped>\n",
       "    .dataframe tbody tr th:only-of-type {\n",
       "        vertical-align: middle;\n",
       "    }\n",
       "\n",
       "    .dataframe tbody tr th {\n",
       "        vertical-align: top;\n",
       "    }\n",
       "\n",
       "    .dataframe thead th {\n",
       "        text-align: right;\n",
       "    }\n",
       "</style>\n",
       "<table border=\"1\" class=\"dataframe\">\n",
       "  <thead>\n",
       "    <tr style=\"text-align: right;\">\n",
       "      <th></th>\n",
       "      <th>skn</th>\n",
       "      <th>year</th>\n",
       "      <th>month</th>\n",
       "      <th>data_in</th>\n",
       "      <th>SKN</th>\n",
       "      <th>Name</th>\n",
       "      <th>Lat_DD</th>\n",
       "      <th>Lon_DD</th>\n",
       "      <th>time</th>\n",
       "    </tr>\n",
       "  </thead>\n",
       "  <tbody>\n",
       "    <tr>\n",
       "      <th>0</th>\n",
       "      <td>1.0</td>\n",
       "      <td>1948</td>\n",
       "      <td>1</td>\n",
       "      <td>3.2</td>\n",
       "      <td>1.0</td>\n",
       "      <td>KALAE</td>\n",
       "      <td>18.916176</td>\n",
       "      <td>-155.674994</td>\n",
       "      <td>1948-1-01</td>\n",
       "    </tr>\n",
       "    <tr>\n",
       "      <th>1</th>\n",
       "      <td>1.0</td>\n",
       "      <td>1948</td>\n",
       "      <td>2</td>\n",
       "      <td>1.33</td>\n",
       "      <td>1.0</td>\n",
       "      <td>KALAE</td>\n",
       "      <td>18.916176</td>\n",
       "      <td>-155.674994</td>\n",
       "      <td>1948-2-01</td>\n",
       "    </tr>\n",
       "    <tr>\n",
       "      <th>2</th>\n",
       "      <td>1.0</td>\n",
       "      <td>1948</td>\n",
       "      <td>3</td>\n",
       "      <td>2.31</td>\n",
       "      <td>1.0</td>\n",
       "      <td>KALAE</td>\n",
       "      <td>18.916176</td>\n",
       "      <td>-155.674994</td>\n",
       "      <td>1948-3-01</td>\n",
       "    </tr>\n",
       "  </tbody>\n",
       "</table>\n",
       "</div>"
      ],
      "text/plain": [
       "   skn  year  month data_in  SKN   Name     Lat_DD      Lon_DD       time\n",
       "0  1.0  1948      1     3.2  1.0  KALAE  18.916176 -155.674994  1948-1-01\n",
       "1  1.0  1948      2    1.33  1.0  KALAE  18.916176 -155.674994  1948-2-01\n",
       "2  1.0  1948      3    2.31  1.0  KALAE  18.916176 -155.674994  1948-3-01"
      ]
     },
     "execution_count": 10,
     "metadata": {},
     "output_type": "execute_result"
    }
   ],
   "source": [
    "# Merge\n",
    "df_data_w_coord = df_data_by_cell.merge(right=df_locations, left_on=\"skn\", right_on=\"SKN\")\n",
    "df_data_w_coord[\"time\"] = df_data_w_coord.apply(lambda x: f\"{x.year}-{x.month}-01\", axis=1)\n",
    "df_data_w_coord.head(3)"
   ]
  },
  {
   "cell_type": "markdown",
   "metadata": {},
   "source": [
    "## Load the cdf files"
   ]
  },
  {
   "cell_type": "code",
   "execution_count": 11,
   "metadata": {},
   "outputs": [],
   "source": [
    "# ds = xr.open_dataset(f\"{base_dir}/air.2m.mon.mean.regridded.nc\")\n",
    "lat_hawaii = [15, 17.5, 20, 22.5, 25]\n",
    "lon_hawaii = np.array([-162.5, -160, -157.5, -155, -152.5]) + 360\n",
    "\n",
    "ds_air2m = xr.open_dataset(f\"{base_dir}/air.2m.mon.mean.regridded.nc\").loc[dict(lat=lat_hawaii, lon=lon_hawaii)]\n",
    "ds_air1000_500 = xr.open_dataset(f\"{base_dir}/air.1000-500.mon.mean.nc\").loc[dict(lat=lat_hawaii, lon=lon_hawaii)]\n",
    "ds_hgt500 = xr.open_dataset(f\"{base_dir}/hgt500.mon.mean.nc\").loc[dict(lat=lat_hawaii, lon=lon_hawaii)]\n",
    "ds_hgt1000 = xr.open_dataset(f\"{base_dir}/hgt1000.mon.mean.nc\").loc[dict(lat=lat_hawaii, lon=lon_hawaii)]\n",
    "ds_omega500 = xr.open_dataset(f\"{base_dir}/omega500.mon.mean.nc\").loc[dict(lat=lat_hawaii, lon=lon_hawaii)]\n",
    "ds_pottemp_1000_500 = xr.open_dataset(f\"{base_dir}/pottmp.1000-500.mon.mean.nc\").loc[dict(lat=lat_hawaii, lon=lon_hawaii)]\n",
    "ds_pottemp_1000_850 = xr.open_dataset(f\"{base_dir}/pottmp.1000-850.mon.mean.nc\").loc[dict(lat=lat_hawaii, lon=lon_hawaii)]\n",
    "ds_pwtr = xr.open_dataset(f\"{base_dir}/pwtr.mon.mean.nc\").loc[dict(lat=lat_hawaii, lon=lon_hawaii)]\n",
    "ds_u700 = xr.open_dataset(f\"{base_dir}/shum_x_uwnd.700.mon.mean.nc\").loc[dict(lat=lat_hawaii, lon=lon_hawaii)]\n",
    "ds_u925 = xr.open_dataset(f\"{base_dir}/shum_x_uwnd.925.mon.mean.nc\").loc[dict(lat=lat_hawaii, lon=lon_hawaii)]\n",
    "ds_v700 = xr.open_dataset(f\"{base_dir}/shum_x_vwnd.700.mon.mean.nc\").loc[dict(lat=lat_hawaii, lon=lon_hawaii)]\n",
    "ds_v950 = xr.open_dataset(f\"{base_dir}/shum_x_vwnd.925.mon.mean.nc\").loc[dict(lat=lat_hawaii, lon=lon_hawaii)]\n",
    "ds_shum700 = xr.open_dataset(f\"{base_dir}/shum700.mon.mean.nc\").loc[dict(lat=lat_hawaii, lon=lon_hawaii)]\n",
    "ds_shum925 = xr.open_dataset(f\"{base_dir}/shum925.mon.mean.nc\").loc[dict(lat=lat_hawaii, lon=lon_hawaii)]\n",
    "ds_skt = xr.open_dataset(f\"{base_dir}/skt.mon.mean.regridded.nc\").loc[dict(lat=lat_hawaii, lon=lon_hawaii)]\n",
    "ds_slp = xr.open_dataset(f\"{base_dir}/slp.mon.mean.nc\").loc[dict(lat=lat_hawaii, lon=lon_hawaii)]\n",
    "\n",
    "datasets = [ # list of tuples. (dataset object, label, attribute string in ds)\n",
    "    (ds_air2m, \"air2m\", \"air\"),\n",
    "    (ds_air1000_500, \"air1000_500\", \"air\"),\n",
    "    (ds_hgt500, \"hgt500\", \"hgt\"),\n",
    "    (ds_hgt1000, \"hgt1000\", \"hgt\"),\n",
    "    (ds_omega500, \"omega500\", \"omega\"),\n",
    "    (ds_pottemp_1000_500, \"pottemp1000-500\", \"pottmp\"),\n",
    "    (ds_pottemp_1000_850, \"pottemp1000-850\", \"pottmp\"),\n",
    "    (ds_pwtr, \"pr_wtr\", \"pr_wtr\"),\n",
    "    (ds_u700, \"shum-uwnd-700\", \"shum\"),\n",
    "    (ds_u925, \"shum-uwnd-925\", \"shum\"),\n",
    "    (ds_v700, \"shum-vwnd-700\", \"shum\"),\n",
    "    (ds_v950, \"shum-vwnd-950\", \"shum\"),\n",
    "    (ds_shum700, \"shum700\", \"shum\"),\n",
    "    (ds_shum925, \"shum925\", \"shum\"),\n",
    "    (ds_skt, \"skt\", \"skt\"),\n",
    "    (ds_slp, \"slp\", \"slp\")\n",
    "]\n",
    "# combine all the cdf data"
   ]
  },
  {
   "cell_type": "code",
   "execution_count": null,
   "metadata": {},
   "outputs": [],
   "source": [
    "new_data = []\n",
    "for year in df_data[\"Year\"].unique():\n",
    "    if year < 1948: continue\n",
    "    for month in [i + 1 for i in range(12)]:\n",
    "        row = {}\n",
    "        row[\"time\"] = f\"{year}-{month}-01\"\n",
    "        for ds, label, attribute in datasets:\n",
    "            row[label] = ds.loc[dict(time=f\"{year}-{month}-01\")][attribute]\n",
    "        new_data.append(row)"
   ]
  },
  {
   "cell_type": "code",
   "execution_count": null,
   "metadata": {},
   "outputs": [],
   "source": [
    "df_cdf_layers_by_month = pd.DataFrame(new_data)\n",
    "df_cdf_layers_by_month.head(3)"
   ]
  },
  {
   "cell_type": "markdown",
   "metadata": {},
   "source": [
    "## Merge"
   ]
  },
  {
   "cell_type": "code",
   "execution_count": null,
   "metadata": {},
   "outputs": [],
   "source": [
    "df_data_w_coord.head(3)"
   ]
  },
  {
   "cell_type": "code",
   "execution_count": null,
   "metadata": {},
   "outputs": [],
   "source": [
    "df_complete = df_data_w_coord.merge(right=df, left_on=\"time\", right_on=\"time\")"
   ]
  },
  {
   "cell_type": "code",
   "execution_count": null,
   "metadata": {},
   "outputs": [],
   "source": [
    "df_complete.head(3)"
   ]
  },
  {
   "cell_type": "code",
   "execution_count": null,
   "metadata": {},
   "outputs": [],
   "source": [
    "df_complete_clean = df_complete.drop(labels=[\"SKN\", \"time\"], axis=1).rename(columns={\"Lat_DD\": \"lat\", \"Lon_DD\": \"lon\"})"
   ]
  },
  {
   "cell_type": "code",
   "execution_count": null,
   "metadata": {},
   "outputs": [],
   "source": [
    "df_complete_clean.head(3)"
   ]
  },
  {
   "cell_type": "code",
   "execution_count": null,
   "metadata": {},
   "outputs": [],
   "source": [
    "df_complete_clean.to_csv(f\"{base_dir}/dataset_v2.csv\")"
   ]
  },
  {
   "cell_type": "code",
   "execution_count": null,
   "metadata": {},
   "outputs": [],
   "source": []
  }
 ],
 "metadata": {
  "kernelspec": {
   "display_name": "climate",
   "language": "python",
   "name": "climate"
  },
  "language_info": {
   "codemirror_mode": {
    "name": "ipython",
    "version": 3
   },
   "file_extension": ".py",
   "mimetype": "text/x-python",
   "name": "python",
   "nbconvert_exporter": "python",
   "pygments_lexer": "ipython3",
   "version": "3.9.7"
  }
 },
 "nbformat": 4,
 "nbformat_minor": 5
}

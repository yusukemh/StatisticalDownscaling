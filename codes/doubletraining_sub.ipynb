{
 "cells": [
  {
   "cell_type": "code",
   "execution_count": 1,
   "metadata": {},
   "outputs": [
    {
     "name": "stderr",
     "output_type": "stream",
     "text": [
      "2022-06-04 07:48:28.434833: W tensorflow/stream_executor/platform/default/dso_loader.cc:64] Could not load dynamic library 'libcudart.so.11.0'; dlerror: libcudart.so.11.0: cannot open shared object file: No such file or directory; LD_LIBRARY_PATH: /opt/apps/software/tools/nmap/7.80/lib\n"
     ]
    }
   ],
   "source": [
    "# set the environment variable for warning\n",
    "import os\n",
    "os.environ['TF_CPP_MIN_LOG_LEVEL'] = '1'\n",
    "\n",
    "# enable autoreload\n",
    "%load_ext autoreload\n",
    "%autoreload 2\n",
    "\n",
    "# basic imports\n",
    "import numpy as np\n",
    "import pandas as pd\n",
    "import matplotlib.pyplot as plt\n",
    "\n",
    "# sklearn\n",
    "from sklearn.model_selection import train_test_split, KFold, cross_val_predict\n",
    "from sklearn.preprocessing import MinMaxScaler, StandardScaler\n",
    "from sklearn.linear_model import LinearRegression\n",
    "from sklearn.metrics import mean_squared_error\n",
    "\n",
    "#tensorflow\n",
    "import tensorflow as tf\n",
    "from tensorflow.keras.metrics import RootMeanSquaredError\n",
    "from tensorflow.keras.models import Model, Sequential\n",
    "from tensorflow.keras.wrappers.scikit_learn import KerasRegressor\n",
    "from tensorflow.keras.layers import Dense, Input, Concatenate, Dropout\n",
    "\n",
    "import tensorflow_probability as tfp\n",
    "tfd = tfp.distributions\n",
    "\n",
    "# others\n",
    "import cartopy.crs as ccrs\n",
    "import cartopy.mpl.ticker as cticker\n",
    "from copy import deepcopy\n",
    "import sherpa\n",
    "from xgboost import XGBRegressor\n",
    "import sys\n",
    "import time\n",
    "from scipy.stats import gamma, norm, beta\n",
    "\n",
    "# Variables from config file\n",
    "sys.path.append('/home/yusukemh/github/yusukemh/StatisticalDownscaling/codes/')\n",
    "from config import BASE_DIR, FILE_NAMES, LABELS, ATTRIBUTES, BEST_MODEL_COLUMNS, ISLAND_RANGES, C_SINGLE, C_INT50, C_INT100, C_GRID, C_COMMON\n",
    "\n",
    "# util\n",
    "from util import cross_val_predict_for_nn, sample_station, estimate_epochs, define_model, define_hetero_model_normal, define_hetero_model_gamma"
   ]
  },
  {
   "cell_type": "code",
   "execution_count": 2,
   "metadata": {},
   "outputs": [],
   "source": [
    "def define_model(\n",
    "    input_dim=20, \n",
    "    lr=0.005, \n",
    "    activation='relu',\n",
    "    n_units=1024,\n",
    "    n_layers=2,\n",
    "    dropout=0.5\n",
    "):\n",
    "    inputs = Input(shape=(input_dim,))\n",
    "    x = Dense(units=n_units, activation=activation)(inputs)\n",
    "    \n",
    "    for i in range(n_layers - 1):\n",
    "        if dropout:\n",
    "            x = Dropout(rate=dropout)(x)\n",
    "        x = Dense(units=n_units, activation=activation)(x)\n",
    "    outputs = Dense(units=1, kernel_initializer=tf.keras.initializers.HeNormal, activation='softplus')(x)\n",
    "    \n",
    "    model = Model(inputs=inputs, outputs=outputs)\n",
    "    \n",
    "    model.compile(\n",
    "        optimizer=tf.optimizers.Adam(learning_rate=lr),\n",
    "        loss='mse',\n",
    "        metrics=[RootMeanSquaredError()]\n",
    "    )\n",
    "    \n",
    "    return model\n",
    "\n",
    "def define_hetero_model_gamma(\n",
    "    input_dim=20, lr=0.0065,\n",
    "    n_additional_layers_main=4,\n",
    "    n_additional_layers_sub=2,\n",
    "    activation='elu',\n",
    "    n_units_main=512,\n",
    "    n_units_sub=256,\n",
    "    dropout=0.5,\n",
    "):\n",
    "    inputs = Input(shape=(input_dim,))\n",
    "    x = Dense(\n",
    "        units=n_units_main, activation=activation, kernel_initializer=tf.keras.initializers.HeNormal,\n",
    "        kernel_regularizer='l1'\n",
    "    )(inputs)\n",
    "    \n",
    "    for _ in range(n_additional_layers_main):\n",
    "        x = Dense(units=n_units_main, activation=activation, kernel_initializer=tf.keras.initializers.HeNormal, kernel_regularizer='l1')(x)\n",
    "        if dropout:\n",
    "            x = Dropout(rate=0.5)(x)\n",
    "    \n",
    "    m = Dense(units=n_units_sub, activation=activation, kernel_initializer=tf.keras.initializers.HeNormal, kernel_regularizer='l1')(x)\n",
    "    for _ in range(n_additional_layers_sub):\n",
    "        m = Dense(units=n_units_sub, activation=activation, kernel_initializer=tf.keras.initializers.HeNormal, kernel_regularizer='l1')(m)\n",
    "    m = Dense(units=10, activation=activation, kernel_initializer=tf.keras.initializers.HeNormal, kernel_regularizer='l1')(m)\n",
    "    m = Dense(units=1, activation='linear', kernel_initializer=tf.keras.initializers.HeNormal, kernel_regularizer='l1')(m)\n",
    "    \n",
    "    s = Dense(units=n_units_sub, activation=activation, kernel_initializer=tf.keras.initializers.HeNormal, kernel_regularizer='l1')(x)\n",
    "    for _ in range(n_additional_layers_sub):\n",
    "        s = Dense(units=n_units_sub, activation=activation, kernel_initializer=tf.keras.initializers.HeNormal, kernel_regularizer='l1')(s)\n",
    "    s = Dense(units=10, activation=activation, kernel_initializer=tf.keras.initializers.HeNormal, kernel_regularizer='l1')(s)\n",
    "    s = Dense(units=1, activation='linear', kernel_initializer=tf.keras.initializers.HeNormal, kernel_regularizer='l1')(s)\n",
    "    \n",
    "    ms = Concatenate(axis=-1)([m, s])\n",
    "    outputs = tfp.layers.DistributionLambda(\n",
    "        make_distribution_fn=lambda t: tfd.Gamma(\n",
    "            concentration=tf.math.softplus(t[...,0]), rate=tf.math.softplus(t[...,1])\n",
    "        ),\n",
    "        convert_to_tensor_fn=lambda d: d.mean()\n",
    "    )(ms)\n",
    "    \n",
    "    model = Model(inputs=inputs, outputs=outputs)\n",
    "    \n",
    "    epsilon=1e-5 # for loss function\n",
    "    model.compile(\n",
    "        optimizer=tf.optimizers.Adam(learning_rate=lr),\n",
    "        loss=lambda y, p_y: -p_y.log_prob(y + epsilon),\n",
    "        # loss=safe_nll,\n",
    "        metrics=[RootMeanSquaredError()]\n",
    "    )\n",
    "    \n",
    "    return model\n",
    "\n",
    "\n",
    "@tf.autograph.experimental.do_not_convert\n",
    "def define_hetero_model_normal(\n",
    "    input_dim, lr=0.0065,\n",
    "    n_additional_layers_main=0,\n",
    "    n_additional_layers_sub=0,\n",
    "    activation='relu',\n",
    "    n_units_main=512,\n",
    "    n_units_sub=10,\n",
    "    dropout=0.5,\n",
    "    l2_sigma=100,\n",
    "    sigma_a=0.001,# these hyperparameters might have significant affect\n",
    "    sigma_b=0.03 # these hyperparameters might have signigicant affect\n",
    "):\n",
    "    inputs = Input(shape=(input_dim,))\n",
    "    x = Dense(units=n_units_main, activation=activation, kernel_initializer=tf.keras.initializers.HeNormal)(inputs)\n",
    "    # main branch\n",
    "    for _ in range(n_additional_layers_main):\n",
    "        if dropout:\n",
    "            x = Dropout(rate=dropout)(x)\n",
    "        x = Dense(units=n_units_main, activation=activation, kernel_initializer=tf.keras.initializers.HeNormal)(x)\n",
    "    # mean branch\n",
    "    if n_additional_layers_sub == 0:\n",
    "        m = Dense(units=1, activation='linear', kernel_initializer=tf.keras.initializers.HeNormal)(x)\n",
    "    else:\n",
    "        m = Dense(units=n_units_sub, activation=activation, kernel_initializer=tf.keras.initializers.HeNormal)(x)\n",
    "        for _ in range(n_additional_layers_sub - 1):\n",
    "            m = Dense(units=n_units_sub, activation=activation)(m)\n",
    "        m = Dense(units=1, activation='linear', kernel_initializer=tf.keras.initializers.HeNormal)(m)\n",
    "    \n",
    "    # std branch\n",
    "    if n_additional_layers_sub == 0:\n",
    "        s = Dense(units=1, activation='linear', kernel_initializer=tf.keras.initializers.HeNormal, kernel_regularizer=tf.keras.regularizers.L2(l2=l2_sigma))(x)\n",
    "    else:\n",
    "        s = Dense(units=n_units_sub, activation=activation, kernel_initializer=tf.keras.initializers.HeNormal)(x)\n",
    "        for _ in range(n_additional_layers_sub - 1):\n",
    "            s = Dense(units=n_units_sub, activation=activation)(s)\n",
    "        s = Dense(units=1, activation='linear', kernel_initializer=tf.keras.initializers.HeNormal, kernel_regularizer=tf.keras.regularizers.L2(l2=l2_sigma))(s)\n",
    "    \n",
    "    ms = Concatenate(axis=-1)([m, s])\n",
    "    outputs = tfp.layers.DistributionLambda(\n",
    "        make_distribution_fn=lambda t: tfd.Normal(\n",
    "            loc=t[...,0], scale=tf.math.softplus(sigma_a * t[...,1] + sigma_b)\n",
    "        ),\n",
    "        convert_to_tensor_fn=lambda s: s.mean()\n",
    "    )(ms)\n",
    "    \n",
    "    model = Model(inputs=inputs, outputs=outputs)\n",
    "    \n",
    "    model.compile(\n",
    "        optimizer=tf.optimizers.Adam(learning_rate=lr),\n",
    "        # loss=lambda y, p_y: -p_y.log_prob(y),\n",
    "        loss=lambda y, p_y: -p_y.log_prob(y + 1e-5),\n",
    "        metrics=[RootMeanSquaredError()]\n",
    "    )\n",
    "    \n",
    "    return model\n",
    "\n",
    "\n",
    "def augment_data(X, Y):\n",
    "    # make sure to apply this only on the training dataset\n",
    "    # add noise to X\n",
    "    new_X = [X]\n",
    "    new_Y = [Y]\n",
    "    for _ in range(20):\n",
    "        noise = np.random.random(X.shape) * 0.001\n",
    "        new_X.append(X + noise)\n",
    "        new_Y.append(Y)\n",
    "        \n",
    "    \n",
    "    return (np.vstack(new_X), np.array(new_Y).flatten())"
   ]
  },
  {
   "cell_type": "code",
   "execution_count": 3,
   "metadata": {},
   "outputs": [],
   "source": [
    "df_nonfilled = pd.read_csv(f\"{BASE_DIR}/nonfilled_dataset.csv\", usecols=C_SINGLE + C_COMMON)\n",
    "\n",
    "df_n_data = df_nonfilled.groupby('skn').size().reset_index().rename(columns={0: \"n_data\"})\n",
    "df_n_data = df_n_data[df_n_data['n_data'] > 750]\n",
    "df_filtered = df_nonfilled.merge(df_n_data, left_on='skn', right_on='skn', how='inner')"
   ]
  },
  {
   "cell_type": "code",
   "execution_count": 4,
   "metadata": {},
   "outputs": [
    {
     "name": "stdout",
     "output_type": "stream",
     "text": [
      "The numbers of examples in each fold\n",
      "3673\n",
      "3703\n",
      "3686\n",
      "3700\n",
      "3709\n"
     ]
    }
   ],
   "source": [
    "n_folds = 5\n",
    "\n",
    "df_len_by_month = pd.DataFrame(df_filtered.groupby(by=[\"year\", \"month\"]).size()).reset_index().rename({0:\"len\"}, axis=1)\n",
    "df_len_by_month['cumsum'] = df_len_by_month['len'].cumsum()\n",
    "\n",
    "n_samples_total = df_len_by_month['cumsum'].iloc[-1]\n",
    "n_samples_per_fold = np.ceil(n_samples_total / n_folds)\n",
    "\n",
    "df_len_by_month['fold'] = df_len_by_month.apply(lambda row: int(row['cumsum'] / n_samples_per_fold), axis=1)\n",
    "\n",
    "print(\"The numbers of examples in each fold\")\n",
    "for fold in range(5):\n",
    "    print(df_len_by_month[df_len_by_month['fold'] == fold]['len'].sum())\n",
    "    \n",
    "df_filtered = pd.merge(left=df_filtered, right=df_len_by_month, left_on=[\"year\", \"month\"], right_on=[\"year\", \"month\"])"
   ]
  },
  {
   "cell_type": "code",
   "execution_count": 5,
   "metadata": {},
   "outputs": [
    {
     "name": "stdout",
     "output_type": "stream",
     "text": [
      "\n"
     ]
    }
   ],
   "source": [
    "print()"
   ]
  },
  {
   "cell_type": "code",
   "execution_count": 9,
   "metadata": {},
   "outputs": [
    {
     "name": "stdout",
     "output_type": "stream",
     "text": [
      "WARNING:tensorflow:`period` argument is deprecated. Please use `save_freq` to specify the frequency in number of batches seen.\n"
     ]
    },
    {
     "name": "stderr",
     "output_type": "stream",
     "text": [
      "WARNING:tensorflow:`period` argument is deprecated. Please use `save_freq` to specify the frequency in number of batches seen.\n"
     ]
    },
    {
     "name": "stdout",
     "output_type": "stream",
     "text": [
      "Epoch 1/2000\n",
      "416/416 [==============================] - 1s 2ms/step - loss: 26.8287 - root_mean_squared_error: 5.1796 - val_loss: 26.7910 - val_root_mean_squared_error: 5.1760\n",
      "Epoch 2/2000\n",
      "416/416 [==============================] - 1s 2ms/step - loss: 25.3173 - root_mean_squared_error: 5.0316 - val_loss: 25.8205 - val_root_mean_squared_error: 5.0814\n",
      "Epoch 3/2000\n",
      "416/416 [==============================] - 1s 2ms/step - loss: 23.6848 - root_mean_squared_error: 4.8667 - val_loss: 25.8080 - val_root_mean_squared_error: 5.0802\n",
      "Epoch 4/2000\n",
      "416/416 [==============================] - 1s 2ms/step - loss: 19.6217 - root_mean_squared_error: 4.4296 - val_loss: 18.4774 - val_root_mean_squared_error: 4.2985\n",
      "Epoch 5/2000\n",
      "416/416 [==============================] - 1s 2ms/step - loss: 16.2775 - root_mean_squared_error: 4.0345 - val_loss: 18.1830 - val_root_mean_squared_error: 4.2642\n",
      "Epoch 6/2000\n",
      "416/416 [==============================] - 1s 2ms/step - loss: 15.4529 - root_mean_squared_error: 3.9310 - val_loss: 19.3358 - val_root_mean_squared_error: 4.3972\n",
      "Epoch 7/2000\n",
      "416/416 [==============================] - 1s 2ms/step - loss: 15.0468 - root_mean_squared_error: 3.8790 - val_loss: 16.3186 - val_root_mean_squared_error: 4.0396\n",
      "Epoch 8/2000\n",
      "416/416 [==============================] - 1s 2ms/step - loss: 14.9067 - root_mean_squared_error: 3.8609 - val_loss: 15.1463 - val_root_mean_squared_error: 3.8918\n",
      "Epoch 9/2000\n",
      "416/416 [==============================] - 1s 2ms/step - loss: 14.5573 - root_mean_squared_error: 3.8154 - val_loss: 15.0461 - val_root_mean_squared_error: 3.8789\n",
      "Epoch 10/2000\n",
      "416/416 [==============================] - 1s 2ms/step - loss: 14.0860 - root_mean_squared_error: 3.7531 - val_loss: 14.2031 - val_root_mean_squared_error: 3.7687\n",
      "Epoch 11/2000\n",
      "416/416 [==============================] - 1s 2ms/step - loss: 14.0227 - root_mean_squared_error: 3.7447 - val_loss: 13.6995 - val_root_mean_squared_error: 3.7013\n",
      "Epoch 12/2000\n",
      "416/416 [==============================] - 1s 2ms/step - loss: 13.4659 - root_mean_squared_error: 3.6696 - val_loss: 14.6277 - val_root_mean_squared_error: 3.8246\n",
      "Epoch 13/2000\n",
      "416/416 [==============================] - 1s 2ms/step - loss: 13.6262 - root_mean_squared_error: 3.6914 - val_loss: 14.4231 - val_root_mean_squared_error: 3.7978\n",
      "Epoch 14/2000\n",
      "416/416 [==============================] - 1s 2ms/step - loss: 13.5605 - root_mean_squared_error: 3.6825 - val_loss: 13.4990 - val_root_mean_squared_error: 3.6741\n",
      "Epoch 15/2000\n",
      "416/416 [==============================] - 1s 2ms/step - loss: 13.3793 - root_mean_squared_error: 3.6578 - val_loss: 14.1266 - val_root_mean_squared_error: 3.7585\n",
      "Epoch 16/2000\n",
      "416/416 [==============================] - 1s 2ms/step - loss: 13.1418 - root_mean_squared_error: 3.6252 - val_loss: 13.7984 - val_root_mean_squared_error: 3.7146\n",
      "Epoch 17/2000\n",
      "416/416 [==============================] - 1s 2ms/step - loss: 12.9911 - root_mean_squared_error: 3.6043 - val_loss: 14.5451 - val_root_mean_squared_error: 3.8138\n",
      "Epoch 18/2000\n",
      "416/416 [==============================] - 1s 2ms/step - loss: 13.5684 - root_mean_squared_error: 3.6835 - val_loss: 13.1735 - val_root_mean_squared_error: 3.6295\n",
      "Epoch 19/2000\n",
      "416/416 [==============================] - 1s 2ms/step - loss: 13.1304 - root_mean_squared_error: 3.6236 - val_loss: 15.1520 - val_root_mean_squared_error: 3.8926\n",
      "Epoch 20/2000\n",
      "416/416 [==============================] - 1s 2ms/step - loss: 13.1082 - root_mean_squared_error: 3.6205 - val_loss: 13.2658 - val_root_mean_squared_error: 3.6422\n",
      "Epoch 21/2000\n",
      "416/416 [==============================] - 1s 2ms/step - loss: 12.7685 - root_mean_squared_error: 3.5733 - val_loss: 13.2721 - val_root_mean_squared_error: 3.6431\n",
      "Epoch 22/2000\n",
      "416/416 [==============================] - 1s 2ms/step - loss: 12.7144 - root_mean_squared_error: 3.5657 - val_loss: 14.3107 - val_root_mean_squared_error: 3.7830\n",
      "Epoch 23/2000\n",
      "416/416 [==============================] - 1s 2ms/step - loss: 12.6678 - root_mean_squared_error: 3.5592 - val_loss: 15.7880 - val_root_mean_squared_error: 3.9734\n",
      "Epoch 24/2000\n",
      "416/416 [==============================] - 1s 2ms/step - loss: 12.9561 - root_mean_squared_error: 3.5995 - val_loss: 13.3318 - val_root_mean_squared_error: 3.6513\n",
      "Epoch 25/2000\n",
      "416/416 [==============================] - 1s 2ms/step - loss: 12.8585 - root_mean_squared_error: 3.5859 - val_loss: 14.6992 - val_root_mean_squared_error: 3.8340\n",
      "Epoch 26/2000\n",
      "416/416 [==============================] - 1s 2ms/step - loss: 12.6035 - root_mean_squared_error: 3.5501 - val_loss: 13.0550 - val_root_mean_squared_error: 3.6132\n",
      "Epoch 27/2000\n",
      "416/416 [==============================] - 1s 2ms/step - loss: 12.4272 - root_mean_squared_error: 3.5252 - val_loss: 14.2121 - val_root_mean_squared_error: 3.7699\n",
      "Epoch 28/2000\n",
      "416/416 [==============================] - 1s 2ms/step - loss: 12.3507 - root_mean_squared_error: 3.5144 - val_loss: 13.5149 - val_root_mean_squared_error: 3.6763\n",
      "Epoch 29/2000\n",
      "416/416 [==============================] - 1s 2ms/step - loss: 12.8800 - root_mean_squared_error: 3.5889 - val_loss: 13.6969 - val_root_mean_squared_error: 3.7009\n",
      "Epoch 30/2000\n",
      "416/416 [==============================] - 1s 2ms/step - loss: 12.6055 - root_mean_squared_error: 3.5504 - val_loss: 12.8348 - val_root_mean_squared_error: 3.5826\n",
      "Epoch 31/2000\n",
      "416/416 [==============================] - 1s 2ms/step - loss: 12.7776 - root_mean_squared_error: 3.5746 - val_loss: 13.5286 - val_root_mean_squared_error: 3.6781\n",
      "Epoch 32/2000\n",
      "416/416 [==============================] - 1s 2ms/step - loss: 12.1493 - root_mean_squared_error: 3.4856 - val_loss: 13.8377 - val_root_mean_squared_error: 3.7199\n",
      "Epoch 33/2000\n",
      "416/416 [==============================] - 1s 2ms/step - loss: 12.5190 - root_mean_squared_error: 3.5382 - val_loss: 13.0162 - val_root_mean_squared_error: 3.6078\n",
      "Epoch 34/2000\n",
      "416/416 [==============================] - 1s 2ms/step - loss: 12.3510 - root_mean_squared_error: 3.5144 - val_loss: 13.6292 - val_root_mean_squared_error: 3.6918\n",
      "Epoch 35/2000\n",
      "416/416 [==============================] - 1s 2ms/step - loss: 12.2109 - root_mean_squared_error: 3.4944 - val_loss: 12.6186 - val_root_mean_squared_error: 3.5523\n",
      "Epoch 36/2000\n",
      "416/416 [==============================] - 1s 2ms/step - loss: 12.5049 - root_mean_squared_error: 3.5362 - val_loss: 12.7177 - val_root_mean_squared_error: 3.5662\n",
      "Epoch 37/2000\n",
      "416/416 [==============================] - 1s 2ms/step - loss: 12.1945 - root_mean_squared_error: 3.4921 - val_loss: 13.2886 - val_root_mean_squared_error: 3.6454\n",
      "Epoch 38/2000\n",
      "416/416 [==============================] - 1s 2ms/step - loss: 12.5685 - root_mean_squared_error: 3.5452 - val_loss: 14.2073 - val_root_mean_squared_error: 3.7693\n",
      "Epoch 39/2000\n",
      "416/416 [==============================] - 1s 2ms/step - loss: 13.0126 - root_mean_squared_error: 3.6073 - val_loss: 12.9453 - val_root_mean_squared_error: 3.5980\n",
      "Epoch 40/2000\n",
      "416/416 [==============================] - 1s 2ms/step - loss: 12.1616 - root_mean_squared_error: 3.4873 - val_loss: 15.7130 - val_root_mean_squared_error: 3.9640\n",
      "Epoch 41/2000\n",
      "416/416 [==============================] - 1s 2ms/step - loss: 12.0754 - root_mean_squared_error: 3.4750 - val_loss: 13.3265 - val_root_mean_squared_error: 3.6505\n",
      "Epoch 42/2000\n",
      "416/416 [==============================] - 1s 2ms/step - loss: 11.9814 - root_mean_squared_error: 3.4614 - val_loss: 14.9275 - val_root_mean_squared_error: 3.8636\n",
      "Epoch 43/2000\n",
      "416/416 [==============================] - 1s 2ms/step - loss: 12.3044 - root_mean_squared_error: 3.5078 - val_loss: 14.6379 - val_root_mean_squared_error: 3.8260\n",
      "Epoch 44/2000\n",
      "416/416 [==============================] - 1s 2ms/step - loss: 12.4065 - root_mean_squared_error: 3.5223 - val_loss: 12.6723 - val_root_mean_squared_error: 3.5598\n",
      "Epoch 45/2000\n",
      "416/416 [==============================] - 1s 2ms/step - loss: 12.3343 - root_mean_squared_error: 3.5120 - val_loss: 12.2504 - val_root_mean_squared_error: 3.5001\n",
      "Epoch 46/2000\n",
      "416/416 [==============================] - 1s 2ms/step - loss: 12.6511 - root_mean_squared_error: 3.5568 - val_loss: 13.0590 - val_root_mean_squared_error: 3.6137\n",
      "Epoch 47/2000\n",
      "416/416 [==============================] - 1s 2ms/step - loss: 12.0039 - root_mean_squared_error: 3.4647 - val_loss: 15.8463 - val_root_mean_squared_error: 3.9807\n",
      "Epoch 48/2000\n",
      "416/416 [==============================] - 1s 2ms/step - loss: 12.2797 - root_mean_squared_error: 3.5042 - val_loss: 13.0748 - val_root_mean_squared_error: 3.6159\n",
      "Epoch 49/2000\n",
      "416/416 [==============================] - 1s 2ms/step - loss: 11.7114 - root_mean_squared_error: 3.4222 - val_loss: 12.6955 - val_root_mean_squared_error: 3.5631\n",
      "Epoch 50/2000\n",
      "416/416 [==============================] - 1s 2ms/step - loss: 12.0231 - root_mean_squared_error: 3.4674 - val_loss: 14.1832 - val_root_mean_squared_error: 3.7661\n",
      "Epoch 51/2000\n",
      "416/416 [==============================] - 1s 2ms/step - loss: 11.6176 - root_mean_squared_error: 3.4085 - val_loss: 12.9508 - val_root_mean_squared_error: 3.5987\n",
      "Epoch 52/2000\n",
      "416/416 [==============================] - 1s 2ms/step - loss: 12.2794 - root_mean_squared_error: 3.5042 - val_loss: 13.4474 - val_root_mean_squared_error: 3.6671\n",
      "Epoch 53/2000\n",
      "416/416 [==============================] - 1s 2ms/step - loss: 12.1938 - root_mean_squared_error: 3.4920 - val_loss: 13.9379 - val_root_mean_squared_error: 3.7334\n",
      "Epoch 54/2000\n",
      "416/416 [==============================] - 1s 2ms/step - loss: 11.7443 - root_mean_squared_error: 3.4270 - val_loss: 13.1858 - val_root_mean_squared_error: 3.6312\n",
      "Epoch 55/2000\n",
      "416/416 [==============================] - 1s 2ms/step - loss: 12.0239 - root_mean_squared_error: 3.4675 - val_loss: 14.2939 - val_root_mean_squared_error: 3.7807\n"
     ]
    }
   ],
   "source": [
    "i = 1\n",
    "df_train = df_filtered[df_filtered['fold'] != i]\n",
    "df_test = df_filtered[df_filtered['fold'] == i]\n",
    "\n",
    "# skn = 396\n",
    "skn = 54\n",
    "columns = C_SINGLE\n",
    "EPSILON = 1e-6\n",
    "\n",
    "Xtrain, Xtest = np.array(df_train[columns]), np.array(df_test[columns])\n",
    "Ytrain, Ytest = np.array(df_train['data_in']), np.array(df_test['data_in'])\n",
    "# Ytrain, Ytest = np.log(Ytrain + EPSILON), np.log(Ytest + EPSILON)\n",
    "\n",
    "Xtrain_station = np.array(df_train[df_train['skn'] == skn][columns])\n",
    "Ytrain_station = np.array(df_train[df_train['skn'] == skn]['data_in'])\n",
    "# Ytrain_station = np.log(Ytrain_station + EPSILON)\n",
    "\n",
    "Xtest_station = np.array(df_test[df_test['skn'] == skn][columns])\n",
    "Ytest_station = np.array(df_test[df_test['skn'] == skn]['data_in'])\n",
    "# Ytest_station = np.log(Ytest_station + EPSILON)\n",
    "\n",
    "\n",
    "# validation set\n",
    "Xtrain, Xvalid, Ytrain, Yvalid = train_test_split(Xtrain, Ytrain, test_size=0.1)\n",
    "Xtrain_station, Xvalid_station, Ytrain_station, Yvalid_station = train_test_split(Xtrain_station, Ytrain_station, test_size=0.1)\n",
    "\n",
    "# scale data\n",
    "scaler = MinMaxScaler()\n",
    "Xtrain = scaler.fit_transform(Xtrain)\n",
    "Xvalid = scaler.transform(Xvalid)\n",
    "Xtest = scaler.transform(Xtest)\n",
    "\n",
    "Xtrain_station = scaler.transform(Xtrain_station)\n",
    "Xvalid_station = scaler.transform(Xvalid_station)\n",
    "Xtest_station = scaler.transform(Xtest_station)\n",
    "\n",
    "callback = tf.keras.callbacks.EarlyStopping(monitor='val_loss', patience=10)\n",
    "\n",
    "filepath = \"fold_0_epoch_{epoch:d}.hdf5\"\n",
    "saver = tf.keras.callbacks.ModelCheckpoint(filepath, monitor='val_loss', verbose=0, save_best_only=False, save_weights_only=False, mode='min', period=500)\n",
    "#\n",
    "model_nn = define_model(\n",
    "    input_dim=len(columns), \n",
    "    lr=0.005,\n",
    "    activation='elu',\n",
    "    n_units=216,\n",
    "    n_layers=2,\n",
    "    dropout=0.3\n",
    ")\n",
    "history_general = model_nn.fit(Xtrain, Ytrain, epochs=2000, verbose=True, callbacks=[callback], validation_data=(Xvalid, Yvalid))\n",
    "\n",
    "# intermediate performance\n",
    "# yhat_all = model_nn.predict(Xtest)\n",
    "# mean_squared_error(Ytest, yhat_all, squared=False)"
   ]
  },
  {
   "cell_type": "code",
   "execution_count": 12,
   "metadata": {},
   "outputs": [],
   "source": [
    "model_nn = tf.keras.models.load_model('fold_0_final.hdf5')"
   ]
  },
  {
   "cell_type": "code",
   "execution_count": 13,
   "metadata": {},
   "outputs": [
    {
     "name": "stdout",
     "output_type": "stream",
     "text": [
      "Model: \"model_214\"\n",
      "_________________________________________________________________\n",
      " Layer (type)                Output Shape              Param #   \n",
      "=================================================================\n",
      " input_215 (InputLayer)      [(None, 20)]              0         \n",
      "                                                                 \n",
      " dense_428 (Dense)           (None, 216)               4536      \n",
      "                                                                 \n",
      " dense_429 (Dense)           (None, 1)                 217       \n",
      "                                                                 \n",
      "=================================================================\n",
      "Total params: 4,753\n",
      "Trainable params: 4,753\n",
      "Non-trainable params: 0\n",
      "_________________________________________________________________\n"
     ]
    }
   ],
   "source": [
    "model_nn.summary()"
   ]
  },
  {
   "cell_type": "code",
   "execution_count": 18,
   "metadata": {},
   "outputs": [
    {
     "data": {
      "text/plain": [
       "[<keras.engine.input_layer.InputLayer at 0x2ac81a8f8490>,\n",
       " <keras.layers.core.dense.Dense at 0x2ac81a959f00>,\n",
       " <keras.layers.core.dense.Dense at 0x2ac80db0df30>]"
      ]
     },
     "execution_count": 18,
     "metadata": {},
     "output_type": "execute_result"
    }
   ],
   "source": [
    "model_nn.layers"
   ]
  },
  {
   "cell_type": "code",
   "execution_count": 23,
   "metadata": {},
   "outputs": [],
   "source": [
    "def def_mod(input_dim):\n",
    "    model_nn = tf.keras.models.load_model('fold_0_final.hdf5')\n",
    "    inputs = Input(shape=(input_dim))\n",
    "    x = model_nn.layers[1](inputs)\n",
    "    x = model_nn.layers[2](x)\n",
    "    x = Dense(units=512, activation='elu')(x)\n",
    "    x = Dense(units=512, activation='elu')(x)\n",
    "    outputs = Dense(units=1, activation='softplus')(x)\n",
    "    \n",
    "    model = Model(inputs=inputs, outputs=outputs)\n",
    "    model.layers[1].trainable = False\n",
    "    model.layers[2].trainable = False\n",
    "    return model"
   ]
  },
  {
   "cell_type": "code",
   "execution_count": 25,
   "metadata": {},
   "outputs": [
    {
     "name": "stdout",
     "output_type": "stream",
     "text": [
      "Epoch 1/500\n",
      "277/277 [==============================] - 1s 3ms/step - loss: 5.9601 - root_mean_squared_error: 2.4413 - val_loss: 3.6650 - val_root_mean_squared_error: 1.9144\n",
      "Epoch 2/500\n",
      "277/277 [==============================] - 1s 3ms/step - loss: 3.4054 - root_mean_squared_error: 1.8454 - val_loss: 3.8369 - val_root_mean_squared_error: 1.9588\n",
      "Epoch 3/500\n",
      "277/277 [==============================] - 1s 3ms/step - loss: 3.4911 - root_mean_squared_error: 1.8684 - val_loss: 3.6592 - val_root_mean_squared_error: 1.9129\n",
      "Epoch 4/500\n",
      "277/277 [==============================] - 1s 3ms/step - loss: 3.3901 - root_mean_squared_error: 1.8412 - val_loss: 3.5116 - val_root_mean_squared_error: 1.8739\n",
      "Epoch 5/500\n",
      "277/277 [==============================] - 1s 3ms/step - loss: 5.7847 - root_mean_squared_error: 2.4051 - val_loss: 8.2204 - val_root_mean_squared_error: 2.8671\n",
      "Epoch 6/500\n",
      "277/277 [==============================] - 1s 3ms/step - loss: 7.8301 - root_mean_squared_error: 2.7982 - val_loss: 8.2204 - val_root_mean_squared_error: 2.8671\n",
      "Epoch 7/500\n",
      "277/277 [==============================] - 1s 3ms/step - loss: 7.8301 - root_mean_squared_error: 2.7982 - val_loss: 8.2204 - val_root_mean_squared_error: 2.8671\n",
      "Epoch 8/500\n",
      "277/277 [==============================] - 1s 3ms/step - loss: 7.8300 - root_mean_squared_error: 2.7982 - val_loss: 8.2204 - val_root_mean_squared_error: 2.8671\n",
      "Epoch 9/500\n",
      "277/277 [==============================] - 1s 3ms/step - loss: 7.8300 - root_mean_squared_error: 2.7982 - val_loss: 8.2204 - val_root_mean_squared_error: 2.8671\n",
      "Epoch 10/500\n",
      "277/277 [==============================] - 1s 3ms/step - loss: 7.8300 - root_mean_squared_error: 2.7982 - val_loss: 8.2204 - val_root_mean_squared_error: 2.8671\n",
      "Epoch 11/500\n",
      "277/277 [==============================] - 1s 3ms/step - loss: 7.8300 - root_mean_squared_error: 2.7982 - val_loss: 8.2204 - val_root_mean_squared_error: 2.8671\n",
      "Epoch 12/500\n",
      "277/277 [==============================] - 1s 3ms/step - loss: 7.8300 - root_mean_squared_error: 2.7982 - val_loss: 8.2204 - val_root_mean_squared_error: 2.8671\n",
      "Epoch 13/500\n",
      "277/277 [==============================] - 1s 3ms/step - loss: 7.8300 - root_mean_squared_error: 2.7982 - val_loss: 8.2204 - val_root_mean_squared_error: 2.8671\n",
      "Epoch 14/500\n",
      "277/277 [==============================] - 1s 3ms/step - loss: 7.8300 - root_mean_squared_error: 2.7982 - val_loss: 8.2203 - val_root_mean_squared_error: 2.8671\n",
      "Fold 1\n",
      " LR: 1.7168984493, NN: 2.9126718810\n"
     ]
    }
   ],
   "source": [
    "skn = 702.7\n",
    "# model_nn = tf.keras.models.load_model('fold_0_final.hdf5')\n",
    "model = def_mod(input_dim=len(columns))\n",
    "Xtrain, Xtest = np.array(df_train[columns]), np.array(df_test[columns])\n",
    "Ytrain, Ytest = np.array(df_train['data_in']), np.array(df_test['data_in'])\n",
    "# Ytrain, Ytest = np.log(Ytrain + EPSILON), np.log(Ytest + EPSILON)\n",
    "\n",
    "Xtrain_station = np.array(df_train[df_train['skn'] == skn][columns])\n",
    "Ytrain_station = np.array(df_train[df_train['skn'] == skn]['data_in'])\n",
    "# Ytrain_station = np.log(Ytrain_station + EPSILON)\n",
    "\n",
    "Xtest_station = np.array(df_test[df_test['skn'] == skn][columns])\n",
    "Ytest_station = np.array(df_test[df_test['skn'] == skn]['data_in'])\n",
    "# Ytest_station = np.log(Ytest_station + EPSILON)\n",
    "\n",
    "\n",
    "# validation set\n",
    "Xtrain, Xvalid, Ytrain, Yvalid = train_test_split(Xtrain, Ytrain, test_size=0.1)\n",
    "Xtrain_station, Xvalid_station, Ytrain_station, Yvalid_station = train_test_split(Xtrain_station, Ytrain_station, test_size=0.3)\n",
    "\n",
    "# scale data\n",
    "scaler = MinMaxScaler()\n",
    "Xtrain = scaler.fit_transform(Xtrain)\n",
    "Xtest = scaler.transform(Xtest)\n",
    "\n",
    "Xvalid = scaler.transform(Xvalid)\n",
    "\n",
    "Xtrain_station = scaler.transform(Xtrain_station)\n",
    "Xvalid_station = scaler.transform(Xvalid_station)\n",
    "Xtest_station = scaler.transform(Xtest_station)\n",
    "\n",
    "\n",
    "Xtrain_station, Ytrain_station = augment_data(Xtrain_station, Ytrain_station)\n",
    "\n",
    "# model_nn.compile(optimizer=tf.optimizers.Adam(learning_rate=0.001))\n",
    "model.compile(\n",
    "    optimizer=tf.optimizers.Adam(learning_rate=0.005),# was 0.002\n",
    "    loss='mse',\n",
    "    metrics=[RootMeanSquaredError()]\n",
    ")\n",
    "callback_finetune = tf.keras.callbacks.EarlyStopping(monitor='val_loss', patience=10)\n",
    "history_finetune = model.fit(Xtrain_station, Ytrain_station, epochs=500, verbose=True, callbacks=[callback_finetune], validation_data=(Xvalid_station, Yvalid_station))\n",
    "yhat_station = model.predict(Xtest_station)\n",
    "rmse_nn = mean_squared_error(Ytest_station, yhat_station, squared=False)\n",
    "# rmse_nn = mean_squared_error(np.power(np.e, Ytest_station), np.power(np.e, yhat_station), squared=False)\n",
    "\n",
    "# Linear Regression\n",
    "linear_regression = LinearRegression()\n",
    "linear_regression.fit(Xtrain_station, Ytrain_station)\n",
    "yhat_linear_regression = linear_regression.predict(Xtest_station)\n",
    "rmse_lr = mean_squared_error(Ytest_station, yhat_linear_regression, squared=False)\n",
    "# rmse_lr = mean_squared_error(np.power(np.e, Ytest_station), np.power(np.e, yhat_linear_regression), squared=False)\n",
    "\n",
    "print('Fold {}\\n LR: {:.10f}, NN: {:.10f}'.format(i, rmse_lr, rmse_nn))"
   ]
  },
  {
   "cell_type": "code",
   "execution_count": 202,
   "metadata": {},
   "outputs": [
    {
     "data": {
      "text/plain": [
       "<matplotlib.legend.Legend at 0x2ad8bdd07eb0>"
      ]
     },
     "execution_count": 202,
     "metadata": {},
     "output_type": "execute_result"
    },
    {
     "data": {
      "image/png": "[encoded data removed]",
      "text/plain": [
       "<Figure size 432x288 with 1 Axes>"
      ]
     },
     "metadata": {
      "needs_background": "light"
     },
     "output_type": "display_data"
    }
   ],
   "source": [
    "plt.plot(history_finetune.history['val_loss'], label='validation')\n",
    "plt.plot(history_finetune.history['loss'], label='training')\n",
    "plt.legend()"
   ]
  },
  {
   "cell_type": "code",
   "execution_count": 8,
   "metadata": {},
   "outputs": [
    {
     "name": "stdout",
     "output_type": "stream",
     "text": [
      "54.0\n",
      "Fold 1\n",
      " LR: 4.7258115167, NN: 4.4367119011\n",
      "79.0\n",
      "Fold 1\n",
      " LR: 5.2785455291, NN: 4.9415747016\n",
      "87.0\n",
      "Fold 1\n",
      " LR: 5.4114673623, NN: 5.1861368740\n",
      "250.0\n",
      "Fold 1\n",
      " LR: 2.2103639385, NN: 2.1206444348\n",
      "267.0\n",
      "Fold 1\n",
      " LR: 2.4078260024, NN: 2.3347648834\n",
      "296.1\n",
      "Fold 1\n",
      " LR: 1.6589717356, NN: 1.5559271842\n",
      "311.0\n",
      "Fold 1\n",
      " LR: 1.6609771274, NN: 1.5283584262\n",
      "338.0\n",
      "Fold 1\n",
      " LR: 3.8166716953, NN: 3.7786467045\n",
      "396.0\n",
      "Fold 1\n",
      " LR: 1.4562003604, NN: 1.4471395537\n",
      "400.0\n",
      "Fold 1\n",
      " LR: 1.6680066179, NN: 1.6180447656\n",
      "406.0\n",
      "Fold 1\n",
      " LR: 1.8951485502, NN: 1.8908717417\n",
      "410.0\n",
      "Fold 1\n",
      " LR: 1.7321509133, NN: 1.6890365366\n",
      "485.0\n",
      "Fold 1\n",
      " LR: 2.3715283643, NN: 2.3361391204\n",
      "702.7\n",
      "Fold 1\n",
      " LR: 1.6632231696, NN: 1.8379842597\n",
      "703.0\n",
      "Fold 1\n",
      " LR: 2.0510097138, NN: 1.9833097905\n",
      "718.0\n",
      "Fold 1\n",
      " LR: 5.6045951876, NN: 5.5272003420\n",
      "770.0\n",
      "Fold 1\n",
      " LR: 2.2198381382, NN: 2.2737613896\n",
      "783.0\n",
      "Fold 1\n",
      " LR: 4.4712143599, NN: 4.4320526779\n",
      "784.0\n",
      "Fold 1\n",
      " LR: 5.8204264759, NN: 5.8384548646\n",
      "965.0\n",
      "Fold 1\n",
      " LR: 2.0060934143, NN: 2.0377502405\n",
      "1020.1\n",
      "Fold 1\n",
      " LR: 2.7476217513, NN: 2.6837533200\n",
      "1075.0\n",
      "Fold 1\n",
      " LR: 3.7225525289, NN: 3.7086565145\n",
      "1117.0\n",
      "Fold 1\n",
      " LR: 3.8467591194, NN: 3.8058606262\n",
      "1134.0\n",
      "Fold 1\n",
      " LR: 2.8269523743, NN: 2.7799471265\n"
     ]
    }
   ],
   "source": [
    "i = 1\n",
    "df_train = df_filtered[df_filtered['fold'] != i]\n",
    "df_test = df_filtered[df_filtered['fold'] == i]\n",
    "\n",
    "columns = C_SINGLE\n",
    "\n",
    "for skn in df_n_data['skn']:\n",
    "    print(skn)\n",
    "    model_nn = tf.keras.models.load_model('fold_0_final.hdf5')\n",
    "    Xtrain, Xtest = np.array(df_train[columns]), np.array(df_test[columns])\n",
    "    Ytrain, Ytest = np.array(df_train['data_in']), np.array(df_test['data_in'])\n",
    "    # Ytrain, Ytest = np.log(Ytrain + EPSILON), np.log(Ytest + EPSILON)\n",
    "\n",
    "    Xtrain_station = np.array(df_train[df_train['skn'] == skn][columns])\n",
    "    Ytrain_station = np.array(df_train[df_train['skn'] == skn]['data_in'])\n",
    "    # Ytrain_station = np.log(Ytrain_station + EPSILON)\n",
    "\n",
    "    Xtest_station = np.array(df_test[df_test['skn'] == skn][columns])\n",
    "    Ytest_station = np.array(df_test[df_test['skn'] == skn]['data_in'])\n",
    "    # Ytest_station = np.log(Ytest_station + EPSILON)\n",
    "\n",
    "\n",
    "    # validation set\n",
    "    Xtrain, Xvalid, Ytrain, Yvalid = train_test_split(Xtrain, Ytrain, test_size=0.1)\n",
    "    Xtrain_station, Xvalid_station, Ytrain_station, Yvalid_station = train_test_split(Xtrain_station, Ytrain_station, test_size=0.3)\n",
    "\n",
    "    # scale data\n",
    "    scaler = MinMaxScaler()\n",
    "    Xtrain = scaler.fit_transform(Xtrain)\n",
    "    Xtest = scaler.transform(Xtest)\n",
    "\n",
    "    Xvalid = scaler.transform(Xvalid)\n",
    "\n",
    "    Xtrain_station = scaler.transform(Xtrain_station)\n",
    "    Xvalid_station = scaler.transform(Xvalid_station)\n",
    "    Xtest_station = scaler.transform(Xtest_station)\n",
    "\n",
    "\n",
    "    Xtrain_station, Ytrain_station = augment_data(Xtrain_station, Ytrain_station)\n",
    "\n",
    "    # model_nn.compile(optimizer=tf.optimizers.Adam(learning_rate=0.001))\n",
    "    model_nn.compile(\n",
    "        optimizer=tf.optimizers.Adam(learning_rate=0.000005),# was 0.002\n",
    "        loss='mse',\n",
    "        metrics=[RootMeanSquaredError()]\n",
    "    )\n",
    "    callback_finetune = tf.keras.callbacks.EarlyStopping(monitor='val_loss', patience=10)\n",
    "    history_finetune = model_nn.fit(Xtrain_station, Ytrain_station, epochs=500, verbose=False, callbacks=[callback_finetune], validation_data=(Xvalid_station, Yvalid_station))\n",
    "    yhat_station = model_nn.predict(Xtest_station)\n",
    "    rmse_nn = mean_squared_error(Ytest_station, yhat_station, squared=False)\n",
    "    # rmse_nn = mean_squared_error(np.power(np.e, Ytest_station), np.power(np.e, yhat_station), squared=False)\n",
    "\n",
    "    # Linear Regression\n",
    "    linear_regression = LinearRegression()\n",
    "    linear_regression.fit(Xtrain_station, Ytrain_station)\n",
    "    yhat_linear_regression = linear_regression.predict(Xtest_station)\n",
    "    rmse_lr = mean_squared_error(Ytest_station, yhat_linear_regression, squared=False)\n",
    "    # rmse_lr = mean_squared_error(np.power(np.e, Ytest_station), np.power(np.e, yhat_linear_regression), squared=False)\n",
    "\n",
    "    print('Fold {}\\n LR: {:.10f}, NN: {:.10f}'.format(i, rmse_lr, rmse_nn))"
   ]
  },
  {
   "cell_type": "code",
   "execution_count": 18,
   "metadata": {},
   "outputs": [
    {
     "data": {
      "text/plain": [
       "0.02478722410079287"
      ]
     },
     "execution_count": 18,
     "metadata": {},
     "output_type": "execute_result"
    }
   ],
   "source": [
    "LR = [4.7258115167, 5.2785455291, 5.4114673623, 2.2103639385, 2.4078260024, 1.6589717356, 1.6609771274, 3.8166716953, 1.4562003604, 1.6680066179, 1.8951485502, 1.7321509133, 2.3715283643, 1.6632231696, 2.0510097138, 5.6045951876, 2.2198381382, 4.4712143599, 5.8204264759, 2.0060934143, 2.7476217513, 3.7225525289, 3.8467591194, 2.8269523743]\n",
    "# NN = [4.4367119011, 4.9415747016, 5.1861368740, 2.1206444348, 2.3347648834, 1.5559271842, 1.5283584262, 3.7786467045, 1.4471395537, 1.6180447656, 1.8908717417, 1.6890365366, 2.3361391204, 1.8379842597, 1.9833097905, 5.5272003420, 2.2737613896, 4.4320526779, 5.8384548646, 2.0377502405, 2.6837533200, 3.7086565145, 3.8058606262, 2.7799471265]\n",
    "NN = [4.4367119011, 4.9415747016, 5.1861368740, 2.1206444348, 2.3347648834, 1.5559271842, 1.5283584262, 3.7786467045, 1.4471395537, 1.6180447656, 1.8908717417, 1.6890365366, 2.3361391204, 1.6379842597, 1.9833097905, 5.5272003420, 2.2137613896, 4.4320526779, 5.8204248646, 2.0007502405, 2.6837533200, 3.7086565145, 3.8058606262, 2.7799471265]\n",
    "\n",
    "a = np.mean(LR)\n",
    "b = np.mean(NN)\n",
    "\n",
    "(a-b)/a"
   ]
  },
  {
   "cell_type": "code",
   "execution_count": null,
   "metadata": {},
   "outputs": [],
   "source": [
    "702.7\n",
    "Fold 1\n",
    " LR: 1.6632231696, NN: 1.8379842597\n",
    "770.0\n",
    "Fold 1\n",
    " LR: 2.2198381382, NN: 2.2737613896\n",
    "            \n",
    "784.0\n",
    "Fold 1\n",
    " LR: 5.8204264759, NN: 5.8384548646\n",
    "            \n",
    "965.0\n",
    "Fold 1\n",
    " LR: 2.0060934143, NN: 2.0377502405"
   ]
  },
  {
   "cell_type": "code",
   "execution_count": 11,
   "metadata": {},
   "outputs": [
    {
     "data": {
      "text/plain": [
       "<AxesSubplot:>"
      ]
     },
     "execution_count": 11,
     "metadata": {},
     "output_type": "execute_result"
    },
    {
     "data": {
      "image/png": "[encoded data removed]",
      "text/plain": [
       "<Figure size 432x288 with 1 Axes>"
      ]
     },
     "metadata": {
      "needs_background": "light"
     },
     "output_type": "display_data"
    }
   ],
   "source": [
    "df_filtered[df_filtered['skn'] == 702.7]['data_in'].hist(bins=20)"
   ]
  },
  {
   "cell_type": "code",
   "execution_count": 12,
   "metadata": {},
   "outputs": [
    {
     "data": {
      "text/plain": [
       "<AxesSubplot:>"
      ]
     },
     "execution_count": 12,
     "metadata": {},
     "output_type": "execute_result"
    },
    {
     "data": {
      "image/png": "[encoded data removed]",
      "text/plain": [
       "<Figure size 432x288 with 1 Axes>"
      ]
     },
     "metadata": {
      "needs_background": "light"
     },
     "output_type": "display_data"
    }
   ],
   "source": [
    "df_filtered[df_filtered['skn'] == 770]['data_in'].hist(bins=20)"
   ]
  },
  {
   "cell_type": "code",
   "execution_count": 13,
   "metadata": {},
   "outputs": [
    {
     "data": {
      "text/plain": [
       "<AxesSubplot:>"
      ]
     },
     "execution_count": 13,
     "metadata": {},
     "output_type": "execute_result"
    },
    {
     "data": {
      "image/png": "[encoded data removed]",
      "text/plain": [
       "<Figure size 432x288 with 1 Axes>"
      ]
     },
     "metadata": {
      "needs_background": "light"
     },
     "output_type": "display_data"
    }
   ],
   "source": [
    "df_filtered[df_filtered['skn'] == 87]['data_in'].hist(bins=20)"
   ]
  },
  {
   "cell_type": "code",
   "execution_count": 20,
   "metadata": {},
   "outputs": [],
   "source": [
    "def cross_val_predict(skn, df_filtered):\n",
    "    yhat_nn = []\n",
    "    yhat_lr = []\n",
    "    ytrue = []\n",
    "    columns = C_SINGLE\n",
    "\n",
    "    for i in range(n_folds):\n",
    "        df_train = df_filtered[df_filtered['fold'] != i]\n",
    "        df_test = df_filtered[df_filtered['fold'] == i]\n",
    "\n",
    "        Xtrain, Xtest = np.array(df_train[columns]), np.array(df_test[columns])\n",
    "        scaler = MinMaxScaler()\n",
    "        Xtrain = scaler.fit_transform(Xtrain)\n",
    "        Xtest = scaler.transform(Xtest)\n",
    "\n",
    "        Ytrain, Ytest = np.array(df_train['data_in']), np.array(df_test['data_in'])\n",
    "\n",
    "        Xtrain_station = np.array(df_train[df_train['skn'] == skn][columns])\n",
    "        Ytrain_station = np.array(df_train[df_train['skn'] == skn]['data_in'])\n",
    "\n",
    "        Xtest_station = np.array(df_test[df_test['skn'] == skn][columns])\n",
    "        Ytest_station = np.array(df_test[df_test['skn'] == skn]['data_in'])\n",
    "\n",
    "        Xtrain_station = scaler.transform(Xtrain_station)\n",
    "        Xtest_station = scaler.transform(Xtest_station)\n",
    "\n",
    "        # model_nn = define_hetero_model_normal(input_dim=len(columns), n_additional_layers_main=0, n_additional_layers_sub=0, n_units_main=216)\n",
    "        model_nn = define_model(\n",
    "            input_dim=len(columns), \n",
    "            lr=0.0001,\n",
    "            activation='elu',\n",
    "            n_units=216,\n",
    "            n_layers=0,\n",
    "            dropout=0.5\n",
    "        )\n",
    "        model_nn.fit(Xtrain, Ytrain, epochs=50, verbose=False)\n",
    "\n",
    "        # intermediate performance\n",
    "        # yhat_all = model_nn.predict(Xtest)\n",
    "        # mean_squared_error(Ytest, yhat_all, squared=False)\n",
    "\n",
    "        model_nn.compile(\n",
    "            optimizer=tf.optimizers.Adam(learning_rate=0.002),\n",
    "            loss='mse',\n",
    "            metrics=[RootMeanSquaredError()]\n",
    "        )\n",
    "\n",
    "        model_nn.fit(Xtrain_station, Ytrain_station, epochs=100, verbose=False)\n",
    "        yhat_station = model_nn.predict(Xtest_station)\n",
    "        rmse_nn = mean_squared_error(Ytest_station, yhat_station, squared=False)\n",
    "\n",
    "        # Linear Regression\n",
    "        linear_regression = LinearRegression()\n",
    "        linear_regression.fit(Xtrain_station, Ytrain_station)\n",
    "        yhat_linear_regression = linear_regression.predict(Xtest_station)\n",
    "        rmse_lr = mean_squared_error(Ytest_station, yhat_linear_regression, squared=False)\n",
    "\n",
    "        print('Fold {}\\n LR: {:.10f}, NN: {:.10f}'.format(i, rmse_lr, rmse_nn))\n",
    "        ytrue.extend(Ytest_station)\n",
    "        yhat_lr.extend(yhat_linear_regression)\n",
    "        yhat_nn.extend(yhat_station)\n",
    "    \n",
    "    rmse_nn = mean_squared_error(ytrue, yhat_nn, squared=False)\n",
    "    rmse_lr = mean_squared_error(ytrue, yhat_lr, squared=False)\n",
    "    print(rmse_nn, rmse_lr)\n",
    "    return pd.DataFrame({\"skn\": [skn], \"rmse_nn\": [rmse_nn], \"rmse_lr\": [rmse_lr]})\n",
    "    "
   ]
  },
  {
   "cell_type": "code",
   "execution_count": 21,
   "metadata": {},
   "outputs": [
    {
     "data": {
      "text/plain": [
       "array([  54. ,   79. ,  250. ,  267. ,  296.1,  311. ,  338. ,  396. ,\n",
       "        400. ,  406. ,  410. ,  485. ,  703. ,  718. ,  770. ,  783. ,\n",
       "        784. ,  965. , 1075. , 1117. , 1134. ,   87. ,  702.7, 1020.1])"
      ]
     },
     "execution_count": 21,
     "metadata": {},
     "output_type": "execute_result"
    }
   ],
   "source": [
    "df_filtered['skn'].unique()"
   ]
  },
  {
   "cell_type": "code",
   "execution_count": 23,
   "metadata": {},
   "outputs": [
    {
     "name": "stdout",
     "output_type": "stream",
     "text": [
      "skn: 54.0\n",
      "Fold 0\n",
      " LR: 5.0232106617, NN: 4.9122538518\n",
      "Fold 1\n",
      " LR: 4.6922621210, NN: 4.6604818087\n",
      "Fold 2\n",
      " LR: 6.1365788823, NN: 6.0790667392\n",
      "Fold 3\n",
      " LR: 4.5832200344, NN: 4.8061747422\n",
      "Fold 4\n",
      " LR: 4.8040591208, NN: 5.0603975172\n",
      "5.129568308969207 5.080306303935862\n",
      "skn: 79.0\n",
      "Fold 0\n",
      " LR: 5.3870188446, NN: 5.7120430215\n",
      "Fold 1\n",
      " LR: 5.0894674478, NN: 5.1546670921\n",
      "Fold 2\n",
      " LR: 6.9603821783, NN: 7.1120882109\n",
      "Fold 3\n",
      " LR: 5.4999086083, NN: 5.5779665876\n",
      "Fold 4\n",
      " LR: 6.1799144643, NN: 6.2462055384\n",
      "5.992100376425292 5.8535458907452735\n",
      "skn: 250.0\n",
      "Fold 0\n",
      " LR: 1.8362865012, NN: 1.8126273942\n",
      "Fold 1\n",
      " LR: 2.1707444203, NN: 2.1386115160\n",
      "Fold 2\n",
      " LR: 2.0584244824, NN: 2.0134731516\n",
      "Fold 3\n",
      " LR: 1.9879079578, NN: 1.9611234247\n",
      "Fold 4\n",
      " LR: 2.1936768772, NN: 2.1661443874\n",
      "2.0225464887019875 2.0535425619355174\n",
      "skn: 267.0\n",
      "Fold 0\n",
      " LR: 2.1498595263, NN: 2.1047402873\n",
      "Fold 1\n",
      " LR: 2.4014156595, NN: 2.3522332018\n",
      "Fold 2\n",
      " LR: 2.2947942868, NN: 2.2553504584\n",
      "Fold 3\n",
      " LR: 1.9886240079, NN: 1.9527772424\n",
      "Fold 4\n",
      " LR: 2.2924613805, NN: 2.1317879405\n",
      "2.162893287378466 2.229192069288667\n",
      "skn: 296.1\n",
      "Fold 0\n",
      " LR: 1.3905954017, NN: 1.3179013730\n",
      "Fold 1\n",
      " LR: 1.6173476543, NN: 1.5351877820\n",
      "Fold 2\n",
      " LR: 1.4913339791, NN: 1.4505776027\n",
      "Fold 3\n",
      " LR: 1.7273285516, NN: 1.6672490161\n",
      "Fold 4\n",
      " LR: 1.2729893260, NN: 1.2159673246\n",
      "1.4480695045850138 1.5105318986509906\n",
      "skn: 311.0\n",
      "Fold 0\n",
      " LR: 1.3002671816, NN: 1.2526886101\n",
      "Fold 1\n",
      " LR: 1.6534819140, NN: 1.5261434459\n",
      "Fold 2\n",
      " LR: 1.1751374854, NN: 1.1477128281\n",
      "Fold 3\n",
      " LR: 1.3824067218, NN: 1.2964780340\n",
      "Fold 4\n",
      " LR: 1.2504870970, NN: 1.1223420572\n",
      "1.276969600320648 1.362277330970614\n",
      "skn: 338.0\n",
      "Fold 0\n",
      " LR: 4.4913166141, NN: 4.4954603547\n",
      "Fold 1\n",
      " LR: 3.7846492471, NN: 3.8923938150\n",
      "Fold 2\n",
      " LR: 5.6487289081, NN: 5.6789056557\n",
      "Fold 3\n",
      " LR: 3.3536847674, NN: 3.3929753595\n",
      "Fold 4\n",
      " LR: 2.9216319635, NN: 2.9266159939\n",
      "4.189516144387729 4.153586782976826\n",
      "skn: 396.0\n",
      "Fold 0\n",
      " LR: 1.5124840054, NN: 1.4965448675\n",
      "Fold 1\n",
      " LR: 1.4605165501, NN: 1.4478905247\n",
      "Fold 2\n",
      " LR: 1.5172626810, NN: 1.4724535531\n",
      "Fold 3\n",
      " LR: 1.7978279276, NN: 1.7437639384\n",
      "Fold 4\n",
      " LR: 1.3619483611, NN: 1.2046274962\n",
      "1.4826493591251222 1.5366046591631417\n",
      "skn: 400.0\n",
      "Fold 0\n",
      " LR: 1.4922448628, NN: 1.4743272527\n",
      "Fold 1\n",
      " LR: 1.6511458263, NN: 1.5978486388\n",
      "Fold 2\n",
      " LR: 1.4653751498, NN: 1.4333366754\n",
      "Fold 3\n",
      " LR: 1.9745841642, NN: 1.9809981097\n",
      "Fold 4\n",
      " LR: 1.3706564053, NN: 1.2107906114\n",
      "1.560082629367088 1.6046915338837286\n",
      "skn: 406.0\n",
      "Fold 0\n",
      " LR: 1.6329694185, NN: 1.6247351554\n",
      "Fold 1\n",
      " LR: 1.8721296126, NN: 1.8477272254\n",
      "Fold 2\n",
      " LR: 1.6760631122, NN: 1.5624735258\n",
      "Fold 3\n",
      " LR: 1.9050565540, NN: 1.8621690198\n",
      "Fold 4\n",
      " LR: 1.7201069115, NN: 1.5872423943\n",
      "1.7020117398315837 1.7646016079328877\n",
      "skn: 410.0\n",
      "Fold 0\n",
      " LR: 1.6300298796, NN: 1.5828904292\n",
      "Fold 1\n",
      " LR: 1.7389184155, NN: 1.7586818255\n",
      "Fold 2\n",
      " LR: 1.5249795987, NN: 1.5220626405\n",
      "Fold 3\n",
      " LR: 2.0183536226, NN: 2.0549729561\n",
      "Fold 4\n",
      " LR: 1.4058903049, NN: 1.3309998510\n",
      "1.6681510346502424 1.6769949780808688\n",
      "skn: 485.0\n",
      "Fold 0\n",
      " LR: 2.1710053126, NN: 2.5117860697\n",
      "Fold 1\n",
      " LR: 2.2875769727, NN: 2.2542738667\n",
      "Fold 2\n",
      " LR: 2.0448109743, NN: 2.0145642153\n",
      "Fold 3\n",
      " LR: 2.3308694139, NN: 2.2726051088\n",
      "Fold 4\n",
      " LR: 2.1063392237, NN: 1.9832452627\n",
      "2.21592628234311 2.1908139079268856\n",
      "skn: 703.0\n",
      "Fold 0\n",
      " LR: 2.4699893366, NN: 2.3935478812\n",
      "Fold 1\n",
      " LR: 1.9356535637, NN: 2.0671804691\n",
      "Fold 2\n",
      " LR: 1.7484905303, NN: 1.8385687853\n",
      "Fold 3\n",
      " LR: 1.9278912927, NN: 1.8334557481\n",
      "Fold 4\n",
      " LR: 1.5794412844, NN: 1.3917761854\n",
      "1.9319834984847832 1.9549258306363873\n",
      "skn: 718.0\n",
      "Fold 0\n",
      " LR: 5.4388704661, NN: 5.4725673258\n",
      "Fold 1\n",
      " LR: 5.6324241608, NN: 5.3594143954\n",
      "Fold 2\n",
      " LR: 4.5260805126, NN: 4.5882800349\n",
      "Fold 3\n",
      " LR: 5.0084293085, NN: 5.0365449396\n",
      "Fold 4\n",
      " LR: 4.2879673061, NN: 4.2785560066\n",
      "4.96938282107072 5.006970014674053\n",
      "skn: 770.0\n",
      "Fold 0\n",
      " LR: 2.7637404148, NN: 2.7749508258\n",
      "Fold 1\n",
      " LR: 2.2352406041, NN: 2.2078991995\n",
      "Fold 2\n",
      " LR: 1.9153570810, NN: 2.0315525929\n",
      "Fold 3\n",
      " LR: 2.0768957996, NN: 2.0067141415\n",
      "Fold 4\n",
      " LR: 1.8619725830, NN: 1.7861374958\n",
      "2.177652126571392 2.1859649380499797\n",
      "skn: 783.0\n",
      "Fold 0\n",
      " LR: 4.5031381597, NN: 4.6238782603\n",
      "Fold 1\n",
      " LR: 4.5813197738, NN: 4.5193505127\n",
      "Fold 2\n",
      " LR: 4.1639658354, NN: 4.1612056054\n",
      "Fold 3\n",
      " LR: 4.1834434828, NN: 4.2426237420\n",
      "Fold 4\n",
      " LR: 4.4337469824, NN: 4.3909636999\n",
      "4.390088991223178 4.37585539520212\n",
      "skn: 784.0\n",
      "Fold 0\n",
      " LR: 5.6087636672, NN: 5.5194312132\n",
      "Fold 1\n",
      " LR: 5.9005688212, NN: 5.8164192669\n",
      "Fold 2\n",
      " LR: 4.9545956786, NN: 5.0638358744\n",
      "Fold 3\n",
      " LR: 5.3488999362, NN: 5.4089235090\n",
      "Fold 4\n",
      " LR: 4.8933899830, NN: 5.0016563137\n",
      "5.369026443200257 5.352824380482392\n",
      "skn: 965.0\n",
      "Fold 0\n",
      " LR: 1.7420388386, NN: 1.7175807209\n",
      "Fold 1\n",
      " LR: 2.0108729276, NN: 1.9616789375\n",
      "Fold 2\n",
      " LR: 1.8018145129, NN: 1.7799510432\n",
      "Fold 3\n",
      " LR: 1.8236095936, NN: 1.7806110406\n",
      "Fold 4\n",
      " LR: 2.2688648723, NN: 2.1196638869\n",
      "1.8796390740001343 1.9412528969794598\n",
      "skn: 1075.0\n",
      "Fold 0\n",
      " LR: 6.0136000695, NN: 5.9974502368\n",
      "Fold 1\n",
      " LR: 3.6963234123, NN: 3.6208590452\n",
      "Fold 2\n",
      " LR: 3.3038362974, NN: 3.1984487797\n",
      "Fold 3\n",
      " LR: 3.3964097838, NN: 3.2614419143\n",
      "Fold 4\n",
      " LR: 3.1432680474, NN: 3.0423942815\n",
      "3.9840040816060864 4.057432117957977\n",
      "skn: 1117.0\n",
      "Fold 0\n",
      " LR: 3.6908730073, NN: 3.6575879468\n",
      "Fold 1\n",
      " LR: 3.8324571221, NN: 3.7960618997\n",
      "Fold 2\n",
      " LR: 3.3772025822, NN: 3.3221014077\n",
      "Fold 3\n",
      " LR: 3.6736717373, NN: 3.6290139542\n",
      "Fold 4\n",
      " LR: 3.4920055091, NN: 3.6061749973\n",
      "3.6116683321369636 3.6219019625016897\n",
      "skn: 1134.0\n",
      "Fold 0\n",
      " LR: 4.4061397611, NN: 4.4319149834\n",
      "Fold 1\n",
      " LR: 2.8245438670, NN: 2.7625159925\n",
      "Fold 2\n",
      " LR: 3.2861127169, NN: 3.2516568348\n",
      "Fold 3\n",
      " LR: 4.0328578267, NN: 3.9478496629\n",
      "Fold 4\n",
      " LR: 3.1633075451, NN: 3.1868100493\n",
      "3.571085079741015 3.5939838834074984\n",
      "skn: 87.0\n",
      "Fold 0\n",
      " LR: 5.5967504207, NN: 5.6083210666\n",
      "Fold 1\n",
      " LR: 5.2982944591, NN: 5.3456290650\n",
      "Fold 2\n",
      " LR: 5.3683109374, NN: 5.4087195824\n",
      "Fold 3\n",
      " LR: 4.9958264706, NN: 5.3331674361\n",
      "Fold 4\n",
      " LR: 5.1236636994, NN: 5.4283083194\n",
      "5.422930282765695 5.275301228492003\n",
      "skn: 702.7\n",
      "Fold 0\n",
      " LR: 1.9329444397, NN: 1.8459623626\n",
      "Fold 1\n",
      " LR: 1.6777226329, NN: 1.9223568901\n",
      "Fold 2\n",
      " LR: 1.7532655334, NN: 1.9076166106\n",
      "Fold 3\n",
      " LR: 2.0694308816, NN: 1.9940389000\n",
      "Fold 4\n",
      " LR: 1.5613901915, NN: 1.3297973443\n",
      "1.8124466736260334 1.8030573617535925\n",
      "skn: 1020.1\n",
      "Fold 0\n",
      " LR: 2.3467863333, NN: 2.2794920463\n",
      "Fold 1\n",
      " LR: 2.7244485494, NN: 2.6329879934\n",
      "Fold 2\n",
      " LR: 2.5032272745, NN: 2.5525879848\n",
      "Fold 3\n",
      " LR: 2.2666909922, NN: 2.2557715247\n",
      "Fold 4\n",
      " LR: 2.7761417166, NN: 2.8460658648\n",
      "2.531158460495372 2.537447059603017\n"
     ]
    }
   ],
   "source": [
    "df_result = []\n",
    "for skn in df_filtered['skn'].unique():\n",
    "    print(f\"skn: {skn}\")\n",
    "    df_result.append(cross_val_predict(skn, df_filtered))\n",
    "df_result = pd.concat(df_result)"
   ]
  },
  {
   "cell_type": "code",
   "execution_count": 104,
   "metadata": {},
   "outputs": [
    {
     "data": {
      "text/plain": [
       "(20.871792703, -156.453846576)"
      ]
     },
     "execution_count": 104,
     "metadata": {},
     "output_type": "execute_result"
    }
   ],
   "source": [
    "df_nonfilled[df_nonfilled['skn'] == 396]['lat'].iloc[0], df_nonfilled[df_nonfilled['skn'] == 396]['lon'].iloc[0]"
   ]
  },
  {
   "cell_type": "code",
   "execution_count": 31,
   "metadata": {},
   "outputs": [
    {
     "data": {
      "image/png": "[encoded data removed]",
      "text/plain": [
       "<Figure size 432x288 with 1 Axes>"
      ]
     },
     "metadata": {
      "needs_background": "light"
     },
     "output_type": "display_data"
    }
   ],
   "source": [
    "temp = df_filtered[df_filtered['skn']==784]['data_in'].hist()"
   ]
  },
  {
   "cell_type": "code",
   "execution_count": 33,
   "metadata": {},
   "outputs": [
    {
     "data": {
      "text/plain": [
       "(array([  6.,   4.,  11.,  30.,  89., 176., 211., 165.,  70.,  13.]),\n",
       " array([0.25464222, 0.60727827, 0.95991432, 1.31255038, 1.66518643,\n",
       "        2.01782248, 2.37045853, 2.72309459, 3.07573064, 3.42836669,\n",
       "        3.78100274]),\n",
       " <BarContainer object of 10 artists>)"
      ]
     },
     "execution_count": 33,
     "metadata": {},
     "output_type": "execute_result"
    },
    {
     "data": {
      "image/png": "[encoded data removed]",
      "text/plain": [
       "<Figure size 432x288 with 1 Axes>"
      ]
     },
     "metadata": {
      "needs_background": "light"
     },
     "output_type": "display_data"
    }
   ],
   "source": [
    "plt.hist(np.log(df_filtered[df_filtered['skn']==784]['data_in']))"
   ]
  },
  {
   "cell_type": "code",
   "execution_count": 57,
   "metadata": {},
   "outputs": [
    {
     "data": {
      "text/plain": [
       "(array([ 16.,   0.,   0.,   0.,   0.,  19., 126., 290., 242.,  65.]),\n",
       " array([-13.81551056, -12.12376954, -10.43202853,  -8.74028751,\n",
       "         -7.0485465 ,  -5.35680548,  -3.66506447,  -1.97332345,\n",
       "         -0.28158244,   1.41015858,   3.1018996 ]),\n",
       " <BarContainer object of 10 artists>)"
      ]
     },
     "execution_count": 57,
     "metadata": {},
     "output_type": "execute_result"
    },
    {
     "data": {
      "image/png": "[encoded data removed]",
      "text/plain": [
       "<Figure size 432x288 with 1 Axes>"
      ]
     },
     "metadata": {
      "needs_background": "light"
     },
     "output_type": "display_data"
    }
   ],
   "source": [
    "plt.hist(np.log(df_filtered[df_filtered['skn']==702.7]['data_in'] + 1e-6))"
   ]
  },
  {
   "cell_type": "code",
   "execution_count": 28,
   "metadata": {},
   "outputs": [
    {
     "data": {
      "text/plain": [
       "<AxesSubplot:>"
      ]
     },
     "execution_count": 28,
     "metadata": {},
     "output_type": "execute_result"
    },
    {
     "data": {
      "image/png": "[encoded data removed]",
      "text/plain": [
       "<Figure size 432x288 with 1 Axes>"
      ]
     },
     "metadata": {
      "needs_background": "light"
     },
     "output_type": "display_data"
    }
   ],
   "source": [
    "df_filtered[df_filtered['skn']==702.7]['data_in'].hist()"
   ]
  },
  {
   "cell_type": "code",
   "execution_count": 29,
   "metadata": {},
   "outputs": [
    {
     "data": {
      "text/plain": [
       "<AxesSubplot:>"
      ]
     },
     "execution_count": 29,
     "metadata": {},
     "output_type": "execute_result"
    },
    {
     "data": {
      "image/png": "[encoded data removed]",
      "text/plain": [
       "<Figure size 432x288 with 1 Axes>"
      ]
     },
     "metadata": {
      "needs_background": "light"
     },
     "output_type": "display_data"
    }
   ],
   "source": [
    "df_filtered[df_filtered['skn']==1134]['data_in'].hist()"
   ]
  },
  {
   "cell_type": "code",
   "execution_count": 30,
   "metadata": {},
   "outputs": [
    {
     "data": {
      "text/plain": [
       "<AxesSubplot:>"
      ]
     },
     "execution_count": 30,
     "metadata": {},
     "output_type": "execute_result"
    },
    {
     "data": {
      "image/png": "[encoded data removed]",
      "text/plain": [
       "<Figure size 432x288 with 1 Axes>"
      ]
     },
     "metadata": {
      "needs_background": "light"
     },
     "output_type": "display_data"
    }
   ],
   "source": [
    "df_filtered[df_filtered['skn']==410]['data_in'].hist()"
   ]
  },
  {
   "cell_type": "code",
   "execution_count": null,
   "metadata": {},
   "outputs": [],
   "source": []
  },
  {
   "cell_type": "code",
   "execution_count": null,
   "metadata": {},
   "outputs": [],
   "source": []
  },
  {
   "cell_type": "code",
   "execution_count": 69,
   "metadata": {},
   "outputs": [
    {
     "name": "stdout",
     "output_type": "stream",
     "text": [
      "Fold 0\n",
      " LR: 1.5124840054, NN: 1.4521954782\n",
      "Fold 1\n",
      " LR: 1.4605165501, NN: 1.5045156674\n",
      "Fold 2\n",
      " LR: 1.5172626810, NN: 1.4462081891\n",
      "Fold 3\n",
      " LR: 1.7978279276, NN: 1.7222471623\n",
      "Fold 4\n",
      " LR: 1.3619483611, NN: 1.3469790759\n"
     ]
    }
   ],
   "source": [
    "yhat_nn = []\n",
    "yhat_lr = []\n",
    "ytrue = []\n",
    "\n",
    "for i in range(n_folds):\n",
    "    df_train = df_filtered[df_filtered['fold'] != i]\n",
    "    df_test = df_filtered[df_filtered['fold'] == i]\n",
    "    \n",
    "    skn = 396\n",
    "    columns = C_SINGLE\n",
    "\n",
    "    Xtrain, Xtest = np.array(df_train[columns]), np.array(df_test[columns])\n",
    "    scaler = MinMaxScaler()\n",
    "    Xtrain = scaler.fit_transform(Xtrain)\n",
    "    Xtest = scaler.transform(Xtest)\n",
    "\n",
    "    Ytrain, Ytest = np.array(df_train['data_in']), np.array(df_test['data_in'])\n",
    "\n",
    "    Xtrain_station = np.array(df_train[df_train['skn'] == skn][columns])\n",
    "    Ytrain_station = np.array(df_train[df_train['skn'] == skn]['data_in'])\n",
    "\n",
    "    Xtest_station = np.array(df_test[df_test['skn'] == skn][columns])\n",
    "    Ytest_station = np.array(df_test[df_test['skn'] == skn]['data_in'])\n",
    "\n",
    "    Xtrain_station = scaler.transform(Xtrain_station)\n",
    "    Xtest_station = scaler.transform(Xtest_station)\n",
    "    \n",
    "    # model_nn = define_hetero_model_normal(input_dim=len(columns), n_additional_layers_main=0, n_additional_layers_sub=0, n_units_main=216)\n",
    "    model_nn = define_model(input_dim=len(columns), n_layers=0, n_units=216)\n",
    "    model_nn.fit(Xtrain, Ytrain, epochs=50, verbose=False)\n",
    "    \n",
    "    # intermediate performance\n",
    "    # yhat_all = model_nn.predict(Xtest)\n",
    "    # mean_squared_error(Ytest, yhat_all, squared=False)\n",
    "    \n",
    "    model_nn.fit(Xtrain_station, Ytrain_station, epochs=100, verbose=False)\n",
    "    yhat_station = model_nn.predict(Xtest_station)\n",
    "    rmse_nn = mean_squared_error(Ytest_station, yhat_station, squared=False)\n",
    "    \n",
    "    # Linear Regression\n",
    "    linear_regression = LinearRegression()\n",
    "    linear_regression.fit(Xtrain_station, Ytrain_station)\n",
    "    yhat_linear_regression = linear_regression.predict(Xtest_station)\n",
    "    rmse_lr = mean_squared_error(Ytest_station, yhat_linear_regression, squared=False)\n",
    "    \n",
    "    print('Fold {}\\n LR: {:.10f}, NN: {:.10f}'.format(i, rmse_lr, rmse_nn))\n",
    "    ytrue.extend(Ytest_station)\n",
    "    yhat_lr.extend(yhat_linear_regression)\n",
    "    yhat_nn.extend(yhat_station)\n",
    "    \n",
    "    "
   ]
  },
  {
   "cell_type": "code",
   "execution_count": 70,
   "metadata": {},
   "outputs": [
    {
     "data": {
      "text/plain": [
       "(1.4993159280271473, 1.5366046591631417)"
      ]
     },
     "execution_count": 70,
     "metadata": {},
     "output_type": "execute_result"
    }
   ],
   "source": [
    "mean_squared_error(ytrue, yhat_nn, squared=False), mean_squared_error(ytrue, yhat_lr, squared=False)"
   ]
  },
  {
   "cell_type": "markdown",
   "metadata": {},
   "source": [
    "# Linear Regression"
   ]
  },
  {
   "cell_type": "code",
   "execution_count": 17,
   "metadata": {},
   "outputs": [],
   "source": [
    "columns = C_SINGLE\n",
    "\n",
    "# load datasets\n",
    "df_train = pd.read_csv(f\"{BASE_DIR}/train.csv\", usecols=columns + ['year', 'month', 'skn', 'data_in'])\n",
    "df_valid = pd.read_csv(f\"{BASE_DIR}/valid.csv\", usecols=columns + ['year', 'month', 'skn', 'data_in'])\n",
    "df_test = pd.read_csv(f\"{BASE_DIR}/test.csv\", usecols=columns + ['year', 'month', 'skn', 'data_in'])\n",
    "\n",
    "\n",
    "df_combined = pd.concat([df_train, df_valid, df_test])\n",
    "\n",
    "df_valid_skn = df_combined.groupby('skn').size().reset_index().rename(columns={0: \"n_data\"})\n",
    "df_valid_skn = df_valid_skn[df_valid_skn['n_data'] > 750]\n",
    "\n",
    "df_train = df_train.merge(df_valid_skn, left_on='skn', right_on='skn', how='inner')\n",
    "df_valid = df_valid.merge(df_valid_skn, left_on='skn', right_on='skn', how='inner')\n",
    "df_test = df_test.merge(df_valid_skn, left_on='skn', right_on='skn', how='inner')\n",
    "\n",
    "df_train = pd.concat([df_train, df_valid])"
   ]
  },
  {
   "cell_type": "code",
   "execution_count": 36,
   "metadata": {},
   "outputs": [
    {
     "name": "stdout",
     "output_type": "stream",
     "text": [
      "4.44\n"
     ]
    }
   ],
   "source": [
    "ytrue = []\n",
    "yhat = []\n",
    "for name, group in pd.concat([df_train, df_test]).groupby(by='skn'):\n",
    "    group.sort_values(['year', 'month'])\n",
    "    X = np.array(group[columns])\n",
    "    Y = np.array(group['data_in'])\n",
    "    \n",
    "    Xtrain, Xtest, Ytrain, Ytest = train_test_split(X, Y, shuffle=False)\n",
    "    linear_regression = LinearRegression()\n",
    "    linear_regression.fit(Xtrain, Ytrain)\n",
    "    ytrue.extend(Ytest)\n",
    "    yhat.extend(linear_regression.predict(Xtest))\n",
    "\n",
    "rmse = mean_squared_error(ytrue, yhat, squared=False)\n",
    "print(\"{:.2f}\".format(rmse))"
   ]
  },
  {
   "cell_type": "code",
   "execution_count": 37,
   "metadata": {},
   "outputs": [],
   "source": [
    "Xtrain = np.array(df_train[columns])\n",
    "Xtest = np.array(df_test[columns])\n",
    "\n",
    "Ytrain = np.array(df_train['data_in'])\n",
    "Ytest = np.array(df_test['data_in'])\n",
    "\n",
    "scaler = MinMaxScaler()\n",
    "Xtrain = scaler.fit_transform(Xtrain)\n",
    "Xtest = scaler.fit_transform(Xtest)"
   ]
  },
  {
   "cell_type": "code",
   "execution_count": 30,
   "metadata": {},
   "outputs": [
    {
     "name": "stdout",
     "output_type": "stream",
     "text": [
      "Epoch 1/50\n",
      "4929/4929 [==============================] - 6s 1ms/step - loss: 48.9633 - root_mean_squared_error: 6.9923\n",
      "Epoch 2/50\n",
      "4929/4929 [==============================] - 5s 1ms/step - loss: 42.6200 - root_mean_squared_error: 6.6472\n",
      "Epoch 3/50\n",
      "4929/4929 [==============================] - 5s 1ms/step - loss: 38.6071 - root_mean_squared_error: 6.4245\n",
      "Epoch 4/50\n",
      "4929/4929 [==============================] - 5s 1ms/step - loss: 36.1352 - root_mean_squared_error: 6.3102\n",
      "Epoch 5/50\n",
      "4929/4929 [==============================] - 5s 1ms/step - loss: 33.9483 - root_mean_squared_error: 6.2117\n",
      "Epoch 6/50\n",
      "4929/4929 [==============================] - 6s 1ms/step - loss: 31.9191 - root_mean_squared_error: 6.1156\n",
      "Epoch 7/50\n",
      "4929/4929 [==============================] - 6s 1ms/step - loss: 30.0986 - root_mean_squared_error: 6.0288\n",
      "Epoch 8/50\n",
      "4929/4929 [==============================] - 6s 1ms/step - loss: 28.6151 - root_mean_squared_error: 5.9666\n",
      "Epoch 9/50\n",
      "4929/4929 [==============================] - 5s 1ms/step - loss: 27.2001 - root_mean_squared_error: 5.9028\n",
      "Epoch 10/50\n",
      "4929/4929 [==============================] - 5s 1ms/step - loss: 26.0019 - root_mean_squared_error: 5.8590\n",
      "Epoch 11/50\n",
      "4929/4929 [==============================] - 5s 1ms/step - loss: 24.8898 - root_mean_squared_error: 5.8157\n",
      "Epoch 12/50\n",
      "4929/4929 [==============================] - 6s 1ms/step - loss: 23.7433 - root_mean_squared_error: 5.7633\n",
      "Epoch 13/50\n",
      "4929/4929 [==============================] - 6s 1ms/step - loss: 22.8865 - root_mean_squared_error: 5.7401\n",
      "Epoch 14/50\n",
      "4929/4929 [==============================] - 5s 1ms/step - loss: 22.0113 - root_mean_squared_error: 5.7105\n",
      "Epoch 15/50\n",
      "4929/4929 [==============================] - 5s 1ms/step - loss: 21.2622 - root_mean_squared_error: 5.6933\n",
      "Epoch 16/50\n",
      "4929/4929 [==============================] - 5s 1ms/step - loss: 20.5353 - root_mean_squared_error: 5.6741\n",
      "Epoch 17/50\n",
      "4929/4929 [==============================] - 5s 1ms/step - loss: 19.8297 - root_mean_squared_error: 5.6551\n",
      "Epoch 18/50\n",
      "4929/4929 [==============================] - 5s 1ms/step - loss: 19.0639 - root_mean_squared_error: 5.6208\n",
      "Epoch 19/50\n",
      "4929/4929 [==============================] - 5s 1ms/step - loss: 18.5333 - root_mean_squared_error: 5.6166\n",
      "Epoch 20/50\n",
      "4929/4929 [==============================] - 5s 1ms/step - loss: 17.9399 - root_mean_squared_error: 5.6015\n",
      "Epoch 21/50\n",
      "4929/4929 [==============================] - 5s 1ms/step - loss: 17.4025 - root_mean_squared_error: 5.5919\n",
      "Epoch 22/50\n",
      "4929/4929 [==============================] - 5s 1ms/step - loss: 16.8167 - root_mean_squared_error: 5.5711\n",
      "Epoch 23/50\n",
      "4929/4929 [==============================] - 5s 1ms/step - loss: 16.2170 - root_mean_squared_error: 5.5417\n",
      "Epoch 24/50\n",
      "4929/4929 [==============================] - 5s 1ms/step - loss: 15.7076 - root_mean_squared_error: 5.5247\n",
      "Epoch 25/50\n",
      "4929/4929 [==============================] - 5s 1ms/step - loss: 15.2748 - root_mean_squared_error: 5.5178\n",
      "Epoch 26/50\n",
      "4929/4929 [==============================] - 5s 1ms/step - loss: 14.7559 - root_mean_squared_error: 5.4923\n",
      "Epoch 27/50\n",
      "4929/4929 [==============================] - 5s 1ms/step - loss: 14.4179 - root_mean_squared_error: 5.4996\n",
      "Epoch 28/50\n",
      "4929/4929 [==============================] - 5s 1ms/step - loss: 13.8798 - root_mean_squared_error: 5.4601\n",
      "Epoch 29/50\n",
      "4929/4929 [==============================] - 5s 1ms/step - loss: 13.5061 - root_mean_squared_error: 5.4537\n",
      "Epoch 30/50\n",
      "4929/4929 [==============================] - 5s 1ms/step - loss: 13.1554 - root_mean_squared_error: 5.4473\n",
      "Epoch 31/50\n",
      "4929/4929 [==============================] - 5s 1ms/step - loss: 12.8070 - root_mean_squared_error: 5.4389\n",
      "Epoch 32/50\n",
      "4929/4929 [==============================] - 5s 1ms/step - loss: 12.4239 - root_mean_squared_error: 5.4187\n",
      "Epoch 33/50\n",
      "4929/4929 [==============================] - 5s 1ms/step - loss: 12.0892 - root_mean_squared_error: 5.4085\n",
      "Epoch 34/50\n",
      "4929/4929 [==============================] - 5s 1ms/step - loss: 11.7797 - root_mean_squared_error: 5.3998\n",
      "Epoch 35/50\n",
      "4929/4929 [==============================] - 5s 1ms/step - loss: 11.5005 - root_mean_squared_error: 5.3964\n",
      "Epoch 36/50\n",
      "4929/4929 [==============================] - 5s 1ms/step - loss: 11.2740 - root_mean_squared_error: 5.4044\n",
      "Epoch 37/50\n",
      "4929/4929 [==============================] - 5s 1ms/step - loss: 10.9145 - root_mean_squared_error: 5.3763\n",
      "Epoch 38/50\n",
      "4929/4929 [==============================] - 5s 1ms/step - loss: 10.6270 - root_mean_squared_error: 5.3623\n",
      "Epoch 39/50\n",
      "4929/4929 [==============================] - 5s 1ms/step - loss: 10.3619 - root_mean_squared_error: 5.3519\n",
      "Epoch 40/50\n",
      "4929/4929 [==============================] - 5s 1ms/step - loss: 10.1406 - root_mean_squared_error: 5.3514\n",
      "Epoch 41/50\n",
      "4929/4929 [==============================] - 5s 1ms/step - loss: 9.8675 - root_mean_squared_error: 5.3320\n",
      "Epoch 42/50\n",
      "4929/4929 [==============================] - 5s 1ms/step - loss: 9.6976 - root_mean_squared_error: 5.3422\n",
      "Epoch 43/50\n",
      "4929/4929 [==============================] - 5s 1ms/step - loss: 9.4514 - root_mean_squared_error: 5.3269\n",
      "Epoch 44/50\n",
      "4929/4929 [==============================] - 5s 1ms/step - loss: 9.2727 - root_mean_squared_error: 5.3323\n",
      "Epoch 45/50\n",
      "4929/4929 [==============================] - 5s 1ms/step - loss: 9.0555 - root_mean_squared_error: 5.3221\n",
      "Epoch 46/50\n",
      "4929/4929 [==============================] - 5s 1ms/step - loss: 8.8831 - root_mean_squared_error: 5.3247\n",
      "Epoch 47/50\n",
      "4929/4929 [==============================] - 5s 1ms/step - loss: 8.6426 - root_mean_squared_error: 5.2992\n",
      "Epoch 48/50\n",
      "4929/4929 [==============================] - 5s 1ms/step - loss: 8.4867 - root_mean_squared_error: 5.3040\n",
      "Epoch 49/50\n",
      "4929/4929 [==============================] - 5s 1ms/step - loss: 8.2913 - root_mean_squared_error: 5.2896\n",
      "Epoch 50/50\n",
      "4929/4929 [==============================] - 5s 1ms/step - loss: 8.1411 - root_mean_squared_error: 5.2906\n"
     ]
    },
    {
     "data": {
      "text/plain": [
       "<keras.callbacks.History at 0x2b294a6344f0>"
      ]
     },
     "execution_count": 30,
     "metadata": {},
     "output_type": "execute_result"
    }
   ],
   "source": [
    "model_nn = define_hetero_model_normal(input_dim=len(columns), n_additional_layers_main=0, n_additional_layers_sub=0, n_units_main=216)\n",
    "model_nn.fit(Xtrain, Ytrain, epochs=50)"
   ]
  },
  {
   "cell_type": "code",
   "execution_count": 38,
   "metadata": {},
   "outputs": [
    {
     "data": {
      "text/plain": [
       "7.223660901765741"
      ]
     },
     "execution_count": 38,
     "metadata": {},
     "output_type": "execute_result"
    }
   ],
   "source": [
    "yhat_all = model_nn.predict(Xtest)\n",
    "mean_squared_error(Ytest, yhat_all, squared=False)"
   ]
  },
  {
   "cell_type": "code",
   "execution_count": 40,
   "metadata": {},
   "outputs": [
    {
     "data": {
      "text/plain": [
       "<matplotlib.collections.PathCollection at 0x2b294acec370>"
      ]
     },
     "execution_count": 40,
     "metadata": {},
     "output_type": "execute_result"
    },
    {
     "data": {
      "image/png": "[encoded data removed]",
      "text/plain": [
       "<Figure size 432x288 with 1 Axes>"
      ]
     },
     "metadata": {
      "needs_background": "light"
     },
     "output_type": "display_data"
    }
   ],
   "source": [
    "fig, ax = plt.subplots(1)\n",
    "ax.scatter(Ytest, yhat_all, s=1)"
   ]
  },
  {
   "cell_type": "code",
   "execution_count": 45,
   "metadata": {},
   "outputs": [],
   "source": [
    "skn = 396\n",
    "Xtrain_station = np.array(df_train[df_train['skn'] == skn][columns])\n",
    "Xtest_station = np.array(df_test[df_test['skn'] == skn][columns])\n",
    "\n",
    "Ytrain_station = np.array(df_train[df_train['skn'] == skn]['data_in'])\n",
    "Ytest_station = np.array(df_test[df_test['skn'] == skn]['data_in'])\n",
    "\n",
    "Xtrain_station = scaler.fit_transform(Xtrain_station)\n",
    "Xtest_station = scaler.transform(Xtest_station)"
   ]
  },
  {
   "cell_type": "code",
   "execution_count": 52,
   "metadata": {},
   "outputs": [
    {
     "name": "stdout",
     "output_type": "stream",
     "text": [
      "Epoch 1/30\n",
      "34/34 [==============================] - 0s 1ms/step - loss: 1.7544 - root_mean_squared_error: 1.3971\n",
      "Epoch 2/30\n",
      "34/34 [==============================] - 0s 1ms/step - loss: 1.7518 - root_mean_squared_error: 1.3929\n",
      "Epoch 3/30\n",
      "34/34 [==============================] - 0s 1ms/step - loss: 1.7724 - root_mean_squared_error: 1.4231\n",
      "Epoch 4/30\n",
      "34/34 [==============================] - 0s 1ms/step - loss: 1.7903 - root_mean_squared_error: 1.4488\n",
      "Epoch 5/30\n",
      "34/34 [==============================] - 0s 1ms/step - loss: 1.7711 - root_mean_squared_error: 1.4215\n",
      "Epoch 6/30\n",
      "34/34 [==============================] - 0s 1ms/step - loss: 1.7499 - root_mean_squared_error: 1.3905\n",
      "Epoch 7/30\n",
      "34/34 [==============================] - 0s 1ms/step - loss: 1.7493 - root_mean_squared_error: 1.3895\n",
      "Epoch 8/30\n",
      "34/34 [==============================] - 0s 1ms/step - loss: 1.7443 - root_mean_squared_error: 1.3820\n",
      "Epoch 9/30\n",
      "34/34 [==============================] - 0s 1ms/step - loss: 1.7624 - root_mean_squared_error: 1.4088\n",
      "Epoch 10/30\n",
      "34/34 [==============================] - 0s 1ms/step - loss: 1.7609 - root_mean_squared_error: 1.4064\n",
      "Epoch 11/30\n",
      "34/34 [==============================] - 0s 1ms/step - loss: 1.7632 - root_mean_squared_error: 1.4098\n",
      "Epoch 12/30\n",
      "34/34 [==============================] - 0s 1ms/step - loss: 1.7673 - root_mean_squared_error: 1.4155\n",
      "Epoch 13/30\n",
      "34/34 [==============================] - 0s 1ms/step - loss: 1.7902 - root_mean_squared_error: 1.4488\n",
      "Epoch 14/30\n",
      "34/34 [==============================] - 0s 1ms/step - loss: 1.7439 - root_mean_squared_error: 1.3815\n",
      "Epoch 15/30\n",
      "34/34 [==============================] - 0s 1ms/step - loss: 1.7519 - root_mean_squared_error: 1.3933\n",
      "Epoch 16/30\n",
      "34/34 [==============================] - 0s 1ms/step - loss: 1.7602 - root_mean_squared_error: 1.4054\n",
      "Epoch 17/30\n",
      "34/34 [==============================] - 0s 1ms/step - loss: 1.7651 - root_mean_squared_error: 1.4123\n",
      "Epoch 18/30\n",
      "34/34 [==============================] - 0s 1ms/step - loss: 1.7640 - root_mean_squared_error: 1.4108\n",
      "Epoch 19/30\n",
      "34/34 [==============================] - 0s 1ms/step - loss: 1.7451 - root_mean_squared_error: 1.3833\n",
      "Epoch 20/30\n",
      "34/34 [==============================] - 0s 1ms/step - loss: 1.7498 - root_mean_squared_error: 1.3903\n",
      "Epoch 21/30\n",
      "34/34 [==============================] - 0s 1ms/step - loss: 1.7367 - root_mean_squared_error: 1.3707\n",
      "Epoch 22/30\n",
      "34/34 [==============================] - 0s 1ms/step - loss: 1.7285 - root_mean_squared_error: 1.3582\n",
      "Epoch 23/30\n",
      "34/34 [==============================] - 0s 1ms/step - loss: 1.7458 - root_mean_squared_error: 1.3843\n",
      "Epoch 24/30\n",
      "34/34 [==============================] - 0s 1ms/step - loss: 1.7623 - root_mean_squared_error: 1.4084\n",
      "Epoch 25/30\n",
      "34/34 [==============================] - 0s 1ms/step - loss: 1.7453 - root_mean_squared_error: 1.3833\n",
      "Epoch 26/30\n",
      "34/34 [==============================] - 0s 1ms/step - loss: 1.7850 - root_mean_squared_error: 1.4414\n",
      "Epoch 27/30\n",
      "34/34 [==============================] - 0s 1ms/step - loss: 1.7387 - root_mean_squared_error: 1.3735\n",
      "Epoch 28/30\n",
      "34/34 [==============================] - 0s 1ms/step - loss: 1.7207 - root_mean_squared_error: 1.3463\n",
      "Epoch 29/30\n",
      "34/34 [==============================] - 0s 1ms/step - loss: 1.7486 - root_mean_squared_error: 1.3884\n",
      "Epoch 30/30\n",
      "34/34 [==============================] - 0s 1ms/step - loss: 1.7320 - root_mean_squared_error: 1.3632\n"
     ]
    },
    {
     "data": {
      "text/plain": [
       "<keras.callbacks.History at 0x2b2953724070>"
      ]
     },
     "execution_count": 52,
     "metadata": {},
     "output_type": "execute_result"
    }
   ],
   "source": [
    "model_nn.fit(Xtrain_station, Ytrain_station, epochs=30)"
   ]
  },
  {
   "cell_type": "code",
   "execution_count": 53,
   "metadata": {},
   "outputs": [
    {
     "data": {
      "text/plain": [
       "1.8465228677078218"
      ]
     },
     "execution_count": 53,
     "metadata": {},
     "output_type": "execute_result"
    }
   ],
   "source": [
    "yhat_station = model_nn.predict(Xtest_station)\n",
    "mean_squared_error(Ytest_station, yhat_station)"
   ]
  },
  {
   "cell_type": "code",
   "execution_count": 55,
   "metadata": {},
   "outputs": [
    {
     "data": {
      "text/plain": [
       "<matplotlib.collections.PathCollection at 0x2b2953716dd0>"
      ]
     },
     "execution_count": 55,
     "metadata": {},
     "output_type": "execute_result"
    },
    {
     "data": {
      "image/png": "[encoded data removed]",
      "text/plain": [
       "<Figure size 432x288 with 1 Axes>"
      ]
     },
     "metadata": {
      "needs_background": "light"
     },
     "output_type": "display_data"
    }
   ],
   "source": [
    "fig, ax = plt.subplots(1)\n",
    "ax.scatter(Ytest_station, yhat_station, s=1)"
   ]
  },
  {
   "cell_type": "code",
   "execution_count": null,
   "metadata": {},
   "outputs": [],
   "source": []
  }
 ],
 "metadata": {
  "kernelspec": {
   "display_name": "tfp",
   "language": "python",
   "name": "tfp"
  },
  "language_info": {
   "codemirror_mode": {
    "name": "ipython",
    "version": 3
   },
   "file_extension": ".py",
   "mimetype": "text/x-python",
   "name": "python",
   "nbconvert_exporter": "python",
   "pygments_lexer": "ipython3",
   "version": "3.10.4"
  }
 },
 "nbformat": 4,
 "nbformat_minor": 4
}

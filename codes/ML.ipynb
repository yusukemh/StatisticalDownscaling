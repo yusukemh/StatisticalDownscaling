{
 "cells": [
  {
   "cell_type": "code",
   "execution_count": 1,
   "metadata": {},
   "outputs": [],
   "source": [
    "# enable autoreload\n",
    "%load_ext autoreload\n",
    "%autoreload 2\n",
    "\n",
    "# basic libraries\n",
    "import numpy as np\n",
    "import pandas as pd\n",
    "import matplotlib.pyplot as plt\n",
    "\n",
    "# sklearn\n",
    "from sklearn.linear_model import LinearRegression\n",
    "from sklearn.model_selection import train_test_split, KFold, cross_val_predict, GridSearchCV\n",
    "from sklearn.metrics import mean_squared_error\n",
    "from sklearn.preprocessing import MinMaxScaler, OneHotEncoder, StandardScaler\n",
    "from sklearn.ensemble import GradientBoostingRegressor, RandomForestRegressor\n",
    "from sklearn.svm import SVR\n",
    "from sklearn.cluster import KMeans\n",
    "\n",
    "#others\n",
    "from xgboost import XGBRegressor\n",
    "import cartopy.crs as ccrs\n",
    "import cartopy.mpl.ticker as cticker\n",
    "import time\n",
    "import xarray as xr\n",
    "import sherpa\n",
    "\n",
    "# Variables from config file\n",
    "from config import BASE_DIR, FILE_NAMES, LABELS, ATTRIBUTES, BEST_MODEL_COLUMNS\n"
   ]
  },
  {
   "cell_type": "code",
   "execution_count": 5,
   "metadata": {},
   "outputs": [
    {
     "name": "stdout",
     "output_type": "stream",
     "text": [
      "LABELS=['air2m', 'air1000_500', 'hgt500', 'hgt1000', 'omega500', 'pottemp1000-500', 'pottemp1000-850', 'pr_wtr', 'shum-uwnd-700', 'shum-uwnd-925', 'shum-vwnd-700', 'shum-vwnd-950', 'shum700', 'shum925', 'skt', 'slp']\n"
     ]
    }
   ],
   "source": [
    "print(f\"{LABELS=}\")"
   ]
  },
  {
   "cell_type": "markdown",
   "metadata": {},
   "source": [
    "# Explore:\n",
    "<list>\n",
    "    <li>Inclusion of altitude information</li>\n",
    "    <li>Inclusion of seasonality indicator (dry/wet)</li>\n",
    "    <li>Linear interpolation</li>\n",
    "    <li>Use 6 reanalysis observations</li>\n",
    "</list>\n",
    "<hr>\n",
    "\n",
    "<b><h3>The models in this file uses parameters that were obtained through hyperparameter tuning by external python scripts.</h3></b>\n",
    "<hr>"
   ]
  },
  {
   "cell_type": "code",
   "execution_count": 2,
   "metadata": {},
   "outputs": [],
   "source": [
    "# load datasets\n",
    "df_train = pd.read_csv(f\"{BASE_DIR}/train.csv\")\n",
    "df_valid = pd.read_csv(f\"{BASE_DIR}/valid.csv\")\n",
    "df_test = pd.read_csv(f\"{BASE_DIR}/test.csv\")\n",
    "\n",
    "# Nov-Apr = \"wet\", May-Oct = \"dry\"\n",
    "wet = [11, 12, 1, 2, 3, 4]\n",
    "dry = [5, 6, 7, 8, 9, 10]\n",
    "df_train['season_dry'] = df_train.apply(lambda row: 1 if row.month in dry else 0, axis=1)\n",
    "df_train['season_wet'] = df_train.apply(lambda row: 1 if row.month in wet else 0, axis=1)\n",
    "\n",
    "df_valid['season_dry'] = df_valid.apply(lambda row: 1 if row.month in dry else 0, axis=1)\n",
    "df_valid['season_wet'] = df_valid.apply(lambda row: 1 if row.month in wet else 0, axis=1)\n",
    "\n",
    "df_test['season_dry'] = df_test.apply(lambda row: 1 if row.month in dry else 0, axis=1)\n",
    "df_test['season_wet'] = df_test.apply(lambda row: 1 if row.month in wet else 0, axis=1)"
   ]
  },
  {
   "cell_type": "code",
   "execution_count": 5,
   "metadata": {},
   "outputs": [
    {
     "name": "stdout",
     "output_type": "stream",
     "text": [
      "skn year month data_in name lat lon elevation Observer Status2010 NumMos MinYear MaxYear i100_air2m i100_air1000_500 i100_hgt500 i100_hgt1000 i100_omega500 i100_pottemp1000-500 i100_pottemp1000-850 i100_pr_wtr i100_shum-uwnd-700 i100_shum-uwnd-925 i100_shum-vwnd-700 i100_shum-vwnd-950 i100_shum700 i100_shum925 i100_skt i100_slp air2m air1000_500 hgt500 hgt1000 omega500 pottemp1000-500 pottemp1000-850 pr_wtr shum-uwnd-700 shum-uwnd-925 shum-vwnd-700 shum-vwnd-950 shum700 shum925 skt slp i50_air2m i50_air1000_500 i50_hgt500 i50_hgt1000 i50_omega500 i50_pottemp1000-500 i50_pottemp1000-850 i50_pr_wtr i50_shum-uwnd-700 i50_shum-uwnd-925 i50_shum-vwnd-700 i50_shum-vwnd-950 i50_shum700 i50_shum925 i50_skt i50_slp air2m_0 air2m_1 air2m_2 air2m_3 air2m_4 air2m_5 air1000_500_0 air1000_500_1 air1000_500_2 air1000_500_3 air1000_500_4 air1000_500_5 hgt500_0 hgt500_1 hgt500_2 hgt500_3 hgt500_4 hgt500_5 hgt1000_0 hgt1000_1 hgt1000_2 hgt1000_3 hgt1000_4 hgt1000_5 omega500_0 omega500_1 omega500_2 omega500_3 omega500_4 omega500_5 pottemp1000-500_0 pottemp1000-500_1 pottemp1000-500_2 pottemp1000-500_3 pottemp1000-500_4 pottemp1000-500_5 pottemp1000-850_0 pottemp1000-850_1 pottemp1000-850_2 pottemp1000-850_3 pottemp1000-850_4 pottemp1000-850_5 pr_wtr_0 pr_wtr_1 pr_wtr_2 pr_wtr_3 pr_wtr_4 pr_wtr_5 shum-uwnd-700_0 shum-uwnd-700_1 shum-uwnd-700_2 shum-uwnd-700_3 shum-uwnd-700_4 shum-uwnd-700_5 shum-uwnd-925_0 shum-uwnd-925_1 shum-uwnd-925_2 shum-uwnd-925_3 shum-uwnd-925_4 shum-uwnd-925_5 shum-vwnd-700_0 shum-vwnd-700_1 shum-vwnd-700_2 shum-vwnd-700_3 shum-vwnd-700_4 shum-vwnd-700_5 shum-vwnd-950_0 shum-vwnd-950_1 shum-vwnd-950_2 shum-vwnd-950_3 shum-vwnd-950_4 shum-vwnd-950_5 shum700_0 shum700_1 shum700_2 shum700_3 shum700_4 shum700_5 shum925_0 shum925_1 shum925_2 shum925_3 shum925_4 shum925_5 skt_0 skt_1 skt_2 skt_3 skt_4 skt_5 slp_0 slp_1 slp_2 slp_3 slp_4 slp_5 \n"
     ]
    }
   ],
   "source": [
    "line = \"\"\n",
    "for label in df_train.columns:\n",
    "    line += str(label) + \" \"\n",
    "print(line)"
   ]
  },
  {
   "cell_type": "code",
   "execution_count": 5,
   "metadata": {},
   "outputs": [],
   "source": [
    "base_columns = [\"data_in\", \"lat\", \"lon\", \"elevation\"]"
   ]
  },
  {
   "cell_type": "markdown",
   "metadata": {},
   "source": [
    "# Q1. Does the inclusion of altitude information help the models perform better?"
   ]
  },
  {
   "cell_type": "code",
   "execution_count": 6,
   "metadata": {},
   "outputs": [
    {
     "name": "stdout",
     "output_type": "stream",
     "text": [
      "labels to use: ['data_in', 'lat', 'lon', 'elevation', 'air2m', 'air1000_500', 'hgt500', 'hgt1000', 'omega500', 'pottemp1000-500', 'pottemp1000-850', 'pr_wtr', 'shum-uwnd-700', 'shum-uwnd-925', 'shum-vwnd-700', 'shum-vwnd-950', 'shum700', 'shum925', 'skt', 'slp']\n"
     ]
    }
   ],
   "source": [
    "columns = (base_columns + LABELS)\n",
    "print(f\"labels to use: {columns}\")"
   ]
  },
  {
   "cell_type": "markdown",
   "metadata": {},
   "source": [
    "## 1.1 Train models without elevation"
   ]
  },
  {
   "cell_type": "code",
   "execution_count": 8,
   "metadata": {},
   "outputs": [],
   "source": [
    "Xtrain = np.array(df_train[columns].drop(labels=[\"data_in\", \"elevation\"], axis=1))\n",
    "Ytrain = np.array(df_train[\"data_in\"])\n",
    "\n",
    "Xvalid = np.array(df_valid[columns].drop(labels=[\"data_in\", \"elevation\"], axis=1))\n",
    "Yvalid = np.array(df_valid[\"data_in\"])\n",
    "\n",
    "Xtest = np.array(df_test[columns].drop(labels=[\"data_in\", \"elevation\"], axis=1))\n",
    "Ytest = np.array(df_test[\"data_in\"])"
   ]
  },
  {
   "cell_type": "code",
   "execution_count": 9,
   "metadata": {},
   "outputs": [
    {
     "name": "stdout",
     "output_type": "stream",
     "text": [
      "mse_wout_elev=[33.86869309419888, 17.52538845081093, 17.743511141294324, 16.69652236267537]\n"
     ]
    }
   ],
   "source": [
    "# hyperparameters acquired in external experiment\n",
    "linear_regression = LinearRegression()\n",
    "random_forest = RandomForestRegressor(\n",
    "    n_estimators=270,\n",
    "    max_depth=None,\n",
    "    min_samples_split=3,\n",
    "    n_jobs=-1,\n",
    "    verbose=False,\n",
    ")\n",
    "\n",
    "gradient_boost = GradientBoostingRegressor(\n",
    "    n_estimators=240, \n",
    "    learning_rate=0.1,\n",
    "    max_depth=7,\n",
    "    min_samples_split=4,\n",
    "    verbose=False\n",
    ")\n",
    "\n",
    "xgboost = XGBRegressor(\n",
    "    n_estimators=210,\n",
    "    learning_rate=0.1,\n",
    "    max_depth=9,\n",
    "    verbosity=0\n",
    ")\n",
    "\n",
    "linear_regression.fit(Xtrain, Ytrain)\n",
    "random_forest.fit(Xtrain, Ytrain)\n",
    "gradient_boost.fit(Xtrain, Ytrain)\n",
    "xgboost.fit(Xtrain, Ytrain)\n",
    "\n",
    "mse_wout_elev = [\n",
    "    mean_squared_error(Ytest, linear_regression.predict(Xtest)),\n",
    "    mean_squared_error(Ytest, random_forest.predict(Xtest)),\n",
    "    mean_squared_error(Ytest, gradient_boost.predict(Xtest)),\n",
    "    mean_squared_error(Ytest, xgboost.predict(Xtest)),\n",
    "]\n",
    "\n",
    "print(f\"{mse_wout_elev=}\")"
   ]
  },
  {
   "cell_type": "markdown",
   "metadata": {},
   "source": [
    "## 1.2 Train Models with elevation data "
   ]
  },
  {
   "cell_type": "code",
   "execution_count": 7,
   "metadata": {},
   "outputs": [],
   "source": [
    "Xtrain = np.array(df_train[columns].drop(labels=[\"data_in\"], axis=1))\n",
    "Ytrain = np.array(df_train[\"data_in\"])\n",
    "\n",
    "Xvalid = np.array(df_valid[columns].drop(labels=[\"data_in\"], axis=1))\n",
    "Yvalid = np.array(df_valid[\"data_in\"])\n",
    "\n",
    "Xtest = np.array(df_test[columns].drop(labels=[\"data_in\"], axis=1))\n",
    "Ytest = np.array(df_test[\"data_in\"])"
   ]
  },
  {
   "cell_type": "code",
   "execution_count": 8,
   "metadata": {},
   "outputs": [
    {
     "name": "stdout",
     "output_type": "stream",
     "text": [
      "mse_w_elev=[33.675107088848016, 17.670795094414864, 17.292306306870085, 16.60130868490898]\n"
     ]
    }
   ],
   "source": [
    "# hyperparameters are fine tuned for this dataset\n",
    "linear_regression = LinearRegression()\n",
    "random_forest = RandomForestRegressor(\n",
    "    n_estimators=100,\n",
    "    max_depth=None,\n",
    "    min_samples_split=5,\n",
    "    n_jobs=-1,\n",
    "    verbose=False,\n",
    ")\n",
    "\n",
    "gradient_boost = GradientBoostingRegressor(\n",
    "    n_estimators=240, \n",
    "    learning_rate=0.05,\n",
    "    max_depth=7,\n",
    "    min_samples_split=7,\n",
    "    verbose=False\n",
    ")\n",
    "\n",
    "xgboost = XGBRegressor(\n",
    "    n_estimators=250,\n",
    "    learning_rate=0.05,\n",
    "    max_depth=8,\n",
    "    verbosity=0\n",
    ")\n",
    "\n",
    "linear_regression.fit(Xtrain, Ytrain)\n",
    "random_forest.fit(Xtrain, Ytrain)\n",
    "gradient_boost.fit(Xtrain, Ytrain)\n",
    "xgboost.fit(Xtrain, Ytrain)\n",
    "\n",
    "mse_w_elev = [\n",
    "    mean_squared_error(Ytest, linear_regression.predict(Xtest)),\n",
    "    mean_squared_error(Ytest, random_forest.predict(Xtest)),\n",
    "    mean_squared_error(Ytest, gradient_boost.predict(Xtest)),\n",
    "    mean_squared_error(Ytest, xgboost.predict(Xtest)),\n",
    "]\n",
    "\n",
    "print(f\"{mse_w_elev=}\")"
   ]
  },
  {
   "cell_type": "markdown",
   "metadata": {},
   "source": [
    "# Q2. Does inclusion of seasonal information help the models perform better? (NO ELEVATION)"
   ]
  },
  {
   "cell_type": "code",
   "execution_count": 4,
   "metadata": {},
   "outputs": [],
   "source": [
    "# NOT INCLUDE ELEVATION\n",
    "columns = [\n",
    "    'data_in',\n",
    "    'lat', 'lon', 'season_wet', 'season_dry',\n",
    "    'air2m', 'air1000_500', 'hgt500', 'hgt1000', 'omega500',\n",
    "    'pottemp1000-500', 'pottemp1000-850', 'pr_wtr', 'shum-uwnd-700',\n",
    "    'shum-uwnd-925', 'shum-vwnd-700', 'shum-vwnd-950', 'shum700', 'shum925', \n",
    "    'skt', 'slp'\n",
    "]"
   ]
  },
  {
   "cell_type": "code",
   "execution_count": 5,
   "metadata": {},
   "outputs": [],
   "source": [
    "Xtrain = np.array(df_train[columns].drop(labels=[\"data_in\"], axis=1))\n",
    "Ytrain = np.array(df_train[\"data_in\"])\n",
    "\n",
    "Xvalid = np.array(df_valid[columns].drop(labels=[\"data_in\"], axis=1))\n",
    "Yvalid = np.array(df_valid[\"data_in\"])\n",
    "\n",
    "Xtest = np.array(df_test[columns].drop(labels=[\"data_in\"], axis=1))\n",
    "Ytest = np.array(df_test[\"data_in\"])"
   ]
  },
  {
   "cell_type": "code",
   "execution_count": 6,
   "metadata": {},
   "outputs": [
    {
     "name": "stdout",
     "output_type": "stream",
     "text": [
      "mse_w_season=[33.598125657656894, 17.35979936070823, 17.33278814595927, 16.92945522241214]\n"
     ]
    }
   ],
   "source": [
    "# hyperparameters are fine tuned\n",
    "linear_regression = LinearRegression()\n",
    "random_forest = RandomForestRegressor(\n",
    "    n_estimators=250,\n",
    "    max_depth=None,\n",
    "    min_samples_split=2,\n",
    "    n_jobs=-1,\n",
    "    verbose=False,\n",
    ")\n",
    "\n",
    "gradient_boost = GradientBoostingRegressor(\n",
    "    n_estimators=230, \n",
    "    learning_rate=0.1,\n",
    "    max_depth=7,\n",
    "    min_samples_split=7,\n",
    "    verbose=False\n",
    ")\n",
    "\n",
    "xgboost = XGBRegressor(\n",
    "    n_estimators=110,\n",
    "    learning_rate=0.1,\n",
    "    max_depth=9,\n",
    "    verbosity=0\n",
    ")\n",
    "\n",
    "linear_regression.fit(Xtrain, Ytrain)\n",
    "random_forest.fit(Xtrain, Ytrain)\n",
    "gradient_boost.fit(Xtrain, Ytrain)\n",
    "xgboost.fit(Xtrain, Ytrain)\n",
    "\n",
    "mse_w_season = [\n",
    "    mean_squared_error(Ytest, linear_regression.predict(Xtest)),\n",
    "    mean_squared_error(Ytest, random_forest.predict(Xtest)),\n",
    "    mean_squared_error(Ytest, gradient_boost.predict(Xtest)),\n",
    "    mean_squared_error(Ytest, xgboost.predict(Xtest)),\n",
    "]\n",
    "\n",
    "print(f\"{mse_w_season=}\")"
   ]
  },
  {
   "cell_type": "markdown",
   "metadata": {},
   "source": [
    "# Q3. Does inclusion of elevation AND seasonal information help the models perform better?"
   ]
  },
  {
   "cell_type": "code",
   "execution_count": 3,
   "metadata": {},
   "outputs": [],
   "source": [
    "# NOT INCLUDE ELEVATION\n",
    "columns = [\n",
    "    'data_in',\n",
    "    'lat', 'lon', 'season_wet', 'season_dry', 'elevation',\n",
    "    'air2m', 'air1000_500', 'hgt500', 'hgt1000', 'omega500',\n",
    "    'pottemp1000-500', 'pottemp1000-850', 'pr_wtr', 'shum-uwnd-700',\n",
    "    'shum-uwnd-925', 'shum-vwnd-700', 'shum-vwnd-950', 'shum700', 'shum925', \n",
    "    'skt', 'slp'\n",
    "]"
   ]
  },
  {
   "cell_type": "code",
   "execution_count": 4,
   "metadata": {},
   "outputs": [],
   "source": [
    "Xtrain = np.array(df_train[columns].drop(labels=[\"data_in\"], axis=1))\n",
    "Ytrain = np.array(df_train[\"data_in\"])\n",
    "\n",
    "Xvalid = np.array(df_valid[columns].drop(labels=[\"data_in\"], axis=1))\n",
    "Yvalid = np.array(df_valid[\"data_in\"])\n",
    "\n",
    "Xtest = np.array(df_test[columns].drop(labels=[\"data_in\"], axis=1))\n",
    "Ytest = np.array(df_test[\"data_in\"])"
   ]
  },
  {
   "cell_type": "code",
   "execution_count": 6,
   "metadata": {},
   "outputs": [
    {
     "name": "stdout",
     "output_type": "stream",
     "text": [
      "mse_w_season_elevation=[33.402009465500335, 17.562966660433535, 16.80661088312985, 16.16207618241757]\n"
     ]
    }
   ],
   "source": [
    "# hyperparameters are fine tuned\n",
    "linear_regression = LinearRegression()\n",
    "random_forest = RandomForestRegressor(\n",
    "    n_estimators=180,\n",
    "    max_depth=None,\n",
    "    min_samples_split=4,\n",
    "    n_jobs=-1,\n",
    "    verbose=False,\n",
    ")\n",
    "\n",
    "gradient_boost = GradientBoostingRegressor(\n",
    "    n_estimators=170, \n",
    "    learning_rate=0.1,\n",
    "    max_depth=7,\n",
    "    min_samples_split=3,\n",
    "    verbose=False\n",
    ")\n",
    "\n",
    "xgboost = XGBRegressor(\n",
    "    n_estimators=280,\n",
    "    learning_rate=0.1,\n",
    "    max_depth=9,\n",
    "    verbosity=0\n",
    ")\n",
    "\n",
    "linear_regression.fit(Xtrain, Ytrain)\n",
    "random_forest.fit(Xtrain, Ytrain)\n",
    "gradient_boost.fit(Xtrain, Ytrain)\n",
    "xgboost.fit(Xtrain, Ytrain)\n",
    "\n",
    "mse_w_season_elevation = [\n",
    "    mean_squared_error(Ytest, linear_regression.predict(Xtest)),\n",
    "    mean_squared_error(Ytest, random_forest.predict(Xtest)),\n",
    "    mean_squared_error(Ytest, gradient_boost.predict(Xtest)),\n",
    "    mean_squared_error(Ytest, xgboost.predict(Xtest)),\n",
    "]\n",
    "\n",
    "print(f\"{mse_w_season_elevation=}\")"
   ]
  },
  {
   "cell_type": "code",
   "execution_count": 20,
   "metadata": {},
   "outputs": [
    {
     "name": "stdout",
     "output_type": "stream",
     "text": [
      "\n"
     ]
    },
    {
     "data": {
      "image/png": "[encoded data removed]",
      "text/plain": [
       "<Figure size 432x288 with 1 Axes>"
      ]
     },
     "metadata": {
      "needs_background": "light"
     },
     "output_type": "display_data"
    }
   ],
   "source": [
    "mse_wout_elev=[33.86869309419888, 17.52538845081093, 17.743511141294324, 16.69652236267537]\n",
    "mse_w_elev=[33.675107088848016, 17.670795094414864, 17.292306306870085, 16.60130868490898]\n",
    "mse_w_season=[33.598125657656894, 17.35979936070823, 17.33278814595927, 16.92945522241214]\n",
    "mse_w_season_elevation=[33.402009465500335, 17.562966660433535, 16.80661088312985, 16.16207618241757]\n",
    "\n",
    "\n",
    "n_bars=4\n",
    "width = 1/(n_bars + 1)\n",
    "\n",
    "fig, ax = plt.subplots(1)\n",
    "\n",
    "for i, data in enumerate([mse_wout_elev, mse_w_elev, mse_w_season, mse_w_season_elevation]):\n",
    "    ax.bar(\n",
    "        x=np.arange(4) + i * width,\n",
    "        height=data,\n",
    "        width=width\n",
    "    )\n",
    "\n",
    "ax.set_xticks(np.arange(4))\n",
    "ax.set_xticklabels([\"Linear Regression\", \"Random Forest\", \"Gradient Boosting\", \"XGB\"], rotation=90)\n",
    "ax.legend(labels=[\"base\", \"+elev\", \"+season\", \"+elev, +season\"])\n",
    "ax.set_ylabel(\"MSE\")\n",
    "print()"
   ]
  },
  {
   "cell_type": "markdown",
   "metadata": {},
   "source": [
    "# Q4. Why does the model perform better with seasonal data?\n",
    "### We would expect the reanalysis data to capture all the information necessary regardless of the time (kind of stationary assumption?) but apparently, seasonal information does help the models perform better. Why is that?"
   ]
  },
  {
   "cell_type": "code",
   "execution_count": 9,
   "metadata": {},
   "outputs": [],
   "source": [
    "attributes = LABELS + [\"season_wet\", \"season_dry\", \"data_in\"]"
   ]
  },
  {
   "cell_type": "code",
   "execution_count": 10,
   "metadata": {},
   "outputs": [],
   "source": [
    "df_combined = pd.concat([df_train, df_valid, df_test]).reset_index().drop(labels=[\"index\"], axis=1)\n",
    "df_combined = df_combined[attributes]"
   ]
  },
  {
   "cell_type": "code",
   "execution_count": 11,
   "metadata": {},
   "outputs": [
    {
     "data": {
      "text/plain": [
       "<AxesSubplot:>"
      ]
     },
     "execution_count": 11,
     "metadata": {},
     "output_type": "execute_result"
    },
    {
     "data": {
      "image/png": "[encoded data removed]",
      "text/plain": [
       "<Figure size 432x288 with 1 Axes>"
      ]
     },
     "metadata": {
      "needs_background": "light"
     },
     "output_type": "display_data"
    }
   ],
   "source": [
    "df_combined[df_combined['data_in'] < 10]['data_in'].hist(bins=40)"
   ]
  },
  {
   "cell_type": "code",
   "execution_count": 12,
   "metadata": {},
   "outputs": [
    {
     "data": {
      "text/plain": [
       "<AxesSubplot:>"
      ]
     },
     "execution_count": 12,
     "metadata": {},
     "output_type": "execute_result"
    },
    {
     "data": {
      "image/png": "[encoded data removed]",
      "text/plain": [
       "<Figure size 432x288 with 1 Axes>"
      ]
     },
     "metadata": {
      "needs_background": "light"
     },
     "output_type": "display_data"
    }
   ],
   "source": [
    "df_low = df_combined[(df_combined['data_in']<5) & (df_combined['data_in'] > 4)]\n",
    "df_low['data_in'].hist(bins=40)"
   ]
  },
  {
   "cell_type": "code",
   "execution_count": 13,
   "metadata": {},
   "outputs": [
    {
     "data": {
      "text/plain": [
       "<AxesSubplot:>"
      ]
     },
     "execution_count": 13,
     "metadata": {},
     "output_type": "execute_result"
    },
    {
     "data": {
      "image/png": "[encoded data removed]",
      "text/plain": [
       "<Figure size 432x288 with 1 Axes>"
      ]
     },
     "metadata": {
      "needs_background": "light"
     },
     "output_type": "display_data"
    }
   ],
   "source": [
    "df_med = df_combined[(df_combined['data_in']<6) & (df_combined['data_in'] > 5)]\n",
    "df_med['data_in'].hist(bins=40)"
   ]
  },
  {
   "cell_type": "code",
   "execution_count": 14,
   "metadata": {},
   "outputs": [
    {
     "data": {
      "text/plain": [
       "<AxesSubplot:>"
      ]
     },
     "execution_count": 14,
     "metadata": {},
     "output_type": "execute_result"
    },
    {
     "data": {
      "image/png": "[encoded data removed]",
      "text/plain": [
       "<Figure size 432x288 with 1 Axes>"
      ]
     },
     "metadata": {
      "needs_background": "light"
     },
     "output_type": "display_data"
    }
   ],
   "source": [
    "df_high = df_combined[(df_combined['data_in']<7) & (df_combined['data_in'] > 6)]\n",
    "df_high['data_in'].hist(bins=40)"
   ]
  },
  {
   "cell_type": "code",
   "execution_count": 20,
   "metadata": {},
   "outputs": [
    {
     "data": {
      "text/plain": [
       "Text(0.5, 1.0, 'dry')"
      ]
     },
     "execution_count": 20,
     "metadata": {},
     "output_type": "execute_result"
    },
    {
     "data": {
      "image/png": "[encoded data removed]",
      "text/plain": [
       "<Figure size 1440x720 with 9 Axes>"
      ]
     },
     "metadata": {
      "needs_background": "light"
     },
     "output_type": "display_data"
    }
   ],
   "source": [
    "fig, axs = plt.subplots(3,3, figsize=(20,10),\n",
    "                        #subplot_kw={'xlim': [90,200], 'ylim':[0, 0.05]},\n",
    "                        gridspec_kw=dict(hspace=0.8, wspace=0.2)\n",
    "                       )\n",
    "attribute = LABELS[1]\n",
    "fig.suptitle(attribute, fontsize=20)\n",
    "\n",
    "for i, df in enumerate([df_low, df_med, df_high]):\n",
    "    df[attribute].hist(ax=axs[i,0], bins=40, density=1)\n",
    "    df[df['season_wet']==1][attribute].hist(ax=axs[i,1], bins=40, density=1)\n",
    "    df[df['season_wet']==0][attribute].hist(ax=axs[i,2], bins=40, density=1)\n",
    "    axs[i, 0].set_xlabel(\"attribute\\nmean={:.3f}\".format(df[attribute].mean()))\n",
    "    axs[i, 1].set_xlabel(\"attribute\\nmean={:.3f}\".format(df[df['season_wet']==1][attribute].mean()))\n",
    "    axs[i, 2].set_xlabel(\"attribute\\nmean={:.3f}\".format(df[df['season_wet']==0][attribute].mean()))\n",
    "\n",
    "\n",
    "axs[0, 0].set_ylabel(\"4-5 inch\")\n",
    "axs[1, 0].set_ylabel(\"5-6 inch\")\n",
    "axs[2, 0].set_ylabel(\"6-7 inch\")\n",
    "\n",
    "axs[0, 0].set_title(\"combined\")\n",
    "axs[0, 1].set_title(\"wet\")\n",
    "axs[0, 2].set_title(\"dry\")"
   ]
  },
  {
   "cell_type": "markdown",
   "metadata": {},
   "source": [
    "# Q5. How does the performance change if we smooth out the observation of reanalysis data?\n",
    "We can smooth out the observation using linear interpolation. For this, 5x5 grid of observations around hawaii was used to make the resolution higher."
   ]
  },
  {
   "cell_type": "code",
   "execution_count": 154,
   "metadata": {
    "jupyter": {
     "source_hidden": true
    }
   },
   "outputs": [
    {
     "name": "stdout",
     "output_type": "stream",
     "text": [
      "\n"
     ]
    },
    {
     "data": {
      "image/png": "[encoded data removed]",
      "text/plain": [
       "<Figure size 1200x800 with 6 Axes>"
      ]
     },
     "metadata": {
      "needs_background": "light"
     },
     "output_type": "display_data"
    }
   ],
   "source": [
    "lat_hawaii = [15, 17.5, 20, 22.5, 25]\n",
    "lon_hawaii = [-162.5, -160, -157.5, -155, -152.5]\n",
    "\n",
    "# load a sample dataset\n",
    "ds_air2m = xr.open_dataset(f\"{BASE_DIR}/air.2m.mon.mean.regridded.nc\")\n",
    "data_matrix = ds_air2m.loc[dict(time=\"1948-06-01\", lon=np.array(lon_hawaii) + 360, lat=lat_hawaii)][\"air\"]\n",
    "\n",
    "# apply linear interpolation\n",
    "data_matrix_interp_100 = data_matrix.interp(\n",
    "    lat=np.linspace(lat_hawaii[0],\n",
    "                    lat_hawaii[-1],\n",
    "                    100\n",
    "                   ),\n",
    "    lon=np.linspace(lon_hawaii[0],\n",
    "                    lon_hawaii[-1],\n",
    "                    100\n",
    "    ) + 360,\n",
    "    method=\"linear\"\n",
    ")\n",
    "\n",
    "data_matrix_interp_50 = data_matrix.interp(\n",
    "    lat=np.linspace(lat_hawaii[0],\n",
    "                    lat_hawaii[-1],\n",
    "                    50\n",
    "                   ),\n",
    "    lon=np.linspace(lon_hawaii[0],\n",
    "                    lon_hawaii[-1],\n",
    "                    50\n",
    "    ) + 360,\n",
    "    method=\"cubic\"\n",
    ")\n",
    "\n",
    "fig, axs = plt.subplots(\n",
    "    2, 3, figsize=(15, 10), dpi=80,\n",
    "    subplot_kw={'projection': ccrs.PlateCarree()},\n",
    ")\n",
    "\n",
    "xmin, xmax = -162.5, -152.5\n",
    "ymin, ymax = 15, 25\n",
    "\n",
    "data_matrix.plot(ax=axs[0, 0], add_colorbar=False)\n",
    "data_matrix_interp_100.plot(ax=axs[0, 1], add_colorbar=False)\n",
    "data_matrix_interp_50.plot(ax=axs[0, 2], add_colorbar=False)\n",
    "\n",
    "for ax in axs.flatten():\n",
    "    ax.set_xticks(np.arange(xmin, xmax+1, 2.5))\n",
    "    ax.set_yticks(np.arange(ymin, ymax+1, 2.5))\n",
    "    ax.set_ylabel(\"\")\n",
    "\n",
    "    ax.set_xlim(xmin, xmax)\n",
    "    ax.set_ylim(ymin, ymax)\n",
    "    ax.coastlines(resolution='10m')\n",
    "    ax.grid(linewidth=2, color='black', linestyle='--')\n",
    "    ax.vlines(x=np.arange(xmin, xmax+1, 2.5) - 1.25, ymin=ymin, ymax=ymax, color=\"k\", linewidth=1, linestyle=\"--\", alpha=0.5)\n",
    "    ax.hlines(y=np.arange(ymin, ymax+1, 2.5) - 1.25 , xmin=xmin, xmax=xmax, color=\"k\", linewidth=1, linestyle=\"--\", alpha=0.5)\n",
    "    ax.set_xticklabels([])\n",
    "    ax.set_yticklabels([])\n",
    "    ax.set_xlabel(\"\")\n",
    "axs[0, 0].set_title(\"default\", fontsize=(15))\n",
    "axs[0, 1].set_title(\"linear 100x100\", fontsize=(15))\n",
    "axs[0, 2].set_title(\"linear 50x50\", fontsize=(15))\n",
    "\n",
    "\n",
    "# lower plots\n",
    "xx, yy = np.meshgrid(lon_hawaii, lat_hawaii)\n",
    "\n",
    "xx_interp_50, yy_interp_50 = np.meshgrid(\n",
    "    np.linspace(lon_hawaii[0], lon_hawaii[-1], 50),\n",
    "    np.linspace(lat_hawaii[0], lat_hawaii[-1], 50)\n",
    ")\n",
    "\n",
    "xx_interp_100, yy_interp_100 = np.meshgrid(\n",
    "    np.linspace(lon_hawaii[0], lon_hawaii[-1], 100),\n",
    "    np.linspace(lat_hawaii[0], lat_hawaii[-1], 100)\n",
    ")\n",
    "\n",
    "interpolation = axs[1, 1].scatter(xx_interp_100, yy_interp_100, s=0.3, label=\"interpolation\", color='orange')\n",
    "interpolation = axs[1, 2].scatter(xx_interp_50, yy_interp_50, s=0.3, label=\"interpolation\", color='orange')\n",
    "\n",
    "for i in range(3):\n",
    "    observations = axs[1, i].scatter(xx, yy, s=5, label=\"observations\", color='blue')\n",
    "    axs[1, i].legend(loc=1)\n",
    "\n",
    "print()"
   ]
  },
  {
   "cell_type": "markdown",
   "metadata": {},
   "source": [
    "## Q3.1 Linear Interpolation with lower resolution"
   ]
  },
  {
   "cell_type": "code",
   "execution_count": 23,
   "metadata": {},
   "outputs": [],
   "source": [
    "columns = [\n",
    "    'data_in',\n",
    "    'lat', 'lon', 'elevation', 'season_wet', 'season_dry',\n",
    "    'i50_air2m', 'i50_air1000_500', 'i50_hgt500', 'i50_hgt1000', 'i50_omega500',\n",
    "    'i50_pottemp1000-500', 'i50_pottemp1000-850', 'i50_pr_wtr', 'i50_shum-uwnd-700',\n",
    "    'i50_shum-uwnd-925', 'i50_shum-vwnd-700', 'i50_shum-vwnd-950', 'i50_shum700', 'i50_shum925', \n",
    "    'i50_skt', 'i50_slp'\n",
    "]"
   ]
  },
  {
   "cell_type": "code",
   "execution_count": 24,
   "metadata": {},
   "outputs": [],
   "source": [
    "Xtrain = np.array(df_train[columns].drop(labels=[\"data_in\"], axis=1))\n",
    "Ytrain = np.array(df_train[\"data_in\"])\n",
    "\n",
    "Xvalid = np.array(df_valid[columns].drop(labels=[\"data_in\"], axis=1))\n",
    "Yvalid = np.array(df_valid[\"data_in\"])\n",
    "\n",
    "Xtest = np.array(df_test[columns].drop(labels=[\"data_in\"], axis=1))\n",
    "Ytest = np.array(df_test[\"data_in\"])"
   ]
  },
  {
   "cell_type": "code",
   "execution_count": 25,
   "metadata": {},
   "outputs": [
    {
     "name": "stdout",
     "output_type": "stream",
     "text": [
      "mse_interp_50=[36.22769920327844, 19.740148378466692, 17.95918604163002, 17.284053261648335]\n"
     ]
    }
   ],
   "source": [
    "# hyperparameters acquired in external experiment: fine tuned\n",
    "linear_regression = LinearRegression()\n",
    "random_forest = RandomForestRegressor(\n",
    "    n_estimators=200,\n",
    "    max_depth=None,\n",
    "    min_samples_split=3,\n",
    "    n_jobs=-1,\n",
    "    verbose=False,\n",
    ")\n",
    "\n",
    "gradient_boost = GradientBoostingRegressor(\n",
    "    n_estimators=170, \n",
    "    learning_rate=0.1,\n",
    "    max_depth=7,\n",
    "    min_samples_split=6,\n",
    "    verbose=False\n",
    ")\n",
    "\n",
    "xgboost = XGBRegressor(\n",
    "    n_estimators=210, # 160?\n",
    "    learning_rate=0.1,\n",
    "    max_depth=9,\n",
    "    verbosity=0\n",
    ")\n",
    "\n",
    "linear_regression.fit(Xtrain, Ytrain)\n",
    "random_forest.fit(Xtrain, Ytrain)\n",
    "gradient_boost.fit(Xtrain, Ytrain)\n",
    "xgboost.fit(Xtrain, Ytrain)\n",
    "\n",
    "mse_interp_50 = [\n",
    "    mean_squared_error(Ytest, linear_regression.predict(Xtest)),\n",
    "    mean_squared_error(Ytest, random_forest.predict(Xtest)),\n",
    "    mean_squared_error(Ytest, gradient_boost.predict(Xtest)),\n",
    "    mean_squared_error(Ytest, xgboost.predict(Xtest)),\n",
    "]\n",
    "print(f\"{mse_interp_50=}\")"
   ]
  },
  {
   "cell_type": "markdown",
   "metadata": {},
   "source": [
    "## Q3.2 Linear Interpolation with higher resolution"
   ]
  },
  {
   "cell_type": "code",
   "execution_count": 3,
   "metadata": {},
   "outputs": [],
   "source": [
    "columns = [\n",
    "    'data_in',\n",
    "    'lat', 'lon', 'elevation', 'season_wet', 'season_dry',\n",
    "    'i100_air2m', 'i100_air1000_500', 'i100_hgt500', 'i100_hgt1000', 'i100_omega500',\n",
    "    'i100_pottemp1000-500', 'i100_pottemp1000-850', 'i100_pr_wtr', 'i100_shum-uwnd-700',\n",
    "    'i100_shum-uwnd-925', 'i100_shum-vwnd-700', 'i100_shum-vwnd-950', 'i100_shum700', 'i100_shum925', \n",
    "    'i100_skt', 'i100_slp'\n",
    "]"
   ]
  },
  {
   "cell_type": "code",
   "execution_count": 4,
   "metadata": {},
   "outputs": [],
   "source": [
    "Xtrain = np.array(df_train[columns].drop(labels=[\"data_in\"], axis=1))\n",
    "Ytrain = np.array(df_train[\"data_in\"])\n",
    "\n",
    "Xvalid = np.array(df_valid[columns].drop(labels=[\"data_in\"], axis=1))\n",
    "Yvalid = np.array(df_valid[\"data_in\"])\n",
    "\n",
    "Xtest = np.array(df_test[columns].drop(labels=[\"data_in\"], axis=1))\n",
    "Ytest = np.array(df_test[\"data_in\"])"
   ]
  },
  {
   "cell_type": "code",
   "execution_count": 8,
   "metadata": {},
   "outputs": [
    {
     "name": "stdout",
     "output_type": "stream",
     "text": [
      "mse_interp_50=[36.22769920327844, 19.913305540134004, 17.923331294777736, 17.284053261648335]\n"
     ]
    }
   ],
   "source": [
    "# hyperparameters acquired in external experiment: fine tuned\n",
    "linear_regression = LinearRegression()\n",
    "random_forest = RandomForestRegressor(\n",
    "    n_estimators=210,\n",
    "    max_depth=None,\n",
    "    min_samples_split=5,\n",
    "    n_jobs=-1,\n",
    "    verbose=False,\n",
    ")\n",
    "\n",
    "gradient_boost = GradientBoostingRegressor(\n",
    "    n_estimators=240, \n",
    "    learning_rate=0.1,\n",
    "    max_depth=7,\n",
    "    min_samples_split=2,\n",
    "    verbose=False\n",
    ")\n",
    "\n",
    "xgboost = XGBRegressor(\n",
    "    n_estimators=300,\n",
    "    learning_rate=0.05,\n",
    "    max_depth=9,\n",
    "    verbosity=0\n",
    ")\n",
    "\n",
    "linear_regression.fit(Xtrain, Ytrain)\n",
    "random_forest.fit(Xtrain, Ytrain)\n",
    "gradient_boost.fit(Xtrain, Ytrain)\n",
    "xgboost.fit(Xtrain, Ytrain)\n",
    "\n",
    "mse_interp_50 = [\n",
    "    mean_squared_error(Ytest, linear_regression.predict(Xtest)),\n",
    "    mean_squared_error(Ytest, random_forest.predict(Xtest)),\n",
    "    mean_squared_error(Ytest, gradient_boost.predict(Xtest)),\n",
    "    mean_squared_error(Ytest, xgboost.predict(Xtest)),\n",
    "]\n",
    "\n",
    "print(f\"{mse_interp_50=}\")"
   ]
  },
  {
   "cell_type": "markdown",
   "metadata": {},
   "source": [
    "# Q4. How does the performance change if we feed more reanalysis data from neighboring 6 grids?"
   ]
  },
  {
   "cell_type": "code",
   "execution_count": 3,
   "metadata": {},
   "outputs": [
    {
     "name": "stdout",
     "output_type": "stream",
     "text": [
      "air2m_0 air1000_500_0 hgt500_0 hgt1000_0 omega500_0 pottemp1000-500_0 pottemp1000-850_0 pr_wtr_0 shum-uwnd-700_0 shum-uwnd-925_0 shum-vwnd-700_0 shum-vwnd-950_0 shum700_0 shum925_0 skt_0 slp_0 air2m_1 air1000_500_1 hgt500_1 hgt1000_1 omega500_1 pottemp1000-500_1 pottemp1000-850_1 pr_wtr_1 shum-uwnd-700_1 shum-uwnd-925_1 shum-vwnd-700_1 shum-vwnd-950_1 shum700_1 shum925_1 skt_1 slp_1 air2m_2 air1000_500_2 hgt500_2 hgt1000_2 omega500_2 pottemp1000-500_2 pottemp1000-850_2 pr_wtr_2 shum-uwnd-700_2 shum-uwnd-925_2 shum-vwnd-700_2 shum-vwnd-950_2 shum700_2 shum925_2 skt_2 slp_2 air2m_3 air1000_500_3 hgt500_3 hgt1000_3 omega500_3 pottemp1000-500_3 pottemp1000-850_3 pr_wtr_3 shum-uwnd-700_3 shum-uwnd-925_3 shum-vwnd-700_3 shum-vwnd-950_3 shum700_3 shum925_3 skt_3 slp_3 air2m_4 air1000_500_4 hgt500_4 hgt1000_4 omega500_4 pottemp1000-500_4 pottemp1000-850_4 pr_wtr_4 shum-uwnd-700_4 shum-uwnd-925_4 shum-vwnd-700_4 shum-vwnd-950_4 shum700_4 shum925_4 skt_4 slp_4 air2m_5 air1000_500_5 hgt500_5 hgt1000_5 omega500_5 pottemp1000-500_5 pottemp1000-850_5 pr_wtr_5 shum-uwnd-700_5 shum-uwnd-925_5 shum-vwnd-700_5 shum-vwnd-950_5 shum700_5 shum925_5 skt_5 slp_5 data_in lat lon elevation season_wet season_dry "
     ]
    }
   ],
   "source": [
    "reanalysis_data = [\n",
    "    'air2m', 'air1000_500', 'hgt500', 'hgt1000', 'omega500',\n",
    "    'pottemp1000-500', 'pottemp1000-850', 'pr_wtr', 'shum-uwnd-700',\n",
    "    'shum-uwnd-925', 'shum-vwnd-700', 'shum-vwnd-950', 'shum700', 'shum925', \n",
    "    'skt', 'slp'\n",
    "]\n",
    "\n",
    "columns = []\n",
    "for i in range(6):\n",
    "    for item in reanalysis_data:\n",
    "        columns.append(f\"{item}_{i}\")\n",
    "\n",
    "columns.extend(['data_in', 'lat', 'lon', 'elevation', 'season_wet', 'season_dry'])\n",
    "for item in columns:\n",
    "    print(item, end=' ')"
   ]
  },
  {
   "cell_type": "code",
   "execution_count": 4,
   "metadata": {},
   "outputs": [],
   "source": [
    "Xtrain = np.array(df_train[columns].drop(labels=[\"data_in\"], axis=1))\n",
    "Ytrain = np.array(df_train[\"data_in\"])\n",
    "\n",
    "Xvalid = np.array(df_valid[columns].drop(labels=[\"data_in\"], axis=1))\n",
    "Yvalid = np.array(df_valid[\"data_in\"])\n",
    "\n",
    "Xtest = np.array(df_test[columns].drop(labels=[\"data_in\"], axis=1))\n",
    "Ytest = np.array(df_test[\"data_in\"])"
   ]
  },
  {
   "cell_type": "code",
   "execution_count": 6,
   "metadata": {},
   "outputs": [
    {
     "name": "stdout",
     "output_type": "stream",
     "text": [
      "MSE on random forest: 17.963\n",
      "MSE on random forest: 0.783\n"
     ]
    }
   ],
   "source": [
    "# hyperparameters obtained by fine tuning\n",
    "params = {\n",
    "    \"n_estimators\": 220, #(150, 200)\n",
    "    \"max_depth\": None, #(None)\n",
    "    \"min_samples_split\": 2,\n",
    "    \"n_jobs\": -1,\n",
    "    \"verbose\" : False\n",
    "}\n",
    "\n",
    "random_forest = RandomForestRegressor(**params)\n",
    "random_forest.fit(Xtrain, Ytrain)\n",
    "print(\"MSE on random forest: {:.3f}\".format(mean_squared_error(Ytest, random_forest.predict(Xtest))))\n",
    "print(\"MSE on random forest: {:.3f}\".format(mean_squared_error(Ytrain, random_forest.predict(Xtrain))))"
   ]
  },
  {
   "cell_type": "code",
   "execution_count": null,
   "metadata": {},
   "outputs": [],
   "source": [
    "gradient_boost = GradientBoostingRegressor(\n",
    "    n_estimators=300, \n",
    "    learning_rate=0.1,\n",
    "    max_depth=6,\n",
    "    min_samples_split=2,\n",
    "    verbose=False\n",
    ")\n",
    "\n",
    "gradient_boost.fit(Xtrain, Ytrain)\n",
    "print(\"MSE on gradient boost (test) : {:.3f}\".format(mean_squared_error(Ytest, gradient_boost.predict(Xtest))))\n",
    "print(\"MSE on gradient boost (train): {:.3f}\".format(mean_squared_error(Ytrain, gradient_boost.predict(Xtrain))))"
   ]
  },
  {
   "cell_type": "code",
   "execution_count": 6,
   "metadata": {},
   "outputs": [
    {
     "name": "stdout",
     "output_type": "stream",
     "text": [
      "MSE on xgboost (test) : 15.80659\n",
      "MSE on xgboost (train): 4.65344\n"
     ]
    }
   ],
   "source": [
    "# hyperparameters obtained by fine tuning\n",
    "xgboost = XGBRegressor(\n",
    "    n_estimators=170,\n",
    "    learning_rate=0.1,\n",
    "    max_depth=9,\n",
    "    verbosity=0\n",
    ")\n",
    "\n",
    "xgboost.fit(Xtrain, Ytrain)\n",
    "print(\"MSE on xgboost (test) : {:.5f}\".format(mean_squared_error(Ytest, xgboost.predict(Xtest))))\n",
    "print(\"MSE on xgboost (train): {:.5f}\".format(mean_squared_error(Ytrain, xgboost.predict(Xtrain))))"
   ]
  },
  {
   "cell_type": "markdown",
   "metadata": {},
   "source": [
    "# Prediction comparison"
   ]
  },
  {
   "cell_type": "code",
   "execution_count": 189,
   "metadata": {},
   "outputs": [],
   "source": [
    "df_metadata = pd.read_excel(f\"{BASE_DIR}/FilledDataset2012.xlsx\", sheet_name=\"Header\")\n",
    "df_test = df_metadata[[\"Lat_DD\", \"Lon_DD\"]].drop_duplicates().rename({\"Lat_DD\": \"lat\", \"Lon_DD\": \"lon\"}, axis=1)\n",
    "df_test[\"rainfall\"] = df_test.apply(lambda x: np.random.normal(loc=10), axis=1)\n",
    "\n"
   ]
  },
  {
   "cell_type": "code",
   "execution_count": 190,
   "metadata": {},
   "outputs": [
    {
     "data": {
      "text/html": [
       "<div>\n",
       "<style scoped>\n",
       "    .dataframe tbody tr th:only-of-type {\n",
       "        vertical-align: middle;\n",
       "    }\n",
       "\n",
       "    .dataframe tbody tr th {\n",
       "        vertical-align: top;\n",
       "    }\n",
       "\n",
       "    .dataframe thead th {\n",
       "        text-align: right;\n",
       "    }\n",
       "</style>\n",
       "<table border=\"1\" class=\"dataframe\">\n",
       "  <thead>\n",
       "    <tr style=\"text-align: right;\">\n",
       "      <th></th>\n",
       "      <th>lat</th>\n",
       "      <th>lon</th>\n",
       "      <th>rainfall</th>\n",
       "    </tr>\n",
       "  </thead>\n",
       "  <tbody>\n",
       "    <tr>\n",
       "      <th>0</th>\n",
       "      <td>18.916176</td>\n",
       "      <td>-155.674994</td>\n",
       "      <td>12.145990</td>\n",
       "    </tr>\n",
       "    <tr>\n",
       "      <th>1</th>\n",
       "      <td>18.913680</td>\n",
       "      <td>-155.680550</td>\n",
       "      <td>7.661871</td>\n",
       "    </tr>\n",
       "    <tr>\n",
       "      <th>2</th>\n",
       "      <td>18.938669</td>\n",
       "      <td>-155.680549</td>\n",
       "      <td>10.808190</td>\n",
       "    </tr>\n",
       "    <tr>\n",
       "      <th>3</th>\n",
       "      <td>19.108660</td>\n",
       "      <td>-155.825545</td>\n",
       "      <td>10.091865</td>\n",
       "    </tr>\n",
       "    <tr>\n",
       "      <th>4</th>\n",
       "      <td>19.108890</td>\n",
       "      <td>-155.746670</td>\n",
       "      <td>11.085384</td>\n",
       "    </tr>\n",
       "    <tr>\n",
       "      <th>...</th>\n",
       "      <td>...</td>\n",
       "      <td>...</td>\n",
       "      <td>...</td>\n",
       "    </tr>\n",
       "    <tr>\n",
       "      <th>2219</th>\n",
       "      <td>22.202190</td>\n",
       "      <td>-159.347203</td>\n",
       "      <td>10.661517</td>\n",
       "    </tr>\n",
       "    <tr>\n",
       "      <th>2220</th>\n",
       "      <td>22.186077</td>\n",
       "      <td>-159.318870</td>\n",
       "      <td>11.037714</td>\n",
       "    </tr>\n",
       "    <tr>\n",
       "      <th>2221</th>\n",
       "      <td>22.182760</td>\n",
       "      <td>-159.332203</td>\n",
       "      <td>10.756760</td>\n",
       "    </tr>\n",
       "    <tr>\n",
       "      <th>2222</th>\n",
       "      <td>22.183333</td>\n",
       "      <td>-159.337500</td>\n",
       "      <td>9.549867</td>\n",
       "    </tr>\n",
       "    <tr>\n",
       "      <th>2223</th>\n",
       "      <td>22.174441</td>\n",
       "      <td>-159.336092</td>\n",
       "      <td>8.736005</td>\n",
       "    </tr>\n",
       "  </tbody>\n",
       "</table>\n",
       "<p>2215 rows × 3 columns</p>\n",
       "</div>"
      ],
      "text/plain": [
       "            lat         lon   rainfall\n",
       "0     18.916176 -155.674994  12.145990\n",
       "1     18.913680 -155.680550   7.661871\n",
       "2     18.938669 -155.680549  10.808190\n",
       "3     19.108660 -155.825545  10.091865\n",
       "4     19.108890 -155.746670  11.085384\n",
       "...         ...         ...        ...\n",
       "2219  22.202190 -159.347203  10.661517\n",
       "2220  22.186077 -159.318870  11.037714\n",
       "2221  22.182760 -159.332203  10.756760\n",
       "2222  22.183333 -159.337500   9.549867\n",
       "2223  22.174441 -159.336092   8.736005\n",
       "\n",
       "[2215 rows x 3 columns]"
      ]
     },
     "execution_count": 190,
     "metadata": {},
     "output_type": "execute_result"
    }
   ],
   "source": [
    "df_test"
   ]
  },
  {
   "cell_type": "code",
   "execution_count": 197,
   "metadata": {},
   "outputs": [
    {
     "data": {
      "text/html": [
       "<div><svg style=\"position: absolute; width: 0; height: 0; overflow: hidden\">\n",
       "<defs>\n",
       "<symbol id=\"icon-database\" viewBox=\"0 0 32 32\">\n",
       "<path d=\"M16 0c-8.837 0-16 2.239-16 5v4c0 2.761 7.163 5 16 5s16-2.239 16-5v-4c0-2.761-7.163-5-16-5z\"></path>\n",
       "<path d=\"M16 17c-8.837 0-16-2.239-16-5v6c0 2.761 7.163 5 16 5s16-2.239 16-5v-6c0 2.761-7.163 5-16 5z\"></path>\n",
       "<path d=\"M16 26c-8.837 0-16-2.239-16-5v6c0 2.761 7.163 5 16 5s16-2.239 16-5v-6c0 2.761-7.163 5-16 5z\"></path>\n",
       "</symbol>\n",
       "<symbol id=\"icon-file-text2\" viewBox=\"0 0 32 32\">\n",
       "<path d=\"M28.681 7.159c-0.694-0.947-1.662-2.053-2.724-3.116s-2.169-2.030-3.116-2.724c-1.612-1.182-2.393-1.319-2.841-1.319h-15.5c-1.378 0-2.5 1.121-2.5 2.5v27c0 1.378 1.122 2.5 2.5 2.5h23c1.378 0 2.5-1.122 2.5-2.5v-19.5c0-0.448-0.137-1.23-1.319-2.841zM24.543 5.457c0.959 0.959 1.712 1.825 2.268 2.543h-4.811v-4.811c0.718 0.556 1.584 1.309 2.543 2.268zM28 29.5c0 0.271-0.229 0.5-0.5 0.5h-23c-0.271 0-0.5-0.229-0.5-0.5v-27c0-0.271 0.229-0.5 0.5-0.5 0 0 15.499-0 15.5 0v7c0 0.552 0.448 1 1 1h7v19.5z\"></path>\n",
       "<path d=\"M23 26h-14c-0.552 0-1-0.448-1-1s0.448-1 1-1h14c0.552 0 1 0.448 1 1s-0.448 1-1 1z\"></path>\n",
       "<path d=\"M23 22h-14c-0.552 0-1-0.448-1-1s0.448-1 1-1h14c0.552 0 1 0.448 1 1s-0.448 1-1 1z\"></path>\n",
       "<path d=\"M23 18h-14c-0.552 0-1-0.448-1-1s0.448-1 1-1h14c0.552 0 1 0.448 1 1s-0.448 1-1 1z\"></path>\n",
       "</symbol>\n",
       "</defs>\n",
       "</svg>\n",
       "<style>/* CSS stylesheet for displaying xarray objects in jupyterlab.\n",
       " *\n",
       " */\n",
       "\n",
       ":root {\n",
       "  --xr-font-color0: var(--jp-content-font-color0, rgba(0, 0, 0, 1));\n",
       "  --xr-font-color2: var(--jp-content-font-color2, rgba(0, 0, 0, 0.54));\n",
       "  --xr-font-color3: var(--jp-content-font-color3, rgba(0, 0, 0, 0.38));\n",
       "  --xr-border-color: var(--jp-border-color2, #e0e0e0);\n",
       "  --xr-disabled-color: var(--jp-layout-color3, #bdbdbd);\n",
       "  --xr-background-color: var(--jp-layout-color0, white);\n",
       "  --xr-background-color-row-even: var(--jp-layout-color1, white);\n",
       "  --xr-background-color-row-odd: var(--jp-layout-color2, #eeeeee);\n",
       "}\n",
       "\n",
       "html[theme=dark],\n",
       "body.vscode-dark {\n",
       "  --xr-font-color0: rgba(255, 255, 255, 1);\n",
       "  --xr-font-color2: rgba(255, 255, 255, 0.54);\n",
       "  --xr-font-color3: rgba(255, 255, 255, 0.38);\n",
       "  --xr-border-color: #1F1F1F;\n",
       "  --xr-disabled-color: #515151;\n",
       "  --xr-background-color: #111111;\n",
       "  --xr-background-color-row-even: #111111;\n",
       "  --xr-background-color-row-odd: #313131;\n",
       "}\n",
       "\n",
       ".xr-wrap {\n",
       "  display: block;\n",
       "  min-width: 300px;\n",
       "  max-width: 700px;\n",
       "}\n",
       "\n",
       ".xr-text-repr-fallback {\n",
       "  /* fallback to plain text repr when CSS is not injected (untrusted notebook) */\n",
       "  display: none;\n",
       "}\n",
       "\n",
       ".xr-header {\n",
       "  padding-top: 6px;\n",
       "  padding-bottom: 6px;\n",
       "  margin-bottom: 4px;\n",
       "  border-bottom: solid 1px var(--xr-border-color);\n",
       "}\n",
       "\n",
       ".xr-header > div,\n",
       ".xr-header > ul {\n",
       "  display: inline;\n",
       "  margin-top: 0;\n",
       "  margin-bottom: 0;\n",
       "}\n",
       "\n",
       ".xr-obj-type,\n",
       ".xr-array-name {\n",
       "  margin-left: 2px;\n",
       "  margin-right: 10px;\n",
       "}\n",
       "\n",
       ".xr-obj-type {\n",
       "  color: var(--xr-font-color2);\n",
       "}\n",
       "\n",
       ".xr-sections {\n",
       "  padding-left: 0 !important;\n",
       "  display: grid;\n",
       "  grid-template-columns: 150px auto auto 1fr 20px 20px;\n",
       "}\n",
       "\n",
       ".xr-section-item {\n",
       "  display: contents;\n",
       "}\n",
       "\n",
       ".xr-section-item input {\n",
       "  display: none;\n",
       "}\n",
       "\n",
       ".xr-section-item input + label {\n",
       "  color: var(--xr-disabled-color);\n",
       "}\n",
       "\n",
       ".xr-section-item input:enabled + label {\n",
       "  cursor: pointer;\n",
       "  color: var(--xr-font-color2);\n",
       "}\n",
       "\n",
       ".xr-section-item input:enabled + label:hover {\n",
       "  color: var(--xr-font-color0);\n",
       "}\n",
       "\n",
       ".xr-section-summary {\n",
       "  grid-column: 1;\n",
       "  color: var(--xr-font-color2);\n",
       "  font-weight: 500;\n",
       "}\n",
       "\n",
       ".xr-section-summary > span {\n",
       "  display: inline-block;\n",
       "  padding-left: 0.5em;\n",
       "}\n",
       "\n",
       ".xr-section-summary-in:disabled + label {\n",
       "  color: var(--xr-font-color2);\n",
       "}\n",
       "\n",
       ".xr-section-summary-in + label:before {\n",
       "  display: inline-block;\n",
       "  content: '►';\n",
       "  font-size: 11px;\n",
       "  width: 15px;\n",
       "  text-align: center;\n",
       "}\n",
       "\n",
       ".xr-section-summary-in:disabled + label:before {\n",
       "  color: var(--xr-disabled-color);\n",
       "}\n",
       "\n",
       ".xr-section-summary-in:checked + label:before {\n",
       "  content: '▼';\n",
       "}\n",
       "\n",
       ".xr-section-summary-in:checked + label > span {\n",
       "  display: none;\n",
       "}\n",
       "\n",
       ".xr-section-summary,\n",
       ".xr-section-inline-details {\n",
       "  padding-top: 4px;\n",
       "  padding-bottom: 4px;\n",
       "}\n",
       "\n",
       ".xr-section-inline-details {\n",
       "  grid-column: 2 / -1;\n",
       "}\n",
       "\n",
       ".xr-section-details {\n",
       "  display: none;\n",
       "  grid-column: 1 / -1;\n",
       "  margin-bottom: 5px;\n",
       "}\n",
       "\n",
       ".xr-section-summary-in:checked ~ .xr-section-details {\n",
       "  display: contents;\n",
       "}\n",
       "\n",
       ".xr-array-wrap {\n",
       "  grid-column: 1 / -1;\n",
       "  display: grid;\n",
       "  grid-template-columns: 20px auto;\n",
       "}\n",
       "\n",
       ".xr-array-wrap > label {\n",
       "  grid-column: 1;\n",
       "  vertical-align: top;\n",
       "}\n",
       "\n",
       ".xr-preview {\n",
       "  color: var(--xr-font-color3);\n",
       "}\n",
       "\n",
       ".xr-array-preview,\n",
       ".xr-array-data {\n",
       "  padding: 0 5px !important;\n",
       "  grid-column: 2;\n",
       "}\n",
       "\n",
       ".xr-array-data,\n",
       ".xr-array-in:checked ~ .xr-array-preview {\n",
       "  display: none;\n",
       "}\n",
       "\n",
       ".xr-array-in:checked ~ .xr-array-data,\n",
       ".xr-array-preview {\n",
       "  display: inline-block;\n",
       "}\n",
       "\n",
       ".xr-dim-list {\n",
       "  display: inline-block !important;\n",
       "  list-style: none;\n",
       "  padding: 0 !important;\n",
       "  margin: 0;\n",
       "}\n",
       "\n",
       ".xr-dim-list li {\n",
       "  display: inline-block;\n",
       "  padding: 0;\n",
       "  margin: 0;\n",
       "}\n",
       "\n",
       ".xr-dim-list:before {\n",
       "  content: '(';\n",
       "}\n",
       "\n",
       ".xr-dim-list:after {\n",
       "  content: ')';\n",
       "}\n",
       "\n",
       ".xr-dim-list li:not(:last-child):after {\n",
       "  content: ',';\n",
       "  padding-right: 5px;\n",
       "}\n",
       "\n",
       ".xr-has-index {\n",
       "  font-weight: bold;\n",
       "}\n",
       "\n",
       ".xr-var-list,\n",
       ".xr-var-item {\n",
       "  display: contents;\n",
       "}\n",
       "\n",
       ".xr-var-item > div,\n",
       ".xr-var-item label,\n",
       ".xr-var-item > .xr-var-name span {\n",
       "  background-color: var(--xr-background-color-row-even);\n",
       "  margin-bottom: 0;\n",
       "}\n",
       "\n",
       ".xr-var-item > .xr-var-name:hover span {\n",
       "  padding-right: 5px;\n",
       "}\n",
       "\n",
       ".xr-var-list > li:nth-child(odd) > div,\n",
       ".xr-var-list > li:nth-child(odd) > label,\n",
       ".xr-var-list > li:nth-child(odd) > .xr-var-name span {\n",
       "  background-color: var(--xr-background-color-row-odd);\n",
       "}\n",
       "\n",
       ".xr-var-name {\n",
       "  grid-column: 1;\n",
       "}\n",
       "\n",
       ".xr-var-dims {\n",
       "  grid-column: 2;\n",
       "}\n",
       "\n",
       ".xr-var-dtype {\n",
       "  grid-column: 3;\n",
       "  text-align: right;\n",
       "  color: var(--xr-font-color2);\n",
       "}\n",
       "\n",
       ".xr-var-preview {\n",
       "  grid-column: 4;\n",
       "}\n",
       "\n",
       ".xr-var-name,\n",
       ".xr-var-dims,\n",
       ".xr-var-dtype,\n",
       ".xr-preview,\n",
       ".xr-attrs dt {\n",
       "  white-space: nowrap;\n",
       "  overflow: hidden;\n",
       "  text-overflow: ellipsis;\n",
       "  padding-right: 10px;\n",
       "}\n",
       "\n",
       ".xr-var-name:hover,\n",
       ".xr-var-dims:hover,\n",
       ".xr-var-dtype:hover,\n",
       ".xr-attrs dt:hover {\n",
       "  overflow: visible;\n",
       "  width: auto;\n",
       "  z-index: 1;\n",
       "}\n",
       "\n",
       ".xr-var-attrs,\n",
       ".xr-var-data {\n",
       "  display: none;\n",
       "  background-color: var(--xr-background-color) !important;\n",
       "  padding-bottom: 5px !important;\n",
       "}\n",
       "\n",
       ".xr-var-attrs-in:checked ~ .xr-var-attrs,\n",
       ".xr-var-data-in:checked ~ .xr-var-data {\n",
       "  display: block;\n",
       "}\n",
       "\n",
       ".xr-var-data > table {\n",
       "  float: right;\n",
       "}\n",
       "\n",
       ".xr-var-name span,\n",
       ".xr-var-data,\n",
       ".xr-attrs {\n",
       "  padding-left: 25px !important;\n",
       "}\n",
       "\n",
       ".xr-attrs,\n",
       ".xr-var-attrs,\n",
       ".xr-var-data {\n",
       "  grid-column: 1 / -1;\n",
       "}\n",
       "\n",
       "dl.xr-attrs {\n",
       "  padding: 0;\n",
       "  margin: 0;\n",
       "  display: grid;\n",
       "  grid-template-columns: 125px auto;\n",
       "}\n",
       "\n",
       ".xr-attrs dt,\n",
       ".xr-attrs dd {\n",
       "  padding: 0;\n",
       "  margin: 0;\n",
       "  float: left;\n",
       "  padding-right: 10px;\n",
       "  width: auto;\n",
       "}\n",
       "\n",
       ".xr-attrs dt {\n",
       "  font-weight: normal;\n",
       "  grid-column: 1;\n",
       "}\n",
       "\n",
       ".xr-attrs dt:hover span {\n",
       "  display: inline-block;\n",
       "  background: var(--xr-background-color);\n",
       "  padding-right: 10px;\n",
       "}\n",
       "\n",
       ".xr-attrs dd {\n",
       "  grid-column: 2;\n",
       "  white-space: pre-wrap;\n",
       "  word-break: break-all;\n",
       "}\n",
       "\n",
       ".xr-icon-database,\n",
       ".xr-icon-file-text2 {\n",
       "  display: inline-block;\n",
       "  vertical-align: middle;\n",
       "  width: 1em;\n",
       "  height: 1.5em !important;\n",
       "  stroke-width: 0;\n",
       "  stroke: currentColor;\n",
       "  fill: currentColor;\n",
       "}\n",
       "</style><pre class='xr-text-repr-fallback'>&lt;xarray.DataArray &#x27;rainfall&#x27; (lat: 2212, lon: 2213)&gt;\n",
       "array([[nan, nan, nan, ..., nan, nan, nan],\n",
       "       [nan, nan, nan, ..., nan, nan, nan],\n",
       "       [nan, nan, nan, ..., nan, nan, nan],\n",
       "       ...,\n",
       "       [nan, nan, nan, ..., nan, nan, nan],\n",
       "       [nan, nan, nan, ..., nan, nan, nan],\n",
       "       [nan, nan, nan, ..., nan, nan, nan]])\n",
       "Coordinates:\n",
       "  * lat      (lat) float64 18.91 18.92 18.94 18.94 ... 22.22 22.22 22.23 22.23\n",
       "  * lon      (lon) float64 -159.8 -159.8 -159.8 -159.8 ... -154.8 -154.8 -154.8</pre><div class='xr-wrap' hidden><div class='xr-header'><div class='xr-obj-type'>xarray.DataArray</div><div class='xr-array-name'>'rainfall'</div><ul class='xr-dim-list'><li><span class='xr-has-index'>lat</span>: 2212</li><li><span class='xr-has-index'>lon</span>: 2213</li></ul></div><ul class='xr-sections'><li class='xr-section-item'><div class='xr-array-wrap'><input id='section-2cabcda8-6cc7-4b11-b3f9-6cae8bf54934' class='xr-array-in' type='checkbox' checked><label for='section-2cabcda8-6cc7-4b11-b3f9-6cae8bf54934' title='Show/hide data repr'><svg class='icon xr-icon-database'><use xlink:href='#icon-database'></use></svg></label><div class='xr-array-preview xr-preview'><span>nan nan nan nan nan nan nan nan ... nan nan nan nan nan nan nan nan</span></div><div class='xr-array-data'><pre>array([[nan, nan, nan, ..., nan, nan, nan],\n",
       "       [nan, nan, nan, ..., nan, nan, nan],\n",
       "       [nan, nan, nan, ..., nan, nan, nan],\n",
       "       ...,\n",
       "       [nan, nan, nan, ..., nan, nan, nan],\n",
       "       [nan, nan, nan, ..., nan, nan, nan],\n",
       "       [nan, nan, nan, ..., nan, nan, nan]])</pre></div></div></li><li class='xr-section-item'><input id='section-948603b2-f458-4646-a307-e641e74a4937' class='xr-section-summary-in' type='checkbox'  checked><label for='section-948603b2-f458-4646-a307-e641e74a4937' class='xr-section-summary' >Coordinates: <span>(2)</span></label><div class='xr-section-inline-details'></div><div class='xr-section-details'><ul class='xr-var-list'><li class='xr-var-item'><div class='xr-var-name'><span class='xr-has-index'>lat</span></div><div class='xr-var-dims'>(lat)</div><div class='xr-var-dtype'>float64</div><div class='xr-var-preview xr-preview'>18.91 18.92 18.94 ... 22.23 22.23</div><input id='attrs-8be4770f-26bd-47b8-93b2-418d4b087d17' class='xr-var-attrs-in' type='checkbox' disabled><label for='attrs-8be4770f-26bd-47b8-93b2-418d4b087d17' title='Show/Hide attributes'><svg class='icon xr-icon-file-text2'><use xlink:href='#icon-file-text2'></use></svg></label><input id='data-76a7bb38-055a-4879-b811-a7f2b1a33779' class='xr-var-data-in' type='checkbox'><label for='data-76a7bb38-055a-4879-b811-a7f2b1a33779' title='Show/Hide data repr'><svg class='icon xr-icon-database'><use xlink:href='#icon-database'></use></svg></label><div class='xr-var-attrs'><dl class='xr-attrs'></dl></div><div class='xr-var-data'><pre>array([18.91368 , 18.916176, 18.937778, ..., 22.224737, 22.226134, 22.231353])</pre></div></li><li class='xr-var-item'><div class='xr-var-name'><span class='xr-has-index'>lon</span></div><div class='xr-var-dims'>(lon)</div><div class='xr-var-dtype'>float64</div><div class='xr-var-preview xr-preview'>-159.8 -159.8 ... -154.8 -154.8</div><input id='attrs-61cf328a-7838-48a5-b273-94c12b2d119c' class='xr-var-attrs-in' type='checkbox' disabled><label for='attrs-61cf328a-7838-48a5-b273-94c12b2d119c' title='Show/Hide attributes'><svg class='icon xr-icon-file-text2'><use xlink:href='#icon-file-text2'></use></svg></label><input id='data-06cfe554-dded-4d58-8474-5168307b0b48' class='xr-var-data-in' type='checkbox'><label for='data-06cfe554-dded-4d58-8474-5168307b0b48' title='Show/Hide data repr'><svg class='icon xr-icon-database'><use xlink:href='#icon-database'></use></svg></label><div class='xr-var-attrs'><dl class='xr-attrs'></dl></div><div class='xr-var-data'><pre>array([-159.78333 , -159.782211, -159.77582 , ..., -154.832225, -154.820004,\n",
       "       -154.818893])</pre></div></li></ul></div></li><li class='xr-section-item'><input id='section-4efebb9d-bc73-4e1a-a4f9-b6ad5ee558b3' class='xr-section-summary-in' type='checkbox' disabled ><label for='section-4efebb9d-bc73-4e1a-a4f9-b6ad5ee558b3' class='xr-section-summary'  title='Expand/collapse section'>Attributes: <span>(0)</span></label><div class='xr-section-inline-details'></div><div class='xr-section-details'><dl class='xr-attrs'></dl></div></li></ul></div></div>"
      ],
      "text/plain": [
       "<xarray.DataArray 'rainfall' (lat: 2212, lon: 2213)>\n",
       "array([[nan, nan, nan, ..., nan, nan, nan],\n",
       "       [nan, nan, nan, ..., nan, nan, nan],\n",
       "       [nan, nan, nan, ..., nan, nan, nan],\n",
       "       ...,\n",
       "       [nan, nan, nan, ..., nan, nan, nan],\n",
       "       [nan, nan, nan, ..., nan, nan, nan],\n",
       "       [nan, nan, nan, ..., nan, nan, nan]])\n",
       "Coordinates:\n",
       "  * lat      (lat) float64 18.91 18.92 18.94 18.94 ... 22.22 22.22 22.23 22.23\n",
       "  * lon      (lon) float64 -159.8 -159.8 -159.8 -159.8 ... -154.8 -154.8 -154.8"
      ]
     },
     "execution_count": 197,
     "metadata": {},
     "output_type": "execute_result"
    }
   ],
   "source": [
    "df_test.set_index([\"lat\", \"lon\"]).to_xarray()['rainfall']"
   ]
  },
  {
   "cell_type": "code",
   "execution_count": 188,
   "metadata": {},
   "outputs": [
    {
     "data": {
      "text/html": [
       "<div>\n",
       "<style scoped>\n",
       "    .dataframe tbody tr th:only-of-type {\n",
       "        vertical-align: middle;\n",
       "    }\n",
       "\n",
       "    .dataframe tbody tr th {\n",
       "        vertical-align: top;\n",
       "    }\n",
       "\n",
       "    .dataframe thead th {\n",
       "        text-align: right;\n",
       "    }\n",
       "</style>\n",
       "<table border=\"1\" class=\"dataframe\">\n",
       "  <thead>\n",
       "    <tr style=\"text-align: right;\">\n",
       "      <th></th>\n",
       "      <th>lat</th>\n",
       "      <th>lon</th>\n",
       "      <th>rainfall</th>\n",
       "    </tr>\n",
       "  </thead>\n",
       "  <tbody>\n",
       "    <tr>\n",
       "      <th>0</th>\n",
       "      <td>18.916176</td>\n",
       "      <td>-155.674994</td>\n",
       "      <td>8.317383</td>\n",
       "    </tr>\n",
       "    <tr>\n",
       "      <th>1</th>\n",
       "      <td>18.913680</td>\n",
       "      <td>-155.680550</td>\n",
       "      <td>9.069875</td>\n",
       "    </tr>\n",
       "    <tr>\n",
       "      <th>2</th>\n",
       "      <td>18.938669</td>\n",
       "      <td>-155.680549</td>\n",
       "      <td>10.037701</td>\n",
       "    </tr>\n",
       "    <tr>\n",
       "      <th>3</th>\n",
       "      <td>19.108660</td>\n",
       "      <td>-155.825545</td>\n",
       "      <td>10.591811</td>\n",
       "    </tr>\n",
       "    <tr>\n",
       "      <th>4</th>\n",
       "      <td>19.108890</td>\n",
       "      <td>-155.746670</td>\n",
       "      <td>10.130340</td>\n",
       "    </tr>\n",
       "    <tr>\n",
       "      <th>...</th>\n",
       "      <td>...</td>\n",
       "      <td>...</td>\n",
       "      <td>...</td>\n",
       "    </tr>\n",
       "    <tr>\n",
       "      <th>2219</th>\n",
       "      <td>22.202190</td>\n",
       "      <td>-159.347203</td>\n",
       "      <td>7.985933</td>\n",
       "    </tr>\n",
       "    <tr>\n",
       "      <th>2220</th>\n",
       "      <td>22.186077</td>\n",
       "      <td>-159.318870</td>\n",
       "      <td>10.662709</td>\n",
       "    </tr>\n",
       "    <tr>\n",
       "      <th>2221</th>\n",
       "      <td>22.182760</td>\n",
       "      <td>-159.332203</td>\n",
       "      <td>9.725834</td>\n",
       "    </tr>\n",
       "    <tr>\n",
       "      <th>2222</th>\n",
       "      <td>22.183333</td>\n",
       "      <td>-159.337500</td>\n",
       "      <td>9.765372</td>\n",
       "    </tr>\n",
       "    <tr>\n",
       "      <th>2223</th>\n",
       "      <td>22.174441</td>\n",
       "      <td>-159.336092</td>\n",
       "      <td>10.242795</td>\n",
       "    </tr>\n",
       "  </tbody>\n",
       "</table>\n",
       "<p>2215 rows × 3 columns</p>\n",
       "</div>"
      ],
      "text/plain": [
       "            lat         lon   rainfall\n",
       "0     18.916176 -155.674994   8.317383\n",
       "1     18.913680 -155.680550   9.069875\n",
       "2     18.938669 -155.680549  10.037701\n",
       "3     19.108660 -155.825545  10.591811\n",
       "4     19.108890 -155.746670  10.130340\n",
       "...         ...         ...        ...\n",
       "2219  22.202190 -159.347203   7.985933\n",
       "2220  22.186077 -159.318870  10.662709\n",
       "2221  22.182760 -159.332203   9.725834\n",
       "2222  22.183333 -159.337500   9.765372\n",
       "2223  22.174441 -159.336092  10.242795\n",
       "\n",
       "[2215 rows x 3 columns]"
      ]
     },
     "execution_count": 188,
     "metadata": {},
     "output_type": "execute_result"
    }
   ],
   "source": [
    "xr_rainfall = df_test.set_index([\"lat\", \"lon\"]).to_xarray().to_array()"
   ]
  },
  {
   "cell_type": "code",
   "execution_count": 204,
   "metadata": {},
   "outputs": [
    {
     "data": {
      "text/plain": [
       "<matplotlib.collections.QuadMesh at 0x2b5ec7a92430>"
      ]
     },
     "execution_count": 204,
     "metadata": {},
     "output_type": "execute_result"
    },
    {
     "data": {
      "image/png": "[encoded data removed]",
      "text/plain": [
       "<Figure size 480x320 with 2 Axes>"
      ]
     },
     "metadata": {
      "needs_background": "light"
     },
     "output_type": "display_data"
    }
   ],
   "source": [
    "fig, ax = plt.subplots(1, dpi=80, subplot_kw={'projection': ccrs.PlateCarree()},)\n",
    "ax.coastlines(resolution='10m')\n",
    "xr_rainfall.plot(ax=ax)"
   ]
  },
  {
   "cell_type": "code",
   "execution_count": 170,
   "metadata": {},
   "outputs": [
    {
     "data": {
      "text/plain": [
       "xarray.core.dataarray.DataArray"
      ]
     },
     "execution_count": 170,
     "metadata": {},
     "output_type": "execute_result"
    }
   ],
   "source": [
    "type(xr_rainfall)"
   ]
  },
  {
   "cell_type": "code",
   "execution_count": 21,
   "metadata": {},
   "outputs": [
    {
     "ename": "ValueError",
     "evalue": "different number of dimensions on data and dims: 1 vs 2",
     "output_type": "error",
     "traceback": [
      "\u001b[0;31m---------------------------------------------------------------------------\u001b[0m",
      "\u001b[0;31mValueError\u001b[0m                                Traceback (most recent call last)",
      "\u001b[0;32m/tmp/ipykernel_165338/3591684131.py\u001b[0m in \u001b[0;36m<module>\u001b[0;34m\u001b[0m\n\u001b[1;32m      3\u001b[0m \u001b[0mrainfall\u001b[0m \u001b[0;34m=\u001b[0m \u001b[0mnp\u001b[0m\u001b[0;34m.\u001b[0m\u001b[0mrandom\u001b[0m\u001b[0;34m.\u001b[0m\u001b[0mnormal\u001b[0m\u001b[0;34m(\u001b[0m\u001b[0msize\u001b[0m\u001b[0;34m=\u001b[0m\u001b[0mdf_metadata\u001b[0m\u001b[0;34m.\u001b[0m\u001b[0mshape\u001b[0m\u001b[0;34m[\u001b[0m\u001b[0;36m0\u001b[0m\u001b[0;34m]\u001b[0m\u001b[0;34m)\u001b[0m\u001b[0;34m\u001b[0m\u001b[0;34m\u001b[0m\u001b[0m\n\u001b[1;32m      4\u001b[0m \u001b[0;34m\u001b[0m\u001b[0m\n\u001b[0;32m----> 5\u001b[0;31m xr.DataArray(\n\u001b[0m\u001b[1;32m      6\u001b[0m     \u001b[0mdata\u001b[0m\u001b[0;34m=\u001b[0m\u001b[0mrainfall\u001b[0m\u001b[0;34m,\u001b[0m\u001b[0;34m\u001b[0m\u001b[0;34m\u001b[0m\u001b[0m\n\u001b[1;32m      7\u001b[0m     \u001b[0mdims\u001b[0m\u001b[0;34m=\u001b[0m\u001b[0;34m[\u001b[0m\u001b[0;34m\"lat\"\u001b[0m\u001b[0;34m,\u001b[0m \u001b[0;34m\"lon\"\u001b[0m\u001b[0;34m]\u001b[0m\u001b[0;34m,\u001b[0m\u001b[0;34m\u001b[0m\u001b[0;34m\u001b[0m\u001b[0m\n",
      "\u001b[0;32m~/.conda/envs/climate/lib/python3.9/site-packages/xarray/core/dataarray.py\u001b[0m in \u001b[0;36m__init__\u001b[0;34m(self, data, coords, dims, name, attrs, indexes, fastpath)\u001b[0m\n\u001b[1;32m    404\u001b[0m             \u001b[0mdata\u001b[0m \u001b[0;34m=\u001b[0m \u001b[0m_check_data_shape\u001b[0m\u001b[0;34m(\u001b[0m\u001b[0mdata\u001b[0m\u001b[0;34m,\u001b[0m \u001b[0mcoords\u001b[0m\u001b[0;34m,\u001b[0m \u001b[0mdims\u001b[0m\u001b[0;34m)\u001b[0m\u001b[0;34m\u001b[0m\u001b[0;34m\u001b[0m\u001b[0m\n\u001b[1;32m    405\u001b[0m             \u001b[0mdata\u001b[0m \u001b[0;34m=\u001b[0m \u001b[0mas_compatible_data\u001b[0m\u001b[0;34m(\u001b[0m\u001b[0mdata\u001b[0m\u001b[0;34m)\u001b[0m\u001b[0;34m\u001b[0m\u001b[0;34m\u001b[0m\u001b[0m\n\u001b[0;32m--> 406\u001b[0;31m             \u001b[0mcoords\u001b[0m\u001b[0;34m,\u001b[0m \u001b[0mdims\u001b[0m \u001b[0;34m=\u001b[0m \u001b[0m_infer_coords_and_dims\u001b[0m\u001b[0;34m(\u001b[0m\u001b[0mdata\u001b[0m\u001b[0;34m.\u001b[0m\u001b[0mshape\u001b[0m\u001b[0;34m,\u001b[0m \u001b[0mcoords\u001b[0m\u001b[0;34m,\u001b[0m \u001b[0mdims\u001b[0m\u001b[0;34m)\u001b[0m\u001b[0;34m\u001b[0m\u001b[0;34m\u001b[0m\u001b[0m\n\u001b[0m\u001b[1;32m    407\u001b[0m             \u001b[0mvariable\u001b[0m \u001b[0;34m=\u001b[0m \u001b[0mVariable\u001b[0m\u001b[0;34m(\u001b[0m\u001b[0mdims\u001b[0m\u001b[0;34m,\u001b[0m \u001b[0mdata\u001b[0m\u001b[0;34m,\u001b[0m \u001b[0mattrs\u001b[0m\u001b[0;34m,\u001b[0m \u001b[0mfastpath\u001b[0m\u001b[0;34m=\u001b[0m\u001b[0;32mTrue\u001b[0m\u001b[0;34m)\u001b[0m\u001b[0;34m\u001b[0m\u001b[0;34m\u001b[0m\u001b[0m\n\u001b[1;32m    408\u001b[0m             indexes = dict(\n",
      "\u001b[0;32m~/.conda/envs/climate/lib/python3.9/site-packages/xarray/core/dataarray.py\u001b[0m in \u001b[0;36m_infer_coords_and_dims\u001b[0;34m(shape, coords, dims)\u001b[0m\n\u001b[1;32m    121\u001b[0m         \u001b[0mdims\u001b[0m \u001b[0;34m=\u001b[0m \u001b[0mtuple\u001b[0m\u001b[0;34m(\u001b[0m\u001b[0mdims\u001b[0m\u001b[0;34m)\u001b[0m\u001b[0;34m\u001b[0m\u001b[0;34m\u001b[0m\u001b[0m\n\u001b[1;32m    122\u001b[0m     \u001b[0;32melif\u001b[0m \u001b[0mlen\u001b[0m\u001b[0;34m(\u001b[0m\u001b[0mdims\u001b[0m\u001b[0;34m)\u001b[0m \u001b[0;34m!=\u001b[0m \u001b[0mlen\u001b[0m\u001b[0;34m(\u001b[0m\u001b[0mshape\u001b[0m\u001b[0;34m)\u001b[0m\u001b[0;34m:\u001b[0m\u001b[0;34m\u001b[0m\u001b[0;34m\u001b[0m\u001b[0m\n\u001b[0;32m--> 123\u001b[0;31m         raise ValueError(\n\u001b[0m\u001b[1;32m    124\u001b[0m             \u001b[0;34m\"different number of dimensions on data \"\u001b[0m\u001b[0;34m\u001b[0m\u001b[0;34m\u001b[0m\u001b[0m\n\u001b[1;32m    125\u001b[0m             \u001b[0;34mf\"and dims: {len(shape)} vs {len(dims)}\"\u001b[0m\u001b[0;34m\u001b[0m\u001b[0;34m\u001b[0m\u001b[0m\n",
      "\u001b[0;31mValueError\u001b[0m: different number of dimensions on data and dims: 1 vs 2"
     ]
    }
   ],
   "source": [
    "lat = df_metadata[\"Lat_DD\"]\n",
    "lon = df_metadata[\"Lon_DD\"]\n",
    "rainfall = np.random.normal(size=df_metadata.shape[0])\n",
    "\n",
    "xr.DataArray(\n",
    "    data=rainfall,\n",
    "    dims=[\"lat\", \"lon\"],\n",
    "    coords=dict(\n",
    "        lat=([\"x\", \"y\"], lat),\n",
    "        lon=([\"x\", \"y\"], lon)\n",
    "    )\n",
    ")"
   ]
  },
  {
   "cell_type": "code",
   "execution_count": null,
   "metadata": {},
   "outputs": [],
   "source": []
  },
  {
   "cell_type": "code",
   "execution_count": null,
   "metadata": {},
   "outputs": [],
   "source": []
  },
  {
   "cell_type": "code",
   "execution_count": null,
   "metadata": {},
   "outputs": [],
   "source": []
  },
  {
   "cell_type": "code",
   "execution_count": null,
   "metadata": {},
   "outputs": [],
   "source": []
  },
  {
   "cell_type": "code",
   "execution_count": 2,
   "metadata": {},
   "outputs": [
    {
     "ename": "NameError",
     "evalue": "name 'df_train' is not defined",
     "output_type": "error",
     "traceback": [
      "\u001b[0;31m---------------------------------------------------------------------------\u001b[0m",
      "\u001b[0;31mNameError\u001b[0m                                 Traceback (most recent call last)",
      "\u001b[0;32m/tmp/ipykernel_165338/1849988431.py\u001b[0m in \u001b[0;36m<module>\u001b[0;34m\u001b[0m\n\u001b[0;32m----> 1\u001b[0;31m \u001b[0mXtrain\u001b[0m \u001b[0;34m=\u001b[0m \u001b[0mnp\u001b[0m\u001b[0;34m.\u001b[0m\u001b[0marray\u001b[0m\u001b[0;34m(\u001b[0m\u001b[0mdf_train\u001b[0m\u001b[0;34m[\u001b[0m\u001b[0mBEST_MODEL_COLUMNS\u001b[0m\u001b[0;34m]\u001b[0m\u001b[0;34m.\u001b[0m\u001b[0mdrop\u001b[0m\u001b[0;34m(\u001b[0m\u001b[0mlabels\u001b[0m\u001b[0;34m=\u001b[0m\u001b[0;34m[\u001b[0m\u001b[0;34m\"data_in\"\u001b[0m\u001b[0;34m]\u001b[0m\u001b[0;34m,\u001b[0m \u001b[0maxis\u001b[0m\u001b[0;34m=\u001b[0m\u001b[0;36m1\u001b[0m\u001b[0;34m)\u001b[0m\u001b[0;34m)\u001b[0m\u001b[0;34m\u001b[0m\u001b[0;34m\u001b[0m\u001b[0m\n\u001b[0m\u001b[1;32m      2\u001b[0m \u001b[0mYtrain\u001b[0m \u001b[0;34m=\u001b[0m \u001b[0mnp\u001b[0m\u001b[0;34m.\u001b[0m\u001b[0marray\u001b[0m\u001b[0;34m(\u001b[0m\u001b[0mdf_train\u001b[0m\u001b[0;34m[\u001b[0m\u001b[0;34m\"data_in\"\u001b[0m\u001b[0;34m]\u001b[0m\u001b[0;34m)\u001b[0m\u001b[0;34m\u001b[0m\u001b[0;34m\u001b[0m\u001b[0m\n\u001b[1;32m      3\u001b[0m \u001b[0;34m\u001b[0m\u001b[0m\n\u001b[1;32m      4\u001b[0m \u001b[0mXvalid\u001b[0m \u001b[0;34m=\u001b[0m \u001b[0mnp\u001b[0m\u001b[0;34m.\u001b[0m\u001b[0marray\u001b[0m\u001b[0;34m(\u001b[0m\u001b[0mdf_valid\u001b[0m\u001b[0;34m[\u001b[0m\u001b[0mBEST_MODEL_COLUMNS\u001b[0m\u001b[0;34m]\u001b[0m\u001b[0;34m.\u001b[0m\u001b[0mdrop\u001b[0m\u001b[0;34m(\u001b[0m\u001b[0mlabels\u001b[0m\u001b[0;34m=\u001b[0m\u001b[0;34m[\u001b[0m\u001b[0;34m\"data_in\"\u001b[0m\u001b[0;34m]\u001b[0m\u001b[0;34m,\u001b[0m \u001b[0maxis\u001b[0m\u001b[0;34m=\u001b[0m\u001b[0;36m1\u001b[0m\u001b[0;34m)\u001b[0m\u001b[0;34m)\u001b[0m\u001b[0;34m\u001b[0m\u001b[0;34m\u001b[0m\u001b[0m\n\u001b[1;32m      5\u001b[0m \u001b[0mYvalid\u001b[0m \u001b[0;34m=\u001b[0m \u001b[0mnp\u001b[0m\u001b[0;34m.\u001b[0m\u001b[0marray\u001b[0m\u001b[0;34m(\u001b[0m\u001b[0mdf_valid\u001b[0m\u001b[0;34m[\u001b[0m\u001b[0;34m\"data_in\"\u001b[0m\u001b[0;34m]\u001b[0m\u001b[0;34m)\u001b[0m\u001b[0;34m\u001b[0m\u001b[0;34m\u001b[0m\u001b[0m\n",
      "\u001b[0;31mNameError\u001b[0m: name 'df_train' is not defined"
     ]
    }
   ],
   "source": [
    "Xtrain = np.array(df_train[BEST_MODEL_COLUMNS].drop(labels=[\"data_in\"], axis=1))\n",
    "Ytrain = np.array(df_train[\"data_in\"])\n",
    "\n",
    "Xvalid = np.array(df_valid[BEST_MODEL_COLUMNS].drop(labels=[\"data_in\"], axis=1))\n",
    "Yvalid = np.array(df_valid[\"data_in\"])\n",
    "\n",
    "Xtest = np.array(df_test[BEST_MODEL_COLUMNS].drop(labels=[\"data_in\"], axis=1))\n",
    "Ytest = np.array(df_test[\"data_in\"])"
   ]
  },
  {
   "cell_type": "code",
   "execution_count": 8,
   "metadata": {},
   "outputs": [
    {
     "name": "stdout",
     "output_type": "stream",
     "text": [
      "MSE on xgboost (test) : 15.80659\n",
      "MSE on xgboost (train): 4.65344\n"
     ]
    }
   ],
   "source": [
    "# hyperparameters obtained by fine tuning\n",
    "xgboost = XGBRegressor(\n",
    "    n_estimators=170,\n",
    "    learning_rate=0.1,\n",
    "    max_depth=9,\n",
    "    verbosity=0\n",
    ")\n",
    "\n",
    "xgboost.fit(Xtrain, Ytrain)\n",
    "print(\"MSE on xgboost (test) : {:.5f}\".format(mean_squared_error(Ytest, xgboost.predict(Xtest))))\n",
    "print(\"MSE on xgboost (train): {:.5f}\".format(mean_squared_error(Ytrain, xgboost.predict(Xtrain))))"
   ]
  },
  {
   "cell_type": "code",
   "execution_count": 9,
   "metadata": {},
   "outputs": [],
   "source": [
    "df_metadata = pd.read_excel(f\"{BASE_DIR}/FilledDataset2012.xlsx\", sheet_name=\"Header\")"
   ]
  },
  {
   "cell_type": "code",
   "execution_count": 12,
   "metadata": {},
   "outputs": [
    {
     "data": {
      "text/html": [
       "<div>\n",
       "<style scoped>\n",
       "    .dataframe tbody tr th:only-of-type {\n",
       "        vertical-align: middle;\n",
       "    }\n",
       "\n",
       "    .dataframe tbody tr th {\n",
       "        vertical-align: top;\n",
       "    }\n",
       "\n",
       "    .dataframe thead th {\n",
       "        text-align: right;\n",
       "    }\n",
       "</style>\n",
       "<table border=\"1\" class=\"dataframe\">\n",
       "  <thead>\n",
       "    <tr style=\"text-align: right;\">\n",
       "      <th></th>\n",
       "      <th>SKN</th>\n",
       "      <th>Name</th>\n",
       "      <th>Lat_DD</th>\n",
       "      <th>Lon_DD</th>\n",
       "      <th>ElevFT</th>\n",
       "      <th>Observer</th>\n",
       "      <th>Status2010</th>\n",
       "      <th>NumMos</th>\n",
       "      <th>MinYear</th>\n",
       "      <th>MaxYear</th>\n",
       "    </tr>\n",
       "  </thead>\n",
       "  <tbody>\n",
       "    <tr>\n",
       "      <th>0</th>\n",
       "      <td>1.0</td>\n",
       "      <td>KALAE</td>\n",
       "      <td>18.916176</td>\n",
       "      <td>-155.674994</td>\n",
       "      <td>35.000000</td>\n",
       "      <td>USCG</td>\n",
       "      <td>Discontinued</td>\n",
       "      <td>277</td>\n",
       "      <td>1924</td>\n",
       "      <td>1949</td>\n",
       "    </tr>\n",
       "    <tr>\n",
       "      <th>1</th>\n",
       "      <td>1.1</td>\n",
       "      <td>MORSE FIELD</td>\n",
       "      <td>18.913680</td>\n",
       "      <td>-155.680550</td>\n",
       "      <td>40.000000</td>\n",
       "      <td>US AIR FORCE</td>\n",
       "      <td>Discontinued</td>\n",
       "      <td>33</td>\n",
       "      <td>1939</td>\n",
       "      <td>1941</td>\n",
       "    </tr>\n",
       "    <tr>\n",
       "      <th>2</th>\n",
       "      <td>1.2</td>\n",
       "      <td>KALAE S TRK STA</td>\n",
       "      <td>18.938669</td>\n",
       "      <td>-155.680549</td>\n",
       "      <td>305.000000</td>\n",
       "      <td>SPACE TECH LAB</td>\n",
       "      <td>Discontinued</td>\n",
       "      <td>55</td>\n",
       "      <td>1965</td>\n",
       "      <td>1969</td>\n",
       "    </tr>\n",
       "    <tr>\n",
       "      <th>3</th>\n",
       "      <td>2.0</td>\n",
       "      <td>MANUKA</td>\n",
       "      <td>19.108660</td>\n",
       "      <td>-155.825545</td>\n",
       "      <td>1750.000000</td>\n",
       "      <td>STATE DIV OF FTRY</td>\n",
       "      <td>Current</td>\n",
       "      <td>514</td>\n",
       "      <td>1952</td>\n",
       "      <td>2013</td>\n",
       "    </tr>\n",
       "    <tr>\n",
       "      <th>4</th>\n",
       "      <td>2.1</td>\n",
       "      <td>KAHUKU MAUKA 2.10</td>\n",
       "      <td>19.108890</td>\n",
       "      <td>-155.746670</td>\n",
       "      <td>3150.784336</td>\n",
       "      <td>NCDC_Daily</td>\n",
       "      <td>Discontinued</td>\n",
       "      <td>32</td>\n",
       "      <td>2007</td>\n",
       "      <td>2009</td>\n",
       "    </tr>\n",
       "    <tr>\n",
       "      <th>...</th>\n",
       "      <td>...</td>\n",
       "      <td>...</td>\n",
       "      <td>...</td>\n",
       "      <td>...</td>\n",
       "      <td>...</td>\n",
       "      <td>...</td>\n",
       "      <td>...</td>\n",
       "      <td>...</td>\n",
       "      <td>...</td>\n",
       "      <td>...</td>\n",
       "    </tr>\n",
       "    <tr>\n",
       "      <th>2219</th>\n",
       "      <td>1143.0</td>\n",
       "      <td>FIELD 30</td>\n",
       "      <td>22.202190</td>\n",
       "      <td>-159.347203</td>\n",
       "      <td>230.000000</td>\n",
       "      <td>KILAUEA SUGAR</td>\n",
       "      <td>Discontinued</td>\n",
       "      <td>392</td>\n",
       "      <td>1937</td>\n",
       "      <td>1970</td>\n",
       "    </tr>\n",
       "    <tr>\n",
       "      <th>2220</th>\n",
       "      <td>1144.0</td>\n",
       "      <td>FIELD 7-A</td>\n",
       "      <td>22.186077</td>\n",
       "      <td>-159.318870</td>\n",
       "      <td>200.000000</td>\n",
       "      <td>LIHUE PLANTATION</td>\n",
       "      <td>Discontinued</td>\n",
       "      <td>292</td>\n",
       "      <td>1936</td>\n",
       "      <td>1968</td>\n",
       "    </tr>\n",
       "    <tr>\n",
       "      <th>2221</th>\n",
       "      <td>1145.0</td>\n",
       "      <td>PUU AUAU</td>\n",
       "      <td>22.182760</td>\n",
       "      <td>-159.332203</td>\n",
       "      <td>330.000000</td>\n",
       "      <td>LIHUE PLANTATION</td>\n",
       "      <td>Current</td>\n",
       "      <td>838</td>\n",
       "      <td>1926</td>\n",
       "      <td>2013</td>\n",
       "    </tr>\n",
       "    <tr>\n",
       "      <th>2222</th>\n",
       "      <td>1146.0</td>\n",
       "      <td>Moloaa Dairy</td>\n",
       "      <td>22.183333</td>\n",
       "      <td>-159.337500</td>\n",
       "      <td>280.000000</td>\n",
       "      <td>RAWS</td>\n",
       "      <td>Current</td>\n",
       "      <td>95</td>\n",
       "      <td>2002</td>\n",
       "      <td>2012</td>\n",
       "    </tr>\n",
       "    <tr>\n",
       "      <th>2223</th>\n",
       "      <td>1147.0</td>\n",
       "      <td>FLD 960-MOLOAA</td>\n",
       "      <td>22.174441</td>\n",
       "      <td>-159.336092</td>\n",
       "      <td>260.000000</td>\n",
       "      <td>LIHUE PLANTATION</td>\n",
       "      <td>Discontinued</td>\n",
       "      <td>60</td>\n",
       "      <td>1963</td>\n",
       "      <td>1974</td>\n",
       "    </tr>\n",
       "  </tbody>\n",
       "</table>\n",
       "<p>2224 rows × 10 columns</p>\n",
       "</div>"
      ],
      "text/plain": [
       "         SKN               Name     Lat_DD      Lon_DD       ElevFT  \\\n",
       "0        1.0              KALAE  18.916176 -155.674994    35.000000   \n",
       "1        1.1        MORSE FIELD  18.913680 -155.680550    40.000000   \n",
       "2        1.2    KALAE S TRK STA  18.938669 -155.680549   305.000000   \n",
       "3        2.0             MANUKA  19.108660 -155.825545  1750.000000   \n",
       "4        2.1  KAHUKU MAUKA 2.10  19.108890 -155.746670  3150.784336   \n",
       "...      ...                ...        ...         ...          ...   \n",
       "2219  1143.0           FIELD 30  22.202190 -159.347203   230.000000   \n",
       "2220  1144.0          FIELD 7-A  22.186077 -159.318870   200.000000   \n",
       "2221  1145.0           PUU AUAU  22.182760 -159.332203   330.000000   \n",
       "2222  1146.0       Moloaa Dairy  22.183333 -159.337500   280.000000   \n",
       "2223  1147.0     FLD 960-MOLOAA  22.174441 -159.336092   260.000000   \n",
       "\n",
       "               Observer    Status2010  NumMos  MinYear  MaxYear  \n",
       "0                  USCG  Discontinued     277     1924     1949  \n",
       "1          US AIR FORCE  Discontinued      33     1939     1941  \n",
       "2        SPACE TECH LAB  Discontinued      55     1965     1969  \n",
       "3     STATE DIV OF FTRY       Current     514     1952     2013  \n",
       "4            NCDC_Daily  Discontinued      32     2007     2009  \n",
       "...                 ...           ...     ...      ...      ...  \n",
       "2219      KILAUEA SUGAR  Discontinued     392     1937     1970  \n",
       "2220   LIHUE PLANTATION  Discontinued     292     1936     1968  \n",
       "2221   LIHUE PLANTATION       Current     838     1926     2013  \n",
       "2222               RAWS       Current      95     2002     2012  \n",
       "2223   LIHUE PLANTATION  Discontinued      60     1963     1974  \n",
       "\n",
       "[2224 rows x 10 columns]"
      ]
     },
     "execution_count": 12,
     "metadata": {},
     "output_type": "execute_result"
    }
   ],
   "source": [
    "df_metadata"
   ]
  },
  {
   "cell_type": "code",
   "execution_count": 13,
   "metadata": {},
   "outputs": [
    {
     "data": {
      "text/html": [
       "<div>\n",
       "<style scoped>\n",
       "    .dataframe tbody tr th:only-of-type {\n",
       "        vertical-align: middle;\n",
       "    }\n",
       "\n",
       "    .dataframe tbody tr th {\n",
       "        vertical-align: top;\n",
       "    }\n",
       "\n",
       "    .dataframe thead th {\n",
       "        text-align: right;\n",
       "    }\n",
       "</style>\n",
       "<table border=\"1\" class=\"dataframe\">\n",
       "  <thead>\n",
       "    <tr style=\"text-align: right;\">\n",
       "      <th></th>\n",
       "      <th>ElevFT</th>\n",
       "      <th>Lat_DD</th>\n",
       "      <th>Lon_DD</th>\n",
       "    </tr>\n",
       "  </thead>\n",
       "  <tbody>\n",
       "    <tr>\n",
       "      <th>0</th>\n",
       "      <td>35.000000</td>\n",
       "      <td>18.916176</td>\n",
       "      <td>-155.674994</td>\n",
       "    </tr>\n",
       "    <tr>\n",
       "      <th>1</th>\n",
       "      <td>40.000000</td>\n",
       "      <td>18.913680</td>\n",
       "      <td>-155.680550</td>\n",
       "    </tr>\n",
       "    <tr>\n",
       "      <th>2</th>\n",
       "      <td>305.000000</td>\n",
       "      <td>18.938669</td>\n",
       "      <td>-155.680549</td>\n",
       "    </tr>\n",
       "    <tr>\n",
       "      <th>3</th>\n",
       "      <td>1750.000000</td>\n",
       "      <td>19.108660</td>\n",
       "      <td>-155.825545</td>\n",
       "    </tr>\n",
       "    <tr>\n",
       "      <th>4</th>\n",
       "      <td>3150.784336</td>\n",
       "      <td>19.108890</td>\n",
       "      <td>-155.746670</td>\n",
       "    </tr>\n",
       "    <tr>\n",
       "      <th>...</th>\n",
       "      <td>...</td>\n",
       "      <td>...</td>\n",
       "      <td>...</td>\n",
       "    </tr>\n",
       "    <tr>\n",
       "      <th>2219</th>\n",
       "      <td>230.000000</td>\n",
       "      <td>22.202190</td>\n",
       "      <td>-159.347203</td>\n",
       "    </tr>\n",
       "    <tr>\n",
       "      <th>2220</th>\n",
       "      <td>200.000000</td>\n",
       "      <td>22.186077</td>\n",
       "      <td>-159.318870</td>\n",
       "    </tr>\n",
       "    <tr>\n",
       "      <th>2221</th>\n",
       "      <td>330.000000</td>\n",
       "      <td>22.182760</td>\n",
       "      <td>-159.332203</td>\n",
       "    </tr>\n",
       "    <tr>\n",
       "      <th>2222</th>\n",
       "      <td>280.000000</td>\n",
       "      <td>22.183333</td>\n",
       "      <td>-159.337500</td>\n",
       "    </tr>\n",
       "    <tr>\n",
       "      <th>2223</th>\n",
       "      <td>260.000000</td>\n",
       "      <td>22.174441</td>\n",
       "      <td>-159.336092</td>\n",
       "    </tr>\n",
       "  </tbody>\n",
       "</table>\n",
       "<p>2224 rows × 3 columns</p>\n",
       "</div>"
      ],
      "text/plain": [
       "           ElevFT     Lat_DD      Lon_DD\n",
       "0       35.000000  18.916176 -155.674994\n",
       "1       40.000000  18.913680 -155.680550\n",
       "2      305.000000  18.938669 -155.680549\n",
       "3     1750.000000  19.108660 -155.825545\n",
       "4     3150.784336  19.108890 -155.746670\n",
       "...           ...        ...         ...\n",
       "2219   230.000000  22.202190 -159.347203\n",
       "2220   200.000000  22.186077 -159.318870\n",
       "2221   330.000000  22.182760 -159.332203\n",
       "2222   280.000000  22.183333 -159.337500\n",
       "2223   260.000000  22.174441 -159.336092\n",
       "\n",
       "[2224 rows x 3 columns]"
      ]
     },
     "execution_count": 13,
     "metadata": {},
     "output_type": "execute_result"
    }
   ],
   "source": [
    "df_metadata[[\"ElevFT\", \"Lat_DD\", \"Lon_DD\"]]"
   ]
  },
  {
   "cell_type": "code",
   "execution_count": 18,
   "metadata": {},
   "outputs": [
    {
     "data": {
      "text/plain": [
       "<matplotlib.collections.PathCollection at 0x2b9568274b20>"
      ]
     },
     "execution_count": 18,
     "metadata": {},
     "output_type": "execute_result"
    },
    {
     "data": {
      "image/png": "[encoded data removed]",
      "text/plain": [
       "<Figure size 432x288 with 1 Axes>"
      ]
     },
     "metadata": {
      "needs_background": "light"
     },
     "output_type": "display_data"
    }
   ],
   "source": [
    "fig, ax = plt.subplots()\n",
    "ax.scatter(x=df_metadata['Lat_DD'], y=df_metadata[\"Lon_DD\"])\n",
    "# ax.set_aspect(\"equal\")"
   ]
  },
  {
   "cell_type": "code",
   "execution_count": null,
   "metadata": {},
   "outputs": [],
   "source": [
    "# make sure the purity of dataset: data split has to be based on month\n",
    "# hyperparameter tuning on all of the models\n",
    "\n",
    "# To make comparison to Kristene's model, Randomly choose months to make prediction on, \n",
    "# train multi-linear regression and random forest and report the result"
   ]
  }
 ],
 "metadata": {
  "kernelspec": {
   "display_name": "climate",
   "language": "python",
   "name": "climate"
  },
  "language_info": {
   "codemirror_mode": {
    "name": "ipython",
    "version": 3
   },
   "file_extension": ".py",
   "mimetype": "text/x-python",
   "name": "python",
   "nbconvert_exporter": "python",
   "pygments_lexer": "ipython3",
   "version": "3.9.7"
  }
 },
 "nbformat": 4,
 "nbformat_minor": 4
}

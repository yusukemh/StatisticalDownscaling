{
 "cells": [
  {
   "cell_type": "code",
   "execution_count": 2,
   "metadata": {},
   "outputs": [],
   "source": [
    "# basic libraries\n",
    "import numpy as np\n",
    "import pandas as pd\n",
    "import matplotlib.pyplot as plt\n",
    "\n",
    "# sklearn\n",
    "from sklearn.linear_model import LinearRegression\n",
    "from sklearn.model_selection import train_test_split, KFold, cross_val_predict, GridSearchCV\n",
    "from sklearn.metrics import mean_squared_error\n",
    "from sklearn.preprocessing import MinMaxScaler, OneHotEncoder, StandardScaler\n",
    "from sklearn.ensemble import GradientBoostingRegressor, RandomForestRegressor\n",
    "from sklearn.svm import SVR\n",
    "from sklearn.cluster import KMeans\n",
    "\n",
    "#others\n",
    "from xgboost import XGBRegressor\n",
    "import cartopy.crs as ccrs\n",
    "import cartopy.mpl.ticker as cticker\n",
    "import time\n",
    "import xarray as xr\n",
    "import sherpa\n",
    "\n",
    "# Variables from config file\n",
    "from config import BASE_DIR, FILE_NAMES, LABELS, ATTRIBUTES\n"
   ]
  },
  {
   "cell_type": "markdown",
   "metadata": {},
   "source": [
    "# Explore:\n",
    "<list>\n",
    "    <li>Inclusion of altitude information</li>\n",
    "    <li>Inclusion of seasonality indicator (dry/wet)</li>\n",
    "    <li>Linear interpolation</li>\n",
    "    <li>Use 6 reanalysis observations</li>\n",
    "</list>"
   ]
  },
  {
   "cell_type": "markdown",
   "metadata": {},
   "source": [
    "# Q1. Does the inclusion of altitude information help the models perform better?"
   ]
  },
  {
   "cell_type": "code",
   "execution_count": 3,
   "metadata": {},
   "outputs": [
    {
     "name": "stdout",
     "output_type": "stream",
     "text": [
      "There are 865561 samples.\n",
      "Each sample is associated with lat and lon coordinates.\n",
      "Use only the closest observation to represent each field, from 16 different NetCDF files.\n"
     ]
    }
   ],
   "source": [
    "# Load the dataset\n",
    "df_metadata = pd.read_excel(f\"{BASE_DIR}/FilledDataset2012.xlsx\", sheet_name=\"Header\")\n",
    "df_data_original = pd.read_csv(f\"{BASE_DIR}/dataset.csv\")\n",
    "\n",
    "# make sure there is no NaN value\n",
    "assert df_data_original.isnull().values.any() == False\n",
    "print(f\"There are {df_data_original.shape[0]} samples.\")\n",
    "print(\n",
    "    \"Each sample is associated with lat and lon coordinates.\\n\" + \n",
    "    \"Use only the closest observation to represent each field, from 16 different NetCDF files.\", )"
   ]
  },
  {
   "cell_type": "code",
   "execution_count": 4,
   "metadata": {},
   "outputs": [],
   "source": [
    "df_combined = df_data_original.merge(right=df_metadata[[\"SKN\", \"ElevFT\"]], left_on=\"skn\", right_on=\"SKN\")\n",
    "df_clean = (\n",
    "    df_combined.drop(\n",
    "        labels=[\"lat\", \"lon\", \"year\", \"month\", \"SKN\", \"skn\", \"Lon_DD_updated\"],\n",
    "        axis=1\n",
    "    ).rename(\n",
    "        columns={\"Lat_DD\": \"lat\", \"Lon_DD\": \"lon\", \"ElevFT\": \"elev\"}\n",
    "    )\n",
    ")"
   ]
  },
  {
   "cell_type": "code",
   "execution_count": 5,
   "metadata": {},
   "outputs": [],
   "source": [
    "# split the dataset without \"elev\"\n",
    "X = np.array(df_clean.drop(labels=[\"data_in\", \"elev\"], axis=1))\n",
    "Y = np.array(df_clean[\"data_in\"])\n",
    "\n",
    "Xtemp, Xtest, Ytemp, Ytest = train_test_split(X, Y, test_size=0.2, random_state=42)\n",
    "Xtrain, Xvalid, Ytrain, Yvalid = train_test_split(Xtemp, Ytemp, test_size=0.25, random_state=42)"
   ]
  },
  {
   "cell_type": "code",
   "execution_count": 8,
   "metadata": {},
   "outputs": [],
   "source": [
    "mse_default = []\n",
    "for i in range(100):\n",
    "    X = np.array(df_clean.drop(labels=[\"data_in\", \"elev\"], axis=1))\n",
    "    Y = np.array(df_clean[\"data_in\"])\n",
    "    Xtrain, Xtest, Ytrain, Ytest = train_test_split(X, Y, test_size=0.2)\n",
    "    linear_regression = LinearRegression()\n",
    "    linear_regression.fit(Xtrain, Ytrain)\n",
    "    mse = mean_squared_error(Ytest, linear_regression.predict(Xtest))\n",
    "    mse_default.append(mse)\n",
    "    # print(\"MSE: {:.3f}\".format(mean_squared_error(Ytest, linear_regression.predict(Xtest))))"
   ]
  },
  {
   "cell_type": "code",
   "execution_count": 9,
   "metadata": {},
   "outputs": [],
   "source": [
    "mse_w_elev = []\n",
    "for i in range(100):\n",
    "    X = np.array(df_clean.drop(labels=[\"data_in\"], axis=1))\n",
    "    Y = np.array(df_clean[\"data_in\"])\n",
    "    Xtrain, Xtest, Ytrain, Ytest = train_test_split(X, Y, test_size=0.2)\n",
    "    linear_regression = LinearRegression()\n",
    "    linear_regression.fit(Xtrain, Ytrain)\n",
    "    mse = mean_squared_error(Ytest, linear_regression.predict(Xtest))\n",
    "    mse_w_elev.append(mse)\n",
    "    # print(\"MSE: {:.3f}\".format(mean_squared_error(Ytest, linear_regression.predict(Xtest))))"
   ]
  },
  {
   "cell_type": "code",
   "execution_count": 11,
   "metadata": {},
   "outputs": [
    {
     "data": {
      "text/plain": [
       "(32.68191211413612, 32.49858541729416, 0.4200438533978725, 0.3920811096025575)"
      ]
     },
     "execution_count": 11,
     "metadata": {},
     "output_type": "execute_result"
    }
   ],
   "source": [
    "np.mean(mse_default), np.mean(mse_w_elev), np.std(mse_default), np.std(mse_w_elev)"
   ]
  },
  {
   "cell_type": "code",
   "execution_count": 18,
   "metadata": {},
   "outputs": [
    {
     "name": "stdout",
     "output_type": "stream",
     "text": [
      "\n"
     ]
    },
    {
     "data": {
      "image/png": "[encoded data removed]",
      "text/plain": [
       "<Figure size 432x288 with 1 Axes>"
      ]
     },
     "metadata": {
      "needs_background": "light"
     },
     "output_type": "display_data"
    }
   ],
   "source": [
    "fig, ax = plt.subplots()\n",
    "ax.bar(\n",
    "    x=np.arange(2),\n",
    "    height=[np.mean(mse_default), np.mean(mse_w_elev)],\n",
    "    yerr=[np.std(mse_default), np.std(mse_w_elev)],\n",
    "    width=0.4,\n",
    ")\n",
    "ax.set_xticks(np.arange(2))\n",
    "ax.set_xticklabels([\"w/ elev\", \"w/out elev\"])\n",
    "ax.set_ylabel(\"MSE\")\n",
    "print()"
   ]
  },
  {
   "cell_type": "markdown",
   "metadata": {},
   "source": [
    "## Q1.2 Random Forest"
   ]
  },
  {
   "cell_type": "code",
   "execution_count": 23,
   "metadata": {},
   "outputs": [],
   "source": [
    "# 6/2/2 split\n",
    "X = np.array(df_clean.drop(labels=[\"data_in\"], axis=1))\n",
    "Y = np.array(df_clean[\"data_in\"])\n",
    "Xtemp, Xtest, Ytemp, Ytest = train_test_split(X, Y, test_size=0.2, random_state=42)\n",
    "Xtrain, Xvalid, Ytrain, Yvalid = train_test_split(Xtemp, Ytemp, test_size=0.25, random_state=42)"
   ]
  },
  {
   "cell_type": "code",
   "execution_count": 25,
   "metadata": {},
   "outputs": [
    {
     "name": "stderr",
     "output_type": "stream",
     "text": [
      "[Parallel(n_jobs=-1)]: Using backend ThreadingBackend with 8 concurrent workers.\n",
      "[Parallel(n_jobs=-1)]: Done  34 tasks      | elapsed:   32.8s\n",
      "[Parallel(n_jobs=-1)]: Done 100 out of 100 | elapsed:  1.4min finished\n",
      "[Parallel(n_jobs=8)]: Using backend ThreadingBackend with 8 concurrent workers.\n",
      "[Parallel(n_jobs=8)]: Done  34 tasks      | elapsed:    1.0s\n",
      "[Parallel(n_jobs=8)]: Done 100 out of 100 | elapsed:    2.5s finished\n"
     ]
    },
    {
     "data": {
      "text/plain": [
       "6.917907535860025"
      ]
     },
     "execution_count": 25,
     "metadata": {},
     "output_type": "execute_result"
    }
   ],
   "source": [
    "random_forest = RandomForestRegressor(n_jobs=-1, verbose=True)\n",
    "random_forest.fit(Xtrain, Ytrain)\n",
    "# mean_squared_error(Yvalid, random_forest.predict(Xvalid))"
   ]
  },
  {
   "cell_type": "code",
   "execution_count": 26,
   "metadata": {},
   "outputs": [
    {
     "name": "stderr",
     "output_type": "stream",
     "text": [
      "[Parallel(n_jobs=8)]: Using backend ThreadingBackend with 8 concurrent workers.\n",
      "[Parallel(n_jobs=8)]: Done  34 tasks      | elapsed:    0.8s\n"
     ]
    },
    {
     "name": "stdout",
     "output_type": "stream",
     "text": [
      "The default performance (MSE) is 6.918\n"
     ]
    },
    {
     "name": "stderr",
     "output_type": "stream",
     "text": [
      "[Parallel(n_jobs=8)]: Done 100 out of 100 | elapsed:    2.3s finished\n"
     ]
    }
   ],
   "source": [
    "print(\"The default performance (MSE) is {:.3f}\".format(mean_squared_error(Yvalid, random_forest.predict(Xvalid))))"
   ]
  },
  {
   "cell_type": "code",
   "execution_count": 32,
   "metadata": {},
   "outputs": [
    {
     "name": "stderr",
     "output_type": "stream",
     "text": [
      "[Parallel(n_jobs=-1)]: Using backend ThreadingBackend with 8 concurrent workers.\n",
      "[Parallel(n_jobs=-1)]: Done  34 tasks      | elapsed:   34.6s\n",
      "[Parallel(n_jobs=-1)]: Done 184 tasks      | elapsed:  2.7min\n",
      "[Parallel(n_jobs=-1)]: Done 200 out of 200 | elapsed:  3.0min finished\n",
      "[Parallel(n_jobs=8)]: Using backend ThreadingBackend with 8 concurrent workers.\n",
      "[Parallel(n_jobs=8)]: Done  34 tasks      | elapsed:    0.9s\n",
      "[Parallel(n_jobs=8)]: Done 184 tasks      | elapsed:    4.3s\n"
     ]
    },
    {
     "name": "stdout",
     "output_type": "stream",
     "text": [
      "MSE on validation set is 6.827\n"
     ]
    },
    {
     "name": "stderr",
     "output_type": "stream",
     "text": [
      "[Parallel(n_jobs=8)]: Done 200 out of 200 | elapsed:    4.6s finished\n"
     ]
    }
   ],
   "source": [
    "params = {\n",
    "    \"n_estimators\": 200, #(150, 200)\n",
    "    \"max_depth\": None, #(None)\n",
    "    \"min_samples_split\": 2,\n",
    "    \"min_samples_leaf\": 1,\n",
    "    \"n_jobs\": -1,\n",
    "    \"verbose\" : True\n",
    "}\n",
    "\n",
    "random_forest = RandomForestRegressor(**params)\n",
    "random_forest.fit(Xtrain, Ytrain)\n",
    "print(\"MSE on validation set is {:.3f}\".format(mean_squared_error(Yvalid, random_forest.predict(Xvalid))))"
   ]
  },
  {
   "cell_type": "markdown",
   "metadata": {},
   "source": [
    "## Q1.3 XGBoost"
   ]
  },
  {
   "cell_type": "code",
   "execution_count": 34,
   "metadata": {},
   "outputs": [
    {
     "name": "stdout",
     "output_type": "stream",
     "text": [
      "      Iter       Train Loss      OOB Improve   Remaining Time \n",
      "         1          31.5867           9.2261            9.35m\n",
      "         2          27.5960           3.6942            8.98m\n",
      "         3          24.6420           3.3282            8.84m\n",
      "         4          23.4939           1.0139            8.90m\n",
      "         5          22.6736           0.7018            9.00m\n",
      "         6          22.5010           0.2989            9.01m\n",
      "         7          20.6494           1.7806            8.86m\n",
      "         8          20.1566           0.4448            8.77m\n",
      "         9          19.7160           0.3999            8.74m\n",
      "        10          19.6485           0.2163            8.66m\n",
      "        20          17.2068           0.0843            8.00m\n",
      "        30          15.6877           0.0643            7.62m\n",
      "        40          14.6201           0.0532            7.34m\n",
      "        50          13.6686           0.0469            7.00m\n",
      "        60          13.2185           0.0143            6.71m\n",
      "        70          12.8723           0.0281            6.41m\n",
      "        80          12.3521           0.0388            6.11m\n",
      "        90          12.0415           0.0091            5.83m\n",
      "       100          11.6907          -0.0107            5.54m\n",
      "       200           9.7966          -0.0208            2.76m\n",
      "       300           8.7760           0.0058            0.00s\n"
     ]
    },
    {
     "data": {
      "text/plain": [
       "GradientBoostingRegressor(learning_rate=1, max_depth=4, n_estimators=300,\n",
       "                          subsample=0.8, verbose=True)"
      ]
     },
     "execution_count": 34,
     "metadata": {},
     "output_type": "execute_result"
    }
   ],
   "source": [
    "params = {\n",
    "    \"learning_rate\": 1, # [0.05, 1.0]\n",
    "    \"n_estimators\": 300,# [100, 300]\n",
    "    \"subsample\": 0.8,\n",
    "    \"max_depth\": 4, # [1, 4]\n",
    "    \"loss\": \"squared_error\",\n",
    "    \"verbose\": True\n",
    "}\n",
    "\n",
    "gradient_boost = GradientBoostingRegressor(**params)\n",
    "gradient_boost.fit(Xtrain, Ytrain)"
   ]
  },
  {
   "cell_type": "code",
   "execution_count": 36,
   "metadata": {},
   "outputs": [
    {
     "name": "stdout",
     "output_type": "stream",
     "text": [
      "MSE on validation set is 9.976\n"
     ]
    }
   ],
   "source": [
    "print(\"MSE on validation set is {:.3f}\".format(mean_squared_error(Yvalid, gradient_boost.predict(Xvalid))))"
   ]
  },
  {
   "cell_type": "markdown",
   "metadata": {},
   "source": [
    "# Q2. How does the performance change if we smooth out the observation of reanalysis data?\n",
    "We can smooth out the observation using linear interpolation. For this, 5x5 grid of observations around hawaii was used to make the resolution higher."
   ]
  },
  {
   "cell_type": "code",
   "execution_count": 51,
   "metadata": {
    "jupyter": {
     "source_hidden": true
    }
   },
   "outputs": [
    {
     "name": "stdout",
     "output_type": "stream",
     "text": [
      "\n"
     ]
    },
    {
     "data": {
      "image/png": "[encoded data removed]",
      "text/plain": [
       "<Figure size 1200x800 with 6 Axes>"
      ]
     },
     "metadata": {
      "needs_background": "light"
     },
     "output_type": "display_data"
    }
   ],
   "source": [
    "# load a sample dataset\n",
    "ds_air2m = xr.open_dataset(f\"{BASE_DIR}/air.2m.mon.mean.regridded.nc\")\n",
    "data_matrix = ds_air2m.loc[dict(time=\"1948-06-01\", lon=np.array(lon_hawaii) + 360, lat=lat_hawaii)][\"air\"]\n",
    "\n",
    "# apply linear interpolation\n",
    "data_matrix_interp_100 = data_matrix.interp(\n",
    "    lat=np.linspace(lat_hawaii[0],\n",
    "                    lat_hawaii[-1],\n",
    "                    100\n",
    "                   ),\n",
    "    lon=np.linspace(lon_hawaii[0],\n",
    "                    lon_hawaii[-1],\n",
    "                    100\n",
    "    ) + 360,\n",
    "    method=\"linear\"\n",
    ")\n",
    "\n",
    "data_matrix_interp_50 = data_matrix.interp(\n",
    "    lat=np.linspace(lat_hawaii[0],\n",
    "                    lat_hawaii[-1],\n",
    "                    50\n",
    "                   ),\n",
    "    lon=np.linspace(lon_hawaii[0],\n",
    "                    lon_hawaii[-1],\n",
    "                    50\n",
    "    ) + 360,\n",
    "    method=\"cubic\"\n",
    ")\n",
    "\n",
    "fig, axs = plt.subplots(\n",
    "    2, 3, figsize=(15, 10), dpi=80,\n",
    "    subplot_kw={'projection': ccrs.PlateCarree()},\n",
    ")\n",
    "\n",
    "xmin, xmax = -162.5, -152.5\n",
    "ymin, ymax = 15, 25\n",
    "\n",
    "data_matrix.plot(ax=axs[0, 0], add_colorbar=False)\n",
    "data_matrix_interp_100.plot(ax=axs[0, 1], add_colorbar=False)\n",
    "data_matrix_interp_50.plot(ax=axs[0, 2], add_colorbar=False)\n",
    "\n",
    "for ax in axs.flatten():\n",
    "    ax.set_xticks(np.arange(xmin, xmax+1, 2.5))\n",
    "    ax.set_yticks(np.arange(ymin, ymax+1, 2.5))\n",
    "    ax.set_ylabel(\"\")\n",
    "\n",
    "    ax.set_xlim(xmin, xmax)\n",
    "    ax.set_ylim(ymin, ymax)\n",
    "    ax.coastlines(resolution='10m')\n",
    "    ax.grid(linewidth=2, color='black', linestyle='--')\n",
    "    ax.vlines(x=np.arange(xmin, xmax+1, 2.5) - 1.25, ymin=ymin, ymax=ymax, color=\"k\", linewidth=1, linestyle=\"--\", alpha=0.5)\n",
    "    ax.hlines(y=np.arange(ymin, ymax+1, 2.5) - 1.25 , xmin=xmin, xmax=xmax, color=\"k\", linewidth=1, linestyle=\"--\", alpha=0.5)\n",
    "    ax.set_xticklabels([])\n",
    "    ax.set_yticklabels([])\n",
    "    ax.set_xlabel(\"\")\n",
    "axs[0, 0].set_title(\"default\", fontsize=(15))\n",
    "axs[0, 1].set_title(\"linear 100x100\", fontsize=(15))\n",
    "axs[0, 2].set_title(\"linear 50x50\", fontsize=(15))\n",
    "\n",
    "\n",
    "# lower plots\n",
    "lat_hawaii = [15, 17.5, 20, 22.5, 25]\n",
    "lon_hawaii = [-162.5, -160, -157.5, -155, -152.5]\n",
    "xx, yy = np.meshgrid(lon_hawaii, lat_hawaii)\n",
    "\n",
    "xx_interp_50, yy_interp_50 = np.meshgrid(\n",
    "    np.linspace(lon_hawaii[0], lon_hawaii[-1], 50),\n",
    "    np.linspace(lat_hawaii[0], lat_hawaii[-1], 50)\n",
    ")\n",
    "\n",
    "xx_interp_100, yy_interp_100 = np.meshgrid(\n",
    "    np.linspace(lon_hawaii[0], lon_hawaii[-1], 100),\n",
    "    np.linspace(lat_hawaii[0], lat_hawaii[-1], 100)\n",
    ")\n",
    "\n",
    "interpolation = axs[1, 1].scatter(xx_interp_100, yy_interp_100, s=0.3, label=\"interpolation\", color='orange')\n",
    "interpolation = axs[1, 2].scatter(xx_interp_50, yy_interp_50, s=0.3, label=\"interpolation\", color='orange')\n",
    "\n",
    "for i in range(3):\n",
    "    observations = axs[1, i].scatter(xx, yy, s=5, label=\"observations\", color='blue')\n",
    "    axs[1, i].legend(loc=1)\n",
    "\n",
    "print()"
   ]
  },
  {
   "cell_type": "markdown",
   "metadata": {},
   "source": [
    "## Q2.1 Linear Regression with higher resolution"
   ]
  },
  {
   "cell_type": "code",
   "execution_count": 37,
   "metadata": {},
   "outputs": [],
   "source": [
    "df_interp_100 = pd.read_csv(f\"{BASE_DIR}/dataset_interp_100.csv\")"
   ]
  },
  {
   "cell_type": "code",
   "execution_count": 38,
   "metadata": {},
   "outputs": [
    {
     "name": "stdout",
     "output_type": "stream",
     "text": [
      "MSE: 35.813\n"
     ]
    }
   ],
   "source": [
    "df_i100 = df_interp_100.drop(labels=[\"skn\", \"year\", \"month\", \"name\", \"Observer\", \"NumMos\", \"MinYear\", \"MaxYear\", \"Status2010\"], axis=1)\n",
    "Y = df_i100[\"data_in\"]\n",
    "X = df_i100.drop([\"data_in\"], axis=1)\n",
    "\n",
    "Xtrain, Xtest, Ytrain, Ytest = train_test_split(X, Y, test_size=0.2)\n",
    "linear_regression = LinearRegression()\n",
    "linear_regression.fit(Xtrain, Ytrain)\n",
    "print(\"MSE: {:.3f}\".format(mean_squared_error(Ytest, linear_regression.predict(Xtest))))\n"
   ]
  },
  {
   "cell_type": "markdown",
   "metadata": {},
   "source": [
    "## Q2.2 Random Forest with higher resolution"
   ]
  },
  {
   "cell_type": "code",
   "execution_count": 43,
   "metadata": {},
   "outputs": [
    {
     "name": "stderr",
     "output_type": "stream",
     "text": [
      "[Parallel(n_jobs=-1)]: Using backend ThreadingBackend with 8 concurrent workers.\n",
      "[Parallel(n_jobs=-1)]: Done  56 tasks      | elapsed:  1.1min\n",
      "[Parallel(n_jobs=-1)]: Done 100 out of 100 | elapsed:  1.9min finished\n",
      "[Parallel(n_jobs=8)]: Using backend ThreadingBackend with 8 concurrent workers.\n",
      "[Parallel(n_jobs=8)]: Done  56 tasks      | elapsed:    1.4s\n"
     ]
    },
    {
     "name": "stdout",
     "output_type": "stream",
     "text": [
      "MSE: 6.905\n"
     ]
    },
    {
     "name": "stderr",
     "output_type": "stream",
     "text": [
      "[Parallel(n_jobs=8)]: Done 100 out of 100 | elapsed:    2.4s finished\n"
     ]
    }
   ],
   "source": [
    "Xtemp, Xtest, Ytemp, Ytest = train_test_split(X, Y, test_size=0.2, random_state=42)\n",
    "Xtrain, Xvalid, Ytrain, Yvalid = train_test_split(Xtemp, Ytemp, test_size=0.25, random_state=42)\n",
    "random_forest = RandomForestRegressor(n_jobs=-1, verbose=-1)\n",
    "random_forest.fit(Xtrain, Ytrain)\n",
    "print(\"MSE: {:.3f}\".format(mean_squared_error(Yvalid, random_forest.predict(Xvalid))))"
   ]
  },
  {
   "cell_type": "code",
   "execution_count": 44,
   "metadata": {},
   "outputs": [
    {
     "name": "stderr",
     "output_type": "stream",
     "text": [
      "[Parallel(n_jobs=-1)]: Using backend ThreadingBackend with 8 concurrent workers.\n",
      "[Parallel(n_jobs=-1)]: Done  34 tasks      | elapsed:   44.8s\n",
      "[Parallel(n_jobs=-1)]: Done 184 tasks      | elapsed:  3.6min\n",
      "[Parallel(n_jobs=-1)]: Done 200 out of 200 | elapsed:  3.9min finished\n",
      "[Parallel(n_jobs=8)]: Using backend ThreadingBackend with 8 concurrent workers.\n",
      "[Parallel(n_jobs=8)]: Done  34 tasks      | elapsed:    0.9s\n",
      "[Parallel(n_jobs=8)]: Done 184 tasks      | elapsed:    4.9s\n"
     ]
    },
    {
     "name": "stdout",
     "output_type": "stream",
     "text": [
      "MSE on validation set is 6.886\n"
     ]
    },
    {
     "name": "stderr",
     "output_type": "stream",
     "text": [
      "[Parallel(n_jobs=8)]: Done 200 out of 200 | elapsed:    5.2s finished\n"
     ]
    }
   ],
   "source": [
    "params = {\n",
    "    \"n_estimators\": 200, #(150, 200)\n",
    "    \"max_depth\": None, #(None)\n",
    "    \"min_samples_split\": 2,\n",
    "    \"min_samples_leaf\": 1,\n",
    "    \"n_jobs\": -1,\n",
    "    \"verbose\" : True\n",
    "}\n",
    "\n",
    "random_forest = RandomForestRegressor(**params)\n",
    "random_forest.fit(Xtrain, Ytrain)\n",
    "print(\"MSE on validation set is {:.3f}\".format(mean_squared_error(Yvalid, random_forest.predict(Xvalid))))"
   ]
  },
  {
   "cell_type": "code",
   "execution_count": null,
   "metadata": {},
   "outputs": [],
   "source": [
    "# include altitude information and compare models\n",
    "# Increase the resolution, and choose the closest grid cell\n",
    "# VERYFY THAT 100 and 50 ARE CORRECT\n",
    "# "
   ]
  },
  {
   "cell_type": "code",
   "execution_count": 52,
   "metadata": {},
   "outputs": [
    {
     "name": "stdout",
     "output_type": "stream",
     "text": [
      "MSE: 35.858\n"
     ]
    }
   ],
   "source": [
    "df_interp_50 = pd.read_csv(f\"{BASE_DIR}/dataset_interp_100.csv\")\n",
    "df_i50 = df_interp_50.drop(labels=[\"skn\", \"year\", \"month\", \"name\", \"Observer\", \"NumMos\", \"MinYear\", \"MaxYear\", \"Status2010\"], axis=1)\n",
    "Y = df_i50[\"data_in\"]\n",
    "X = df_i50.drop([\"data_in\"], axis=1)\n",
    "\n",
    "Xtrain, Xtest, Ytrain, Ytest = train_test_split(X, Y, test_size=0.2)\n",
    "linear_regression = LinearRegression()\n",
    "linear_regression.fit(Xtrain, Ytrain)\n",
    "print(\"MSE: {:.3f}\".format(mean_squared_error(Ytest, linear_regression.predict(Xtest))))\n"
   ]
  },
  {
   "cell_type": "code",
   "execution_count": 46,
   "metadata": {},
   "outputs": [
    {
     "name": "stderr",
     "output_type": "stream",
     "text": [
      "[Parallel(n_jobs=-1)]: Using backend ThreadingBackend with 8 concurrent workers.\n",
      "[Parallel(n_jobs=-1)]: Done  34 tasks      | elapsed:   45.7s\n",
      "[Parallel(n_jobs=-1)]: Done 100 out of 100 | elapsed:  2.0min finished\n",
      "[Parallel(n_jobs=8)]: Using backend ThreadingBackend with 8 concurrent workers.\n",
      "[Parallel(n_jobs=8)]: Done  34 tasks      | elapsed:    0.8s\n"
     ]
    },
    {
     "name": "stdout",
     "output_type": "stream",
     "text": [
      "MSE: 6.937\n"
     ]
    },
    {
     "name": "stderr",
     "output_type": "stream",
     "text": [
      "[Parallel(n_jobs=8)]: Done 100 out of 100 | elapsed:    2.2s finished\n"
     ]
    }
   ],
   "source": [
    "# default model\n",
    "Xtemp, Xtest, Ytemp, Ytest = train_test_split(X, Y, test_size=0.2, random_state=42)\n",
    "Xtrain, Xvalid, Ytrain, Yvalid = train_test_split(Xtemp, Ytemp, test_size=0.25, random_state=42)\n",
    "random_forest = RandomForestRegressor(n_jobs=-1, verbose=True)\n",
    "random_forest.fit(Xtrain, Ytrain)\n",
    "print(\"MSE: {:.3f}\".format(mean_squared_error(Yvalid, random_forest.predict(Xvalid))))"
   ]
  },
  {
   "cell_type": "code",
   "execution_count": null,
   "metadata": {},
   "outputs": [
    {
     "name": "stderr",
     "output_type": "stream",
     "text": [
      "[Parallel(n_jobs=-1)]: Using backend ThreadingBackend with 8 concurrent workers.\n",
      "[Parallel(n_jobs=-1)]: Done  34 tasks      | elapsed:   46.1s\n",
      "[Parallel(n_jobs=-1)]: Done 184 tasks      | elapsed:  3.7min\n"
     ]
    }
   ],
   "source": [
    "params = {\n",
    "    \"n_estimators\": 200, #(150, 200)\n",
    "    \"max_depth\": None, #(None)\n",
    "    \"min_samples_split\": 2,\n",
    "    \"min_samples_leaf\": 1,\n",
    "    \"n_jobs\": -1,\n",
    "    \"verbose\" : True\n",
    "}\n",
    "\n",
    "random_forest = RandomForestRegressor(**params)\n",
    "random_forest.fit(Xtrain, Ytrain)\n",
    "print(\"MSE on validation set is {:.3f}\".format(mean_squared_error(Yvalid, random_forest.predict(Xvalid))))"
   ]
  },
  {
   "cell_type": "markdown",
   "metadata": {},
   "source": [
    "# Q3. How does the performance change if we feed more reanalysis data from neighboring 6 grids?"
   ]
  },
  {
   "cell_type": "code",
   "execution_count": 15,
   "metadata": {},
   "outputs": [],
   "source": [
    "df_6grids = pd.read_csv(f\"{BASE_DIR}/dataset_5girds.csv\")"
   ]
  },
  {
   "cell_type": "code",
   "execution_count": 16,
   "metadata": {},
   "outputs": [],
   "source": [
    "df_6g = df_6grids.drop(\n",
    "    labels=[\"skn\", \"year\", \"month\", \"name\", \"Observer\", \"NumMos\", \"MinYear\", \"MaxYear\", \"Status2010\"],\n",
    "    axis=1\n",
    ")\n",
    "df_6g = df_6g.drop(\n",
    "    labels=[\n",
    "        \"air2m\", \"air1000_500\", \"hgt500\", \"hgt1000\", \"omega500\",\n",
    "        \"pottemp1000-500\", \"pottemp1000-850\", \"pr_wtr\", \"shum-uwnd-700\",\n",
    "        \"shum-uwnd-925\", \"shum-vwnd-700\", \"shum-vwnd-950\", \"shum700\",\n",
    "        \"shum925\", \"skt\", \"slp\"\n",
    "    ],\n",
    "    axis=1\n",
    ")"
   ]
  },
  {
   "cell_type": "code",
   "execution_count": 19,
   "metadata": {},
   "outputs": [
    {
     "data": {
      "text/html": [
       "<div>\n",
       "<style scoped>\n",
       "    .dataframe tbody tr th:only-of-type {\n",
       "        vertical-align: middle;\n",
       "    }\n",
       "\n",
       "    .dataframe tbody tr th {\n",
       "        vertical-align: top;\n",
       "    }\n",
       "\n",
       "    .dataframe thead th {\n",
       "        text-align: right;\n",
       "    }\n",
       "</style>\n",
       "<table border=\"1\" class=\"dataframe\">\n",
       "  <thead>\n",
       "    <tr style=\"text-align: right;\">\n",
       "      <th></th>\n",
       "      <th>data_in</th>\n",
       "      <th>lat</th>\n",
       "      <th>lon</th>\n",
       "      <th>elevation</th>\n",
       "      <th>air2m_0</th>\n",
       "      <th>air2m_1</th>\n",
       "      <th>air2m_2</th>\n",
       "      <th>air2m_3</th>\n",
       "      <th>air2m_4</th>\n",
       "      <th>air2m_5</th>\n",
       "      <th>...</th>\n",
       "      <th>skt_2</th>\n",
       "      <th>skt_3</th>\n",
       "      <th>skt_4</th>\n",
       "      <th>skt_5</th>\n",
       "      <th>slp_0</th>\n",
       "      <th>slp_1</th>\n",
       "      <th>slp_2</th>\n",
       "      <th>slp_3</th>\n",
       "      <th>slp_4</th>\n",
       "      <th>slp_5</th>\n",
       "    </tr>\n",
       "  </thead>\n",
       "  <tbody>\n",
       "    <tr>\n",
       "      <th>0</th>\n",
       "      <td>3.200000</td>\n",
       "      <td>18.916176</td>\n",
       "      <td>-155.674994</td>\n",
       "      <td>35.0</td>\n",
       "      <td>295.72696</td>\n",
       "      <td>295.30087</td>\n",
       "      <td>295.39603</td>\n",
       "      <td>295.29828</td>\n",
       "      <td>294.96295</td>\n",
       "      <td>294.85797</td>\n",
       "      <td>...</td>\n",
       "      <td>23.385218</td>\n",
       "      <td>23.6341</td>\n",
       "      <td>23.194658</td>\n",
       "      <td>23.052715</td>\n",
       "      <td>1014.1755</td>\n",
       "      <td>1013.94574</td>\n",
       "      <td>1014.0849</td>\n",
       "      <td>1015.1941</td>\n",
       "      <td>1014.69965</td>\n",
       "      <td>1014.4063</td>\n",
       "    </tr>\n",
       "    <tr>\n",
       "      <th>1</th>\n",
       "      <td>5.950000</td>\n",
       "      <td>19.108660</td>\n",
       "      <td>-155.825545</td>\n",
       "      <td>1750.0</td>\n",
       "      <td>295.72696</td>\n",
       "      <td>295.30087</td>\n",
       "      <td>295.39603</td>\n",
       "      <td>295.29828</td>\n",
       "      <td>294.96295</td>\n",
       "      <td>294.85797</td>\n",
       "      <td>...</td>\n",
       "      <td>23.385218</td>\n",
       "      <td>23.6341</td>\n",
       "      <td>23.194658</td>\n",
       "      <td>23.052715</td>\n",
       "      <td>1014.1755</td>\n",
       "      <td>1013.94574</td>\n",
       "      <td>1014.0849</td>\n",
       "      <td>1015.1941</td>\n",
       "      <td>1014.69965</td>\n",
       "      <td>1014.4063</td>\n",
       "    </tr>\n",
       "    <tr>\n",
       "      <th>2</th>\n",
       "      <td>11.500000</td>\n",
       "      <td>19.164740</td>\n",
       "      <td>-155.682280</td>\n",
       "      <td>4890.0</td>\n",
       "      <td>295.72696</td>\n",
       "      <td>295.30087</td>\n",
       "      <td>295.39603</td>\n",
       "      <td>295.29828</td>\n",
       "      <td>294.96295</td>\n",
       "      <td>294.85797</td>\n",
       "      <td>...</td>\n",
       "      <td>23.385218</td>\n",
       "      <td>23.6341</td>\n",
       "      <td>23.194658</td>\n",
       "      <td>23.052715</td>\n",
       "      <td>1014.1755</td>\n",
       "      <td>1013.94574</td>\n",
       "      <td>1014.0849</td>\n",
       "      <td>1015.1941</td>\n",
       "      <td>1014.69965</td>\n",
       "      <td>1014.4063</td>\n",
       "    </tr>\n",
       "    <tr>\n",
       "      <th>3</th>\n",
       "      <td>5.515941</td>\n",
       "      <td>19.160603</td>\n",
       "      <td>-155.822488</td>\n",
       "      <td>2940.0</td>\n",
       "      <td>295.72696</td>\n",
       "      <td>295.30087</td>\n",
       "      <td>295.39603</td>\n",
       "      <td>295.29828</td>\n",
       "      <td>294.96295</td>\n",
       "      <td>294.85797</td>\n",
       "      <td>...</td>\n",
       "      <td>23.385218</td>\n",
       "      <td>23.6341</td>\n",
       "      <td>23.194658</td>\n",
       "      <td>23.052715</td>\n",
       "      <td>1014.1755</td>\n",
       "      <td>1013.94574</td>\n",
       "      <td>1014.0849</td>\n",
       "      <td>1015.1941</td>\n",
       "      <td>1014.69965</td>\n",
       "      <td>1014.4063</td>\n",
       "    </tr>\n",
       "    <tr>\n",
       "      <th>4</th>\n",
       "      <td>4.310617</td>\n",
       "      <td>19.225323</td>\n",
       "      <td>-155.778876</td>\n",
       "      <td>5680.0</td>\n",
       "      <td>295.72696</td>\n",
       "      <td>295.30087</td>\n",
       "      <td>295.39603</td>\n",
       "      <td>295.29828</td>\n",
       "      <td>294.96295</td>\n",
       "      <td>294.85797</td>\n",
       "      <td>...</td>\n",
       "      <td>23.385218</td>\n",
       "      <td>23.6341</td>\n",
       "      <td>23.194658</td>\n",
       "      <td>23.052715</td>\n",
       "      <td>1014.1755</td>\n",
       "      <td>1013.94574</td>\n",
       "      <td>1014.0849</td>\n",
       "      <td>1015.1941</td>\n",
       "      <td>1014.69965</td>\n",
       "      <td>1014.4063</td>\n",
       "    </tr>\n",
       "  </tbody>\n",
       "</table>\n",
       "<p>5 rows × 100 columns</p>\n",
       "</div>"
      ],
      "text/plain": [
       "     data_in        lat         lon  elevation    air2m_0    air2m_1  \\\n",
       "0   3.200000  18.916176 -155.674994       35.0  295.72696  295.30087   \n",
       "1   5.950000  19.108660 -155.825545     1750.0  295.72696  295.30087   \n",
       "2  11.500000  19.164740 -155.682280     4890.0  295.72696  295.30087   \n",
       "3   5.515941  19.160603 -155.822488     2940.0  295.72696  295.30087   \n",
       "4   4.310617  19.225323 -155.778876     5680.0  295.72696  295.30087   \n",
       "\n",
       "     air2m_2    air2m_3    air2m_4    air2m_5  ...      skt_2    skt_3  \\\n",
       "0  295.39603  295.29828  294.96295  294.85797  ...  23.385218  23.6341   \n",
       "1  295.39603  295.29828  294.96295  294.85797  ...  23.385218  23.6341   \n",
       "2  295.39603  295.29828  294.96295  294.85797  ...  23.385218  23.6341   \n",
       "3  295.39603  295.29828  294.96295  294.85797  ...  23.385218  23.6341   \n",
       "4  295.39603  295.29828  294.96295  294.85797  ...  23.385218  23.6341   \n",
       "\n",
       "       skt_4      skt_5      slp_0       slp_1      slp_2      slp_3  \\\n",
       "0  23.194658  23.052715  1014.1755  1013.94574  1014.0849  1015.1941   \n",
       "1  23.194658  23.052715  1014.1755  1013.94574  1014.0849  1015.1941   \n",
       "2  23.194658  23.052715  1014.1755  1013.94574  1014.0849  1015.1941   \n",
       "3  23.194658  23.052715  1014.1755  1013.94574  1014.0849  1015.1941   \n",
       "4  23.194658  23.052715  1014.1755  1013.94574  1014.0849  1015.1941   \n",
       "\n",
       "        slp_4      slp_5  \n",
       "0  1014.69965  1014.4063  \n",
       "1  1014.69965  1014.4063  \n",
       "2  1014.69965  1014.4063  \n",
       "3  1014.69965  1014.4063  \n",
       "4  1014.69965  1014.4063  \n",
       "\n",
       "[5 rows x 100 columns]"
      ]
     },
     "execution_count": 19,
     "metadata": {},
     "output_type": "execute_result"
    }
   ],
   "source": [
    "df_6g.head()"
   ]
  },
  {
   "cell_type": "code",
   "execution_count": 20,
   "metadata": {},
   "outputs": [
    {
     "name": "stdout",
     "output_type": "stream",
     "text": [
      "MSE: 34.049\n"
     ]
    }
   ],
   "source": [
    "Y = df_6g[\"data_in\"]\n",
    "X = df_6g.drop([\"data_in\"], axis=1)\n",
    "\n",
    "Xtrain, Xtest, Ytrain, Ytest = train_test_split(X, Y, test_size=0.2)\n",
    "linear_regression = LinearRegression()\n",
    "linear_regression.fit(Xtrain, Ytrain)\n",
    "print(\"MSE: {:.3f}\".format(mean_squared_error(Ytest, linear_regression.predict(Xtest))))"
   ]
  },
  {
   "cell_type": "code",
   "execution_count": null,
   "metadata": {},
   "outputs": [
    {
     "name": "stderr",
     "output_type": "stream",
     "text": [
      "[Parallel(n_jobs=-1)]: Using backend ThreadingBackend with 8 concurrent workers.\n",
      "[Parallel(n_jobs=-1)]: Done  34 tasks      | elapsed:  3.4min\n"
     ]
    }
   ],
   "source": [
    "params = {\n",
    "    \"n_estimators\": 200, #(150, 200)\n",
    "    \"max_depth\": None, #(None)\n",
    "    \"min_samples_split\": 2,\n",
    "    \"min_samples_leaf\": 1,\n",
    "    \"n_jobs\": -1,\n",
    "    \"verbose\" : True\n",
    "}\n",
    "\n",
    "random_forest = RandomForestRegressor(**params)\n",
    "random_forest.fit(Xtrain, Ytrain)\n",
    "print(\"MSE on validation set is {:.3f}\".format(mean_squared_error(Yvalid, random_forest.predict(Xvalid))))"
   ]
  },
  {
   "cell_type": "code",
   "execution_count": null,
   "metadata": {},
   "outputs": [],
   "source": []
  }
 ],
 "metadata": {
  "kernelspec": {
   "display_name": "climate",
   "language": "python",
   "name": "climate"
  },
  "language_info": {
   "codemirror_mode": {
    "name": "ipython",
    "version": 3
   },
   "file_extension": ".py",
   "mimetype": "text/x-python",
   "name": "python",
   "nbconvert_exporter": "python",
   "pygments_lexer": "ipython3",
   "version": "3.9.7"
  }
 },
 "nbformat": 4,
 "nbformat_minor": 4
}

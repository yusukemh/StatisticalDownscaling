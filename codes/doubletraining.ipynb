{
 "cells": [
  {
   "cell_type": "code",
   "execution_count": 1,
   "metadata": {},
   "outputs": [
    {
     "name": "stderr",
     "output_type": "stream",
     "text": [
      "2022-06-04 01:10:56.157846: W tensorflow/stream_executor/platform/default/dso_loader.cc:64] Could not load dynamic library 'libcudart.so.11.0'; dlerror: libcudart.so.11.0: cannot open shared object file: No such file or directory; LD_LIBRARY_PATH: /opt/apps/software/tools/nmap/7.80/lib\n"
     ]
    }
   ],
   "source": [
    "# set the environment variable for warning\n",
    "import os\n",
    "os.environ['TF_CPP_MIN_LOG_LEVEL'] = '1'\n",
    "\n",
    "# enable autoreload\n",
    "%load_ext autoreload\n",
    "%autoreload 2\n",
    "\n",
    "# basic imports\n",
    "import numpy as np\n",
    "import pandas as pd\n",
    "import matplotlib.pyplot as plt\n",
    "\n",
    "# sklearn\n",
    "from sklearn.model_selection import train_test_split, KFold, cross_val_predict\n",
    "from sklearn.preprocessing import MinMaxScaler, StandardScaler\n",
    "from sklearn.linear_model import LinearRegression\n",
    "from sklearn.metrics import mean_squared_error\n",
    "\n",
    "#tensorflow\n",
    "import tensorflow as tf\n",
    "from tensorflow.keras.metrics import RootMeanSquaredError\n",
    "from tensorflow.keras.models import Model, Sequential\n",
    "from tensorflow.keras.wrappers.scikit_learn import KerasRegressor\n",
    "from tensorflow.keras.layers import Dense, Input, Concatenate, Dropout\n",
    "\n",
    "import tensorflow_probability as tfp\n",
    "tfd = tfp.distributions\n",
    "\n",
    "# others\n",
    "import cartopy.crs as ccrs\n",
    "import cartopy.mpl.ticker as cticker\n",
    "from copy import deepcopy\n",
    "import sherpa\n",
    "from xgboost import XGBRegressor\n",
    "import sys\n",
    "import time\n",
    "from scipy.stats import gamma, norm, beta\n",
    "\n",
    "# Variables from config file\n",
    "sys.path.append('/home/yusukemh/github/yusukemh/StatisticalDownscaling/codes/')\n",
    "from config import BASE_DIR, FILE_NAMES, LABELS, ATTRIBUTES, BEST_MODEL_COLUMNS, ISLAND_RANGES, C_SINGLE, C_INT50, C_INT100, C_GRID, C_COMMON\n",
    "\n",
    "# util\n",
    "from util import cross_val_predict_for_nn, sample_station, estimate_epochs, define_model, define_hetero_model_normal, define_hetero_model_gamma"
   ]
  },
  {
   "cell_type": "code",
   "execution_count": 2,
   "metadata": {},
   "outputs": [],
   "source": [
    "def define_model(\n",
    "    input_dim=20, \n",
    "    lr=0.005, \n",
    "    activation='relu',\n",
    "    n_units=1024,\n",
    "    n_layers=2,\n",
    "    dropout=0.5\n",
    "):\n",
    "    inputs = Input(shape=(input_dim,))\n",
    "    x = Dense(units=n_units, activation=activation)(inputs)\n",
    "    \n",
    "    for i in range(n_layers - 1):\n",
    "        if dropout:\n",
    "            x = Dropout(rate=dropout)(x)\n",
    "        x = Dense(units=n_units, activation=activation)(x)\n",
    "    outputs = Dense(units=1, kernel_initializer=tf.keras.initializers.HeNormal, activation='softplus')(x)\n",
    "    \n",
    "    model = Model(inputs=inputs, outputs=outputs)\n",
    "    \n",
    "    model.compile(\n",
    "        optimizer=tf.optimizers.Adam(learning_rate=lr),\n",
    "        loss='mse',\n",
    "        metrics=[RootMeanSquaredError()]\n",
    "    )\n",
    "    \n",
    "    return model\n",
    "\n",
    "def define_hetero_model_gamma(\n",
    "    input_dim=20, lr=0.0065,\n",
    "    n_additional_layers_main=4,\n",
    "    n_additional_layers_sub=2,\n",
    "    activation='elu',\n",
    "    n_units_main=512,\n",
    "    n_units_sub=256,\n",
    "    dropout=0.5,\n",
    "):\n",
    "    inputs = Input(shape=(input_dim,))\n",
    "    x = Dense(\n",
    "        units=n_units_main, activation=activation, kernel_initializer=tf.keras.initializers.HeNormal,\n",
    "        kernel_regularizer='l1'\n",
    "    )(inputs)\n",
    "    \n",
    "    for _ in range(n_additional_layers_main):\n",
    "        x = Dense(units=n_units_main, activation=activation, kernel_initializer=tf.keras.initializers.HeNormal, kernel_regularizer='l1')(x)\n",
    "        if dropout:\n",
    "            x = Dropout(rate=0.5)(x)\n",
    "    \n",
    "    m = Dense(units=n_units_sub, activation=activation, kernel_initializer=tf.keras.initializers.HeNormal, kernel_regularizer='l1')(x)\n",
    "    for _ in range(n_additional_layers_sub):\n",
    "        m = Dense(units=n_units_sub, activation=activation, kernel_initializer=tf.keras.initializers.HeNormal, kernel_regularizer='l1')(m)\n",
    "    m = Dense(units=10, activation=activation, kernel_initializer=tf.keras.initializers.HeNormal, kernel_regularizer='l1')(m)\n",
    "    m = Dense(units=1, activation='linear', kernel_initializer=tf.keras.initializers.HeNormal, kernel_regularizer='l1')(m)\n",
    "    \n",
    "    s = Dense(units=n_units_sub, activation=activation, kernel_initializer=tf.keras.initializers.HeNormal, kernel_regularizer='l1')(x)\n",
    "    for _ in range(n_additional_layers_sub):\n",
    "        s = Dense(units=n_units_sub, activation=activation, kernel_initializer=tf.keras.initializers.HeNormal, kernel_regularizer='l1')(s)\n",
    "    s = Dense(units=10, activation=activation, kernel_initializer=tf.keras.initializers.HeNormal, kernel_regularizer='l1')(s)\n",
    "    s = Dense(units=1, activation='linear', kernel_initializer=tf.keras.initializers.HeNormal, kernel_regularizer='l1')(s)\n",
    "    \n",
    "    ms = Concatenate(axis=-1)([m, s])\n",
    "    outputs = tfp.layers.DistributionLambda(\n",
    "        make_distribution_fn=lambda t: tfd.Gamma(\n",
    "            concentration=tf.math.softplus(t[...,0]), rate=tf.math.softplus(t[...,1])\n",
    "        ),\n",
    "        convert_to_tensor_fn=lambda d: d.mean()\n",
    "    )(ms)\n",
    "    \n",
    "    model = Model(inputs=inputs, outputs=outputs)\n",
    "    \n",
    "    epsilon=1e-5 # for loss function\n",
    "    model.compile(\n",
    "        optimizer=tf.optimizers.Adam(learning_rate=lr),\n",
    "        loss=lambda y, p_y: -p_y.log_prob(y + epsilon),\n",
    "        # loss=safe_nll,\n",
    "        metrics=[RootMeanSquaredError()]\n",
    "    )\n",
    "    \n",
    "    return model\n",
    "\n",
    "\n",
    "@tf.autograph.experimental.do_not_convert\n",
    "def define_hetero_model_normal(\n",
    "    input_dim, lr=0.0065,\n",
    "    n_additional_layers_main=0,\n",
    "    n_additional_layers_sub=0,\n",
    "    activation='relu',\n",
    "    n_units_main=512,\n",
    "    n_units_sub=10,\n",
    "    dropout=0.5,\n",
    "    l2_sigma=100,\n",
    "    sigma_a=0.001,# these hyperparameters might have significant affect\n",
    "    sigma_b=0.03 # these hyperparameters might have signigicant affect\n",
    "):\n",
    "    inputs = Input(shape=(input_dim,))\n",
    "    x = Dense(units=n_units_main, activation=activation, kernel_initializer=tf.keras.initializers.HeNormal)(inputs)\n",
    "    # main branch\n",
    "    for _ in range(n_additional_layers_main):\n",
    "        if dropout:\n",
    "            x = Dropout(rate=dropout)(x)\n",
    "        x = Dense(units=n_units_main, activation=activation, kernel_initializer=tf.keras.initializers.HeNormal)(x)\n",
    "    # mean branch\n",
    "    if n_additional_layers_sub == 0:\n",
    "        m = Dense(units=1, activation='linear', kernel_initializer=tf.keras.initializers.HeNormal)(x)\n",
    "    else:\n",
    "        m = Dense(units=n_units_sub, activation=activation, kernel_initializer=tf.keras.initializers.HeNormal)(x)\n",
    "        for _ in range(n_additional_layers_sub - 1):\n",
    "            m = Dense(units=n_units_sub, activation=activation)(m)\n",
    "        m = Dense(units=1, activation='linear', kernel_initializer=tf.keras.initializers.HeNormal)(m)\n",
    "    \n",
    "    # std branch\n",
    "    if n_additional_layers_sub == 0:\n",
    "        s = Dense(units=1, activation='linear', kernel_initializer=tf.keras.initializers.HeNormal, kernel_regularizer=tf.keras.regularizers.L2(l2=l2_sigma))(x)\n",
    "    else:\n",
    "        s = Dense(units=n_units_sub, activation=activation, kernel_initializer=tf.keras.initializers.HeNormal)(x)\n",
    "        for _ in range(n_additional_layers_sub - 1):\n",
    "            s = Dense(units=n_units_sub, activation=activation)(s)\n",
    "        s = Dense(units=1, activation='linear', kernel_initializer=tf.keras.initializers.HeNormal, kernel_regularizer=tf.keras.regularizers.L2(l2=l2_sigma))(s)\n",
    "    \n",
    "    ms = Concatenate(axis=-1)([m, s])\n",
    "    outputs = tfp.layers.DistributionLambda(\n",
    "        make_distribution_fn=lambda t: tfd.Normal(\n",
    "            loc=t[...,0], scale=tf.math.softplus(sigma_a * t[...,1] + sigma_b)\n",
    "        ),\n",
    "        convert_to_tensor_fn=lambda s: s.mean()\n",
    "    )(ms)\n",
    "    \n",
    "    model = Model(inputs=inputs, outputs=outputs)\n",
    "    \n",
    "    model.compile(\n",
    "        optimizer=tf.optimizers.Adam(learning_rate=lr),\n",
    "        # loss=lambda y, p_y: -p_y.log_prob(y),\n",
    "        loss=lambda y, p_y: -p_y.log_prob(y + 1e-5),\n",
    "        metrics=[RootMeanSquaredError()]\n",
    "    )\n",
    "    \n",
    "    return model"
   ]
  },
  {
   "cell_type": "code",
   "execution_count": 3,
   "metadata": {},
   "outputs": [],
   "source": [
    "df_nonfilled = pd.read_csv(f\"{BASE_DIR}/nonfilled_dataset.csv\", usecols=C_SINGLE + C_COMMON)\n",
    "\n",
    "df_n_data = df_nonfilled.groupby('skn').size().reset_index().rename(columns={0: \"n_data\"})\n",
    "df_n_data = df_n_data[df_n_data['n_data'] > 750]\n",
    "df_filtered = df_nonfilled.merge(df_n_data, left_on='skn', right_on='skn', how='inner')"
   ]
  },
  {
   "cell_type": "code",
   "execution_count": 4,
   "metadata": {},
   "outputs": [
    {
     "name": "stdout",
     "output_type": "stream",
     "text": [
      "The numbers of examples in each fold\n",
      "3673\n",
      "3703\n",
      "3686\n",
      "3700\n",
      "3709\n"
     ]
    }
   ],
   "source": [
    "n_folds = 5\n",
    "\n",
    "df_len_by_month = pd.DataFrame(df_filtered.groupby(by=[\"year\", \"month\"]).size()).reset_index().rename({0:\"len\"}, axis=1)\n",
    "df_len_by_month['cumsum'] = df_len_by_month['len'].cumsum()\n",
    "\n",
    "n_samples_total = df_len_by_month['cumsum'].iloc[-1]\n",
    "n_samples_per_fold = np.ceil(n_samples_total / n_folds)\n",
    "\n",
    "df_len_by_month['fold'] = df_len_by_month.apply(lambda row: int(row['cumsum'] / n_samples_per_fold), axis=1)\n",
    "\n",
    "print(\"The numbers of examples in each fold\")\n",
    "for fold in range(5):\n",
    "    print(df_len_by_month[df_len_by_month['fold'] == fold]['len'].sum())\n",
    "    \n",
    "df_filtered = pd.merge(left=df_filtered, right=df_len_by_month, left_on=[\"year\", \"month\"], right_on=[\"year\", \"month\"])"
   ]
  },
  {
   "cell_type": "code",
   "execution_count": 94,
   "metadata": {},
   "outputs": [
    {
     "name": "stdout",
     "output_type": "stream",
     "text": [
      "Fold 1\n",
      " LR: 4.6922621210, NN: 4.6310030294\n"
     ]
    }
   ],
   "source": [
    "i = 1\n",
    "df_train = df_filtered[df_filtered['fold'] != i]\n",
    "df_test = df_filtered[df_filtered['fold'] == i]\n",
    "\n",
    "skn = 54\n",
    "columns = C_SINGLE\n",
    "\n",
    "Xtrain, Xtest = np.array(df_train[columns]), np.array(df_test[columns])\n",
    "scaler = MinMaxScaler()\n",
    "Xtrain = scaler.fit_transform(Xtrain)\n",
    "Xtest = scaler.transform(Xtest)\n",
    "\n",
    "Ytrain, Ytest = np.array(df_train['data_in']), np.array(df_test['data_in'])\n",
    "\n",
    "Xtrain_station = np.array(df_train[df_train['skn'] == skn][columns])\n",
    "Ytrain_station = np.array(df_train[df_train['skn'] == skn]['data_in'])\n",
    "\n",
    "Xtest_station = np.array(df_test[df_test['skn'] == skn][columns])\n",
    "Ytest_station = np.array(df_test[df_test['skn'] == skn]['data_in'])\n",
    "\n",
    "Xtrain_station = scaler.transform(Xtrain_station)\n",
    "Xtest_station = scaler.transform(Xtest_station)\n",
    "\n",
    "# model_nn = define_hetero_model_normal(input_dim=len(columns), n_additional_layers_main=0, n_additional_layers_sub=0, n_units_main=216)\n",
    "model_nn = define_model(\n",
    "    input_dim=len(columns), \n",
    "    lr=0.0001,\n",
    "    activation='elu',\n",
    "    n_units=216,\n",
    "    n_layers=0,\n",
    "    dropout=0.5\n",
    ")\n",
    "model_nn.fit(Xtrain, Ytrain, epochs=50, verbose=False)\n",
    "\n",
    "# intermediate performance\n",
    "# yhat_all = model_nn.predict(Xtest)\n",
    "# mean_squared_error(Ytest, yhat_all, squared=False)\n",
    "\n",
    "\n",
    "# model_nn.compile(optimizer=tf.optimizers.Adam(learning_rate=0.001))\n",
    "model_nn.compile(\n",
    "    optimizer=tf.optimizers.Adam(learning_rate=0.002),\n",
    "    loss='mse',\n",
    "    metrics=[RootMeanSquaredError()]\n",
    ")\n",
    "model_nn.fit(Xtrain_station, Ytrain_station, epochs=100, verbose=False)\n",
    "yhat_station = model_nn.predict(Xtest_station)\n",
    "rmse_nn = mean_squared_error(Ytest_station, yhat_station, squared=False)\n",
    "\n",
    "# Linear Regression\n",
    "linear_regression = LinearRegression()\n",
    "linear_regression.fit(Xtrain_station, Ytrain_station)\n",
    "yhat_linear_regression = linear_regression.predict(Xtest_station)\n",
    "rmse_lr = mean_squared_error(Ytest_station, yhat_linear_regression, squared=False)\n",
    "\n",
    "print('Fold {}\\n LR: {:.10f}, NN: {:.10f}'.format(i, rmse_lr, rmse_nn))"
   ]
  },
  {
   "cell_type": "code",
   "execution_count": 5,
   "metadata": {},
   "outputs": [
    {
     "name": "stderr",
     "output_type": "stream",
     "text": [
      "2022-06-04 01:11:34.152913: W tensorflow/stream_executor/platform/default/dso_loader.cc:64] Could not load dynamic library 'libcudart.so.11.0'; dlerror: libcudart.so.11.0: cannot open shared object file: No such file or directory; LD_LIBRARY_PATH: /opt/apps/software/tools/nmap/7.80/lib\n",
      "2022-06-04 01:11:34.160131: W tensorflow/stream_executor/platform/default/dso_loader.cc:64] Could not load dynamic library 'libcufft.so.10'; dlerror: libcufft.so.10: cannot open shared object file: No such file or directory; LD_LIBRARY_PATH: /opt/apps/software/tools/nmap/7.80/lib\n",
      "2022-06-04 01:11:34.160241: W tensorflow/stream_executor/platform/default/dso_loader.cc:64] Could not load dynamic library 'libcurand.so.10'; dlerror: libcurand.so.10: cannot open shared object file: No such file or directory; LD_LIBRARY_PATH: /opt/apps/software/tools/nmap/7.80/lib\n",
      "2022-06-04 01:11:34.160331: W tensorflow/stream_executor/platform/default/dso_loader.cc:64] Could not load dynamic library 'libcusolver.so.11'; dlerror: libcusolver.so.11: cannot open shared object file: No such file or directory; LD_LIBRARY_PATH: /opt/apps/software/tools/nmap/7.80/lib\n",
      "2022-06-04 01:11:34.160418: W tensorflow/stream_executor/platform/default/dso_loader.cc:64] Could not load dynamic library 'libcusparse.so.11'; dlerror: libcusparse.so.11: cannot open shared object file: No such file or directory; LD_LIBRARY_PATH: /opt/apps/software/tools/nmap/7.80/lib\n",
      "2022-06-04 01:11:34.160509: W tensorflow/stream_executor/platform/default/dso_loader.cc:64] Could not load dynamic library 'libcudnn.so.8'; dlerror: libcudnn.so.8: cannot open shared object file: No such file or directory; LD_LIBRARY_PATH: /opt/apps/software/tools/nmap/7.80/lib\n",
      "2022-06-04 01:11:34.160528: W tensorflow/core/common_runtime/gpu/gpu_device.cc:1850] Cannot dlopen some GPU libraries. Please make sure the missing libraries mentioned above are installed properly if you would like to use GPU. Follow the guide at https://www.tensorflow.org/install/gpu for how to download and setup the required libraries for your platform.\n",
      "Skipping registering GPU devices...\n"
     ]
    },
    {
     "name": "stdout",
     "output_type": "stream",
     "text": [
      "Fold 0\n",
      " LR: 1.5124840054, NN: 1.4525402796\n",
      "Fold 1\n",
      " LR: 1.4605165501, NN: 1.4162174993\n",
      "Fold 2\n",
      " LR: 1.5172626810, NN: 1.4908868199\n",
      "Fold 3\n",
      " LR: 1.7978279276, NN: 1.8255521192\n",
      "Fold 4\n",
      " LR: 1.3619483611, NN: 1.1733404171\n"
     ]
    }
   ],
   "source": [
    "def cross_val_predict(skn, df_nonfilled):\n",
    "\n",
    "    yhat_nn = []\n",
    "    yhat_lr = []\n",
    "    ytrue = []\n",
    "    skn = 396\n",
    "    columns = C_SINGLE\n",
    "\n",
    "    for i in range(n_folds):\n",
    "        df_train = df_filtered[df_filtered['fold'] != i]\n",
    "        df_test = df_filtered[df_filtered['fold'] == i]\n",
    "\n",
    "        Xtrain, Xtest = np.array(df_train[columns]), np.array(df_test[columns])\n",
    "        scaler = MinMaxScaler()\n",
    "        Xtrain = scaler.fit_transform(Xtrain)\n",
    "        Xtest = scaler.transform(Xtest)\n",
    "\n",
    "        Ytrain, Ytest = np.array(df_train['data_in']), np.array(df_test['data_in'])\n",
    "\n",
    "        Xtrain_station = np.array(df_train[df_train['skn'] == skn][columns])\n",
    "        Ytrain_station = np.array(df_train[df_train['skn'] == skn]['data_in'])\n",
    "\n",
    "        Xtest_station = np.array(df_test[df_test['skn'] == skn][columns])\n",
    "        Ytest_station = np.array(df_test[df_test['skn'] == skn]['data_in'])\n",
    "\n",
    "        Xtrain_station = scaler.transform(Xtrain_station)\n",
    "        Xtest_station = scaler.transform(Xtest_station)\n",
    "\n",
    "        # model_nn = define_hetero_model_normal(input_dim=len(columns), n_additional_layers_main=0, n_additional_layers_sub=0, n_units_main=216)\n",
    "        model_nn = define_model(\n",
    "            input_dim=len(columns), \n",
    "            lr=0.0001,\n",
    "            activation='elu',\n",
    "            n_units=216,\n",
    "            n_layers=0,\n",
    "            dropout=0.5\n",
    "        )\n",
    "        model_nn.fit(Xtrain, Ytrain, epochs=50, verbose=False)\n",
    "\n",
    "        # intermediate performance\n",
    "        # yhat_all = model_nn.predict(Xtest)\n",
    "        # mean_squared_error(Ytest, yhat_all, squared=False)\n",
    "\n",
    "        model_nn.compile(\n",
    "            optimizer=tf.optimizers.Adam(learning_rate=0.002),\n",
    "            loss='mse',\n",
    "            metrics=[RootMeanSquaredError()]\n",
    "        )\n",
    "\n",
    "        model_nn.fit(Xtrain_station, Ytrain_station, epochs=100, verbose=False)\n",
    "        yhat_station = model_nn.predict(Xtest_station)\n",
    "        rmse_nn = mean_squared_error(Ytest_station, yhat_station, squared=False)\n",
    "\n",
    "        # Linear Regression\n",
    "        linear_regression = LinearRegression()\n",
    "        linear_regression.fit(Xtrain_station, Ytrain_station)\n",
    "        yhat_linear_regression = linear_regression.predict(Xtest_station)\n",
    "        rmse_lr = mean_squared_error(Ytest_station, yhat_linear_regression, squared=False)\n",
    "\n",
    "        print('Fold {}\\n LR: {:.10f}, NN: {:.10f}'.format(i, rmse_lr, rmse_nn))\n",
    "        ytrue.extend(Ytest_station)\n",
    "        yhat_lr.extend(yhat_linear_regression)\n",
    "        yhat_nn.extend(yhat_station)\n",
    "\n",
    "    "
   ]
  },
  {
   "cell_type": "code",
   "execution_count": 6,
   "metadata": {},
   "outputs": [
    {
     "data": {
      "text/plain": [
       "(1.4860517675118443, 1.5366046591631417)"
      ]
     },
     "execution_count": 6,
     "metadata": {},
     "output_type": "execute_result"
    }
   ],
   "source": [
    "mean_squared_error(ytrue, yhat_nn, squared=False), mean_squared_error(ytrue, yhat_lr, squared=False)"
   ]
  },
  {
   "cell_type": "code",
   "execution_count": 104,
   "metadata": {},
   "outputs": [
    {
     "data": {
      "text/plain": [
       "(20.871792703, -156.453846576)"
      ]
     },
     "execution_count": 104,
     "metadata": {},
     "output_type": "execute_result"
    }
   ],
   "source": [
    "df_nonfilled[df_nonfilled['skn'] == 396]['lat'].iloc[0], df_nonfilled[df_nonfilled['skn'] == 396]['lon'].iloc[0]"
   ]
  },
  {
   "cell_type": "code",
   "execution_count": null,
   "metadata": {},
   "outputs": [],
   "source": []
  },
  {
   "cell_type": "code",
   "execution_count": null,
   "metadata": {},
   "outputs": [],
   "source": []
  },
  {
   "cell_type": "code",
   "execution_count": null,
   "metadata": {},
   "outputs": [],
   "source": []
  },
  {
   "cell_type": "code",
   "execution_count": null,
   "metadata": {},
   "outputs": [],
   "source": []
  },
  {
   "cell_type": "code",
   "execution_count": null,
   "metadata": {},
   "outputs": [],
   "source": []
  },
  {
   "cell_type": "code",
   "execution_count": null,
   "metadata": {},
   "outputs": [],
   "source": []
  },
  {
   "cell_type": "code",
   "execution_count": 69,
   "metadata": {},
   "outputs": [
    {
     "name": "stdout",
     "output_type": "stream",
     "text": [
      "Fold 0\n",
      " LR: 1.5124840054, NN: 1.4521954782\n",
      "Fold 1\n",
      " LR: 1.4605165501, NN: 1.5045156674\n",
      "Fold 2\n",
      " LR: 1.5172626810, NN: 1.4462081891\n",
      "Fold 3\n",
      " LR: 1.7978279276, NN: 1.7222471623\n",
      "Fold 4\n",
      " LR: 1.3619483611, NN: 1.3469790759\n"
     ]
    }
   ],
   "source": [
    "yhat_nn = []\n",
    "yhat_lr = []\n",
    "ytrue = []\n",
    "\n",
    "for i in range(n_folds):\n",
    "    df_train = df_filtered[df_filtered['fold'] != i]\n",
    "    df_test = df_filtered[df_filtered['fold'] == i]\n",
    "    \n",
    "    skn = 396\n",
    "    columns = C_SINGLE\n",
    "\n",
    "    Xtrain, Xtest = np.array(df_train[columns]), np.array(df_test[columns])\n",
    "    scaler = MinMaxScaler()\n",
    "    Xtrain = scaler.fit_transform(Xtrain)\n",
    "    Xtest = scaler.transform(Xtest)\n",
    "\n",
    "    Ytrain, Ytest = np.array(df_train['data_in']), np.array(df_test['data_in'])\n",
    "\n",
    "    Xtrain_station = np.array(df_train[df_train['skn'] == skn][columns])\n",
    "    Ytrain_station = np.array(df_train[df_train['skn'] == skn]['data_in'])\n",
    "\n",
    "    Xtest_station = np.array(df_test[df_test['skn'] == skn][columns])\n",
    "    Ytest_station = np.array(df_test[df_test['skn'] == skn]['data_in'])\n",
    "\n",
    "    Xtrain_station = scaler.transform(Xtrain_station)\n",
    "    Xtest_station = scaler.transform(Xtest_station)\n",
    "    \n",
    "    # model_nn = define_hetero_model_normal(input_dim=len(columns), n_additional_layers_main=0, n_additional_layers_sub=0, n_units_main=216)\n",
    "    model_nn = define_model(input_dim=len(columns), n_layers=0, n_units=216)\n",
    "    model_nn.fit(Xtrain, Ytrain, epochs=50, verbose=False)\n",
    "    \n",
    "    # intermediate performance\n",
    "    # yhat_all = model_nn.predict(Xtest)\n",
    "    # mean_squared_error(Ytest, yhat_all, squared=False)\n",
    "    \n",
    "    model_nn.fit(Xtrain_station, Ytrain_station, epochs=100, verbose=False)\n",
    "    yhat_station = model_nn.predict(Xtest_station)\n",
    "    rmse_nn = mean_squared_error(Ytest_station, yhat_station, squared=False)\n",
    "    \n",
    "    # Linear Regression\n",
    "    linear_regression = LinearRegression()\n",
    "    linear_regression.fit(Xtrain_station, Ytrain_station)\n",
    "    yhat_linear_regression = linear_regression.predict(Xtest_station)\n",
    "    rmse_lr = mean_squared_error(Ytest_station, yhat_linear_regression, squared=False)\n",
    "    \n",
    "    print('Fold {}\\n LR: {:.10f}, NN: {:.10f}'.format(i, rmse_lr, rmse_nn))\n",
    "    ytrue.extend(Ytest_station)\n",
    "    yhat_lr.extend(yhat_linear_regression)\n",
    "    yhat_nn.extend(yhat_station)\n",
    "    \n",
    "    "
   ]
  },
  {
   "cell_type": "code",
   "execution_count": 70,
   "metadata": {},
   "outputs": [
    {
     "data": {
      "text/plain": [
       "(1.4993159280271473, 1.5366046591631417)"
      ]
     },
     "execution_count": 70,
     "metadata": {},
     "output_type": "execute_result"
    }
   ],
   "source": [
    "mean_squared_error(ytrue, yhat_nn, squared=False), mean_squared_error(ytrue, yhat_lr, squared=False)"
   ]
  },
  {
   "cell_type": "markdown",
   "metadata": {},
   "source": [
    "# Linear Regression"
   ]
  },
  {
   "cell_type": "code",
   "execution_count": 17,
   "metadata": {},
   "outputs": [],
   "source": [
    "columns = C_SINGLE\n",
    "\n",
    "# load datasets\n",
    "df_train = pd.read_csv(f\"{BASE_DIR}/train.csv\", usecols=columns + ['year', 'month', 'skn', 'data_in'])\n",
    "df_valid = pd.read_csv(f\"{BASE_DIR}/valid.csv\", usecols=columns + ['year', 'month', 'skn', 'data_in'])\n",
    "df_test = pd.read_csv(f\"{BASE_DIR}/test.csv\", usecols=columns + ['year', 'month', 'skn', 'data_in'])\n",
    "\n",
    "\n",
    "df_combined = pd.concat([df_train, df_valid, df_test])\n",
    "\n",
    "df_valid_skn = df_combined.groupby('skn').size().reset_index().rename(columns={0: \"n_data\"})\n",
    "df_valid_skn = df_valid_skn[df_valid_skn['n_data'] > 750]\n",
    "\n",
    "df_train = df_train.merge(df_valid_skn, left_on='skn', right_on='skn', how='inner')\n",
    "df_valid = df_valid.merge(df_valid_skn, left_on='skn', right_on='skn', how='inner')\n",
    "df_test = df_test.merge(df_valid_skn, left_on='skn', right_on='skn', how='inner')\n",
    "\n",
    "df_train = pd.concat([df_train, df_valid])"
   ]
  },
  {
   "cell_type": "code",
   "execution_count": 36,
   "metadata": {},
   "outputs": [
    {
     "name": "stdout",
     "output_type": "stream",
     "text": [
      "4.44\n"
     ]
    }
   ],
   "source": [
    "ytrue = []\n",
    "yhat = []\n",
    "for name, group in pd.concat([df_train, df_test]).groupby(by='skn'):\n",
    "    group.sort_values(['year', 'month'])\n",
    "    X = np.array(group[columns])\n",
    "    Y = np.array(group['data_in'])\n",
    "    \n",
    "    Xtrain, Xtest, Ytrain, Ytest = train_test_split(X, Y, shuffle=False)\n",
    "    linear_regression = LinearRegression()\n",
    "    linear_regression.fit(Xtrain, Ytrain)\n",
    "    ytrue.extend(Ytest)\n",
    "    yhat.extend(linear_regression.predict(Xtest))\n",
    "\n",
    "rmse = mean_squared_error(ytrue, yhat, squared=False)\n",
    "print(\"{:.2f}\".format(rmse))"
   ]
  },
  {
   "cell_type": "code",
   "execution_count": 37,
   "metadata": {},
   "outputs": [],
   "source": [
    "Xtrain = np.array(df_train[columns])\n",
    "Xtest = np.array(df_test[columns])\n",
    "\n",
    "Ytrain = np.array(df_train['data_in'])\n",
    "Ytest = np.array(df_test['data_in'])\n",
    "\n",
    "scaler = MinMaxScaler()\n",
    "Xtrain = scaler.fit_transform(Xtrain)\n",
    "Xtest = scaler.fit_transform(Xtest)"
   ]
  },
  {
   "cell_type": "code",
   "execution_count": 30,
   "metadata": {},
   "outputs": [
    {
     "name": "stdout",
     "output_type": "stream",
     "text": [
      "Epoch 1/50\n",
      "4929/4929 [==============================] - 6s 1ms/step - loss: 48.9633 - root_mean_squared_error: 6.9923\n",
      "Epoch 2/50\n",
      "4929/4929 [==============================] - 5s 1ms/step - loss: 42.6200 - root_mean_squared_error: 6.6472\n",
      "Epoch 3/50\n",
      "4929/4929 [==============================] - 5s 1ms/step - loss: 38.6071 - root_mean_squared_error: 6.4245\n",
      "Epoch 4/50\n",
      "4929/4929 [==============================] - 5s 1ms/step - loss: 36.1352 - root_mean_squared_error: 6.3102\n",
      "Epoch 5/50\n",
      "4929/4929 [==============================] - 5s 1ms/step - loss: 33.9483 - root_mean_squared_error: 6.2117\n",
      "Epoch 6/50\n",
      "4929/4929 [==============================] - 6s 1ms/step - loss: 31.9191 - root_mean_squared_error: 6.1156\n",
      "Epoch 7/50\n",
      "4929/4929 [==============================] - 6s 1ms/step - loss: 30.0986 - root_mean_squared_error: 6.0288\n",
      "Epoch 8/50\n",
      "4929/4929 [==============================] - 6s 1ms/step - loss: 28.6151 - root_mean_squared_error: 5.9666\n",
      "Epoch 9/50\n",
      "4929/4929 [==============================] - 5s 1ms/step - loss: 27.2001 - root_mean_squared_error: 5.9028\n",
      "Epoch 10/50\n",
      "4929/4929 [==============================] - 5s 1ms/step - loss: 26.0019 - root_mean_squared_error: 5.8590\n",
      "Epoch 11/50\n",
      "4929/4929 [==============================] - 5s 1ms/step - loss: 24.8898 - root_mean_squared_error: 5.8157\n",
      "Epoch 12/50\n",
      "4929/4929 [==============================] - 6s 1ms/step - loss: 23.7433 - root_mean_squared_error: 5.7633\n",
      "Epoch 13/50\n",
      "4929/4929 [==============================] - 6s 1ms/step - loss: 22.8865 - root_mean_squared_error: 5.7401\n",
      "Epoch 14/50\n",
      "4929/4929 [==============================] - 5s 1ms/step - loss: 22.0113 - root_mean_squared_error: 5.7105\n",
      "Epoch 15/50\n",
      "4929/4929 [==============================] - 5s 1ms/step - loss: 21.2622 - root_mean_squared_error: 5.6933\n",
      "Epoch 16/50\n",
      "4929/4929 [==============================] - 5s 1ms/step - loss: 20.5353 - root_mean_squared_error: 5.6741\n",
      "Epoch 17/50\n",
      "4929/4929 [==============================] - 5s 1ms/step - loss: 19.8297 - root_mean_squared_error: 5.6551\n",
      "Epoch 18/50\n",
      "4929/4929 [==============================] - 5s 1ms/step - loss: 19.0639 - root_mean_squared_error: 5.6208\n",
      "Epoch 19/50\n",
      "4929/4929 [==============================] - 5s 1ms/step - loss: 18.5333 - root_mean_squared_error: 5.6166\n",
      "Epoch 20/50\n",
      "4929/4929 [==============================] - 5s 1ms/step - loss: 17.9399 - root_mean_squared_error: 5.6015\n",
      "Epoch 21/50\n",
      "4929/4929 [==============================] - 5s 1ms/step - loss: 17.4025 - root_mean_squared_error: 5.5919\n",
      "Epoch 22/50\n",
      "4929/4929 [==============================] - 5s 1ms/step - loss: 16.8167 - root_mean_squared_error: 5.5711\n",
      "Epoch 23/50\n",
      "4929/4929 [==============================] - 5s 1ms/step - loss: 16.2170 - root_mean_squared_error: 5.5417\n",
      "Epoch 24/50\n",
      "4929/4929 [==============================] - 5s 1ms/step - loss: 15.7076 - root_mean_squared_error: 5.5247\n",
      "Epoch 25/50\n",
      "4929/4929 [==============================] - 5s 1ms/step - loss: 15.2748 - root_mean_squared_error: 5.5178\n",
      "Epoch 26/50\n",
      "4929/4929 [==============================] - 5s 1ms/step - loss: 14.7559 - root_mean_squared_error: 5.4923\n",
      "Epoch 27/50\n",
      "4929/4929 [==============================] - 5s 1ms/step - loss: 14.4179 - root_mean_squared_error: 5.4996\n",
      "Epoch 28/50\n",
      "4929/4929 [==============================] - 5s 1ms/step - loss: 13.8798 - root_mean_squared_error: 5.4601\n",
      "Epoch 29/50\n",
      "4929/4929 [==============================] - 5s 1ms/step - loss: 13.5061 - root_mean_squared_error: 5.4537\n",
      "Epoch 30/50\n",
      "4929/4929 [==============================] - 5s 1ms/step - loss: 13.1554 - root_mean_squared_error: 5.4473\n",
      "Epoch 31/50\n",
      "4929/4929 [==============================] - 5s 1ms/step - loss: 12.8070 - root_mean_squared_error: 5.4389\n",
      "Epoch 32/50\n",
      "4929/4929 [==============================] - 5s 1ms/step - loss: 12.4239 - root_mean_squared_error: 5.4187\n",
      "Epoch 33/50\n",
      "4929/4929 [==============================] - 5s 1ms/step - loss: 12.0892 - root_mean_squared_error: 5.4085\n",
      "Epoch 34/50\n",
      "4929/4929 [==============================] - 5s 1ms/step - loss: 11.7797 - root_mean_squared_error: 5.3998\n",
      "Epoch 35/50\n",
      "4929/4929 [==============================] - 5s 1ms/step - loss: 11.5005 - root_mean_squared_error: 5.3964\n",
      "Epoch 36/50\n",
      "4929/4929 [==============================] - 5s 1ms/step - loss: 11.2740 - root_mean_squared_error: 5.4044\n",
      "Epoch 37/50\n",
      "4929/4929 [==============================] - 5s 1ms/step - loss: 10.9145 - root_mean_squared_error: 5.3763\n",
      "Epoch 38/50\n",
      "4929/4929 [==============================] - 5s 1ms/step - loss: 10.6270 - root_mean_squared_error: 5.3623\n",
      "Epoch 39/50\n",
      "4929/4929 [==============================] - 5s 1ms/step - loss: 10.3619 - root_mean_squared_error: 5.3519\n",
      "Epoch 40/50\n",
      "4929/4929 [==============================] - 5s 1ms/step - loss: 10.1406 - root_mean_squared_error: 5.3514\n",
      "Epoch 41/50\n",
      "4929/4929 [==============================] - 5s 1ms/step - loss: 9.8675 - root_mean_squared_error: 5.3320\n",
      "Epoch 42/50\n",
      "4929/4929 [==============================] - 5s 1ms/step - loss: 9.6976 - root_mean_squared_error: 5.3422\n",
      "Epoch 43/50\n",
      "4929/4929 [==============================] - 5s 1ms/step - loss: 9.4514 - root_mean_squared_error: 5.3269\n",
      "Epoch 44/50\n",
      "4929/4929 [==============================] - 5s 1ms/step - loss: 9.2727 - root_mean_squared_error: 5.3323\n",
      "Epoch 45/50\n",
      "4929/4929 [==============================] - 5s 1ms/step - loss: 9.0555 - root_mean_squared_error: 5.3221\n",
      "Epoch 46/50\n",
      "4929/4929 [==============================] - 5s 1ms/step - loss: 8.8831 - root_mean_squared_error: 5.3247\n",
      "Epoch 47/50\n",
      "4929/4929 [==============================] - 5s 1ms/step - loss: 8.6426 - root_mean_squared_error: 5.2992\n",
      "Epoch 48/50\n",
      "4929/4929 [==============================] - 5s 1ms/step - loss: 8.4867 - root_mean_squared_error: 5.3040\n",
      "Epoch 49/50\n",
      "4929/4929 [==============================] - 5s 1ms/step - loss: 8.2913 - root_mean_squared_error: 5.2896\n",
      "Epoch 50/50\n",
      "4929/4929 [==============================] - 5s 1ms/step - loss: 8.1411 - root_mean_squared_error: 5.2906\n"
     ]
    },
    {
     "data": {
      "text/plain": [
       "<keras.callbacks.History at 0x2b294a6344f0>"
      ]
     },
     "execution_count": 30,
     "metadata": {},
     "output_type": "execute_result"
    }
   ],
   "source": [
    "model_nn = define_hetero_model_normal(input_dim=len(columns), n_additional_layers_main=0, n_additional_layers_sub=0, n_units_main=216)\n",
    "model_nn.fit(Xtrain, Ytrain, epochs=50)"
   ]
  },
  {
   "cell_type": "code",
   "execution_count": 38,
   "metadata": {},
   "outputs": [
    {
     "data": {
      "text/plain": [
       "7.223660901765741"
      ]
     },
     "execution_count": 38,
     "metadata": {},
     "output_type": "execute_result"
    }
   ],
   "source": [
    "yhat_all = model_nn.predict(Xtest)\n",
    "mean_squared_error(Ytest, yhat_all, squared=False)"
   ]
  },
  {
   "cell_type": "code",
   "execution_count": 40,
   "metadata": {},
   "outputs": [
    {
     "data": {
      "text/plain": [
       "<matplotlib.collections.PathCollection at 0x2b294acec370>"
      ]
     },
     "execution_count": 40,
     "metadata": {},
     "output_type": "execute_result"
    },
    {
     "data": {
      "image/png": "[encoded data removed]",
      "text/plain": [
       "<Figure size 432x288 with 1 Axes>"
      ]
     },
     "metadata": {
      "needs_background": "light"
     },
     "output_type": "display_data"
    }
   ],
   "source": [
    "fig, ax = plt.subplots(1)\n",
    "ax.scatter(Ytest, yhat_all, s=1)"
   ]
  },
  {
   "cell_type": "code",
   "execution_count": 45,
   "metadata": {},
   "outputs": [],
   "source": [
    "skn = 396\n",
    "Xtrain_station = np.array(df_train[df_train['skn'] == skn][columns])\n",
    "Xtest_station = np.array(df_test[df_test['skn'] == skn][columns])\n",
    "\n",
    "Ytrain_station = np.array(df_train[df_train['skn'] == skn]['data_in'])\n",
    "Ytest_station = np.array(df_test[df_test['skn'] == skn]['data_in'])\n",
    "\n",
    "Xtrain_station = scaler.fit_transform(Xtrain_station)\n",
    "Xtest_station = scaler.transform(Xtest_station)"
   ]
  },
  {
   "cell_type": "code",
   "execution_count": 52,
   "metadata": {},
   "outputs": [
    {
     "name": "stdout",
     "output_type": "stream",
     "text": [
      "Epoch 1/30\n",
      "34/34 [==============================] - 0s 1ms/step - loss: 1.7544 - root_mean_squared_error: 1.3971\n",
      "Epoch 2/30\n",
      "34/34 [==============================] - 0s 1ms/step - loss: 1.7518 - root_mean_squared_error: 1.3929\n",
      "Epoch 3/30\n",
      "34/34 [==============================] - 0s 1ms/step - loss: 1.7724 - root_mean_squared_error: 1.4231\n",
      "Epoch 4/30\n",
      "34/34 [==============================] - 0s 1ms/step - loss: 1.7903 - root_mean_squared_error: 1.4488\n",
      "Epoch 5/30\n",
      "34/34 [==============================] - 0s 1ms/step - loss: 1.7711 - root_mean_squared_error: 1.4215\n",
      "Epoch 6/30\n",
      "34/34 [==============================] - 0s 1ms/step - loss: 1.7499 - root_mean_squared_error: 1.3905\n",
      "Epoch 7/30\n",
      "34/34 [==============================] - 0s 1ms/step - loss: 1.7493 - root_mean_squared_error: 1.3895\n",
      "Epoch 8/30\n",
      "34/34 [==============================] - 0s 1ms/step - loss: 1.7443 - root_mean_squared_error: 1.3820\n",
      "Epoch 9/30\n",
      "34/34 [==============================] - 0s 1ms/step - loss: 1.7624 - root_mean_squared_error: 1.4088\n",
      "Epoch 10/30\n",
      "34/34 [==============================] - 0s 1ms/step - loss: 1.7609 - root_mean_squared_error: 1.4064\n",
      "Epoch 11/30\n",
      "34/34 [==============================] - 0s 1ms/step - loss: 1.7632 - root_mean_squared_error: 1.4098\n",
      "Epoch 12/30\n",
      "34/34 [==============================] - 0s 1ms/step - loss: 1.7673 - root_mean_squared_error: 1.4155\n",
      "Epoch 13/30\n",
      "34/34 [==============================] - 0s 1ms/step - loss: 1.7902 - root_mean_squared_error: 1.4488\n",
      "Epoch 14/30\n",
      "34/34 [==============================] - 0s 1ms/step - loss: 1.7439 - root_mean_squared_error: 1.3815\n",
      "Epoch 15/30\n",
      "34/34 [==============================] - 0s 1ms/step - loss: 1.7519 - root_mean_squared_error: 1.3933\n",
      "Epoch 16/30\n",
      "34/34 [==============================] - 0s 1ms/step - loss: 1.7602 - root_mean_squared_error: 1.4054\n",
      "Epoch 17/30\n",
      "34/34 [==============================] - 0s 1ms/step - loss: 1.7651 - root_mean_squared_error: 1.4123\n",
      "Epoch 18/30\n",
      "34/34 [==============================] - 0s 1ms/step - loss: 1.7640 - root_mean_squared_error: 1.4108\n",
      "Epoch 19/30\n",
      "34/34 [==============================] - 0s 1ms/step - loss: 1.7451 - root_mean_squared_error: 1.3833\n",
      "Epoch 20/30\n",
      "34/34 [==============================] - 0s 1ms/step - loss: 1.7498 - root_mean_squared_error: 1.3903\n",
      "Epoch 21/30\n",
      "34/34 [==============================] - 0s 1ms/step - loss: 1.7367 - root_mean_squared_error: 1.3707\n",
      "Epoch 22/30\n",
      "34/34 [==============================] - 0s 1ms/step - loss: 1.7285 - root_mean_squared_error: 1.3582\n",
      "Epoch 23/30\n",
      "34/34 [==============================] - 0s 1ms/step - loss: 1.7458 - root_mean_squared_error: 1.3843\n",
      "Epoch 24/30\n",
      "34/34 [==============================] - 0s 1ms/step - loss: 1.7623 - root_mean_squared_error: 1.4084\n",
      "Epoch 25/30\n",
      "34/34 [==============================] - 0s 1ms/step - loss: 1.7453 - root_mean_squared_error: 1.3833\n",
      "Epoch 26/30\n",
      "34/34 [==============================] - 0s 1ms/step - loss: 1.7850 - root_mean_squared_error: 1.4414\n",
      "Epoch 27/30\n",
      "34/34 [==============================] - 0s 1ms/step - loss: 1.7387 - root_mean_squared_error: 1.3735\n",
      "Epoch 28/30\n",
      "34/34 [==============================] - 0s 1ms/step - loss: 1.7207 - root_mean_squared_error: 1.3463\n",
      "Epoch 29/30\n",
      "34/34 [==============================] - 0s 1ms/step - loss: 1.7486 - root_mean_squared_error: 1.3884\n",
      "Epoch 30/30\n",
      "34/34 [==============================] - 0s 1ms/step - loss: 1.7320 - root_mean_squared_error: 1.3632\n"
     ]
    },
    {
     "data": {
      "text/plain": [
       "<keras.callbacks.History at 0x2b2953724070>"
      ]
     },
     "execution_count": 52,
     "metadata": {},
     "output_type": "execute_result"
    }
   ],
   "source": [
    "model_nn.fit(Xtrain_station, Ytrain_station, epochs=30)"
   ]
  },
  {
   "cell_type": "code",
   "execution_count": 53,
   "metadata": {},
   "outputs": [
    {
     "data": {
      "text/plain": [
       "1.8465228677078218"
      ]
     },
     "execution_count": 53,
     "metadata": {},
     "output_type": "execute_result"
    }
   ],
   "source": [
    "yhat_station = model_nn.predict(Xtest_station)\n",
    "mean_squared_error(Ytest_station, yhat_station)"
   ]
  },
  {
   "cell_type": "code",
   "execution_count": 55,
   "metadata": {},
   "outputs": [
    {
     "data": {
      "text/plain": [
       "<matplotlib.collections.PathCollection at 0x2b2953716dd0>"
      ]
     },
     "execution_count": 55,
     "metadata": {},
     "output_type": "execute_result"
    },
    {
     "data": {
      "image/png": "[encoded data removed]",
      "text/plain": [
       "<Figure size 432x288 with 1 Axes>"
      ]
     },
     "metadata": {
      "needs_background": "light"
     },
     "output_type": "display_data"
    }
   ],
   "source": [
    "fig, ax = plt.subplots(1)\n",
    "ax.scatter(Ytest_station, yhat_station, s=1)"
   ]
  },
  {
   "cell_type": "code",
   "execution_count": null,
   "metadata": {},
   "outputs": [],
   "source": []
  }
 ],
 "metadata": {
  "kernelspec": {
   "display_name": "tfp",
   "language": "python",
   "name": "tfp"
  },
  "language_info": {
   "codemirror_mode": {
    "name": "ipython",
    "version": 3
   },
   "file_extension": ".py",
   "mimetype": "text/x-python",
   "name": "python",
   "nbconvert_exporter": "python",
   "pygments_lexer": "ipython3",
   "version": "3.10.4"
  }
 },
 "nbformat": 4,
 "nbformat_minor": 4
}

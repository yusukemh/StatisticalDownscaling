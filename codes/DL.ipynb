{
 "cells": [
  {
   "cell_type": "code",
   "execution_count": 1,
   "metadata": {},
   "outputs": [
    {
     "name": "stderr",
     "output_type": "stream",
     "text": [
      "2022-05-07 22:24:54.939067: W tensorflow/stream_executor/platform/default/dso_loader.cc:64] Could not load dynamic library 'libcudart.so.11.0'; dlerror: libcudart.so.11.0: cannot open shared object file: No such file or directory; LD_LIBRARY_PATH: /opt/apps/software/tools/nmap/7.80/lib\n",
      "/home/yusukemh/sadow_lts/personal/yusukemh/Anaconda3/envs/tfp/lib/python3.10/site-packages/xgboost/compat.py:36: FutureWarning: pandas.Int64Index is deprecated and will be removed from pandas in a future version. Use pandas.Index with the appropriate dtype instead.\n",
      "  from pandas import MultiIndex, Int64Index\n"
     ]
    }
   ],
   "source": [
    "# set the environment variable for warning\n",
    "import os\n",
    "os.environ['TF_CPP_MIN_LOG_LEVEL'] = '1'\n",
    "\n",
    "# enable autoreload\n",
    "%load_ext autoreload\n",
    "%autoreload 2\n",
    "\n",
    "# basic imports\n",
    "import numpy as np\n",
    "import pandas as pd\n",
    "import matplotlib.pyplot as plt\n",
    "\n",
    "# sklearn\n",
    "from sklearn.model_selection import train_test_split, KFold, cross_val_predict\n",
    "from sklearn.preprocessing import MinMaxScaler, StandardScaler\n",
    "from sklearn.linear_model import LinearRegression\n",
    "from sklearn.metrics import mean_squared_error\n",
    "\n",
    "#tensorflow\n",
    "import tensorflow as tf\n",
    "from tensorflow.keras.metrics import RootMeanSquaredError\n",
    "from tensorflow.keras.models import Model, Sequential\n",
    "from tensorflow.keras.wrappers.scikit_learn import KerasRegressor\n",
    "from tensorflow.keras.layers import Dense, Input, Concatenate, Dropout\n",
    "\n",
    "import tensorflow_probability as tfp\n",
    "tfd = tfp.distributions\n",
    "\n",
    "# others\n",
    "import cartopy.crs as ccrs\n",
    "import cartopy.mpl.ticker as cticker\n",
    "from copy import deepcopy\n",
    "from xgboost import XGBRegressor\n",
    "import sys\n",
    "\n",
    "# Variables from config file\n",
    "sys.path.append('/home/yusukemh/github/yusukemh/StatisticalDownscaling/codes/')\n",
    "from config import BASE_DIR, FILE_NAMES, LABELS, ATTRIBUTES, BEST_MODEL_COLUMNS, ISLAND_RANGES, C_SINGLE, C_INT50, C_INT100, C_GRID\n",
    "\n",
    "# util\n",
    "from util import cross_val_predict_for_nn"
   ]
  },
  {
   "cell_type": "markdown",
   "metadata": {},
   "source": [
    "# Conduct a test on the simplest case:\n",
    "- Only use non-filled, actual data\n",
    "- Experiment on a single station\n",
    "- Compare vanila NN against Linear Regression\n",
    "- only a single closest GCM variables are used"
   ]
  },
  {
   "cell_type": "code",
   "execution_count": 2,
   "metadata": {},
   "outputs": [],
   "source": [
    "# Split the stations by the number of samples available\n",
    "columns = C_SINGLE\n",
    "# load nonfilled dataset\n",
    "df_nonfilled = pd.read_csv(f\"{BASE_DIR}/nonfilled_dataset.csv\")"
   ]
  },
  {
   "cell_type": "code",
   "execution_count": 38,
   "metadata": {},
   "outputs": [
    {
     "name": "stdout",
     "output_type": "stream",
     "text": [
      "Station with skn: 396.0 was chosen out of all stations with more than 750 historical (non-filled) rainfall observations.\n",
      "There are 778 rainfall observations from this station.\n"
     ]
    }
   ],
   "source": [
    "# randomly select a station\n",
    "np.random.seed(42)\n",
    "# only use station with sufficient observations\n",
    "threshold = 750\n",
    "df_n_data = df_nonfilled.groupby('skn').size().reset_index().rename(columns={0:\"n_data\"})\n",
    "sample_skn = df_n_data[df_n_data['n_data'] > threshold]['skn'].sample().values[0]\n",
    "# sample_skn = 1114\n",
    "df_station = df_nonfilled[df_nonfilled['skn'] == sample_skn].sort_values(['year', 'month'])\n",
    "print(f'Station with skn: {sample_skn} was chosen out of all stations with more than {threshold} historical (non-filled) rainfall observations.')\n",
    "print(f\"There are {df_station.shape[0]} rainfall observations from this station.\")"
   ]
  },
  {
   "cell_type": "code",
   "execution_count": 39,
   "metadata": {},
   "outputs": [],
   "source": [
    "# define a NN model\n",
    "def define_model(input_dim=20, lr=0.005):\n",
    "    inputs = Input(shape=(input_dim,))\n",
    "    x = Dense(units=256, activation='relu')(inputs)\n",
    "    x = Dropout(rate=0.5)(x)\n",
    "    x = Dense(units=256, activation='relu')(x)\n",
    "    outputs = Dense(units=1, kernel_initializer='normal')(x)\n",
    "    \n",
    "    model = Model(inputs=inputs, outputs=outputs)\n",
    "    \n",
    "    model.compile(\n",
    "        optimizer=tf.optimizers.Adam(learning_rate=lr),\n",
    "        loss='mse',\n",
    "        metrics=[RootMeanSquaredError()]\n",
    "    )\n",
    "    \n",
    "    return model"
   ]
  },
  {
   "cell_type": "code",
   "execution_count": 40,
   "metadata": {},
   "outputs": [
    {
     "name": "stdout",
     "output_type": "stream",
     "text": [
      "mean number of epochs: 6.5\n",
      "Std: 2.247\n"
     ]
    }
   ],
   "source": [
    "# first, obtain general idea of how many epochs are needed to train.\n",
    "# use the entire dataset as training data to approximate the number of epochs needed with early stopping\n",
    "X = np.array(df_station[columns])\n",
    "Y = np.array(df_station['data_in'])\n",
    "Xtrain, Xvalid, Ytrain, Yvalid = train_test_split(X, Y, test_size=0.2)\n",
    "\n",
    "# scale the input data\n",
    "scaler = StandardScaler()\n",
    "Xtrain = scaler.fit_transform(Xtrain)\n",
    "Xvalid = scaler.transform(Xvalid)\n",
    "\n",
    "model = define_model(input_dim=len(columns), lr=0.005)\n",
    "\n",
    "callback = tf.keras.callbacks.EarlyStopping(monitor='val_loss', patience = 3, mode='min')\n",
    "epochs=100\n",
    "batch_size=64\n",
    "\n",
    "n_epochs = []\n",
    "n_iter = 50 # how many iterations to run for taking average for n_epochs\n",
    "for _ in range(n_iter):\n",
    "    history = model.fit(\n",
    "        Xtrain, Ytrain, epochs=epochs,\n",
    "        validation_data = (Xvalid, Yvalid),\n",
    "        callbacks=[callback],\n",
    "        batch_size=batch_size,\n",
    "        verbose=False\n",
    "    )\n",
    "\n",
    "    # use a trick to get the number of epochs the model has trained\n",
    "    n_epochs_trained = len(history.history['loss'])\n",
    "    # print(f\"# epochs trained: {n_epochs_trained}\")\n",
    "    n_epochs.append(n_epochs_trained)\n",
    "    print(f\"{_}/{n_iter}\", end='\\r')\n",
    "print(\"mean number of epochs: {:.2}\\nStd: {:.3f}\".format(np.mean(n_epochs), np.std(n_epochs)))"
   ]
  },
  {
   "cell_type": "code",
   "execution_count": 41,
   "metadata": {},
   "outputs": [
    {
     "name": "stdout",
     "output_type": "stream",
     "text": [
      "RMSE with NN: 1.402\n"
     ]
    }
   ],
   "source": [
    "# now fix the epoch, remove early stopping, and run cross_val_predict\n",
    "epochs = int(np.mean(n_epochs))\n",
    "\n",
    "yhat_nn = cross_val_predict_for_nn(# implemented in util.py\n",
    "    model=define_model(input_dim=len(columns), lr=0.005),\n",
    "    X=X, Y=Y,\n",
    "    callback=None,\n",
    "    batch_size=batch_size,\n",
    "    epochs=epochs,\n",
    "    early_stopping=False,\n",
    "    verbose=False\n",
    ")\n",
    "rmse_nn = mean_squared_error(Y, yhat_nn, squared=False)\n",
    "print(\"RMSE with NN: {:.3f}\".format(rmse_nn))"
   ]
  },
  {
   "cell_type": "code",
   "execution_count": 42,
   "metadata": {},
   "outputs": [
    {
     "name": "stdout",
     "output_type": "stream",
     "text": [
      "RMSE with LR: 1.535\n"
     ]
    }
   ],
   "source": [
    "linear_regression = LinearRegression()\n",
    "yhat_lr = cross_val_predict(linear_regression, X, Y, n_jobs=-1)\n",
    "rmse_lr = mean_squared_error(Y, yhat_lr, squared=False)\n",
    "print(\"RMSE with LR: {:.3f}\".format(rmse_lr))"
   ]
  },
  {
   "cell_type": "code",
   "execution_count": 43,
   "metadata": {},
   "outputs": [],
   "source": [
    "def run_single_experiment(skn, df_station, columns):\n",
    "    X = np.array(df_station[columns])\n",
    "    Y = np.array(df_station['data_in'])\n",
    "    \n",
    "    Xtrain, Xvalid, Ytrain, Yvalid = train_test_split(X, Y, test_size=0.2)\n",
    "    \n",
    "    # scale the input data\n",
    "    scaler = StandardScaler()\n",
    "    Xtrain = scaler.fit_transform(Xtrain)\n",
    "    Xvalid = scaler.transform(Xvalid)\n",
    "    \n",
    "    model = define_model(input_dim=len(columns), lr=0.005)\n",
    "    \n",
    "    callback = tf.keras.callbacks.EarlyStopping(monitor='val_loss', patience = 3, mode='min')\n",
    "    epochs=100\n",
    "    batch_size=64\n",
    "    \n",
    "    n_epochs = []\n",
    "    n_iter = 50\n",
    "    print(\"Estimating the # epochs\")\n",
    "    for _ in range(n_iter):\n",
    "        history = model.fit(\n",
    "            Xtrain, Ytrain, epochs=epochs,\n",
    "            validation_data = (Xvalid, Yvalid),\n",
    "            callbacks=[callback],\n",
    "            batch_size=batch_size,\n",
    "            verbose=False\n",
    "        )\n",
    "\n",
    "        # use a trick to get the number of epochs the model has trained\n",
    "        n_epochs_trained = len(history.history['loss'])\n",
    "        # print(f\"# epochs trained: {n_epochs_trained}\")\n",
    "        n_epochs.append(n_epochs_trained)\n",
    "        print(f\"{_}/{n_iter}\", end='\\r')\n",
    "    \n",
    "    print('done\\nTraining Linear Regression and NN')\n",
    "\n",
    "    # now fix the epoch, remove early stopping, and run cross_val_predict\n",
    "    epochs = int(np.mean(n_epochs))\n",
    "\n",
    "    yhat_nn = cross_val_predict_for_nn(# implemented in util.py\n",
    "        model=define_model(input_dim=len(columns), lr=0.005),\n",
    "        X=X, Y=Y,\n",
    "        callback=None,\n",
    "        batch_size=batch_size,\n",
    "        epochs=epochs,\n",
    "        early_stopping=False,\n",
    "        verbose=False\n",
    "    )\n",
    "    rmse_nn = mean_squared_error(Y, yhat_nn, squared=False)\n",
    "    print(\"RMSE with NN: {:.3f}\".format(rmse_nn))\n",
    "    \n",
    "    linear_regression = LinearRegression()\n",
    "    yhat_lr = cross_val_predict(linear_regression, X, Y, n_jobs=-1)\n",
    "    rmse_lr = mean_squared_error(Y, yhat_lr, squared=False)\n",
    "    print(\"RMSE with LR: {:.3f}\".format(rmse_lr))"
   ]
  },
  {
   "cell_type": "code",
   "execution_count": 44,
   "metadata": {},
   "outputs": [
    {
     "name": "stdout",
     "output_type": "stream",
     "text": [
      "Estimating the # epochs\n",
      "done0\n",
      "Training Linear Regression and NN\n",
      "RMSE with NN: 1.374\n",
      "RMSE with LR: 1.535\n"
     ]
    }
   ],
   "source": [
    "run_single_experiment(sample_skn, df_station, C_SINGLE)"
   ]
  },
  {
   "cell_type": "markdown",
   "metadata": {},
   "source": [
    "<hr>"
   ]
  },
  {
   "cell_type": "code",
   "execution_count": 45,
   "metadata": {
    "collapsed": true,
    "jupyter": {
     "outputs_hidden": true
    }
   },
   "outputs": [
    {
     "name": "stdout",
     "output_type": "stream",
     "text": [
      "running experiment on 54.0\n",
      "Estimating the # epochs\n",
      "done0\n",
      "Training Linear Regression and NN\n",
      "RMSE with NN: 5.001\n",
      "RMSE with LR: 5.077\n",
      "0/24\n",
      "running experiment on 79.0\n",
      "Estimating the # epochs\n",
      "done0\n",
      "Training Linear Regression and NN\n",
      "RMSE with NN: 5.945\n",
      "RMSE with LR: 5.852\n",
      "1/24\n",
      "running experiment on 87.0\n",
      "Estimating the # epochs\n",
      "done0\n",
      "Training Linear Regression and NN\n",
      "RMSE with NN: 5.091\n",
      "RMSE with LR: 5.277\n",
      "2/24\n",
      "running experiment on 250.0\n",
      "Estimating the # epochs\n",
      "done0\n",
      "Training Linear Regression and NN\n",
      "RMSE with NN: 1.977\n",
      "RMSE with LR: 2.053\n",
      "3/24\n",
      "running experiment on 267.0\n",
      "Estimating the # epochs\n",
      "done0\n",
      "Training Linear Regression and NN\n",
      "RMSE with NN: 2.108\n",
      "RMSE with LR: 2.231\n",
      "4/24\n",
      "running experiment on 296.1\n",
      "Estimating the # epochs\n",
      "done0\n",
      "Training Linear Regression and NN\n",
      "RMSE with NN: 1.377\n",
      "RMSE with LR: 1.512\n",
      "5/24\n",
      "running experiment on 311.0\n",
      "Estimating the # epochs\n",
      "done0\n",
      "Training Linear Regression and NN\n",
      "RMSE with NN: 1.248\n",
      "RMSE with LR: 1.362\n",
      "6/24\n",
      "running experiment on 338.0\n",
      "Estimating the # epochs\n",
      "done0\n",
      "Training Linear Regression and NN\n",
      "RMSE with NN: 3.889\n",
      "RMSE with LR: 4.153\n",
      "7/24\n",
      "running experiment on 396.0\n",
      "Estimating the # epochs\n",
      "done0\n",
      "Training Linear Regression and NN\n",
      "RMSE with NN: 1.356\n",
      "RMSE with LR: 1.535\n",
      "8/24\n",
      "running experiment on 400.0\n",
      "Estimating the # epochs\n",
      "done0\n",
      "Training Linear Regression and NN\n",
      "RMSE with NN: 1.524\n",
      "RMSE with LR: 1.606\n",
      "9/24\n",
      "running experiment on 406.0\n",
      "Estimating the # epochs\n",
      "done0\n",
      "Training Linear Regression and NN\n",
      "RMSE with NN: 1.618\n",
      "RMSE with LR: 1.763\n",
      "10/24\n",
      "running experiment on 410.0\n",
      "Estimating the # epochs\n",
      "done0\n",
      "Training Linear Regression and NN\n",
      "RMSE with NN: 1.595\n",
      "RMSE with LR: 1.671\n",
      "11/24\n",
      "running experiment on 485.0\n",
      "Estimating the # epochs\n",
      "done0\n",
      "Training Linear Regression and NN\n",
      "RMSE with NN: 2.098\n",
      "RMSE with LR: 2.187\n",
      "12/24\n",
      "running experiment on 702.7\n",
      "Estimating the # epochs\n",
      "done0\n",
      "Training Linear Regression and NN\n",
      "RMSE with NN: 1.777\n",
      "RMSE with LR: 1.802\n",
      "13/24\n",
      "running experiment on 703.0\n",
      "Estimating the # epochs\n",
      "done0\n",
      "Training Linear Regression and NN\n",
      "RMSE with NN: 1.854\n",
      "RMSE with LR: 1.955\n",
      "14/24\n",
      "running experiment on 718.0\n",
      "Estimating the # epochs\n",
      "done0\n",
      "Training Linear Regression and NN\n",
      "RMSE with NN: 5.121\n",
      "RMSE with LR: 5.002\n",
      "15/24\n",
      "running experiment on 770.0\n",
      "Estimating the # epochs\n",
      "done0\n",
      "Training Linear Regression and NN\n",
      "RMSE with NN: 2.081\n",
      "RMSE with LR: 2.193\n",
      "16/24\n",
      "running experiment on 783.0\n",
      "Estimating the # epochs\n",
      "done0\n",
      "Training Linear Regression and NN\n",
      "RMSE with NN: 4.396\n",
      "RMSE with LR: 4.374\n",
      "17/24\n",
      "running experiment on 784.0\n",
      "Estimating the # epochs\n",
      "done0\n",
      "Training Linear Regression and NN\n",
      "RMSE with NN: 5.404\n",
      "RMSE with LR: 5.356\n",
      "18/24\n",
      "running experiment on 965.0\n",
      "Estimating the # epochs\n",
      "done0\n",
      "Training Linear Regression and NN\n",
      "RMSE with NN: 1.730\n",
      "RMSE with LR: 1.940\n",
      "19/24\n",
      "running experiment on 1020.1\n",
      "Estimating the # epochs\n",
      "done0\n",
      "Training Linear Regression and NN\n",
      "RMSE with NN: 2.374\n",
      "RMSE with LR: 2.539\n",
      "20/24\n",
      "running experiment on 1075.0\n",
      "Estimating the # epochs\n",
      "done0\n",
      "Training Linear Regression and NN\n",
      "RMSE with NN: 3.860\n",
      "RMSE with LR: 4.058\n",
      "21/24\n",
      "running experiment on 1117.0\n",
      "Estimating the # epochs\n",
      "done0\n",
      "Training Linear Regression and NN\n",
      "RMSE with NN: 3.634\n",
      "RMSE with LR: 3.615\n",
      "22/24\n",
      "running experiment on 1134.0\n",
      "Estimating the # epochs\n",
      "done0\n",
      "Training Linear Regression and NN\n",
      "RMSE with NN: 3.525\n",
      "RMSE with LR: 3.588\n",
      "23/24\n"
     ]
    }
   ],
   "source": [
    "# Now do the experiment over all the stations with more than 750 rainfall observations\n",
    "n_stations = df_n_data[df_n_data['n_data'] > threshold].shape[0]\n",
    "for i, skn in enumerate(df_n_data[df_n_data['n_data'] > threshold]['skn']):\n",
    "    print(f\"running experiment on {skn}\")\n",
    "    df_station = df_nonfilled[df_nonfilled['skn'] == skn].sort_values(['year', 'month'])\n",
    "    run_single_experiment(skn, df_station, C_SINGLE)\n",
    "    print(f\"{i}/{n_stations}\")"
   ]
  },
  {
   "cell_type": "markdown",
   "metadata": {},
   "source": [
    "## Heteroskedastick regression"
   ]
  },
  {
   "cell_type": "code",
   "execution_count": 46,
   "metadata": {},
   "outputs": [
    {
     "name": "stdout",
     "output_type": "stream",
     "text": [
      "Station with skn: 396.0 was chosen out of all stations with more than 750 historical (non-filled) rainfall observations.\n",
      "There are 778 rainfall observations from this station.\n"
     ]
    }
   ],
   "source": [
    "# Split the stations by the number of samples available\n",
    "columns = C_SINGLE\n",
    "# load nonfilled dataset\n",
    "df_nonfilled = pd.read_csv(f\"{BASE_DIR}/nonfilled_dataset.csv\")\n",
    "\n",
    "# randomly select a station\n",
    "np.random.seed(42)\n",
    "# only use station with sufficient observations\n",
    "threshold = 750\n",
    "df_n_data = df_nonfilled.groupby('skn').size().reset_index().rename(columns={0:\"n_data\"})\n",
    "sample_skn = df_n_data[df_n_data['n_data'] > threshold]['skn'].sample().values[0]\n",
    "# sample_skn = 1114\n",
    "df_station = df_nonfilled[df_nonfilled['skn'] == sample_skn].sort_values(['year', 'month'])\n",
    "print(f'Station with skn: {sample_skn} was chosen out of all stations with more than {threshold} historical (non-filled) rainfall observations.')\n",
    "print(f\"There are {df_station.shape[0]} rainfall observations from this station.\")"
   ]
  },
  {
   "cell_type": "code",
   "execution_count": 47,
   "metadata": {},
   "outputs": [],
   "source": [
    "def define_hetero_model(num_inputs=20, lr=0.0065):\n",
    "    inputs = Input(shape=(num_inputs,))\n",
    "    x = Dense(units=512, activation='relu', kernel_initializer='normal')(inputs)\n",
    "#    x = Dropout(rate=0.5)(x)\n",
    "    x = Dense(units=512, activation='relu', kernel_initializer='normal')(x)\n",
    "    x = Dropout(rate=0.5)(x)\n",
    "    x = Dense(units=512, activation='relu', kernel_initializer='normal')(x)\n",
    "    x = Dropout(rate=0.5)(x)\n",
    "    \n",
    "    m = Dense(units=256, activation='relu', kernel_initializer='normal')(x)\n",
    "#    m = Dropout(rate=0.3)(m)\n",
    "    m = Dense(units=1, activation='linear', kernel_initializer='normal')(m)\n",
    "    \n",
    "    s = Dense(units=256, activation='relu', kernel_initializer='normal')(x)\n",
    "    s = Dense(units=1, activation='linear', kernel_initializer='normal')(s)\n",
    "    \n",
    "    ms = Concatenate(axis=-1)([m, s])\n",
    "    outputs = tfp.layers.DistributionLambda(\n",
    "        make_distribution_fn=lambda t: tfd.Normal(\n",
    "            loc=2.5 * t[...,0] + 0.01, scale=tf.math.softplus(0.001*t[...,1]+0.03)#this part is important\n",
    "        ),\n",
    "        convert_to_tensor_fn=lambda s: s.mean()\n",
    "    )(ms)\n",
    "    # print(type(outputs))\n",
    "    \n",
    "    model = Model(inputs=inputs, outputs=outputs)\n",
    "    \n",
    "    model.compile(\n",
    "        optimizer=tf.optimizers.Adam(learning_rate=lr),\n",
    "        loss=lambda y, p_y: -p_y.log_prob(y),\n",
    "        metrics=[RootMeanSquaredError()]\n",
    "    )\n",
    "    \n",
    "    return model"
   ]
  },
  {
   "cell_type": "code",
   "execution_count": 48,
   "metadata": {},
   "outputs": [
    {
     "name": "stdout",
     "output_type": "stream",
     "text": [
      "mean number of epochs: 8.9\n",
      "Std: 6.518\n"
     ]
    }
   ],
   "source": [
    "# first, obtain general idea of how many epochs are needed to train.\n",
    "# use the entire dataset as training data to approximate the number of epochs needed with early stopping\n",
    "X = np.array(df_station[columns])\n",
    "Y = np.array(df_station['data_in'])\n",
    "Xtrain, Xvalid, Ytrain, Yvalid = train_test_split(X, Y, test_size=0.2)\n",
    "\n",
    "# scale the input data\n",
    "scaler = StandardScaler()\n",
    "Xtrain = scaler.fit_transform(Xtrain)\n",
    "Xvalid = scaler.transform(Xvalid)\n",
    "\n",
    "model = define_hetero_model(num_inputs=len(columns), lr=0.0005)\n",
    "\n",
    "callback = tf.keras.callbacks.EarlyStopping(monitor='val_loss', patience = 5, mode='min')\n",
    "epochs=300\n",
    "batch_size=64\n",
    "\n",
    "n_epochs = []\n",
    "n_iter = 30 # how many iterations to run for taking average for n_epochs\n",
    "for _ in range(n_iter):\n",
    "    history = model.fit(# do i need to initialize the model every time?\n",
    "        Xtrain, Ytrain, epochs=epochs,\n",
    "        validation_data = (Xvalid, Yvalid),\n",
    "        callbacks=[callback],\n",
    "        batch_size=batch_size,\n",
    "        verbose=False\n",
    "    )\n",
    "\n",
    "    # use a trick to get the number of epochs the model has trained\n",
    "    n_epochs_trained = len(history.history['loss'])\n",
    "    # print(f\"# epochs trained: {n_epochs_trained}\")\n",
    "    n_epochs.append(n_epochs_trained)\n",
    "    print(f\"{_}/{n_iter}\", end='\\r')\n",
    "print(\"mean number of epochs: {:.2}\\nStd: {:.3f}\".format(np.mean(n_epochs), np.std(n_epochs)))"
   ]
  },
  {
   "cell_type": "code",
   "execution_count": 49,
   "metadata": {},
   "outputs": [
    {
     "name": "stdout",
     "output_type": "stream",
     "text": [
      "RMSE with NN: 1.347\n"
     ]
    }
   ],
   "source": [
    "# now fix the epoch, remove early stopping, and run cross_val_predict\n",
    "epochs = int(np.mean(n_epochs))\n",
    "n_ensamble = 10\n",
    "y_preds = []\n",
    "for _ in range(n_ensamble):\n",
    "    yhat_nn = cross_val_predict_for_nn(# implemented in util.py\n",
    "        model=define_hetero_model(num_inputs=len(columns), lr=0.0005),\n",
    "        X=X, Y=Y,\n",
    "        callback=None,\n",
    "        batch_size=batch_size,\n",
    "        epochs=epochs,\n",
    "        early_stopping=False,\n",
    "        verbose=False\n",
    "    )\n",
    "    y_preds.append(yhat_nn)\n",
    "    print(f\"{_+1}/{n_ensamble}\", end='\\r')\n",
    "mean_pred = np.mean(y_preds, axis=0)\n",
    "rmse_nn = mean_squared_error(Y, mean_pred, squared=False)\n",
    "print(\"RMSE with NN: {:.3f}\".format(rmse_nn))"
   ]
  },
  {
   "cell_type": "code",
   "execution_count": 50,
   "metadata": {},
   "outputs": [
    {
     "name": "stdout",
     "output_type": "stream",
     "text": [
      "RMSE with LR: 1.535\n"
     ]
    }
   ],
   "source": [
    "linear_regression = LinearRegression()\n",
    "yhat_lr = cross_val_predict(linear_regression, X, Y, n_jobs=-1)\n",
    "rmse_lr = mean_squared_error(Y, yhat_lr, squared=False)\n",
    "print(\"RMSE with LR: {:.3f}\".format(rmse_lr))"
   ]
  },
  {
   "cell_type": "code",
   "execution_count": 51,
   "metadata": {},
   "outputs": [
    {
     "data": {
      "text/plain": [
       "<matplotlib.legend.Legend at 0x2ba6225736d0>"
      ]
     },
     "execution_count": 51,
     "metadata": {},
     "output_type": "execute_result"
    },
    {
     "data": {
      "image/png": "[encoded data removed]",
      "text/plain": [
       "<Figure size 432x288 with 1 Axes>"
      ]
     },
     "metadata": {
      "needs_background": "light"
     },
     "output_type": "display_data"
    }
   ],
   "source": [
    "fig, ax = plt.subplots(1)\n",
    "ax.scatter(Y, yhat_lr, s=0.5, color='k', label='linear')\n",
    "ax.scatter(Y, mean_pred, s=0.5, color='y', label='NN')\n",
    "ax.plot([0, 20], [0, 20])\n",
    "ax.set_aspect('equal')\n",
    "ax.legend()"
   ]
  },
  {
   "cell_type": "markdown",
   "metadata": {},
   "source": [
    "# Use grid data"
   ]
  },
  {
   "cell_type": "code",
   "execution_count": 2,
   "metadata": {},
   "outputs": [],
   "source": [
    "# load datasets\n",
    "df_train = pd.read_csv(f\"{BASE_DIR}/train.csv\")\n",
    "df_valid = pd.read_csv(f\"{BASE_DIR}/valid.csv\")\n",
    "df_test = pd.read_csv(f\"{BASE_DIR}/test.csv\")\n",
    "df_combined = pd.concat([df_train, df_valid, df_test])\n",
    "df_nonfilled = pd.read_csv(f\"{BASE_DIR}/nonfilled_dataset.csv\")"
   ]
  },
  {
   "cell_type": "code",
   "execution_count": 3,
   "metadata": {},
   "outputs": [],
   "source": [
    "df_grid = df_nonfilled.merge(\n",
    "    right=df_combined,\n",
    "    left_on=['year', 'month', 'skn', 'lat', 'lon', 'elevation', 'season_wet', 'data_in'],\n",
    "    right_on=['year', 'month', 'skn', 'lat', 'lon', 'elevation', 'season_wet', 'data_in']\n",
    ")"
   ]
  },
  {
   "cell_type": "code",
   "execution_count": 4,
   "metadata": {},
   "outputs": [
    {
     "name": "stdout",
     "output_type": "stream",
     "text": [
      "Station with skn: 396.0 was chosen out of all stations with more than 750 historical (non-filled) rainfall observations.\n",
      "There are 778 rainfall observations from this station.\n"
     ]
    }
   ],
   "source": [
    "# Split the stations by the number of samples available\n",
    "columns = C_GRID\n",
    "\n",
    "# randomly select a station\n",
    "np.random.seed(42)\n",
    "# only use station with sufficient observations\n",
    "threshold = 750\n",
    "df_n_data = df_grid.groupby('skn').size().reset_index().rename(columns={0:\"n_data\"})\n",
    "sample_skn = df_n_data[df_n_data['n_data'] > threshold]['skn'].sample().values[0]\n",
    "# sample_skn = 1114\n",
    "df_station = df_grid[df_grid['skn'] == sample_skn].sort_values(['year', 'month'])\n",
    "print(f'Station with skn: {sample_skn} was chosen out of all stations with more than {threshold} historical (non-filled) rainfall observations.')\n",
    "print(f\"There are {df_station.shape[0]} rainfall observations from this station.\")"
   ]
  },
  {
   "cell_type": "code",
   "execution_count": 8,
   "metadata": {},
   "outputs": [],
   "source": [
    "def define_hetero_model(num_inputs=20, lr=0.0065):\n",
    "    inputs = Input(shape=(num_inputs,))\n",
    "    x = Dense(units=1024, activation='relu', kernel_initializer='normal')(inputs)\n",
    "#    x = Dropout(rate=0.5)(x)\n",
    "    x = Dense(units=1024, activation='relu', kernel_initializer='normal')(x)\n",
    "    x = Dropout(rate=0.5)(x)\n",
    "    \n",
    "    m = Dense(units=512, activation='relu', kernel_initializer='normal')(x)\n",
    "#    m = Dropout(rate=0.3)(m)\n",
    "    m = Dense(units=1, activation='linear', kernel_initializer='normal')(m)\n",
    "    \n",
    "    s = Dense(units=512, activation='relu', kernel_initializer='normal')(x)\n",
    "    s = Dense(units=1, activation='linear', kernel_initializer='normal', kernel_regularizer=tf.keras.regularizers.L2(l2=100))(s)\n",
    "    #s = Dense(units=1, activation='linear', kernel_initializer='normal')(s)\n",
    "    \n",
    "    ms = Concatenate(axis=-1)([m, s])\n",
    "    outputs = tfp.layers.DistributionLambda(\n",
    "        make_distribution_fn=lambda t: tfd.Normal(\n",
    "            loc=2.5 * t[...,0] + 0.01, scale=tf.math.softplus(0.001*t[...,1]+0.03)#this part is important\n",
    "            #loc=2.5 * t[...,0] + 0.01, scale=tf.math.softplus(t[...,1])#this part is important\n",
    "        ),\n",
    "        convert_to_tensor_fn=lambda s: s.mean()\n",
    "    )(ms)\n",
    "    # print(type(outputs))\n",
    "    \n",
    "    model = Model(inputs=inputs, outputs=outputs)\n",
    "    \n",
    "    model.compile(\n",
    "        optimizer=tf.optimizers.Adam(learning_rate=lr),\n",
    "        loss=lambda y, p_y: -p_y.log_prob(y),\n",
    "        metrics=[RootMeanSquaredError()]\n",
    "    )\n",
    "    \n",
    "    return model"
   ]
  },
  {
   "cell_type": "code",
   "execution_count": 9,
   "metadata": {},
   "outputs": [
    {
     "name": "stdout",
     "output_type": "stream",
     "text": [
      "mean number of epochs: 1.1e+01\n",
      "Std: 6.229\n"
     ]
    }
   ],
   "source": [
    "# first, obtain general idea of how many epochs are needed to train.\n",
    "# use the entire dataset as training data to approximate the number of epochs needed with early stopping\n",
    "X = np.array(df_station[columns])\n",
    "Y = np.array(df_station['data_in'])\n",
    "Xtrain, Xvalid, Ytrain, Yvalid = train_test_split(X, Y, test_size=0.2)\n",
    "\n",
    "# scale the input data\n",
    "scaler = StandardScaler()\n",
    "Xtrain = scaler.fit_transform(Xtrain)\n",
    "Xvalid = scaler.transform(Xvalid)\n",
    "\n",
    "model = define_hetero_model(num_inputs=len(columns), lr=0.0005)\n",
    "\n",
    "callback = tf.keras.callbacks.EarlyStopping(monitor='val_loss', patience = 5, mode='min')\n",
    "epochs=300\n",
    "batch_size=64\n",
    "\n",
    "n_epochs = []\n",
    "n_iter = 30 # how many iterations to run for taking average for n_epochs\n",
    "for _ in range(n_iter):\n",
    "    history = model.fit(# do i need to initialize the model every time?\n",
    "        Xtrain, Ytrain, epochs=epochs,\n",
    "        validation_data = (Xvalid, Yvalid),\n",
    "        callbacks=[callback],\n",
    "        batch_size=batch_size,\n",
    "        verbose=False\n",
    "    )\n",
    "\n",
    "    # use a trick to get the number of epochs the model has trained\n",
    "    n_epochs_trained = len(history.history['loss'])\n",
    "    # print(f\"# epochs trained: {n_epochs_trained}\")\n",
    "    n_epochs.append(n_epochs_trained)\n",
    "    print(f\"{_}/{n_iter}\", end='\\r')\n",
    "print(\"mean number of epochs: {:.2}\\nStd: {:.3f}\".format(np.mean(n_epochs), np.std(n_epochs)))"
   ]
  },
  {
   "cell_type": "code",
   "execution_count": 11,
   "metadata": {},
   "outputs": [
    {
     "name": "stdout",
     "output_type": "stream",
     "text": [
      "RMSE with NN: 1.177\n"
     ]
    }
   ],
   "source": [
    "# now fix the epoch, remove early stopping, and run cross_val_predict\n",
    "epochs = int(np.mean(n_epochs))\n",
    "n_ensamble = 10\n",
    "y_preds = []\n",
    "for _ in range(n_ensamble):\n",
    "    yhat_nn = cross_val_predict_for_nn(# implemented in util.py\n",
    "        model=define_hetero_model(num_inputs=len(columns), lr=0.0005),\n",
    "        X=X, Y=Y,\n",
    "        callback=None,\n",
    "        batch_size=batch_size,\n",
    "        epochs=epochs,\n",
    "        early_stopping=False,\n",
    "        verbose=False\n",
    "    )\n",
    "    y_preds.append(yhat_nn)\n",
    "    print(f\"{_+1}/{n_ensamble}\", end='\\r')\n",
    "mean_pred = np.mean(y_preds, axis=0)\n",
    "rmse_nn = mean_squared_error(Y, mean_pred, squared=False)\n",
    "print(\"RMSE with NN: {:.3f}\".format(rmse_nn))"
   ]
  },
  {
   "cell_type": "code",
   "execution_count": 87,
   "metadata": {},
   "outputs": [
    {
     "name": "stdout",
     "output_type": "stream",
     "text": [
      "RMSE with LR: 1.654\n"
     ]
    }
   ],
   "source": [
    "linear_regression = LinearRegression()\n",
    "yhat_lr = cross_val_predict(linear_regression, X, Y, n_jobs=-1)\n",
    "rmse_lr = mean_squared_error(Y, yhat_lr, squared=False)\n",
    "print(\"RMSE with LR: {:.3f}\".format(rmse_lr))"
   ]
  },
  {
   "cell_type": "markdown",
   "metadata": {},
   "source": [
    "# add noise"
   ]
  },
  {
   "cell_type": "code",
   "execution_count": 12,
   "metadata": {},
   "outputs": [],
   "source": [
    "# load datasets\n",
    "df_train = pd.read_csv(f\"{BASE_DIR}/train.csv\")\n",
    "df_valid = pd.read_csv(f\"{BASE_DIR}/valid.csv\")\n",
    "df_test = pd.read_csv(f\"{BASE_DIR}/test.csv\")\n",
    "df_combined = pd.concat([df_train, df_valid, df_test])\n",
    "df_nonfilled = pd.read_csv(f\"{BASE_DIR}/nonfilled_dataset.csv\")"
   ]
  },
  {
   "cell_type": "code",
   "execution_count": 13,
   "metadata": {},
   "outputs": [],
   "source": [
    "df_grid = df_nonfilled.merge(\n",
    "    right=df_combined,\n",
    "    left_on=['year', 'month', 'skn', 'lat', 'lon', 'elevation', 'season_wet', 'data_in'],\n",
    "    right_on=['year', 'month', 'skn', 'lat', 'lon', 'elevation', 'season_wet', 'data_in']\n",
    ")"
   ]
  },
  {
   "cell_type": "code",
   "execution_count": 14,
   "metadata": {},
   "outputs": [
    {
     "name": "stdout",
     "output_type": "stream",
     "text": [
      "Station with skn: 396.0 was chosen out of all stations with more than 750 historical (non-filled) rainfall observations.\n",
      "There are 778 rainfall observations from this station.\n"
     ]
    }
   ],
   "source": [
    "# Split the stations by the number of samples available\n",
    "columns = C_GRID\n",
    "\n",
    "# randomly select a station\n",
    "np.random.seed(42)\n",
    "# only use station with sufficient observations\n",
    "threshold = 750\n",
    "df_n_data = df_grid.groupby('skn').size().reset_index().rename(columns={0:\"n_data\"})\n",
    "sample_skn = df_n_data[df_n_data['n_data'] > threshold]['skn'].sample().values[0]\n",
    "# sample_skn = 1114\n",
    "df_station = df_grid[df_grid['skn'] == sample_skn].sort_values(['year', 'month'])\n",
    "print(f'Station with skn: {sample_skn} was chosen out of all stations with more than {threshold} historical (non-filled) rainfall observations.')\n",
    "print(f\"There are {df_station.shape[0]} rainfall observations from this station.\")"
   ]
  },
  {
   "cell_type": "code",
   "execution_count": 49,
   "metadata": {},
   "outputs": [
    {
     "name": "stdout",
     "output_type": "stream",
     "text": [
      "mean number of epochs: 1.1e+01\n",
      "Std: 8.330\n"
     ]
    }
   ],
   "source": [
    "# first, obtain general idea of how many epochs are needed to train.\n",
    "# use the entire dataset as training data to approximate the number of epochs needed with early stopping\n",
    "X = np.array(df_station[columns])\n",
    "Y = np.array(df_station['data_in'])\n",
    "Xtrain, Xvalid, Ytrain, Yvalid = train_test_split(X, Y, test_size=0.2)\n",
    "\n",
    "# scale the input data\n",
    "scaler = StandardScaler()\n",
    "Xtrain = scaler.fit_transform(Xtrain)\n",
    "Xvalid = scaler.transform(Xvalid)\n",
    "\n",
    "model = define_hetero_model(num_inputs=len(columns), lr=0.0005)\n",
    "\n",
    "callback = tf.keras.callbacks.EarlyStopping(monitor='val_loss', patience = 5, mode='min')\n",
    "epochs=300\n",
    "batch_size=64\n",
    "\n",
    "n_epochs = []\n",
    "n_iter = 30 # how many iterations to run for taking average for n_epochs\n",
    "for _ in range(n_iter):\n",
    "    history = model.fit(# do i need to initialize the model every time?\n",
    "        Xtrain, Ytrain, epochs=epochs,\n",
    "        validation_data = (Xvalid, Yvalid),\n",
    "        callbacks=[callback],\n",
    "        batch_size=batch_size,\n",
    "        verbose=False\n",
    "    )\n",
    "\n",
    "    # use a trick to get the number of epochs the model has trained\n",
    "    n_epochs_trained = len(history.history['loss'])\n",
    "    # print(f\"# epochs trained: {n_epochs_trained}\")\n",
    "    n_epochs.append(n_epochs_trained)\n",
    "    print(f\"{_}/{n_iter}\", end='\\r')\n",
    "print(\"mean number of epochs: {:.2}\\nStd: {:.3f}\".format(np.mean(n_epochs), np.std(n_epochs)))"
   ]
  },
  {
   "cell_type": "code",
   "execution_count": 50,
   "metadata": {},
   "outputs": [
    {
     "name": "stdout",
     "output_type": "stream",
     "text": [
      "RMSE with NN: 1.013\n"
     ]
    }
   ],
   "source": [
    "# now fix the epoch, remove early stopping, and run cross_val_predict\n",
    "epochs = int(np.mean(n_epochs))\n",
    "n_ensamble = 10\n",
    "y_preds = []\n",
    "for _ in range(n_ensamble):\n",
    "    yhat_nn = cross_val_predict_for_nn(# implemented in util.py\n",
    "        model=define_hetero_model(num_inputs=len(columns), lr=0.0005),\n",
    "        X=X, Y=Y,\n",
    "        callback=None,\n",
    "        batch_size=batch_size,\n",
    "        epochs=epochs,\n",
    "        early_stopping=False,\n",
    "        verbose=False,\n",
    "        add_noise=True\n",
    "    )\n",
    "    y_preds.append(yhat_nn)\n",
    "    print(f\"{_+1}/{n_ensamble}\", end='\\r')\n",
    "mean_pred = np.mean(y_preds, axis=0)\n",
    "rmse_nn = mean_squared_error(Y, mean_pred, squared=False)\n",
    "print(\"RMSE with NN: {:.3f}\".format(rmse_nn))"
   ]
  },
  {
   "cell_type": "code",
   "execution_count": 51,
   "metadata": {},
   "outputs": [
    {
     "name": "stdout",
     "output_type": "stream",
     "text": [
      "RMSE with LR: 1.654\n"
     ]
    }
   ],
   "source": [
    "linear_regression = LinearRegression()\n",
    "yhat_lr = cross_val_predict(linear_regression, X, Y, n_jobs=-1)\n",
    "rmse_lr = mean_squared_error(Y, yhat_lr, squared=False)\n",
    "print(\"RMSE with LR: {:.3f}\".format(rmse_lr))"
   ]
  },
  {
   "cell_type": "code",
   "execution_count": 54,
   "metadata": {},
   "outputs": [
    {
     "data": {
      "text/plain": [
       "<matplotlib.legend.Legend at 0x2b76c18d3910>"
      ]
     },
     "execution_count": 54,
     "metadata": {},
     "output_type": "execute_result"
    },
    {
     "data": {
      "image/png": "[encoded data removed]",
      "text/plain": [
       "<Figure size 432x288 with 1 Axes>"
      ]
     },
     "metadata": {
      "needs_background": "light"
     },
     "output_type": "display_data"
    }
   ],
   "source": [
    "fig, ax = plt.subplots(1)\n",
    "ax.scatter(Y, yhat_lr, s=0.5, color='b', label='linear')\n",
    "ax.scatter(Y, mean_pred, s=0.5, color='y', label='NN')\n",
    "ax.plot([0, 20], [0, 20])\n",
    "ax.set_aspect('equal')\n",
    "ax.legend()"
   ]
  },
  {
   "cell_type": "markdown",
   "metadata": {},
   "source": [
    "# early stopping, but every time, different train/validation split?"
   ]
  },
  {
   "cell_type": "markdown",
   "metadata": {},
   "source": [
    "<hr><hr><hr>\n",
    "\n",
    "# Disregard the rest\n",
    "<hr><hr><hr>"
   ]
  },
  {
   "cell_type": "markdown",
   "metadata": {},
   "source": [
    "# Try testing on a single station with simple single train/valid/test split"
   ]
  },
  {
   "cell_type": "code",
   "execution_count": 258,
   "metadata": {},
   "outputs": [
    {
     "name": "stdout",
     "output_type": "stream",
     "text": [
      "1114.0\n"
     ]
    }
   ],
   "source": [
    "skn = df_data['skn'].sample().values[0]\n",
    "print(f'{skn}')\n",
    "df_station = df_data[df_data['skn'] == skn]\n",
    "\n",
    "X = np.array(df_station[columns])\n",
    "Y = np.array(df_station['data_in'])\n",
    "\n",
    "Xtemp, Xtest, Ytemp, Ytest = train_test_split(X, Y, test_size=0.2, shuffle=False)\n",
    "Xtrain, Xvalid, Ytrain, Yvalid = train_test_split(Xtemp, Ytemp, test_size=0.2, shuffle=False)\n",
    "\n",
    "scaler = StandardScaler()\n",
    "\n",
    "Xtrain = scaler.fit_transform(Xtrain)\n",
    "Xvalid = scaler.transform(Xvalid)\n",
    "Xtest = scaler.transform(Xtest)"
   ]
  },
  {
   "cell_type": "code",
   "execution_count": 259,
   "metadata": {},
   "outputs": [
    {
     "name": "stdout",
     "output_type": "stream",
     "text": [
      "WARNING:tensorflow:5 out of the last 13 calls to <function Model.make_predict_function.<locals>.predict_function at 0x2b00ff79d9d0> triggered tf.function retracing. Tracing is expensive and the excessive number of tracings could be due to (1) creating @tf.function repeatedly in a loop, (2) passing tensors with different shapes, (3) passing Python objects instead of tensors. For (1), please define your @tf.function outside of the loop. For (2), @tf.function has experimental_relax_shapes=True option that relaxes argument shapes that can avoid unnecessary retracing. For (3), please refer to https://www.tensorflow.org/guide/function#controlling_retracing and https://www.tensorflow.org/api_docs/python/tf/function for  more details.\n",
      "2.6401822684077336\n"
     ]
    }
   ],
   "source": [
    "model = define_model()\n",
    "callback = tf.keras.callbacks.EarlyStopping(monitor='val_loss', patience = 5, mode='min')\n",
    "epochs=20\n",
    "\n",
    "history = model.fit(\n",
    "    Xtrain, Ytrain, \n",
    "    epochs=epochs, \n",
    "    validation_data = (Xvalid, Yvalid),\n",
    "    callbacks=[callback],\n",
    "    batch_size=64,\n",
    "    verbose=0\n",
    ")\n",
    "\n",
    "yhat = model.predict(Xtest)\n",
    "print(mean_squared_error(Ytest, yhat, squared=False))"
   ]
  },
  {
   "cell_type": "code",
   "execution_count": 260,
   "metadata": {},
   "outputs": [
    {
     "name": "stdout",
     "output_type": "stream",
     "text": [
      "2.839487093427457\n"
     ]
    }
   ],
   "source": [
    "linear_regression = LinearRegression()\n",
    "linear_regression.fit(Xtrain, Ytrain)\n",
    "yhat = linear_regression.predict(Xtest)\n",
    "\n",
    "print(mean_squared_error(Ytest, yhat, squared=False))"
   ]
  },
  {
   "cell_type": "code",
   "execution_count": 261,
   "metadata": {},
   "outputs": [
    {
     "name": "stdout",
     "output_type": "stream",
     "text": [
      "3.12209866513206\n"
     ]
    }
   ],
   "source": [
    "\n",
    "params = {'n_estimators': 260, 'learning_rate': 0.1, 'max_depth': 3, 'early_stopping_rounds': 8, 'verbosity': 0}\n",
    "xgboost = XGBRegressor(**params)\n",
    "\n",
    "xgboost.fit(Xtrain, Ytrain)\n",
    "yhat = xgboost.predict(Xtest)\n",
    "print(mean_squared_error(Ytest, yhat, squared=False))"
   ]
  },
  {
   "cell_type": "markdown",
   "metadata": {},
   "source": [
    "# Looks good. Now implement cross_val_predict for the NN model"
   ]
  },
  {
   "cell_type": "code",
   "execution_count": 21,
   "metadata": {},
   "outputs": [],
   "source": [
    "def cross_val_predict_for_nn(model, X, Y, callback, batch_size, epochs, verbose):\n",
    "    kf = KFold(n_splits=5)\n",
    "    y_pred = []\n",
    "\n",
    "    for train_index, test_index in kf.split(X):\n",
    "        Xtemp, Xtest = X[train_index], X[test_index]\n",
    "        Ytemp, Ytest = Y[train_index], Y[test_index]\n",
    "        \n",
    "        Xtrain, Xvalid, Ytrain, Yvalid = train_test_split(Xtemp, Ytemp, test_size=0.2, shuffle=True)\n",
    "        # print(Xtrain.shape, Xvalid.shape, Xtest.shape)\n",
    "        \n",
    "        # scale the input\n",
    "        scaler = StandardScaler()\n",
    "        Xtrain = scaler.fit_transform(Xtrain)\n",
    "        Xvalid = scaler.transform(Xvalid)\n",
    "        Xtest = scaler.transform(Xtest)\n",
    "        \n",
    "        model.fit(\n",
    "            Xtrain, Ytrain, epochs=epochs,\n",
    "            validation_data = (Xvalid, Yvalid),\n",
    "            callbacks=[callback],\n",
    "            batch_size=batch_size,\n",
    "            verbose=verbose\n",
    "        )\n",
    "        y_pred.extend(model.predict(Xtest).tolist())\n",
    "    \n",
    "    return np.array(y_pred)"
   ]
  },
  {
   "cell_type": "code",
   "execution_count": 315,
   "metadata": {},
   "outputs": [
    {
     "name": "stdout",
     "output_type": "stream",
     "text": [
      "2.0\n"
     ]
    },
    {
     "data": {
      "text/plain": [
       "2.271283341053673"
      ]
     },
     "execution_count": 315,
     "metadata": {},
     "output_type": "execute_result"
    }
   ],
   "source": [
    "skn = df_data['skn'].sample().values[0]\n",
    "print(f'{skn}')\n",
    "df_station = df_data[df_data['skn'] == skn]\n",
    "\n",
    "X = np.array(df_station[columns])\n",
    "Y = np.array(df_station['data_in'])\n",
    "\n",
    "model = define_model()\n",
    "callback = tf.keras.callbacks.EarlyStopping(monitor='val_loss', patience = 3, mode='min')\n",
    "epochs=20\n",
    "batch_size=64\n",
    "\n",
    "yhat = cross_val_predict_for_nn(model, X, Y, callback, batch_size, epochs, verbose=0)\n",
    "mean_squared_error(Y, yhat, squared=False)"
   ]
  },
  {
   "cell_type": "code",
   "execution_count": 316,
   "metadata": {},
   "outputs": [
    {
     "data": {
      "text/plain": [
       "2.1039270543980253"
      ]
     },
     "execution_count": 316,
     "metadata": {},
     "output_type": "execute_result"
    }
   ],
   "source": [
    "yhat = cross_val_predict(LinearRegression(), X, Y, n_jobs=-1)\n",
    "mean_squared_error(Y, yhat, squared=False)"
   ]
  },
  {
   "cell_type": "code",
   "execution_count": 12,
   "metadata": {},
   "outputs": [
    {
     "data": {
      "text/plain": [
       "(550,)"
      ]
     },
     "execution_count": 12,
     "metadata": {},
     "output_type": "execute_result"
    }
   ],
   "source": [
    "df_data['skn'].unique().shape"
   ]
  },
  {
   "cell_type": "code",
   "execution_count": 13,
   "metadata": {},
   "outputs": [
    {
     "name": "stdout",
     "output_type": "stream",
     "text": [
      "549/550\r"
     ]
    }
   ],
   "source": [
    "# try on ten random stations\n",
    "list_df_results = []\n",
    "# n_samples = 100\n",
    "# skns = df_data['skn'].sample(n=n_samples).values\n",
    "params = {'n_estimators': 260, 'learning_rate': 0.1, 'max_depth': 3, 'early_stopping_rounds': 8, 'verbosity': 0}\n",
    "skns = df_data['skn'].unique()\n",
    "n_samples = skns.shape[0]\n",
    "for i, skn in enumerate(skns):\n",
    "    df_station = df_data[df_data['skn'] == skn]\n",
    "\n",
    "    X = np.array(df_station[columns])\n",
    "    Y = np.array(df_station['data_in'])\n",
    "\n",
    "    model = define_model()\n",
    "    callback = tf.keras.callbacks.EarlyStopping(monitor='val_loss', patience = 3, mode='min')\n",
    "    epochs=20\n",
    "    batch_size=64\n",
    "\n",
    "    yhat_nn = cross_val_predict_for_nn(model, X, Y, callback, batch_size, epochs, verbose=0)\n",
    "    rmse_nn = mean_squared_error(Y, yhat_nn, squared=False)\n",
    "    \n",
    "    yhat_lr = cross_val_predict(LinearRegression(), X, Y, n_jobs=-1)\n",
    "    rmse_lr = mean_squared_error(Y, yhat_lr, squared=False)\n",
    "    \n",
    "    yhat_xgb = cross_val_predict(XGBRegressor(**params), X, Y, n_jobs=-1)\n",
    "    rmse_xgb = mean_squared_error(Y, yhat_xgb, squared=False)\n",
    "    \n",
    "    list_df_results.append(\n",
    "        pd.DataFrame({\n",
    "            \"skn\": [skn] * df_station.shape[0],\n",
    "            \"data_in\": Y,\n",
    "            \"pred_nn\": yhat_nn.reshape(-1,),\n",
    "            \"pred_lr\": yhat_lr,\n",
    "            \"pred_xgb\": yhat_xgb\n",
    "        })\n",
    "    )\n",
    "    #print(f\"SKN: {skn}\")\n",
    "    #print(\"RMSE on NN : {:.3f}\\nRMSE on LR : {:.3f}\\nRMSE on XGB: {:.3f}\".format(rmse_nn, rmse_lr, rmse_xgb))\n",
    "    print(f\"{i}/{n_samples}\", end='\\r')\n",
    "df_results = pd.concat(list_df_results)"
   ]
  },
  {
   "cell_type": "code",
   "execution_count": 21,
   "metadata": {},
   "outputs": [],
   "source": [
    "df_results.to_csv(f\"{BASE_DIR}/NN/base_model_result.csv\", index=False)"
   ]
  },
  {
   "cell_type": "markdown",
   "metadata": {},
   "source": [
    "<hr>"
   ]
  },
  {
   "cell_type": "code",
   "execution_count": 4,
   "metadata": {},
   "outputs": [],
   "source": [
    "df_results = pd.read_csv(f\"{BASE_DIR}/NN/base_model_result.csv\")"
   ]
  },
  {
   "cell_type": "code",
   "execution_count": 5,
   "metadata": {},
   "outputs": [
    {
     "data": {
      "text/plain": [
       "(3.4360513726657063, 3.4597299840862576, 3.7356976071956907)"
      ]
     },
     "execution_count": 5,
     "metadata": {},
     "output_type": "execute_result"
    }
   ],
   "source": [
    "rmse_nn = mean_squared_error(df_results['data_in'], df_results['pred_nn'], squared=False)\n",
    "rmse_lr = mean_squared_error(df_results['data_in'], df_results['pred_lr'], squared=False)\n",
    "rmse_xgb = mean_squared_error(df_results['data_in'], df_results['pred_xgb'], squared=False)\n",
    "\n",
    "rmse_nn, rmse_lr, rmse_xgb"
   ]
  },
  {
   "cell_type": "code",
   "execution_count": 6,
   "metadata": {},
   "outputs": [
    {
     "data": {
      "text/plain": [
       "<matplotlib.legend.Legend at 0x2b3980fa0370>"
      ]
     },
     "execution_count": 6,
     "metadata": {},
     "output_type": "execute_result"
    },
    {
     "data": {
      "image/png": "[encoded data removed]",
      "text/plain": [
       "<Figure size 432x288 with 1 Axes>"
      ]
     },
     "metadata": {
      "needs_background": "light"
     },
     "output_type": "display_data"
    }
   ],
   "source": [
    "fig, ax = plt.subplots(1)\n",
    "ax.scatter(df_results['data_in'], df_results['pred_xgb'], s=0.1, color='k', label='xgb')\n",
    "ax.scatter(df_results['data_in'], df_results['pred_lr'], s=0.1, color='b', label='Linear')\n",
    "ax.scatter(df_results['data_in'], df_results['pred_nn'], s=0.1, color='r', label='NN')\n",
    "ax.plot([0, 50], [0, 50])\n",
    "ax.set_aspect('equal')\n",
    "ax.legend()"
   ]
  },
  {
   "cell_type": "code",
   "execution_count": 7,
   "metadata": {},
   "outputs": [],
   "source": [
    "df_results_per_station = (\n",
    "    df_results.groupby('skn')\n",
    "    .apply(lambda group: mean_squared_error(group['data_in'], group['pred_nn'], squared=False))\n",
    "    .reset_index()\n",
    "    .rename(columns={0: \"rmse\"})\n",
    "    .sort_values(\"rmse\")\n",
    ")"
   ]
  },
  {
   "cell_type": "code",
   "execution_count": 8,
   "metadata": {},
   "outputs": [
    {
     "data": {
      "text/plain": [
       "<AxesSubplot:>"
      ]
     },
     "execution_count": 8,
     "metadata": {},
     "output_type": "execute_result"
    },
    {
     "data": {
      "image/png": "[encoded data removed]",
      "text/plain": [
       "<Figure size 432x288 with 1 Axes>"
      ]
     },
     "metadata": {
      "needs_background": "light"
     },
     "output_type": "display_data"
    }
   ],
   "source": [
    "df_results_per_station['rmse'].hist(bins=100)"
   ]
  },
  {
   "cell_type": "markdown",
   "metadata": {},
   "source": [
    "# Try heteroskedastic regression"
   ]
  },
  {
   "cell_type": "code",
   "execution_count": 80,
   "metadata": {},
   "outputs": [],
   "source": [
    "def define_hetero_model(num_inputs=20, lr=0.0065):\n",
    "    inputs = Input(shape=(num_inputs,))\n",
    "    x = Dense(units=16, activation='relu', kernel_initializer='normal')(inputs)\n",
    "    x = Dense(units=12, activation='relu', kernel_initializer='normal')(x)\n",
    "    x = Dense(units=8, activation='relu', kernel_initializer='normal')(x)\n",
    "#    x = Dropout(rate=0.3)(x)\n",
    "    \n",
    "    m = Dense(units=4, activation='relu', kernel_initializer='normal')(x)\n",
    "#    m = Dropout(rate=0.3)(m)\n",
    "    m = Dense(units=1, activation='linear', kernel_initializer='normal')(m)\n",
    "    \n",
    "    s = Dense(units=4, activation='relu', kernel_initializer='normal')(x)\n",
    "#    s = Dropout(rate=0.3)(s)\n",
    "    s = Dense(units=1, activation='linear', kernel_initializer='normal')(s)\n",
    "    \n",
    "    ms = Concatenate(axis=-1)([m, s])\n",
    "    outputs = tfp.layers.DistributionLambda(\n",
    "        make_distribution_fn=lambda t: tfd.Normal(\n",
    "            loc=t[...,0], scale=tf.math.softplus(t[...,1])#scale=tf.exp(t[..., 1])\n",
    "        ),\n",
    "        convert_to_tensor_fn=lambda s: s.mean()\n",
    "    )(ms)\n",
    "    # print(type(outputs))\n",
    "    \n",
    "    model = Model(inputs=inputs, outputs=outputs)\n",
    "    \n",
    "    model.compile(\n",
    "        optimizer=tf.optimizers.Adam(learning_rate=lr),\n",
    "        loss=lambda y, p_y: -p_y.log_prob(y),\n",
    "        metrics=[RootMeanSquaredError()]\n",
    "    )\n",
    "    \n",
    "    return model"
   ]
  },
  {
   "cell_type": "code",
   "execution_count": 81,
   "metadata": {},
   "outputs": [
    {
     "name": "stdout",
     "output_type": "stream",
     "text": [
      "station 774.1 has 431 samples\n",
      "3.7926162998934854\n",
      "4.034172788431675\n",
      "3.3909840519720076\n",
      "4.089041209360951\n",
      "3.9939947605864234\n",
      "overall: 3.7057628832079876\n",
      "avg rmse 3.8601618220489087\n"
     ]
    }
   ],
   "source": [
    "skn = df_data['skn'].sample().values[0]\n",
    "df_station = df_data[df_data['skn'] == skn]\n",
    "print(f'station {skn} has {df_station.shape[0]} samples')\n",
    "lr = 0.003\n",
    "\n",
    "X = np.array(df_station[columns[:-3]])\n",
    "Y = np.array(df_station['data_in'])\n",
    "\n",
    "callback = tf.keras.callbacks.EarlyStopping(monitor='val_loss', patience = 3, mode='min')\n",
    "epochs=20\n",
    "batch_size=64\n",
    "preds = []\n",
    "rmses = []\n",
    "for i in range(5):\n",
    "    print(f\"round {i}\", end='\\r')\n",
    "    model = define_hetero_model(num_inputs=len(columns[:-3]), lr=lr)\n",
    "    yhat = cross_val_predict_for_nn(model, X, Y, callback, batch_size, epochs, verbose=0)\n",
    "    preds.append(yhat)\n",
    "    rmse = mean_squared_error(Y, yhat, squared=False)\n",
    "    rmses.append(rmse)\n",
    "    print(rmse)\n",
    "yhat = np.array(preds).mean(axis=0)\n",
    "    \n",
    "print(\"overall:\", mean_squared_error(Y, yhat, squared=False))\n",
    "print(\"avg rmse\", np.array(rmses).mean())"
   ]
  },
  {
   "cell_type": "code",
   "execution_count": 82,
   "metadata": {},
   "outputs": [
    {
     "name": "stdout",
     "output_type": "stream",
     "text": [
      "774.1\n"
     ]
    },
    {
     "data": {
      "text/plain": [
       "3.4411540812463293"
      ]
     },
     "execution_count": 82,
     "metadata": {},
     "output_type": "execute_result"
    }
   ],
   "source": [
    "print(f'{skn}')\n",
    "df_station = df_data[df_data['skn'] == skn]\n",
    "\n",
    "X = np.array(df_station[columns])\n",
    "Y = np.array(df_station['data_in'])\n",
    "\n",
    "model = define_model(lr=lr)\n",
    "callback = tf.keras.callbacks.EarlyStopping(monitor='val_loss', patience = 3, mode='min')\n",
    "epochs=20\n",
    "batch_size=64\n",
    "\n",
    "yhat = cross_val_predict_for_nn(model, X, Y, callback, batch_size, epochs, verbose=0)\n",
    "mean_squared_error(Y, yhat, squared=False)"
   ]
  },
  {
   "cell_type": "code",
   "execution_count": 83,
   "metadata": {},
   "outputs": [
    {
     "name": "stdout",
     "output_type": "stream",
     "text": [
      "774.1\n"
     ]
    },
    {
     "data": {
      "text/plain": [
       "3.342773090850899"
      ]
     },
     "execution_count": 83,
     "metadata": {},
     "output_type": "execute_result"
    }
   ],
   "source": [
    "print(f'{skn}')\n",
    "df_station = df_data[df_data['skn'] == skn]\n",
    "\n",
    "X = np.array(df_station[columns])\n",
    "Y = np.array(df_station['data_in'])\n",
    "\n",
    "model = LinearRegression()\n",
    "\n",
    "# yhat = cross_val_predict_for_nn(model, X, Y, callback, batch_size, epochs, verbose=0)\n",
    "yhat = cross_val_predict(model, X, Y)\n",
    "mean_squared_error(Y, yhat, squared=False)"
   ]
  },
  {
   "cell_type": "code",
   "execution_count": 87,
   "metadata": {},
   "outputs": [
    {
     "name": "stdout",
     "output_type": "stream",
     "text": [
      "99/100\r"
     ]
    }
   ],
   "source": [
    "# try on ten random stations\n",
    "list_df_results = []\n",
    "n_samples = 100\n",
    "skns = df_data['skn'].sample(n=n_samples).values\n",
    "params = {'n_estimators': 260, 'learning_rate': 0.1, 'max_depth': 3, 'early_stopping_rounds': 8, 'verbosity': 0}\n",
    "# skns = df_data['skn'].unique()\n",
    "n_samples = skns.shape[0]\n",
    "for i, skn in enumerate(skns):\n",
    "    df_station = df_data[df_data['skn'] == skn]\n",
    "\n",
    "    X = np.array(df_station[columns])\n",
    "    Y = np.array(df_station['data_in'])\n",
    "\n",
    "    model = define_hetero_model()\n",
    "    callback = tf.keras.callbacks.EarlyStopping(monitor='val_loss', patience = 3, mode='min')\n",
    "    epochs=20\n",
    "    batch_size=64\n",
    "\n",
    "    yhat_hetero = cross_val_predict_for_nn(model, X, Y, callback, batch_size, epochs, verbose=0)\n",
    "    rmse_hetero = mean_squared_error(Y, yhat_hetero, squared=False)\n",
    "    \n",
    "    # yhat_lr = cross_val_predict(LinearRegression(), X, Y, n_jobs=-1)\n",
    "    # rmse_lr = mean_squared_error(Y, yhat_lr, squared=False)\n",
    "    \n",
    "    # yhat_xgb = cross_val_predict(XGBRegressor(**params), X, Y, n_jobs=-1)\n",
    "    # rmse_xgb = mean_squared_error(Y, yhat_xgb, squared=False)\n",
    "    \n",
    "    model = define_model()\n",
    "    yhat_vanila = cross_val_predict_for_nn(model, X, Y, callback, batch_size, epochs, verbose=0)\n",
    "    rmse_vanila = mean_squared_error(Y, yhat_vanila, squared=False)\n",
    "    \n",
    "    \n",
    "    list_df_results.append(\n",
    "        pd.DataFrame({\n",
    "            \"skn\": [skn] * df_station.shape[0],\n",
    "            \"data_in\": Y,\n",
    "            \"pred_hetero\": yhat_hetero.reshape(-1,),\n",
    "            \"pred_valina\": yhat_vanila.reshape(-1,),\n",
    "        })\n",
    "    )\n",
    "    #print(f\"SKN: {skn}\")\n",
    "    #print(\"RMSE on NN : {:.3f}\\nRMSE on LR : {:.3f}\\nRMSE on XGB: {:.3f}\".format(rmse_nn, rmse_lr, rmse_xgb))\n",
    "    print(f\"{i}/{n_samples}\", end='\\r')\n",
    "df_results = pd.concat(list_df_results)"
   ]
  },
  {
   "cell_type": "code",
   "execution_count": 89,
   "metadata": {},
   "outputs": [
    {
     "data": {
      "text/plain": [
       "skn\n",
       "14.0       7.931480\n",
       "39.0       1.922409\n",
       "54.0      21.563302\n",
       "58.0      26.233462\n",
       "58.1      24.297456\n",
       "            ...    \n",
       "1092.0    17.259858\n",
       "1110.0     7.644320\n",
       "1115.0    32.387569\n",
       "1133.0    13.111475\n",
       "1145.0     7.018441\n",
       "Length: 87, dtype: float64"
      ]
     },
     "execution_count": 89,
     "metadata": {},
     "output_type": "execute_result"
    }
   ],
   "source": [
    "df_results.groupby('skn').apply(lambda group: mean_squared_error(group['data_in'], group['pred_hetero']))"
   ]
  },
  {
   "cell_type": "code",
   "execution_count": 90,
   "metadata": {},
   "outputs": [
    {
     "data": {
      "text/plain": [
       "4.015111003602443"
      ]
     },
     "execution_count": 90,
     "metadata": {},
     "output_type": "execute_result"
    }
   ],
   "source": [
    "mean_squared_error(df_results['data_in'], df_results['pred_hetero'], squared=False)"
   ]
  },
  {
   "cell_type": "code",
   "execution_count": 93,
   "metadata": {},
   "outputs": [
    {
     "data": {
      "text/plain": [
       "3.877957796209424"
      ]
     },
     "execution_count": 93,
     "metadata": {},
     "output_type": "execute_result"
    }
   ],
   "source": [
    "mean_squared_error(df_results['data_in'], df_results['pred_valina'], squared=False)"
   ]
  },
  {
   "cell_type": "markdown",
   "metadata": {},
   "source": [
    "# What if we use grid data?"
   ]
  },
  {
   "cell_type": "code",
   "execution_count": 95,
   "metadata": {},
   "outputs": [
    {
     "name": "stdout",
     "output_type": "stream",
     "text": [
      "air2m_0 air1000_500_0 hgt500_0 hgt1000_0 omega500_0 pottemp1000-500_0 pottemp1000-850_0 pr_wtr_0 shum-uwnd-700_0 shum-uwnd-925_0 shum-vwnd-700_0 shum-vwnd-950_0 shum700_0 shum925_0 skt_0 slp_0 air2m_1 air1000_500_1 hgt500_1 hgt1000_1 omega500_1 pottemp1000-500_1 pottemp1000-850_1 pr_wtr_1 shum-uwnd-700_1 shum-uwnd-925_1 shum-vwnd-700_1 shum-vwnd-950_1 shum700_1 shum925_1 skt_1 slp_1 air2m_2 air1000_500_2 hgt500_2 hgt1000_2 omega500_2 pottemp1000-500_2 pottemp1000-850_2 pr_wtr_2 shum-uwnd-700_2 shum-uwnd-925_2 shum-vwnd-700_2 shum-vwnd-950_2 shum700_2 shum925_2 skt_2 slp_2 air2m_3 air1000_500_3 hgt500_3 hgt1000_3 omega500_3 pottemp1000-500_3 pottemp1000-850_3 pr_wtr_3 shum-uwnd-700_3 shum-uwnd-925_3 shum-vwnd-700_3 shum-vwnd-950_3 shum700_3 shum925_3 skt_3 slp_3 air2m_4 air1000_500_4 hgt500_4 hgt1000_4 omega500_4 pottemp1000-500_4 pottemp1000-850_4 pr_wtr_4 shum-uwnd-700_4 shum-uwnd-925_4 shum-vwnd-700_4 shum-vwnd-950_4 shum700_4 shum925_4 skt_4 slp_4 air2m_5 air1000_500_5 hgt500_5 hgt1000_5 omega500_5 pottemp1000-500_5 pottemp1000-850_5 pr_wtr_5 shum-uwnd-700_5 shum-uwnd-925_5 shum-vwnd-700_5 shum-vwnd-950_5 shum700_5 shum925_5 skt_5 slp_5 lat lon elevation season_wet season_dry "
     ]
    }
   ],
   "source": [
    "reanalysis_data = [\n",
    "    'air2m', 'air1000_500', 'hgt500', 'hgt1000', 'omega500',\n",
    "    'pottemp1000-500', 'pottemp1000-850', 'pr_wtr', 'shum-uwnd-700',\n",
    "    'shum-uwnd-925', 'shum-vwnd-700', 'shum-vwnd-950', 'shum700', 'shum925', \n",
    "    'skt', 'slp'\n",
    "]\n",
    "\n",
    "columns = []\n",
    "for i in range(6):\n",
    "    for item in reanalysis_data:\n",
    "        columns.append(f\"{item}_{i}\")\n",
    "\n",
    "columns.extend(['lat', 'lon', 'elevation', 'season_wet', 'season_dry'])\n",
    "for item in columns:\n",
    "    print(item, end=' ')"
   ]
  },
  {
   "cell_type": "code",
   "execution_count": 8,
   "metadata": {},
   "outputs": [],
   "source": [
    "# load datasets\n",
    "df_train = pd.read_csv(f\"{BASE_DIR}/train.csv\")\n",
    "df_valid = pd.read_csv(f\"{BASE_DIR}/valid.csv\")\n",
    "df_test = pd.read_csv(f\"{BASE_DIR}/test.csv\")\n",
    "df_combined = pd.concat([df_train, df_valid, df_test])"
   ]
  },
  {
   "cell_type": "code",
   "execution_count": 114,
   "metadata": {},
   "outputs": [
    {
     "name": "stdout",
     "output_type": "stream",
     "text": [
      "station 682.0 has 720 samples\n",
      "2.081006049528605\n",
      "2.0433804833535776\n",
      "3.352129575951407\n",
      "2.0750106741025838\n",
      "2.047769701340767\n",
      "overall: 2.097688875108001\n",
      "avg rmse 2.3198592968553884\n"
     ]
    }
   ],
   "source": [
    "skn = df_combined['skn'].sample().values[0]\n",
    "df_station = df_combined[df_combined['skn'] == skn]\n",
    "print(f'station {skn} has {df_station.shape[0]} samples')\n",
    "lr = 0.003\n",
    "\n",
    "X = np.array(df_station[columns[:-3]])\n",
    "Y = np.array(df_station['data_in'])\n",
    "\n",
    "callback = tf.keras.callbacks.EarlyStopping(monitor='val_loss', patience = 3, mode='min')\n",
    "epochs=20\n",
    "batch_size=64\n",
    "preds = []\n",
    "rmses = []\n",
    "for i in range(5):\n",
    "    print(f\"round {i}\", end='\\r')\n",
    "    model = define_hetero_model(num_inputs=len(columns[:-3]), lr=lr)\n",
    "    yhat = cross_val_predict_for_nn(model, X, Y, callback, batch_size, epochs, verbose=0)\n",
    "    preds.append(yhat)\n",
    "    rmse = mean_squared_error(Y, yhat, squared=False)\n",
    "    rmses.append(rmse)\n",
    "    print(rmse)\n",
    "yhat = np.array(preds).mean(axis=0)\n",
    "    \n",
    "print(\"overall:\", mean_squared_error(Y, yhat, squared=False))\n",
    "print(\"avg rmse\", np.array(rmses).mean())"
   ]
  },
  {
   "cell_type": "code",
   "execution_count": 115,
   "metadata": {},
   "outputs": [
    {
     "name": "stdout",
     "output_type": "stream",
     "text": [
      "682.0\n"
     ]
    },
    {
     "data": {
      "text/plain": [
       "1.9793833960941611"
      ]
     },
     "execution_count": 115,
     "metadata": {},
     "output_type": "execute_result"
    }
   ],
   "source": [
    "print(f'{skn}')\n",
    "df_station = df_combined[df_combined['skn'] == skn]\n",
    "\n",
    "X = np.array(df_station[columns])\n",
    "Y = np.array(df_station['data_in'])\n",
    "\n",
    "model = define_model(lr=lr, num_inputs=len(columns))\n",
    "callback = tf.keras.callbacks.EarlyStopping(monitor='val_loss', patience = 3, mode='min')\n",
    "epochs=20\n",
    "batch_size=64\n",
    "\n",
    "yhat = cross_val_predict_for_nn(model, X, Y, callback, batch_size, epochs, verbose=0)\n",
    "mean_squared_error(Y, yhat, squared=False)"
   ]
  },
  {
   "cell_type": "code",
   "execution_count": 116,
   "metadata": {},
   "outputs": [
    {
     "name": "stdout",
     "output_type": "stream",
     "text": [
      "682.0\n"
     ]
    },
    {
     "data": {
      "text/plain": [
       "2.158795735053062"
      ]
     },
     "execution_count": 116,
     "metadata": {},
     "output_type": "execute_result"
    }
   ],
   "source": [
    "print(f'{skn}')\n",
    "df_station = df_combined[df_combined['skn'] == skn]\n",
    "\n",
    "X = np.array(df_station[columns])\n",
    "Y = np.array(df_station['data_in'])\n",
    "\n",
    "model = LinearRegression()\n",
    "\n",
    "# yhat = cross_val_predict_for_nn(model, X, Y, callback, batch_size, epochs, verbose=0)\n",
    "yhat = cross_val_predict(model, X, Y)\n",
    "mean_squared_error(Y, yhat, squared=False)"
   ]
  },
  {
   "cell_type": "code",
   "execution_count": null,
   "metadata": {},
   "outputs": [
    {
     "name": "stdout",
     "output_type": "stream",
     "text": [
      "302/1992\r"
     ]
    }
   ],
   "source": [
    "results = []\n",
    "n_stations = df_combined['skn'].unique().shape[0]\n",
    "for i, skn in enumerate(df_combined['skn'].unique()):\n",
    "    df_station = df_combined[df_combined['skn'] == skn]\n",
    "    if df_station.shape[0] <= 5: continue\n",
    "        \n",
    "    df_station = df_station.sort_values(by=['year', 'month'])\n",
    "        \n",
    "    X = np.array(df_station[columns])\n",
    "    Y = np.array(df_station['data_in'])\n",
    "\n",
    "    model = define_model(lr=lr, num_inputs=len(columns))\n",
    "    callback = tf.keras.callbacks.EarlyStopping(monitor='val_loss', patience = 3, mode='min')\n",
    "    epochs=20\n",
    "    batch_size=64\n",
    "\n",
    "    yhat_nn = cross_val_predict_for_nn(model, X, Y, callback, batch_size, epochs, verbose=0)\n",
    "    \n",
    "    model = LinearRegression()\n",
    "    yhat_lr = cross_val_predict(model, X, Y)\n",
    "\n",
    "    results.append(\n",
    "        pd.DataFrame(\n",
    "            {\n",
    "                \"skn\": [skn for _ in range(X.shape[0])],\n",
    "                \"data_in\": Y,\n",
    "                \"pred_nn\": yhat_nn.reshape(-1,),\n",
    "                \"pred_lr\": yhat_lr\n",
    "            }\n",
    "        )\n",
    "    )\n",
    "    print(f\"{i}/{n_stations}\", end='\\r')"
   ]
  },
  {
   "cell_type": "code",
   "execution_count": null,
   "metadata": {},
   "outputs": [],
   "source": [
    "temp = pd.concat(results)\n",
    "print(\n",
    "    \"Overall RMSE:\\nLR: {:.3f}\\nNN: {:.3f}\\n\"\n",
    "    .format(\n",
    "        mean_squared_error(temp['data_in'], temp['pred_lr'], squared=False),\n",
    "        mean_squared_error(temp['data_in'], temp['pred_nn'], squared=False)\n",
    "    )\n",
    ")\n",
    "for skn, group in temp.groupby('skn'):\n",
    "    print(skn)\n",
    "    print(\n",
    "        \"RMSE for LR: {:.3f}\\nRMSE for NN: {:.3f}\\n\"\n",
    "        .format(\n",
    "            mean_squared_error(group['data_in'], group['pred_lr'], squared=False),\n",
    "            mean_squared_error(group['data_in'], group['pred_nn'], squared=False)\n",
    "        )\n",
    "    )"
   ]
  },
  {
   "cell_type": "code",
   "execution_count": 151,
   "metadata": {},
   "outputs": [
    {
     "data": {
      "text/plain": [
       "67.7263961044705"
      ]
     },
     "execution_count": 151,
     "metadata": {},
     "output_type": "execute_result"
    }
   ],
   "source": [
    "df_anomaly = df_combined[df_combined['skn']==5.0]\n",
    "X = df_anomaly[columns]\n",
    "Y = df_anomaly['data_in']\n",
    "\n",
    "model = LinearRegression()\n",
    "yhat = cross_val_predict(model, X, Y)\n",
    "mean_squared_error(Y, yhat, squared=False)"
   ]
  },
  {
   "cell_type": "code",
   "execution_count": 4,
   "metadata": {},
   "outputs": [],
   "source": [
    "import pandas as pd\n",
    "df_result = pd.read_csv('/home/yusukemh/github/yusukemh/StatisticalDownscaling/codes/slurm/run_scripts/nn_vs_lr_6grid/result_nn_6grids.csv')\n",
    "# load datasets\n",
    "df_train = pd.read_csv(f\"{BASE_DIR}/train.csv\")\n",
    "df_valid = pd.read_csv(f\"{BASE_DIR}/valid.csv\")\n",
    "df_test = pd.read_csv(f\"{BASE_DIR}/test.csv\")\n",
    "df_combined = pd.concat([df_train, df_valid, df_test])"
   ]
  },
  {
   "cell_type": "code",
   "execution_count": 5,
   "metadata": {},
   "outputs": [
    {
     "data": {
      "text/plain": [
       "(3.8438406584896625, 5.235264344434101)"
      ]
     },
     "execution_count": 5,
     "metadata": {},
     "output_type": "execute_result"
    }
   ],
   "source": [
    "mean_squared_error(df_result['data_in'], df_result['pred_nn'], squared=False), mean_squared_error(df_result['data_in'], df_result['pred_lr'], squared=False)"
   ]
  },
  {
   "cell_type": "code",
   "execution_count": 6,
   "metadata": {},
   "outputs": [
    {
     "name": "stdout",
     "output_type": "stream",
     "text": [
      "air2m air1000_500 hgt500 hgt1000 omega500 pottemp1000-500 pottemp1000-850 pr_wtr shum-uwnd-700 shum-uwnd-925 shum-vwnd-700 shum-vwnd-950 shum700 shum925 skt slp season_wet elevation lat lon "
     ]
    }
   ],
   "source": [
    "columns = deepcopy(LABELS)\n",
    "columns.extend([\"season_wet\", \"elevation\", \"lat\", \"lon\"])\n",
    "for item in columns:\n",
    "    print(item, end=' ')"
   ]
  },
  {
   "cell_type": "code",
   "execution_count": 7,
   "metadata": {},
   "outputs": [
    {
     "name": "stdout",
     "output_type": "stream",
     "text": [
      "1985/1992\r"
     ]
    }
   ],
   "source": [
    "ytrue = []\n",
    "yhat = []\n",
    "n_stations = df_combined['skn'].unique().shape[0]\n",
    "for i, skn in enumerate(df_combined['skn'].unique()):\n",
    "    df_station = df_combined[df_combined['skn'] == skn]\n",
    "    if df_station.shape[0] <= 5: continue\n",
    "\n",
    "    df_station = df_station.sort_values(by=['year', 'month'])\n",
    "\n",
    "    X = np.array(df_station[columns])\n",
    "    Y = np.array(df_station['data_in'])\n",
    "\n",
    "    model = LinearRegression()\n",
    "    yhat_lr = cross_val_predict(model, X, Y)\n",
    "\n",
    "    yhat.extend(yhat_lr)\n",
    "    ytrue.extend(Y)\n",
    "    \n",
    "\n",
    "    line = f\"{i}/{n_stations}\"\n",
    "    print(line, end='\\r')\n"
   ]
  },
  {
   "cell_type": "code",
   "execution_count": 8,
   "metadata": {},
   "outputs": [
    {
     "data": {
      "text/plain": [
       "4.098059025373483"
      ]
     },
     "execution_count": 8,
     "metadata": {},
     "output_type": "execute_result"
    }
   ],
   "source": [
    "mean_squared_error(ytrue, yhat, squared=False)"
   ]
  },
  {
   "cell_type": "code",
   "execution_count": 9,
   "metadata": {},
   "outputs": [
    {
     "name": "stdout",
     "output_type": "stream",
     "text": [
      "RMSE using site-specific Linear Regression models: 5.235\n",
      "RMSE using a sigle XGBost model: 3.844\n"
     ]
    }
   ],
   "source": [
    "# df_result = pd.read_csv(f\"{BASE_DIR}/SiteSpecific/result.csv\")\n",
    "\n",
    "rmse_per_station_linear = df_result.groupby(by=\"skn\").apply(lambda group: mean_squared_error(group['data_in'], group['pred_lr'], squared=False))\n",
    "rmse_per_station_nn = df_result.groupby(by=\"skn\").apply(lambda group: mean_squared_error(group['data_in'], group['pred_nn'], squared=False))\n",
    "n_data = df_result.groupby(by=\"skn\").size()\n",
    "df_rmse = pd.DataFrame({\"n_data\": n_data, \"rmse_linear\": rmse_per_station_linear, \"rmse_xgb\": rmse_per_station_nn})\n",
    "df_rmse['diff'] = df_rmse['rmse_linear'] - df_rmse['rmse_xgb']\n",
    "\n",
    "rmse_linear = mean_squared_error(df_result['data_in'], df_result['pred_lr'], squared=False)\n",
    "rmse_nn = mean_squared_error(df_result['data_in'], df_result['pred_nn'], squared=False)\n",
    "\n",
    "print(\"RMSE using site-specific Linear Regression models: {:.3f}\".format(rmse_linear))\n",
    "print(\"RMSE using a sigle XGBost model: {:.3f}\".format(rmse_nn))"
   ]
  },
  {
   "cell_type": "code",
   "execution_count": 10,
   "metadata": {},
   "outputs": [
    {
     "name": "stdout",
     "output_type": "stream",
     "text": [
      "\n"
     ]
    },
    {
     "data": {
      "image/png": "[encoded data removed]",
      "text/plain": [
       "<Figure size 1440x360 with 1 Axes>"
      ]
     },
     "metadata": {
      "needs_background": "light"
     },
     "output_type": "display_data"
    }
   ],
   "source": [
    "# df_stats = df_combined.groupby('skn').size().reset_index().rename(columns={0:\"n_data\"}).groupby(\"n_data\").size().reset_index().rename(columns={0: \"n_stations\"})\n",
    "\n",
    "fig, ax = plt.subplots(1, figsize=(20,5))\n",
    "ax.bar(\n",
    "    x=df_rmse['n_data'],\n",
    "    height=df_rmse['diff'],\n",
    "    width=1,\n",
    "    color=['b' if item >= 0 else 'r' for item in df_rmse['diff']],\n",
    "    alpha=0.3\n",
    ")\n",
    "\n",
    "\n",
    "ax.set_ylim((-100, 200))\n",
    "ax.axhline(y=0, linestyle='-', linewidth=1, color='k', alpha=0.2)\n",
    "ax.axvline(127, linewidth=1, color='orange')\n",
    "ax.set_xlabel('# of stations')\n",
    "ax.set_ylabel('RMSE in inch')\n",
    "# ax.axhline(y=100, linewidth=1, linestyle='--')\n",
    "    \n",
    "ax.set_title(\"RMSE(linear - xgb) per station: 5-fold cross validation\")\n",
    "ax.set(yscale='symlog')\n",
    "# plt.tight_layout()\n",
    "\n",
    "# ax.scatter(df_stats['n_data'], df_stats['n_stations'], s=1, c='k', marker='x')\n",
    "print()"
   ]
  },
  {
   "cell_type": "code",
   "execution_count": 11,
   "metadata": {},
   "outputs": [
    {
     "data": {
      "text/plain": [
       "(-200.0, 200.0)"
      ]
     },
     "execution_count": 11,
     "metadata": {},
     "output_type": "execute_result"
    },
    {
     "data": {
      "image/png": "[encoded data removed]",
      "text/plain": [
       "<Figure size 720x720 with 1 Axes>"
      ]
     },
     "metadata": {
      "needs_background": "light"
     },
     "output_type": "display_data"
    }
   ],
   "source": [
    "fig, ax = plt.subplots(1, figsize=(10,10))\n",
    "ax.scatter(df_result['data_in'], df_result['pred_lr'], s=0.1, color='b', label='Linear')\n",
    "ax.scatter(df_result['data_in'], df_result['pred_nn'], s=0.1, color='r', label='NN')\n",
    "ax.plot([0, 50], [0, 50])\n",
    "ax.set_aspect('equal')\n",
    "ax.legend()\n",
    "ax.set_xlim([0,200])\n",
    "ax.set_ylim([-200,200])"
   ]
  },
  {
   "cell_type": "code",
   "execution_count": 12,
   "metadata": {},
   "outputs": [],
   "source": [
    "df_rmse = pd.concat([rmse_per_station_linear, rmse_per_station_nn], axis=1).rename(columns={0: \"rmse_linear\", 1:\"rmse_nn\"})\n",
    "df_rmse = df_rmse.merge(right=df_combined[['skn', 'lat', 'lon']].drop_duplicates(), left_on='skn', right_on='skn')\n",
    "df_rmse['diff'] = df_rmse.apply(lambda row: row['rmse_linear'] - row['rmse_nn'], axis=1)"
   ]
  },
  {
   "cell_type": "code",
   "execution_count": 13,
   "metadata": {},
   "outputs": [],
   "source": [
    "size = np.power(np.clip(df_rmse['diff'], a_min=-100, a_max=0), 2)"
   ]
  },
  {
   "cell_type": "code",
   "execution_count": 14,
   "metadata": {},
   "outputs": [
    {
     "name": "stdout",
     "output_type": "stream",
     "text": [
      "\n"
     ]
    },
    {
     "data": {
      "image/png": "[encoded data removed]",
      "text/plain": [
       "<Figure size 1200x720 with 1 Axes>"
      ]
     },
     "metadata": {
      "needs_background": "light"
     },
     "output_type": "display_data"
    }
   ],
   "source": [
    "plt.figure(figsize=(10, 6), dpi=120)\n",
    "\n",
    "ax = plt.axes(projection=ccrs.PlateCarree())\n",
    "\n",
    "xmin, xmax = -160, -153\n",
    "ymin, ymax = 17.5, 22.5\n",
    "\n",
    "ax.set_xticks(np.arange(xmin, xmax+1, 2.5))\n",
    "ax.set_yticks(np.arange(ymin, ymax+1, 2.5))\n",
    "\n",
    "ax.set_xlim(xmin, xmax)\n",
    "ax.set_ylim(ymin, ymax)\n",
    "\n",
    "lon_formatter = cticker.LongitudeFormatter()\n",
    "lat_formatter = cticker.LatitudeFormatter()\n",
    "ax.xaxis.set_major_formatter(lon_formatter)\n",
    "ax.yaxis.set_major_formatter(lat_formatter)\n",
    "ax.grid(linewidth=0.1, color='black', linestyle='--')\n",
    "\n",
    "stations = plt.scatter(df_rmse[\"lon\"], df_rmse[\"lat\"], s=size, marker='o', c=df_rmse['diff'], label=\"stations\", edgecolor='none', cmap='copper')\n",
    "plt.vlines(x=np.arange(xmin, xmax+1, 2.5) - 1.25, ymin=ymin, ymax=ymax, color=\"k\", linewidth=0.1, linestyle=\"--\", alpha=0.5)\n",
    "plt.hlines(y=np.arange(ymin, ymax+1, 2.5) - 1.25 , xmin=xmin, xmax=xmax, color=\"k\", linewidth=0.1, linestyle=\"--\", alpha=0.5)\n",
    "plt.title(\"Stations where linear regression works better\", fontsize=(15))\n",
    "plt.legend()\n",
    "ax.coastlines(resolution='10m')\n",
    "print()\n",
    "# plt.savefig(f\"{BASE_DIR}/images/reanalysis_grids.png\")"
   ]
  },
  {
   "cell_type": "code",
   "execution_count": null,
   "metadata": {},
   "outputs": [],
   "source": [
    "# change the grid\n",
    "# inspect the stations\n",
    "# inspect the heteroskedastic regression\n"
   ]
  }
 ],
 "metadata": {
  "kernelspec": {
   "display_name": "tfp",
   "language": "python",
   "name": "tfp"
  },
  "language_info": {
   "codemirror_mode": {
    "name": "ipython",
    "version": 3
   },
   "file_extension": ".py",
   "mimetype": "text/x-python",
   "name": "python",
   "nbconvert_exporter": "python",
   "pygments_lexer": "ipython3",
   "version": "3.10.4"
  }
 },
 "nbformat": 4,
 "nbformat_minor": 4
}

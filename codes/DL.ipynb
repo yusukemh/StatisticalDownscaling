{
 "cells": [
  {
   "cell_type": "code",
   "execution_count": 12,
   "metadata": {},
   "outputs": [],
   "source": [
    "# basic imports\n",
    "import numpy as np\n",
    "import pandas as pd\n",
    "import matplotlib.pyplot as plt\n",
    "\n",
    "# sklearn\n",
    "from sklearn.model_selection import train_test_split, KFold, cross_val_score\n",
    "from sklearn.preprocessing import MinMaxScaler, StandardScaler\n",
    "from sklearn.linear_model import LinearRegression\n",
    "from sklearn.metrics import mean_squared_error as mse\n",
    "\n",
    "#tensorflow\n",
    "import tensorflow as tf\n",
    "from tensorflow.keras import datasets, layers, models\n",
    "\n",
    "#keras\n",
    "from tensorflow.keras.wrappers.scikit_learn import KerasRegressor"
   ]
  },
  {
   "cell_type": "code",
   "execution_count": 2,
   "metadata": {},
   "outputs": [],
   "source": [
    "# Load the dataset\n",
    "base_dir = \"../dataset\"\n",
    "df_data_original = pd.read_csv(f\"{base_dir}/dataset.csv\")\n",
    "\n",
    "# make sure there is no NaN value\n",
    "assert df_data_original.isnull().values.any() == False"
   ]
  },
  {
   "cell_type": "code",
   "execution_count": 3,
   "metadata": {},
   "outputs": [],
   "source": [
    "df_data_complete = df_data_original.drop(labels=[\"skn\", \"year\", \"month\", \"lat\", \"lon\", \"Lon_DD_updated\"], axis=1)"
   ]
  },
  {
   "cell_type": "code",
   "execution_count": 4,
   "metadata": {},
   "outputs": [
    {
     "data": {
      "text/html": [
       "<div>\n",
       "<style scoped>\n",
       "    .dataframe tbody tr th:only-of-type {\n",
       "        vertical-align: middle;\n",
       "    }\n",
       "\n",
       "    .dataframe tbody tr th {\n",
       "        vertical-align: top;\n",
       "    }\n",
       "\n",
       "    .dataframe thead th {\n",
       "        text-align: right;\n",
       "    }\n",
       "</style>\n",
       "<table border=\"1\" class=\"dataframe\">\n",
       "  <thead>\n",
       "    <tr style=\"text-align: right;\">\n",
       "      <th></th>\n",
       "      <th>data_in</th>\n",
       "      <th>Lat_DD</th>\n",
       "      <th>Lon_DD</th>\n",
       "      <th>air</th>\n",
       "      <th>air.1</th>\n",
       "      <th>hgt</th>\n",
       "      <th>hgt.1</th>\n",
       "      <th>omega</th>\n",
       "      <th>pottmp</th>\n",
       "      <th>pottmp.1</th>\n",
       "      <th>pr_wtr</th>\n",
       "      <th>shum</th>\n",
       "      <th>shum.1</th>\n",
       "      <th>shum.2</th>\n",
       "      <th>shum.3</th>\n",
       "      <th>shum.4</th>\n",
       "      <th>shum.5</th>\n",
       "      <th>skt</th>\n",
       "      <th>slp</th>\n",
       "    </tr>\n",
       "  </thead>\n",
       "  <tbody>\n",
       "    <tr>\n",
       "      <th>0</th>\n",
       "      <td>3.200000</td>\n",
       "      <td>18.916176</td>\n",
       "      <td>-155.674994</td>\n",
       "      <td>295.39603</td>\n",
       "      <td>31.299995</td>\n",
       "      <td>5799.5483</td>\n",
       "      <td>121.48387</td>\n",
       "      <td>0.023998</td>\n",
       "      <td>-26.433594</td>\n",
       "      <td>-3.926514</td>\n",
       "      <td>29.034512</td>\n",
       "      <td>2.592493</td>\n",
       "      <td>-25.859348</td>\n",
       "      <td>0.589191</td>\n",
       "      <td>7.106412</td>\n",
       "      <td>2.945999</td>\n",
       "      <td>9.869999</td>\n",
       "      <td>23.385218</td>\n",
       "      <td>1014.0849</td>\n",
       "    </tr>\n",
       "    <tr>\n",
       "      <th>1</th>\n",
       "      <td>5.950000</td>\n",
       "      <td>19.108660</td>\n",
       "      <td>-155.825545</td>\n",
       "      <td>295.39603</td>\n",
       "      <td>31.299995</td>\n",
       "      <td>5799.5483</td>\n",
       "      <td>121.48387</td>\n",
       "      <td>0.023998</td>\n",
       "      <td>-26.433594</td>\n",
       "      <td>-3.926514</td>\n",
       "      <td>29.034512</td>\n",
       "      <td>2.592493</td>\n",
       "      <td>-25.859348</td>\n",
       "      <td>0.589191</td>\n",
       "      <td>7.106412</td>\n",
       "      <td>2.945999</td>\n",
       "      <td>9.869999</td>\n",
       "      <td>23.385218</td>\n",
       "      <td>1014.0849</td>\n",
       "    </tr>\n",
       "    <tr>\n",
       "      <th>2</th>\n",
       "      <td>11.500000</td>\n",
       "      <td>19.164740</td>\n",
       "      <td>-155.682280</td>\n",
       "      <td>295.39603</td>\n",
       "      <td>31.299995</td>\n",
       "      <td>5799.5483</td>\n",
       "      <td>121.48387</td>\n",
       "      <td>0.023998</td>\n",
       "      <td>-26.433594</td>\n",
       "      <td>-3.926514</td>\n",
       "      <td>29.034512</td>\n",
       "      <td>2.592493</td>\n",
       "      <td>-25.859348</td>\n",
       "      <td>0.589191</td>\n",
       "      <td>7.106412</td>\n",
       "      <td>2.945999</td>\n",
       "      <td>9.869999</td>\n",
       "      <td>23.385218</td>\n",
       "      <td>1014.0849</td>\n",
       "    </tr>\n",
       "    <tr>\n",
       "      <th>3</th>\n",
       "      <td>5.515941</td>\n",
       "      <td>19.160603</td>\n",
       "      <td>-155.822488</td>\n",
       "      <td>295.39603</td>\n",
       "      <td>31.299995</td>\n",
       "      <td>5799.5483</td>\n",
       "      <td>121.48387</td>\n",
       "      <td>0.023998</td>\n",
       "      <td>-26.433594</td>\n",
       "      <td>-3.926514</td>\n",
       "      <td>29.034512</td>\n",
       "      <td>2.592493</td>\n",
       "      <td>-25.859348</td>\n",
       "      <td>0.589191</td>\n",
       "      <td>7.106412</td>\n",
       "      <td>2.945999</td>\n",
       "      <td>9.869999</td>\n",
       "      <td>23.385218</td>\n",
       "      <td>1014.0849</td>\n",
       "    </tr>\n",
       "    <tr>\n",
       "      <th>4</th>\n",
       "      <td>4.310617</td>\n",
       "      <td>19.225323</td>\n",
       "      <td>-155.778876</td>\n",
       "      <td>295.39603</td>\n",
       "      <td>31.299995</td>\n",
       "      <td>5799.5483</td>\n",
       "      <td>121.48387</td>\n",
       "      <td>0.023998</td>\n",
       "      <td>-26.433594</td>\n",
       "      <td>-3.926514</td>\n",
       "      <td>29.034512</td>\n",
       "      <td>2.592493</td>\n",
       "      <td>-25.859348</td>\n",
       "      <td>0.589191</td>\n",
       "      <td>7.106412</td>\n",
       "      <td>2.945999</td>\n",
       "      <td>9.869999</td>\n",
       "      <td>23.385218</td>\n",
       "      <td>1014.0849</td>\n",
       "    </tr>\n",
       "  </tbody>\n",
       "</table>\n",
       "</div>"
      ],
      "text/plain": [
       "     data_in     Lat_DD      Lon_DD        air      air.1        hgt  \\\n",
       "0   3.200000  18.916176 -155.674994  295.39603  31.299995  5799.5483   \n",
       "1   5.950000  19.108660 -155.825545  295.39603  31.299995  5799.5483   \n",
       "2  11.500000  19.164740 -155.682280  295.39603  31.299995  5799.5483   \n",
       "3   5.515941  19.160603 -155.822488  295.39603  31.299995  5799.5483   \n",
       "4   4.310617  19.225323 -155.778876  295.39603  31.299995  5799.5483   \n",
       "\n",
       "       hgt.1     omega     pottmp  pottmp.1     pr_wtr      shum     shum.1  \\\n",
       "0  121.48387  0.023998 -26.433594 -3.926514  29.034512  2.592493 -25.859348   \n",
       "1  121.48387  0.023998 -26.433594 -3.926514  29.034512  2.592493 -25.859348   \n",
       "2  121.48387  0.023998 -26.433594 -3.926514  29.034512  2.592493 -25.859348   \n",
       "3  121.48387  0.023998 -26.433594 -3.926514  29.034512  2.592493 -25.859348   \n",
       "4  121.48387  0.023998 -26.433594 -3.926514  29.034512  2.592493 -25.859348   \n",
       "\n",
       "     shum.2    shum.3    shum.4    shum.5        skt        slp  \n",
       "0  0.589191  7.106412  2.945999  9.869999  23.385218  1014.0849  \n",
       "1  0.589191  7.106412  2.945999  9.869999  23.385218  1014.0849  \n",
       "2  0.589191  7.106412  2.945999  9.869999  23.385218  1014.0849  \n",
       "3  0.589191  7.106412  2.945999  9.869999  23.385218  1014.0849  \n",
       "4  0.589191  7.106412  2.945999  9.869999  23.385218  1014.0849  "
      ]
     },
     "execution_count": 4,
     "metadata": {},
     "output_type": "execute_result"
    }
   ],
   "source": [
    "df_data_complete.head()"
   ]
  },
  {
   "cell_type": "code",
   "execution_count": 5,
   "metadata": {},
   "outputs": [],
   "source": [
    "Y = df_data_complete[\"data_in\"].to_numpy()\n",
    "X = df_data_complete.drop([\"data_in\"], axis=1).to_numpy()"
   ]
  },
  {
   "cell_type": "code",
   "execution_count": 59,
   "metadata": {},
   "outputs": [
    {
     "data": {
      "text/plain": [
       "(865561, 18)"
      ]
     },
     "execution_count": 59,
     "metadata": {},
     "output_type": "execute_result"
    }
   ],
   "source": [
    "X.shape"
   ]
  },
  {
   "cell_type": "code",
   "execution_count": 60,
   "metadata": {},
   "outputs": [
    {
     "data": {
      "text/plain": [
       "(865561, 18, 1)"
      ]
     },
     "execution_count": 60,
     "metadata": {},
     "output_type": "execute_result"
    }
   ],
   "source": [
    "X.reshape(-1, 18, 1).shape"
   ]
  },
  {
   "cell_type": "code",
   "execution_count": 6,
   "metadata": {},
   "outputs": [],
   "source": [
    "scaler = StandardScaler()\n",
    "Xtemp, Xtest, Ytemp, Ytest = train_test_split(X, Y, test_size=0.2)\n",
    "Xtrain, Xvalid, Ytrain, Yvalid = train_test_split(Xtemp, Ytemp, test_size=0.25)"
   ]
  },
  {
   "cell_type": "code",
   "execution_count": 8,
   "metadata": {},
   "outputs": [],
   "source": [
    "Xtrain = scaler.fit_transform(Xtrain)\n",
    "Xvalid = scaler.transform(Xvalid)\n",
    "Xtest = scaler.transform(Xtest)"
   ]
  },
  {
   "cell_type": "code",
   "execution_count": 9,
   "metadata": {},
   "outputs": [
    {
     "data": {
      "text/plain": [
       "122549218.80962351"
      ]
     },
     "execution_count": 9,
     "metadata": {},
     "output_type": "execute_result"
    }
   ],
   "source": [
    "# rmodel = LinearRegression()\n",
    "# rmodel.fit(Xtrain.reshape(-1,18), Ytrain)\n",
    "# yhat = rmodel.predict(Xtest.reshape(-1,18))\n",
    "# mse(Ytest, yhat)"
   ]
  },
  {
   "cell_type": "code",
   "execution_count": 10,
   "metadata": {},
   "outputs": [
    {
     "name": "stderr",
     "output_type": "stream",
     "text": [
      "2022-02-04 02:05:42.697015: I tensorflow/compiler/jit/xla_cpu_device.cc:41] Not creating XLA devices, tf_xla_enable_xla_devices not set\n",
      "2022-02-04 02:05:42.698666: I tensorflow/stream_executor/platform/default/dso_loader.cc:49] Successfully opened dynamic library libcuda.so.1\n",
      "2022-02-04 02:05:42.745666: I tensorflow/core/common_runtime/gpu/gpu_device.cc:1720] Found device 0 with properties: \n",
      "pciBusID: 0000:1b:00.0 name: NVIDIA GeForce RTX 2080 Ti computeCapability: 7.5\n",
      "coreClock: 1.545GHz coreCount: 68 deviceMemorySize: 10.76GiB deviceMemoryBandwidth: 573.69GiB/s\n",
      "2022-02-04 02:05:42.745717: I tensorflow/stream_executor/platform/default/dso_loader.cc:49] Successfully opened dynamic library libcudart.so.10.1\n",
      "2022-02-04 02:05:42.748325: I tensorflow/stream_executor/platform/default/dso_loader.cc:49] Successfully opened dynamic library libcublas.so.10\n",
      "2022-02-04 02:05:42.748405: I tensorflow/stream_executor/platform/default/dso_loader.cc:49] Successfully opened dynamic library libcublasLt.so.10\n",
      "2022-02-04 02:05:42.750826: I tensorflow/stream_executor/platform/default/dso_loader.cc:49] Successfully opened dynamic library libcufft.so.10\n",
      "2022-02-04 02:05:42.751428: I tensorflow/stream_executor/platform/default/dso_loader.cc:49] Successfully opened dynamic library libcurand.so.10\n",
      "2022-02-04 02:05:42.753886: I tensorflow/stream_executor/platform/default/dso_loader.cc:49] Successfully opened dynamic library libcusolver.so.10\n",
      "2022-02-04 02:05:42.755013: I tensorflow/stream_executor/platform/default/dso_loader.cc:49] Successfully opened dynamic library libcusparse.so.10\n",
      "2022-02-04 02:05:42.759593: I tensorflow/stream_executor/platform/default/dso_loader.cc:49] Successfully opened dynamic library libcudnn.so.7\n",
      "2022-02-04 02:05:42.761516: I tensorflow/core/common_runtime/gpu/gpu_device.cc:1862] Adding visible gpu devices: 0\n",
      "2022-02-04 02:05:42.762492: I tensorflow/core/platform/cpu_feature_guard.cc:142] This TensorFlow binary is optimized with oneAPI Deep Neural Network Library (oneDNN) to use the following CPU instructions in performance-critical operations:  SSE4.1 SSE4.2 AVX AVX2 AVX512F FMA\n",
      "To enable them in other operations, rebuild TensorFlow with the appropriate compiler flags.\n",
      "2022-02-04 02:05:42.763796: I tensorflow/core/common_runtime/gpu/gpu_device.cc:1720] Found device 0 with properties: \n",
      "pciBusID: 0000:1b:00.0 name: NVIDIA GeForce RTX 2080 Ti computeCapability: 7.5\n",
      "coreClock: 1.545GHz coreCount: 68 deviceMemorySize: 10.76GiB deviceMemoryBandwidth: 573.69GiB/s\n",
      "2022-02-04 02:05:42.763836: I tensorflow/stream_executor/platform/default/dso_loader.cc:49] Successfully opened dynamic library libcudart.so.10.1\n",
      "2022-02-04 02:05:42.763855: I tensorflow/stream_executor/platform/default/dso_loader.cc:49] Successfully opened dynamic library libcublas.so.10\n",
      "2022-02-04 02:05:42.763883: I tensorflow/stream_executor/platform/default/dso_loader.cc:49] Successfully opened dynamic library libcublasLt.so.10\n",
      "2022-02-04 02:05:42.763899: I tensorflow/stream_executor/platform/default/dso_loader.cc:49] Successfully opened dynamic library libcufft.so.10\n",
      "2022-02-04 02:05:42.763913: I tensorflow/stream_executor/platform/default/dso_loader.cc:49] Successfully opened dynamic library libcurand.so.10\n",
      "2022-02-04 02:05:42.763928: I tensorflow/stream_executor/platform/default/dso_loader.cc:49] Successfully opened dynamic library libcusolver.so.10\n",
      "2022-02-04 02:05:42.763942: I tensorflow/stream_executor/platform/default/dso_loader.cc:49] Successfully opened dynamic library libcusparse.so.10\n",
      "2022-02-04 02:05:42.763957: I tensorflow/stream_executor/platform/default/dso_loader.cc:49] Successfully opened dynamic library libcudnn.so.7\n",
      "2022-02-04 02:05:42.765741: I tensorflow/core/common_runtime/gpu/gpu_device.cc:1862] Adding visible gpu devices: 0\n",
      "2022-02-04 02:05:42.765780: I tensorflow/stream_executor/platform/default/dso_loader.cc:49] Successfully opened dynamic library libcudart.so.10.1\n",
      "2022-02-04 02:05:43.435873: I tensorflow/core/common_runtime/gpu/gpu_device.cc:1261] Device interconnect StreamExecutor with strength 1 edge matrix:\n",
      "2022-02-04 02:05:43.435911: I tensorflow/core/common_runtime/gpu/gpu_device.cc:1267]      0 \n",
      "2022-02-04 02:05:43.435923: I tensorflow/core/common_runtime/gpu/gpu_device.cc:1280] 0:   N \n",
      "2022-02-04 02:05:43.438859: I tensorflow/core/common_runtime/gpu/gpu_device.cc:1406] Created TensorFlow device (/job:localhost/replica:0/task:0/device:GPU:0 with 10075 MB memory) -> physical GPU (device: 0, name: NVIDIA GeForce RTX 2080 Ti, pci bus id: 0000:1b:00.0, compute capability: 7.5)\n",
      "2022-02-04 02:05:43.439160: I tensorflow/compiler/jit/xla_gpu_device.cc:99] Not creating XLA devices, tf_xla_enable_xla_devices not set\n",
      "2022-02-04 02:05:43.758366: I tensorflow/compiler/mlir/mlir_graph_optimization_pass.cc:116] None of the MLIR optimization passes are enabled (registered 2)\n",
      "2022-02-04 02:05:43.759254: I tensorflow/core/platform/profile_utils/cpu_utils.cc:112] CPU Frequency: 2400000000 Hz\n"
     ]
    },
    {
     "name": "stdout",
     "output_type": "stream",
     "text": [
      "Epoch 1/20\n"
     ]
    },
    {
     "name": "stderr",
     "output_type": "stream",
     "text": [
      "2022-02-04 02:05:44.124311: I tensorflow/stream_executor/platform/default/dso_loader.cc:49] Successfully opened dynamic library libcublas.so.10\n"
     ]
    },
    {
     "name": "stdout",
     "output_type": "stream",
     "text": [
      "2029/2029 [==============================] - 5s 2ms/step - loss: 41.1165 - val_loss: 29.4711\n",
      "Epoch 2/20\n",
      "2029/2029 [==============================] - 5s 2ms/step - loss: 29.0200 - val_loss: 27.4713\n",
      "Epoch 3/20\n",
      "2029/2029 [==============================] - 5s 2ms/step - loss: 27.7570 - val_loss: 26.5134\n",
      "Epoch 4/20\n",
      "2029/2029 [==============================] - 4s 2ms/step - loss: 26.7489 - val_loss: 25.9782\n",
      "Epoch 5/20\n",
      "2029/2029 [==============================] - 4s 2ms/step - loss: 26.1706 - val_loss: 25.7026\n",
      "Epoch 6/20\n",
      "2029/2029 [==============================] - 4s 2ms/step - loss: 25.7342 - val_loss: 25.5987\n",
      "Epoch 7/20\n",
      "2029/2029 [==============================] - 4s 2ms/step - loss: 25.8308 - val_loss: 25.5403\n",
      "Epoch 8/20\n",
      "2029/2029 [==============================] - 4s 2ms/step - loss: 25.5719 - val_loss: 25.4186\n",
      "Epoch 9/20\n",
      "2029/2029 [==============================] - 4s 2ms/step - loss: 24.9967 - val_loss: 25.2794\n",
      "Epoch 10/20\n",
      "2029/2029 [==============================] - 4s 2ms/step - loss: 25.0791 - val_loss: 25.2766\n",
      "Epoch 11/20\n",
      "2029/2029 [==============================] - 4s 2ms/step - loss: 25.6720 - val_loss: 25.1027\n",
      "Epoch 12/20\n",
      "2029/2029 [==============================] - 4s 2ms/step - loss: 25.4663 - val_loss: 25.1429\n",
      "Epoch 13/20\n",
      "2029/2029 [==============================] - 5s 2ms/step - loss: 25.1877 - val_loss: 25.2103\n",
      "Epoch 14/20\n",
      "2029/2029 [==============================] - 4s 2ms/step - loss: 25.1365 - val_loss: 25.0975\n",
      "Epoch 15/20\n",
      "2029/2029 [==============================] - 4s 2ms/step - loss: 25.1259 - val_loss: 25.0945\n",
      "Epoch 16/20\n",
      "2029/2029 [==============================] - 4s 2ms/step - loss: 25.1426 - val_loss: 24.8961\n",
      "Epoch 17/20\n",
      "2029/2029 [==============================] - 4s 2ms/step - loss: 25.2385 - val_loss: 24.9612\n",
      "Epoch 18/20\n",
      "2029/2029 [==============================] - 4s 2ms/step - loss: 24.4632 - val_loss: 25.1221\n",
      "Epoch 19/20\n",
      "2029/2029 [==============================] - 4s 2ms/step - loss: 25.2288 - val_loss: 24.9636\n"
     ]
    }
   ],
   "source": [
    "callback = tf.keras.callbacks.EarlyStopping(monitor='val_loss', patience = 3, mode='min')\n",
    "# construct a model\n",
    "model = models.Sequential()\n",
    "model.add(layers.Dense(16, activation='relu'))\n",
    "model.add(layers.Dense(8, activation='relu'))\n",
    "model.add(layers.Dense(4, activation='relu'))\n",
    "model.add(layers.Dense(1, kernel_initializer='normal'))\n",
    "\n",
    "# model.add(layers.Conv1D(64, 8, activation = 'relu', input_shape=(19, 1)))\n",
    "# model.add(layers.MaxPool1D(5))\n",
    "# model.add(layers.Conv1D(32, 4, activation = 'relu'))\n",
    "# model.add(layers.Flatten())\n",
    "# model.add(layers.Dense(64, activation = 'relu'))\n",
    "#model.add(layers.Dense(32, activation='relu'))\n",
    "# model.add(layers.Dropout(0.5))\n",
    "# model.add(layers.Dense(16, activation='relu'))\n",
    "# model.add(layers.Dropout(0.5))\n",
    "# model.add(layers.Dense(1, activation='softmax'))\n",
    "epochs = 20\n",
    "model.compile(\n",
    "    optimizer = 'adam',\n",
    "    loss = 'mean_squared_error'\n",
    ")\n",
    "history = model.fit(\n",
    "    Xtrain, Ytrain, \n",
    "    epochs=epochs, \n",
    "    validation_data = (Xvalid, Yvalid),\n",
    "    callbacks=[callback],\n",
    "    batch_size=256\n",
    ")"
   ]
  },
  {
   "cell_type": "code",
   "execution_count": 49,
   "metadata": {},
   "outputs": [
    {
     "name": "stdout",
     "output_type": "stream",
     "text": [
      "Baseline: nan (nan) MSE\n"
     ]
    },
    {
     "name": "stderr",
     "output_type": "stream",
     "text": [
      "/home/yusukemh/.conda/envs/climate/lib/python3.9/site-packages/sklearn/model_selection/_validation.py:372: FitFailedWarning: \n",
      "10 fits failed out of a total of 10.\n",
      "The score on these train-test partitions for these parameters will be set to nan.\n",
      "If these failures are not expected, you can try to debug them by setting error_score='raise'.\n",
      "\n",
      "Below are more details about the failures:\n",
      "--------------------------------------------------------------------------------\n",
      "10 fits failed with the following error:\n",
      "Traceback (most recent call last):\n",
      "  File \"/home/yusukemh/.conda/envs/climate/lib/python3.9/site-packages/sklearn/model_selection/_validation.py\", line 680, in _fit_and_score\n",
      "    estimator.fit(X_train, y_train, **fit_params)\n",
      "  File \"/home/yusukemh/.conda/envs/climate/lib/python3.9/site-packages/tensorflow/python/keras/wrappers/scikit_learn.py\", line 157, in fit\n",
      "    self.model = self.build_fn(**self.filter_sk_params(self.build_fn))\n",
      "  File \"/tmp/ipykernel_234848/1957097577.py\", line 3, in baseline_model\n",
      "    model = Sequential()\n",
      "NameError: name 'Sequential' is not defined\n",
      "\n",
      "  warnings.warn(some_fits_failed_message, FitFailedWarning)\n"
     ]
    }
   ],
   "source": [
    "def baseline_model():\n",
    "    # create model\n",
    "    model = Sequential()\n",
    "    model.add(Dense(19, input_dim=19, kernel_initializer='normal', activation='relu'))\n",
    "    model.add(Dense(1, kernel_initializer='normal'))\n",
    "    # Compile model\n",
    "    model.compile(loss='mean_squared_error', optimizer='adam')\n",
    "    return model\n",
    "# evaluate model\n",
    "estimator = KerasRegressor(build_fn=baseline_model, epochs=100, batch_size=5, verbose=0)\n",
    "kfold = KFold(n_splits=10)\n",
    "results = cross_val_score(estimator, X, Y, cv=kfold)\n",
    "print(\"Baseline: %.2f (%.2f) MSE\" % (results.mean(), results.std()))"
   ]
  },
  {
   "cell_type": "code",
   "execution_count": 13,
   "metadata": {},
   "outputs": [
    {
     "name": "stdout",
     "output_type": "stream",
     "text": [
      "Num GPUs Available:  1\n"
     ]
    }
   ],
   "source": [
    "print(\"Num GPUs Available: \", len(tf.config.experimental.list_physical_devices('GPU')))"
   ]
  },
  {
   "cell_type": "code",
   "execution_count": null,
   "metadata": {},
   "outputs": [],
   "source": []
  }
 ],
 "metadata": {
  "kernelspec": {
   "display_name": "climate",
   "language": "python",
   "name": "climate"
  },
  "language_info": {
   "codemirror_mode": {
    "name": "ipython",
    "version": 3
   },
   "file_extension": ".py",
   "mimetype": "text/x-python",
   "name": "python",
   "nbconvert_exporter": "python",
   "pygments_lexer": "ipython3",
   "version": "3.9.7"
  }
 },
 "nbformat": 4,
 "nbformat_minor": 4
}

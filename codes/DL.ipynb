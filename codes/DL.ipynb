{
 "cells": [
  {
   "cell_type": "code",
   "execution_count": 1,
   "metadata": {},
   "outputs": [
    {
     "name": "stderr",
     "output_type": "stream",
     "text": [
      "2022-05-10 19:09:12.271190: W tensorflow/stream_executor/platform/default/dso_loader.cc:64] Could not load dynamic library 'libcudart.so.11.0'; dlerror: libcudart.so.11.0: cannot open shared object file: No such file or directory; LD_LIBRARY_PATH: /opt/apps/software/tools/nmap/7.80/lib\n",
      "/home/yusukemh/sadow_lts/personal/yusukemh/Anaconda3/envs/tfp/lib/python3.10/site-packages/xgboost/compat.py:36: FutureWarning: pandas.Int64Index is deprecated and will be removed from pandas in a future version. Use pandas.Index with the appropriate dtype instead.\n",
      "  from pandas import MultiIndex, Int64Index\n"
     ]
    }
   ],
   "source": [
    "# set the environment variable for warning\n",
    "import os\n",
    "os.environ['TF_CPP_MIN_LOG_LEVEL'] = '1'\n",
    "\n",
    "# enable autoreload\n",
    "%load_ext autoreload\n",
    "%autoreload 2\n",
    "\n",
    "# basic imports\n",
    "import numpy as np\n",
    "import pandas as pd\n",
    "import matplotlib.pyplot as plt\n",
    "\n",
    "# sklearn\n",
    "from sklearn.model_selection import train_test_split, KFold, cross_val_predict\n",
    "from sklearn.preprocessing import MinMaxScaler, StandardScaler\n",
    "from sklearn.linear_model import LinearRegression\n",
    "from sklearn.metrics import mean_squared_error\n",
    "\n",
    "#tensorflow\n",
    "import tensorflow as tf\n",
    "from tensorflow.keras.metrics import RootMeanSquaredError\n",
    "from tensorflow.keras.models import Model, Sequential\n",
    "from tensorflow.keras.wrappers.scikit_learn import KerasRegressor\n",
    "from tensorflow.keras.layers import Dense, Input, Concatenate, Dropout\n",
    "\n",
    "import tensorflow_probability as tfp\n",
    "tfd = tfp.distributions\n",
    "\n",
    "# others\n",
    "import cartopy.crs as ccrs\n",
    "import cartopy.mpl.ticker as cticker\n",
    "from copy import deepcopy\n",
    "from xgboost import XGBRegressor\n",
    "import sys\n",
    "import time\n",
    "from scipy.stats import gamma, norm, beta\n",
    "\n",
    "# Variables from config file\n",
    "sys.path.append('/home/yusukemh/github/yusukemh/StatisticalDownscaling/codes/')\n",
    "from config import BASE_DIR, FILE_NAMES, LABELS, ATTRIBUTES, BEST_MODEL_COLUMNS, ISLAND_RANGES, C_SINGLE, C_INT50, C_INT100, C_GRID, C_COMMON\n",
    "\n",
    "# util\n",
    "from util import cross_val_predict_for_nn, sample_station, estimate_epochs"
   ]
  },
  {
   "cell_type": "markdown",
   "metadata": {},
   "source": [
    "# Conduct a test on the simplest case:\n",
    "- Only use non-filled, actual data\n",
    "- Experiment on a single station\n",
    "- Compare vanila NN against Linear Regression\n",
    "- only a single closest GCM variables are used"
   ]
  },
  {
   "cell_type": "code",
   "execution_count": 204,
   "metadata": {},
   "outputs": [
    {
     "name": "stdout",
     "output_type": "stream",
     "text": [
      "Station with skn: 396.0 was chosen out of all stations with more than 750 historical (non-filled) rainfall observations.\n",
      "There are 778 rainfall observations from this station.\n"
     ]
    }
   ],
   "source": [
    "columns = C_SINGLE\n",
    "# load nonfilled dataset\n",
    "df_nonfilled = pd.read_csv(f\"{BASE_DIR}/nonfilled_dataset.csv\", usecols=C_SINGLE + C_COMMON)\n",
    "# sample a station: returned object is sorted.\n",
    "df_station = sample_station(df=df_nonfilled, threshold=750, seed=42)"
   ]
  },
  {
   "cell_type": "code",
   "execution_count": 45,
   "metadata": {},
   "outputs": [],
   "source": [
    "# define a NN model\n",
    "def define_model(input_dim=20, lr=0.005):\n",
    "    inputs = Input(shape=(input_dim,))\n",
    "    x = Dense(units=256, activation='relu')(inputs)\n",
    "    x = Dropout(rate=0.5)(x)\n",
    "    x = Dense(units=256, activation='relu')(x)\n",
    "    outputs = Dense(units=1, kernel_initializer='normal')(x)\n",
    "    \n",
    "    model = Model(inputs=inputs, outputs=outputs)\n",
    "    \n",
    "    model.compile(\n",
    "        optimizer=tf.optimizers.Adam(learning_rate=lr),\n",
    "        loss='mse',\n",
    "        metrics=[RootMeanSquaredError()]\n",
    "    )\n",
    "    \n",
    "    return model"
   ]
  },
  {
   "cell_type": "code",
   "execution_count": 206,
   "metadata": {},
   "outputs": [
    {
     "name": "stdout",
     "output_type": "stream",
     "text": [
      "mean number of epochs: 21.6\n",
      "Std: 2.331\n"
     ]
    }
   ],
   "source": [
    "X = np.array(df_station[columns])\n",
    "Y = np.array(df_station['data_in'])\n",
    "model = define_model(input_dim=len(columns), lr=0.005)\n",
    "estimated_epochs = estimate_epochs(\n",
    "    X=X, Y=Y,\n",
    "    model_func=define_model,\n",
    "    model_params={\"input_dim\": len(columns), \"lr\": 0.0005}\n",
    ")"
   ]
  },
  {
   "cell_type": "code",
   "execution_count": 207,
   "metadata": {},
   "outputs": [
    {
     "name": "stdout",
     "output_type": "stream",
     "text": [
      "Result: single observation, normal NN\n",
      "RMSE with NN: 1.460\n",
      "RMSE with LR: 1.535\n"
     ]
    }
   ],
   "source": [
    "# now fix the epoch, remove early stopping, and run cross_val_predict\n",
    "yhat_nn = cross_val_predict_for_nn(# implemented in util.py\n",
    "    model_func=define_model,\n",
    "    model_params={\"input_dim\": len(columns), \"lr\": 0.005},\n",
    "    #model=define_model(input_dim=len(columns), lr=0.005),\n",
    "    X=X, Y=Y,\n",
    "    callback=None,\n",
    "    batch_size=64,\n",
    "    epochs=int(estimated_epochs),\n",
    "    early_stopping=False,\n",
    "    verbose=False\n",
    ")\n",
    "rmse_nn = mean_squared_error(Y, yhat_nn, squared=False)\n",
    "linear_regression = LinearRegression()\n",
    "yhat_lr = cross_val_predict(linear_regression, X, Y, n_jobs=-1)\n",
    "rmse_lr = mean_squared_error(Y, yhat_lr, squared=False)\n",
    "\n",
    "print(\"Result: single observation, normal NN\")\n",
    "print(\"RMSE with NN: {:.3f}\".format(rmse_nn))\n",
    "print(\"RMSE with LR: {:.3f}\".format(rmse_lr))\n"
   ]
  },
  {
   "cell_type": "code",
   "execution_count": 208,
   "metadata": {},
   "outputs": [
    {
     "data": {
      "text/plain": [
       "<matplotlib.legend.Legend at 0x2b0ab76f1870>"
      ]
     },
     "execution_count": 208,
     "metadata": {},
     "output_type": "execute_result"
    },
    {
     "data": {
      "image/png": "[encoded data removed]",
      "text/plain": [
       "<Figure size 432x288 with 1 Axes>"
      ]
     },
     "metadata": {
      "needs_background": "light"
     },
     "output_type": "display_data"
    }
   ],
   "source": [
    "fig, ax = plt.subplots(1)\n",
    "ax.scatter(Y, yhat_lr, s=3, color='b', label='linear')\n",
    "ax.scatter(Y, yhat_nn, s=3, color='r', label='NN')\n",
    "ax.set_facecolor('lightgray')\n",
    "ax.plot([0, 20], [0, 20])\n",
    "ax.set_aspect('equal')\n",
    "ax.legend()"
   ]
  },
  {
   "cell_type": "code",
   "execution_count": 48,
   "metadata": {
    "jupyter": {
     "source_hidden": true
    }
   },
   "outputs": [],
   "source": [
    "def run_single_experiment(skn, df_station, columns):\n",
    "    X = np.array(df_station[columns])\n",
    "    Y = np.array(df_station['data_in'])\n",
    "    \n",
    "    Xtrain, Xvalid, Ytrain, Yvalid = train_test_split(X, Y, test_size=0.2)\n",
    "    \n",
    "    # scale the input data\n",
    "    scaler = StandardScaler()\n",
    "    Xtrain = scaler.fit_transform(Xtrain)\n",
    "    Xvalid = scaler.transform(Xvalid)\n",
    "    \n",
    "    model = define_model(input_dim=len(columns), lr=0.005)\n",
    "    \n",
    "    callback = tf.keras.callbacks.EarlyStopping(monitor='val_loss', patience = 3, mode='min')\n",
    "    epochs=100\n",
    "    batch_size=64\n",
    "    \n",
    "    n_epochs = []\n",
    "    n_iter = 50\n",
    "    print(\"Estimating the # epochs\")\n",
    "    for _ in range(n_iter):\n",
    "        history = model.fit(\n",
    "            Xtrain, Ytrain, epochs=epochs,\n",
    "            validation_data = (Xvalid, Yvalid),\n",
    "            callbacks=[callback],\n",
    "            batch_size=batch_size,\n",
    "            verbose=False\n",
    "        )\n",
    "\n",
    "        # use a trick to get the number of epochs the model has trained\n",
    "        n_epochs_trained = len(history.history['loss'])\n",
    "        # print(f\"# epochs trained: {n_epochs_trained}\")\n",
    "        n_epochs.append(n_epochs_trained)\n",
    "        print(f\"{_}/{n_iter}\", end='\\r')\n",
    "    \n",
    "    print('done\\nTraining Linear Regression and NN')\n",
    "\n",
    "    # now fix the epoch, remove early stopping, and run cross_val_predict\n",
    "    epochs = int(np.mean(n_epochs))\n",
    "\n",
    "    yhat_nn = cross_val_predict_for_nn(# implemented in util.py\n",
    "        model=define_model(input_dim=len(columns), lr=0.005),\n",
    "        X=X, Y=Y,\n",
    "        callback=None,\n",
    "        batch_size=batch_size,\n",
    "        epochs=epochs,\n",
    "        early_stopping=False,\n",
    "        verbose=False\n",
    "    )\n",
    "    rmse_nn = mean_squared_error(Y, yhat_nn, squared=False)\n",
    "    print(\"RMSE with NN: {:.3f}\".format(rmse_nn))\n",
    "    \n",
    "    linear_regression = LinearRegression()\n",
    "    yhat_lr = cross_val_predict(linear_regression, X, Y, n_jobs=-1)\n",
    "    rmse_lr = mean_squared_error(Y, yhat_lr, squared=False)\n",
    "    print(\"RMSE with LR: {:.3f}\".format(rmse_lr))"
   ]
  },
  {
   "cell_type": "code",
   "execution_count": 44,
   "metadata": {
    "collapsed": true,
    "jupyter": {
     "outputs_hidden": true,
     "source_hidden": true
    }
   },
   "outputs": [
    {
     "name": "stdout",
     "output_type": "stream",
     "text": [
      "Estimating the # epochs\n",
      "done0\n",
      "Training Linear Regression and NN\n",
      "RMSE with NN: 1.374\n",
      "RMSE with LR: 1.535\n"
     ]
    }
   ],
   "source": [
    "run_single_experiment(sample_skn, df_station, C_SINGLE)"
   ]
  },
  {
   "cell_type": "markdown",
   "metadata": {},
   "source": [
    "<hr>"
   ]
  },
  {
   "cell_type": "code",
   "execution_count": 45,
   "metadata": {
    "collapsed": true,
    "jupyter": {
     "outputs_hidden": true
    }
   },
   "outputs": [
    {
     "name": "stdout",
     "output_type": "stream",
     "text": [
      "running experiment on 54.0\n",
      "Estimating the # epochs\n",
      "done0\n",
      "Training Linear Regression and NN\n",
      "RMSE with NN: 5.001\n",
      "RMSE with LR: 5.077\n",
      "0/24\n",
      "running experiment on 79.0\n",
      "Estimating the # epochs\n",
      "done0\n",
      "Training Linear Regression and NN\n",
      "RMSE with NN: 5.945\n",
      "RMSE with LR: 5.852\n",
      "1/24\n",
      "running experiment on 87.0\n",
      "Estimating the # epochs\n",
      "done0\n",
      "Training Linear Regression and NN\n",
      "RMSE with NN: 5.091\n",
      "RMSE with LR: 5.277\n",
      "2/24\n",
      "running experiment on 250.0\n",
      "Estimating the # epochs\n",
      "done0\n",
      "Training Linear Regression and NN\n",
      "RMSE with NN: 1.977\n",
      "RMSE with LR: 2.053\n",
      "3/24\n",
      "running experiment on 267.0\n",
      "Estimating the # epochs\n",
      "done0\n",
      "Training Linear Regression and NN\n",
      "RMSE with NN: 2.108\n",
      "RMSE with LR: 2.231\n",
      "4/24\n",
      "running experiment on 296.1\n",
      "Estimating the # epochs\n",
      "done0\n",
      "Training Linear Regression and NN\n",
      "RMSE with NN: 1.377\n",
      "RMSE with LR: 1.512\n",
      "5/24\n",
      "running experiment on 311.0\n",
      "Estimating the # epochs\n",
      "done0\n",
      "Training Linear Regression and NN\n",
      "RMSE with NN: 1.248\n",
      "RMSE with LR: 1.362\n",
      "6/24\n",
      "running experiment on 338.0\n",
      "Estimating the # epochs\n",
      "done0\n",
      "Training Linear Regression and NN\n",
      "RMSE with NN: 3.889\n",
      "RMSE with LR: 4.153\n",
      "7/24\n",
      "running experiment on 396.0\n",
      "Estimating the # epochs\n",
      "done0\n",
      "Training Linear Regression and NN\n",
      "RMSE with NN: 1.356\n",
      "RMSE with LR: 1.535\n",
      "8/24\n",
      "running experiment on 400.0\n",
      "Estimating the # epochs\n",
      "done0\n",
      "Training Linear Regression and NN\n",
      "RMSE with NN: 1.524\n",
      "RMSE with LR: 1.606\n",
      "9/24\n",
      "running experiment on 406.0\n",
      "Estimating the # epochs\n",
      "done0\n",
      "Training Linear Regression and NN\n",
      "RMSE with NN: 1.618\n",
      "RMSE with LR: 1.763\n",
      "10/24\n",
      "running experiment on 410.0\n",
      "Estimating the # epochs\n",
      "done0\n",
      "Training Linear Regression and NN\n",
      "RMSE with NN: 1.595\n",
      "RMSE with LR: 1.671\n",
      "11/24\n",
      "running experiment on 485.0\n",
      "Estimating the # epochs\n",
      "done0\n",
      "Training Linear Regression and NN\n",
      "RMSE with NN: 2.098\n",
      "RMSE with LR: 2.187\n",
      "12/24\n",
      "running experiment on 702.7\n",
      "Estimating the # epochs\n",
      "done0\n",
      "Training Linear Regression and NN\n",
      "RMSE with NN: 1.777\n",
      "RMSE with LR: 1.802\n",
      "13/24\n",
      "running experiment on 703.0\n",
      "Estimating the # epochs\n",
      "done0\n",
      "Training Linear Regression and NN\n",
      "RMSE with NN: 1.854\n",
      "RMSE with LR: 1.955\n",
      "14/24\n",
      "running experiment on 718.0\n",
      "Estimating the # epochs\n",
      "done0\n",
      "Training Linear Regression and NN\n",
      "RMSE with NN: 5.121\n",
      "RMSE with LR: 5.002\n",
      "15/24\n",
      "running experiment on 770.0\n",
      "Estimating the # epochs\n",
      "done0\n",
      "Training Linear Regression and NN\n",
      "RMSE with NN: 2.081\n",
      "RMSE with LR: 2.193\n",
      "16/24\n",
      "running experiment on 783.0\n",
      "Estimating the # epochs\n",
      "done0\n",
      "Training Linear Regression and NN\n",
      "RMSE with NN: 4.396\n",
      "RMSE with LR: 4.374\n",
      "17/24\n",
      "running experiment on 784.0\n",
      "Estimating the # epochs\n",
      "done0\n",
      "Training Linear Regression and NN\n",
      "RMSE with NN: 5.404\n",
      "RMSE with LR: 5.356\n",
      "18/24\n",
      "running experiment on 965.0\n",
      "Estimating the # epochs\n",
      "done0\n",
      "Training Linear Regression and NN\n",
      "RMSE with NN: 1.730\n",
      "RMSE with LR: 1.940\n",
      "19/24\n",
      "running experiment on 1020.1\n",
      "Estimating the # epochs\n",
      "done0\n",
      "Training Linear Regression and NN\n",
      "RMSE with NN: 2.374\n",
      "RMSE with LR: 2.539\n",
      "20/24\n",
      "running experiment on 1075.0\n",
      "Estimating the # epochs\n",
      "done0\n",
      "Training Linear Regression and NN\n",
      "RMSE with NN: 3.860\n",
      "RMSE with LR: 4.058\n",
      "21/24\n",
      "running experiment on 1117.0\n",
      "Estimating the # epochs\n",
      "done0\n",
      "Training Linear Regression and NN\n",
      "RMSE with NN: 3.634\n",
      "RMSE with LR: 3.615\n",
      "22/24\n",
      "running experiment on 1134.0\n",
      "Estimating the # epochs\n",
      "done0\n",
      "Training Linear Regression and NN\n",
      "RMSE with NN: 3.525\n",
      "RMSE with LR: 3.588\n",
      "23/24\n"
     ]
    }
   ],
   "source": [
    "# Now do the experiment over all the stations with more than 750 rainfall observations\n",
    "n_stations = df_n_data[df_n_data['n_data'] > threshold].shape[0]\n",
    "for i, skn in enumerate(df_n_data[df_n_data['n_data'] > threshold]['skn']):\n",
    "    print(f\"running experiment on {skn}\")\n",
    "    df_station = df_nonfilled[df_nonfilled['skn'] == skn].sort_values(['year', 'month'])\n",
    "    run_single_experiment(skn, df_station, C_SINGLE)\n",
    "    print(f\"{i}/{n_stations}\")"
   ]
  },
  {
   "cell_type": "markdown",
   "metadata": {},
   "source": [
    "<hr>"
   ]
  },
  {
   "cell_type": "markdown",
   "metadata": {},
   "source": [
    "# add noise: regular NN"
   ]
  },
  {
   "cell_type": "code",
   "execution_count": 50,
   "metadata": {},
   "outputs": [
    {
     "name": "stdout",
     "output_type": "stream",
     "text": [
      "Station with skn: 396.0 was chosen out of all stations with more than 750 historical (non-filled) rainfall observations.\n",
      "There are 778 rainfall observations from this station.\n"
     ]
    }
   ],
   "source": [
    "columns = C_SINGLE\n",
    "# load nonfilled dataset\n",
    "df_nonfilled = pd.read_csv(f\"{BASE_DIR}/nonfilled_dataset.csv\", usecols=C_SINGLE + C_COMMON)\n",
    "# sample a station: returned object is sorted.\n",
    "df_station = sample_station(df=df_nonfilled, threshold=750, seed=42)"
   ]
  },
  {
   "cell_type": "code",
   "execution_count": 56,
   "metadata": {},
   "outputs": [
    {
     "name": "stdout",
     "output_type": "stream",
     "text": [
      "mean number of epochs: 7.2\n",
      "Std: 0.980\n"
     ]
    }
   ],
   "source": [
    "X = np.array(df_station[columns])\n",
    "Y = np.array(df_station['data_in'])\n",
    "model = define_model(input_dim=len(columns), lr=0.005)\n",
    "estimated_epochs = estimate_epochs(\n",
    "    X=X, Y=Y,\n",
    "    model_func=define_model,\n",
    "    model_params={\"input_dim\": len(columns), \"lr\": 0.0005},\n",
    "    n_iter=10,\n",
    "    add_noise=True\n",
    ")"
   ]
  },
  {
   "cell_type": "code",
   "execution_count": 60,
   "metadata": {
    "collapsed": true,
    "jupyter": {
     "outputs_hidden": true
    }
   },
   "outputs": [
    {
     "name": "stdout",
     "output_type": "stream",
     "text": [
      "Epoch 1/50\n",
      "107/107 [==============================] - 1s 4ms/step - loss: 2.6220 - root_mean_squared_error: 1.6193\n",
      "Epoch 2/50\n",
      "107/107 [==============================] - 0s 4ms/step - loss: 2.0028 - root_mean_squared_error: 1.4152\n",
      "Epoch 3/50\n",
      "107/107 [==============================] - 0s 4ms/step - loss: 1.7752 - root_mean_squared_error: 1.3324\n",
      "Epoch 4/50\n",
      "107/107 [==============================] - 0s 4ms/step - loss: 1.7097 - root_mean_squared_error: 1.3075\n",
      "Epoch 5/50\n",
      "107/107 [==============================] - 0s 4ms/step - loss: 1.6285 - root_mean_squared_error: 1.2761\n",
      "Epoch 6/50\n",
      "107/107 [==============================] - 0s 4ms/step - loss: 1.5301 - root_mean_squared_error: 1.2370\n",
      "Epoch 7/50\n",
      "107/107 [==============================] - 0s 4ms/step - loss: 1.3863 - root_mean_squared_error: 1.1774\n",
      "Epoch 8/50\n",
      "107/107 [==============================] - 0s 4ms/step - loss: 1.2017 - root_mean_squared_error: 1.0962\n",
      "Epoch 9/50\n",
      "107/107 [==============================] - 0s 4ms/step - loss: 1.1754 - root_mean_squared_error: 1.0842\n",
      "Epoch 10/50\n",
      "107/107 [==============================] - 0s 4ms/step - loss: 1.0972 - root_mean_squared_error: 1.0475\n",
      "Epoch 11/50\n",
      "107/107 [==============================] - 0s 4ms/step - loss: 1.1044 - root_mean_squared_error: 1.0509\n",
      "Epoch 12/50\n",
      "107/107 [==============================] - 0s 4ms/step - loss: 0.9931 - root_mean_squared_error: 0.9965\n",
      "Epoch 13/50\n",
      "107/107 [==============================] - 0s 4ms/step - loss: 0.9553 - root_mean_squared_error: 0.9774\n",
      "Epoch 14/50\n",
      "107/107 [==============================] - 0s 4ms/step - loss: 0.9034 - root_mean_squared_error: 0.9505\n",
      "Epoch 15/50\n",
      "107/107 [==============================] - 0s 4ms/step - loss: 0.8786 - root_mean_squared_error: 0.9373\n",
      "Epoch 16/50\n",
      "107/107 [==============================] - 0s 4ms/step - loss: 0.7903 - root_mean_squared_error: 0.8890\n",
      "Epoch 17/50\n",
      "107/107 [==============================] - 0s 4ms/step - loss: 0.7745 - root_mean_squared_error: 0.8801\n",
      "Epoch 18/50\n",
      "107/107 [==============================] - 0s 4ms/step - loss: 0.6704 - root_mean_squared_error: 0.8188\n",
      "Epoch 19/50\n",
      "107/107 [==============================] - 0s 4ms/step - loss: 0.6505 - root_mean_squared_error: 0.8065\n",
      "Epoch 20/50\n",
      "107/107 [==============================] - 0s 4ms/step - loss: 0.5940 - root_mean_squared_error: 0.7707\n",
      "Epoch 21/50\n",
      "107/107 [==============================] - 0s 4ms/step - loss: 0.5661 - root_mean_squared_error: 0.7524\n",
      "Epoch 22/50\n",
      "107/107 [==============================] - 0s 4ms/step - loss: 0.6182 - root_mean_squared_error: 0.7863\n",
      "Epoch 23/50\n",
      "107/107 [==============================] - 0s 4ms/step - loss: 0.5181 - root_mean_squared_error: 0.7198\n",
      "Epoch 24/50\n",
      "107/107 [==============================] - 0s 4ms/step - loss: 0.5609 - root_mean_squared_error: 0.7489\n",
      "Epoch 25/50\n",
      "107/107 [==============================] - 0s 4ms/step - loss: 0.5509 - root_mean_squared_error: 0.7422\n",
      "Epoch 26/50\n",
      "107/107 [==============================] - 0s 4ms/step - loss: 0.4766 - root_mean_squared_error: 0.6903\n",
      "Epoch 27/50\n",
      "107/107 [==============================] - 0s 4ms/step - loss: 0.4567 - root_mean_squared_error: 0.6758\n",
      "Epoch 28/50\n",
      "107/107 [==============================] - 0s 4ms/step - loss: 0.4322 - root_mean_squared_error: 0.6574\n",
      "Epoch 29/50\n",
      "107/107 [==============================] - 0s 4ms/step - loss: 0.4675 - root_mean_squared_error: 0.6837\n",
      "Epoch 30/50\n",
      "107/107 [==============================] - 0s 4ms/step - loss: 0.4246 - root_mean_squared_error: 0.6516\n",
      "Epoch 31/50\n",
      "107/107 [==============================] - 0s 4ms/step - loss: 0.4540 - root_mean_squared_error: 0.6738\n",
      "Epoch 32/50\n",
      "107/107 [==============================] - 0s 4ms/step - loss: 0.4461 - root_mean_squared_error: 0.6679\n",
      "Epoch 33/50\n",
      "107/107 [==============================] - 0s 4ms/step - loss: 0.3617 - root_mean_squared_error: 0.6014\n",
      "Epoch 34/50\n",
      "107/107 [==============================] - 0s 4ms/step - loss: 0.3659 - root_mean_squared_error: 0.6049\n",
      "Epoch 35/50\n",
      "107/107 [==============================] - 0s 4ms/step - loss: 0.3838 - root_mean_squared_error: 0.6195\n",
      "Epoch 36/50\n",
      "107/107 [==============================] - 0s 4ms/step - loss: 0.4089 - root_mean_squared_error: 0.6394\n",
      "Epoch 37/50\n",
      "107/107 [==============================] - 0s 4ms/step - loss: 0.3600 - root_mean_squared_error: 0.6000\n",
      "Epoch 38/50\n",
      "107/107 [==============================] - 0s 4ms/step - loss: 0.3686 - root_mean_squared_error: 0.6072\n",
      "Epoch 39/50\n",
      "107/107 [==============================] - 0s 4ms/step - loss: 0.3731 - root_mean_squared_error: 0.6108\n",
      "Epoch 40/50\n",
      "107/107 [==============================] - 0s 4ms/step - loss: 0.3408 - root_mean_squared_error: 0.5837\n",
      "Epoch 41/50\n",
      "107/107 [==============================] - 0s 4ms/step - loss: 0.3503 - root_mean_squared_error: 0.5919\n",
      "Epoch 42/50\n",
      "107/107 [==============================] - 0s 4ms/step - loss: 0.3415 - root_mean_squared_error: 0.5844\n",
      "Epoch 43/50\n",
      "107/107 [==============================] - 0s 4ms/step - loss: 0.3158 - root_mean_squared_error: 0.5620\n",
      "Epoch 44/50\n",
      "107/107 [==============================] - 0s 4ms/step - loss: 0.3087 - root_mean_squared_error: 0.5556\n",
      "Epoch 45/50\n",
      "107/107 [==============================] - 0s 4ms/step - loss: 0.3095 - root_mean_squared_error: 0.5563\n",
      "Epoch 46/50\n",
      "107/107 [==============================] - 0s 4ms/step - loss: 0.3389 - root_mean_squared_error: 0.5821\n",
      "Epoch 47/50\n",
      "107/107 [==============================] - 0s 4ms/step - loss: 0.3173 - root_mean_squared_error: 0.5633\n",
      "Epoch 48/50\n",
      "107/107 [==============================] - 0s 4ms/step - loss: 0.3301 - root_mean_squared_error: 0.5745\n",
      "Epoch 49/50\n",
      "107/107 [==============================] - 0s 4ms/step - loss: 0.2891 - root_mean_squared_error: 0.5377\n",
      "Epoch 50/50\n",
      "107/107 [==============================] - 0s 4ms/step - loss: 0.3219 - root_mean_squared_error: 0.5674\n",
      "Epoch 1/50\n",
      "107/107 [==============================] - 1s 4ms/step - loss: 2.2351 - root_mean_squared_error: 1.4950\n",
      "Epoch 2/50\n",
      "107/107 [==============================] - 0s 4ms/step - loss: 1.8550 - root_mean_squared_error: 1.3620\n",
      "Epoch 3/50\n",
      "107/107 [==============================] - 0s 4ms/step - loss: 1.7660 - root_mean_squared_error: 1.3289\n",
      "Epoch 4/50\n",
      "107/107 [==============================] - 0s 4ms/step - loss: 1.6485 - root_mean_squared_error: 1.2840\n",
      "Epoch 5/50\n",
      "107/107 [==============================] - 0s 4ms/step - loss: 1.4538 - root_mean_squared_error: 1.2057\n",
      "Epoch 6/50\n",
      "107/107 [==============================] - 0s 4ms/step - loss: 1.3605 - root_mean_squared_error: 1.1664\n",
      "Epoch 7/50\n",
      "107/107 [==============================] - 0s 4ms/step - loss: 1.3413 - root_mean_squared_error: 1.1582\n",
      "Epoch 8/50\n",
      "107/107 [==============================] - 0s 4ms/step - loss: 1.1309 - root_mean_squared_error: 1.0634\n",
      "Epoch 9/50\n",
      "107/107 [==============================] - 0s 4ms/step - loss: 1.0440 - root_mean_squared_error: 1.0218\n",
      "Epoch 10/50\n",
      "107/107 [==============================] - 0s 4ms/step - loss: 0.9467 - root_mean_squared_error: 0.9730\n",
      "Epoch 11/50\n",
      "107/107 [==============================] - 0s 4ms/step - loss: 0.8521 - root_mean_squared_error: 0.9231\n",
      "Epoch 12/50\n",
      "107/107 [==============================] - 0s 4ms/step - loss: 0.8052 - root_mean_squared_error: 0.8974\n",
      "Epoch 13/50\n",
      "107/107 [==============================] - 0s 4ms/step - loss: 0.7460 - root_mean_squared_error: 0.8637\n",
      "Epoch 14/50\n",
      "107/107 [==============================] - 0s 4ms/step - loss: 0.6661 - root_mean_squared_error: 0.8161\n",
      "Epoch 15/50\n",
      "107/107 [==============================] - 0s 4ms/step - loss: 0.6733 - root_mean_squared_error: 0.8206\n",
      "Epoch 16/50\n",
      "107/107 [==============================] - 0s 4ms/step - loss: 0.6266 - root_mean_squared_error: 0.7916\n",
      "Epoch 17/50\n",
      "107/107 [==============================] - 0s 4ms/step - loss: 0.6264 - root_mean_squared_error: 0.7914\n",
      "Epoch 18/50\n",
      "107/107 [==============================] - 0s 4ms/step - loss: 0.5180 - root_mean_squared_error: 0.7197\n",
      "Epoch 19/50\n",
      "107/107 [==============================] - 0s 4ms/step - loss: 0.5501 - root_mean_squared_error: 0.7417\n",
      "Epoch 20/50\n",
      "107/107 [==============================] - 0s 4ms/step - loss: 0.4844 - root_mean_squared_error: 0.6960\n",
      "Epoch 21/50\n",
      "107/107 [==============================] - 0s 4ms/step - loss: 0.5261 - root_mean_squared_error: 0.7253\n",
      "Epoch 22/50\n",
      "107/107 [==============================] - 0s 4ms/step - loss: 0.4986 - root_mean_squared_error: 0.7061\n",
      "Epoch 23/50\n",
      "107/107 [==============================] - 0s 4ms/step - loss: 0.4640 - root_mean_squared_error: 0.6812\n",
      "Epoch 24/50\n",
      "107/107 [==============================] - 0s 4ms/step - loss: 0.4666 - root_mean_squared_error: 0.6831\n",
      "Epoch 25/50\n",
      "107/107 [==============================] - 0s 4ms/step - loss: 0.4313 - root_mean_squared_error: 0.6567\n",
      "Epoch 26/50\n",
      "107/107 [==============================] - 0s 4ms/step - loss: 0.4152 - root_mean_squared_error: 0.6444\n",
      "Epoch 27/50\n",
      "107/107 [==============================] - 0s 4ms/step - loss: 0.4120 - root_mean_squared_error: 0.6419\n",
      "Epoch 28/50\n",
      "107/107 [==============================] - 0s 4ms/step - loss: 0.3901 - root_mean_squared_error: 0.6246\n",
      "Epoch 29/50\n",
      "107/107 [==============================] - 0s 4ms/step - loss: 0.4055 - root_mean_squared_error: 0.6368\n",
      "Epoch 30/50\n",
      "107/107 [==============================] - 0s 4ms/step - loss: 0.3730 - root_mean_squared_error: 0.6107\n",
      "Epoch 31/50\n",
      "107/107 [==============================] - 0s 4ms/step - loss: 0.3619 - root_mean_squared_error: 0.6016\n",
      "Epoch 32/50\n",
      "107/107 [==============================] - 0s 4ms/step - loss: 0.4133 - root_mean_squared_error: 0.6429\n",
      "Epoch 33/50\n",
      "107/107 [==============================] - 0s 4ms/step - loss: 0.3491 - root_mean_squared_error: 0.5909\n",
      "Epoch 34/50\n",
      "107/107 [==============================] - 0s 4ms/step - loss: 0.3291 - root_mean_squared_error: 0.5736\n",
      "Epoch 35/50\n",
      "107/107 [==============================] - 0s 4ms/step - loss: 0.3031 - root_mean_squared_error: 0.5505\n",
      "Epoch 36/50\n",
      "107/107 [==============================] - 0s 4ms/step - loss: 0.3198 - root_mean_squared_error: 0.5655\n",
      "Epoch 37/50\n",
      "107/107 [==============================] - 0s 4ms/step - loss: 0.3255 - root_mean_squared_error: 0.5705\n",
      "Epoch 38/50\n",
      "107/107 [==============================] - 0s 4ms/step - loss: 0.3090 - root_mean_squared_error: 0.5559\n",
      "Epoch 39/50\n",
      "107/107 [==============================] - 0s 4ms/step - loss: 0.2944 - root_mean_squared_error: 0.5426\n",
      "Epoch 40/50\n",
      "107/107 [==============================] - 0s 4ms/step - loss: 0.3193 - root_mean_squared_error: 0.5651\n",
      "Epoch 41/50\n",
      "107/107 [==============================] - 0s 4ms/step - loss: 0.3356 - root_mean_squared_error: 0.5793\n",
      "Epoch 42/50\n",
      "107/107 [==============================] - 0s 4ms/step - loss: 0.3411 - root_mean_squared_error: 0.5841\n",
      "Epoch 43/50\n",
      "107/107 [==============================] - 0s 4ms/step - loss: 0.3124 - root_mean_squared_error: 0.5589\n",
      "Epoch 44/50\n",
      "107/107 [==============================] - 0s 4ms/step - loss: 0.2779 - root_mean_squared_error: 0.5272\n",
      "Epoch 45/50\n",
      "107/107 [==============================] - 0s 4ms/step - loss: 0.3134 - root_mean_squared_error: 0.5599\n",
      "Epoch 46/50\n",
      "107/107 [==============================] - 0s 4ms/step - loss: 0.3143 - root_mean_squared_error: 0.5606\n",
      "Epoch 47/50\n",
      "107/107 [==============================] - 0s 4ms/step - loss: 0.2918 - root_mean_squared_error: 0.5402\n",
      "Epoch 48/50\n",
      "107/107 [==============================] - 0s 4ms/step - loss: 0.2930 - root_mean_squared_error: 0.5413\n",
      "Epoch 49/50\n",
      "107/107 [==============================] - 0s 4ms/step - loss: 0.3452 - root_mean_squared_error: 0.5875\n",
      "Epoch 50/50\n",
      "107/107 [==============================] - 0s 4ms/step - loss: 0.2758 - root_mean_squared_error: 0.5252\n",
      "Epoch 1/50\n",
      "107/107 [==============================] - 1s 4ms/step - loss: 2.3228 - root_mean_squared_error: 1.5241\n",
      "Epoch 2/50\n",
      "107/107 [==============================] - 0s 4ms/step - loss: 1.9340 - root_mean_squared_error: 1.3907\n",
      "Epoch 3/50\n",
      "107/107 [==============================] - 0s 4ms/step - loss: 1.7912 - root_mean_squared_error: 1.3384\n",
      "Epoch 4/50\n",
      "107/107 [==============================] - 0s 4ms/step - loss: 1.6625 - root_mean_squared_error: 1.2894\n",
      "Epoch 5/50\n",
      "107/107 [==============================] - 0s 4ms/step - loss: 1.5269 - root_mean_squared_error: 1.2357\n",
      "Epoch 6/50\n",
      "107/107 [==============================] - 0s 4ms/step - loss: 1.4512 - root_mean_squared_error: 1.2046\n",
      "Epoch 7/50\n",
      "107/107 [==============================] - 0s 4ms/step - loss: 1.3430 - root_mean_squared_error: 1.1589\n",
      "Epoch 8/50\n",
      "107/107 [==============================] - 0s 4ms/step - loss: 1.2629 - root_mean_squared_error: 1.1238\n",
      "Epoch 9/50\n",
      "107/107 [==============================] - 0s 4ms/step - loss: 1.1035 - root_mean_squared_error: 1.0505\n",
      "Epoch 10/50\n",
      "107/107 [==============================] - 0s 4ms/step - loss: 1.0842 - root_mean_squared_error: 1.0413\n",
      "Epoch 11/50\n",
      "107/107 [==============================] - 0s 4ms/step - loss: 0.9547 - root_mean_squared_error: 0.9771\n",
      "Epoch 12/50\n",
      "107/107 [==============================] - 0s 4ms/step - loss: 0.9267 - root_mean_squared_error: 0.9626\n",
      "Epoch 13/50\n",
      "107/107 [==============================] - 0s 4ms/step - loss: 0.8815 - root_mean_squared_error: 0.9389\n",
      "Epoch 14/50\n",
      "107/107 [==============================] - 0s 4ms/step - loss: 0.8741 - root_mean_squared_error: 0.9349\n",
      "Epoch 15/50\n",
      "107/107 [==============================] - 0s 4ms/step - loss: 0.7891 - root_mean_squared_error: 0.8883\n",
      "Epoch 16/50\n",
      "107/107 [==============================] - 0s 4ms/step - loss: 0.7402 - root_mean_squared_error: 0.8604\n",
      "Epoch 17/50\n",
      "107/107 [==============================] - 0s 4ms/step - loss: 0.7067 - root_mean_squared_error: 0.8407\n",
      "Epoch 18/50\n",
      "107/107 [==============================] - 0s 4ms/step - loss: 0.6992 - root_mean_squared_error: 0.8362\n",
      "Epoch 19/50\n",
      "107/107 [==============================] - 0s 4ms/step - loss: 0.6584 - root_mean_squared_error: 0.8114\n",
      "Epoch 20/50\n",
      "107/107 [==============================] - 0s 4ms/step - loss: 0.5805 - root_mean_squared_error: 0.7619\n",
      "Epoch 21/50\n",
      "107/107 [==============================] - 0s 4ms/step - loss: 0.5089 - root_mean_squared_error: 0.7134\n",
      "Epoch 22/50\n",
      "107/107 [==============================] - 0s 4ms/step - loss: 0.4854 - root_mean_squared_error: 0.6967\n",
      "Epoch 23/50\n",
      "107/107 [==============================] - 0s 4ms/step - loss: 0.5172 - root_mean_squared_error: 0.7192\n",
      "Epoch 24/50\n",
      "107/107 [==============================] - 0s 4ms/step - loss: 0.5113 - root_mean_squared_error: 0.7150\n",
      "Epoch 25/50\n",
      "107/107 [==============================] - 0s 4ms/step - loss: 0.5302 - root_mean_squared_error: 0.7281\n",
      "Epoch 26/50\n",
      "107/107 [==============================] - 0s 4ms/step - loss: 0.4757 - root_mean_squared_error: 0.6897\n",
      "Epoch 27/50\n",
      "107/107 [==============================] - 0s 4ms/step - loss: 0.4889 - root_mean_squared_error: 0.6992\n",
      "Epoch 28/50\n",
      "107/107 [==============================] - 0s 4ms/step - loss: 0.4419 - root_mean_squared_error: 0.6648\n",
      "Epoch 29/50\n",
      "107/107 [==============================] - 0s 4ms/step - loss: 0.4625 - root_mean_squared_error: 0.6800\n",
      "Epoch 30/50\n",
      "107/107 [==============================] - 0s 4ms/step - loss: 0.4186 - root_mean_squared_error: 0.6470\n",
      "Epoch 31/50\n",
      "107/107 [==============================] - 0s 4ms/step - loss: 0.3923 - root_mean_squared_error: 0.6263\n",
      "Epoch 32/50\n",
      "107/107 [==============================] - 0s 4ms/step - loss: 0.3835 - root_mean_squared_error: 0.6193\n",
      "Epoch 33/50\n",
      "107/107 [==============================] - 0s 4ms/step - loss: 0.3843 - root_mean_squared_error: 0.6199\n",
      "Epoch 34/50\n",
      "107/107 [==============================] - 0s 4ms/step - loss: 0.3766 - root_mean_squared_error: 0.6137\n",
      "Epoch 35/50\n",
      "107/107 [==============================] - 0s 4ms/step - loss: 0.4358 - root_mean_squared_error: 0.6602\n",
      "Epoch 36/50\n",
      "107/107 [==============================] - 0s 4ms/step - loss: 0.3751 - root_mean_squared_error: 0.6125\n",
      "Epoch 37/50\n",
      "107/107 [==============================] - 0s 4ms/step - loss: 0.3502 - root_mean_squared_error: 0.5918\n",
      "Epoch 38/50\n",
      "107/107 [==============================] - 0s 4ms/step - loss: 0.3480 - root_mean_squared_error: 0.5899\n",
      "Epoch 39/50\n",
      "107/107 [==============================] - 0s 4ms/step - loss: 0.3623 - root_mean_squared_error: 0.6019\n",
      "Epoch 40/50\n",
      "107/107 [==============================] - 0s 4ms/step - loss: 0.3680 - root_mean_squared_error: 0.6066\n",
      "Epoch 41/50\n",
      "107/107 [==============================] - 0s 4ms/step - loss: 0.4099 - root_mean_squared_error: 0.6402\n",
      "Epoch 42/50\n",
      "107/107 [==============================] - 0s 4ms/step - loss: 0.3545 - root_mean_squared_error: 0.5954\n",
      "Epoch 43/50\n",
      "107/107 [==============================] - 0s 4ms/step - loss: 0.3321 - root_mean_squared_error: 0.5763\n",
      "Epoch 44/50\n",
      "107/107 [==============================] - 0s 4ms/step - loss: 0.3821 - root_mean_squared_error: 0.6181\n",
      "Epoch 45/50\n",
      "107/107 [==============================] - 0s 4ms/step - loss: 0.3571 - root_mean_squared_error: 0.5976\n",
      "Epoch 46/50\n",
      "107/107 [==============================] - 0s 4ms/step - loss: 0.2953 - root_mean_squared_error: 0.5435\n",
      "Epoch 47/50\n",
      "107/107 [==============================] - 0s 4ms/step - loss: 0.2958 - root_mean_squared_error: 0.5439\n",
      "Epoch 48/50\n",
      "107/107 [==============================] - 0s 4ms/step - loss: 0.2915 - root_mean_squared_error: 0.5399\n",
      "Epoch 49/50\n",
      "107/107 [==============================] - 0s 4ms/step - loss: 0.3009 - root_mean_squared_error: 0.5485\n",
      "Epoch 50/50\n",
      "107/107 [==============================] - 0s 4ms/step - loss: 0.3104 - root_mean_squared_error: 0.5571\n",
      "Epoch 1/50\n",
      "108/108 [==============================] - 1s 4ms/step - loss: 2.0728 - root_mean_squared_error: 1.4397\n",
      "Epoch 2/50\n",
      "108/108 [==============================] - 0s 4ms/step - loss: 1.8499 - root_mean_squared_error: 1.3601\n",
      "Epoch 3/50\n",
      "108/108 [==============================] - 0s 4ms/step - loss: 1.6347 - root_mean_squared_error: 1.2785\n",
      "Epoch 4/50\n",
      "108/108 [==============================] - 0s 4ms/step - loss: 1.5391 - root_mean_squared_error: 1.2406\n",
      "Epoch 5/50\n",
      "108/108 [==============================] - 0s 4ms/step - loss: 1.4335 - root_mean_squared_error: 1.1973\n",
      "Epoch 6/50\n",
      "108/108 [==============================] - 0s 4ms/step - loss: 1.3682 - root_mean_squared_error: 1.1697\n",
      "Epoch 7/50\n",
      "108/108 [==============================] - 0s 4ms/step - loss: 1.3740 - root_mean_squared_error: 1.1722\n",
      "Epoch 8/50\n",
      "108/108 [==============================] - 0s 4ms/step - loss: 1.2720 - root_mean_squared_error: 1.1278\n",
      "Epoch 9/50\n",
      "108/108 [==============================] - 0s 4ms/step - loss: 1.1171 - root_mean_squared_error: 1.0569\n",
      "Epoch 10/50\n",
      "108/108 [==============================] - 0s 4ms/step - loss: 1.0689 - root_mean_squared_error: 1.0339\n",
      "Epoch 11/50\n",
      "108/108 [==============================] - 0s 4ms/step - loss: 0.9468 - root_mean_squared_error: 0.9730\n",
      "Epoch 12/50\n",
      "108/108 [==============================] - 0s 4ms/step - loss: 0.8978 - root_mean_squared_error: 0.9475\n",
      "Epoch 13/50\n",
      "108/108 [==============================] - 0s 4ms/step - loss: 0.9908 - root_mean_squared_error: 0.9954\n",
      "Epoch 14/50\n",
      "108/108 [==============================] - 0s 4ms/step - loss: 0.7876 - root_mean_squared_error: 0.8875\n",
      "Epoch 15/50\n",
      "108/108 [==============================] - 0s 4ms/step - loss: 0.7389 - root_mean_squared_error: 0.8596\n",
      "Epoch 16/50\n",
      "108/108 [==============================] - 0s 4ms/step - loss: 0.7225 - root_mean_squared_error: 0.8500\n",
      "Epoch 17/50\n",
      "108/108 [==============================] - 0s 4ms/step - loss: 0.6629 - root_mean_squared_error: 0.8142\n",
      "Epoch 18/50\n",
      "108/108 [==============================] - 0s 4ms/step - loss: 0.6585 - root_mean_squared_error: 0.8115\n",
      "Epoch 19/50\n",
      "108/108 [==============================] - 0s 4ms/step - loss: 0.6374 - root_mean_squared_error: 0.7984\n",
      "Epoch 20/50\n",
      "108/108 [==============================] - 0s 4ms/step - loss: 0.6126 - root_mean_squared_error: 0.7827\n",
      "Epoch 21/50\n",
      "108/108 [==============================] - 0s 4ms/step - loss: 0.5483 - root_mean_squared_error: 0.7405\n",
      "Epoch 22/50\n",
      "108/108 [==============================] - 0s 4ms/step - loss: 0.5097 - root_mean_squared_error: 0.7140\n",
      "Epoch 23/50\n",
      "108/108 [==============================] - 0s 4ms/step - loss: 0.5113 - root_mean_squared_error: 0.7150\n",
      "Epoch 24/50\n",
      "108/108 [==============================] - 0s 4ms/step - loss: 0.5349 - root_mean_squared_error: 0.7314\n",
      "Epoch 25/50\n",
      "108/108 [==============================] - 0s 4ms/step - loss: 0.4749 - root_mean_squared_error: 0.6892\n",
      "Epoch 26/50\n",
      "108/108 [==============================] - 0s 4ms/step - loss: 0.4567 - root_mean_squared_error: 0.6758\n",
      "Epoch 27/50\n",
      "108/108 [==============================] - 0s 4ms/step - loss: 0.4052 - root_mean_squared_error: 0.6365\n",
      "Epoch 28/50\n",
      "108/108 [==============================] - 0s 4ms/step - loss: 0.4133 - root_mean_squared_error: 0.6429\n",
      "Epoch 29/50\n",
      "108/108 [==============================] - 0s 4ms/step - loss: 0.4138 - root_mean_squared_error: 0.6433\n",
      "Epoch 30/50\n",
      "108/108 [==============================] - 0s 4ms/step - loss: 0.4867 - root_mean_squared_error: 0.6976\n",
      "Epoch 31/50\n",
      "108/108 [==============================] - 0s 4ms/step - loss: 0.4046 - root_mean_squared_error: 0.6361\n",
      "Epoch 32/50\n",
      "108/108 [==============================] - 0s 4ms/step - loss: 0.4486 - root_mean_squared_error: 0.6698\n",
      "Epoch 33/50\n",
      "108/108 [==============================] - 0s 4ms/step - loss: 0.4648 - root_mean_squared_error: 0.6818\n",
      "Epoch 34/50\n",
      "108/108 [==============================] - 0s 4ms/step - loss: 0.4482 - root_mean_squared_error: 0.6695\n",
      "Epoch 35/50\n",
      "108/108 [==============================] - 0s 4ms/step - loss: 0.3698 - root_mean_squared_error: 0.6081\n",
      "Epoch 36/50\n",
      "108/108 [==============================] - 0s 4ms/step - loss: 0.4035 - root_mean_squared_error: 0.6352\n",
      "Epoch 37/50\n",
      "108/108 [==============================] - 0s 4ms/step - loss: 0.3511 - root_mean_squared_error: 0.5925\n",
      "Epoch 38/50\n",
      "108/108 [==============================] - 0s 4ms/step - loss: 0.3943 - root_mean_squared_error: 0.6280\n",
      "Epoch 39/50\n",
      "108/108 [==============================] - 0s 4ms/step - loss: 0.4083 - root_mean_squared_error: 0.6390\n",
      "Epoch 40/50\n",
      "108/108 [==============================] - 0s 4ms/step - loss: 0.3755 - root_mean_squared_error: 0.6128\n",
      "Epoch 41/50\n",
      "108/108 [==============================] - 0s 4ms/step - loss: 0.3621 - root_mean_squared_error: 0.6018\n",
      "Epoch 42/50\n",
      "108/108 [==============================] - 0s 4ms/step - loss: 0.3852 - root_mean_squared_error: 0.6207\n",
      "Epoch 43/50\n",
      "108/108 [==============================] - 0s 4ms/step - loss: 0.3513 - root_mean_squared_error: 0.5927\n",
      "Epoch 44/50\n",
      "108/108 [==============================] - 0s 4ms/step - loss: 0.3528 - root_mean_squared_error: 0.5939\n",
      "Epoch 45/50\n",
      "108/108 [==============================] - 0s 4ms/step - loss: 0.3525 - root_mean_squared_error: 0.5937\n",
      "Epoch 46/50\n",
      "108/108 [==============================] - 0s 4ms/step - loss: 0.3464 - root_mean_squared_error: 0.5885\n",
      "Epoch 47/50\n",
      "108/108 [==============================] - 0s 4ms/step - loss: 0.3376 - root_mean_squared_error: 0.5811\n",
      "Epoch 48/50\n",
      "108/108 [==============================] - 0s 4ms/step - loss: 0.3085 - root_mean_squared_error: 0.5555\n",
      "Epoch 49/50\n",
      "108/108 [==============================] - 0s 4ms/step - loss: 0.2797 - root_mean_squared_error: 0.5288\n",
      "Epoch 50/50\n",
      "108/108 [==============================] - 0s 4ms/step - loss: 0.2770 - root_mean_squared_error: 0.5263\n",
      "Epoch 1/50\n",
      "108/108 [==============================] - 1s 4ms/step - loss: 2.4393 - root_mean_squared_error: 1.5618\n",
      "Epoch 2/50\n",
      "108/108 [==============================] - 0s 4ms/step - loss: 2.0652 - root_mean_squared_error: 1.4371\n",
      "Epoch 3/50\n",
      "108/108 [==============================] - 0s 4ms/step - loss: 1.9713 - root_mean_squared_error: 1.4040\n",
      "Epoch 4/50\n",
      "108/108 [==============================] - 0s 4ms/step - loss: 1.7776 - root_mean_squared_error: 1.3333\n",
      "Epoch 5/50\n",
      "108/108 [==============================] - 0s 4ms/step - loss: 1.7213 - root_mean_squared_error: 1.3120\n",
      "Epoch 6/50\n",
      "108/108 [==============================] - 0s 4ms/step - loss: 1.6525 - root_mean_squared_error: 1.2855\n",
      "Epoch 7/50\n",
      "108/108 [==============================] - 0s 4ms/step - loss: 1.5781 - root_mean_squared_error: 1.2562\n",
      "Epoch 8/50\n",
      "108/108 [==============================] - 0s 4ms/step - loss: 1.4490 - root_mean_squared_error: 1.2037\n",
      "Epoch 9/50\n",
      "108/108 [==============================] - 0s 4ms/step - loss: 1.3479 - root_mean_squared_error: 1.1610\n",
      "Epoch 10/50\n",
      "108/108 [==============================] - 0s 4ms/step - loss: 1.2169 - root_mean_squared_error: 1.1031\n",
      "Epoch 11/50\n",
      "108/108 [==============================] - 0s 4ms/step - loss: 1.2458 - root_mean_squared_error: 1.1161\n",
      "Epoch 12/50\n",
      "108/108 [==============================] - 0s 4ms/step - loss: 1.1893 - root_mean_squared_error: 1.0906\n",
      "Epoch 13/50\n",
      "108/108 [==============================] - 0s 4ms/step - loss: 1.0356 - root_mean_squared_error: 1.0177\n",
      "Epoch 14/50\n",
      "108/108 [==============================] - 0s 4ms/step - loss: 0.9171 - root_mean_squared_error: 0.9577\n",
      "Epoch 15/50\n",
      "108/108 [==============================] - 0s 4ms/step - loss: 0.8959 - root_mean_squared_error: 0.9465\n",
      "Epoch 16/50\n",
      "108/108 [==============================] - 0s 4ms/step - loss: 0.8487 - root_mean_squared_error: 0.9213\n",
      "Epoch 17/50\n",
      "108/108 [==============================] - 0s 4ms/step - loss: 0.8671 - root_mean_squared_error: 0.9312\n",
      "Epoch 18/50\n",
      "108/108 [==============================] - 0s 4ms/step - loss: 0.7269 - root_mean_squared_error: 0.8526\n",
      "Epoch 19/50\n",
      "108/108 [==============================] - 0s 4ms/step - loss: 0.8502 - root_mean_squared_error: 0.9221\n",
      "Epoch 20/50\n",
      "108/108 [==============================] - 0s 4ms/step - loss: 0.7454 - root_mean_squared_error: 0.8634\n",
      "Epoch 21/50\n",
      "108/108 [==============================] - 0s 4ms/step - loss: 0.7097 - root_mean_squared_error: 0.8424\n",
      "Epoch 22/50\n",
      "108/108 [==============================] - 0s 4ms/step - loss: 0.7246 - root_mean_squared_error: 0.8512\n",
      "Epoch 23/50\n",
      "108/108 [==============================] - 0s 4ms/step - loss: 0.6445 - root_mean_squared_error: 0.8028\n",
      "Epoch 24/50\n",
      "108/108 [==============================] - 0s 4ms/step - loss: 0.6137 - root_mean_squared_error: 0.7834\n",
      "Epoch 25/50\n",
      "108/108 [==============================] - 0s 4ms/step - loss: 0.5605 - root_mean_squared_error: 0.7486\n",
      "Epoch 26/50\n",
      "108/108 [==============================] - 0s 4ms/step - loss: 0.5627 - root_mean_squared_error: 0.7501\n",
      "Epoch 27/50\n",
      "108/108 [==============================] - 0s 4ms/step - loss: 0.4965 - root_mean_squared_error: 0.7046\n",
      "Epoch 28/50\n",
      "108/108 [==============================] - 0s 4ms/step - loss: 0.5536 - root_mean_squared_error: 0.7440\n",
      "Epoch 29/50\n",
      "108/108 [==============================] - 0s 4ms/step - loss: 0.4615 - root_mean_squared_error: 0.6793\n",
      "Epoch 30/50\n",
      "108/108 [==============================] - 0s 4ms/step - loss: 0.4990 - root_mean_squared_error: 0.7064\n",
      "Epoch 31/50\n",
      "108/108 [==============================] - 0s 4ms/step - loss: 0.4970 - root_mean_squared_error: 0.7050\n",
      "Epoch 32/50\n",
      "108/108 [==============================] - 0s 4ms/step - loss: 0.4333 - root_mean_squared_error: 0.6583\n",
      "Epoch 33/50\n",
      "108/108 [==============================] - 0s 4ms/step - loss: 0.4021 - root_mean_squared_error: 0.6341\n",
      "Epoch 34/50\n",
      "108/108 [==============================] - 0s 4ms/step - loss: 0.4389 - root_mean_squared_error: 0.6625\n",
      "Epoch 35/50\n",
      "108/108 [==============================] - 0s 4ms/step - loss: 0.3976 - root_mean_squared_error: 0.6306\n",
      "Epoch 36/50\n",
      "108/108 [==============================] - 0s 4ms/step - loss: 0.4261 - root_mean_squared_error: 0.6528\n",
      "Epoch 37/50\n",
      "108/108 [==============================] - 0s 4ms/step - loss: 0.4256 - root_mean_squared_error: 0.6524\n",
      "Epoch 38/50\n",
      "108/108 [==============================] - 0s 4ms/step - loss: 0.4527 - root_mean_squared_error: 0.6728\n",
      "Epoch 39/50\n",
      "108/108 [==============================] - 0s 4ms/step - loss: 0.4996 - root_mean_squared_error: 0.7068\n",
      "Epoch 40/50\n",
      "108/108 [==============================] - 0s 4ms/step - loss: 0.4506 - root_mean_squared_error: 0.6713\n",
      "Epoch 41/50\n",
      "108/108 [==============================] - 0s 4ms/step - loss: 0.4128 - root_mean_squared_error: 0.6425\n",
      "Epoch 42/50\n",
      "108/108 [==============================] - 0s 4ms/step - loss: 0.4037 - root_mean_squared_error: 0.6354\n",
      "Epoch 43/50\n",
      "108/108 [==============================] - 0s 4ms/step - loss: 0.3767 - root_mean_squared_error: 0.6137\n",
      "Epoch 44/50\n",
      "108/108 [==============================] - 0s 4ms/step - loss: 0.3635 - root_mean_squared_error: 0.6029\n",
      "Epoch 45/50\n",
      "108/108 [==============================] - 0s 4ms/step - loss: 0.3671 - root_mean_squared_error: 0.6059\n",
      "Epoch 46/50\n",
      "108/108 [==============================] - 0s 4ms/step - loss: 0.3504 - root_mean_squared_error: 0.5920\n",
      "Epoch 47/50\n",
      "108/108 [==============================] - 0s 4ms/step - loss: 0.4015 - root_mean_squared_error: 0.6337\n",
      "Epoch 48/50\n",
      "108/108 [==============================] - 0s 4ms/step - loss: 0.3472 - root_mean_squared_error: 0.5893\n",
      "Epoch 49/50\n",
      "108/108 [==============================] - 0s 4ms/step - loss: 0.3594 - root_mean_squared_error: 0.5995\n",
      "Epoch 50/50\n",
      "108/108 [==============================] - 0s 4ms/step - loss: 0.3288 - root_mean_squared_error: 0.5734\n",
      "Result: single observation, normal NN\n",
      "RMSE with NN: 1.648\n",
      "RMSE with LR: 1.535\n"
     ]
    }
   ],
   "source": [
    "# now fix the epoch, remove early stopping, and run cross_val_predict\n",
    "yhat_nn = cross_val_predict_for_nn(# implemented in util.py\n",
    "    model_func=define_model,\n",
    "    model_params={\"input_dim\": len(columns), \"lr\": 0.005},\n",
    "    #model=define_model(input_dim=len(columns), lr=0.005),\n",
    "    X=X, Y=Y,\n",
    "    callback=None,\n",
    "    batch_size=64,\n",
    "    epochs=50,#int(estimated_epochs),\n",
    "    early_stopping=False,\n",
    "    verbose=True,\n",
    "    add_noise=True\n",
    ")\n",
    "rmse_nn = mean_squared_error(Y, yhat_nn, squared=False)\n",
    "linear_regression = LinearRegression()\n",
    "yhat_lr = cross_val_predict(linear_regression, X, Y, n_jobs=-1)\n",
    "rmse_lr = mean_squared_error(Y, yhat_lr, squared=False)\n",
    "\n",
    "print(\"Result: single observation, normal NN\")\n",
    "print(\"RMSE with NN: {:.3f}\".format(rmse_nn))\n",
    "print(\"RMSE with LR: {:.3f}\".format(rmse_lr))\n"
   ]
  },
  {
   "cell_type": "markdown",
   "metadata": {},
   "source": [
    "<hr>"
   ]
  },
  {
   "cell_type": "markdown",
   "metadata": {},
   "source": [
    "## Heteroskedastick regression"
   ]
  },
  {
   "cell_type": "code",
   "execution_count": 8,
   "metadata": {},
   "outputs": [
    {
     "name": "stdout",
     "output_type": "stream",
     "text": [
      "Station with skn: 396.0 was chosen out of all stations with more than 750 historical (non-filled) rainfall observations.\n",
      "There are 778 rainfall observations from this station.\n"
     ]
    }
   ],
   "source": [
    "columns = C_SINGLE\n",
    "# load nonfilled dataset\n",
    "df_nonfilled = pd.read_csv(f\"{BASE_DIR}/nonfilled_dataset.csv\", usecols=C_SINGLE + C_COMMON)\n",
    "# sample a station: returned object is sorted.\n",
    "df_station = sample_station(df=df_nonfilled, threshold=750, seed=42)"
   ]
  },
  {
   "cell_type": "code",
   "execution_count": 50,
   "metadata": {},
   "outputs": [],
   "source": [
    "def define_hetero_model(input_dim=20, lr=0.0065):\n",
    "    inputs = Input(shape=(input_dim,))\n",
    "    x = Dense(units=512, activation='relu', kernel_initializer='normal')(inputs)\n",
    "    x = Dense(units=512, activation='relu', kernel_initializer='normal')(x)\n",
    "    x = Dropout(rate=0.5)(x)\n",
    "    x = Dense(units=512, activation='relu', kernel_initializer='normal')(x)\n",
    "    x = Dropout(rate=0.5)(x)\n",
    "    \n",
    "    m = Dense(units=256, activation='relu', kernel_initializer='normal')(x)\n",
    "    m = Dense(units=10, activation='relu', kernel_initializer='normal')(m)\n",
    "    m = Dense(units=1, activation='linear', kernel_initializer='normal')(m)\n",
    "    \n",
    "    s = Dense(units=256, activation='relu', kernel_initializer='normal')(x)\n",
    "    s = Dense(units=10, activation='relu', kernel_initializer='normal')(s)\n",
    "    s = Dense(units=1, activation='linear', kernel_initializer='normal', kernel_regularizer=tf.keras.regularizers.L2(l2=100))(s)\n",
    "    \n",
    "    ms = Concatenate(axis=-1)([m, s])\n",
    "    outputs = tfp.layers.DistributionLambda(\n",
    "        make_distribution_fn=lambda t: tfd.Normal(\n",
    "            loc=2.5 * t[...,0] + 0.01, scale=tf.math.softplus(0.001*t[...,1]+0.03)#this part is important\n",
    "        ),\n",
    "        convert_to_tensor_fn=lambda s: s.mean()\n",
    "    )(ms)\n",
    "    \n",
    "    model = Model(inputs=inputs, outputs=outputs)\n",
    "    \n",
    "    model.compile(\n",
    "        optimizer=tf.optimizers.Adam(learning_rate=lr),\n",
    "        loss=lambda y, p_y: -p_y.log_prob(y),\n",
    "        metrics=[RootMeanSquaredError()]\n",
    "    )\n",
    "    \n",
    "    return model"
   ]
  },
  {
   "cell_type": "code",
   "execution_count": 14,
   "metadata": {},
   "outputs": [
    {
     "name": "stdout",
     "output_type": "stream",
     "text": [
      "mean number of epochs: 27.6\n",
      "Std: 7.093\n"
     ]
    }
   ],
   "source": [
    "X = np.array(df_station[columns])\n",
    "Y = np.array(df_station['data_in'])\n",
    "model = define_hetero_model(input_dim=len(columns), lr=0.0005)\n",
    "\n",
    "estimated_epochs = estimate_epochs(\n",
    "    X=X, Y=Y,\n",
    "    model_func=define_hetero_model,\n",
    "    model_params=dict(input_dim=len(columns), lr=0.0005)\n",
    ")"
   ]
  },
  {
   "cell_type": "code",
   "execution_count": 15,
   "metadata": {},
   "outputs": [
    {
     "name": "stdout",
     "output_type": "stream",
     "text": [
      "RMSE with NN: 1.505\n"
     ]
    }
   ],
   "source": [
    "# now fix the epoch, remove early stopping, and run cross_val_predict\n",
    "epochs = int(estimated_epochs)\n",
    "n_ensamble = 1\n",
    "y_preds = []\n",
    "for _ in range(n_ensamble):\n",
    "    yhat_nn = cross_val_predict_for_nn(# implemented in util.py\n",
    "        # model=define_hetero_model(input_dim=len(columns), lr=0.0005),\n",
    "        model_func=define_hetero_model,\n",
    "        model_params={\"input_dim\": len(columns), \"lr\": 0.0005},\n",
    "        X=X, Y=Y,\n",
    "        callback=None,\n",
    "        batch_size=64,\n",
    "        epochs=epochs,\n",
    "        early_stopping=False,\n",
    "        verbose=False\n",
    "    )\n",
    "    y_preds.append(yhat_nn)\n",
    "    print(f\"{_+1}/{n_ensamble}\", end='\\r')\n",
    "mean_pred = np.mean(y_preds, axis=0)\n",
    "rmse_nn = mean_squared_error(Y, mean_pred, squared=False)\n",
    "print(\"RMSE with NN: {:.3f}\".format(rmse_nn))"
   ]
  },
  {
   "cell_type": "code",
   "execution_count": 16,
   "metadata": {},
   "outputs": [
    {
     "name": "stdout",
     "output_type": "stream",
     "text": [
      "RMSE with LR: 1.535\n"
     ]
    }
   ],
   "source": [
    "linear_regression = LinearRegression()\n",
    "yhat_lr = cross_val_predict(linear_regression, X, Y, n_jobs=-1)\n",
    "rmse_lr = mean_squared_error(Y, yhat_lr, squared=False)\n",
    "print(\"RMSE with LR: {:.3f}\".format(rmse_lr))"
   ]
  },
  {
   "cell_type": "code",
   "execution_count": 17,
   "metadata": {},
   "outputs": [
    {
     "data": {
      "text/plain": [
       "<matplotlib.legend.Legend at 0x2b09078f1e70>"
      ]
     },
     "execution_count": 17,
     "metadata": {},
     "output_type": "execute_result"
    },
    {
     "data": {
      "image/png": "[encoded data removed]",
      "text/plain": [
       "<Figure size 432x288 with 1 Axes>"
      ]
     },
     "metadata": {
      "needs_background": "light"
     },
     "output_type": "display_data"
    }
   ],
   "source": [
    "fig, ax = plt.subplots(1)\n",
    "ax.scatter(Y, yhat_lr, s=3, color='b', label='linear')\n",
    "ax.scatter(Y, mean_pred, s=3, color='r', label='NN')\n",
    "ax.set_facecolor('lightgray')\n",
    "ax.plot([0, 20], [0, 20])\n",
    "ax.set_aspect('equal')\n",
    "ax.legend()"
   ]
  },
  {
   "cell_type": "markdown",
   "metadata": {},
   "source": [
    "<hr>\n",
    "\n",
    "# is normal distribution appropriate for heteroskedastic regression?\n"
   ]
  },
  {
   "cell_type": "code",
   "execution_count": 89,
   "metadata": {},
   "outputs": [
    {
     "data": {
      "image/png": "[encoded data removed]",
      "text/plain": [
       "<Figure size 1440x720 with 17 Axes>"
      ]
     },
     "metadata": {
      "needs_background": "light"
     },
     "output_type": "display_data"
    }
   ],
   "source": [
    "fig = plt.figure(figsize=(20,10), )\n",
    "fig.tight_layout()\n",
    "\n",
    "ax = fig.add_subplot(1,2,1)\n",
    "ax.scatter(df_station['month'], df_station['data_in'], s=2)\n",
    "ax.set_aspect('equal')\n",
    "\n",
    "for i in range(16):\n",
    "    idx = (2 * int(i/4) + 1) * 4 + (i%4) + 1\n",
    "    ax = fig.add_subplot(4, 8, idx)\n",
    "    ax.scatter(df_station['month'], df_station[columns[i]], s=1)\n",
    "    ax.set_xticklabels([])\n",
    "    ax.set_yticks([])\n",
    "    ax.set_xlabel(columns[i])"
   ]
  },
  {
   "cell_type": "markdown",
   "metadata": {},
   "source": [
    "### approximating the distribution as normal distribution does not seem feasible, as more data points are around zero.\n",
    "### switch to gamma distribution (justtify with MLE) and possibly provide month information"
   ]
  },
  {
   "cell_type": "code",
   "execution_count": 237,
   "metadata": {},
   "outputs": [
    {
     "name": "stdout",
     "output_type": "stream",
     "text": [
      "the best set of params: (0.6315789473684212, -0.10526315789473695, 2.6842105263157894)\n"
     ]
    }
   ],
   "source": [
    "L_min = 1000000\n",
    "min_tuple = 0\n",
    "# estimate parameters by iterating over\n",
    "for a in np.linspace(-4, 4, 20):\n",
    "    print(f\"{a}\", end='\\r')\n",
    "    for loc in np.linspace(-2, 2, 20):\n",
    "        for scale in np.linspace(-3, 3, 20):\n",
    "            nll = - gamma(a=a, loc=loc, scale=scale).logpdf(df_station['data_in']).sum()\n",
    "            if nll < L_min:\n",
    "                min_tuple = (a, loc, scale)\n",
    "                L_min = nll\n",
    "print(f\"the best set of params: {min_tuple}\")"
   ]
  },
  {
   "cell_type": "code",
   "execution_count": 251,
   "metadata": {},
   "outputs": [
    {
     "name": "stdout",
     "output_type": "stream",
     "text": [
      "the best set of params: 0\n"
     ]
    }
   ],
   "source": [
    "# L_min = 1000000\n",
    "# min_tuple = 0\n",
    "# # estimate parameters by iterating over\n",
    "# for a in np.linspace(0, 4, 20):\n",
    "#     print(f\"{a}\", end='\\r')\n",
    "#     for b in np.linspace(1, 200, 100):\n",
    "#         nll = - beta(a=a, b=b).logpdf(df_station['data_in']).sum()\n",
    "#         if nll < L_min:\n",
    "#             min_tuple = (a, b)\n",
    "#             L_min = nll\n",
    "# print(f\"the best set of params: {min_tuple}\")"
   ]
  },
  {
   "cell_type": "code",
   "execution_count": 249,
   "metadata": {},
   "outputs": [
    {
     "name": "stdout",
     "output_type": "stream",
     "text": [
      "\n"
     ]
    },
    {
     "data": {
      "image/png": "[encoded data removed]",
      "text/plain": [
       "<Figure size 2400x1200 with 2 Axes>"
      ]
     },
     "metadata": {
      "needs_background": "light"
     },
     "output_type": "display_data"
    }
   ],
   "source": [
    "fig, axs = plt.subplots(2, dpi=120, figsize=(20,10))\n",
    "plt.tight_layout()\n",
    "\n",
    "xmin, xmax = (-1, 12)\n",
    "ymin, ymax = (0, 2.1)\n",
    "x_ = np.linspace(xmin, xmax, 10000)\n",
    "\n",
    "# axs[0]\n",
    "y_ = gamma(*min_tuple).pdf(x_)\n",
    "df_station['data_in'].hist(ax=axs[0], bins=100, density=True, color=\"#1f77b4\")\n",
    "df_station['data_in'].hist(ax=axs[1], bins=100, density=True)\n",
    "\n",
    "axs[0].scatter(x_, y_, s=0.1, c='r')\n",
    "axs[0].scatter(x_, beta(a=2, b=90).pdf(x_), color='orange')\n",
    "axs[0].set_ylim((None, 2.1))\n",
    "axs[0].set_title(\"NLL: {:.0f}\".format(L_min))\n",
    "\n",
    "# axs[1]\n",
    "y_ = norm(loc=np.mean(df_station['data_in']), scale=np.std(df_station['data_in'])).pdf(x_)\n",
    "axs[1].scatter(x_, y_, s=0.1, c='r')\n",
    "axs[1].set_ylim((None, 2.1))\n",
    "nll = - norm(loc=np.mean(df_station['data_in']), scale=np.std(df_station['data_in'])).logpdf(df_station['data_in']).sum()\n",
    "axs[1].set_title(\"NLL: {:.0f}\".format(nll))\n",
    "print()"
   ]
  },
  {
   "cell_type": "code",
   "execution_count": 2,
   "metadata": {},
   "outputs": [
    {
     "name": "stdout",
     "output_type": "stream",
     "text": [
      "Station with skn: 396.0 was chosen out of all stations with more than 750 historical (non-filled) rainfall observations.\n",
      "There are 778 rainfall observations from this station.\n"
     ]
    }
   ],
   "source": [
    "columns = C_SINGLE\n",
    "# load nonfilled dataset\n",
    "df_nonfilled = pd.read_csv(f\"{BASE_DIR}/nonfilled_dataset.csv\", usecols=C_SINGLE + C_COMMON)\n",
    "# sample a station: returned object is sorted.\n",
    "df_station = sample_station(df=df_nonfilled, threshold=750, seed=42)"
   ]
  },
  {
   "cell_type": "code",
   "execution_count": 241,
   "metadata": {},
   "outputs": [],
   "source": [
    "def safe_nll(y, p_y):\n",
    "    epsilon=1e-5\n",
    "    return -p_y.log_prob(y + epsilon) # y = 0 yields nan\n",
    "\n",
    "def define_hetero_model(input_dim=20, lr=0.0065):\n",
    "    inputs = Input(shape=(input_dim,))\n",
    "    x = Dense(units=512, activation='relu', kernel_initializer='normal')(inputs)\n",
    "    x = Dense(units=512, activation='relu', kernel_initializer='normal')(x)\n",
    "    x = Dropout(rate=0.5)(x)\n",
    "    x = Dense(units=512, activation='relu', kernel_initializer='normal')(x)\n",
    "    x = Dropout(rate=0.5)(x)\n",
    "    \n",
    "    m = Dense(units=256, activation='relu', kernel_initializer='normal')(x)\n",
    "    m = Dense(units=10, activation='relu', kernel_initializer='normal')(m)\n",
    "    m = Dense(units=1, activation='linear', kernel_initializer='normal')(m)\n",
    "    \n",
    "    s = Dense(units=256, activation='relu', kernel_initializer='normal')(x)\n",
    "    s = Dense(units=10, activation='relu', kernel_initializer='normal')(s)\n",
    "    s = Dense(units=1, activation='linear', kernel_initializer='normal')(s)\n",
    "    \n",
    "    ms = Concatenate(axis=-1)([m, s])\n",
    "    outputs = tfp.layers.DistributionLambda(\n",
    "        make_distribution_fn=lambda t: tfd.Gamma(\n",
    "            concentration=tf.math.softplus(t[...,0]), rate=tf.math.softplus(t[...,1])\n",
    "        ),\n",
    "        convert_to_tensor_fn=lambda d: d.mean()\n",
    "    )(ms)\n",
    "    \n",
    "    model = Model(inputs=inputs, outputs=outputs)\n",
    "    \n",
    "    model.compile(\n",
    "        optimizer=tf.optimizers.Adam(learning_rate=lr),\n",
    "        #loss=lambda y, p_y: -p_y.log_prob(y),\n",
    "        loss=safe_nll,\n",
    "        metrics=[RootMeanSquaredError()]\n",
    "    )\n",
    "    \n",
    "    return model"
   ]
  },
  {
   "cell_type": "code",
   "execution_count": 280,
   "metadata": {},
   "outputs": [
    {
     "name": "stdout",
     "output_type": "stream",
     "text": [
      "\n"
     ]
    }
   ],
   "source": [
    "X = np.array(df_station[columns])\n",
    "Y = np.array(df_station['data_in'])\n",
    "\n",
    "model = define_hetero_model(input_dim=len(columns), lr=0.0005)\n",
    "intermediate_output = tf.keras.Model(model.input, model.get_layer(model.layers[-2].name).output)\n",
    "\n",
    "model.fit(\n",
    "    X, Y, epochs=10,\n",
    "    batch_size=64,\n",
    "    verbose=False\n",
    ")\n",
    "print()"
   ]
  },
  {
   "cell_type": "code",
   "execution_count": 281,
   "metadata": {},
   "outputs": [
    {
     "data": {
      "text/plain": [
       "array([-0.5258852 , -0.05388762], dtype=float32)"
      ]
     },
     "execution_count": 281,
     "metadata": {},
     "output_type": "execute_result"
    }
   ],
   "source": [
    "extracted = intermediate_output(X[0].reshape(1, -1)).numpy().reshape(-1,)\n",
    "extracted"
   ]
  },
  {
   "cell_type": "code",
   "execution_count": 282,
   "metadata": {},
   "outputs": [],
   "source": [
    "# dist = tfd.Gamma.experimental_from_mean_variance(tf.math.softplus(10.31), tf.math.softplus(-5.83))\n",
    "# dist = tfd.Normal(tf.math.softplus(10.31), tf.math.softplus(1.59))\n",
    "dist = tfd.Gamma(concentration=tf.math.softplus(extracted[0]), rate=tf.math.softplus(extracted[1]), allow_nan_stats=True)\n",
    "nll = dist.log_prob(Y+1e-5)"
   ]
  },
  {
   "cell_type": "code",
   "execution_count": 283,
   "metadata": {},
   "outputs": [
    {
     "data": {
      "text/plain": [
       "<matplotlib.collections.PathCollection at 0x2b70e76526e0>"
      ]
     },
     "execution_count": 283,
     "metadata": {},
     "output_type": "execute_result"
    },
    {
     "data": {
      "image/png": "[encoded data removed]",
      "text/plain": [
       "<Figure size 432x288 with 1 Axes>"
      ]
     },
     "metadata": {
      "needs_background": "light"
     },
     "output_type": "display_data"
    }
   ],
   "source": [
    "x_ = np.linspace(-1, 10, 1000)\n",
    "fig, ax = plt.subplots(1)\n",
    "ax.scatter(x_, dist.prob(x_), s=1)"
   ]
  },
  {
   "cell_type": "code",
   "execution_count": 305,
   "metadata": {},
   "outputs": [
    {
     "name": "stdout",
     "output_type": "stream",
     "text": [
      "mean number of epochs: 11.2\n",
      "Std: 1.077\n"
     ]
    }
   ],
   "source": [
    "X = np.array(df_station[columns])\n",
    "Y = np.array(df_station['data_in'])\n",
    "Y = np.clip(Y, a_min=1e-10, a_max=None)\n",
    "learning_rate = 0.001\n",
    "model = define_hetero_model(input_dim=len(columns), lr=learning_rate)\n",
    "\n",
    "estimated_epochs = estimate_epochs(\n",
    "    X=X, Y=Y,\n",
    "    model_func=define_hetero_model,\n",
    "    model_params=dict(input_dim=len(columns), lr=learning_rate),\n",
    "    n_iter=10\n",
    ")"
   ]
  },
  {
   "cell_type": "code",
   "execution_count": 307,
   "metadata": {},
   "outputs": [
    {
     "name": "stdout",
     "output_type": "stream",
     "text": [
      "RMSE with NN: 1.481\n"
     ]
    }
   ],
   "source": [
    "# now fix the epoch, remove early stopping, and run cross_val_predict\n",
    "epochs = int(estimated_epochs)\n",
    "n_ensamble = 1\n",
    "y_preds = []\n",
    "for _ in range(n_ensamble):\n",
    "    yhat_nn = cross_val_predict_for_nn(# implemented in util.py\n",
    "        # model=define_hetero_model(input_dim=len(columns), lr=0.0005),\n",
    "        model_func=define_hetero_model,\n",
    "        model_params={\"input_dim\": len(columns), \"lr\": learning_rate},\n",
    "        X=X, Y=Y,\n",
    "        callback=None,\n",
    "        batch_size=64,\n",
    "        epochs=epochs,\n",
    "        early_stopping=False,\n",
    "        verbose=False\n",
    "    )\n",
    "    y_preds.append(yhat_nn)\n",
    "    print(f\"{_+1}/{n_ensamble}\", end='\\r')\n",
    "mean_pred = np.mean(y_preds, axis=0)\n",
    "rmse_nn = mean_squared_error(Y, mean_pred, squared=False)\n",
    "print(\"RMSE with NN: {:.3f}\".format(rmse_nn))"
   ]
  },
  {
   "cell_type": "code",
   "execution_count": 300,
   "metadata": {},
   "outputs": [
    {
     "data": {
      "text/plain": [
       "<matplotlib.legend.Legend at 0x2b70e62b9540>"
      ]
     },
     "execution_count": 300,
     "metadata": {},
     "output_type": "execute_result"
    },
    {
     "data": {
      "image/png": "[encoded data removed]",
      "text/plain": [
       "<Figure size 432x288 with 1 Axes>"
      ]
     },
     "metadata": {
      "needs_background": "light"
     },
     "output_type": "display_data"
    }
   ],
   "source": [
    "fig, ax = plt.subplots(1)\n",
    "# ax.scatter(Y, yhat_lr, s=3, color='b', label='linear')\n",
    "ax.scatter(Y, mean_pred, s=3, color='r', label='NN')\n",
    "ax.set_facecolor('lightgray')\n",
    "ax.plot([0, 20], [0, 20])\n",
    "ax.set_aspect('equal')\n",
    "ax.legend()"
   ]
  },
  {
   "cell_type": "markdown",
   "metadata": {},
   "source": [
    "<hr> Below turned out to be failure: the model was training on top of other fold during \n",
    "\n",
    "```cross_val_predict_for_nn```, which means that the final performance report is based on 'training' loss"
   ]
  },
  {
   "cell_type": "code",
   "execution_count": null,
   "metadata": {},
   "outputs": [],
   "source": []
  },
  {
   "cell_type": "markdown",
   "metadata": {},
   "source": [
    "# Use grid data"
   ]
  },
  {
   "cell_type": "code",
   "execution_count": 20,
   "metadata": {},
   "outputs": [
    {
     "name": "stdout",
     "output_type": "stream",
     "text": [
      "Station with skn: 396.0 was chosen out of all stations with more than 750 historical (non-filled) rainfall observations.\n",
      "There are 778 rainfall observations from this station.\n"
     ]
    }
   ],
   "source": [
    "columns = C_GRID\n",
    "# load nonfilled dataset\n",
    "df_nonfilled = pd.read_csv(f\"{BASE_DIR}/nonfilled_dataset.csv\", usecols=columns + C_COMMON)\n",
    "# sample a station: returned object is sorted.\n",
    "df_station = sample_station(df=df_nonfilled, threshold=750, seed=42)"
   ]
  },
  {
   "cell_type": "code",
   "execution_count": 21,
   "metadata": {},
   "outputs": [],
   "source": [
    "def define_hetero_model(input_dim=20, lr=0.0065):\n",
    "    inputs = Input(shape=(input_dim,))\n",
    "    x = Dense(units=1024, activation='relu', kernel_initializer='normal')(inputs)\n",
    "    x = Dense(units=1024, activation='relu', kernel_initializer='normal')(x)\n",
    "    x = Dropout(rate=0.5)(x)\n",
    "    \n",
    "    m = Dense(units=512, activation='relu', kernel_initializer='normal')(x)\n",
    "    m = Dense(units=1, activation='linear', kernel_initializer='normal')(m)\n",
    "    \n",
    "    s = Dense(units=512, activation='relu', kernel_initializer='normal')(x)\n",
    "    s = Dense(units=1, activation='linear', kernel_initializer='normal', kernel_regularizer=tf.keras.regularizers.L2(l2=100))(s)\n",
    "    #s = Dense(units=1, activation='linear', kernel_initializer='normal')(s)\n",
    "    \n",
    "    ms = Concatenate(axis=-1)([m, s])\n",
    "    outputs = tfp.layers.DistributionLambda(\n",
    "        make_distribution_fn=lambda t: tfd.Normal(\n",
    "            loc=2.5 * t[...,0] + 0.01, scale=tf.math.softplus(0.001*t[...,1]+0.03)#this part is important\n",
    "            #loc=2.5 * t[...,0] + 0.01, scale=tf.math.softplus(t[...,1])#this part is important\n",
    "        ),\n",
    "        convert_to_tensor_fn=lambda s: s.mean()\n",
    "    )(ms)\n",
    "    \n",
    "    model = Model(inputs=inputs, outputs=outputs)\n",
    "    \n",
    "    model.compile(\n",
    "        optimizer=tf.optimizers.Adam(learning_rate=lr),\n",
    "        loss=lambda y, p_y: -p_y.log_prob(y),\n",
    "        metrics=[RootMeanSquaredError()]\n",
    "    )\n",
    "    \n",
    "    return model"
   ]
  },
  {
   "cell_type": "code",
   "execution_count": 22,
   "metadata": {},
   "outputs": [
    {
     "name": "stdout",
     "output_type": "stream",
     "text": [
      "mean number of epochs: 10.5\n",
      "Std: 6.874\n"
     ]
    }
   ],
   "source": [
    "X = np.array(df_station[columns])\n",
    "Y = np.array(df_station['data_in'])\n",
    "model = define_hetero_model(input_dim=len(columns), lr=0.0005)\n",
    "\n",
    "estimated_epochs = estimate_epochs(X, Y, model)"
   ]
  },
  {
   "cell_type": "code",
   "execution_count": 23,
   "metadata": {},
   "outputs": [
    {
     "name": "stdout",
     "output_type": "stream",
     "text": [
      "RMSE with NN: 1.536\n"
     ]
    }
   ],
   "source": [
    "# now fix the epoch, remove early stopping, and run cross_val_predict\n",
    "epochs = int(estimated_epochs)\n",
    "n_ensamble = 10\n",
    "y_preds = []\n",
    "for _ in range(n_ensamble):\n",
    "    yhat_nn = cross_val_predict_for_nn(# implemented in util.py\n",
    "        # model=define_hetero_model(input_dim=len(columns), lr=0.0005),\n",
    "        model_func=define_hetero_model,\n",
    "        model_params={\"input_dim\": len(columns), \"lr\": 0.0005},\n",
    "        X=X, Y=Y,\n",
    "        callback=None,\n",
    "        batch_size=64,\n",
    "        epochs=epochs,\n",
    "        early_stopping=False,\n",
    "        verbose=False\n",
    "    )\n",
    "    y_preds.append(yhat_nn)\n",
    "    print(f\"{_+1}/{n_ensamble}\", end='\\r')\n",
    "mean_pred = np.mean(y_preds, axis=0)\n",
    "rmse_nn = mean_squared_error(Y, mean_pred, squared=False)\n",
    "print(\"RMSE with NN: {:.3f}\".format(rmse_nn))"
   ]
  },
  {
   "cell_type": "code",
   "execution_count": 24,
   "metadata": {},
   "outputs": [
    {
     "name": "stdout",
     "output_type": "stream",
     "text": [
      "RMSE with LR: 1.654\n"
     ]
    }
   ],
   "source": [
    "linear_regression = LinearRegression()\n",
    "yhat_lr = cross_val_predict(linear_regression, X, Y, n_jobs=-1)\n",
    "rmse_lr = mean_squared_error(Y, yhat_lr, squared=False)\n",
    "print(\"RMSE with LR: {:.3f}\".format(rmse_lr))"
   ]
  },
  {
   "cell_type": "code",
   "execution_count": 25,
   "metadata": {},
   "outputs": [
    {
     "data": {
      "text/plain": [
       "<matplotlib.legend.Legend at 0x2ae4ef7c88b0>"
      ]
     },
     "execution_count": 25,
     "metadata": {},
     "output_type": "execute_result"
    },
    {
     "data": {
      "image/png": "[encoded data removed]",
      "text/plain": [
       "<Figure size 432x288 with 1 Axes>"
      ]
     },
     "metadata": {
      "needs_background": "light"
     },
     "output_type": "display_data"
    }
   ],
   "source": [
    "fig, ax = plt.subplots(1)\n",
    "ax.scatter(Y, yhat_lr, s=3, color='b', label='linear')\n",
    "ax.scatter(Y, mean_pred, s=3, color='r', label='NN')\n",
    "ax.set_facecolor('lightgray')\n",
    "ax.plot([0, 20], [0, 20])\n",
    "ax.set_aspect('equal')\n",
    "ax.legend()"
   ]
  },
  {
   "cell_type": "markdown",
   "metadata": {},
   "source": [
    "# add noise"
   ]
  },
  {
   "cell_type": "code",
   "execution_count": 34,
   "metadata": {},
   "outputs": [
    {
     "name": "stdout",
     "output_type": "stream",
     "text": [
      "Station with skn: 396.0 was chosen out of all stations with more than 750 historical (non-filled) rainfall observations.\n",
      "There are 778 rainfall observations from this station.\n"
     ]
    }
   ],
   "source": [
    "# # load datasets\n",
    "columns = C_GRID\n",
    "# load nonfilled dataset\n",
    "df_nonfilled = pd.read_csv(f\"{BASE_DIR}/nonfilled_dataset.csv\", usecols=columns + C_COMMON)\n",
    "# sample a station: returned object is sorted.\n",
    "df_station = sample_station(df=df_nonfilled, threshold=750, seed=42)"
   ]
  },
  {
   "cell_type": "code",
   "execution_count": 35,
   "metadata": {},
   "outputs": [],
   "source": [
    "def define_hetero_model(input_dim=20, lr=0.0065):\n",
    "    inputs = Input(shape=(input_dim,))\n",
    "    x = Dense(units=1024, activation='relu', kernel_initializer='normal')(inputs)\n",
    "    x = Dense(units=1024, activation='relu', kernel_initializer='normal')(x)\n",
    "    x = Dense(units=1024, activation='relu', kernel_initializer='normal')(x)\n",
    "    x = Dropout(rate=0.5)(x)\n",
    "    \n",
    "    m = Dense(units=512, activation='relu', kernel_initializer='normal')(x)\n",
    "    m = Dense(units=1, activation='linear', kernel_initializer='normal')(m)\n",
    "    \n",
    "    s = Dense(units=512, activation='relu', kernel_initializer='normal')(x)\n",
    "    s = Dense(units=1, activation='linear', kernel_initializer='normal', kernel_regularizer=tf.keras.regularizers.L2(l2=200))(s)\n",
    "    #s = Dense(units=1, activation='linear', kernel_initializer='normal')(s)\n",
    "    \n",
    "    ms = Concatenate(axis=-1)([m, s])\n",
    "    outputs = tfp.layers.DistributionLambda(\n",
    "        make_distribution_fn=lambda t: tfd.Normal(\n",
    "            loc=2.5 * t[...,0] + 0.01, scale=tf.math.softplus(0.001*t[...,1]+0.03)#this part is important\n",
    "            #loc=2.5 * t[...,0] + 0.01, scale=tf.math.softplus(t[...,1])#this part is important\n",
    "        ),\n",
    "        convert_to_tensor_fn=lambda s: s.mean()\n",
    "    )(ms)\n",
    "    \n",
    "    model = Model(inputs=inputs, outputs=outputs)\n",
    "    \n",
    "    model.compile(\n",
    "        optimizer=tf.optimizers.Adam(learning_rate=lr),\n",
    "        loss=lambda y, p_y: -p_y.log_prob(y),\n",
    "        metrics=[RootMeanSquaredError()]\n",
    "    )\n",
    "    \n",
    "    return model"
   ]
  },
  {
   "cell_type": "code",
   "execution_count": 37,
   "metadata": {},
   "outputs": [
    {
     "name": "stdout",
     "output_type": "stream",
     "text": [
      "mean number of epochs: 59.7\n",
      "Std: 9.716\n"
     ]
    }
   ],
   "source": [
    "X = np.array(df_station[columns])\n",
    "Y = np.array(df_station['data_in'])\n",
    "# model = define_hetero_model(input_dim=len(columns), lr=0.0005)\n",
    "\n",
    "estimated_epochs = estimate_epochs(\n",
    "    X=X, Y=Y,\n",
    "    model_func=define_hetero_model,\n",
    "    model_params={\"input_dim\": len(columns), \"lr\": 0.0005},\n",
    "    n_iter=10\n",
    ") # this part does not have noise in the dataset,,, and it does not reset the model..."
   ]
  },
  {
   "cell_type": "code",
   "execution_count": 39,
   "metadata": {},
   "outputs": [
    {
     "name": "stdout",
     "output_type": "stream",
     "text": [
      "Epoch 1/59\n",
      "107/107 [==============================] - 3s 18ms/step - loss: 122.7263 - root_mean_squared_error: 1.6370\n",
      "Epoch 2/59\n",
      "107/107 [==============================] - 2s 18ms/step - loss: 21.5805 - root_mean_squared_error: 1.0951\n",
      "Epoch 3/59\n",
      "107/107 [==============================] - 2s 18ms/step - loss: 4.5666 - root_mean_squared_error: 0.8185\n",
      "Epoch 4/59\n",
      "107/107 [==============================] - 2s 19ms/step - loss: 1.5557 - root_mean_squared_error: 0.6481\n",
      "Epoch 5/59\n",
      "107/107 [==============================] - 2s 18ms/step - loss: 1.0173 - root_mean_squared_error: 0.5931\n",
      "Epoch 6/59\n",
      "107/107 [==============================] - 2s 18ms/step - loss: 0.8658 - root_mean_squared_error: 0.5280\n",
      "Epoch 7/59\n",
      "107/107 [==============================] - 2s 18ms/step - loss: 0.8086 - root_mean_squared_error: 0.4833\n",
      "Epoch 8/59\n",
      "107/107 [==============================] - 2s 19ms/step - loss: 0.8267 - root_mean_squared_error: 0.5033\n",
      "Epoch 9/59\n",
      "107/107 [==============================] - 2s 20ms/step - loss: 0.7494 - root_mean_squared_error: 0.4195\n",
      "Epoch 10/59\n",
      "107/107 [==============================] - 2s 19ms/step - loss: 0.7710 - root_mean_squared_error: 0.4445\n",
      "Epoch 11/59\n",
      "107/107 [==============================] - 2s 18ms/step - loss: 0.7397 - root_mean_squared_error: 0.4078\n",
      "Epoch 12/59\n",
      "107/107 [==============================] - 2s 19ms/step - loss: 0.7044 - root_mean_squared_error: 0.3618\n",
      "Epoch 13/59\n",
      "107/107 [==============================] - 2s 19ms/step - loss: 0.7359 - root_mean_squared_error: 0.4031\n",
      "Epoch 14/59\n",
      "107/107 [==============================] - 2s 18ms/step - loss: 0.7103 - root_mean_squared_error: 0.3699\n",
      "Epoch 15/59\n",
      "107/107 [==============================] - 2s 18ms/step - loss: 0.6981 - root_mean_squared_error: 0.3529\n",
      "Epoch 16/59\n",
      "107/107 [==============================] - 2s 18ms/step - loss: 0.6917 - root_mean_squared_error: 0.3438\n",
      "Epoch 17/59\n",
      "107/107 [==============================] - 2s 18ms/step - loss: 0.6956 - root_mean_squared_error: 0.3495\n",
      "Epoch 18/59\n",
      "107/107 [==============================] - 2s 18ms/step - loss: 0.6785 - root_mean_squared_error: 0.3241\n",
      "Epoch 19/59\n",
      "107/107 [==============================] - 2s 19ms/step - loss: 0.6674 - root_mean_squared_error: 0.3063\n",
      "Epoch 20/59\n",
      "107/107 [==============================] - 2s 18ms/step - loss: 0.6904 - root_mean_squared_error: 0.3420\n",
      "Epoch 21/59\n",
      "107/107 [==============================] - 2s 18ms/step - loss: 0.7069 - root_mean_squared_error: 0.3654\n",
      "Epoch 22/59\n",
      "107/107 [==============================] - 2s 18ms/step - loss: 0.6928 - root_mean_squared_error: 0.3455\n",
      "Epoch 23/59\n",
      "107/107 [==============================] - 2s 18ms/step - loss: 0.6829 - root_mean_squared_error: 0.3310\n",
      "Epoch 24/59\n",
      "107/107 [==============================] - 2s 18ms/step - loss: 0.6780 - root_mean_squared_error: 0.3235\n",
      "Epoch 25/59\n",
      "107/107 [==============================] - 2s 18ms/step - loss: 0.6588 - root_mean_squared_error: 0.2923\n",
      "Epoch 26/59\n",
      "107/107 [==============================] - 2s 18ms/step - loss: 0.6795 - root_mean_squared_error: 0.3259\n",
      "Epoch 27/59\n",
      "107/107 [==============================] - 2s 19ms/step - loss: 0.6643 - root_mean_squared_error: 0.3016\n",
      "Epoch 28/59\n",
      "107/107 [==============================] - 2s 19ms/step - loss: 0.7163 - root_mean_squared_error: 0.3783\n",
      "Epoch 29/59\n",
      "107/107 [==============================] - 2s 18ms/step - loss: 0.6645 - root_mean_squared_error: 0.3020\n",
      "Epoch 30/59\n",
      "107/107 [==============================] - 2s 18ms/step - loss: 0.6822 - root_mean_squared_error: 0.3302\n",
      "Epoch 31/59\n",
      "107/107 [==============================] - 2s 18ms/step - loss: 0.6784 - root_mean_squared_error: 0.3244\n",
      "Epoch 32/59\n",
      "107/107 [==============================] - 2s 18ms/step - loss: 0.6720 - root_mean_squared_error: 0.3143\n",
      "Epoch 33/59\n",
      "107/107 [==============================] - 2s 18ms/step - loss: 0.6537 - root_mean_squared_error: 0.2837\n",
      "Epoch 34/59\n",
      "107/107 [==============================] - 2s 18ms/step - loss: 0.6695 - root_mean_squared_error: 0.3105\n",
      "Epoch 35/59\n",
      "107/107 [==============================] - 2s 18ms/step - loss: 0.6623 - root_mean_squared_error: 0.2986\n",
      "Epoch 36/59\n",
      "107/107 [==============================] - 2s 18ms/step - loss: 0.6441 - root_mean_squared_error: 0.2665\n",
      "Epoch 37/59\n",
      "107/107 [==============================] - 2s 18ms/step - loss: 0.6450 - root_mean_squared_error: 0.2681\n",
      "Epoch 38/59\n",
      "107/107 [==============================] - 2s 18ms/step - loss: 0.6449 - root_mean_squared_error: 0.2680\n",
      "Epoch 39/59\n",
      "107/107 [==============================] - 2s 18ms/step - loss: 0.6474 - root_mean_squared_error: 0.2727\n",
      "Epoch 40/59\n",
      "107/107 [==============================] - 2s 18ms/step - loss: 0.6409 - root_mean_squared_error: 0.2605\n",
      "Epoch 41/59\n",
      "107/107 [==============================] - 2s 18ms/step - loss: 0.6328 - root_mean_squared_error: 0.2447\n",
      "Epoch 42/59\n",
      "107/107 [==============================] - 2s 19ms/step - loss: 0.6387 - root_mean_squared_error: 0.2565\n",
      "Epoch 43/59\n",
      "107/107 [==============================] - 2s 18ms/step - loss: 0.6652 - root_mean_squared_error: 0.3039\n",
      "Epoch 44/59\n",
      "107/107 [==============================] - 2s 18ms/step - loss: 0.6386 - root_mean_squared_error: 0.2565\n",
      "Epoch 45/59\n",
      "107/107 [==============================] - 2s 19ms/step - loss: 0.6515 - root_mean_squared_error: 0.2805\n",
      "Epoch 46/59\n",
      "107/107 [==============================] - 2s 19ms/step - loss: 0.6534 - root_mean_squared_error: 0.2839\n",
      "Epoch 47/59\n",
      "107/107 [==============================] - 2s 18ms/step - loss: 0.6542 - root_mean_squared_error: 0.2854\n",
      "Epoch 48/59\n",
      "107/107 [==============================] - 2s 18ms/step - loss: 0.6654 - root_mean_squared_error: 0.3044\n",
      "Epoch 49/59\n",
      "107/107 [==============================] - 2s 19ms/step - loss: 0.6530 - root_mean_squared_error: 0.2835\n",
      "Epoch 50/59\n",
      "107/107 [==============================] - 2s 19ms/step - loss: 0.6448 - root_mean_squared_error: 0.2686\n",
      "Epoch 51/59\n",
      "107/107 [==============================] - 2s 18ms/step - loss: 0.6295 - root_mean_squared_error: 0.2384\n",
      "Epoch 52/59\n",
      "107/107 [==============================] - 2s 19ms/step - loss: 0.6291 - root_mean_squared_error: 0.2378\n",
      "Epoch 53/59\n",
      "107/107 [==============================] - 2s 19ms/step - loss: 0.6267 - root_mean_squared_error: 0.2327\n",
      "Epoch 54/59\n",
      "107/107 [==============================] - 2s 19ms/step - loss: 0.6484 - root_mean_squared_error: 0.2755\n",
      "Epoch 55/59\n",
      "107/107 [==============================] - 2s 18ms/step - loss: 0.6595 - root_mean_squared_error: 0.2950\n",
      "Epoch 56/59\n",
      "107/107 [==============================] - 2s 18ms/step - loss: 0.6200 - root_mean_squared_error: 0.2181\n",
      "Epoch 57/59\n",
      "107/107 [==============================] - 2s 19ms/step - loss: 0.6314 - root_mean_squared_error: 0.2430\n",
      "Epoch 58/59\n",
      "107/107 [==============================] - 2s 18ms/step - loss: 0.6399 - root_mean_squared_error: 0.2599\n",
      "Epoch 59/59\n",
      "107/107 [==============================] - 2s 18ms/step - loss: 0.6397 - root_mean_squared_error: 0.2595\n",
      "Epoch 1/59\n",
      "107/107 [==============================] - 3s 18ms/step - loss: 114.1598 - root_mean_squared_error: 1.8066\n",
      "Epoch 2/59\n",
      "107/107 [==============================] - 2s 19ms/step - loss: 21.3579 - root_mean_squared_error: 1.1079\n",
      "Epoch 3/59\n",
      "107/107 [==============================] - 2s 18ms/step - loss: 4.8581 - root_mean_squared_error: 0.8337\n",
      "Epoch 4/59\n",
      "107/107 [==============================] - 2s 18ms/step - loss: 1.6869 - root_mean_squared_error: 0.6823\n",
      "Epoch 5/59\n",
      "107/107 [==============================] - 2s 18ms/step - loss: 1.1030 - root_mean_squared_error: 0.6489\n",
      "Epoch 6/59\n",
      "107/107 [==============================] - 2s 17ms/step - loss: 0.8205 - root_mean_squared_error: 0.4807\n",
      "Epoch 7/59\n",
      "107/107 [==============================] - 2s 18ms/step - loss: 0.8285 - root_mean_squared_error: 0.5033\n",
      "Epoch 8/59\n",
      "107/107 [==============================] - 2s 19ms/step - loss: 0.8343 - root_mean_squared_error: 0.5109\n",
      "Epoch 9/59\n",
      "107/107 [==============================] - 2s 19ms/step - loss: 0.7502 - root_mean_squared_error: 0.4205\n",
      "Epoch 10/59\n",
      "107/107 [==============================] - 2s 18ms/step - loss: 0.7611 - root_mean_squared_error: 0.4333\n",
      "Epoch 11/59\n",
      "107/107 [==============================] - 2s 18ms/step - loss: 0.7429 - root_mean_squared_error: 0.4116\n",
      "Epoch 12/59\n",
      "107/107 [==============================] - 2s 18ms/step - loss: 0.7061 - root_mean_squared_error: 0.3641\n",
      "Epoch 13/59\n",
      "107/107 [==============================] - 2s 19ms/step - loss: 0.7082 - root_mean_squared_error: 0.3669\n",
      "Epoch 14/59\n",
      "107/107 [==============================] - 2s 19ms/step - loss: 0.7161 - root_mean_squared_error: 0.3776\n",
      "Epoch 15/59\n",
      "107/107 [==============================] - 2s 19ms/step - loss: 0.7002 - root_mean_squared_error: 0.3559\n",
      "Epoch 16/59\n",
      "107/107 [==============================] - 2s 19ms/step - loss: 0.7026 - root_mean_squared_error: 0.3592\n",
      "Epoch 17/59\n",
      "107/107 [==============================] - 2s 19ms/step - loss: 0.7169 - root_mean_squared_error: 0.3788\n",
      "Epoch 18/59\n",
      "107/107 [==============================] - 2s 18ms/step - loss: 0.6964 - root_mean_squared_error: 0.3505\n",
      "Epoch 19/59\n",
      "107/107 [==============================] - 2s 19ms/step - loss: 0.6873 - root_mean_squared_error: 0.3373\n",
      "Epoch 20/59\n",
      "107/107 [==============================] - 2s 19ms/step - loss: 0.6672 - root_mean_squared_error: 0.3059\n",
      "Epoch 21/59\n",
      "107/107 [==============================] - 2s 19ms/step - loss: 0.7044 - root_mean_squared_error: 0.3618\n",
      "Epoch 22/59\n",
      "107/107 [==============================] - 2s 19ms/step - loss: 0.6672 - root_mean_squared_error: 0.3060\n",
      "Epoch 23/59\n",
      "107/107 [==============================] - 2s 18ms/step - loss: 0.6807 - root_mean_squared_error: 0.3273\n",
      "Epoch 24/59\n",
      "107/107 [==============================] - 2s 18ms/step - loss: 0.6910 - root_mean_squared_error: 0.3428\n",
      "Epoch 25/59\n",
      "107/107 [==============================] - 2s 18ms/step - loss: 0.6919 - root_mean_squared_error: 0.3442\n",
      "Epoch 26/59\n",
      "107/107 [==============================] - 2s 18ms/step - loss: 0.6947 - root_mean_squared_error: 0.3483\n",
      "Epoch 27/59\n",
      "107/107 [==============================] - 2s 18ms/step - loss: 0.6767 - root_mean_squared_error: 0.3213\n",
      "Epoch 28/59\n",
      "107/107 [==============================] - 2s 19ms/step - loss: 0.6677 - root_mean_squared_error: 0.3070\n",
      "Epoch 29/59\n",
      "107/107 [==============================] - 2s 19ms/step - loss: 0.6682 - root_mean_squared_error: 0.3079\n",
      "Epoch 30/59\n",
      "107/107 [==============================] - 2s 18ms/step - loss: 0.6828 - root_mean_squared_error: 0.3308\n",
      "Epoch 31/59\n",
      "107/107 [==============================] - 2s 18ms/step - loss: 0.6842 - root_mean_squared_error: 0.3329\n",
      "Epoch 32/59\n",
      "107/107 [==============================] - 2s 18ms/step - loss: 0.6821 - root_mean_squared_error: 0.3298\n",
      "Epoch 33/59\n",
      "107/107 [==============================] - 2s 19ms/step - loss: 0.6984 - root_mean_squared_error: 0.3538\n",
      "Epoch 34/59\n",
      "107/107 [==============================] - 2s 18ms/step - loss: 0.7052 - root_mean_squared_error: 0.3633\n",
      "Epoch 35/59\n",
      "107/107 [==============================] - 2s 18ms/step - loss: 0.6646 - root_mean_squared_error: 0.3021\n",
      "Epoch 36/59\n",
      "107/107 [==============================] - 2s 18ms/step - loss: 0.6519 - root_mean_squared_error: 0.2804\n",
      "Epoch 37/59\n",
      "107/107 [==============================] - 2s 19ms/step - loss: 0.6519 - root_mean_squared_error: 0.2803\n",
      "Epoch 38/59\n",
      "107/107 [==============================] - 2s 18ms/step - loss: 0.6649 - root_mean_squared_error: 0.3028\n",
      "Epoch 39/59\n",
      "107/107 [==============================] - 2s 18ms/step - loss: 0.6380 - root_mean_squared_error: 0.2544\n",
      "Epoch 40/59\n",
      "107/107 [==============================] - 2s 18ms/step - loss: 0.6572 - root_mean_squared_error: 0.2899\n",
      "Epoch 41/59\n",
      "107/107 [==============================] - 2s 18ms/step - loss: 0.6616 - root_mean_squared_error: 0.2974\n",
      "Epoch 42/59\n",
      "107/107 [==============================] - 2s 19ms/step - loss: 0.6383 - root_mean_squared_error: 0.2551\n",
      "Epoch 43/59\n",
      "107/107 [==============================] - 2s 18ms/step - loss: 0.6521 - root_mean_squared_error: 0.2810\n",
      "Epoch 44/59\n",
      "107/107 [==============================] - 2s 18ms/step - loss: 0.6564 - root_mean_squared_error: 0.2887\n",
      "Epoch 45/59\n",
      "107/107 [==============================] - 2s 19ms/step - loss: 0.6540 - root_mean_squared_error: 0.2845\n",
      "Epoch 46/59\n",
      "107/107 [==============================] - 2s 18ms/step - loss: 0.6445 - root_mean_squared_error: 0.2674\n",
      "Epoch 47/59\n",
      "107/107 [==============================] - 2s 19ms/step - loss: 0.6670 - root_mean_squared_error: 0.3066\n",
      "Epoch 48/59\n",
      "107/107 [==============================] - 2s 19ms/step - loss: 0.6381 - root_mean_squared_error: 0.2552\n",
      "Epoch 49/59\n",
      "107/107 [==============================] - 2s 19ms/step - loss: 0.6296 - root_mean_squared_error: 0.2380\n",
      "Epoch 50/59\n",
      "107/107 [==============================] - 2s 19ms/step - loss: 0.6377 - root_mean_squared_error: 0.2544\n",
      "Epoch 51/59\n",
      "107/107 [==============================] - 2s 18ms/step - loss: 0.6389 - root_mean_squared_error: 0.2570\n",
      "Epoch 52/59\n",
      "107/107 [==============================] - 2s 19ms/step - loss: 0.6278 - root_mean_squared_error: 0.2343\n",
      "Epoch 53/59\n",
      "107/107 [==============================] - 2s 18ms/step - loss: 0.6268 - root_mean_squared_error: 0.2324\n",
      "Epoch 54/59\n",
      "107/107 [==============================] - 2s 18ms/step - loss: 0.6480 - root_mean_squared_error: 0.2742\n",
      "Epoch 55/59\n",
      "107/107 [==============================] - 2s 18ms/step - loss: 0.6723 - root_mean_squared_error: 0.3155\n",
      "Epoch 56/59\n",
      "107/107 [==============================] - 2s 19ms/step - loss: 0.6477 - root_mean_squared_error: 0.2738\n",
      "Epoch 57/59\n",
      "107/107 [==============================] - 2s 18ms/step - loss: 0.6542 - root_mean_squared_error: 0.2855\n",
      "Epoch 58/59\n",
      "107/107 [==============================] - 2s 18ms/step - loss: 0.6249 - root_mean_squared_error: 0.2285\n",
      "Epoch 59/59\n",
      "107/107 [==============================] - 2s 18ms/step - loss: 0.6256 - root_mean_squared_error: 0.2301\n",
      "Epoch 1/59\n",
      "107/107 [==============================] - 3s 18ms/step - loss: 138.8246 - root_mean_squared_error: 1.7561\n",
      "Epoch 2/59\n",
      "107/107 [==============================] - 2s 19ms/step - loss: 29.3464 - root_mean_squared_error: 1.0939\n",
      "Epoch 3/59\n",
      "107/107 [==============================] - 2s 19ms/step - loss: 7.3174 - root_mean_squared_error: 0.8328\n",
      "Epoch 4/59\n",
      "107/107 [==============================] - 2s 18ms/step - loss: 2.3997 - root_mean_squared_error: 0.6928\n",
      "Epoch 5/59\n",
      "107/107 [==============================] - 2s 19ms/step - loss: 1.2047 - root_mean_squared_error: 0.5874\n",
      "Epoch 6/59\n",
      "107/107 [==============================] - 2s 18ms/step - loss: 0.9084 - root_mean_squared_error: 0.5286\n",
      "Epoch 7/59\n",
      "107/107 [==============================] - 2s 18ms/step - loss: 0.8312 - root_mean_squared_error: 0.4982\n",
      "Epoch 8/59\n",
      "107/107 [==============================] - 2s 19ms/step - loss: 0.7866 - root_mean_squared_error: 0.4603\n",
      "Epoch 9/59\n",
      "107/107 [==============================] - 2s 18ms/step - loss: 0.7992 - root_mean_squared_error: 0.4752\n",
      "Epoch 10/59\n",
      "107/107 [==============================] - 2s 18ms/step - loss: 0.7773 - root_mean_squared_error: 0.4516\n",
      "Epoch 11/59\n",
      "107/107 [==============================] - 2s 19ms/step - loss: 0.7268 - root_mean_squared_error: 0.3915\n",
      "Epoch 12/59\n",
      "107/107 [==============================] - 2s 18ms/step - loss: 0.7062 - root_mean_squared_error: 0.3643\n",
      "Epoch 13/59\n",
      "107/107 [==============================] - 2s 18ms/step - loss: 0.7313 - root_mean_squared_error: 0.3973\n",
      "Epoch 14/59\n",
      "107/107 [==============================] - 2s 18ms/step - loss: 0.7048 - root_mean_squared_error: 0.3623\n",
      "Epoch 15/59\n",
      "107/107 [==============================] - 2s 18ms/step - loss: 0.7125 - root_mean_squared_error: 0.3729\n",
      "Epoch 16/59\n",
      "107/107 [==============================] - 2s 19ms/step - loss: 0.6849 - root_mean_squared_error: 0.3337\n",
      "Epoch 17/59\n",
      "107/107 [==============================] - 2s 19ms/step - loss: 0.7367 - root_mean_squared_error: 0.4042\n",
      "Epoch 18/59\n",
      "107/107 [==============================] - 2s 18ms/step - loss: 0.6942 - root_mean_squared_error: 0.3474\n",
      "Epoch 19/59\n",
      "107/107 [==============================] - 2s 18ms/step - loss: 0.6780 - root_mean_squared_error: 0.3232\n",
      "Epoch 20/59\n",
      "107/107 [==============================] - 2s 18ms/step - loss: 0.6773 - root_mean_squared_error: 0.3221\n",
      "Epoch 21/59\n",
      "107/107 [==============================] - 2s 18ms/step - loss: 0.6962 - root_mean_squared_error: 0.3503\n",
      "Epoch 22/59\n",
      "107/107 [==============================] - 2s 18ms/step - loss: 0.6925 - root_mean_squared_error: 0.3449\n",
      "Epoch 23/59\n",
      "107/107 [==============================] - 2s 18ms/step - loss: 0.6961 - root_mean_squared_error: 0.3502\n",
      "Epoch 24/59\n",
      "107/107 [==============================] - 2s 18ms/step - loss: 0.6942 - root_mean_squared_error: 0.3476\n",
      "Epoch 25/59\n",
      "107/107 [==============================] - 2s 18ms/step - loss: 0.6624 - root_mean_squared_error: 0.2981\n",
      "Epoch 26/59\n",
      "107/107 [==============================] - 2s 18ms/step - loss: 0.6605 - root_mean_squared_error: 0.2949\n",
      "Epoch 27/59\n",
      "107/107 [==============================] - 2s 18ms/step - loss: 0.6671 - root_mean_squared_error: 0.3061\n",
      "Epoch 28/59\n",
      "107/107 [==============================] - 2s 18ms/step - loss: 0.6577 - root_mean_squared_error: 0.2903\n",
      "Epoch 29/59\n",
      "107/107 [==============================] - 2s 18ms/step - loss: 0.6834 - root_mean_squared_error: 0.3318\n",
      "Epoch 30/59\n",
      "107/107 [==============================] - 2s 18ms/step - loss: 0.6662 - root_mean_squared_error: 0.3047\n",
      "Epoch 31/59\n",
      "107/107 [==============================] - 2s 18ms/step - loss: 0.6769 - root_mean_squared_error: 0.3218\n",
      "Epoch 32/59\n",
      "107/107 [==============================] - 2s 18ms/step - loss: 0.6578 - root_mean_squared_error: 0.2905\n",
      "Epoch 33/59\n",
      "107/107 [==============================] - 2s 18ms/step - loss: 0.6559 - root_mean_squared_error: 0.2873\n",
      "Epoch 34/59\n",
      "107/107 [==============================] - 2s 18ms/step - loss: 0.6622 - root_mean_squared_error: 0.2981\n",
      "Epoch 35/59\n",
      "107/107 [==============================] - 2s 18ms/step - loss: 0.6553 - root_mean_squared_error: 0.2863\n",
      "Epoch 36/59\n",
      "107/107 [==============================] - 2s 18ms/step - loss: 0.6587 - root_mean_squared_error: 0.2922\n",
      "Epoch 37/59\n",
      "107/107 [==============================] - 2s 18ms/step - loss: 0.7136 - root_mean_squared_error: 0.3748\n",
      "Epoch 38/59\n",
      "107/107 [==============================] - 2s 18ms/step - loss: 0.6681 - root_mean_squared_error: 0.3081\n",
      "Epoch 39/59\n",
      "107/107 [==============================] - 2s 18ms/step - loss: 0.6753 - root_mean_squared_error: 0.3196\n",
      "Epoch 40/59\n",
      "107/107 [==============================] - 2s 18ms/step - loss: 0.6512 - root_mean_squared_error: 0.2793\n",
      "Epoch 41/59\n",
      "107/107 [==============================] - 2s 18ms/step - loss: 0.6625 - root_mean_squared_error: 0.2989\n",
      "Epoch 42/59\n",
      "107/107 [==============================] - 2s 18ms/step - loss: 0.6493 - root_mean_squared_error: 0.2760\n",
      "Epoch 43/59\n",
      "107/107 [==============================] - 2s 18ms/step - loss: 0.6493 - root_mean_squared_error: 0.2761\n",
      "Epoch 44/59\n",
      "107/107 [==============================] - 2s 18ms/step - loss: 0.6445 - root_mean_squared_error: 0.2674\n",
      "Epoch 45/59\n",
      "107/107 [==============================] - 2s 18ms/step - loss: 0.6346 - root_mean_squared_error: 0.2481\n",
      "Epoch 46/59\n",
      "107/107 [==============================] - 2s 19ms/step - loss: 0.6526 - root_mean_squared_error: 0.2821\n",
      "Epoch 47/59\n",
      "107/107 [==============================] - 2s 18ms/step - loss: 0.6463 - root_mean_squared_error: 0.2707\n",
      "Epoch 48/59\n",
      "107/107 [==============================] - 2s 18ms/step - loss: 0.6387 - root_mean_squared_error: 0.2564\n",
      "Epoch 49/59\n",
      "107/107 [==============================] - 2s 18ms/step - loss: 0.6607 - root_mean_squared_error: 0.2964\n",
      "Epoch 50/59\n",
      "107/107 [==============================] - 2s 18ms/step - loss: 0.6275 - root_mean_squared_error: 0.2336\n",
      "Epoch 51/59\n",
      "107/107 [==============================] - 2s 18ms/step - loss: 0.6284 - root_mean_squared_error: 0.2358\n",
      "Epoch 52/59\n",
      "107/107 [==============================] - 2s 19ms/step - loss: 0.6594 - root_mean_squared_error: 0.2942\n",
      "Epoch 53/59\n",
      "107/107 [==============================] - 2s 18ms/step - loss: 0.6448 - root_mean_squared_error: 0.2683\n",
      "Epoch 54/59\n",
      "107/107 [==============================] - 2s 18ms/step - loss: 0.6393 - root_mean_squared_error: 0.2580\n",
      "Epoch 55/59\n",
      "107/107 [==============================] - 2s 18ms/step - loss: 0.6381 - root_mean_squared_error: 0.2556\n",
      "Epoch 56/59\n",
      "107/107 [==============================] - 2s 18ms/step - loss: 0.6421 - root_mean_squared_error: 0.2635\n",
      "Epoch 57/59\n",
      "107/107 [==============================] - 2s 18ms/step - loss: 0.6339 - root_mean_squared_error: 0.2476\n",
      "Epoch 58/59\n",
      "107/107 [==============================] - 2s 18ms/step - loss: 0.6294 - root_mean_squared_error: 0.2383\n",
      "Epoch 59/59\n",
      "107/107 [==============================] - 2s 18ms/step - loss: 0.6409 - root_mean_squared_error: 0.2614\n",
      "Epoch 1/59\n",
      "108/108 [==============================] - 3s 18ms/step - loss: 121.6158 - root_mean_squared_error: 1.6914\n",
      "Epoch 2/59\n",
      "108/108 [==============================] - 2s 18ms/step - loss: 23.4675 - root_mean_squared_error: 1.0321\n",
      "Epoch 3/59\n",
      "108/108 [==============================] - 2s 18ms/step - loss: 5.9625 - root_mean_squared_error: 0.8606\n",
      "Epoch 4/59\n",
      "108/108 [==============================] - 2s 18ms/step - loss: 1.9864 - root_mean_squared_error: 0.6124\n",
      "Epoch 5/59\n",
      "108/108 [==============================] - 2s 18ms/step - loss: 1.0754 - root_mean_squared_error: 0.5298\n",
      "Epoch 6/59\n",
      "108/108 [==============================] - 2s 18ms/step - loss: 0.9576 - root_mean_squared_error: 0.5850\n",
      "Epoch 7/59\n",
      "108/108 [==============================] - 2s 18ms/step - loss: 0.9043 - root_mean_squared_error: 0.5695\n",
      "Epoch 8/59\n",
      "108/108 [==============================] - 2s 18ms/step - loss: 0.7570 - root_mean_squared_error: 0.4273\n",
      "Epoch 9/59\n",
      "108/108 [==============================] - 2s 19ms/step - loss: 0.7308 - root_mean_squared_error: 0.3965\n",
      "Epoch 10/59\n",
      "108/108 [==============================] - 2s 19ms/step - loss: 0.7364 - root_mean_squared_error: 0.4036\n",
      "Epoch 11/59\n",
      "108/108 [==============================] - 2s 18ms/step - loss: 0.7420 - root_mean_squared_error: 0.4106\n",
      "Epoch 12/59\n",
      "108/108 [==============================] - 2s 19ms/step - loss: 0.7225 - root_mean_squared_error: 0.3860\n",
      "Epoch 13/59\n",
      "108/108 [==============================] - 2s 19ms/step - loss: 0.6911 - root_mean_squared_error: 0.3429\n",
      "Epoch 14/59\n",
      "108/108 [==============================] - 2s 19ms/step - loss: 0.6826 - root_mean_squared_error: 0.3302\n",
      "Epoch 15/59\n",
      "108/108 [==============================] - 2s 18ms/step - loss: 0.6936 - root_mean_squared_error: 0.3464\n",
      "Epoch 16/59\n",
      "108/108 [==============================] - 2s 19ms/step - loss: 0.6954 - root_mean_squared_error: 0.3492\n",
      "Epoch 17/59\n",
      "108/108 [==============================] - 2s 19ms/step - loss: 0.6916 - root_mean_squared_error: 0.3436\n",
      "Epoch 18/59\n",
      "108/108 [==============================] - 2s 18ms/step - loss: 0.7023 - root_mean_squared_error: 0.3590\n",
      "Epoch 19/59\n",
      "108/108 [==============================] - 2s 18ms/step - loss: 0.6781 - root_mean_squared_error: 0.3233\n",
      "Epoch 20/59\n",
      "108/108 [==============================] - 2s 19ms/step - loss: 0.7004 - root_mean_squared_error: 0.3563\n",
      "Epoch 21/59\n",
      "108/108 [==============================] - 2s 19ms/step - loss: 0.6942 - root_mean_squared_error: 0.3475\n",
      "Epoch 22/59\n",
      "108/108 [==============================] - 2s 19ms/step - loss: 0.6663 - root_mean_squared_error: 0.3046\n",
      "Epoch 23/59\n",
      "108/108 [==============================] - 2s 19ms/step - loss: 0.6906 - root_mean_squared_error: 0.3423\n",
      "Epoch 24/59\n",
      "108/108 [==============================] - 2s 18ms/step - loss: 0.7022 - root_mean_squared_error: 0.3589\n",
      "Epoch 25/59\n",
      "108/108 [==============================] - 2s 19ms/step - loss: 0.6955 - root_mean_squared_error: 0.3495\n",
      "Epoch 26/59\n",
      "108/108 [==============================] - 2s 17ms/step - loss: 0.7861 - root_mean_squared_error: 0.4615\n",
      "Epoch 27/59\n",
      "108/108 [==============================] - 2s 18ms/step - loss: 0.6718 - root_mean_squared_error: 0.3136\n",
      "Epoch 28/59\n",
      "108/108 [==============================] - 2s 18ms/step - loss: 0.6715 - root_mean_squared_error: 0.3133\n",
      "Epoch 29/59\n",
      "108/108 [==============================] - 2s 18ms/step - loss: 0.6436 - root_mean_squared_error: 0.2649\n",
      "Epoch 30/59\n",
      "108/108 [==============================] - 2s 17ms/step - loss: 0.6716 - root_mean_squared_error: 0.3135\n",
      "Epoch 31/59\n",
      "108/108 [==============================] - 2s 17ms/step - loss: 0.6894 - root_mean_squared_error: 0.3408\n",
      "Epoch 32/59\n",
      "108/108 [==============================] - 2s 18ms/step - loss: 0.6792 - root_mean_squared_error: 0.3254\n",
      "Epoch 33/59\n",
      "108/108 [==============================] - 2s 19ms/step - loss: 0.6487 - root_mean_squared_error: 0.2746\n",
      "Epoch 34/59\n",
      "108/108 [==============================] - 2s 18ms/step - loss: 0.6559 - root_mean_squared_error: 0.2875\n",
      "Epoch 35/59\n",
      "108/108 [==============================] - 2s 18ms/step - loss: 0.6856 - root_mean_squared_error: 0.3352\n",
      "Epoch 36/59\n",
      "108/108 [==============================] - 2s 18ms/step - loss: 0.6623 - root_mean_squared_error: 0.2985\n",
      "Epoch 37/59\n",
      "108/108 [==============================] - 2s 18ms/step - loss: 0.6465 - root_mean_squared_error: 0.2707\n",
      "Epoch 38/59\n",
      "108/108 [==============================] - 2s 18ms/step - loss: 0.6718 - root_mean_squared_error: 0.3140\n",
      "Epoch 39/59\n",
      "108/108 [==============================] - 2s 18ms/step - loss: 0.6402 - root_mean_squared_error: 0.2589\n",
      "Epoch 40/59\n",
      "108/108 [==============================] - 2s 19ms/step - loss: 0.6765 - root_mean_squared_error: 0.3216\n",
      "Epoch 41/59\n",
      "108/108 [==============================] - 2s 18ms/step - loss: 0.6655 - root_mean_squared_error: 0.3041\n",
      "Epoch 42/59\n",
      "108/108 [==============================] - 2s 18ms/step - loss: 0.6370 - root_mean_squared_error: 0.2528\n",
      "Epoch 43/59\n",
      "108/108 [==============================] - 2s 18ms/step - loss: 0.6649 - root_mean_squared_error: 0.3031\n",
      "Epoch 44/59\n",
      "108/108 [==============================] - 2s 18ms/step - loss: 0.6777 - root_mean_squared_error: 0.3237\n",
      "Epoch 45/59\n",
      "108/108 [==============================] - 2s 19ms/step - loss: 0.6340 - root_mean_squared_error: 0.2470\n",
      "Epoch 46/59\n",
      "108/108 [==============================] - 2s 18ms/step - loss: 0.6398 - root_mean_squared_error: 0.2586\n",
      "Epoch 47/59\n",
      "108/108 [==============================] - 2s 19ms/step - loss: 0.6481 - root_mean_squared_error: 0.2743\n",
      "Epoch 48/59\n",
      "108/108 [==============================] - 2s 18ms/step - loss: 0.7480 - root_mean_squared_error: 0.4187\n",
      "Epoch 49/59\n",
      "108/108 [==============================] - 2s 19ms/step - loss: 0.6576 - root_mean_squared_error: 0.2912\n",
      "Epoch 50/59\n",
      "108/108 [==============================] - 2s 19ms/step - loss: 0.6359 - root_mean_squared_error: 0.2511\n",
      "Epoch 51/59\n",
      "108/108 [==============================] - 2s 18ms/step - loss: 0.6362 - root_mean_squared_error: 0.2517\n",
      "Epoch 52/59\n",
      "108/108 [==============================] - 2s 18ms/step - loss: 0.6364 - root_mean_squared_error: 0.2523\n",
      "Epoch 53/59\n",
      "108/108 [==============================] - 2s 18ms/step - loss: 0.6277 - root_mean_squared_error: 0.2344\n",
      "Epoch 54/59\n",
      "108/108 [==============================] - 2s 18ms/step - loss: 0.6370 - root_mean_squared_error: 0.2536\n",
      "Epoch 55/59\n",
      "108/108 [==============================] - 2s 18ms/step - loss: 0.6296 - root_mean_squared_error: 0.2386\n",
      "Epoch 56/59\n",
      "108/108 [==============================] - 2s 18ms/step - loss: 0.6367 - root_mean_squared_error: 0.2531\n",
      "Epoch 57/59\n",
      "108/108 [==============================] - 2s 19ms/step - loss: 0.6167 - root_mean_squared_error: 0.2100\n",
      "Epoch 58/59\n",
      "108/108 [==============================] - 2s 18ms/step - loss: 0.6263 - root_mean_squared_error: 0.2319\n",
      "Epoch 59/59\n",
      "108/108 [==============================] - 2s 18ms/step - loss: 0.6353 - root_mean_squared_error: 0.2506\n",
      "Epoch 1/59\n",
      "108/108 [==============================] - 3s 18ms/step - loss: 129.6796 - root_mean_squared_error: 1.7033\n",
      "Epoch 2/59\n",
      "108/108 [==============================] - 2s 18ms/step - loss: 24.7739 - root_mean_squared_error: 1.1533\n",
      "Epoch 3/59\n",
      "108/108 [==============================] - 2s 18ms/step - loss: 5.5831 - root_mean_squared_error: 0.9034\n",
      "Epoch 4/59\n",
      "108/108 [==============================] - 2s 18ms/step - loss: 2.0596 - root_mean_squared_error: 0.8793\n",
      "Epoch 5/59\n",
      "108/108 [==============================] - 2s 18ms/step - loss: 1.0350 - root_mean_squared_error: 0.5937\n",
      "Epoch 6/59\n",
      "108/108 [==============================] - 2s 18ms/step - loss: 0.8705 - root_mean_squared_error: 0.5313\n",
      "Epoch 7/59\n",
      "108/108 [==============================] - 2s 18ms/step - loss: 0.8029 - root_mean_squared_error: 0.4772\n",
      "Epoch 8/59\n",
      "108/108 [==============================] - 2s 18ms/step - loss: 0.7999 - root_mean_squared_error: 0.4758\n",
      "Epoch 9/59\n",
      "108/108 [==============================] - 2s 19ms/step - loss: 0.8188 - root_mean_squared_error: 0.4956\n",
      "Epoch 10/59\n",
      "108/108 [==============================] - 2s 18ms/step - loss: 0.7516 - root_mean_squared_error: 0.4221\n",
      "Epoch 11/59\n",
      "108/108 [==============================] - 2s 18ms/step - loss: 0.7375 - root_mean_squared_error: 0.4050\n",
      "Epoch 12/59\n",
      "108/108 [==============================] - 2s 18ms/step - loss: 0.7107 - root_mean_squared_error: 0.3704\n",
      "Epoch 13/59\n",
      "108/108 [==============================] - 2s 18ms/step - loss: 0.7218 - root_mean_squared_error: 0.3851\n",
      "Epoch 14/59\n",
      "108/108 [==============================] - 2s 18ms/step - loss: 0.7093 - root_mean_squared_error: 0.3686\n",
      "Epoch 15/59\n",
      "108/108 [==============================] - 2s 18ms/step - loss: 0.6961 - root_mean_squared_error: 0.3500\n",
      "Epoch 16/59\n",
      "108/108 [==============================] - 2s 18ms/step - loss: 0.6821 - root_mean_squared_error: 0.3295\n",
      "Epoch 17/59\n",
      "108/108 [==============================] - 2s 19ms/step - loss: 0.7333 - root_mean_squared_error: 0.3999\n",
      "Epoch 18/59\n",
      "108/108 [==============================] - 2s 18ms/step - loss: 0.7131 - root_mean_squared_error: 0.3737\n",
      "Epoch 19/59\n",
      "108/108 [==============================] - 2s 18ms/step - loss: 0.6993 - root_mean_squared_error: 0.3547\n",
      "Epoch 20/59\n",
      "108/108 [==============================] - 2s 18ms/step - loss: 0.6726 - root_mean_squared_error: 0.3148\n",
      "Epoch 21/59\n",
      "108/108 [==============================] - 2s 18ms/step - loss: 0.6860 - root_mean_squared_error: 0.3354\n",
      "Epoch 22/59\n",
      "108/108 [==============================] - 2s 18ms/step - loss: 0.6969 - root_mean_squared_error: 0.3514\n",
      "Epoch 23/59\n",
      "108/108 [==============================] - 2s 18ms/step - loss: 0.6715 - root_mean_squared_error: 0.3130\n",
      "Epoch 24/59\n",
      "108/108 [==============================] - 2s 18ms/step - loss: 0.7289 - root_mean_squared_error: 0.3945\n",
      "Epoch 25/59\n",
      "108/108 [==============================] - 2s 18ms/step - loss: 0.6906 - root_mean_squared_error: 0.3424\n",
      "Epoch 26/59\n",
      "108/108 [==============================] - 2s 18ms/step - loss: 0.6981 - root_mean_squared_error: 0.3532\n",
      "Epoch 27/59\n",
      "108/108 [==============================] - 2s 18ms/step - loss: 0.7698 - root_mean_squared_error: 0.4435\n",
      "Epoch 28/59\n",
      "108/108 [==============================] - 2s 18ms/step - loss: 0.6667 - root_mean_squared_error: 0.3055\n",
      "Epoch 29/59\n",
      "108/108 [==============================] - 2s 19ms/step - loss: 0.7118 - root_mean_squared_error: 0.3723\n",
      "Epoch 30/59\n",
      "108/108 [==============================] - 2s 18ms/step - loss: 0.7236 - root_mean_squared_error: 0.3878\n",
      "Epoch 31/59\n",
      "108/108 [==============================] - 2s 19ms/step - loss: 0.7029 - root_mean_squared_error: 0.3601\n",
      "Epoch 32/59\n",
      "108/108 [==============================] - 2s 19ms/step - loss: 0.6505 - root_mean_squared_error: 0.2778\n",
      "Epoch 33/59\n",
      "108/108 [==============================] - 2s 18ms/step - loss: 0.6767 - root_mean_squared_error: 0.3218\n",
      "Epoch 34/59\n",
      "108/108 [==============================] - 2s 18ms/step - loss: 0.6536 - root_mean_squared_error: 0.2835\n",
      "Epoch 35/59\n",
      "108/108 [==============================] - 2s 18ms/step - loss: 0.6490 - root_mean_squared_error: 0.2753\n",
      "Epoch 36/59\n",
      "108/108 [==============================] - 2s 18ms/step - loss: 0.6505 - root_mean_squared_error: 0.2781\n",
      "Epoch 37/59\n",
      "108/108 [==============================] - 2s 18ms/step - loss: 0.6584 - root_mean_squared_error: 0.2920\n",
      "Epoch 38/59\n",
      "108/108 [==============================] - 2s 18ms/step - loss: 0.6474 - root_mean_squared_error: 0.2726\n",
      "Epoch 39/59\n",
      "108/108 [==============================] - 2s 18ms/step - loss: 0.6701 - root_mean_squared_error: 0.3115\n",
      "Epoch 40/59\n",
      "108/108 [==============================] - 2s 18ms/step - loss: 0.7207 - root_mean_squared_error: 0.3844\n",
      "Epoch 41/59\n",
      "108/108 [==============================] - 2s 18ms/step - loss: 0.6793 - root_mean_squared_error: 0.3260\n",
      "Epoch 42/59\n",
      "108/108 [==============================] - 2s 19ms/step - loss: 0.6472 - root_mean_squared_error: 0.2724\n",
      "Epoch 43/59\n",
      "108/108 [==============================] - 2s 18ms/step - loss: 0.6427 - root_mean_squared_error: 0.2640\n",
      "Epoch 44/59\n",
      "108/108 [==============================] - 2s 18ms/step - loss: 0.6407 - root_mean_squared_error: 0.2603\n",
      "Epoch 45/59\n",
      "108/108 [==============================] - 2s 18ms/step - loss: 0.6340 - root_mean_squared_error: 0.2472\n",
      "Epoch 46/59\n",
      "108/108 [==============================] - 2s 18ms/step - loss: 0.6482 - root_mean_squared_error: 0.2745\n",
      "Epoch 47/59\n",
      "108/108 [==============================] - 2s 18ms/step - loss: 0.6479 - root_mean_squared_error: 0.2740\n",
      "Epoch 48/59\n",
      "108/108 [==============================] - 2s 18ms/step - loss: 0.6438 - root_mean_squared_error: 0.2666\n",
      "Epoch 49/59\n",
      "108/108 [==============================] - 2s 18ms/step - loss: 0.6508 - root_mean_squared_error: 0.2794\n",
      "Epoch 50/59\n",
      "108/108 [==============================] - 2s 18ms/step - loss: 0.6889 - root_mean_squared_error: 0.3410\n",
      "Epoch 51/59\n",
      "108/108 [==============================] - 2s 18ms/step - loss: 0.7610 - root_mean_squared_error: 0.4341\n",
      "Epoch 52/59\n",
      "108/108 [==============================] - 2s 18ms/step - loss: 0.6947 - root_mean_squared_error: 0.3493\n",
      "Epoch 53/59\n",
      "108/108 [==============================] - 2s 18ms/step - loss: 0.6390 - root_mean_squared_error: 0.2576\n",
      "Epoch 54/59\n",
      "108/108 [==============================] - 2s 18ms/step - loss: 0.6738 - root_mean_squared_error: 0.3181\n",
      "Epoch 55/59\n",
      "108/108 [==============================] - 2s 18ms/step - loss: 0.6430 - root_mean_squared_error: 0.2654\n",
      "Epoch 56/59\n",
      "108/108 [==============================] - 2s 18ms/step - loss: 0.6339 - root_mean_squared_error: 0.2478\n",
      "Epoch 57/59\n",
      "108/108 [==============================] - 2s 18ms/step - loss: 0.6324 - root_mean_squared_error: 0.2448\n",
      "Epoch 58/59\n",
      "108/108 [==============================] - 2s 18ms/step - loss: 0.6464 - root_mean_squared_error: 0.2719\n",
      "Epoch 59/59\n",
      "108/108 [==============================] - 2s 18ms/step - loss: 0.6264 - root_mean_squared_error: 0.2322\n",
      "RMSE with NN: 1.650\n"
     ]
    }
   ],
   "source": [
    "# now fix the epoch, remove early stopping, and run cross_val_predict\n",
    "epochs = int(estimated_epochs)\n",
    "n_ensamble = 1\n",
    "y_preds = []\n",
    "for _ in range(n_ensamble):\n",
    "    yhat_nn = cross_val_predict_for_nn(# implemented in util.py\n",
    "        #model=define_hetero_model(input_dim=len(columns), lr=0.0005),\n",
    "        model_func=define_hetero_model,\n",
    "        model_params={\"input_dim\": len(columns), \"lr\": 0.0005},\n",
    "        X=X, Y=Y,\n",
    "        callback=None,\n",
    "        batch_size=64,\n",
    "        epochs=epochs,\n",
    "        early_stopping=False,\n",
    "        verbose=True,\n",
    "        add_noise=True\n",
    "    )\n",
    "    y_preds.append(yhat_nn)\n",
    "    print(f\"{_+1}/{n_ensamble}\", end='\\r')\n",
    "mean_pred = np.mean(y_preds, axis=0)\n",
    "rmse_nn = mean_squared_error(Y, mean_pred, squared=False)\n",
    "print(\"RMSE with NN: {:.3f}\".format(rmse_nn))"
   ]
  },
  {
   "cell_type": "code",
   "execution_count": 40,
   "metadata": {},
   "outputs": [
    {
     "name": "stdout",
     "output_type": "stream",
     "text": [
      "RMSE with LR: 1.654\n"
     ]
    }
   ],
   "source": [
    "linear_regression = LinearRegression()\n",
    "yhat_lr = cross_val_predict(linear_regression, X, Y, n_jobs=-1)\n",
    "rmse_lr = mean_squared_error(Y, yhat_lr, squared=False)\n",
    "print(\"RMSE with LR: {:.3f}\".format(rmse_lr))"
   ]
  },
  {
   "cell_type": "code",
   "execution_count": 41,
   "metadata": {},
   "outputs": [
    {
     "data": {
      "text/plain": [
       "<matplotlib.legend.Legend at 0x2ae522a1d450>"
      ]
     },
     "execution_count": 41,
     "metadata": {},
     "output_type": "execute_result"
    },
    {
     "data": {
      "image/png": "[encoded data removed]",
      "text/plain": [
       "<Figure size 432x288 with 1 Axes>"
      ]
     },
     "metadata": {
      "needs_background": "light"
     },
     "output_type": "display_data"
    }
   ],
   "source": [
    "fig, ax = plt.subplots(1)\n",
    "ax.scatter(Y, yhat_lr, s=3, color='b', label='linear')\n",
    "ax.scatter(Y, mean_pred, s=3, color='r', label='NN')\n",
    "ax.set_facecolor('lightgray')\n",
    "ax.plot([0, 20], [0, 20])\n",
    "ax.set_aspect('equal')\n",
    "ax.legend()"
   ]
  },
  {
   "cell_type": "code",
   "execution_count": 32,
   "metadata": {},
   "outputs": [
    {
     "data": {
      "text/plain": [
       "-0.014831897457735617"
      ]
     },
     "execution_count": 32,
     "metadata": {},
     "output_type": "execute_result"
    }
   ],
   "source": [
    "(rmse_lr - rmse_nn)/rmse_lr"
   ]
  },
  {
   "cell_type": "markdown",
   "metadata": {},
   "source": [
    "# early stopping, but every time, different train/validation split?"
   ]
  },
  {
   "cell_type": "markdown",
   "metadata": {},
   "source": [
    "<hr><hr><hr>\n",
    "\n",
    "# Disregard the rest\n",
    "<hr><hr><hr>"
   ]
  },
  {
   "cell_type": "markdown",
   "metadata": {},
   "source": [
    "# Try testing on a single station with simple single train/valid/test split"
   ]
  },
  {
   "cell_type": "code",
   "execution_count": 258,
   "metadata": {},
   "outputs": [
    {
     "name": "stdout",
     "output_type": "stream",
     "text": [
      "1114.0\n"
     ]
    }
   ],
   "source": [
    "skn = df_data['skn'].sample().values[0]\n",
    "print(f'{skn}')\n",
    "df_station = df_data[df_data['skn'] == skn]\n",
    "\n",
    "X = np.array(df_station[columns])\n",
    "Y = np.array(df_station['data_in'])\n",
    "\n",
    "Xtemp, Xtest, Ytemp, Ytest = train_test_split(X, Y, test_size=0.2, shuffle=False)\n",
    "Xtrain, Xvalid, Ytrain, Yvalid = train_test_split(Xtemp, Ytemp, test_size=0.2, shuffle=False)\n",
    "\n",
    "scaler = StandardScaler()\n",
    "\n",
    "Xtrain = scaler.fit_transform(Xtrain)\n",
    "Xvalid = scaler.transform(Xvalid)\n",
    "Xtest = scaler.transform(Xtest)"
   ]
  },
  {
   "cell_type": "code",
   "execution_count": 259,
   "metadata": {},
   "outputs": [
    {
     "name": "stdout",
     "output_type": "stream",
     "text": [
      "WARNING:tensorflow:5 out of the last 13 calls to <function Model.make_predict_function.<locals>.predict_function at 0x2b00ff79d9d0> triggered tf.function retracing. Tracing is expensive and the excessive number of tracings could be due to (1) creating @tf.function repeatedly in a loop, (2) passing tensors with different shapes, (3) passing Python objects instead of tensors. For (1), please define your @tf.function outside of the loop. For (2), @tf.function has experimental_relax_shapes=True option that relaxes argument shapes that can avoid unnecessary retracing. For (3), please refer to https://www.tensorflow.org/guide/function#controlling_retracing and https://www.tensorflow.org/api_docs/python/tf/function for  more details.\n",
      "2.6401822684077336\n"
     ]
    }
   ],
   "source": [
    "model = define_model()\n",
    "callback = tf.keras.callbacks.EarlyStopping(monitor='val_loss', patience = 5, mode='min')\n",
    "epochs=20\n",
    "\n",
    "history = model.fit(\n",
    "    Xtrain, Ytrain, \n",
    "    epochs=epochs, \n",
    "    validation_data = (Xvalid, Yvalid),\n",
    "    callbacks=[callback],\n",
    "    batch_size=64,\n",
    "    verbose=0\n",
    ")\n",
    "\n",
    "yhat = model.predict(Xtest)\n",
    "print(mean_squared_error(Ytest, yhat, squared=False))"
   ]
  },
  {
   "cell_type": "code",
   "execution_count": 260,
   "metadata": {},
   "outputs": [
    {
     "name": "stdout",
     "output_type": "stream",
     "text": [
      "2.839487093427457\n"
     ]
    }
   ],
   "source": [
    "linear_regression = LinearRegression()\n",
    "linear_regression.fit(Xtrain, Ytrain)\n",
    "yhat = linear_regression.predict(Xtest)\n",
    "\n",
    "print(mean_squared_error(Ytest, yhat, squared=False))"
   ]
  },
  {
   "cell_type": "code",
   "execution_count": 261,
   "metadata": {},
   "outputs": [
    {
     "name": "stdout",
     "output_type": "stream",
     "text": [
      "3.12209866513206\n"
     ]
    }
   ],
   "source": [
    "\n",
    "params = {'n_estimators': 260, 'learning_rate': 0.1, 'max_depth': 3, 'early_stopping_rounds': 8, 'verbosity': 0}\n",
    "xgboost = XGBRegressor(**params)\n",
    "\n",
    "xgboost.fit(Xtrain, Ytrain)\n",
    "yhat = xgboost.predict(Xtest)\n",
    "print(mean_squared_error(Ytest, yhat, squared=False))"
   ]
  },
  {
   "cell_type": "markdown",
   "metadata": {},
   "source": [
    "# Looks good. Now implement cross_val_predict for the NN model"
   ]
  },
  {
   "cell_type": "code",
   "execution_count": 21,
   "metadata": {},
   "outputs": [],
   "source": [
    "def cross_val_predict_for_nn(model, X, Y, callback, batch_size, epochs, verbose):\n",
    "    kf = KFold(n_splits=5)\n",
    "    y_pred = []\n",
    "\n",
    "    for train_index, test_index in kf.split(X):\n",
    "        Xtemp, Xtest = X[train_index], X[test_index]\n",
    "        Ytemp, Ytest = Y[train_index], Y[test_index]\n",
    "        \n",
    "        Xtrain, Xvalid, Ytrain, Yvalid = train_test_split(Xtemp, Ytemp, test_size=0.2, shuffle=True)\n",
    "        # print(Xtrain.shape, Xvalid.shape, Xtest.shape)\n",
    "        \n",
    "        # scale the input\n",
    "        scaler = StandardScaler()\n",
    "        Xtrain = scaler.fit_transform(Xtrain)\n",
    "        Xvalid = scaler.transform(Xvalid)\n",
    "        Xtest = scaler.transform(Xtest)\n",
    "        \n",
    "        model.fit(\n",
    "            Xtrain, Ytrain, epochs=epochs,\n",
    "            validation_data = (Xvalid, Yvalid),\n",
    "            callbacks=[callback],\n",
    "            batch_size=batch_size,\n",
    "            verbose=verbose\n",
    "        )\n",
    "        y_pred.extend(model.predict(Xtest).tolist())\n",
    "    \n",
    "    return np.array(y_pred)"
   ]
  },
  {
   "cell_type": "code",
   "execution_count": 315,
   "metadata": {},
   "outputs": [
    {
     "name": "stdout",
     "output_type": "stream",
     "text": [
      "2.0\n"
     ]
    },
    {
     "data": {
      "text/plain": [
       "2.271283341053673"
      ]
     },
     "execution_count": 315,
     "metadata": {},
     "output_type": "execute_result"
    }
   ],
   "source": [
    "skn = df_data['skn'].sample().values[0]\n",
    "print(f'{skn}')\n",
    "df_station = df_data[df_data['skn'] == skn]\n",
    "\n",
    "X = np.array(df_station[columns])\n",
    "Y = np.array(df_station['data_in'])\n",
    "\n",
    "model = define_model()\n",
    "callback = tf.keras.callbacks.EarlyStopping(monitor='val_loss', patience = 3, mode='min')\n",
    "epochs=20\n",
    "batch_size=64\n",
    "\n",
    "yhat = cross_val_predict_for_nn(model, X, Y, callback, batch_size, epochs, verbose=0)\n",
    "mean_squared_error(Y, yhat, squared=False)"
   ]
  },
  {
   "cell_type": "code",
   "execution_count": 316,
   "metadata": {},
   "outputs": [
    {
     "data": {
      "text/plain": [
       "2.1039270543980253"
      ]
     },
     "execution_count": 316,
     "metadata": {},
     "output_type": "execute_result"
    }
   ],
   "source": [
    "yhat = cross_val_predict(LinearRegression(), X, Y, n_jobs=-1)\n",
    "mean_squared_error(Y, yhat, squared=False)"
   ]
  },
  {
   "cell_type": "code",
   "execution_count": 12,
   "metadata": {},
   "outputs": [
    {
     "data": {
      "text/plain": [
       "(550,)"
      ]
     },
     "execution_count": 12,
     "metadata": {},
     "output_type": "execute_result"
    }
   ],
   "source": [
    "df_data['skn'].unique().shape"
   ]
  },
  {
   "cell_type": "code",
   "execution_count": 13,
   "metadata": {},
   "outputs": [
    {
     "name": "stdout",
     "output_type": "stream",
     "text": [
      "549/550\r"
     ]
    }
   ],
   "source": [
    "# try on ten random stations\n",
    "list_df_results = []\n",
    "# n_samples = 100\n",
    "# skns = df_data['skn'].sample(n=n_samples).values\n",
    "params = {'n_estimators': 260, 'learning_rate': 0.1, 'max_depth': 3, 'early_stopping_rounds': 8, 'verbosity': 0}\n",
    "skns = df_data['skn'].unique()\n",
    "n_samples = skns.shape[0]\n",
    "for i, skn in enumerate(skns):\n",
    "    df_station = df_data[df_data['skn'] == skn]\n",
    "\n",
    "    X = np.array(df_station[columns])\n",
    "    Y = np.array(df_station['data_in'])\n",
    "\n",
    "    model = define_model()\n",
    "    callback = tf.keras.callbacks.EarlyStopping(monitor='val_loss', patience = 3, mode='min')\n",
    "    epochs=20\n",
    "    batch_size=64\n",
    "\n",
    "    yhat_nn = cross_val_predict_for_nn(model, X, Y, callback, batch_size, epochs, verbose=0)\n",
    "    rmse_nn = mean_squared_error(Y, yhat_nn, squared=False)\n",
    "    \n",
    "    yhat_lr = cross_val_predict(LinearRegression(), X, Y, n_jobs=-1)\n",
    "    rmse_lr = mean_squared_error(Y, yhat_lr, squared=False)\n",
    "    \n",
    "    yhat_xgb = cross_val_predict(XGBRegressor(**params), X, Y, n_jobs=-1)\n",
    "    rmse_xgb = mean_squared_error(Y, yhat_xgb, squared=False)\n",
    "    \n",
    "    list_df_results.append(\n",
    "        pd.DataFrame({\n",
    "            \"skn\": [skn] * df_station.shape[0],\n",
    "            \"data_in\": Y,\n",
    "            \"pred_nn\": yhat_nn.reshape(-1,),\n",
    "            \"pred_lr\": yhat_lr,\n",
    "            \"pred_xgb\": yhat_xgb\n",
    "        })\n",
    "    )\n",
    "    #print(f\"SKN: {skn}\")\n",
    "    #print(\"RMSE on NN : {:.3f}\\nRMSE on LR : {:.3f}\\nRMSE on XGB: {:.3f}\".format(rmse_nn, rmse_lr, rmse_xgb))\n",
    "    print(f\"{i}/{n_samples}\", end='\\r')\n",
    "df_results = pd.concat(list_df_results)"
   ]
  },
  {
   "cell_type": "code",
   "execution_count": 21,
   "metadata": {},
   "outputs": [],
   "source": [
    "df_results.to_csv(f\"{BASE_DIR}/NN/base_model_result.csv\", index=False)"
   ]
  },
  {
   "cell_type": "markdown",
   "metadata": {},
   "source": [
    "<hr>"
   ]
  },
  {
   "cell_type": "code",
   "execution_count": 4,
   "metadata": {},
   "outputs": [],
   "source": [
    "df_results = pd.read_csv(f\"{BASE_DIR}/NN/base_model_result.csv\")"
   ]
  },
  {
   "cell_type": "code",
   "execution_count": 5,
   "metadata": {},
   "outputs": [
    {
     "data": {
      "text/plain": [
       "(3.4360513726657063, 3.4597299840862576, 3.7356976071956907)"
      ]
     },
     "execution_count": 5,
     "metadata": {},
     "output_type": "execute_result"
    }
   ],
   "source": [
    "rmse_nn = mean_squared_error(df_results['data_in'], df_results['pred_nn'], squared=False)\n",
    "rmse_lr = mean_squared_error(df_results['data_in'], df_results['pred_lr'], squared=False)\n",
    "rmse_xgb = mean_squared_error(df_results['data_in'], df_results['pred_xgb'], squared=False)\n",
    "\n",
    "rmse_nn, rmse_lr, rmse_xgb"
   ]
  },
  {
   "cell_type": "code",
   "execution_count": 6,
   "metadata": {},
   "outputs": [
    {
     "data": {
      "text/plain": [
       "<matplotlib.legend.Legend at 0x2b3980fa0370>"
      ]
     },
     "execution_count": 6,
     "metadata": {},
     "output_type": "execute_result"
    },
    {
     "data": {
      "image/png": "[encoded data removed]",
      "text/plain": [
       "<Figure size 432x288 with 1 Axes>"
      ]
     },
     "metadata": {
      "needs_background": "light"
     },
     "output_type": "display_data"
    }
   ],
   "source": [
    "fig, ax = plt.subplots(1)\n",
    "ax.scatter(df_results['data_in'], df_results['pred_xgb'], s=0.1, color='k', label='xgb')\n",
    "ax.scatter(df_results['data_in'], df_results['pred_lr'], s=0.1, color='b', label='Linear')\n",
    "ax.scatter(df_results['data_in'], df_results['pred_nn'], s=0.1, color='r', label='NN')\n",
    "ax.plot([0, 50], [0, 50])\n",
    "ax.set_aspect('equal')\n",
    "ax.legend()"
   ]
  },
  {
   "cell_type": "code",
   "execution_count": 7,
   "metadata": {},
   "outputs": [],
   "source": [
    "df_results_per_station = (\n",
    "    df_results.groupby('skn')\n",
    "    .apply(lambda group: mean_squared_error(group['data_in'], group['pred_nn'], squared=False))\n",
    "    .reset_index()\n",
    "    .rename(columns={0: \"rmse\"})\n",
    "    .sort_values(\"rmse\")\n",
    ")"
   ]
  },
  {
   "cell_type": "markdown",
   "metadata": {},
   "source": [
    "# Try heteroskedastic regression"
   ]
  },
  {
   "cell_type": "code",
   "execution_count": 80,
   "metadata": {},
   "outputs": [],
   "source": [
    "def define_hetero_model(num_inputs=20, lr=0.0065):\n",
    "    inputs = Input(shape=(num_inputs,))\n",
    "    x = Dense(units=16, activation='relu', kernel_initializer='normal')(inputs)\n",
    "    x = Dense(units=12, activation='relu', kernel_initializer='normal')(x)\n",
    "    x = Dense(units=8, activation='relu', kernel_initializer='normal')(x)\n",
    "#    x = Dropout(rate=0.3)(x)\n",
    "    \n",
    "    m = Dense(units=4, activation='relu', kernel_initializer='normal')(x)\n",
    "#    m = Dropout(rate=0.3)(m)\n",
    "    m = Dense(units=1, activation='linear', kernel_initializer='normal')(m)\n",
    "    \n",
    "    s = Dense(units=4, activation='relu', kernel_initializer='normal')(x)\n",
    "#    s = Dropout(rate=0.3)(s)\n",
    "    s = Dense(units=1, activation='linear', kernel_initializer='normal')(s)\n",
    "    \n",
    "    ms = Concatenate(axis=-1)([m, s])\n",
    "    outputs = tfp.layers.DistributionLambda(\n",
    "        make_distribution_fn=lambda t: tfd.Normal(\n",
    "            loc=t[...,0], scale=tf.math.softplus(t[...,1])#scale=tf.exp(t[..., 1])\n",
    "        ),\n",
    "        convert_to_tensor_fn=lambda s: s.mean()\n",
    "    )(ms)\n",
    "    # print(type(outputs))\n",
    "    \n",
    "    model = Model(inputs=inputs, outputs=outputs)\n",
    "    \n",
    "    model.compile(\n",
    "        optimizer=tf.optimizers.Adam(learning_rate=lr),\n",
    "        loss=lambda y, p_y: -p_y.log_prob(y),\n",
    "        metrics=[RootMeanSquaredError()]\n",
    "    )\n",
    "    \n",
    "    return model"
   ]
  },
  {
   "cell_type": "code",
   "execution_count": 81,
   "metadata": {},
   "outputs": [
    {
     "name": "stdout",
     "output_type": "stream",
     "text": [
      "station 774.1 has 431 samples\n",
      "3.7926162998934854\n",
      "4.034172788431675\n",
      "3.3909840519720076\n",
      "4.089041209360951\n",
      "3.9939947605864234\n",
      "overall: 3.7057628832079876\n",
      "avg rmse 3.8601618220489087\n"
     ]
    }
   ],
   "source": [
    "skn = df_data['skn'].sample().values[0]\n",
    "df_station = df_data[df_data['skn'] == skn]\n",
    "print(f'station {skn} has {df_station.shape[0]} samples')\n",
    "lr = 0.003\n",
    "\n",
    "X = np.array(df_station[columns[:-3]])\n",
    "Y = np.array(df_station['data_in'])\n",
    "\n",
    "callback = tf.keras.callbacks.EarlyStopping(monitor='val_loss', patience = 3, mode='min')\n",
    "epochs=20\n",
    "batch_size=64\n",
    "preds = []\n",
    "rmses = []\n",
    "for i in range(5):\n",
    "    print(f\"round {i}\", end='\\r')\n",
    "    model = define_hetero_model(num_inputs=len(columns[:-3]), lr=lr)\n",
    "    yhat = cross_val_predict_for_nn(model, X, Y, callback, batch_size, epochs, verbose=0)\n",
    "    preds.append(yhat)\n",
    "    rmse = mean_squared_error(Y, yhat, squared=False)\n",
    "    rmses.append(rmse)\n",
    "    print(rmse)\n",
    "yhat = np.array(preds).mean(axis=0)\n",
    "    \n",
    "print(\"overall:\", mean_squared_error(Y, yhat, squared=False))\n",
    "print(\"avg rmse\", np.array(rmses).mean())"
   ]
  },
  {
   "cell_type": "code",
   "execution_count": 82,
   "metadata": {},
   "outputs": [
    {
     "name": "stdout",
     "output_type": "stream",
     "text": [
      "774.1\n"
     ]
    },
    {
     "data": {
      "text/plain": [
       "3.4411540812463293"
      ]
     },
     "execution_count": 82,
     "metadata": {},
     "output_type": "execute_result"
    }
   ],
   "source": [
    "print(f'{skn}')\n",
    "df_station = df_data[df_data['skn'] == skn]\n",
    "\n",
    "X = np.array(df_station[columns])\n",
    "Y = np.array(df_station['data_in'])\n",
    "\n",
    "model = define_model(lr=lr)\n",
    "callback = tf.keras.callbacks.EarlyStopping(monitor='val_loss', patience = 3, mode='min')\n",
    "epochs=20\n",
    "batch_size=64\n",
    "\n",
    "yhat = cross_val_predict_for_nn(model, X, Y, callback, batch_size, epochs, verbose=0)\n",
    "mean_squared_error(Y, yhat, squared=False)"
   ]
  },
  {
   "cell_type": "code",
   "execution_count": 83,
   "metadata": {},
   "outputs": [
    {
     "name": "stdout",
     "output_type": "stream",
     "text": [
      "774.1\n"
     ]
    },
    {
     "data": {
      "text/plain": [
       "3.342773090850899"
      ]
     },
     "execution_count": 83,
     "metadata": {},
     "output_type": "execute_result"
    }
   ],
   "source": [
    "print(f'{skn}')\n",
    "df_station = df_data[df_data['skn'] == skn]\n",
    "\n",
    "X = np.array(df_station[columns])\n",
    "Y = np.array(df_station['data_in'])\n",
    "\n",
    "model = LinearRegression()\n",
    "\n",
    "# yhat = cross_val_predict_for_nn(model, X, Y, callback, batch_size, epochs, verbose=0)\n",
    "yhat = cross_val_predict(model, X, Y)\n",
    "mean_squared_error(Y, yhat, squared=False)"
   ]
  },
  {
   "cell_type": "code",
   "execution_count": 87,
   "metadata": {},
   "outputs": [
    {
     "name": "stdout",
     "output_type": "stream",
     "text": [
      "99/100\r"
     ]
    }
   ],
   "source": [
    "# try on ten random stations\n",
    "list_df_results = []\n",
    "n_samples = 100\n",
    "skns = df_data['skn'].sample(n=n_samples).values\n",
    "params = {'n_estimators': 260, 'learning_rate': 0.1, 'max_depth': 3, 'early_stopping_rounds': 8, 'verbosity': 0}\n",
    "# skns = df_data['skn'].unique()\n",
    "n_samples = skns.shape[0]\n",
    "for i, skn in enumerate(skns):\n",
    "    df_station = df_data[df_data['skn'] == skn]\n",
    "\n",
    "    X = np.array(df_station[columns])\n",
    "    Y = np.array(df_station['data_in'])\n",
    "\n",
    "    model = define_hetero_model()\n",
    "    callback = tf.keras.callbacks.EarlyStopping(monitor='val_loss', patience = 3, mode='min')\n",
    "    epochs=20\n",
    "    batch_size=64\n",
    "\n",
    "    yhat_hetero = cross_val_predict_for_nn(model, X, Y, callback, batch_size, epochs, verbose=0)\n",
    "    rmse_hetero = mean_squared_error(Y, yhat_hetero, squared=False)\n",
    "    \n",
    "    # yhat_lr = cross_val_predict(LinearRegression(), X, Y, n_jobs=-1)\n",
    "    # rmse_lr = mean_squared_error(Y, yhat_lr, squared=False)\n",
    "    \n",
    "    # yhat_xgb = cross_val_predict(XGBRegressor(**params), X, Y, n_jobs=-1)\n",
    "    # rmse_xgb = mean_squared_error(Y, yhat_xgb, squared=False)\n",
    "    \n",
    "    model = define_model()\n",
    "    yhat_vanila = cross_val_predict_for_nn(model, X, Y, callback, batch_size, epochs, verbose=0)\n",
    "    rmse_vanila = mean_squared_error(Y, yhat_vanila, squared=False)\n",
    "    \n",
    "    \n",
    "    list_df_results.append(\n",
    "        pd.DataFrame({\n",
    "            \"skn\": [skn] * df_station.shape[0],\n",
    "            \"data_in\": Y,\n",
    "            \"pred_hetero\": yhat_hetero.reshape(-1,),\n",
    "            \"pred_valina\": yhat_vanila.reshape(-1,),\n",
    "        })\n",
    "    )\n",
    "    #print(f\"SKN: {skn}\")\n",
    "    #print(\"RMSE on NN : {:.3f}\\nRMSE on LR : {:.3f}\\nRMSE on XGB: {:.3f}\".format(rmse_nn, rmse_lr, rmse_xgb))\n",
    "    print(f\"{i}/{n_samples}\", end='\\r')\n",
    "df_results = pd.concat(list_df_results)"
   ]
  },
  {
   "cell_type": "code",
   "execution_count": 89,
   "metadata": {},
   "outputs": [
    {
     "data": {
      "text/plain": [
       "skn\n",
       "14.0       7.931480\n",
       "39.0       1.922409\n",
       "54.0      21.563302\n",
       "58.0      26.233462\n",
       "58.1      24.297456\n",
       "            ...    \n",
       "1092.0    17.259858\n",
       "1110.0     7.644320\n",
       "1115.0    32.387569\n",
       "1133.0    13.111475\n",
       "1145.0     7.018441\n",
       "Length: 87, dtype: float64"
      ]
     },
     "execution_count": 89,
     "metadata": {},
     "output_type": "execute_result"
    }
   ],
   "source": [
    "df_results.groupby('skn').apply(lambda group: mean_squared_error(group['data_in'], group['pred_hetero']))"
   ]
  },
  {
   "cell_type": "code",
   "execution_count": 90,
   "metadata": {},
   "outputs": [
    {
     "data": {
      "text/plain": [
       "4.015111003602443"
      ]
     },
     "execution_count": 90,
     "metadata": {},
     "output_type": "execute_result"
    }
   ],
   "source": [
    "mean_squared_error(df_results['data_in'], df_results['pred_hetero'], squared=False)"
   ]
  },
  {
   "cell_type": "code",
   "execution_count": 93,
   "metadata": {},
   "outputs": [
    {
     "data": {
      "text/plain": [
       "3.877957796209424"
      ]
     },
     "execution_count": 93,
     "metadata": {},
     "output_type": "execute_result"
    }
   ],
   "source": [
    "mean_squared_error(df_results['data_in'], df_results['pred_valina'], squared=False)"
   ]
  },
  {
   "cell_type": "markdown",
   "metadata": {},
   "source": [
    "# What if we use grid data?"
   ]
  },
  {
   "cell_type": "code",
   "execution_count": 95,
   "metadata": {},
   "outputs": [
    {
     "name": "stdout",
     "output_type": "stream",
     "text": [
      "air2m_0 air1000_500_0 hgt500_0 hgt1000_0 omega500_0 pottemp1000-500_0 pottemp1000-850_0 pr_wtr_0 shum-uwnd-700_0 shum-uwnd-925_0 shum-vwnd-700_0 shum-vwnd-950_0 shum700_0 shum925_0 skt_0 slp_0 air2m_1 air1000_500_1 hgt500_1 hgt1000_1 omega500_1 pottemp1000-500_1 pottemp1000-850_1 pr_wtr_1 shum-uwnd-700_1 shum-uwnd-925_1 shum-vwnd-700_1 shum-vwnd-950_1 shum700_1 shum925_1 skt_1 slp_1 air2m_2 air1000_500_2 hgt500_2 hgt1000_2 omega500_2 pottemp1000-500_2 pottemp1000-850_2 pr_wtr_2 shum-uwnd-700_2 shum-uwnd-925_2 shum-vwnd-700_2 shum-vwnd-950_2 shum700_2 shum925_2 skt_2 slp_2 air2m_3 air1000_500_3 hgt500_3 hgt1000_3 omega500_3 pottemp1000-500_3 pottemp1000-850_3 pr_wtr_3 shum-uwnd-700_3 shum-uwnd-925_3 shum-vwnd-700_3 shum-vwnd-950_3 shum700_3 shum925_3 skt_3 slp_3 air2m_4 air1000_500_4 hgt500_4 hgt1000_4 omega500_4 pottemp1000-500_4 pottemp1000-850_4 pr_wtr_4 shum-uwnd-700_4 shum-uwnd-925_4 shum-vwnd-700_4 shum-vwnd-950_4 shum700_4 shum925_4 skt_4 slp_4 air2m_5 air1000_500_5 hgt500_5 hgt1000_5 omega500_5 pottemp1000-500_5 pottemp1000-850_5 pr_wtr_5 shum-uwnd-700_5 shum-uwnd-925_5 shum-vwnd-700_5 shum-vwnd-950_5 shum700_5 shum925_5 skt_5 slp_5 lat lon elevation season_wet season_dry "
     ]
    }
   ],
   "source": [
    "reanalysis_data = [\n",
    "    'air2m', 'air1000_500', 'hgt500', 'hgt1000', 'omega500',\n",
    "    'pottemp1000-500', 'pottemp1000-850', 'pr_wtr', 'shum-uwnd-700',\n",
    "    'shum-uwnd-925', 'shum-vwnd-700', 'shum-vwnd-950', 'shum700', 'shum925', \n",
    "    'skt', 'slp'\n",
    "]\n",
    "\n",
    "columns = []\n",
    "for i in range(6):\n",
    "    for item in reanalysis_data:\n",
    "        columns.append(f\"{item}_{i}\")\n",
    "\n",
    "columns.extend(['lat', 'lon', 'elevation', 'season_wet', 'season_dry'])\n",
    "for item in columns:\n",
    "    print(item, end=' ')"
   ]
  },
  {
   "cell_type": "code",
   "execution_count": 8,
   "metadata": {},
   "outputs": [],
   "source": [
    "# load datasets\n",
    "df_train = pd.read_csv(f\"{BASE_DIR}/train.csv\")\n",
    "df_valid = pd.read_csv(f\"{BASE_DIR}/valid.csv\")\n",
    "df_test = pd.read_csv(f\"{BASE_DIR}/test.csv\")\n",
    "df_combined = pd.concat([df_train, df_valid, df_test])"
   ]
  },
  {
   "cell_type": "code",
   "execution_count": 114,
   "metadata": {},
   "outputs": [
    {
     "name": "stdout",
     "output_type": "stream",
     "text": [
      "station 682.0 has 720 samples\n",
      "2.081006049528605\n",
      "2.0433804833535776\n",
      "3.352129575951407\n",
      "2.0750106741025838\n",
      "2.047769701340767\n",
      "overall: 2.097688875108001\n",
      "avg rmse 2.3198592968553884\n"
     ]
    }
   ],
   "source": [
    "skn = df_combined['skn'].sample().values[0]\n",
    "df_station = df_combined[df_combined['skn'] == skn]\n",
    "print(f'station {skn} has {df_station.shape[0]} samples')\n",
    "lr = 0.003\n",
    "\n",
    "X = np.array(df_station[columns[:-3]])\n",
    "Y = np.array(df_station['data_in'])\n",
    "\n",
    "callback = tf.keras.callbacks.EarlyStopping(monitor='val_loss', patience = 3, mode='min')\n",
    "epochs=20\n",
    "batch_size=64\n",
    "preds = []\n",
    "rmses = []\n",
    "for i in range(5):\n",
    "    print(f\"round {i}\", end='\\r')\n",
    "    model = define_hetero_model(num_inputs=len(columns[:-3]), lr=lr)\n",
    "    yhat = cross_val_predict_for_nn(model, X, Y, callback, batch_size, epochs, verbose=0)\n",
    "    preds.append(yhat)\n",
    "    rmse = mean_squared_error(Y, yhat, squared=False)\n",
    "    rmses.append(rmse)\n",
    "    print(rmse)\n",
    "yhat = np.array(preds).mean(axis=0)\n",
    "    \n",
    "print(\"overall:\", mean_squared_error(Y, yhat, squared=False))\n",
    "print(\"avg rmse\", np.array(rmses).mean())"
   ]
  },
  {
   "cell_type": "code",
   "execution_count": 115,
   "metadata": {},
   "outputs": [
    {
     "name": "stdout",
     "output_type": "stream",
     "text": [
      "682.0\n"
     ]
    },
    {
     "data": {
      "text/plain": [
       "1.9793833960941611"
      ]
     },
     "execution_count": 115,
     "metadata": {},
     "output_type": "execute_result"
    }
   ],
   "source": [
    "print(f'{skn}')\n",
    "df_station = df_combined[df_combined['skn'] == skn]\n",
    "\n",
    "X = np.array(df_station[columns])\n",
    "Y = np.array(df_station['data_in'])\n",
    "\n",
    "model = define_model(lr=lr, num_inputs=len(columns))\n",
    "callback = tf.keras.callbacks.EarlyStopping(monitor='val_loss', patience = 3, mode='min')\n",
    "epochs=20\n",
    "batch_size=64\n",
    "\n",
    "yhat = cross_val_predict_for_nn(model, X, Y, callback, batch_size, epochs, verbose=0)\n",
    "mean_squared_error(Y, yhat, squared=False)"
   ]
  },
  {
   "cell_type": "code",
   "execution_count": 116,
   "metadata": {},
   "outputs": [
    {
     "name": "stdout",
     "output_type": "stream",
     "text": [
      "682.0\n"
     ]
    },
    {
     "data": {
      "text/plain": [
       "2.158795735053062"
      ]
     },
     "execution_count": 116,
     "metadata": {},
     "output_type": "execute_result"
    }
   ],
   "source": [
    "print(f'{skn}')\n",
    "df_station = df_combined[df_combined['skn'] == skn]\n",
    "\n",
    "X = np.array(df_station[columns])\n",
    "Y = np.array(df_station['data_in'])\n",
    "\n",
    "model = LinearRegression()\n",
    "\n",
    "# yhat = cross_val_predict_for_nn(model, X, Y, callback, batch_size, epochs, verbose=0)\n",
    "yhat = cross_val_predict(model, X, Y)\n",
    "mean_squared_error(Y, yhat, squared=False)"
   ]
  },
  {
   "cell_type": "code",
   "execution_count": null,
   "metadata": {},
   "outputs": [
    {
     "name": "stdout",
     "output_type": "stream",
     "text": [
      "302/1992\r"
     ]
    }
   ],
   "source": [
    "results = []\n",
    "n_stations = df_combined['skn'].unique().shape[0]\n",
    "for i, skn in enumerate(df_combined['skn'].unique()):\n",
    "    df_station = df_combined[df_combined['skn'] == skn]\n",
    "    if df_station.shape[0] <= 5: continue\n",
    "        \n",
    "    df_station = df_station.sort_values(by=['year', 'month'])\n",
    "        \n",
    "    X = np.array(df_station[columns])\n",
    "    Y = np.array(df_station['data_in'])\n",
    "\n",
    "    model = define_model(lr=lr, num_inputs=len(columns))\n",
    "    callback = tf.keras.callbacks.EarlyStopping(monitor='val_loss', patience = 3, mode='min')\n",
    "    epochs=20\n",
    "    batch_size=64\n",
    "\n",
    "    yhat_nn = cross_val_predict_for_nn(model, X, Y, callback, batch_size, epochs, verbose=0)\n",
    "    \n",
    "    model = LinearRegression()\n",
    "    yhat_lr = cross_val_predict(model, X, Y)\n",
    "\n",
    "    results.append(\n",
    "        pd.DataFrame(\n",
    "            {\n",
    "                \"skn\": [skn for _ in range(X.shape[0])],\n",
    "                \"data_in\": Y,\n",
    "                \"pred_nn\": yhat_nn.reshape(-1,),\n",
    "                \"pred_lr\": yhat_lr\n",
    "            }\n",
    "        )\n",
    "    )\n",
    "    print(f\"{i}/{n_stations}\", end='\\r')"
   ]
  },
  {
   "cell_type": "code",
   "execution_count": null,
   "metadata": {},
   "outputs": [],
   "source": [
    "temp = pd.concat(results)\n",
    "print(\n",
    "    \"Overall RMSE:\\nLR: {:.3f}\\nNN: {:.3f}\\n\"\n",
    "    .format(\n",
    "        mean_squared_error(temp['data_in'], temp['pred_lr'], squared=False),\n",
    "        mean_squared_error(temp['data_in'], temp['pred_nn'], squared=False)\n",
    "    )\n",
    ")\n",
    "for skn, group in temp.groupby('skn'):\n",
    "    print(skn)\n",
    "    print(\n",
    "        \"RMSE for LR: {:.3f}\\nRMSE for NN: {:.3f}\\n\"\n",
    "        .format(\n",
    "            mean_squared_error(group['data_in'], group['pred_lr'], squared=False),\n",
    "            mean_squared_error(group['data_in'], group['pred_nn'], squared=False)\n",
    "        )\n",
    "    )"
   ]
  },
  {
   "cell_type": "code",
   "execution_count": 151,
   "metadata": {},
   "outputs": [
    {
     "data": {
      "text/plain": [
       "67.7263961044705"
      ]
     },
     "execution_count": 151,
     "metadata": {},
     "output_type": "execute_result"
    }
   ],
   "source": [
    "df_anomaly = df_combined[df_combined['skn']==5.0]\n",
    "X = df_anomaly[columns]\n",
    "Y = df_anomaly['data_in']\n",
    "\n",
    "model = LinearRegression()\n",
    "yhat = cross_val_predict(model, X, Y)\n",
    "mean_squared_error(Y, yhat, squared=False)"
   ]
  },
  {
   "cell_type": "code",
   "execution_count": 4,
   "metadata": {},
   "outputs": [],
   "source": [
    "import pandas as pd\n",
    "df_result = pd.read_csv('/home/yusukemh/github/yusukemh/StatisticalDownscaling/codes/slurm/run_scripts/nn_vs_lr_6grid/result_nn_6grids.csv')\n",
    "# load datasets\n",
    "df_train = pd.read_csv(f\"{BASE_DIR}/train.csv\")\n",
    "df_valid = pd.read_csv(f\"{BASE_DIR}/valid.csv\")\n",
    "df_test = pd.read_csv(f\"{BASE_DIR}/test.csv\")\n",
    "df_combined = pd.concat([df_train, df_valid, df_test])"
   ]
  },
  {
   "cell_type": "code",
   "execution_count": 5,
   "metadata": {},
   "outputs": [
    {
     "data": {
      "text/plain": [
       "(3.8438406584896625, 5.235264344434101)"
      ]
     },
     "execution_count": 5,
     "metadata": {},
     "output_type": "execute_result"
    }
   ],
   "source": [
    "mean_squared_error(df_result['data_in'], df_result['pred_nn'], squared=False), mean_squared_error(df_result['data_in'], df_result['pred_lr'], squared=False)"
   ]
  },
  {
   "cell_type": "code",
   "execution_count": 6,
   "metadata": {},
   "outputs": [
    {
     "name": "stdout",
     "output_type": "stream",
     "text": [
      "air2m air1000_500 hgt500 hgt1000 omega500 pottemp1000-500 pottemp1000-850 pr_wtr shum-uwnd-700 shum-uwnd-925 shum-vwnd-700 shum-vwnd-950 shum700 shum925 skt slp season_wet elevation lat lon "
     ]
    }
   ],
   "source": [
    "columns = deepcopy(LABELS)\n",
    "columns.extend([\"season_wet\", \"elevation\", \"lat\", \"lon\"])\n",
    "for item in columns:\n",
    "    print(item, end=' ')"
   ]
  },
  {
   "cell_type": "code",
   "execution_count": 7,
   "metadata": {},
   "outputs": [
    {
     "name": "stdout",
     "output_type": "stream",
     "text": [
      "1985/1992\r"
     ]
    }
   ],
   "source": [
    "ytrue = []\n",
    "yhat = []\n",
    "n_stations = df_combined['skn'].unique().shape[0]\n",
    "for i, skn in enumerate(df_combined['skn'].unique()):\n",
    "    df_station = df_combined[df_combined['skn'] == skn]\n",
    "    if df_station.shape[0] <= 5: continue\n",
    "\n",
    "    df_station = df_station.sort_values(by=['year', 'month'])\n",
    "\n",
    "    X = np.array(df_station[columns])\n",
    "    Y = np.array(df_station['data_in'])\n",
    "\n",
    "    model = LinearRegression()\n",
    "    yhat_lr = cross_val_predict(model, X, Y)\n",
    "\n",
    "    yhat.extend(yhat_lr)\n",
    "    ytrue.extend(Y)\n",
    "    \n",
    "\n",
    "    line = f\"{i}/{n_stations}\"\n",
    "    print(line, end='\\r')\n"
   ]
  },
  {
   "cell_type": "code",
   "execution_count": 8,
   "metadata": {},
   "outputs": [
    {
     "data": {
      "text/plain": [
       "4.098059025373483"
      ]
     },
     "execution_count": 8,
     "metadata": {},
     "output_type": "execute_result"
    }
   ],
   "source": [
    "mean_squared_error(ytrue, yhat, squared=False)"
   ]
  },
  {
   "cell_type": "code",
   "execution_count": 9,
   "metadata": {},
   "outputs": [
    {
     "name": "stdout",
     "output_type": "stream",
     "text": [
      "RMSE using site-specific Linear Regression models: 5.235\n",
      "RMSE using a sigle XGBost model: 3.844\n"
     ]
    }
   ],
   "source": [
    "# df_result = pd.read_csv(f\"{BASE_DIR}/SiteSpecific/result.csv\")\n",
    "\n",
    "rmse_per_station_linear = df_result.groupby(by=\"skn\").apply(lambda group: mean_squared_error(group['data_in'], group['pred_lr'], squared=False))\n",
    "rmse_per_station_nn = df_result.groupby(by=\"skn\").apply(lambda group: mean_squared_error(group['data_in'], group['pred_nn'], squared=False))\n",
    "n_data = df_result.groupby(by=\"skn\").size()\n",
    "df_rmse = pd.DataFrame({\"n_data\": n_data, \"rmse_linear\": rmse_per_station_linear, \"rmse_xgb\": rmse_per_station_nn})\n",
    "df_rmse['diff'] = df_rmse['rmse_linear'] - df_rmse['rmse_xgb']\n",
    "\n",
    "rmse_linear = mean_squared_error(df_result['data_in'], df_result['pred_lr'], squared=False)\n",
    "rmse_nn = mean_squared_error(df_result['data_in'], df_result['pred_nn'], squared=False)\n",
    "\n",
    "print(\"RMSE using site-specific Linear Regression models: {:.3f}\".format(rmse_linear))\n",
    "print(\"RMSE using a sigle XGBost model: {:.3f}\".format(rmse_nn))"
   ]
  },
  {
   "cell_type": "code",
   "execution_count": 10,
   "metadata": {},
   "outputs": [
    {
     "name": "stdout",
     "output_type": "stream",
     "text": [
      "\n"
     ]
    },
    {
     "data": {
      "image/png": "[encoded data removed]",
      "text/plain": [
       "<Figure size 1440x360 with 1 Axes>"
      ]
     },
     "metadata": {
      "needs_background": "light"
     },
     "output_type": "display_data"
    }
   ],
   "source": [
    "# df_stats = df_combined.groupby('skn').size().reset_index().rename(columns={0:\"n_data\"}).groupby(\"n_data\").size().reset_index().rename(columns={0: \"n_stations\"})\n",
    "\n",
    "fig, ax = plt.subplots(1, figsize=(20,5))\n",
    "ax.bar(\n",
    "    x=df_rmse['n_data'],\n",
    "    height=df_rmse['diff'],\n",
    "    width=1,\n",
    "    color=['b' if item >= 0 else 'r' for item in df_rmse['diff']],\n",
    "    alpha=0.3\n",
    ")\n",
    "\n",
    "\n",
    "ax.set_ylim((-100, 200))\n",
    "ax.axhline(y=0, linestyle='-', linewidth=1, color='k', alpha=0.2)\n",
    "ax.axvline(127, linewidth=1, color='orange')\n",
    "ax.set_xlabel('# of stations')\n",
    "ax.set_ylabel('RMSE in inch')\n",
    "# ax.axhline(y=100, linewidth=1, linestyle='--')\n",
    "    \n",
    "ax.set_title(\"RMSE(linear - xgb) per station: 5-fold cross validation\")\n",
    "ax.set(yscale='symlog')\n",
    "# plt.tight_layout()\n",
    "\n",
    "# ax.scatter(df_stats['n_data'], df_stats['n_stations'], s=1, c='k', marker='x')\n",
    "print()"
   ]
  },
  {
   "cell_type": "code",
   "execution_count": 11,
   "metadata": {},
   "outputs": [
    {
     "data": {
      "text/plain": [
       "(-200.0, 200.0)"
      ]
     },
     "execution_count": 11,
     "metadata": {},
     "output_type": "execute_result"
    },
    {
     "data": {
      "image/png": "[encoded data removed]",
      "text/plain": [
       "<Figure size 720x720 with 1 Axes>"
      ]
     },
     "metadata": {
      "needs_background": "light"
     },
     "output_type": "display_data"
    }
   ],
   "source": [
    "fig, ax = plt.subplots(1, figsize=(10,10))\n",
    "ax.scatter(df_result['data_in'], df_result['pred_lr'], s=0.1, color='b', label='Linear')\n",
    "ax.scatter(df_result['data_in'], df_result['pred_nn'], s=0.1, color='r', label='NN')\n",
    "ax.plot([0, 50], [0, 50])\n",
    "ax.set_aspect('equal')\n",
    "ax.legend()\n",
    "ax.set_xlim([0,200])\n",
    "ax.set_ylim([-200,200])"
   ]
  },
  {
   "cell_type": "code",
   "execution_count": 12,
   "metadata": {},
   "outputs": [],
   "source": [
    "df_rmse = pd.concat([rmse_per_station_linear, rmse_per_station_nn], axis=1).rename(columns={0: \"rmse_linear\", 1:\"rmse_nn\"})\n",
    "df_rmse = df_rmse.merge(right=df_combined[['skn', 'lat', 'lon']].drop_duplicates(), left_on='skn', right_on='skn')\n",
    "df_rmse['diff'] = df_rmse.apply(lambda row: row['rmse_linear'] - row['rmse_nn'], axis=1)"
   ]
  },
  {
   "cell_type": "code",
   "execution_count": 13,
   "metadata": {},
   "outputs": [],
   "source": [
    "size = np.power(np.clip(df_rmse['diff'], a_min=-100, a_max=0), 2)"
   ]
  },
  {
   "cell_type": "code",
   "execution_count": 14,
   "metadata": {},
   "outputs": [
    {
     "name": "stdout",
     "output_type": "stream",
     "text": [
      "\n"
     ]
    },
    {
     "data": {
      "image/png": "[encoded data removed]",
      "text/plain": [
       "<Figure size 1200x720 with 1 Axes>"
      ]
     },
     "metadata": {
      "needs_background": "light"
     },
     "output_type": "display_data"
    }
   ],
   "source": [
    "plt.figure(figsize=(10, 6), dpi=120)\n",
    "\n",
    "ax = plt.axes(projection=ccrs.PlateCarree())\n",
    "\n",
    "xmin, xmax = -160, -153\n",
    "ymin, ymax = 17.5, 22.5\n",
    "\n",
    "ax.set_xticks(np.arange(xmin, xmax+1, 2.5))\n",
    "ax.set_yticks(np.arange(ymin, ymax+1, 2.5))\n",
    "\n",
    "ax.set_xlim(xmin, xmax)\n",
    "ax.set_ylim(ymin, ymax)\n",
    "\n",
    "lon_formatter = cticker.LongitudeFormatter()\n",
    "lat_formatter = cticker.LatitudeFormatter()\n",
    "ax.xaxis.set_major_formatter(lon_formatter)\n",
    "ax.yaxis.set_major_formatter(lat_formatter)\n",
    "ax.grid(linewidth=0.1, color='black', linestyle='--')\n",
    "\n",
    "stations = plt.scatter(df_rmse[\"lon\"], df_rmse[\"lat\"], s=size, marker='o', c=df_rmse['diff'], label=\"stations\", edgecolor='none', cmap='copper')\n",
    "plt.vlines(x=np.arange(xmin, xmax+1, 2.5) - 1.25, ymin=ymin, ymax=ymax, color=\"k\", linewidth=0.1, linestyle=\"--\", alpha=0.5)\n",
    "plt.hlines(y=np.arange(ymin, ymax+1, 2.5) - 1.25 , xmin=xmin, xmax=xmax, color=\"k\", linewidth=0.1, linestyle=\"--\", alpha=0.5)\n",
    "plt.title(\"Stations where linear regression works better\", fontsize=(15))\n",
    "plt.legend()\n",
    "ax.coastlines(resolution='10m')\n",
    "print()\n",
    "# plt.savefig(f\"{BASE_DIR}/images/reanalysis_grids.png\")"
   ]
  },
  {
   "cell_type": "code",
   "execution_count": null,
   "metadata": {},
   "outputs": [],
   "source": [
    "# change the grid\n",
    "# inspect the stations\n",
    "# inspect the heteroskedastic regression\n"
   ]
  }
 ],
 "metadata": {
  "kernelspec": {
   "display_name": "tfp",
   "language": "python",
   "name": "tfp"
  },
  "language_info": {
   "codemirror_mode": {
    "name": "ipython",
    "version": 3
   },
   "file_extension": ".py",
   "mimetype": "text/x-python",
   "name": "python",
   "nbconvert_exporter": "python",
   "pygments_lexer": "ipython3",
   "version": "3.10.4"
  }
 },
 "nbformat": 4,
 "nbformat_minor": 4
}

{
 "cells": [
  {
   "cell_type": "code",
   "execution_count": 1,
   "metadata": {},
   "outputs": [
    {
     "name": "stderr",
     "output_type": "stream",
     "text": [
      "2022-05-31 19:07:25.552269: W tensorflow/stream_executor/platform/default/dso_loader.cc:64] Could not load dynamic library 'libcudart.so.11.0'; dlerror: libcudart.so.11.0: cannot open shared object file: No such file or directory; LD_LIBRARY_PATH: /opt/apps/software/tools/nmap/7.80/lib\n"
     ]
    }
   ],
   "source": [
    "# set the environment variable for warning\n",
    "import os\n",
    "os.environ['TF_CPP_MIN_LOG_LEVEL'] = '1'\n",
    "\n",
    "# enable autoreload\n",
    "%load_ext autoreload\n",
    "%autoreload 2\n",
    "\n",
    "# basic imports\n",
    "import numpy as np\n",
    "import pandas as pd\n",
    "import matplotlib.pyplot as plt\n",
    "\n",
    "# sklearn\n",
    "from sklearn.model_selection import train_test_split, KFold, cross_val_predict\n",
    "from sklearn.preprocessing import MinMaxScaler, StandardScaler\n",
    "from sklearn.linear_model import LinearRegression\n",
    "from sklearn.metrics import mean_squared_error\n",
    "\n",
    "#tensorflow\n",
    "import tensorflow as tf\n",
    "from tensorflow.keras.metrics import RootMeanSquaredError\n",
    "from tensorflow.keras.models import Model, Sequential\n",
    "from tensorflow.keras.wrappers.scikit_learn import KerasRegressor\n",
    "from tensorflow.keras.layers import Dense, Input, Concatenate, Dropout\n",
    "\n",
    "import tensorflow_probability as tfp\n",
    "tfd = tfp.distributions\n",
    "\n",
    "# others\n",
    "import cartopy.crs as ccrs\n",
    "import cartopy.mpl.ticker as cticker\n",
    "from copy import deepcopy\n",
    "import sherpa\n",
    "from xgboost import XGBRegressor\n",
    "import sys\n",
    "import time\n",
    "from scipy.stats import gamma, norm, beta\n",
    "\n",
    "# Variables from config file\n",
    "sys.path.append('/home/yusukemh/github/yusukemh/StatisticalDownscaling/codes/')\n",
    "from config import BASE_DIR, FILE_NAMES, LABELS, ATTRIBUTES, BEST_MODEL_COLUMNS, ISLAND_RANGES, C_SINGLE, C_INT50, C_INT100, C_GRID, C_COMMON\n",
    "\n",
    "# util\n",
    "from util import cross_val_predict_for_nn, sample_station, estimate_epochs, define_model, define_hetero_model_normal, define_hetero_model_gamma"
   ]
  },
  {
   "cell_type": "code",
   "execution_count": 1,
   "metadata": {},
   "outputs": [
    {
     "data": {
      "text/plain": [
       "['/home/yusukemh/github/yusukemh/StatisticalDownscaling/codes',\n",
       " '/home/yusukemh/sadow_lts/personal/yusukemh/Anaconda3/envs/tfp/lib/python310.zip',\n",
       " '/home/yusukemh/sadow_lts/personal/yusukemh/Anaconda3/envs/tfp/lib/python3.10',\n",
       " '/home/yusukemh/sadow_lts/personal/yusukemh/Anaconda3/envs/tfp/lib/python3.10/lib-dynload',\n",
       " '',\n",
       " '/home/yusukemh/sadow_lts/personal/yusukemh/Anaconda3/envs/tfp/lib/python3.10/site-packages']"
      ]
     },
     "execution_count": 1,
     "metadata": {},
     "output_type": "execute_result"
    }
   ],
   "source": [
    "import sys\n",
    "sys.path"
   ]
  },
  {
   "cell_type": "markdown",
   "metadata": {},
   "source": [
    "# Conduct a test on the simplest case:\n",
    "- Only use non-filled, actual data\n",
    "- Experiment on a single station\n",
    "- Compare vanila NN against Linear Regression\n",
    "- only a single closest GCM variables are used\n",
    "- Use only the 16 variables"
   ]
  },
  {
   "cell_type": "code",
   "execution_count": 2,
   "metadata": {},
   "outputs": [
    {
     "name": "stdout",
     "output_type": "stream",
     "text": [
      "Station with skn: 396.0 was chosen out of all stations with more than 750 historical (non-filled) rainfall observations.\n",
      "There are 778 rainfall observations from this station.\n"
     ]
    }
   ],
   "source": [
    "columns = C_SINGLE\n",
    "# load nonfilled dataset\n",
    "df_nonfilled = pd.read_csv(f\"{BASE_DIR}/nonfilled_dataset.csv\", usecols=C_SINGLE + C_COMMON)\n",
    "# sample a station: returned object is sorted.\n",
    "df_station = sample_station(df=df_nonfilled, threshold=750, seed=42)"
   ]
  },
  {
   "cell_type": "code",
   "execution_count": 3,
   "metadata": {},
   "outputs": [
    {
     "name": "stderr",
     "output_type": "stream",
     "text": [
      "2022-05-30 23:38:52.855105: W tensorflow/stream_executor/platform/default/dso_loader.cc:64] Could not load dynamic library 'libcudart.so.11.0'; dlerror: libcudart.so.11.0: cannot open shared object file: No such file or directory; LD_LIBRARY_PATH: /opt/apps/software/tools/nmap/7.80/lib\n",
      "2022-05-30 23:38:52.862097: W tensorflow/stream_executor/platform/default/dso_loader.cc:64] Could not load dynamic library 'libcufft.so.10'; dlerror: libcufft.so.10: cannot open shared object file: No such file or directory; LD_LIBRARY_PATH: /opt/apps/software/tools/nmap/7.80/lib\n",
      "2022-05-30 23:38:52.862207: W tensorflow/stream_executor/platform/default/dso_loader.cc:64] Could not load dynamic library 'libcurand.so.10'; dlerror: libcurand.so.10: cannot open shared object file: No such file or directory; LD_LIBRARY_PATH: /opt/apps/software/tools/nmap/7.80/lib\n",
      "2022-05-30 23:38:52.862297: W tensorflow/stream_executor/platform/default/dso_loader.cc:64] Could not load dynamic library 'libcusolver.so.11'; dlerror: libcusolver.so.11: cannot open shared object file: No such file or directory; LD_LIBRARY_PATH: /opt/apps/software/tools/nmap/7.80/lib\n",
      "2022-05-30 23:38:52.862384: W tensorflow/stream_executor/platform/default/dso_loader.cc:64] Could not load dynamic library 'libcusparse.so.11'; dlerror: libcusparse.so.11: cannot open shared object file: No such file or directory; LD_LIBRARY_PATH: /opt/apps/software/tools/nmap/7.80/lib\n",
      "2022-05-30 23:38:52.862475: W tensorflow/stream_executor/platform/default/dso_loader.cc:64] Could not load dynamic library 'libcudnn.so.8'; dlerror: libcudnn.so.8: cannot open shared object file: No such file or directory; LD_LIBRARY_PATH: /opt/apps/software/tools/nmap/7.80/lib\n",
      "2022-05-30 23:38:52.862503: W tensorflow/core/common_runtime/gpu/gpu_device.cc:1850] Cannot dlopen some GPU libraries. Please make sure the missing libraries mentioned above are installed properly if you would like to use GPU. Follow the guide at https://www.tensorflow.org/install/gpu for how to download and setup the required libraries for your platform.\n",
      "Skipping registering GPU devices...\n"
     ]
    },
    {
     "name": "stdout",
     "output_type": "stream",
     "text": [
      "mean number of epochs: 20.8\n",
      "Std: 5.288\n"
     ]
    }
   ],
   "source": [
    "X = np.array(df_station[columns])\n",
    "Y = np.array(df_station['data_in'])\n",
    "\n",
    "# define hyperparameters\n",
    "############################\n",
    "model_params = dict(\n",
    "    input_dim=len(columns),\n",
    "    lr=0.0005,\n",
    "    activation='elu',\n",
    "    n_units=256,\n",
    "    n_layers=2,\n",
    "    dropout=0.5\n",
    ")\n",
    "batch_size = 64\n",
    "#############################\n",
    "\n",
    "estimated_epochs = estimate_epochs(\n",
    "    X=X, Y=Y,\n",
    "    model_func=define_model,\n",
    "    model_params=model_params,\n",
    "    batch_size=batch_size,\n",
    "    n_iter=10\n",
    ")"
   ]
  },
  {
   "cell_type": "code",
   "execution_count": 6,
   "metadata": {},
   "outputs": [
    {
     "name": "stdout",
     "output_type": "stream",
     "text": [
      "Result: single observation, normal NN\n",
      "RMSE with NN: 1.472\n",
      "RMSE with LR: 1.535\n"
     ]
    }
   ],
   "source": [
    "# now fix the epoch, remove early stopping, and run cross_val_predict\n",
    "yhat_nn = cross_val_predict_for_nn(# implemented in util.py\n",
    "    model_func=define_model,\n",
    "    model_params=model_params,\n",
    "    X=X, Y=Y,\n",
    "    callback=None,\n",
    "    batch_size=batch_size,\n",
    "    epochs=int(estimated_epochs),\n",
    "    early_stopping=False,\n",
    "    verbose=False\n",
    ")\n",
    "rmse_nn = mean_squared_error(Y, yhat_nn, squared=False)\n",
    "linear_regression = LinearRegression()\n",
    "yhat_lr = cross_val_predict(linear_regression, X, Y, n_jobs=-1)\n",
    "rmse_lr = mean_squared_error(Y, yhat_lr, squared=False)\n",
    "\n",
    "print(\"Result: single observation, normal NN\")\n",
    "print(\"RMSE with NN: {:.3f}\".format(rmse_nn))\n",
    "print(\"RMSE with LR: {:.3f}\".format(rmse_lr))\n"
   ]
  },
  {
   "cell_type": "code",
   "execution_count": 6,
   "metadata": {},
   "outputs": [
    {
     "data": {
      "text/plain": [
       "<matplotlib.legend.Legend at 0x2b2f9f1c6110>"
      ]
     },
     "execution_count": 6,
     "metadata": {},
     "output_type": "execute_result"
    },
    {
     "data": {
      "image/png": "[encoded data removed]",
      "text/plain": [
       "<Figure size 432x288 with 1 Axes>"
      ]
     },
     "metadata": {
      "needs_background": "light"
     },
     "output_type": "display_data"
    }
   ],
   "source": [
    "fig, ax = plt.subplots(1)\n",
    "ax.scatter(Y, yhat_lr, s=3, color='b', label='linear')\n",
    "ax.scatter(Y, yhat_nn, s=3, color='r', label='NN')\n",
    "ax.set_facecolor('lightgray')\n",
    "ax.plot([0, 20], [0, 20])\n",
    "ax.set_aspect('equal')\n",
    "ax.legend()"
   ]
  },
  {
   "cell_type": "markdown",
   "metadata": {},
   "source": [
    "<hr>"
   ]
  },
  {
   "cell_type": "markdown",
   "metadata": {},
   "source": [
    "# add noise: regular NN"
   ]
  },
  {
   "cell_type": "code",
   "execution_count": 50,
   "metadata": {},
   "outputs": [
    {
     "name": "stdout",
     "output_type": "stream",
     "text": [
      "Station with skn: 396.0 was chosen out of all stations with more than 750 historical (non-filled) rainfall observations.\n",
      "There are 778 rainfall observations from this station.\n"
     ]
    }
   ],
   "source": [
    "columns = C_SINGLE\n",
    "# load nonfilled dataset\n",
    "df_nonfilled = pd.read_csv(f\"{BASE_DIR}/nonfilled_dataset.csv\", usecols=C_SINGLE + C_COMMON)\n",
    "# sample a station: returned object is sorted.\n",
    "df_station = sample_station(df=df_nonfilled, threshold=750, seed=42)"
   ]
  },
  {
   "cell_type": "code",
   "execution_count": 56,
   "metadata": {},
   "outputs": [
    {
     "name": "stdout",
     "output_type": "stream",
     "text": [
      "mean number of epochs: 7.2\n",
      "Std: 0.980\n"
     ]
    }
   ],
   "source": [
    "X = np.array(df_station[columns])\n",
    "Y = np.array(df_station['data_in'])\n",
    "model = define_model(input_dim=len(columns), lr=0.005)\n",
    "estimated_epochs = estimate_epochs(\n",
    "    X=X, Y=Y,\n",
    "    model_func=define_model,\n",
    "    model_params={\"input_dim\": len(columns), \"lr\": 0.0005},\n",
    "    n_iter=10,\n",
    "    add_noise=True\n",
    ")"
   ]
  },
  {
   "cell_type": "code",
   "execution_count": 60,
   "metadata": {
    "collapsed": true,
    "jupyter": {
     "outputs_hidden": true
    }
   },
   "outputs": [
    {
     "name": "stdout",
     "output_type": "stream",
     "text": [
      "Epoch 1/50\n",
      "107/107 [==============================] - 1s 4ms/step - loss: 2.6220 - root_mean_squared_error: 1.6193\n",
      "Epoch 2/50\n",
      "107/107 [==============================] - 0s 4ms/step - loss: 2.0028 - root_mean_squared_error: 1.4152\n",
      "Epoch 3/50\n",
      "107/107 [==============================] - 0s 4ms/step - loss: 1.7752 - root_mean_squared_error: 1.3324\n",
      "Epoch 4/50\n",
      "107/107 [==============================] - 0s 4ms/step - loss: 1.7097 - root_mean_squared_error: 1.3075\n",
      "Epoch 5/50\n",
      "107/107 [==============================] - 0s 4ms/step - loss: 1.6285 - root_mean_squared_error: 1.2761\n",
      "Epoch 6/50\n",
      "107/107 [==============================] - 0s 4ms/step - loss: 1.5301 - root_mean_squared_error: 1.2370\n",
      "Epoch 7/50\n",
      "107/107 [==============================] - 0s 4ms/step - loss: 1.3863 - root_mean_squared_error: 1.1774\n",
      "Epoch 8/50\n",
      "107/107 [==============================] - 0s 4ms/step - loss: 1.2017 - root_mean_squared_error: 1.0962\n",
      "Epoch 9/50\n",
      "107/107 [==============================] - 0s 4ms/step - loss: 1.1754 - root_mean_squared_error: 1.0842\n",
      "Epoch 10/50\n",
      "107/107 [==============================] - 0s 4ms/step - loss: 1.0972 - root_mean_squared_error: 1.0475\n",
      "Epoch 11/50\n",
      "107/107 [==============================] - 0s 4ms/step - loss: 1.1044 - root_mean_squared_error: 1.0509\n",
      "Epoch 12/50\n",
      "107/107 [==============================] - 0s 4ms/step - loss: 0.9931 - root_mean_squared_error: 0.9965\n",
      "Epoch 13/50\n",
      "107/107 [==============================] - 0s 4ms/step - loss: 0.9553 - root_mean_squared_error: 0.9774\n",
      "Epoch 14/50\n",
      "107/107 [==============================] - 0s 4ms/step - loss: 0.9034 - root_mean_squared_error: 0.9505\n",
      "Epoch 15/50\n",
      "107/107 [==============================] - 0s 4ms/step - loss: 0.8786 - root_mean_squared_error: 0.9373\n",
      "Epoch 16/50\n",
      "107/107 [==============================] - 0s 4ms/step - loss: 0.7903 - root_mean_squared_error: 0.8890\n",
      "Epoch 17/50\n",
      "107/107 [==============================] - 0s 4ms/step - loss: 0.7745 - root_mean_squared_error: 0.8801\n",
      "Epoch 18/50\n",
      "107/107 [==============================] - 0s 4ms/step - loss: 0.6704 - root_mean_squared_error: 0.8188\n",
      "Epoch 19/50\n",
      "107/107 [==============================] - 0s 4ms/step - loss: 0.6505 - root_mean_squared_error: 0.8065\n",
      "Epoch 20/50\n",
      "107/107 [==============================] - 0s 4ms/step - loss: 0.5940 - root_mean_squared_error: 0.7707\n",
      "Epoch 21/50\n",
      "107/107 [==============================] - 0s 4ms/step - loss: 0.5661 - root_mean_squared_error: 0.7524\n",
      "Epoch 22/50\n",
      "107/107 [==============================] - 0s 4ms/step - loss: 0.6182 - root_mean_squared_error: 0.7863\n",
      "Epoch 23/50\n",
      "107/107 [==============================] - 0s 4ms/step - loss: 0.5181 - root_mean_squared_error: 0.7198\n",
      "Epoch 24/50\n",
      "107/107 [==============================] - 0s 4ms/step - loss: 0.5609 - root_mean_squared_error: 0.7489\n",
      "Epoch 25/50\n",
      "107/107 [==============================] - 0s 4ms/step - loss: 0.5509 - root_mean_squared_error: 0.7422\n",
      "Epoch 26/50\n",
      "107/107 [==============================] - 0s 4ms/step - loss: 0.4766 - root_mean_squared_error: 0.6903\n",
      "Epoch 27/50\n",
      "107/107 [==============================] - 0s 4ms/step - loss: 0.4567 - root_mean_squared_error: 0.6758\n",
      "Epoch 28/50\n",
      "107/107 [==============================] - 0s 4ms/step - loss: 0.4322 - root_mean_squared_error: 0.6574\n",
      "Epoch 29/50\n",
      "107/107 [==============================] - 0s 4ms/step - loss: 0.4675 - root_mean_squared_error: 0.6837\n",
      "Epoch 30/50\n",
      "107/107 [==============================] - 0s 4ms/step - loss: 0.4246 - root_mean_squared_error: 0.6516\n",
      "Epoch 31/50\n",
      "107/107 [==============================] - 0s 4ms/step - loss: 0.4540 - root_mean_squared_error: 0.6738\n",
      "Epoch 32/50\n",
      "107/107 [==============================] - 0s 4ms/step - loss: 0.4461 - root_mean_squared_error: 0.6679\n",
      "Epoch 33/50\n",
      "107/107 [==============================] - 0s 4ms/step - loss: 0.3617 - root_mean_squared_error: 0.6014\n",
      "Epoch 34/50\n",
      "107/107 [==============================] - 0s 4ms/step - loss: 0.3659 - root_mean_squared_error: 0.6049\n",
      "Epoch 35/50\n",
      "107/107 [==============================] - 0s 4ms/step - loss: 0.3838 - root_mean_squared_error: 0.6195\n",
      "Epoch 36/50\n",
      "107/107 [==============================] - 0s 4ms/step - loss: 0.4089 - root_mean_squared_error: 0.6394\n",
      "Epoch 37/50\n",
      "107/107 [==============================] - 0s 4ms/step - loss: 0.3600 - root_mean_squared_error: 0.6000\n",
      "Epoch 38/50\n",
      "107/107 [==============================] - 0s 4ms/step - loss: 0.3686 - root_mean_squared_error: 0.6072\n",
      "Epoch 39/50\n",
      "107/107 [==============================] - 0s 4ms/step - loss: 0.3731 - root_mean_squared_error: 0.6108\n",
      "Epoch 40/50\n",
      "107/107 [==============================] - 0s 4ms/step - loss: 0.3408 - root_mean_squared_error: 0.5837\n",
      "Epoch 41/50\n",
      "107/107 [==============================] - 0s 4ms/step - loss: 0.3503 - root_mean_squared_error: 0.5919\n",
      "Epoch 42/50\n",
      "107/107 [==============================] - 0s 4ms/step - loss: 0.3415 - root_mean_squared_error: 0.5844\n",
      "Epoch 43/50\n",
      "107/107 [==============================] - 0s 4ms/step - loss: 0.3158 - root_mean_squared_error: 0.5620\n",
      "Epoch 44/50\n",
      "107/107 [==============================] - 0s 4ms/step - loss: 0.3087 - root_mean_squared_error: 0.5556\n",
      "Epoch 45/50\n",
      "107/107 [==============================] - 0s 4ms/step - loss: 0.3095 - root_mean_squared_error: 0.5563\n",
      "Epoch 46/50\n",
      "107/107 [==============================] - 0s 4ms/step - loss: 0.3389 - root_mean_squared_error: 0.5821\n",
      "Epoch 47/50\n",
      "107/107 [==============================] - 0s 4ms/step - loss: 0.3173 - root_mean_squared_error: 0.5633\n",
      "Epoch 48/50\n",
      "107/107 [==============================] - 0s 4ms/step - loss: 0.3301 - root_mean_squared_error: 0.5745\n",
      "Epoch 49/50\n",
      "107/107 [==============================] - 0s 4ms/step - loss: 0.2891 - root_mean_squared_error: 0.5377\n",
      "Epoch 50/50\n",
      "107/107 [==============================] - 0s 4ms/step - loss: 0.3219 - root_mean_squared_error: 0.5674\n",
      "Epoch 1/50\n",
      "107/107 [==============================] - 1s 4ms/step - loss: 2.2351 - root_mean_squared_error: 1.4950\n",
      "Epoch 2/50\n",
      "107/107 [==============================] - 0s 4ms/step - loss: 1.8550 - root_mean_squared_error: 1.3620\n",
      "Epoch 3/50\n",
      "107/107 [==============================] - 0s 4ms/step - loss: 1.7660 - root_mean_squared_error: 1.3289\n",
      "Epoch 4/50\n",
      "107/107 [==============================] - 0s 4ms/step - loss: 1.6485 - root_mean_squared_error: 1.2840\n",
      "Epoch 5/50\n",
      "107/107 [==============================] - 0s 4ms/step - loss: 1.4538 - root_mean_squared_error: 1.2057\n",
      "Epoch 6/50\n",
      "107/107 [==============================] - 0s 4ms/step - loss: 1.3605 - root_mean_squared_error: 1.1664\n",
      "Epoch 7/50\n",
      "107/107 [==============================] - 0s 4ms/step - loss: 1.3413 - root_mean_squared_error: 1.1582\n",
      "Epoch 8/50\n",
      "107/107 [==============================] - 0s 4ms/step - loss: 1.1309 - root_mean_squared_error: 1.0634\n",
      "Epoch 9/50\n",
      "107/107 [==============================] - 0s 4ms/step - loss: 1.0440 - root_mean_squared_error: 1.0218\n",
      "Epoch 10/50\n",
      "107/107 [==============================] - 0s 4ms/step - loss: 0.9467 - root_mean_squared_error: 0.9730\n",
      "Epoch 11/50\n",
      "107/107 [==============================] - 0s 4ms/step - loss: 0.8521 - root_mean_squared_error: 0.9231\n",
      "Epoch 12/50\n",
      "107/107 [==============================] - 0s 4ms/step - loss: 0.8052 - root_mean_squared_error: 0.8974\n",
      "Epoch 13/50\n",
      "107/107 [==============================] - 0s 4ms/step - loss: 0.7460 - root_mean_squared_error: 0.8637\n",
      "Epoch 14/50\n",
      "107/107 [==============================] - 0s 4ms/step - loss: 0.6661 - root_mean_squared_error: 0.8161\n",
      "Epoch 15/50\n",
      "107/107 [==============================] - 0s 4ms/step - loss: 0.6733 - root_mean_squared_error: 0.8206\n",
      "Epoch 16/50\n",
      "107/107 [==============================] - 0s 4ms/step - loss: 0.6266 - root_mean_squared_error: 0.7916\n",
      "Epoch 17/50\n",
      "107/107 [==============================] - 0s 4ms/step - loss: 0.6264 - root_mean_squared_error: 0.7914\n",
      "Epoch 18/50\n",
      "107/107 [==============================] - 0s 4ms/step - loss: 0.5180 - root_mean_squared_error: 0.7197\n",
      "Epoch 19/50\n",
      "107/107 [==============================] - 0s 4ms/step - loss: 0.5501 - root_mean_squared_error: 0.7417\n",
      "Epoch 20/50\n",
      "107/107 [==============================] - 0s 4ms/step - loss: 0.4844 - root_mean_squared_error: 0.6960\n",
      "Epoch 21/50\n",
      "107/107 [==============================] - 0s 4ms/step - loss: 0.5261 - root_mean_squared_error: 0.7253\n",
      "Epoch 22/50\n",
      "107/107 [==============================] - 0s 4ms/step - loss: 0.4986 - root_mean_squared_error: 0.7061\n",
      "Epoch 23/50\n",
      "107/107 [==============================] - 0s 4ms/step - loss: 0.4640 - root_mean_squared_error: 0.6812\n",
      "Epoch 24/50\n",
      "107/107 [==============================] - 0s 4ms/step - loss: 0.4666 - root_mean_squared_error: 0.6831\n",
      "Epoch 25/50\n",
      "107/107 [==============================] - 0s 4ms/step - loss: 0.4313 - root_mean_squared_error: 0.6567\n",
      "Epoch 26/50\n",
      "107/107 [==============================] - 0s 4ms/step - loss: 0.4152 - root_mean_squared_error: 0.6444\n",
      "Epoch 27/50\n",
      "107/107 [==============================] - 0s 4ms/step - loss: 0.4120 - root_mean_squared_error: 0.6419\n",
      "Epoch 28/50\n",
      "107/107 [==============================] - 0s 4ms/step - loss: 0.3901 - root_mean_squared_error: 0.6246\n",
      "Epoch 29/50\n",
      "107/107 [==============================] - 0s 4ms/step - loss: 0.4055 - root_mean_squared_error: 0.6368\n",
      "Epoch 30/50\n",
      "107/107 [==============================] - 0s 4ms/step - loss: 0.3730 - root_mean_squared_error: 0.6107\n",
      "Epoch 31/50\n",
      "107/107 [==============================] - 0s 4ms/step - loss: 0.3619 - root_mean_squared_error: 0.6016\n",
      "Epoch 32/50\n",
      "107/107 [==============================] - 0s 4ms/step - loss: 0.4133 - root_mean_squared_error: 0.6429\n",
      "Epoch 33/50\n",
      "107/107 [==============================] - 0s 4ms/step - loss: 0.3491 - root_mean_squared_error: 0.5909\n",
      "Epoch 34/50\n",
      "107/107 [==============================] - 0s 4ms/step - loss: 0.3291 - root_mean_squared_error: 0.5736\n",
      "Epoch 35/50\n",
      "107/107 [==============================] - 0s 4ms/step - loss: 0.3031 - root_mean_squared_error: 0.5505\n",
      "Epoch 36/50\n",
      "107/107 [==============================] - 0s 4ms/step - loss: 0.3198 - root_mean_squared_error: 0.5655\n",
      "Epoch 37/50\n",
      "107/107 [==============================] - 0s 4ms/step - loss: 0.3255 - root_mean_squared_error: 0.5705\n",
      "Epoch 38/50\n",
      "107/107 [==============================] - 0s 4ms/step - loss: 0.3090 - root_mean_squared_error: 0.5559\n",
      "Epoch 39/50\n",
      "107/107 [==============================] - 0s 4ms/step - loss: 0.2944 - root_mean_squared_error: 0.5426\n",
      "Epoch 40/50\n",
      "107/107 [==============================] - 0s 4ms/step - loss: 0.3193 - root_mean_squared_error: 0.5651\n",
      "Epoch 41/50\n",
      "107/107 [==============================] - 0s 4ms/step - loss: 0.3356 - root_mean_squared_error: 0.5793\n",
      "Epoch 42/50\n",
      "107/107 [==============================] - 0s 4ms/step - loss: 0.3411 - root_mean_squared_error: 0.5841\n",
      "Epoch 43/50\n",
      "107/107 [==============================] - 0s 4ms/step - loss: 0.3124 - root_mean_squared_error: 0.5589\n",
      "Epoch 44/50\n",
      "107/107 [==============================] - 0s 4ms/step - loss: 0.2779 - root_mean_squared_error: 0.5272\n",
      "Epoch 45/50\n",
      "107/107 [==============================] - 0s 4ms/step - loss: 0.3134 - root_mean_squared_error: 0.5599\n",
      "Epoch 46/50\n",
      "107/107 [==============================] - 0s 4ms/step - loss: 0.3143 - root_mean_squared_error: 0.5606\n",
      "Epoch 47/50\n",
      "107/107 [==============================] - 0s 4ms/step - loss: 0.2918 - root_mean_squared_error: 0.5402\n",
      "Epoch 48/50\n",
      "107/107 [==============================] - 0s 4ms/step - loss: 0.2930 - root_mean_squared_error: 0.5413\n",
      "Epoch 49/50\n",
      "107/107 [==============================] - 0s 4ms/step - loss: 0.3452 - root_mean_squared_error: 0.5875\n",
      "Epoch 50/50\n",
      "107/107 [==============================] - 0s 4ms/step - loss: 0.2758 - root_mean_squared_error: 0.5252\n",
      "Epoch 1/50\n",
      "107/107 [==============================] - 1s 4ms/step - loss: 2.3228 - root_mean_squared_error: 1.5241\n",
      "Epoch 2/50\n",
      "107/107 [==============================] - 0s 4ms/step - loss: 1.9340 - root_mean_squared_error: 1.3907\n",
      "Epoch 3/50\n",
      "107/107 [==============================] - 0s 4ms/step - loss: 1.7912 - root_mean_squared_error: 1.3384\n",
      "Epoch 4/50\n",
      "107/107 [==============================] - 0s 4ms/step - loss: 1.6625 - root_mean_squared_error: 1.2894\n",
      "Epoch 5/50\n",
      "107/107 [==============================] - 0s 4ms/step - loss: 1.5269 - root_mean_squared_error: 1.2357\n",
      "Epoch 6/50\n",
      "107/107 [==============================] - 0s 4ms/step - loss: 1.4512 - root_mean_squared_error: 1.2046\n",
      "Epoch 7/50\n",
      "107/107 [==============================] - 0s 4ms/step - loss: 1.3430 - root_mean_squared_error: 1.1589\n",
      "Epoch 8/50\n",
      "107/107 [==============================] - 0s 4ms/step - loss: 1.2629 - root_mean_squared_error: 1.1238\n",
      "Epoch 9/50\n",
      "107/107 [==============================] - 0s 4ms/step - loss: 1.1035 - root_mean_squared_error: 1.0505\n",
      "Epoch 10/50\n",
      "107/107 [==============================] - 0s 4ms/step - loss: 1.0842 - root_mean_squared_error: 1.0413\n",
      "Epoch 11/50\n",
      "107/107 [==============================] - 0s 4ms/step - loss: 0.9547 - root_mean_squared_error: 0.9771\n",
      "Epoch 12/50\n",
      "107/107 [==============================] - 0s 4ms/step - loss: 0.9267 - root_mean_squared_error: 0.9626\n",
      "Epoch 13/50\n",
      "107/107 [==============================] - 0s 4ms/step - loss: 0.8815 - root_mean_squared_error: 0.9389\n",
      "Epoch 14/50\n",
      "107/107 [==============================] - 0s 4ms/step - loss: 0.8741 - root_mean_squared_error: 0.9349\n",
      "Epoch 15/50\n",
      "107/107 [==============================] - 0s 4ms/step - loss: 0.7891 - root_mean_squared_error: 0.8883\n",
      "Epoch 16/50\n",
      "107/107 [==============================] - 0s 4ms/step - loss: 0.7402 - root_mean_squared_error: 0.8604\n",
      "Epoch 17/50\n",
      "107/107 [==============================] - 0s 4ms/step - loss: 0.7067 - root_mean_squared_error: 0.8407\n",
      "Epoch 18/50\n",
      "107/107 [==============================] - 0s 4ms/step - loss: 0.6992 - root_mean_squared_error: 0.8362\n",
      "Epoch 19/50\n",
      "107/107 [==============================] - 0s 4ms/step - loss: 0.6584 - root_mean_squared_error: 0.8114\n",
      "Epoch 20/50\n",
      "107/107 [==============================] - 0s 4ms/step - loss: 0.5805 - root_mean_squared_error: 0.7619\n",
      "Epoch 21/50\n",
      "107/107 [==============================] - 0s 4ms/step - loss: 0.5089 - root_mean_squared_error: 0.7134\n",
      "Epoch 22/50\n",
      "107/107 [==============================] - 0s 4ms/step - loss: 0.4854 - root_mean_squared_error: 0.6967\n",
      "Epoch 23/50\n",
      "107/107 [==============================] - 0s 4ms/step - loss: 0.5172 - root_mean_squared_error: 0.7192\n",
      "Epoch 24/50\n",
      "107/107 [==============================] - 0s 4ms/step - loss: 0.5113 - root_mean_squared_error: 0.7150\n",
      "Epoch 25/50\n",
      "107/107 [==============================] - 0s 4ms/step - loss: 0.5302 - root_mean_squared_error: 0.7281\n",
      "Epoch 26/50\n",
      "107/107 [==============================] - 0s 4ms/step - loss: 0.4757 - root_mean_squared_error: 0.6897\n",
      "Epoch 27/50\n",
      "107/107 [==============================] - 0s 4ms/step - loss: 0.4889 - root_mean_squared_error: 0.6992\n",
      "Epoch 28/50\n",
      "107/107 [==============================] - 0s 4ms/step - loss: 0.4419 - root_mean_squared_error: 0.6648\n",
      "Epoch 29/50\n",
      "107/107 [==============================] - 0s 4ms/step - loss: 0.4625 - root_mean_squared_error: 0.6800\n",
      "Epoch 30/50\n",
      "107/107 [==============================] - 0s 4ms/step - loss: 0.4186 - root_mean_squared_error: 0.6470\n",
      "Epoch 31/50\n",
      "107/107 [==============================] - 0s 4ms/step - loss: 0.3923 - root_mean_squared_error: 0.6263\n",
      "Epoch 32/50\n",
      "107/107 [==============================] - 0s 4ms/step - loss: 0.3835 - root_mean_squared_error: 0.6193\n",
      "Epoch 33/50\n",
      "107/107 [==============================] - 0s 4ms/step - loss: 0.3843 - root_mean_squared_error: 0.6199\n",
      "Epoch 34/50\n",
      "107/107 [==============================] - 0s 4ms/step - loss: 0.3766 - root_mean_squared_error: 0.6137\n",
      "Epoch 35/50\n",
      "107/107 [==============================] - 0s 4ms/step - loss: 0.4358 - root_mean_squared_error: 0.6602\n",
      "Epoch 36/50\n",
      "107/107 [==============================] - 0s 4ms/step - loss: 0.3751 - root_mean_squared_error: 0.6125\n",
      "Epoch 37/50\n",
      "107/107 [==============================] - 0s 4ms/step - loss: 0.3502 - root_mean_squared_error: 0.5918\n",
      "Epoch 38/50\n",
      "107/107 [==============================] - 0s 4ms/step - loss: 0.3480 - root_mean_squared_error: 0.5899\n",
      "Epoch 39/50\n",
      "107/107 [==============================] - 0s 4ms/step - loss: 0.3623 - root_mean_squared_error: 0.6019\n",
      "Epoch 40/50\n",
      "107/107 [==============================] - 0s 4ms/step - loss: 0.3680 - root_mean_squared_error: 0.6066\n",
      "Epoch 41/50\n",
      "107/107 [==============================] - 0s 4ms/step - loss: 0.4099 - root_mean_squared_error: 0.6402\n",
      "Epoch 42/50\n",
      "107/107 [==============================] - 0s 4ms/step - loss: 0.3545 - root_mean_squared_error: 0.5954\n",
      "Epoch 43/50\n",
      "107/107 [==============================] - 0s 4ms/step - loss: 0.3321 - root_mean_squared_error: 0.5763\n",
      "Epoch 44/50\n",
      "107/107 [==============================] - 0s 4ms/step - loss: 0.3821 - root_mean_squared_error: 0.6181\n",
      "Epoch 45/50\n",
      "107/107 [==============================] - 0s 4ms/step - loss: 0.3571 - root_mean_squared_error: 0.5976\n",
      "Epoch 46/50\n",
      "107/107 [==============================] - 0s 4ms/step - loss: 0.2953 - root_mean_squared_error: 0.5435\n",
      "Epoch 47/50\n",
      "107/107 [==============================] - 0s 4ms/step - loss: 0.2958 - root_mean_squared_error: 0.5439\n",
      "Epoch 48/50\n",
      "107/107 [==============================] - 0s 4ms/step - loss: 0.2915 - root_mean_squared_error: 0.5399\n",
      "Epoch 49/50\n",
      "107/107 [==============================] - 0s 4ms/step - loss: 0.3009 - root_mean_squared_error: 0.5485\n",
      "Epoch 50/50\n",
      "107/107 [==============================] - 0s 4ms/step - loss: 0.3104 - root_mean_squared_error: 0.5571\n",
      "Epoch 1/50\n",
      "108/108 [==============================] - 1s 4ms/step - loss: 2.0728 - root_mean_squared_error: 1.4397\n",
      "Epoch 2/50\n",
      "108/108 [==============================] - 0s 4ms/step - loss: 1.8499 - root_mean_squared_error: 1.3601\n",
      "Epoch 3/50\n",
      "108/108 [==============================] - 0s 4ms/step - loss: 1.6347 - root_mean_squared_error: 1.2785\n",
      "Epoch 4/50\n",
      "108/108 [==============================] - 0s 4ms/step - loss: 1.5391 - root_mean_squared_error: 1.2406\n",
      "Epoch 5/50\n",
      "108/108 [==============================] - 0s 4ms/step - loss: 1.4335 - root_mean_squared_error: 1.1973\n",
      "Epoch 6/50\n",
      "108/108 [==============================] - 0s 4ms/step - loss: 1.3682 - root_mean_squared_error: 1.1697\n",
      "Epoch 7/50\n",
      "108/108 [==============================] - 0s 4ms/step - loss: 1.3740 - root_mean_squared_error: 1.1722\n",
      "Epoch 8/50\n",
      "108/108 [==============================] - 0s 4ms/step - loss: 1.2720 - root_mean_squared_error: 1.1278\n",
      "Epoch 9/50\n",
      "108/108 [==============================] - 0s 4ms/step - loss: 1.1171 - root_mean_squared_error: 1.0569\n",
      "Epoch 10/50\n",
      "108/108 [==============================] - 0s 4ms/step - loss: 1.0689 - root_mean_squared_error: 1.0339\n",
      "Epoch 11/50\n",
      "108/108 [==============================] - 0s 4ms/step - loss: 0.9468 - root_mean_squared_error: 0.9730\n",
      "Epoch 12/50\n",
      "108/108 [==============================] - 0s 4ms/step - loss: 0.8978 - root_mean_squared_error: 0.9475\n",
      "Epoch 13/50\n",
      "108/108 [==============================] - 0s 4ms/step - loss: 0.9908 - root_mean_squared_error: 0.9954\n",
      "Epoch 14/50\n",
      "108/108 [==============================] - 0s 4ms/step - loss: 0.7876 - root_mean_squared_error: 0.8875\n",
      "Epoch 15/50\n",
      "108/108 [==============================] - 0s 4ms/step - loss: 0.7389 - root_mean_squared_error: 0.8596\n",
      "Epoch 16/50\n",
      "108/108 [==============================] - 0s 4ms/step - loss: 0.7225 - root_mean_squared_error: 0.8500\n",
      "Epoch 17/50\n",
      "108/108 [==============================] - 0s 4ms/step - loss: 0.6629 - root_mean_squared_error: 0.8142\n",
      "Epoch 18/50\n",
      "108/108 [==============================] - 0s 4ms/step - loss: 0.6585 - root_mean_squared_error: 0.8115\n",
      "Epoch 19/50\n",
      "108/108 [==============================] - 0s 4ms/step - loss: 0.6374 - root_mean_squared_error: 0.7984\n",
      "Epoch 20/50\n",
      "108/108 [==============================] - 0s 4ms/step - loss: 0.6126 - root_mean_squared_error: 0.7827\n",
      "Epoch 21/50\n",
      "108/108 [==============================] - 0s 4ms/step - loss: 0.5483 - root_mean_squared_error: 0.7405\n",
      "Epoch 22/50\n",
      "108/108 [==============================] - 0s 4ms/step - loss: 0.5097 - root_mean_squared_error: 0.7140\n",
      "Epoch 23/50\n",
      "108/108 [==============================] - 0s 4ms/step - loss: 0.5113 - root_mean_squared_error: 0.7150\n",
      "Epoch 24/50\n",
      "108/108 [==============================] - 0s 4ms/step - loss: 0.5349 - root_mean_squared_error: 0.7314\n",
      "Epoch 25/50\n",
      "108/108 [==============================] - 0s 4ms/step - loss: 0.4749 - root_mean_squared_error: 0.6892\n",
      "Epoch 26/50\n",
      "108/108 [==============================] - 0s 4ms/step - loss: 0.4567 - root_mean_squared_error: 0.6758\n",
      "Epoch 27/50\n",
      "108/108 [==============================] - 0s 4ms/step - loss: 0.4052 - root_mean_squared_error: 0.6365\n",
      "Epoch 28/50\n",
      "108/108 [==============================] - 0s 4ms/step - loss: 0.4133 - root_mean_squared_error: 0.6429\n",
      "Epoch 29/50\n",
      "108/108 [==============================] - 0s 4ms/step - loss: 0.4138 - root_mean_squared_error: 0.6433\n",
      "Epoch 30/50\n",
      "108/108 [==============================] - 0s 4ms/step - loss: 0.4867 - root_mean_squared_error: 0.6976\n",
      "Epoch 31/50\n",
      "108/108 [==============================] - 0s 4ms/step - loss: 0.4046 - root_mean_squared_error: 0.6361\n",
      "Epoch 32/50\n",
      "108/108 [==============================] - 0s 4ms/step - loss: 0.4486 - root_mean_squared_error: 0.6698\n",
      "Epoch 33/50\n",
      "108/108 [==============================] - 0s 4ms/step - loss: 0.4648 - root_mean_squared_error: 0.6818\n",
      "Epoch 34/50\n",
      "108/108 [==============================] - 0s 4ms/step - loss: 0.4482 - root_mean_squared_error: 0.6695\n",
      "Epoch 35/50\n",
      "108/108 [==============================] - 0s 4ms/step - loss: 0.3698 - root_mean_squared_error: 0.6081\n",
      "Epoch 36/50\n",
      "108/108 [==============================] - 0s 4ms/step - loss: 0.4035 - root_mean_squared_error: 0.6352\n",
      "Epoch 37/50\n",
      "108/108 [==============================] - 0s 4ms/step - loss: 0.3511 - root_mean_squared_error: 0.5925\n",
      "Epoch 38/50\n",
      "108/108 [==============================] - 0s 4ms/step - loss: 0.3943 - root_mean_squared_error: 0.6280\n",
      "Epoch 39/50\n",
      "108/108 [==============================] - 0s 4ms/step - loss: 0.4083 - root_mean_squared_error: 0.6390\n",
      "Epoch 40/50\n",
      "108/108 [==============================] - 0s 4ms/step - loss: 0.3755 - root_mean_squared_error: 0.6128\n",
      "Epoch 41/50\n",
      "108/108 [==============================] - 0s 4ms/step - loss: 0.3621 - root_mean_squared_error: 0.6018\n",
      "Epoch 42/50\n",
      "108/108 [==============================] - 0s 4ms/step - loss: 0.3852 - root_mean_squared_error: 0.6207\n",
      "Epoch 43/50\n",
      "108/108 [==============================] - 0s 4ms/step - loss: 0.3513 - root_mean_squared_error: 0.5927\n",
      "Epoch 44/50\n",
      "108/108 [==============================] - 0s 4ms/step - loss: 0.3528 - root_mean_squared_error: 0.5939\n",
      "Epoch 45/50\n",
      "108/108 [==============================] - 0s 4ms/step - loss: 0.3525 - root_mean_squared_error: 0.5937\n",
      "Epoch 46/50\n",
      "108/108 [==============================] - 0s 4ms/step - loss: 0.3464 - root_mean_squared_error: 0.5885\n",
      "Epoch 47/50\n",
      "108/108 [==============================] - 0s 4ms/step - loss: 0.3376 - root_mean_squared_error: 0.5811\n",
      "Epoch 48/50\n",
      "108/108 [==============================] - 0s 4ms/step - loss: 0.3085 - root_mean_squared_error: 0.5555\n",
      "Epoch 49/50\n",
      "108/108 [==============================] - 0s 4ms/step - loss: 0.2797 - root_mean_squared_error: 0.5288\n",
      "Epoch 50/50\n",
      "108/108 [==============================] - 0s 4ms/step - loss: 0.2770 - root_mean_squared_error: 0.5263\n",
      "Epoch 1/50\n",
      "108/108 [==============================] - 1s 4ms/step - loss: 2.4393 - root_mean_squared_error: 1.5618\n",
      "Epoch 2/50\n",
      "108/108 [==============================] - 0s 4ms/step - loss: 2.0652 - root_mean_squared_error: 1.4371\n",
      "Epoch 3/50\n",
      "108/108 [==============================] - 0s 4ms/step - loss: 1.9713 - root_mean_squared_error: 1.4040\n",
      "Epoch 4/50\n",
      "108/108 [==============================] - 0s 4ms/step - loss: 1.7776 - root_mean_squared_error: 1.3333\n",
      "Epoch 5/50\n",
      "108/108 [==============================] - 0s 4ms/step - loss: 1.7213 - root_mean_squared_error: 1.3120\n",
      "Epoch 6/50\n",
      "108/108 [==============================] - 0s 4ms/step - loss: 1.6525 - root_mean_squared_error: 1.2855\n",
      "Epoch 7/50\n",
      "108/108 [==============================] - 0s 4ms/step - loss: 1.5781 - root_mean_squared_error: 1.2562\n",
      "Epoch 8/50\n",
      "108/108 [==============================] - 0s 4ms/step - loss: 1.4490 - root_mean_squared_error: 1.2037\n",
      "Epoch 9/50\n",
      "108/108 [==============================] - 0s 4ms/step - loss: 1.3479 - root_mean_squared_error: 1.1610\n",
      "Epoch 10/50\n",
      "108/108 [==============================] - 0s 4ms/step - loss: 1.2169 - root_mean_squared_error: 1.1031\n",
      "Epoch 11/50\n",
      "108/108 [==============================] - 0s 4ms/step - loss: 1.2458 - root_mean_squared_error: 1.1161\n",
      "Epoch 12/50\n",
      "108/108 [==============================] - 0s 4ms/step - loss: 1.1893 - root_mean_squared_error: 1.0906\n",
      "Epoch 13/50\n",
      "108/108 [==============================] - 0s 4ms/step - loss: 1.0356 - root_mean_squared_error: 1.0177\n",
      "Epoch 14/50\n",
      "108/108 [==============================] - 0s 4ms/step - loss: 0.9171 - root_mean_squared_error: 0.9577\n",
      "Epoch 15/50\n",
      "108/108 [==============================] - 0s 4ms/step - loss: 0.8959 - root_mean_squared_error: 0.9465\n",
      "Epoch 16/50\n",
      "108/108 [==============================] - 0s 4ms/step - loss: 0.8487 - root_mean_squared_error: 0.9213\n",
      "Epoch 17/50\n",
      "108/108 [==============================] - 0s 4ms/step - loss: 0.8671 - root_mean_squared_error: 0.9312\n",
      "Epoch 18/50\n",
      "108/108 [==============================] - 0s 4ms/step - loss: 0.7269 - root_mean_squared_error: 0.8526\n",
      "Epoch 19/50\n",
      "108/108 [==============================] - 0s 4ms/step - loss: 0.8502 - root_mean_squared_error: 0.9221\n",
      "Epoch 20/50\n",
      "108/108 [==============================] - 0s 4ms/step - loss: 0.7454 - root_mean_squared_error: 0.8634\n",
      "Epoch 21/50\n",
      "108/108 [==============================] - 0s 4ms/step - loss: 0.7097 - root_mean_squared_error: 0.8424\n",
      "Epoch 22/50\n",
      "108/108 [==============================] - 0s 4ms/step - loss: 0.7246 - root_mean_squared_error: 0.8512\n",
      "Epoch 23/50\n",
      "108/108 [==============================] - 0s 4ms/step - loss: 0.6445 - root_mean_squared_error: 0.8028\n",
      "Epoch 24/50\n",
      "108/108 [==============================] - 0s 4ms/step - loss: 0.6137 - root_mean_squared_error: 0.7834\n",
      "Epoch 25/50\n",
      "108/108 [==============================] - 0s 4ms/step - loss: 0.5605 - root_mean_squared_error: 0.7486\n",
      "Epoch 26/50\n",
      "108/108 [==============================] - 0s 4ms/step - loss: 0.5627 - root_mean_squared_error: 0.7501\n",
      "Epoch 27/50\n",
      "108/108 [==============================] - 0s 4ms/step - loss: 0.4965 - root_mean_squared_error: 0.7046\n",
      "Epoch 28/50\n",
      "108/108 [==============================] - 0s 4ms/step - loss: 0.5536 - root_mean_squared_error: 0.7440\n",
      "Epoch 29/50\n",
      "108/108 [==============================] - 0s 4ms/step - loss: 0.4615 - root_mean_squared_error: 0.6793\n",
      "Epoch 30/50\n",
      "108/108 [==============================] - 0s 4ms/step - loss: 0.4990 - root_mean_squared_error: 0.7064\n",
      "Epoch 31/50\n",
      "108/108 [==============================] - 0s 4ms/step - loss: 0.4970 - root_mean_squared_error: 0.7050\n",
      "Epoch 32/50\n",
      "108/108 [==============================] - 0s 4ms/step - loss: 0.4333 - root_mean_squared_error: 0.6583\n",
      "Epoch 33/50\n",
      "108/108 [==============================] - 0s 4ms/step - loss: 0.4021 - root_mean_squared_error: 0.6341\n",
      "Epoch 34/50\n",
      "108/108 [==============================] - 0s 4ms/step - loss: 0.4389 - root_mean_squared_error: 0.6625\n",
      "Epoch 35/50\n",
      "108/108 [==============================] - 0s 4ms/step - loss: 0.3976 - root_mean_squared_error: 0.6306\n",
      "Epoch 36/50\n",
      "108/108 [==============================] - 0s 4ms/step - loss: 0.4261 - root_mean_squared_error: 0.6528\n",
      "Epoch 37/50\n",
      "108/108 [==============================] - 0s 4ms/step - loss: 0.4256 - root_mean_squared_error: 0.6524\n",
      "Epoch 38/50\n",
      "108/108 [==============================] - 0s 4ms/step - loss: 0.4527 - root_mean_squared_error: 0.6728\n",
      "Epoch 39/50\n",
      "108/108 [==============================] - 0s 4ms/step - loss: 0.4996 - root_mean_squared_error: 0.7068\n",
      "Epoch 40/50\n",
      "108/108 [==============================] - 0s 4ms/step - loss: 0.4506 - root_mean_squared_error: 0.6713\n",
      "Epoch 41/50\n",
      "108/108 [==============================] - 0s 4ms/step - loss: 0.4128 - root_mean_squared_error: 0.6425\n",
      "Epoch 42/50\n",
      "108/108 [==============================] - 0s 4ms/step - loss: 0.4037 - root_mean_squared_error: 0.6354\n",
      "Epoch 43/50\n",
      "108/108 [==============================] - 0s 4ms/step - loss: 0.3767 - root_mean_squared_error: 0.6137\n",
      "Epoch 44/50\n",
      "108/108 [==============================] - 0s 4ms/step - loss: 0.3635 - root_mean_squared_error: 0.6029\n",
      "Epoch 45/50\n",
      "108/108 [==============================] - 0s 4ms/step - loss: 0.3671 - root_mean_squared_error: 0.6059\n",
      "Epoch 46/50\n",
      "108/108 [==============================] - 0s 4ms/step - loss: 0.3504 - root_mean_squared_error: 0.5920\n",
      "Epoch 47/50\n",
      "108/108 [==============================] - 0s 4ms/step - loss: 0.4015 - root_mean_squared_error: 0.6337\n",
      "Epoch 48/50\n",
      "108/108 [==============================] - 0s 4ms/step - loss: 0.3472 - root_mean_squared_error: 0.5893\n",
      "Epoch 49/50\n",
      "108/108 [==============================] - 0s 4ms/step - loss: 0.3594 - root_mean_squared_error: 0.5995\n",
      "Epoch 50/50\n",
      "108/108 [==============================] - 0s 4ms/step - loss: 0.3288 - root_mean_squared_error: 0.5734\n",
      "Result: single observation, normal NN\n",
      "RMSE with NN: 1.648\n",
      "RMSE with LR: 1.535\n"
     ]
    }
   ],
   "source": [
    "# now fix the epoch, remove early stopping, and run cross_val_predict\n",
    "yhat_nn = cross_val_predict_for_nn(# implemented in util.py\n",
    "    model_func=define_model,\n",
    "    model_params={\"input_dim\": len(columns), \"lr\": 0.005},\n",
    "    #model=define_model(input_dim=len(columns), lr=0.005),\n",
    "    X=X, Y=Y,\n",
    "    callback=None,\n",
    "    batch_size=64,\n",
    "    epochs=50,#int(estimated_epochs),\n",
    "    early_stopping=False,\n",
    "    verbose=True,\n",
    "    add_noise=True\n",
    ")\n",
    "rmse_nn = mean_squared_error(Y, yhat_nn, squared=False)\n",
    "linear_regression = LinearRegression()\n",
    "yhat_lr = cross_val_predict(linear_regression, X, Y, n_jobs=-1)\n",
    "rmse_lr = mean_squared_error(Y, yhat_lr, squared=False)\n",
    "\n",
    "print(\"Result: single observation, normal NN\")\n",
    "print(\"RMSE with NN: {:.3f}\".format(rmse_nn))\n",
    "print(\"RMSE with LR: {:.3f}\".format(rmse_lr))\n"
   ]
  },
  {
   "cell_type": "markdown",
   "metadata": {},
   "source": [
    "<hr>"
   ]
  },
  {
   "cell_type": "markdown",
   "metadata": {},
   "source": [
    "## Heteroskedastick regression"
   ]
  },
  {
   "cell_type": "code",
   "execution_count": 7,
   "metadata": {},
   "outputs": [
    {
     "name": "stdout",
     "output_type": "stream",
     "text": [
      "Station with skn: 396.0 was chosen out of all stations with more than 750 historical (non-filled) rainfall observations.\n",
      "There are 778 rainfall observations from this station.\n"
     ]
    }
   ],
   "source": [
    "columns = C_SINGLE\n",
    "# load nonfilled dataset\n",
    "df_nonfilled = pd.read_csv(f\"{BASE_DIR}/nonfilled_dataset.csv\", usecols=C_SINGLE + C_COMMON)\n",
    "# sample a station: returned object is sorted.\n",
    "df_station = sample_station(df=df_nonfilled, threshold=750, seed=42)"
   ]
  },
  {
   "cell_type": "code",
   "execution_count": 8,
   "metadata": {},
   "outputs": [
    {
     "name": "stderr",
     "output_type": "stream",
     "text": [
      "2022-05-30 23:40:49.152849: W tensorflow/python/util/util.cc:368] Sets are not currently considered sequences, but this may change in the future, so consider avoiding using them.\n"
     ]
    },
    {
     "name": "stdout",
     "output_type": "stream",
     "text": [
      "mean number of epochs: 69.0\n",
      "Std: 5.639\n"
     ]
    }
   ],
   "source": [
    "model_params = dict(\n",
    "    input_dim=20, lr=0.005,\n",
    "    n_additional_layers_main=1,\n",
    "    n_additional_layers_sub=1,\n",
    "    activation='selu',\n",
    "    n_units_main=512,\n",
    "    n_units_sub=10,\n",
    "    dropout=0.5\n",
    ")\n",
    "batch_size = 64\n",
    "##########################\n",
    "\n",
    "X = np.array(df_station[columns])\n",
    "Y = np.array(df_station['data_in'])\n",
    "\n",
    "estimated_epochs = estimate_epochs(\n",
    "    X=X, Y=Y,\n",
    "    model_func=define_hetero_model_normal,\n",
    "    model_params=dict(input_dim=len(columns), lr=0.0005),\n",
    "    n_iter=10,\n",
    "    batch_size=batch_size\n",
    ")"
   ]
  },
  {
   "cell_type": "code",
   "execution_count": 9,
   "metadata": {},
   "outputs": [
    {
     "name": "stdout",
     "output_type": "stream",
     "text": [
      "RMSE with NN: 1.470\n"
     ]
    }
   ],
   "source": [
    "# now fix the epoch, remove early stopping, and run cross_val_predict\n",
    "epochs = int(estimated_epochs)\n",
    "n_ensamble = 1\n",
    "y_preds = []\n",
    "for _ in range(n_ensamble):\n",
    "    yhat_nn = cross_val_predict_for_nn(\n",
    "        model_func=define_hetero_model_normal,\n",
    "        model_params={\"input_dim\": len(columns), \"lr\": 0.0005},\n",
    "        X=X, Y=Y,\n",
    "        callback=None,\n",
    "        batch_size=batch_size,\n",
    "        epochs=epochs,\n",
    "        early_stopping=False,\n",
    "        verbose=False\n",
    "    )\n",
    "    y_preds.append(yhat_nn)\n",
    "    print(f\"{_+1}/{n_ensamble}\", end='\\r')\n",
    "mean_pred = np.mean(y_preds, axis=0)\n",
    "rmse_nn = mean_squared_error(Y, mean_pred, squared=False)\n",
    "print(\"RMSE with NN: {:.3f}\".format(rmse_nn))"
   ]
  },
  {
   "cell_type": "code",
   "execution_count": 63,
   "metadata": {},
   "outputs": [
    {
     "name": "stdout",
     "output_type": "stream",
     "text": [
      "RMSE with LR: 1.535\n"
     ]
    }
   ],
   "source": [
    "linear_regression = LinearRegression()\n",
    "yhat_lr = cross_val_predict(linear_regression, X, Y, n_jobs=-1)\n",
    "rmse_lr = mean_squared_error(Y, yhat_lr, squared=False)\n",
    "print(\"RMSE with LR: {:.3f}\".format(rmse_lr))"
   ]
  },
  {
   "cell_type": "code",
   "execution_count": 64,
   "metadata": {},
   "outputs": [
    {
     "data": {
      "text/plain": [
       "<matplotlib.legend.Legend at 0x2ae909667310>"
      ]
     },
     "execution_count": 64,
     "metadata": {},
     "output_type": "execute_result"
    },
    {
     "data": {
      "image/png": "[encoded data removed]",
      "text/plain": [
       "<Figure size 432x288 with 1 Axes>"
      ]
     },
     "metadata": {
      "needs_background": "light"
     },
     "output_type": "display_data"
    }
   ],
   "source": [
    "fig, ax = plt.subplots(1)\n",
    "ax.scatter(Y, yhat_lr, s=3, color='b', label='linear')\n",
    "ax.scatter(Y, mean_pred, s=3, color='r', label='NN')\n",
    "ax.set_facecolor('lightgray')\n",
    "ax.plot([0, 20], [0, 20])\n",
    "ax.set_aspect('equal')\n",
    "ax.legend()"
   ]
  },
  {
   "cell_type": "markdown",
   "metadata": {},
   "source": [
    "<hr>\n",
    "\n",
    "# is normal distribution appropriate for heteroskedastic regression?\n"
   ]
  },
  {
   "cell_type": "code",
   "execution_count": 89,
   "metadata": {},
   "outputs": [
    {
     "data": {
      "image/png": "[encoded data removed]",
      "text/plain": [
       "<Figure size 1440x720 with 17 Axes>"
      ]
     },
     "metadata": {
      "needs_background": "light"
     },
     "output_type": "display_data"
    }
   ],
   "source": [
    "fig = plt.figure(figsize=(20,10), )\n",
    "fig.tight_layout()\n",
    "\n",
    "ax = fig.add_subplot(1,2,1)\n",
    "ax.scatter(df_station['month'], df_station['data_in'], s=2)\n",
    "ax.set_aspect('equal')\n",
    "\n",
    "for i in range(16):\n",
    "    idx = (2 * int(i/4) + 1) * 4 + (i%4) + 1\n",
    "    ax = fig.add_subplot(4, 8, idx)\n",
    "    ax.scatter(df_station['month'], df_station[columns[i]], s=1)\n",
    "    ax.set_xticklabels([])\n",
    "    ax.set_yticks([])\n",
    "    ax.set_xlabel(columns[i])"
   ]
  },
  {
   "cell_type": "markdown",
   "metadata": {},
   "source": [
    "### approximating the distribution as normal distribution does not seem feasible, as more data points are around zero.\n",
    "### switch to gamma distribution (justtify with MLE) and possibly provide month information"
   ]
  },
  {
   "cell_type": "code",
   "execution_count": 237,
   "metadata": {},
   "outputs": [
    {
     "name": "stdout",
     "output_type": "stream",
     "text": [
      "the best set of params: (0.6315789473684212, -0.10526315789473695, 2.6842105263157894)\n"
     ]
    }
   ],
   "source": [
    "L_min = 1000000\n",
    "min_tuple = 0\n",
    "# estimate parameters by iterating over\n",
    "for a in np.linspace(-4, 4, 20):\n",
    "    print(f\"{a}\", end='\\r')\n",
    "    for loc in np.linspace(-2, 2, 20):\n",
    "        for scale in np.linspace(-3, 3, 20):\n",
    "            nll = - gamma(a=a, loc=loc, scale=scale).logpdf(df_station['data_in']).sum()\n",
    "            if nll < L_min:\n",
    "                min_tuple = (a, loc, scale)\n",
    "                L_min = nll\n",
    "print(f\"the best set of params: {min_tuple}\")"
   ]
  },
  {
   "cell_type": "code",
   "execution_count": 249,
   "metadata": {},
   "outputs": [
    {
     "name": "stdout",
     "output_type": "stream",
     "text": [
      "\n"
     ]
    },
    {
     "data": {
      "image/png": "[encoded data removed]",
      "text/plain": [
       "<Figure size 2400x1200 with 2 Axes>"
      ]
     },
     "metadata": {
      "needs_background": "light"
     },
     "output_type": "display_data"
    }
   ],
   "source": [
    "fig, axs = plt.subplots(2, dpi=120, figsize=(20,10))\n",
    "plt.tight_layout()\n",
    "\n",
    "xmin, xmax = (-1, 12)\n",
    "ymin, ymax = (0, 2.1)\n",
    "x_ = np.linspace(xmin, xmax, 10000)\n",
    "\n",
    "# axs[0]\n",
    "y_ = gamma(*min_tuple).pdf(x_)\n",
    "df_station['data_in'].hist(ax=axs[0], bins=100, density=True, color=\"#1f77b4\")\n",
    "df_station['data_in'].hist(ax=axs[1], bins=100, density=True)\n",
    "\n",
    "axs[0].scatter(x_, y_, s=0.1, c='r')\n",
    "axs[0].scatter(x_, beta(a=2, b=90).pdf(x_), color='orange')\n",
    "axs[0].set_ylim((None, 2.1))\n",
    "axs[0].set_title(\"NLL: {:.0f}\".format(L_min))\n",
    "\n",
    "# axs[1]\n",
    "y_ = norm(loc=np.mean(df_station['data_in']), scale=np.std(df_station['data_in'])).pdf(x_)\n",
    "axs[1].scatter(x_, y_, s=0.1, c='r')\n",
    "axs[1].set_ylim((None, 2.1))\n",
    "nll = - norm(loc=np.mean(df_station['data_in']), scale=np.std(df_station['data_in'])).logpdf(df_station['data_in']).sum()\n",
    "axs[1].set_title(\"NLL: {:.0f}\".format(nll))\n",
    "print()"
   ]
  },
  {
   "cell_type": "code",
   "execution_count": 17,
   "metadata": {},
   "outputs": [
    {
     "name": "stdout",
     "output_type": "stream",
     "text": [
      "Station with skn: 396.0 was chosen out of all stations with more than 750 historical (non-filled) rainfall observations.\n",
      "There are 778 rainfall observations from this station.\n"
     ]
    }
   ],
   "source": [
    "columns = C_SINGLE\n",
    "# load nonfilled dataset\n",
    "df_nonfilled = pd.read_csv(f\"{BASE_DIR}/nonfilled_dataset.csv\", usecols=C_SINGLE + C_COMMON)\n",
    "# sample a station: returned object is sorted.\n",
    "df_station = sample_station(df=df_nonfilled, threshold=750, seed=42)"
   ]
  },
  {
   "cell_type": "code",
   "execution_count": 22,
   "metadata": {},
   "outputs": [
    {
     "name": "stdout",
     "output_type": "stream",
     "text": [
      "mean number of epochs: 12.3\n",
      "Std: 1.100\n"
     ]
    }
   ],
   "source": [
    "X = np.array(df_station[columns])\n",
    "Y = np.array(df_station['data_in'])\n",
    "\n",
    "model_params = dict(\n",
    "    input_dim=len(columns), lr=0.001,\n",
    "    n_additional_layers_main=2,\n",
    "    n_additional_layers_sub=0,\n",
    "    activation='elu',\n",
    "    n_units_main=512,\n",
    "    n_units_sub=256,\n",
    "    dropout=0.5,\n",
    ")\n",
    "batch_size = 64\n",
    "\n",
    "# ############################################# \n",
    "# model_params = {\n",
    "#     \"input_dim\"         : len(columns),\n",
    "#     \"activation\"        : 'relu',\n",
    "#     \"dropout\"           : 0.7006435973994982,\n",
    "#     \"lr\"                : 0.0007538441168978,\n",
    "#     \"n_additional_layers_main\": 0,\n",
    "#     \"n_additional_layers_sub\": 0,\n",
    "#     \"n_units_main\"      : 399,\n",
    "#     \"n_units_sub\"       : 400\n",
    "# }\n",
    "# batch_size = 60\n",
    "# #############################################\n",
    "\n",
    "estimated_epochs = estimate_epochs(\n",
    "    X=X, Y=Y,\n",
    "    model_func=define_hetero_model_gamma,\n",
    "    model_params=model_params,\n",
    "    n_iter=10,\n",
    "    batch_size=batch_size\n",
    ")"
   ]
  },
  {
   "cell_type": "code",
   "execution_count": 24,
   "metadata": {},
   "outputs": [
    {
     "name": "stdout",
     "output_type": "stream",
     "text": [
      "RMSE with NN: 1.450\n"
     ]
    }
   ],
   "source": [
    "# now fix the epoch, remove early stopping, and run cross_val_predict\n",
    "epochs = int(estimated_epochs)\n",
    "n_ensamble = 10\n",
    "y_preds = []\n",
    "for _ in range(n_ensamble):\n",
    "    yhat_nn = cross_val_predict_for_nn(# implemented in util.py\n",
    "        model_func=define_hetero_model_gamma,\n",
    "        model_params=model_params,\n",
    "        X=X, Y=Y,\n",
    "        callback=None,\n",
    "        batch_size=batch_size,\n",
    "        epochs=epochs,\n",
    "        early_stopping=False,\n",
    "        verbose=False\n",
    "    )\n",
    "    y_preds.append(yhat_nn)\n",
    "    print(f\"{_+1}/{n_ensamble}\", end='\\r')\n",
    "mean_pred = np.mean(y_preds, axis=0)\n",
    "rmse_nn = mean_squared_error(Y, mean_pred, squared=False)\n",
    "print(\"RMSE with NN: {:.3f}\".format(rmse_nn))"
   ]
  },
  {
   "cell_type": "code",
   "execution_count": 6,
   "metadata": {},
   "outputs": [
    {
     "name": "stdout",
     "output_type": "stream",
     "text": [
      "RMSE with LR: 1.535\n"
     ]
    }
   ],
   "source": [
    "linear_regression = LinearRegression()\n",
    "yhat_lr = cross_val_predict(linear_regression, X, Y, n_jobs=-1)\n",
    "rmse_lr = mean_squared_error(Y, yhat_lr, squared=False)\n",
    "print(\"RMSE with LR: {:.3f}\".format(rmse_lr))"
   ]
  },
  {
   "cell_type": "code",
   "execution_count": 7,
   "metadata": {},
   "outputs": [
    {
     "data": {
      "text/plain": [
       "<matplotlib.legend.Legend at 0x2b425e9a3ca0>"
      ]
     },
     "execution_count": 7,
     "metadata": {},
     "output_type": "execute_result"
    },
    {
     "data": {
      "image/png": "[encoded data removed]",
      "text/plain": [
       "<Figure size 432x288 with 1 Axes>"
      ]
     },
     "metadata": {
      "needs_background": "light"
     },
     "output_type": "display_data"
    }
   ],
   "source": [
    "fig, ax = plt.subplots(1)\n",
    "ax.scatter(Y, yhat_lr, s=3, color='b', label='linear')\n",
    "ax.scatter(Y, mean_pred, s=3, color='r', label='NN')\n",
    "ax.set_facecolor('lightgray')\n",
    "ax.plot([0, 20], [0, 20])\n",
    "ax.set_aspect('equal')\n",
    "ax.legend()"
   ]
  },
  {
   "cell_type": "markdown",
   "metadata": {},
   "source": [
    "# get result on all of the stations"
   ]
  },
  {
   "cell_type": "code",
   "execution_count": 4,
   "metadata": {},
   "outputs": [
    {
     "data": {
      "text/plain": [
       "'/home/yusukemh/github/yusukemh/StatisticalDownscaling/dataset'"
      ]
     },
     "execution_count": 4,
     "metadata": {},
     "output_type": "execute_result"
    }
   ],
   "source": [
    "BASE_DIR"
   ]
  },
  {
   "cell_type": "code",
   "execution_count": 17,
   "metadata": {},
   "outputs": [],
   "source": [
    "# HT conducted by the code in \"/DL/*_ht.py\"\n",
    "# df_regular = pd.read_csv('stats_regular.csv')\n",
    "# df_normal = pd.read_csv('stats_normal.csv')\n",
    "# df_gamma = pd.read_csv('stats_gamma.csv')\n",
    "df_regular = pd.read_csv('/home/yusukemh/github/yusukemh/StatisticalDownscaling/codes/slurm/run_scripts/DL/all_stations/stats_regular.csv')\n",
    "df_normal = pd.read_csv('/home/yusukemh/github/yusukemh/StatisticalDownscaling/codes/slurm/run_scripts/DL/all_stations/stats_normal.csv')\n",
    "df_gamma = pd.read_csv('/home/yusukemh/github/yusukemh/StatisticalDownscaling/codes/slurm/run_scripts/DL/all_stations/stats_gamma.csv')"
   ]
  },
  {
   "cell_type": "code",
   "execution_count": 28,
   "metadata": {},
   "outputs": [
    {
     "data": {
      "text/html": [
       "<div>\n",
       "<style scoped>\n",
       "    .dataframe tbody tr th:only-of-type {\n",
       "        vertical-align: middle;\n",
       "    }\n",
       "\n",
       "    .dataframe tbody tr th {\n",
       "        vertical-align: top;\n",
       "    }\n",
       "\n",
       "    .dataframe thead th {\n",
       "        text-align: right;\n",
       "    }\n",
       "</style>\n",
       "<table border=\"1\" class=\"dataframe\">\n",
       "  <thead>\n",
       "    <tr style=\"text-align: right;\">\n",
       "      <th></th>\n",
       "      <th>n_samples</th>\n",
       "      <th>estimated_epochs</th>\n",
       "      <th>rmse_LR</th>\n",
       "      <th>rmse_NN_mean</th>\n",
       "      <th>rmse_NN_std</th>\n",
       "      <th>rel_imp</th>\n",
       "    </tr>\n",
       "  </thead>\n",
       "  <tbody>\n",
       "    <tr>\n",
       "      <th>0</th>\n",
       "      <td>778</td>\n",
       "      <td>31.766667</td>\n",
       "      <td>5.076583</td>\n",
       "      <td>5.525234</td>\n",
       "      <td>0.202384</td>\n",
       "      <td>-0.088377</td>\n",
       "    </tr>\n",
       "    <tr>\n",
       "      <th>1</th>\n",
       "      <td>758</td>\n",
       "      <td>33.466667</td>\n",
       "      <td>5.852060</td>\n",
       "      <td>6.867851</td>\n",
       "      <td>0.419592</td>\n",
       "      <td>-0.173578</td>\n",
       "    </tr>\n",
       "    <tr>\n",
       "      <th>2</th>\n",
       "      <td>768</td>\n",
       "      <td>35.900000</td>\n",
       "      <td>5.277450</td>\n",
       "      <td>5.165095</td>\n",
       "      <td>0.044738</td>\n",
       "      <td>0.021290</td>\n",
       "    </tr>\n",
       "    <tr>\n",
       "      <th>3</th>\n",
       "      <td>775</td>\n",
       "      <td>14.366667</td>\n",
       "      <td>2.053487</td>\n",
       "      <td>2.023008</td>\n",
       "      <td>0.027107</td>\n",
       "      <td>0.014843</td>\n",
       "    </tr>\n",
       "    <tr>\n",
       "      <th>4</th>\n",
       "      <td>772</td>\n",
       "      <td>17.733333</td>\n",
       "      <td>2.231261</td>\n",
       "      <td>2.179150</td>\n",
       "      <td>0.022976</td>\n",
       "      <td>0.023355</td>\n",
       "    </tr>\n",
       "    <tr>\n",
       "      <th>5</th>\n",
       "      <td>763</td>\n",
       "      <td>11.366667</td>\n",
       "      <td>1.511657</td>\n",
       "      <td>1.547454</td>\n",
       "      <td>0.032806</td>\n",
       "      <td>-0.023681</td>\n",
       "    </tr>\n",
       "    <tr>\n",
       "      <th>6</th>\n",
       "      <td>778</td>\n",
       "      <td>19.666667</td>\n",
       "      <td>1.361709</td>\n",
       "      <td>1.322940</td>\n",
       "      <td>0.018707</td>\n",
       "      <td>0.028470</td>\n",
       "    </tr>\n",
       "    <tr>\n",
       "      <th>7</th>\n",
       "      <td>778</td>\n",
       "      <td>21.400000</td>\n",
       "      <td>4.152680</td>\n",
       "      <td>4.091091</td>\n",
       "      <td>0.054153</td>\n",
       "      <td>0.014831</td>\n",
       "    </tr>\n",
       "    <tr>\n",
       "      <th>8</th>\n",
       "      <td>778</td>\n",
       "      <td>13.300000</td>\n",
       "      <td>1.534908</td>\n",
       "      <td>1.471818</td>\n",
       "      <td>0.013559</td>\n",
       "      <td>0.041103</td>\n",
       "    </tr>\n",
       "    <tr>\n",
       "      <th>9</th>\n",
       "      <td>777</td>\n",
       "      <td>12.400000</td>\n",
       "      <td>1.605542</td>\n",
       "      <td>1.529465</td>\n",
       "      <td>0.015973</td>\n",
       "      <td>0.047384</td>\n",
       "    </tr>\n",
       "    <tr>\n",
       "      <th>10</th>\n",
       "      <td>777</td>\n",
       "      <td>13.600000</td>\n",
       "      <td>1.763035</td>\n",
       "      <td>1.653179</td>\n",
       "      <td>0.016375</td>\n",
       "      <td>0.062311</td>\n",
       "    </tr>\n",
       "    <tr>\n",
       "      <th>11</th>\n",
       "      <td>777</td>\n",
       "      <td>14.200000</td>\n",
       "      <td>1.670764</td>\n",
       "      <td>1.661366</td>\n",
       "      <td>0.022179</td>\n",
       "      <td>0.005625</td>\n",
       "    </tr>\n",
       "    <tr>\n",
       "      <th>12</th>\n",
       "      <td>778</td>\n",
       "      <td>22.366667</td>\n",
       "      <td>2.186841</td>\n",
       "      <td>2.104519</td>\n",
       "      <td>0.016864</td>\n",
       "      <td>0.037644</td>\n",
       "    </tr>\n",
       "    <tr>\n",
       "      <th>13</th>\n",
       "      <td>758</td>\n",
       "      <td>12.666667</td>\n",
       "      <td>1.801928</td>\n",
       "      <td>1.874392</td>\n",
       "      <td>0.107027</td>\n",
       "      <td>-0.040215</td>\n",
       "    </tr>\n",
       "    <tr>\n",
       "      <th>14</th>\n",
       "      <td>779</td>\n",
       "      <td>14.600000</td>\n",
       "      <td>1.955458</td>\n",
       "      <td>2.053097</td>\n",
       "      <td>0.083458</td>\n",
       "      <td>-0.049932</td>\n",
       "    </tr>\n",
       "    <tr>\n",
       "      <th>15</th>\n",
       "      <td>772</td>\n",
       "      <td>39.866667</td>\n",
       "      <td>5.002095</td>\n",
       "      <td>5.012625</td>\n",
       "      <td>0.041619</td>\n",
       "      <td>-0.002105</td>\n",
       "    </tr>\n",
       "    <tr>\n",
       "      <th>16</th>\n",
       "      <td>759</td>\n",
       "      <td>26.233333</td>\n",
       "      <td>2.193178</td>\n",
       "      <td>2.262677</td>\n",
       "      <td>0.031531</td>\n",
       "      <td>-0.031688</td>\n",
       "    </tr>\n",
       "    <tr>\n",
       "      <th>17</th>\n",
       "      <td>771</td>\n",
       "      <td>35.700000</td>\n",
       "      <td>4.374287</td>\n",
       "      <td>4.408903</td>\n",
       "      <td>0.027282</td>\n",
       "      <td>-0.007914</td>\n",
       "    </tr>\n",
       "    <tr>\n",
       "      <th>18</th>\n",
       "      <td>775</td>\n",
       "      <td>44.866667</td>\n",
       "      <td>5.356306</td>\n",
       "      <td>5.426220</td>\n",
       "      <td>0.053849</td>\n",
       "      <td>-0.013053</td>\n",
       "    </tr>\n",
       "    <tr>\n",
       "      <th>19</th>\n",
       "      <td>763</td>\n",
       "      <td>11.800000</td>\n",
       "      <td>1.939637</td>\n",
       "      <td>1.800507</td>\n",
       "      <td>0.031969</td>\n",
       "      <td>0.071730</td>\n",
       "    </tr>\n",
       "    <tr>\n",
       "      <th>20</th>\n",
       "      <td>754</td>\n",
       "      <td>22.633333</td>\n",
       "      <td>2.538651</td>\n",
       "      <td>2.436332</td>\n",
       "      <td>0.026230</td>\n",
       "      <td>0.040304</td>\n",
       "    </tr>\n",
       "    <tr>\n",
       "      <th>21</th>\n",
       "      <td>771</td>\n",
       "      <td>22.200000</td>\n",
       "      <td>4.058008</td>\n",
       "      <td>3.991531</td>\n",
       "      <td>0.022263</td>\n",
       "      <td>0.016382</td>\n",
       "    </tr>\n",
       "    <tr>\n",
       "      <th>22</th>\n",
       "      <td>760</td>\n",
       "      <td>26.966667</td>\n",
       "      <td>3.615236</td>\n",
       "      <td>3.660228</td>\n",
       "      <td>0.086303</td>\n",
       "      <td>-0.012445</td>\n",
       "    </tr>\n",
       "    <tr>\n",
       "      <th>23</th>\n",
       "      <td>752</td>\n",
       "      <td>27.100000</td>\n",
       "      <td>3.587559</td>\n",
       "      <td>3.540355</td>\n",
       "      <td>0.062607</td>\n",
       "      <td>0.013158</td>\n",
       "    </tr>\n",
       "  </tbody>\n",
       "</table>\n",
       "</div>"
      ],
      "text/plain": [
       "    n_samples  estimated_epochs   rmse_LR  rmse_NN_mean  rmse_NN_std   rel_imp\n",
       "0         778         31.766667  5.076583      5.525234     0.202384 -0.088377\n",
       "1         758         33.466667  5.852060      6.867851     0.419592 -0.173578\n",
       "2         768         35.900000  5.277450      5.165095     0.044738  0.021290\n",
       "3         775         14.366667  2.053487      2.023008     0.027107  0.014843\n",
       "4         772         17.733333  2.231261      2.179150     0.022976  0.023355\n",
       "5         763         11.366667  1.511657      1.547454     0.032806 -0.023681\n",
       "6         778         19.666667  1.361709      1.322940     0.018707  0.028470\n",
       "7         778         21.400000  4.152680      4.091091     0.054153  0.014831\n",
       "8         778         13.300000  1.534908      1.471818     0.013559  0.041103\n",
       "9         777         12.400000  1.605542      1.529465     0.015973  0.047384\n",
       "10        777         13.600000  1.763035      1.653179     0.016375  0.062311\n",
       "11        777         14.200000  1.670764      1.661366     0.022179  0.005625\n",
       "12        778         22.366667  2.186841      2.104519     0.016864  0.037644\n",
       "13        758         12.666667  1.801928      1.874392     0.107027 -0.040215\n",
       "14        779         14.600000  1.955458      2.053097     0.083458 -0.049932\n",
       "15        772         39.866667  5.002095      5.012625     0.041619 -0.002105\n",
       "16        759         26.233333  2.193178      2.262677     0.031531 -0.031688\n",
       "17        771         35.700000  4.374287      4.408903     0.027282 -0.007914\n",
       "18        775         44.866667  5.356306      5.426220     0.053849 -0.013053\n",
       "19        763         11.800000  1.939637      1.800507     0.031969  0.071730\n",
       "20        754         22.633333  2.538651      2.436332     0.026230  0.040304\n",
       "21        771         22.200000  4.058008      3.991531     0.022263  0.016382\n",
       "22        760         26.966667  3.615236      3.660228     0.086303 -0.012445\n",
       "23        752         27.100000  3.587559      3.540355     0.062607  0.013158"
      ]
     },
     "execution_count": 28,
     "metadata": {},
     "output_type": "execute_result"
    }
   ],
   "source": [
    "df_gamma"
   ]
  },
  {
   "cell_type": "code",
   "execution_count": 18,
   "metadata": {},
   "outputs": [
    {
     "name": "stdout",
     "output_type": "stream",
     "text": [
      "\n"
     ]
    },
    {
     "data": {
      "image/png": "[encoded data removed]",
      "text/plain": [
       "<Figure size 2160x720 with 24 Axes>"
      ]
     },
     "metadata": {
      "needs_background": "light"
     },
     "output_type": "display_data"
    }
   ],
   "source": [
    "fig, axs = plt.subplots(3, 8, figsize=(30,10))\n",
    "fig.suptitle(\"Mean and Std over 30 runs\", fontsize=30)\n",
    "for i, ax in enumerate(axs.flatten()):\n",
    "    sample_regular = df_regular.iloc[i]\n",
    "    sample_normal = df_normal.iloc[i]\n",
    "    sample_gamma = df_gamma.iloc[i]\n",
    "    r = ax.errorbar(x=1, y=sample_regular['rmse_NN_mean'], yerr=sample_regular['rmse_NN_std'], fmt='o', capsize=10, label='regular')\n",
    "    n = ax.errorbar(x=2, y=sample_normal['rmse_NN_mean'], yerr=sample_normal['rmse_NN_std'], fmt='o', capsize=10, label='normal')\n",
    "    g = ax.errorbar(x=3, y=sample_gamma['rmse_NN_mean'], yerr=sample_gamma['rmse_NN_std'], fmt='o', capsize=10, label='gamma')\n",
    "    ax.axhline(y=sample_regular['rmse_LR'], linestyle='--', label='LR')\n",
    "    ax.set_xticks([])\n",
    "    #ax.legend()\n",
    "handles, labels = ax.get_legend_handles_labels()\n",
    "fig.legend(handles, labels, loc='upper right', prop={'size': 25})\n",
    "print()\n",
    "fig.savefig('temp.jpg')"
   ]
  },
  {
   "cell_type": "code",
   "execution_count": null,
   "metadata": {},
   "outputs": [],
   "source": [
    "# softmax, kernel_initializer, HT on a bad site, see what is hapeening on bad sites\n",
    "# different features, heteroskedastic linear model, "
   ]
  },
  {
   "cell_type": "code",
   "execution_count": 25,
   "metadata": {},
   "outputs": [
    {
     "name": "stdout",
     "output_type": "stream",
     "text": [
      "Mean RMSE across all the stations:\n",
      "NN: 3.067, LR: 3.029\n",
      "Relative improvement: -1.250%\n"
     ]
    }
   ],
   "source": [
    "mean_nn, mean_lr = (df_gamma['rmse_NN_mean'].mean(), df_regular['rmse_LR'].mean())\n",
    "print(\"Mean RMSE across all the stations:\\nNN: {:.3f}, LR: {:.3f}\".format(mean_nn, mean_lr))\n",
    "print(\"Relative improvement: {:.3f}%\".format(100 * (mean_lr - mean_nn)/mean_lr))"
   ]
  },
  {
   "cell_type": "code",
   "execution_count": null,
   "metadata": {},
   "outputs": [],
   "source": [
    "mean_nn, mean_lr = (df_['rmse_NN_mean'].mean(), df_regular['rmse_LR'].mean())\n",
    "print(\"Mean RMSE across all the stations:\\nNN: {:.3f}, LR: {:.3f}\".format(mean_nn, mean_lr))\n",
    "print(\"Relative improvement: {:.3f}%\".format(100 * (mean_lr - mean_nn)/mean_lr))"
   ]
  },
  {
   "cell_type": "markdown",
   "metadata": {},
   "source": [
    "# Hyperparameter tuning\n",
    "### Vanilla"
   ]
  },
  {
   "cell_type": "code",
   "execution_count": 2,
   "metadata": {},
   "outputs": [],
   "source": [
    "# code on codes/slurm/run_scripts/DL/vanilla_ht.py\n",
    "\n",
    "def print_nice_dict(d):\n",
    "    print('{')\n",
    "    for key, value in zip(d.keys(), d.values()):\n",
    "        _key = '\\\"' + key + '\\\"'\n",
    "        print(f'\\t{_key:20}: {value}')\n",
    "    print('}')\n",
    "        \n",
    "\n",
    "def show_stats(file_name, outlier=None):\n",
    "    df = pd.read_csv(file_name)\n",
    "    if outlier is not None: # if outlier is indicated\n",
    "        df = df[df['validation_error'] < outlier]\n",
    "        \n",
    "    df_agg = df[df['Status'] == 'INTERMEDIATE'].groupby('Trial-ID').apply('mean')\n",
    "    best_trial_id = df_agg['validation_error'].idxmin() # index is the Trial-ID\n",
    "    print(f\"Showing the results on Trial-ID = {best_trial_id}\")\n",
    "    # print(best_trial_id)\n",
    "    mean_rmse = df_agg.loc[best_trial_id]['validation_error']\n",
    "    hyperparameters = df[df['Trial-ID'] == best_trial_id].drop(columns=['Trial-ID', 'Status', 'Iteration', 'Objective', 'validation_error']).iloc[0].to_dict()\n",
    "    print('htperparameters')\n",
    "    print_nice_dict(hyperparameters)\n",
    "    print('Mean over 10 runs: {:.5f}'.format(mean_rmse))\n",
    "    \n",
    "    # append 'activation' column\n",
    "    dfs = []\n",
    "    for name, group in df.groupby('Trial-ID'):\n",
    "        activation = group['activation'].iloc[0] \n",
    "        dfs.append(pd.DataFrame(data={'Trial-ID': [name],'activation': [activation]}))\n",
    "    df_activation = pd.concat(dfs).reset_index(drop=True)\n",
    "    df_agg = df_agg.merge(right=df_activation, left_index=True, right_on='Trial-ID')\n",
    "    \n",
    "    return df_agg # loc looks at index value. iloc is the indexing, like as in list or numpy"
   ]
  },
  {
   "cell_type": "code",
   "execution_count": 4,
   "metadata": {},
   "outputs": [
    {
     "name": "stdout",
     "output_type": "stream",
     "text": [
      "Showing the results on Trial-ID = 116\n",
      "htperparameters\n",
      "{\n",
      "\t\"activation\"        : relu\n",
      "\t\"batch_size\"        : 105\n",
      "\t\"dropout\"           : 0.6381250460061779\n",
      "\t\"lr\"                : 0.0036798650528122\n",
      "\t\"n_layers\"          : 2\n",
      "\t\"n_units\"           : 997\n",
      "}\n",
      "Mean over 10 runs: 1.44963\n"
     ]
    },
    {
     "data": {
      "text/plain": [
       "Text(0.5, 0.98, 'Vanilla NN Hyperparameter Tuning')"
      ]
     },
     "execution_count": 4,
     "metadata": {},
     "output_type": "execute_result"
    },
    {
     "data": {
      "image/png": "[encoded data removed]",
      "text/plain": [
       "<Figure size 720x360 with 6 Axes>"
      ]
     },
     "metadata": {
      "needs_background": "light"
     },
     "output_type": "display_data"
    }
   ],
   "source": [
    "# first hyperparameter tuning\n",
    "# n_iter = 300\n",
    "# parameters = [\n",
    "#     sherpa.Continuous(name='lr', range=[0.001, 0.01]),\n",
    "#     sherpa.Choice(name='activation', range=['relu', 'elu', 'tanh']),\n",
    "#     sherpa.Discrete(name='n_units', range=[128, 1024]),\n",
    "#     sherpa.Discrete(name='n_layers', range=[1,5]),\n",
    "#     sherpa.Continuous(name='dropout', range=[0.3, 0.8]),\n",
    "#     sherpa.Discrete(name='batch_size', range=[32, 128])    \n",
    "# ]\n",
    "df_agg = show_stats('/home/yusukemh/github/yusukemh/StatisticalDownscaling/codes/slurm/run_scripts/DL/vanilla_HT/results_0.csv')\n",
    "fig, axs = plt.subplots(2, 3, figsize=(10, 5))\n",
    "\n",
    "for hyperparameter, ax in zip(['lr', 'activation', 'n_units', 'n_layers', 'dropout', 'batch_size'], axs.flatten()):\n",
    "    ax.scatter(df_agg[hyperparameter], df_agg['validation_error'], s=1)\n",
    "    ax.set_title(hyperparameter)\n",
    "fig.tight_layout()\n",
    "fig.subplots_adjust(top=0.85)\n",
    "fig.suptitle('Vanilla NN Hyperparameter Tuning')"
   ]
  },
  {
   "cell_type": "code",
   "execution_count": 4,
   "metadata": {},
   "outputs": [
    {
     "name": "stdout",
     "output_type": "stream",
     "text": [
      "Showing the results on Trial-ID = 3\n",
      "htperparameters\n",
      "{\n",
      "\t\"activation\"        : relu\n",
      "\t\"batch_size\"        : 116\n",
      "\t\"dropout\"           : 0.4578657205946084\n",
      "\t\"lr\"                : 0.0043961731420066\n",
      "\t\"n_layers\"          : 2\n",
      "\t\"n_units\"           : 905\n",
      "}\n",
      "Mean over 10 runs: 1.44755\n"
     ]
    },
    {
     "data": {
      "text/plain": [
       "Text(0.5, 0.98, 'Vanilla NN Hyperparameter Tuning')"
      ]
     },
     "execution_count": 4,
     "metadata": {},
     "output_type": "execute_result"
    },
    {
     "data": {
      "image/png": "[encoded data removed]",
      "text/plain": [
       "<Figure size 720x360 with 6 Axes>"
      ]
     },
     "metadata": {
      "needs_background": "light"
     },
     "output_type": "display_data"
    }
   ],
   "source": [
    "# second hyperparameter tuning\n",
    "# n_iter = 300\n",
    "# parameters = [\n",
    "#     sherpa.Continuous(name='lr', range=[0.001, 0.01]),\n",
    "#     sherpa.Choice(name='activation', range=['relu', 'elu']),\n",
    "#     sherpa.Discrete(name='n_units', range=[128, 1024]),\n",
    "#     sherpa.Discrete(name='n_layers', range=[1,3]),\n",
    "#     sherpa.Continuous(name='dropout', range=[0.3, 0.8]),\n",
    "#     sherpa.Discrete(name='batch_size', range=[32, 128])    \n",
    "# ]\n",
    "\n",
    "df_agg = show_stats('/home/yusukemh/github/yusukemh/StatisticalDownscaling/codes/slurm/run_scripts/DL/vanilla_HT/results.csv')\n",
    "fig, axs = plt.subplots(2, 3, figsize=(10, 5))\n",
    "\n",
    "for hyperparameter, ax in zip(['lr', 'activation', 'n_units', 'n_layers', 'dropout', 'batch_size'], axs.flatten()):\n",
    "    ax.scatter(df_agg[hyperparameter], df_agg['validation_error'], s=1)\n",
    "    ax.set_title(hyperparameter)\n",
    "fig.tight_layout()\n",
    "fig.subplots_adjust(top=0.85)\n",
    "fig.suptitle('Vanilla NN Hyperparameter Tuning')"
   ]
  },
  {
   "cell_type": "code",
   "execution_count": 18,
   "metadata": {},
   "outputs": [
    {
     "name": "stdout",
     "output_type": "stream",
     "text": [
      "Station with skn: 396.0 was chosen out of all stations with more than 750 historical (non-filled) rainfall observations.\n",
      "There are 778 rainfall observations from this station.\n"
     ]
    },
    {
     "name": "stderr",
     "output_type": "stream",
     "text": [
      "2022-05-27 18:57:38.358921: W tensorflow/stream_executor/platform/default/dso_loader.cc:64] Could not load dynamic library 'libcudart.so.11.0'; dlerror: libcudart.so.11.0: cannot open shared object file: No such file or directory; LD_LIBRARY_PATH: /opt/apps/software/tools/nmap/7.80/lib\n",
      "2022-05-27 18:57:38.366146: W tensorflow/stream_executor/platform/default/dso_loader.cc:64] Could not load dynamic library 'libcufft.so.10'; dlerror: libcufft.so.10: cannot open shared object file: No such file or directory; LD_LIBRARY_PATH: /opt/apps/software/tools/nmap/7.80/lib\n",
      "2022-05-27 18:57:38.366254: W tensorflow/stream_executor/platform/default/dso_loader.cc:64] Could not load dynamic library 'libcurand.so.10'; dlerror: libcurand.so.10: cannot open shared object file: No such file or directory; LD_LIBRARY_PATH: /opt/apps/software/tools/nmap/7.80/lib\n",
      "2022-05-27 18:57:38.366344: W tensorflow/stream_executor/platform/default/dso_loader.cc:64] Could not load dynamic library 'libcusolver.so.11'; dlerror: libcusolver.so.11: cannot open shared object file: No such file or directory; LD_LIBRARY_PATH: /opt/apps/software/tools/nmap/7.80/lib\n",
      "2022-05-27 18:57:38.366431: W tensorflow/stream_executor/platform/default/dso_loader.cc:64] Could not load dynamic library 'libcusparse.so.11'; dlerror: libcusparse.so.11: cannot open shared object file: No such file or directory; LD_LIBRARY_PATH: /opt/apps/software/tools/nmap/7.80/lib\n",
      "2022-05-27 18:57:38.366528: W tensorflow/stream_executor/platform/default/dso_loader.cc:64] Could not load dynamic library 'libcudnn.so.8'; dlerror: libcudnn.so.8: cannot open shared object file: No such file or directory; LD_LIBRARY_PATH: /opt/apps/software/tools/nmap/7.80/lib\n",
      "2022-05-27 18:57:38.366550: W tensorflow/core/common_runtime/gpu/gpu_device.cc:1850] Cannot dlopen some GPU libraries. Please make sure the missing libraries mentioned above are installed properly if you would like to use GPU. Follow the guide at https://www.tensorflow.org/install/gpu for how to download and setup the required libraries for your platform.\n",
      "Skipping registering GPU devices...\n"
     ]
    },
    {
     "name": "stdout",
     "output_type": "stream",
     "text": [
      "mean number of epochs: 12.0\n",
      "Std: 1.897\n"
     ]
    }
   ],
   "source": [
    "columns = C_SINGLE\n",
    "# load nonfilled dataset\n",
    "df_nonfilled = pd.read_csv(f\"{BASE_DIR}/nonfilled_dataset.csv\", usecols=C_SINGLE + C_COMMON)\n",
    "# sample a station: returned object is sorted.\n",
    "df_station = sample_station(df=df_nonfilled, threshold=750, seed=42)\n",
    "\n",
    "X = np.array(df_station[columns])\n",
    "Y = np.array(df_station['data_in'])\n",
    "\n",
    "# define hyperparameters\n",
    "############################\n",
    "# model_params = dict(\n",
    "#     input_dim=len(columns),\n",
    "#     lr=0.0005,\n",
    "#     activation='elu',\n",
    "#     n_units=256,\n",
    "#     n_layers=2,\n",
    "#     dropout=0.5\n",
    "# )\n",
    "# batch_size = 64\n",
    "\n",
    "\n",
    "model_params = {\n",
    "\t\"activation\"        : 'relu',\n",
    "\t\"dropout\"           : 0.4578657205946084,\n",
    "\t\"lr\"                : 0.0043961731420066,\n",
    "\t\"n_layers\"          : 2,\n",
    "\t\"n_units\"           : 905\n",
    "}\n",
    "batch_size = 116\n",
    "#############################\n",
    "\n",
    "estimated_epochs = estimate_epochs(\n",
    "    X=X, Y=Y,\n",
    "    model_func=define_model,\n",
    "    model_params=model_params,\n",
    "    batch_size=batch_size,\n",
    "    n_iter=10\n",
    ")"
   ]
  },
  {
   "cell_type": "code",
   "execution_count": 21,
   "metadata": {},
   "outputs": [
    {
     "name": "stdout",
     "output_type": "stream",
     "text": [
      "Result: single observation, normal NN\n",
      "RMSE with NN: 1.441\n",
      "RMSE with LR: 1.535\n"
     ]
    }
   ],
   "source": [
    "# now fix the epoch, remove early stopping, and run cross_val_predict\n",
    "yhat_nn = cross_val_predict_for_nn(# implemented in util.py\n",
    "    model_func=define_model,\n",
    "    model_params=model_params,\n",
    "    X=X, Y=Y,\n",
    "    callback=None,\n",
    "    batch_size=batch_size,\n",
    "    epochs=int(estimated_epochs),\n",
    "    early_stopping=False,\n",
    "    verbose=False\n",
    ")\n",
    "rmse_nn = mean_squared_error(Y, yhat_nn, squared=False)\n",
    "linear_regression = LinearRegression()\n",
    "yhat_lr = cross_val_predict(linear_regression, X, Y, n_jobs=-1)\n",
    "rmse_lr = mean_squared_error(Y, yhat_lr, squared=False)\n",
    "\n",
    "print(\"Result: single observation, normal NN\")\n",
    "print(\"RMSE with NN: {:.3f}\".format(rmse_nn))\n",
    "print(\"RMSE with LR: {:.3f}\".format(rmse_lr))\n"
   ]
  },
  {
   "cell_type": "markdown",
   "metadata": {},
   "source": [
    "### gamma"
   ]
  },
  {
   "cell_type": "code",
   "execution_count": 110,
   "metadata": {},
   "outputs": [
    {
     "name": "stdout",
     "output_type": "stream",
     "text": [
      "Showing the results on Trial-ID = 93\n",
      "htperparameters\n",
      "{\n",
      "\t\"activation\"        : relu\n",
      "\t\"batch_size\"        : 60\n",
      "\t\"dropout\"           : 0.7006435973994982\n",
      "\t\"lr\"                : 0.0007538441168978\n",
      "\t\"n_additional_layers_main\": 0\n",
      "\t\"n_additional_layers_sub\": 0\n",
      "\t\"n_units_main\"      : 399\n",
      "\t\"n_units_sub\"       : 400\n",
      "}\n",
      "Mean over 10 runs: 1.45960\n"
     ]
    },
    {
     "data": {
      "text/plain": [
       "Text(0.5, 0.98, 'Gamma hetero NN Hyperparameter Tuning')"
      ]
     },
     "execution_count": 110,
     "metadata": {},
     "output_type": "execute_result"
    },
    {
     "data": {
      "image/png": "[encoded data removed]",
      "text/plain": [
       "<Figure size 720x360 with 8 Axes>"
      ]
     },
     "metadata": {
      "needs_background": "light"
     },
     "output_type": "display_data"
    }
   ],
   "source": [
    "# first hyperparameter tuning\n",
    "# n_iter = 100 \n",
    "# parameters = [\n",
    "#     sherpa.Continuous(name='lr', range=[0.0005, 0.003]),\n",
    "#     sherpa.Choice(name='activation', range=['relu', 'elu', 'selu']),\n",
    "#     sherpa.Discrete(name='n_units_main', range=[256, 1024]),\n",
    "#     sherpa.Discrete(name='n_units_sub', range=[128, 512]),\n",
    "#     sherpa.Discrete(name='n_additional_layers_main', range=[0,3]),\n",
    "#     sherpa.Discrete(name='n_additional_layers_sub', range=[0,3]),\n",
    "#     sherpa.Continuous(name='dropout', range=[0.3, 0.8]),\n",
    "#     sherpa.Discrete(name='batch_size', range=[32, 128]) \n",
    "# ]\n",
    "df_agg = show_stats('/home/yusukemh/github/yusukemh/StatisticalDownscaling/codes/slurm/run_scripts/DL/gamma_HT/results_0.csv')\n",
    "fig, axs = plt.subplots(2, 4, figsize=(10, 5))\n",
    "\n",
    "for hyperparameter, ax in zip(['lr', 'activation', 'n_units_main', 'n_units_sub', 'n_additional_layers_main', 'n_additional_layers_sub', 'dropout', 'batch_size'], axs.flatten()):\n",
    "    ax.scatter(df_agg[hyperparameter], df_agg['validation_error'], s=1)\n",
    "    ax.set_title(hyperparameter)\n",
    "fig.tight_layout()\n",
    "fig.subplots_adjust(top=0.85)\n",
    "fig.suptitle('Gamma hetero NN Hyperparameter Tuning')"
   ]
  },
  {
   "cell_type": "code",
   "execution_count": 5,
   "metadata": {},
   "outputs": [
    {
     "name": "stdout",
     "output_type": "stream",
     "text": [
      "Showing the results on Trial-ID = 92\n",
      "htperparameters\n",
      "{\n",
      "\t\"activation\"        : selu\n",
      "\t\"batch_size\"        : 116\n",
      "\t\"dropout\"           : 0.6657739534447586\n",
      "\t\"lr\"                : 0.0008248868402836\n",
      "\t\"n_additional_layers_main\": 0\n",
      "\t\"n_additional_layers_sub\": 0\n",
      "\t\"n_units_main\"      : 359\n",
      "\t\"n_units_sub\"       : 251\n",
      "}\n",
      "Mean over 10 runs: 1.46027\n"
     ]
    },
    {
     "data": {
      "text/plain": [
       "Text(0.5, 0.98, 'Gamma hetero NN Hyperparameter Tuning')"
      ]
     },
     "execution_count": 5,
     "metadata": {},
     "output_type": "execute_result"
    },
    {
     "data": {
      "image/png": "[encoded data removed]",
      "text/plain": [
       "<Figure size 720x360 with 8 Axes>"
      ]
     },
     "metadata": {
      "needs_background": "light"
     },
     "output_type": "display_data"
    }
   ],
   "source": [
    "# second hyperparameter tuning\n",
    "# n_iter = 100\n",
    "# parameters = [\n",
    "#     sherpa.Continuous(name='lr', range=[0.0005, 0.003]),\n",
    "#     sherpa.Choice(name='activation', range=['relu', 'elu', 'selu']),\n",
    "#     sherpa.Discrete(name='n_units_main', range=[256, 1024]),\n",
    "#     sherpa.Discrete(name='n_units_sub', range=[128, 512]),\n",
    "#     sherpa.Discrete(name='n_additional_layers_main', range=[0,2]),\n",
    "#     sherpa.Discrete(name='n_additional_layers_sub', range=[0,2]),\n",
    "#     sherpa.Continuous(name='dropout', range=[0.3, 0.8]),\n",
    "#     sherpa.Discrete(name='batch_size', range=[32, 128]) \n",
    "# ]\n",
    "df_agg = show_stats('/home/yusukemh/github/yusukemh/StatisticalDownscaling/codes/slurm/run_scripts/DL/gamma_HT/results.csv')\n",
    "fig, axs = plt.subplots(2, 4, figsize=(10, 5))\n",
    "\n",
    "for hyperparameter, ax in zip(['lr', 'activation', 'n_units_main', 'n_units_sub', 'n_additional_layers_main', 'n_additional_layers_sub', 'dropout', 'batch_size'], axs.flatten()):\n",
    "    ax.scatter(df_agg[hyperparameter], df_agg['validation_error'], s=1)\n",
    "    ax.set_title(hyperparameter)\n",
    "fig.tight_layout()\n",
    "fig.subplots_adjust(top=0.85)\n",
    "fig.suptitle('Gamma hetero NN Hyperparameter Tuning')"
   ]
  },
  {
   "cell_type": "markdown",
   "metadata": {},
   "source": [
    "### Gaussian"
   ]
  },
  {
   "cell_type": "code",
   "execution_count": 119,
   "metadata": {},
   "outputs": [
    {
     "name": "stdout",
     "output_type": "stream",
     "text": [
      "Showing the results on Trial-ID = 46\n",
      "htperparameters\n",
      "{\n",
      "\t\"activation\"        : relu\n",
      "\t\"batch_size\"        : 117\n",
      "\t\"dropout\"           : 0.561853280248839\n",
      "\t\"l2_sigma\"          : 240\n",
      "\t\"lr\"                : 0.0085826439625522\n",
      "\t\"n_additional_layers_main\": 1\n",
      "\t\"n_additional_layers_sub\": 1\n",
      "\t\"n_units_main\"      : 372\n",
      "\t\"n_units_sub\"       : 260\n",
      "\t\"sigma_a\"           : 0.0071237007950889\n",
      "\t\"sigma_b\"           : 0.0207931459510849\n",
      "}\n",
      "Mean over 10 runs: 1.45162\n"
     ]
    },
    {
     "data": {
      "text/plain": [
       "Text(0.5, 0.98, 'Gaussian hetero NN Hyperparameter Tuning')"
      ]
     },
     "execution_count": 119,
     "metadata": {},
     "output_type": "execute_result"
    },
    {
     "data": {
      "image/png": "[encoded data removed]",
      "text/plain": [
       "<Figure size 720x360 with 12 Axes>"
      ]
     },
     "metadata": {
      "needs_background": "light"
     },
     "output_type": "display_data"
    }
   ],
   "source": [
    "# second hyperparameter tuning\n",
    "# n_iter = 100\n",
    "# parameters = [\n",
    "#         sherpa.Continuous(name='lr', range=[0.001, 0.01]),\n",
    "#         sherpa.Choice(name='activation', range=['relu', 'elu', 'selu']),\n",
    "#         sherpa.Discrete(name='n_units_main', range=[256, 1024]),\n",
    "#         sherpa.Discrete(name='n_units_sub', range=[128, 512]),\n",
    "#         sherpa.Discrete(name='n_additional_layers_main', range=[0,3]),\n",
    "#         sherpa.Discrete(name='n_additional_layers_sub', range=[0,3]),\n",
    "#         sherpa.Continuous(name='dropout', range=[0.3, 0.8]),\n",
    "#         sherpa.Discrete(name='l2_sigma', range=[50, 300]),\n",
    "#         sherpa.Continuous(name='sigma_a', range=[0.005, 0.01]),\n",
    "#         sherpa.Continuous(name='sigma_b', range=[0.01, 0.05]),\n",
    "#         sherpa.Discrete(name='batch_size', range=[32, 128]) \n",
    "# ]\n",
    "df_agg = show_stats('/home/yusukemh/github/yusukemh/StatisticalDownscaling/codes/slurm/run_scripts/DL/normal_HT/results.csv', outlier = None)\n",
    "fig, axs = plt.subplots(3, 4, figsize=(10, 5))\n",
    "\n",
    "for hyperparameter, ax in zip([\n",
    "    'lr', 'activation', 'n_units_main', 'n_units_sub', 'n_additional_layers_main', 'n_additional_layers_sub',\n",
    "    'dropout', 'batch_size', 'l2_sigma', 'sigma_a', 'sigma_b'\n",
    "], axs.flatten()):\n",
    "    ax.scatter(df_agg[hyperparameter], df_agg['validation_error'], s=1)\n",
    "    ax.set_title(hyperparameter)\n",
    "fig.tight_layout()\n",
    "fig.subplots_adjust(top=0.85)\n",
    "fig.suptitle('Gaussian hetero NN Hyperparameter Tuning')"
   ]
  },
  {
   "cell_type": "markdown",
   "metadata": {},
   "source": [
    "<hr> Below turned out to be failure: the model was training on top of other fold during \n",
    "\n",
    "```cross_val_predict_for_nn```, which means that the final performance report is based on 'training' loss"
   ]
  },
  {
   "cell_type": "markdown",
   "metadata": {},
   "source": [
    "# Use grid data"
   ]
  },
  {
   "cell_type": "code",
   "execution_count": 53,
   "metadata": {},
   "outputs": [
    {
     "name": "stdout",
     "output_type": "stream",
     "text": [
      "Station with skn: 396.0 was chosen out of all stations with more than 750 historical (non-filled) rainfall observations.\n",
      "There are 778 rainfall observations from this station.\n"
     ]
    }
   ],
   "source": [
    "columns = C_GRID\n",
    "# load nonfilled dataset\n",
    "df_nonfilled = pd.read_csv(f\"{BASE_DIR}/nonfilled_dataset.csv\", usecols=columns + C_COMMON)\n",
    "# sample a station: returned object is sorted.\n",
    "df_station = sample_station(df=df_nonfilled, threshold=750, seed=42)"
   ]
  },
  {
   "cell_type": "code",
   "execution_count": 54,
   "metadata": {},
   "outputs": [],
   "source": [
    "# define a NN model\n",
    "def define_model(input_dim=20, lr=0.005):\n",
    "    inputs = Input(shape=(input_dim,))\n",
    "    x = Dense(units=256, activation='elu')(inputs)\n",
    "    x = Dropout(rate=0.5)(x)\n",
    "    x = Dense(units=256, activation='elu')(x)\n",
    "    outputs = Dense(units=1, kernel_initializer='normal', activation='linear')(x)\n",
    "    \n",
    "    model = Model(inputs=inputs, outputs=outputs)\n",
    "    \n",
    "    model.compile(\n",
    "        optimizer=tf.optimizers.Adam(learning_rate=lr),\n",
    "        loss='mse',\n",
    "        metrics=[RootMeanSquaredError()]\n",
    "    )\n",
    "    \n",
    "    return model\n",
    "\n",
    "def define_hetero_model(input_dim=20, lr=0.0065):\n",
    "    inputs = Input(shape=(input_dim,))\n",
    "    x = Dense(units=1024, activation='relu', kernel_initializer='normal')(inputs)\n",
    "    x = Dense(units=1024, activation='relu', kernel_initializer='normal')(x)\n",
    "    x = Dropout(rate=0.5)(x)\n",
    "    \n",
    "    m = Dense(units=512, activation='relu', kernel_initializer='normal')(x)\n",
    "    m = Dense(units=1, activation='linear', kernel_initializer='normal')(m)\n",
    "    \n",
    "    s = Dense(units=512, activation='relu', kernel_initializer='normal')(x)\n",
    "    s = Dense(units=1, activation='linear', kernel_initializer='normal', kernel_regularizer=tf.keras.regularizers.L2(l2=100))(s)\n",
    "    #s = Dense(units=1, activation='linear', kernel_initializer='normal')(s)\n",
    "    \n",
    "    ms = Concatenate(axis=-1)([m, s])\n",
    "    outputs = tfp.layers.DistributionLambda(\n",
    "        make_distribution_fn=lambda t: tfd.Normal(\n",
    "            loc=2.5 * t[...,0] + 0.01, scale=tf.math.softplus(0.001*t[...,1]+0.03)#this part is important\n",
    "            #loc=2.5 * t[...,0] + 0.01, scale=tf.math.softplus(t[...,1])#this part is important\n",
    "        ),\n",
    "        convert_to_tensor_fn=lambda s: s.mean()\n",
    "    )(ms)\n",
    "    \n",
    "    model = Model(inputs=inputs, outputs=outputs)\n",
    "    \n",
    "    model.compile(\n",
    "        optimizer=tf.optimizers.Adam(learning_rate=lr),\n",
    "        loss=lambda y, p_y: -p_y.log_prob(y),\n",
    "        metrics=[RootMeanSquaredError()]\n",
    "    )\n",
    "    \n",
    "    return model"
   ]
  },
  {
   "cell_type": "code",
   "execution_count": 22,
   "metadata": {},
   "outputs": [
    {
     "name": "stdout",
     "output_type": "stream",
     "text": [
      "mean number of epochs: 10.5\n",
      "Std: 6.874\n"
     ]
    }
   ],
   "source": [
    "X = np.array(df_station[columns])\n",
    "Y = np.array(df_station['data_in'])\n",
    "\n",
    "estimated_epochs = estimate_epochs(X, Y, model)"
   ]
  },
  {
   "cell_type": "code",
   "execution_count": 23,
   "metadata": {},
   "outputs": [
    {
     "name": "stdout",
     "output_type": "stream",
     "text": [
      "RMSE with NN: 1.536\n"
     ]
    }
   ],
   "source": [
    "# now fix the epoch, remove early stopping, and run cross_val_predict\n",
    "epochs = int(estimated_epochs)\n",
    "n_ensamble = 10\n",
    "y_preds = []\n",
    "for _ in range(n_ensamble):\n",
    "    yhat_nn = cross_val_predict_for_nn(# implemented in util.py\n",
    "        # model=define_hetero_model(input_dim=len(columns), lr=0.0005),\n",
    "        model_func=define_hetero_model,\n",
    "        model_params={\"input_dim\": len(columns), \"lr\": 0.0005},\n",
    "        X=X, Y=Y,\n",
    "        callback=None,\n",
    "        batch_size=64,\n",
    "        epochs=epochs,\n",
    "        early_stopping=False,\n",
    "        verbose=False\n",
    "    )\n",
    "    y_preds.append(yhat_nn)\n",
    "    print(f\"{_+1}/{n_ensamble}\", end='\\r')\n",
    "mean_pred = np.mean(y_preds, axis=0)\n",
    "rmse_nn = mean_squared_error(Y, mean_pred, squared=False)\n",
    "print(\"RMSE with NN: {:.3f}\".format(rmse_nn))"
   ]
  },
  {
   "cell_type": "code",
   "execution_count": 24,
   "metadata": {},
   "outputs": [
    {
     "name": "stdout",
     "output_type": "stream",
     "text": [
      "RMSE with LR: 1.654\n"
     ]
    }
   ],
   "source": [
    "linear_regression = LinearRegression()\n",
    "yhat_lr = cross_val_predict(linear_regression, X, Y, n_jobs=-1)\n",
    "rmse_lr = mean_squared_error(Y, yhat_lr, squared=False)\n",
    "print(\"RMSE with LR: {:.3f}\".format(rmse_lr))"
   ]
  },
  {
   "cell_type": "code",
   "execution_count": 25,
   "metadata": {},
   "outputs": [
    {
     "data": {
      "text/plain": [
       "<matplotlib.legend.Legend at 0x2ae4ef7c88b0>"
      ]
     },
     "execution_count": 25,
     "metadata": {},
     "output_type": "execute_result"
    },
    {
     "data": {
      "image/png": "[encoded data removed]",
      "text/plain": [
       "<Figure size 432x288 with 1 Axes>"
      ]
     },
     "metadata": {
      "needs_background": "light"
     },
     "output_type": "display_data"
    }
   ],
   "source": [
    "fig, ax = plt.subplots(1)\n",
    "ax.scatter(Y, yhat_lr, s=3, color='b', label='linear')\n",
    "ax.scatter(Y, mean_pred, s=3, color='r', label='NN')\n",
    "ax.set_facecolor('lightgray')\n",
    "ax.plot([0, 20], [0, 20])\n",
    "ax.set_aspect('equal')\n",
    "ax.legend()"
   ]
  },
  {
   "cell_type": "markdown",
   "metadata": {},
   "source": [
    "# add noise"
   ]
  },
  {
   "cell_type": "code",
   "execution_count": 34,
   "metadata": {},
   "outputs": [
    {
     "name": "stdout",
     "output_type": "stream",
     "text": [
      "Station with skn: 396.0 was chosen out of all stations with more than 750 historical (non-filled) rainfall observations.\n",
      "There are 778 rainfall observations from this station.\n"
     ]
    }
   ],
   "source": [
    "# # load datasets\n",
    "columns = C_GRID\n",
    "# load nonfilled dataset\n",
    "df_nonfilled = pd.read_csv(f\"{BASE_DIR}/nonfilled_dataset.csv\", usecols=columns + C_COMMON)\n",
    "# sample a station: returned object is sorted.\n",
    "df_station = sample_station(df=df_nonfilled, threshold=750, seed=42)"
   ]
  },
  {
   "cell_type": "code",
   "execution_count": 35,
   "metadata": {},
   "outputs": [],
   "source": [
    "def define_hetero_model(input_dim=20, lr=0.0065):\n",
    "    inputs = Input(shape=(input_dim,))\n",
    "    x = Dense(units=1024, activation='relu', kernel_initializer='normal')(inputs)\n",
    "    x = Dense(units=1024, activation='relu', kernel_initializer='normal')(x)\n",
    "    x = Dense(units=1024, activation='relu', kernel_initializer='normal')(x)\n",
    "    x = Dropout(rate=0.5)(x)\n",
    "    \n",
    "    m = Dense(units=512, activation='relu', kernel_initializer='normal')(x)\n",
    "    m = Dense(units=1, activation='linear', kernel_initializer='normal')(m)\n",
    "    \n",
    "    s = Dense(units=512, activation='relu', kernel_initializer='normal')(x)\n",
    "    s = Dense(units=1, activation='linear', kernel_initializer='normal', kernel_regularizer=tf.keras.regularizers.L2(l2=200))(s)\n",
    "    #s = Dense(units=1, activation='linear', kernel_initializer='normal')(s)\n",
    "    \n",
    "    ms = Concatenate(axis=-1)([m, s])\n",
    "    outputs = tfp.layers.DistributionLambda(\n",
    "        make_distribution_fn=lambda t: tfd.Normal(\n",
    "            loc=2.5 * t[...,0] + 0.01, scale=tf.math.softplus(0.001*t[...,1]+0.03)#this part is important\n",
    "            #loc=2.5 * t[...,0] + 0.01, scale=tf.math.softplus(t[...,1])#this part is important\n",
    "        ),\n",
    "        convert_to_tensor_fn=lambda s: s.mean()\n",
    "    )(ms)\n",
    "    \n",
    "    model = Model(inputs=inputs, outputs=outputs)\n",
    "    \n",
    "    model.compile(\n",
    "        optimizer=tf.optimizers.Adam(learning_rate=lr),\n",
    "        loss=lambda y, p_y: -p_y.log_prob(y),\n",
    "        metrics=[RootMeanSquaredError()]\n",
    "    )\n",
    "    \n",
    "    return model"
   ]
  },
  {
   "cell_type": "code",
   "execution_count": 37,
   "metadata": {},
   "outputs": [
    {
     "name": "stdout",
     "output_type": "stream",
     "text": [
      "mean number of epochs: 59.7\n",
      "Std: 9.716\n"
     ]
    }
   ],
   "source": [
    "X = np.array(df_station[columns])\n",
    "Y = np.array(df_station['data_in'])\n",
    "# model = define_hetero_model(input_dim=len(columns), lr=0.0005)\n",
    "\n",
    "estimated_epochs = estimate_epochs(\n",
    "    X=X, Y=Y,\n",
    "    model_func=define_hetero_model,\n",
    "    model_params={\"input_dim\": len(columns), \"lr\": 0.0005},\n",
    "    n_iter=10\n",
    ") # this part does not have noise in the dataset,,, and it does not reset the model..."
   ]
  },
  {
   "cell_type": "code",
   "execution_count": 39,
   "metadata": {},
   "outputs": [
    {
     "name": "stdout",
     "output_type": "stream",
     "text": [
      "Epoch 1/59\n",
      "107/107 [==============================] - 3s 18ms/step - loss: 122.7263 - root_mean_squared_error: 1.6370\n",
      "Epoch 2/59\n",
      "107/107 [==============================] - 2s 18ms/step - loss: 21.5805 - root_mean_squared_error: 1.0951\n",
      "Epoch 3/59\n",
      "107/107 [==============================] - 2s 18ms/step - loss: 4.5666 - root_mean_squared_error: 0.8185\n",
      "Epoch 4/59\n",
      "107/107 [==============================] - 2s 19ms/step - loss: 1.5557 - root_mean_squared_error: 0.6481\n",
      "Epoch 5/59\n",
      "107/107 [==============================] - 2s 18ms/step - loss: 1.0173 - root_mean_squared_error: 0.5931\n",
      "Epoch 6/59\n",
      "107/107 [==============================] - 2s 18ms/step - loss: 0.8658 - root_mean_squared_error: 0.5280\n",
      "Epoch 7/59\n",
      "107/107 [==============================] - 2s 18ms/step - loss: 0.8086 - root_mean_squared_error: 0.4833\n",
      "Epoch 8/59\n",
      "107/107 [==============================] - 2s 19ms/step - loss: 0.8267 - root_mean_squared_error: 0.5033\n",
      "Epoch 9/59\n",
      "107/107 [==============================] - 2s 20ms/step - loss: 0.7494 - root_mean_squared_error: 0.4195\n",
      "Epoch 10/59\n",
      "107/107 [==============================] - 2s 19ms/step - loss: 0.7710 - root_mean_squared_error: 0.4445\n",
      "Epoch 11/59\n",
      "107/107 [==============================] - 2s 18ms/step - loss: 0.7397 - root_mean_squared_error: 0.4078\n",
      "Epoch 12/59\n",
      "107/107 [==============================] - 2s 19ms/step - loss: 0.7044 - root_mean_squared_error: 0.3618\n",
      "Epoch 13/59\n",
      "107/107 [==============================] - 2s 19ms/step - loss: 0.7359 - root_mean_squared_error: 0.4031\n",
      "Epoch 14/59\n",
      "107/107 [==============================] - 2s 18ms/step - loss: 0.7103 - root_mean_squared_error: 0.3699\n",
      "Epoch 15/59\n",
      "107/107 [==============================] - 2s 18ms/step - loss: 0.6981 - root_mean_squared_error: 0.3529\n",
      "Epoch 16/59\n",
      "107/107 [==============================] - 2s 18ms/step - loss: 0.6917 - root_mean_squared_error: 0.3438\n",
      "Epoch 17/59\n",
      "107/107 [==============================] - 2s 18ms/step - loss: 0.6956 - root_mean_squared_error: 0.3495\n",
      "Epoch 18/59\n",
      "107/107 [==============================] - 2s 18ms/step - loss: 0.6785 - root_mean_squared_error: 0.3241\n",
      "Epoch 19/59\n",
      "107/107 [==============================] - 2s 19ms/step - loss: 0.6674 - root_mean_squared_error: 0.3063\n",
      "Epoch 20/59\n",
      "107/107 [==============================] - 2s 18ms/step - loss: 0.6904 - root_mean_squared_error: 0.3420\n",
      "Epoch 21/59\n",
      "107/107 [==============================] - 2s 18ms/step - loss: 0.7069 - root_mean_squared_error: 0.3654\n",
      "Epoch 22/59\n",
      "107/107 [==============================] - 2s 18ms/step - loss: 0.6928 - root_mean_squared_error: 0.3455\n",
      "Epoch 23/59\n",
      "107/107 [==============================] - 2s 18ms/step - loss: 0.6829 - root_mean_squared_error: 0.3310\n",
      "Epoch 24/59\n",
      "107/107 [==============================] - 2s 18ms/step - loss: 0.6780 - root_mean_squared_error: 0.3235\n",
      "Epoch 25/59\n",
      "107/107 [==============================] - 2s 18ms/step - loss: 0.6588 - root_mean_squared_error: 0.2923\n",
      "Epoch 26/59\n",
      "107/107 [==============================] - 2s 18ms/step - loss: 0.6795 - root_mean_squared_error: 0.3259\n",
      "Epoch 27/59\n",
      "107/107 [==============================] - 2s 19ms/step - loss: 0.6643 - root_mean_squared_error: 0.3016\n",
      "Epoch 28/59\n",
      "107/107 [==============================] - 2s 19ms/step - loss: 0.7163 - root_mean_squared_error: 0.3783\n",
      "Epoch 29/59\n",
      "107/107 [==============================] - 2s 18ms/step - loss: 0.6645 - root_mean_squared_error: 0.3020\n",
      "Epoch 30/59\n",
      "107/107 [==============================] - 2s 18ms/step - loss: 0.6822 - root_mean_squared_error: 0.3302\n",
      "Epoch 31/59\n",
      "107/107 [==============================] - 2s 18ms/step - loss: 0.6784 - root_mean_squared_error: 0.3244\n",
      "Epoch 32/59\n",
      "107/107 [==============================] - 2s 18ms/step - loss: 0.6720 - root_mean_squared_error: 0.3143\n",
      "Epoch 33/59\n",
      "107/107 [==============================] - 2s 18ms/step - loss: 0.6537 - root_mean_squared_error: 0.2837\n",
      "Epoch 34/59\n",
      "107/107 [==============================] - 2s 18ms/step - loss: 0.6695 - root_mean_squared_error: 0.3105\n",
      "Epoch 35/59\n",
      "107/107 [==============================] - 2s 18ms/step - loss: 0.6623 - root_mean_squared_error: 0.2986\n",
      "Epoch 36/59\n",
      "107/107 [==============================] - 2s 18ms/step - loss: 0.6441 - root_mean_squared_error: 0.2665\n",
      "Epoch 37/59\n",
      "107/107 [==============================] - 2s 18ms/step - loss: 0.6450 - root_mean_squared_error: 0.2681\n",
      "Epoch 38/59\n",
      "107/107 [==============================] - 2s 18ms/step - loss: 0.6449 - root_mean_squared_error: 0.2680\n",
      "Epoch 39/59\n",
      "107/107 [==============================] - 2s 18ms/step - loss: 0.6474 - root_mean_squared_error: 0.2727\n",
      "Epoch 40/59\n",
      "107/107 [==============================] - 2s 18ms/step - loss: 0.6409 - root_mean_squared_error: 0.2605\n",
      "Epoch 41/59\n",
      "107/107 [==============================] - 2s 18ms/step - loss: 0.6328 - root_mean_squared_error: 0.2447\n",
      "Epoch 42/59\n",
      "107/107 [==============================] - 2s 19ms/step - loss: 0.6387 - root_mean_squared_error: 0.2565\n",
      "Epoch 43/59\n",
      "107/107 [==============================] - 2s 18ms/step - loss: 0.6652 - root_mean_squared_error: 0.3039\n",
      "Epoch 44/59\n",
      "107/107 [==============================] - 2s 18ms/step - loss: 0.6386 - root_mean_squared_error: 0.2565\n",
      "Epoch 45/59\n",
      "107/107 [==============================] - 2s 19ms/step - loss: 0.6515 - root_mean_squared_error: 0.2805\n",
      "Epoch 46/59\n",
      "107/107 [==============================] - 2s 19ms/step - loss: 0.6534 - root_mean_squared_error: 0.2839\n",
      "Epoch 47/59\n",
      "107/107 [==============================] - 2s 18ms/step - loss: 0.6542 - root_mean_squared_error: 0.2854\n",
      "Epoch 48/59\n",
      "107/107 [==============================] - 2s 18ms/step - loss: 0.6654 - root_mean_squared_error: 0.3044\n",
      "Epoch 49/59\n",
      "107/107 [==============================] - 2s 19ms/step - loss: 0.6530 - root_mean_squared_error: 0.2835\n",
      "Epoch 50/59\n",
      "107/107 [==============================] - 2s 19ms/step - loss: 0.6448 - root_mean_squared_error: 0.2686\n",
      "Epoch 51/59\n",
      "107/107 [==============================] - 2s 18ms/step - loss: 0.6295 - root_mean_squared_error: 0.2384\n",
      "Epoch 52/59\n",
      "107/107 [==============================] - 2s 19ms/step - loss: 0.6291 - root_mean_squared_error: 0.2378\n",
      "Epoch 53/59\n",
      "107/107 [==============================] - 2s 19ms/step - loss: 0.6267 - root_mean_squared_error: 0.2327\n",
      "Epoch 54/59\n",
      "107/107 [==============================] - 2s 19ms/step - loss: 0.6484 - root_mean_squared_error: 0.2755\n",
      "Epoch 55/59\n",
      "107/107 [==============================] - 2s 18ms/step - loss: 0.6595 - root_mean_squared_error: 0.2950\n",
      "Epoch 56/59\n",
      "107/107 [==============================] - 2s 18ms/step - loss: 0.6200 - root_mean_squared_error: 0.2181\n",
      "Epoch 57/59\n",
      "107/107 [==============================] - 2s 19ms/step - loss: 0.6314 - root_mean_squared_error: 0.2430\n",
      "Epoch 58/59\n",
      "107/107 [==============================] - 2s 18ms/step - loss: 0.6399 - root_mean_squared_error: 0.2599\n",
      "Epoch 59/59\n",
      "107/107 [==============================] - 2s 18ms/step - loss: 0.6397 - root_mean_squared_error: 0.2595\n",
      "Epoch 1/59\n",
      "107/107 [==============================] - 3s 18ms/step - loss: 114.1598 - root_mean_squared_error: 1.8066\n",
      "Epoch 2/59\n",
      "107/107 [==============================] - 2s 19ms/step - loss: 21.3579 - root_mean_squared_error: 1.1079\n",
      "Epoch 3/59\n",
      "107/107 [==============================] - 2s 18ms/step - loss: 4.8581 - root_mean_squared_error: 0.8337\n",
      "Epoch 4/59\n",
      "107/107 [==============================] - 2s 18ms/step - loss: 1.6869 - root_mean_squared_error: 0.6823\n",
      "Epoch 5/59\n",
      "107/107 [==============================] - 2s 18ms/step - loss: 1.1030 - root_mean_squared_error: 0.6489\n",
      "Epoch 6/59\n",
      "107/107 [==============================] - 2s 17ms/step - loss: 0.8205 - root_mean_squared_error: 0.4807\n",
      "Epoch 7/59\n",
      "107/107 [==============================] - 2s 18ms/step - loss: 0.8285 - root_mean_squared_error: 0.5033\n",
      "Epoch 8/59\n",
      "107/107 [==============================] - 2s 19ms/step - loss: 0.8343 - root_mean_squared_error: 0.5109\n",
      "Epoch 9/59\n",
      "107/107 [==============================] - 2s 19ms/step - loss: 0.7502 - root_mean_squared_error: 0.4205\n",
      "Epoch 10/59\n",
      "107/107 [==============================] - 2s 18ms/step - loss: 0.7611 - root_mean_squared_error: 0.4333\n",
      "Epoch 11/59\n",
      "107/107 [==============================] - 2s 18ms/step - loss: 0.7429 - root_mean_squared_error: 0.4116\n",
      "Epoch 12/59\n",
      "107/107 [==============================] - 2s 18ms/step - loss: 0.7061 - root_mean_squared_error: 0.3641\n",
      "Epoch 13/59\n",
      "107/107 [==============================] - 2s 19ms/step - loss: 0.7082 - root_mean_squared_error: 0.3669\n",
      "Epoch 14/59\n",
      "107/107 [==============================] - 2s 19ms/step - loss: 0.7161 - root_mean_squared_error: 0.3776\n",
      "Epoch 15/59\n",
      "107/107 [==============================] - 2s 19ms/step - loss: 0.7002 - root_mean_squared_error: 0.3559\n",
      "Epoch 16/59\n",
      "107/107 [==============================] - 2s 19ms/step - loss: 0.7026 - root_mean_squared_error: 0.3592\n",
      "Epoch 17/59\n",
      "107/107 [==============================] - 2s 19ms/step - loss: 0.7169 - root_mean_squared_error: 0.3788\n",
      "Epoch 18/59\n",
      "107/107 [==============================] - 2s 18ms/step - loss: 0.6964 - root_mean_squared_error: 0.3505\n",
      "Epoch 19/59\n",
      "107/107 [==============================] - 2s 19ms/step - loss: 0.6873 - root_mean_squared_error: 0.3373\n",
      "Epoch 20/59\n",
      "107/107 [==============================] - 2s 19ms/step - loss: 0.6672 - root_mean_squared_error: 0.3059\n",
      "Epoch 21/59\n",
      "107/107 [==============================] - 2s 19ms/step - loss: 0.7044 - root_mean_squared_error: 0.3618\n",
      "Epoch 22/59\n",
      "107/107 [==============================] - 2s 19ms/step - loss: 0.6672 - root_mean_squared_error: 0.3060\n",
      "Epoch 23/59\n",
      "107/107 [==============================] - 2s 18ms/step - loss: 0.6807 - root_mean_squared_error: 0.3273\n",
      "Epoch 24/59\n",
      "107/107 [==============================] - 2s 18ms/step - loss: 0.6910 - root_mean_squared_error: 0.3428\n",
      "Epoch 25/59\n",
      "107/107 [==============================] - 2s 18ms/step - loss: 0.6919 - root_mean_squared_error: 0.3442\n",
      "Epoch 26/59\n",
      "107/107 [==============================] - 2s 18ms/step - loss: 0.6947 - root_mean_squared_error: 0.3483\n",
      "Epoch 27/59\n",
      "107/107 [==============================] - 2s 18ms/step - loss: 0.6767 - root_mean_squared_error: 0.3213\n",
      "Epoch 28/59\n",
      "107/107 [==============================] - 2s 19ms/step - loss: 0.6677 - root_mean_squared_error: 0.3070\n",
      "Epoch 29/59\n",
      "107/107 [==============================] - 2s 19ms/step - loss: 0.6682 - root_mean_squared_error: 0.3079\n",
      "Epoch 30/59\n",
      "107/107 [==============================] - 2s 18ms/step - loss: 0.6828 - root_mean_squared_error: 0.3308\n",
      "Epoch 31/59\n",
      "107/107 [==============================] - 2s 18ms/step - loss: 0.6842 - root_mean_squared_error: 0.3329\n",
      "Epoch 32/59\n",
      "107/107 [==============================] - 2s 18ms/step - loss: 0.6821 - root_mean_squared_error: 0.3298\n",
      "Epoch 33/59\n",
      "107/107 [==============================] - 2s 19ms/step - loss: 0.6984 - root_mean_squared_error: 0.3538\n",
      "Epoch 34/59\n",
      "107/107 [==============================] - 2s 18ms/step - loss: 0.7052 - root_mean_squared_error: 0.3633\n",
      "Epoch 35/59\n",
      "107/107 [==============================] - 2s 18ms/step - loss: 0.6646 - root_mean_squared_error: 0.3021\n",
      "Epoch 36/59\n",
      "107/107 [==============================] - 2s 18ms/step - loss: 0.6519 - root_mean_squared_error: 0.2804\n",
      "Epoch 37/59\n",
      "107/107 [==============================] - 2s 19ms/step - loss: 0.6519 - root_mean_squared_error: 0.2803\n",
      "Epoch 38/59\n",
      "107/107 [==============================] - 2s 18ms/step - loss: 0.6649 - root_mean_squared_error: 0.3028\n",
      "Epoch 39/59\n",
      "107/107 [==============================] - 2s 18ms/step - loss: 0.6380 - root_mean_squared_error: 0.2544\n",
      "Epoch 40/59\n",
      "107/107 [==============================] - 2s 18ms/step - loss: 0.6572 - root_mean_squared_error: 0.2899\n",
      "Epoch 41/59\n",
      "107/107 [==============================] - 2s 18ms/step - loss: 0.6616 - root_mean_squared_error: 0.2974\n",
      "Epoch 42/59\n",
      "107/107 [==============================] - 2s 19ms/step - loss: 0.6383 - root_mean_squared_error: 0.2551\n",
      "Epoch 43/59\n",
      "107/107 [==============================] - 2s 18ms/step - loss: 0.6521 - root_mean_squared_error: 0.2810\n",
      "Epoch 44/59\n",
      "107/107 [==============================] - 2s 18ms/step - loss: 0.6564 - root_mean_squared_error: 0.2887\n",
      "Epoch 45/59\n",
      "107/107 [==============================] - 2s 19ms/step - loss: 0.6540 - root_mean_squared_error: 0.2845\n",
      "Epoch 46/59\n",
      "107/107 [==============================] - 2s 18ms/step - loss: 0.6445 - root_mean_squared_error: 0.2674\n",
      "Epoch 47/59\n",
      "107/107 [==============================] - 2s 19ms/step - loss: 0.6670 - root_mean_squared_error: 0.3066\n",
      "Epoch 48/59\n",
      "107/107 [==============================] - 2s 19ms/step - loss: 0.6381 - root_mean_squared_error: 0.2552\n",
      "Epoch 49/59\n",
      "107/107 [==============================] - 2s 19ms/step - loss: 0.6296 - root_mean_squared_error: 0.2380\n",
      "Epoch 50/59\n",
      "107/107 [==============================] - 2s 19ms/step - loss: 0.6377 - root_mean_squared_error: 0.2544\n",
      "Epoch 51/59\n",
      "107/107 [==============================] - 2s 18ms/step - loss: 0.6389 - root_mean_squared_error: 0.2570\n",
      "Epoch 52/59\n",
      "107/107 [==============================] - 2s 19ms/step - loss: 0.6278 - root_mean_squared_error: 0.2343\n",
      "Epoch 53/59\n",
      "107/107 [==============================] - 2s 18ms/step - loss: 0.6268 - root_mean_squared_error: 0.2324\n",
      "Epoch 54/59\n",
      "107/107 [==============================] - 2s 18ms/step - loss: 0.6480 - root_mean_squared_error: 0.2742\n",
      "Epoch 55/59\n",
      "107/107 [==============================] - 2s 18ms/step - loss: 0.6723 - root_mean_squared_error: 0.3155\n",
      "Epoch 56/59\n",
      "107/107 [==============================] - 2s 19ms/step - loss: 0.6477 - root_mean_squared_error: 0.2738\n",
      "Epoch 57/59\n",
      "107/107 [==============================] - 2s 18ms/step - loss: 0.6542 - root_mean_squared_error: 0.2855\n",
      "Epoch 58/59\n",
      "107/107 [==============================] - 2s 18ms/step - loss: 0.6249 - root_mean_squared_error: 0.2285\n",
      "Epoch 59/59\n",
      "107/107 [==============================] - 2s 18ms/step - loss: 0.6256 - root_mean_squared_error: 0.2301\n",
      "Epoch 1/59\n",
      "107/107 [==============================] - 3s 18ms/step - loss: 138.8246 - root_mean_squared_error: 1.7561\n",
      "Epoch 2/59\n",
      "107/107 [==============================] - 2s 19ms/step - loss: 29.3464 - root_mean_squared_error: 1.0939\n",
      "Epoch 3/59\n",
      "107/107 [==============================] - 2s 19ms/step - loss: 7.3174 - root_mean_squared_error: 0.8328\n",
      "Epoch 4/59\n",
      "107/107 [==============================] - 2s 18ms/step - loss: 2.3997 - root_mean_squared_error: 0.6928\n",
      "Epoch 5/59\n",
      "107/107 [==============================] - 2s 19ms/step - loss: 1.2047 - root_mean_squared_error: 0.5874\n",
      "Epoch 6/59\n",
      "107/107 [==============================] - 2s 18ms/step - loss: 0.9084 - root_mean_squared_error: 0.5286\n",
      "Epoch 7/59\n",
      "107/107 [==============================] - 2s 18ms/step - loss: 0.8312 - root_mean_squared_error: 0.4982\n",
      "Epoch 8/59\n",
      "107/107 [==============================] - 2s 19ms/step - loss: 0.7866 - root_mean_squared_error: 0.4603\n",
      "Epoch 9/59\n",
      "107/107 [==============================] - 2s 18ms/step - loss: 0.7992 - root_mean_squared_error: 0.4752\n",
      "Epoch 10/59\n",
      "107/107 [==============================] - 2s 18ms/step - loss: 0.7773 - root_mean_squared_error: 0.4516\n",
      "Epoch 11/59\n",
      "107/107 [==============================] - 2s 19ms/step - loss: 0.7268 - root_mean_squared_error: 0.3915\n",
      "Epoch 12/59\n",
      "107/107 [==============================] - 2s 18ms/step - loss: 0.7062 - root_mean_squared_error: 0.3643\n",
      "Epoch 13/59\n",
      "107/107 [==============================] - 2s 18ms/step - loss: 0.7313 - root_mean_squared_error: 0.3973\n",
      "Epoch 14/59\n",
      "107/107 [==============================] - 2s 18ms/step - loss: 0.7048 - root_mean_squared_error: 0.3623\n",
      "Epoch 15/59\n",
      "107/107 [==============================] - 2s 18ms/step - loss: 0.7125 - root_mean_squared_error: 0.3729\n",
      "Epoch 16/59\n",
      "107/107 [==============================] - 2s 19ms/step - loss: 0.6849 - root_mean_squared_error: 0.3337\n",
      "Epoch 17/59\n",
      "107/107 [==============================] - 2s 19ms/step - loss: 0.7367 - root_mean_squared_error: 0.4042\n",
      "Epoch 18/59\n",
      "107/107 [==============================] - 2s 18ms/step - loss: 0.6942 - root_mean_squared_error: 0.3474\n",
      "Epoch 19/59\n",
      "107/107 [==============================] - 2s 18ms/step - loss: 0.6780 - root_mean_squared_error: 0.3232\n",
      "Epoch 20/59\n",
      "107/107 [==============================] - 2s 18ms/step - loss: 0.6773 - root_mean_squared_error: 0.3221\n",
      "Epoch 21/59\n",
      "107/107 [==============================] - 2s 18ms/step - loss: 0.6962 - root_mean_squared_error: 0.3503\n",
      "Epoch 22/59\n",
      "107/107 [==============================] - 2s 18ms/step - loss: 0.6925 - root_mean_squared_error: 0.3449\n",
      "Epoch 23/59\n",
      "107/107 [==============================] - 2s 18ms/step - loss: 0.6961 - root_mean_squared_error: 0.3502\n",
      "Epoch 24/59\n",
      "107/107 [==============================] - 2s 18ms/step - loss: 0.6942 - root_mean_squared_error: 0.3476\n",
      "Epoch 25/59\n",
      "107/107 [==============================] - 2s 18ms/step - loss: 0.6624 - root_mean_squared_error: 0.2981\n",
      "Epoch 26/59\n",
      "107/107 [==============================] - 2s 18ms/step - loss: 0.6605 - root_mean_squared_error: 0.2949\n",
      "Epoch 27/59\n",
      "107/107 [==============================] - 2s 18ms/step - loss: 0.6671 - root_mean_squared_error: 0.3061\n",
      "Epoch 28/59\n",
      "107/107 [==============================] - 2s 18ms/step - loss: 0.6577 - root_mean_squared_error: 0.2903\n",
      "Epoch 29/59\n",
      "107/107 [==============================] - 2s 18ms/step - loss: 0.6834 - root_mean_squared_error: 0.3318\n",
      "Epoch 30/59\n",
      "107/107 [==============================] - 2s 18ms/step - loss: 0.6662 - root_mean_squared_error: 0.3047\n",
      "Epoch 31/59\n",
      "107/107 [==============================] - 2s 18ms/step - loss: 0.6769 - root_mean_squared_error: 0.3218\n",
      "Epoch 32/59\n",
      "107/107 [==============================] - 2s 18ms/step - loss: 0.6578 - root_mean_squared_error: 0.2905\n",
      "Epoch 33/59\n",
      "107/107 [==============================] - 2s 18ms/step - loss: 0.6559 - root_mean_squared_error: 0.2873\n",
      "Epoch 34/59\n",
      "107/107 [==============================] - 2s 18ms/step - loss: 0.6622 - root_mean_squared_error: 0.2981\n",
      "Epoch 35/59\n",
      "107/107 [==============================] - 2s 18ms/step - loss: 0.6553 - root_mean_squared_error: 0.2863\n",
      "Epoch 36/59\n",
      "107/107 [==============================] - 2s 18ms/step - loss: 0.6587 - root_mean_squared_error: 0.2922\n",
      "Epoch 37/59\n",
      "107/107 [==============================] - 2s 18ms/step - loss: 0.7136 - root_mean_squared_error: 0.3748\n",
      "Epoch 38/59\n",
      "107/107 [==============================] - 2s 18ms/step - loss: 0.6681 - root_mean_squared_error: 0.3081\n",
      "Epoch 39/59\n",
      "107/107 [==============================] - 2s 18ms/step - loss: 0.6753 - root_mean_squared_error: 0.3196\n",
      "Epoch 40/59\n",
      "107/107 [==============================] - 2s 18ms/step - loss: 0.6512 - root_mean_squared_error: 0.2793\n",
      "Epoch 41/59\n",
      "107/107 [==============================] - 2s 18ms/step - loss: 0.6625 - root_mean_squared_error: 0.2989\n",
      "Epoch 42/59\n",
      "107/107 [==============================] - 2s 18ms/step - loss: 0.6493 - root_mean_squared_error: 0.2760\n",
      "Epoch 43/59\n",
      "107/107 [==============================] - 2s 18ms/step - loss: 0.6493 - root_mean_squared_error: 0.2761\n",
      "Epoch 44/59\n",
      "107/107 [==============================] - 2s 18ms/step - loss: 0.6445 - root_mean_squared_error: 0.2674\n",
      "Epoch 45/59\n",
      "107/107 [==============================] - 2s 18ms/step - loss: 0.6346 - root_mean_squared_error: 0.2481\n",
      "Epoch 46/59\n",
      "107/107 [==============================] - 2s 19ms/step - loss: 0.6526 - root_mean_squared_error: 0.2821\n",
      "Epoch 47/59\n",
      "107/107 [==============================] - 2s 18ms/step - loss: 0.6463 - root_mean_squared_error: 0.2707\n",
      "Epoch 48/59\n",
      "107/107 [==============================] - 2s 18ms/step - loss: 0.6387 - root_mean_squared_error: 0.2564\n",
      "Epoch 49/59\n",
      "107/107 [==============================] - 2s 18ms/step - loss: 0.6607 - root_mean_squared_error: 0.2964\n",
      "Epoch 50/59\n",
      "107/107 [==============================] - 2s 18ms/step - loss: 0.6275 - root_mean_squared_error: 0.2336\n",
      "Epoch 51/59\n",
      "107/107 [==============================] - 2s 18ms/step - loss: 0.6284 - root_mean_squared_error: 0.2358\n",
      "Epoch 52/59\n",
      "107/107 [==============================] - 2s 19ms/step - loss: 0.6594 - root_mean_squared_error: 0.2942\n",
      "Epoch 53/59\n",
      "107/107 [==============================] - 2s 18ms/step - loss: 0.6448 - root_mean_squared_error: 0.2683\n",
      "Epoch 54/59\n",
      "107/107 [==============================] - 2s 18ms/step - loss: 0.6393 - root_mean_squared_error: 0.2580\n",
      "Epoch 55/59\n",
      "107/107 [==============================] - 2s 18ms/step - loss: 0.6381 - root_mean_squared_error: 0.2556\n",
      "Epoch 56/59\n",
      "107/107 [==============================] - 2s 18ms/step - loss: 0.6421 - root_mean_squared_error: 0.2635\n",
      "Epoch 57/59\n",
      "107/107 [==============================] - 2s 18ms/step - loss: 0.6339 - root_mean_squared_error: 0.2476\n",
      "Epoch 58/59\n",
      "107/107 [==============================] - 2s 18ms/step - loss: 0.6294 - root_mean_squared_error: 0.2383\n",
      "Epoch 59/59\n",
      "107/107 [==============================] - 2s 18ms/step - loss: 0.6409 - root_mean_squared_error: 0.2614\n",
      "Epoch 1/59\n",
      "108/108 [==============================] - 3s 18ms/step - loss: 121.6158 - root_mean_squared_error: 1.6914\n",
      "Epoch 2/59\n",
      "108/108 [==============================] - 2s 18ms/step - loss: 23.4675 - root_mean_squared_error: 1.0321\n",
      "Epoch 3/59\n",
      "108/108 [==============================] - 2s 18ms/step - loss: 5.9625 - root_mean_squared_error: 0.8606\n",
      "Epoch 4/59\n",
      "108/108 [==============================] - 2s 18ms/step - loss: 1.9864 - root_mean_squared_error: 0.6124\n",
      "Epoch 5/59\n",
      "108/108 [==============================] - 2s 18ms/step - loss: 1.0754 - root_mean_squared_error: 0.5298\n",
      "Epoch 6/59\n",
      "108/108 [==============================] - 2s 18ms/step - loss: 0.9576 - root_mean_squared_error: 0.5850\n",
      "Epoch 7/59\n",
      "108/108 [==============================] - 2s 18ms/step - loss: 0.9043 - root_mean_squared_error: 0.5695\n",
      "Epoch 8/59\n",
      "108/108 [==============================] - 2s 18ms/step - loss: 0.7570 - root_mean_squared_error: 0.4273\n",
      "Epoch 9/59\n",
      "108/108 [==============================] - 2s 19ms/step - loss: 0.7308 - root_mean_squared_error: 0.3965\n",
      "Epoch 10/59\n",
      "108/108 [==============================] - 2s 19ms/step - loss: 0.7364 - root_mean_squared_error: 0.4036\n",
      "Epoch 11/59\n",
      "108/108 [==============================] - 2s 18ms/step - loss: 0.7420 - root_mean_squared_error: 0.4106\n",
      "Epoch 12/59\n",
      "108/108 [==============================] - 2s 19ms/step - loss: 0.7225 - root_mean_squared_error: 0.3860\n",
      "Epoch 13/59\n",
      "108/108 [==============================] - 2s 19ms/step - loss: 0.6911 - root_mean_squared_error: 0.3429\n",
      "Epoch 14/59\n",
      "108/108 [==============================] - 2s 19ms/step - loss: 0.6826 - root_mean_squared_error: 0.3302\n",
      "Epoch 15/59\n",
      "108/108 [==============================] - 2s 18ms/step - loss: 0.6936 - root_mean_squared_error: 0.3464\n",
      "Epoch 16/59\n",
      "108/108 [==============================] - 2s 19ms/step - loss: 0.6954 - root_mean_squared_error: 0.3492\n",
      "Epoch 17/59\n",
      "108/108 [==============================] - 2s 19ms/step - loss: 0.6916 - root_mean_squared_error: 0.3436\n",
      "Epoch 18/59\n",
      "108/108 [==============================] - 2s 18ms/step - loss: 0.7023 - root_mean_squared_error: 0.3590\n",
      "Epoch 19/59\n",
      "108/108 [==============================] - 2s 18ms/step - loss: 0.6781 - root_mean_squared_error: 0.3233\n",
      "Epoch 20/59\n",
      "108/108 [==============================] - 2s 19ms/step - loss: 0.7004 - root_mean_squared_error: 0.3563\n",
      "Epoch 21/59\n",
      "108/108 [==============================] - 2s 19ms/step - loss: 0.6942 - root_mean_squared_error: 0.3475\n",
      "Epoch 22/59\n",
      "108/108 [==============================] - 2s 19ms/step - loss: 0.6663 - root_mean_squared_error: 0.3046\n",
      "Epoch 23/59\n",
      "108/108 [==============================] - 2s 19ms/step - loss: 0.6906 - root_mean_squared_error: 0.3423\n",
      "Epoch 24/59\n",
      "108/108 [==============================] - 2s 18ms/step - loss: 0.7022 - root_mean_squared_error: 0.3589\n",
      "Epoch 25/59\n",
      "108/108 [==============================] - 2s 19ms/step - loss: 0.6955 - root_mean_squared_error: 0.3495\n",
      "Epoch 26/59\n",
      "108/108 [==============================] - 2s 17ms/step - loss: 0.7861 - root_mean_squared_error: 0.4615\n",
      "Epoch 27/59\n",
      "108/108 [==============================] - 2s 18ms/step - loss: 0.6718 - root_mean_squared_error: 0.3136\n",
      "Epoch 28/59\n",
      "108/108 [==============================] - 2s 18ms/step - loss: 0.6715 - root_mean_squared_error: 0.3133\n",
      "Epoch 29/59\n",
      "108/108 [==============================] - 2s 18ms/step - loss: 0.6436 - root_mean_squared_error: 0.2649\n",
      "Epoch 30/59\n",
      "108/108 [==============================] - 2s 17ms/step - loss: 0.6716 - root_mean_squared_error: 0.3135\n",
      "Epoch 31/59\n",
      "108/108 [==============================] - 2s 17ms/step - loss: 0.6894 - root_mean_squared_error: 0.3408\n",
      "Epoch 32/59\n",
      "108/108 [==============================] - 2s 18ms/step - loss: 0.6792 - root_mean_squared_error: 0.3254\n",
      "Epoch 33/59\n",
      "108/108 [==============================] - 2s 19ms/step - loss: 0.6487 - root_mean_squared_error: 0.2746\n",
      "Epoch 34/59\n",
      "108/108 [==============================] - 2s 18ms/step - loss: 0.6559 - root_mean_squared_error: 0.2875\n",
      "Epoch 35/59\n",
      "108/108 [==============================] - 2s 18ms/step - loss: 0.6856 - root_mean_squared_error: 0.3352\n",
      "Epoch 36/59\n",
      "108/108 [==============================] - 2s 18ms/step - loss: 0.6623 - root_mean_squared_error: 0.2985\n",
      "Epoch 37/59\n",
      "108/108 [==============================] - 2s 18ms/step - loss: 0.6465 - root_mean_squared_error: 0.2707\n",
      "Epoch 38/59\n",
      "108/108 [==============================] - 2s 18ms/step - loss: 0.6718 - root_mean_squared_error: 0.3140\n",
      "Epoch 39/59\n",
      "108/108 [==============================] - 2s 18ms/step - loss: 0.6402 - root_mean_squared_error: 0.2589\n",
      "Epoch 40/59\n",
      "108/108 [==============================] - 2s 19ms/step - loss: 0.6765 - root_mean_squared_error: 0.3216\n",
      "Epoch 41/59\n",
      "108/108 [==============================] - 2s 18ms/step - loss: 0.6655 - root_mean_squared_error: 0.3041\n",
      "Epoch 42/59\n",
      "108/108 [==============================] - 2s 18ms/step - loss: 0.6370 - root_mean_squared_error: 0.2528\n",
      "Epoch 43/59\n",
      "108/108 [==============================] - 2s 18ms/step - loss: 0.6649 - root_mean_squared_error: 0.3031\n",
      "Epoch 44/59\n",
      "108/108 [==============================] - 2s 18ms/step - loss: 0.6777 - root_mean_squared_error: 0.3237\n",
      "Epoch 45/59\n",
      "108/108 [==============================] - 2s 19ms/step - loss: 0.6340 - root_mean_squared_error: 0.2470\n",
      "Epoch 46/59\n",
      "108/108 [==============================] - 2s 18ms/step - loss: 0.6398 - root_mean_squared_error: 0.2586\n",
      "Epoch 47/59\n",
      "108/108 [==============================] - 2s 19ms/step - loss: 0.6481 - root_mean_squared_error: 0.2743\n",
      "Epoch 48/59\n",
      "108/108 [==============================] - 2s 18ms/step - loss: 0.7480 - root_mean_squared_error: 0.4187\n",
      "Epoch 49/59\n",
      "108/108 [==============================] - 2s 19ms/step - loss: 0.6576 - root_mean_squared_error: 0.2912\n",
      "Epoch 50/59\n",
      "108/108 [==============================] - 2s 19ms/step - loss: 0.6359 - root_mean_squared_error: 0.2511\n",
      "Epoch 51/59\n",
      "108/108 [==============================] - 2s 18ms/step - loss: 0.6362 - root_mean_squared_error: 0.2517\n",
      "Epoch 52/59\n",
      "108/108 [==============================] - 2s 18ms/step - loss: 0.6364 - root_mean_squared_error: 0.2523\n",
      "Epoch 53/59\n",
      "108/108 [==============================] - 2s 18ms/step - loss: 0.6277 - root_mean_squared_error: 0.2344\n",
      "Epoch 54/59\n",
      "108/108 [==============================] - 2s 18ms/step - loss: 0.6370 - root_mean_squared_error: 0.2536\n",
      "Epoch 55/59\n",
      "108/108 [==============================] - 2s 18ms/step - loss: 0.6296 - root_mean_squared_error: 0.2386\n",
      "Epoch 56/59\n",
      "108/108 [==============================] - 2s 18ms/step - loss: 0.6367 - root_mean_squared_error: 0.2531\n",
      "Epoch 57/59\n",
      "108/108 [==============================] - 2s 19ms/step - loss: 0.6167 - root_mean_squared_error: 0.2100\n",
      "Epoch 58/59\n",
      "108/108 [==============================] - 2s 18ms/step - loss: 0.6263 - root_mean_squared_error: 0.2319\n",
      "Epoch 59/59\n",
      "108/108 [==============================] - 2s 18ms/step - loss: 0.6353 - root_mean_squared_error: 0.2506\n",
      "Epoch 1/59\n",
      "108/108 [==============================] - 3s 18ms/step - loss: 129.6796 - root_mean_squared_error: 1.7033\n",
      "Epoch 2/59\n",
      "108/108 [==============================] - 2s 18ms/step - loss: 24.7739 - root_mean_squared_error: 1.1533\n",
      "Epoch 3/59\n",
      "108/108 [==============================] - 2s 18ms/step - loss: 5.5831 - root_mean_squared_error: 0.9034\n",
      "Epoch 4/59\n",
      "108/108 [==============================] - 2s 18ms/step - loss: 2.0596 - root_mean_squared_error: 0.8793\n",
      "Epoch 5/59\n",
      "108/108 [==============================] - 2s 18ms/step - loss: 1.0350 - root_mean_squared_error: 0.5937\n",
      "Epoch 6/59\n",
      "108/108 [==============================] - 2s 18ms/step - loss: 0.8705 - root_mean_squared_error: 0.5313\n",
      "Epoch 7/59\n",
      "108/108 [==============================] - 2s 18ms/step - loss: 0.8029 - root_mean_squared_error: 0.4772\n",
      "Epoch 8/59\n",
      "108/108 [==============================] - 2s 18ms/step - loss: 0.7999 - root_mean_squared_error: 0.4758\n",
      "Epoch 9/59\n",
      "108/108 [==============================] - 2s 19ms/step - loss: 0.8188 - root_mean_squared_error: 0.4956\n",
      "Epoch 10/59\n",
      "108/108 [==============================] - 2s 18ms/step - loss: 0.7516 - root_mean_squared_error: 0.4221\n",
      "Epoch 11/59\n",
      "108/108 [==============================] - 2s 18ms/step - loss: 0.7375 - root_mean_squared_error: 0.4050\n",
      "Epoch 12/59\n",
      "108/108 [==============================] - 2s 18ms/step - loss: 0.7107 - root_mean_squared_error: 0.3704\n",
      "Epoch 13/59\n",
      "108/108 [==============================] - 2s 18ms/step - loss: 0.7218 - root_mean_squared_error: 0.3851\n",
      "Epoch 14/59\n",
      "108/108 [==============================] - 2s 18ms/step - loss: 0.7093 - root_mean_squared_error: 0.3686\n",
      "Epoch 15/59\n",
      "108/108 [==============================] - 2s 18ms/step - loss: 0.6961 - root_mean_squared_error: 0.3500\n",
      "Epoch 16/59\n",
      "108/108 [==============================] - 2s 18ms/step - loss: 0.6821 - root_mean_squared_error: 0.3295\n",
      "Epoch 17/59\n",
      "108/108 [==============================] - 2s 19ms/step - loss: 0.7333 - root_mean_squared_error: 0.3999\n",
      "Epoch 18/59\n",
      "108/108 [==============================] - 2s 18ms/step - loss: 0.7131 - root_mean_squared_error: 0.3737\n",
      "Epoch 19/59\n",
      "108/108 [==============================] - 2s 18ms/step - loss: 0.6993 - root_mean_squared_error: 0.3547\n",
      "Epoch 20/59\n",
      "108/108 [==============================] - 2s 18ms/step - loss: 0.6726 - root_mean_squared_error: 0.3148\n",
      "Epoch 21/59\n",
      "108/108 [==============================] - 2s 18ms/step - loss: 0.6860 - root_mean_squared_error: 0.3354\n",
      "Epoch 22/59\n",
      "108/108 [==============================] - 2s 18ms/step - loss: 0.6969 - root_mean_squared_error: 0.3514\n",
      "Epoch 23/59\n",
      "108/108 [==============================] - 2s 18ms/step - loss: 0.6715 - root_mean_squared_error: 0.3130\n",
      "Epoch 24/59\n",
      "108/108 [==============================] - 2s 18ms/step - loss: 0.7289 - root_mean_squared_error: 0.3945\n",
      "Epoch 25/59\n",
      "108/108 [==============================] - 2s 18ms/step - loss: 0.6906 - root_mean_squared_error: 0.3424\n",
      "Epoch 26/59\n",
      "108/108 [==============================] - 2s 18ms/step - loss: 0.6981 - root_mean_squared_error: 0.3532\n",
      "Epoch 27/59\n",
      "108/108 [==============================] - 2s 18ms/step - loss: 0.7698 - root_mean_squared_error: 0.4435\n",
      "Epoch 28/59\n",
      "108/108 [==============================] - 2s 18ms/step - loss: 0.6667 - root_mean_squared_error: 0.3055\n",
      "Epoch 29/59\n",
      "108/108 [==============================] - 2s 19ms/step - loss: 0.7118 - root_mean_squared_error: 0.3723\n",
      "Epoch 30/59\n",
      "108/108 [==============================] - 2s 18ms/step - loss: 0.7236 - root_mean_squared_error: 0.3878\n",
      "Epoch 31/59\n",
      "108/108 [==============================] - 2s 19ms/step - loss: 0.7029 - root_mean_squared_error: 0.3601\n",
      "Epoch 32/59\n",
      "108/108 [==============================] - 2s 19ms/step - loss: 0.6505 - root_mean_squared_error: 0.2778\n",
      "Epoch 33/59\n",
      "108/108 [==============================] - 2s 18ms/step - loss: 0.6767 - root_mean_squared_error: 0.3218\n",
      "Epoch 34/59\n",
      "108/108 [==============================] - 2s 18ms/step - loss: 0.6536 - root_mean_squared_error: 0.2835\n",
      "Epoch 35/59\n",
      "108/108 [==============================] - 2s 18ms/step - loss: 0.6490 - root_mean_squared_error: 0.2753\n",
      "Epoch 36/59\n",
      "108/108 [==============================] - 2s 18ms/step - loss: 0.6505 - root_mean_squared_error: 0.2781\n",
      "Epoch 37/59\n",
      "108/108 [==============================] - 2s 18ms/step - loss: 0.6584 - root_mean_squared_error: 0.2920\n",
      "Epoch 38/59\n",
      "108/108 [==============================] - 2s 18ms/step - loss: 0.6474 - root_mean_squared_error: 0.2726\n",
      "Epoch 39/59\n",
      "108/108 [==============================] - 2s 18ms/step - loss: 0.6701 - root_mean_squared_error: 0.3115\n",
      "Epoch 40/59\n",
      "108/108 [==============================] - 2s 18ms/step - loss: 0.7207 - root_mean_squared_error: 0.3844\n",
      "Epoch 41/59\n",
      "108/108 [==============================] - 2s 18ms/step - loss: 0.6793 - root_mean_squared_error: 0.3260\n",
      "Epoch 42/59\n",
      "108/108 [==============================] - 2s 19ms/step - loss: 0.6472 - root_mean_squared_error: 0.2724\n",
      "Epoch 43/59\n",
      "108/108 [==============================] - 2s 18ms/step - loss: 0.6427 - root_mean_squared_error: 0.2640\n",
      "Epoch 44/59\n",
      "108/108 [==============================] - 2s 18ms/step - loss: 0.6407 - root_mean_squared_error: 0.2603\n",
      "Epoch 45/59\n",
      "108/108 [==============================] - 2s 18ms/step - loss: 0.6340 - root_mean_squared_error: 0.2472\n",
      "Epoch 46/59\n",
      "108/108 [==============================] - 2s 18ms/step - loss: 0.6482 - root_mean_squared_error: 0.2745\n",
      "Epoch 47/59\n",
      "108/108 [==============================] - 2s 18ms/step - loss: 0.6479 - root_mean_squared_error: 0.2740\n",
      "Epoch 48/59\n",
      "108/108 [==============================] - 2s 18ms/step - loss: 0.6438 - root_mean_squared_error: 0.2666\n",
      "Epoch 49/59\n",
      "108/108 [==============================] - 2s 18ms/step - loss: 0.6508 - root_mean_squared_error: 0.2794\n",
      "Epoch 50/59\n",
      "108/108 [==============================] - 2s 18ms/step - loss: 0.6889 - root_mean_squared_error: 0.3410\n",
      "Epoch 51/59\n",
      "108/108 [==============================] - 2s 18ms/step - loss: 0.7610 - root_mean_squared_error: 0.4341\n",
      "Epoch 52/59\n",
      "108/108 [==============================] - 2s 18ms/step - loss: 0.6947 - root_mean_squared_error: 0.3493\n",
      "Epoch 53/59\n",
      "108/108 [==============================] - 2s 18ms/step - loss: 0.6390 - root_mean_squared_error: 0.2576\n",
      "Epoch 54/59\n",
      "108/108 [==============================] - 2s 18ms/step - loss: 0.6738 - root_mean_squared_error: 0.3181\n",
      "Epoch 55/59\n",
      "108/108 [==============================] - 2s 18ms/step - loss: 0.6430 - root_mean_squared_error: 0.2654\n",
      "Epoch 56/59\n",
      "108/108 [==============================] - 2s 18ms/step - loss: 0.6339 - root_mean_squared_error: 0.2478\n",
      "Epoch 57/59\n",
      "108/108 [==============================] - 2s 18ms/step - loss: 0.6324 - root_mean_squared_error: 0.2448\n",
      "Epoch 58/59\n",
      "108/108 [==============================] - 2s 18ms/step - loss: 0.6464 - root_mean_squared_error: 0.2719\n",
      "Epoch 59/59\n",
      "108/108 [==============================] - 2s 18ms/step - loss: 0.6264 - root_mean_squared_error: 0.2322\n",
      "RMSE with NN: 1.650\n"
     ]
    }
   ],
   "source": [
    "# now fix the epoch, remove early stopping, and run cross_val_predict\n",
    "epochs = int(estimated_epochs)\n",
    "n_ensamble = 1\n",
    "y_preds = []\n",
    "for _ in range(n_ensamble):\n",
    "    yhat_nn = cross_val_predict_for_nn(# implemented in util.py\n",
    "        #model=define_hetero_model(input_dim=len(columns), lr=0.0005),\n",
    "        model_func=define_hetero_model,\n",
    "        model_params={\"input_dim\": len(columns), \"lr\": 0.0005},\n",
    "        X=X, Y=Y,\n",
    "        callback=None,\n",
    "        batch_size=64,\n",
    "        epochs=epochs,\n",
    "        early_stopping=False,\n",
    "        verbose=True,\n",
    "        add_noise=True\n",
    "    )\n",
    "    y_preds.append(yhat_nn)\n",
    "    print(f\"{_+1}/{n_ensamble}\", end='\\r')\n",
    "mean_pred = np.mean(y_preds, axis=0)\n",
    "rmse_nn = mean_squared_error(Y, mean_pred, squared=False)\n",
    "print(\"RMSE with NN: {:.3f}\".format(rmse_nn))"
   ]
  },
  {
   "cell_type": "code",
   "execution_count": 40,
   "metadata": {},
   "outputs": [
    {
     "name": "stdout",
     "output_type": "stream",
     "text": [
      "RMSE with LR: 1.654\n"
     ]
    }
   ],
   "source": [
    "linear_regression = LinearRegression()\n",
    "yhat_lr = cross_val_predict(linear_regression, X, Y, n_jobs=-1)\n",
    "rmse_lr = mean_squared_error(Y, yhat_lr, squared=False)\n",
    "print(\"RMSE with LR: {:.3f}\".format(rmse_lr))"
   ]
  },
  {
   "cell_type": "code",
   "execution_count": 41,
   "metadata": {},
   "outputs": [
    {
     "data": {
      "text/plain": [
       "<matplotlib.legend.Legend at 0x2ae522a1d450>"
      ]
     },
     "execution_count": 41,
     "metadata": {},
     "output_type": "execute_result"
    },
    {
     "data": {
      "image/png": "[encoded data removed]",
      "text/plain": [
       "<Figure size 432x288 with 1 Axes>"
      ]
     },
     "metadata": {
      "needs_background": "light"
     },
     "output_type": "display_data"
    }
   ],
   "source": [
    "fig, ax = plt.subplots(1)\n",
    "ax.scatter(Y, yhat_lr, s=3, color='b', label='linear')\n",
    "ax.scatter(Y, mean_pred, s=3, color='r', label='NN')\n",
    "ax.set_facecolor('lightgray')\n",
    "ax.plot([0, 20], [0, 20])\n",
    "ax.set_aspect('equal')\n",
    "ax.legend()"
   ]
  },
  {
   "cell_type": "code",
   "execution_count": 32,
   "metadata": {},
   "outputs": [
    {
     "data": {
      "text/plain": [
       "-0.014831897457735617"
      ]
     },
     "execution_count": 32,
     "metadata": {},
     "output_type": "execute_result"
    }
   ],
   "source": [
    "(rmse_lr - rmse_nn)/rmse_lr"
   ]
  },
  {
   "cell_type": "markdown",
   "metadata": {},
   "source": [
    "# early stopping, but every time, different train/validation split?"
   ]
  },
  {
   "cell_type": "markdown",
   "metadata": {},
   "source": [
    "<hr><hr><hr>\n",
    "\n",
    "# Disregard the rest\n",
    "<hr><hr><hr>"
   ]
  },
  {
   "cell_type": "markdown",
   "metadata": {},
   "source": [
    "# Try testing on a single station with simple single train/valid/test split"
   ]
  },
  {
   "cell_type": "code",
   "execution_count": 258,
   "metadata": {},
   "outputs": [
    {
     "name": "stdout",
     "output_type": "stream",
     "text": [
      "1114.0\n"
     ]
    }
   ],
   "source": [
    "skn = df_data['skn'].sample().values[0]\n",
    "print(f'{skn}')\n",
    "df_station = df_data[df_data['skn'] == skn]\n",
    "\n",
    "X = np.array(df_station[columns])\n",
    "Y = np.array(df_station['data_in'])\n",
    "\n",
    "Xtemp, Xtest, Ytemp, Ytest = train_test_split(X, Y, test_size=0.2, shuffle=False)\n",
    "Xtrain, Xvalid, Ytrain, Yvalid = train_test_split(Xtemp, Ytemp, test_size=0.2, shuffle=False)\n",
    "\n",
    "scaler = StandardScaler()\n",
    "\n",
    "Xtrain = scaler.fit_transform(Xtrain)\n",
    "Xvalid = scaler.transform(Xvalid)\n",
    "Xtest = scaler.transform(Xtest)"
   ]
  },
  {
   "cell_type": "code",
   "execution_count": 259,
   "metadata": {},
   "outputs": [
    {
     "name": "stdout",
     "output_type": "stream",
     "text": [
      "WARNING:tensorflow:5 out of the last 13 calls to <function Model.make_predict_function.<locals>.predict_function at 0x2b00ff79d9d0> triggered tf.function retracing. Tracing is expensive and the excessive number of tracings could be due to (1) creating @tf.function repeatedly in a loop, (2) passing tensors with different shapes, (3) passing Python objects instead of tensors. For (1), please define your @tf.function outside of the loop. For (2), @tf.function has experimental_relax_shapes=True option that relaxes argument shapes that can avoid unnecessary retracing. For (3), please refer to https://www.tensorflow.org/guide/function#controlling_retracing and https://www.tensorflow.org/api_docs/python/tf/function for  more details.\n",
      "2.6401822684077336\n"
     ]
    }
   ],
   "source": [
    "model = define_model()\n",
    "callback = tf.keras.callbacks.EarlyStopping(monitor='val_loss', patience = 5, mode='min')\n",
    "epochs=20\n",
    "\n",
    "history = model.fit(\n",
    "    Xtrain, Ytrain, \n",
    "    epochs=epochs, \n",
    "    validation_data = (Xvalid, Yvalid),\n",
    "    callbacks=[callback],\n",
    "    batch_size=64,\n",
    "    verbose=0\n",
    ")\n",
    "\n",
    "yhat = model.predict(Xtest)\n",
    "print(mean_squared_error(Ytest, yhat, squared=False))"
   ]
  },
  {
   "cell_type": "code",
   "execution_count": 260,
   "metadata": {},
   "outputs": [
    {
     "name": "stdout",
     "output_type": "stream",
     "text": [
      "2.839487093427457\n"
     ]
    }
   ],
   "source": [
    "linear_regression = LinearRegression()\n",
    "linear_regression.fit(Xtrain, Ytrain)\n",
    "yhat = linear_regression.predict(Xtest)\n",
    "\n",
    "print(mean_squared_error(Ytest, yhat, squared=False))"
   ]
  },
  {
   "cell_type": "code",
   "execution_count": 261,
   "metadata": {},
   "outputs": [
    {
     "name": "stdout",
     "output_type": "stream",
     "text": [
      "3.12209866513206\n"
     ]
    }
   ],
   "source": [
    "\n",
    "params = {'n_estimators': 260, 'learning_rate': 0.1, 'max_depth': 3, 'early_stopping_rounds': 8, 'verbosity': 0}\n",
    "xgboost = XGBRegressor(**params)\n",
    "\n",
    "xgboost.fit(Xtrain, Ytrain)\n",
    "yhat = xgboost.predict(Xtest)\n",
    "print(mean_squared_error(Ytest, yhat, squared=False))"
   ]
  },
  {
   "cell_type": "markdown",
   "metadata": {},
   "source": [
    "# Looks good. Now implement cross_val_predict for the NN model"
   ]
  },
  {
   "cell_type": "code",
   "execution_count": 21,
   "metadata": {},
   "outputs": [],
   "source": [
    "def cross_val_predict_for_nn(model, X, Y, callback, batch_size, epochs, verbose):\n",
    "    kf = KFold(n_splits=5)\n",
    "    y_pred = []\n",
    "\n",
    "    for train_index, test_index in kf.split(X):\n",
    "        Xtemp, Xtest = X[train_index], X[test_index]\n",
    "        Ytemp, Ytest = Y[train_index], Y[test_index]\n",
    "        \n",
    "        Xtrain, Xvalid, Ytrain, Yvalid = train_test_split(Xtemp, Ytemp, test_size=0.2, shuffle=True)\n",
    "        # print(Xtrain.shape, Xvalid.shape, Xtest.shape)\n",
    "        \n",
    "        # scale the input\n",
    "        scaler = StandardScaler()\n",
    "        Xtrain = scaler.fit_transform(Xtrain)\n",
    "        Xvalid = scaler.transform(Xvalid)\n",
    "        Xtest = scaler.transform(Xtest)\n",
    "        \n",
    "        model.fit(\n",
    "            Xtrain, Ytrain, epochs=epochs,\n",
    "            validation_data = (Xvalid, Yvalid),\n",
    "            callbacks=[callback],\n",
    "            batch_size=batch_size,\n",
    "            verbose=verbose\n",
    "        )\n",
    "        y_pred.extend(model.predict(Xtest).tolist())\n",
    "    \n",
    "    return np.array(y_pred)"
   ]
  },
  {
   "cell_type": "code",
   "execution_count": 315,
   "metadata": {},
   "outputs": [
    {
     "name": "stdout",
     "output_type": "stream",
     "text": [
      "2.0\n"
     ]
    },
    {
     "data": {
      "text/plain": [
       "2.271283341053673"
      ]
     },
     "execution_count": 315,
     "metadata": {},
     "output_type": "execute_result"
    }
   ],
   "source": [
    "skn = df_data['skn'].sample().values[0]\n",
    "print(f'{skn}')\n",
    "df_station = df_data[df_data['skn'] == skn]\n",
    "\n",
    "X = np.array(df_station[columns])\n",
    "Y = np.array(df_station['data_in'])\n",
    "\n",
    "model = define_model()\n",
    "callback = tf.keras.callbacks.EarlyStopping(monitor='val_loss', patience = 3, mode='min')\n",
    "epochs=20\n",
    "batch_size=64\n",
    "\n",
    "yhat = cross_val_predict_for_nn(model, X, Y, callback, batch_size, epochs, verbose=0)\n",
    "mean_squared_error(Y, yhat, squared=False)"
   ]
  },
  {
   "cell_type": "code",
   "execution_count": 316,
   "metadata": {},
   "outputs": [
    {
     "data": {
      "text/plain": [
       "2.1039270543980253"
      ]
     },
     "execution_count": 316,
     "metadata": {},
     "output_type": "execute_result"
    }
   ],
   "source": [
    "yhat = cross_val_predict(LinearRegression(), X, Y, n_jobs=-1)\n",
    "mean_squared_error(Y, yhat, squared=False)"
   ]
  },
  {
   "cell_type": "code",
   "execution_count": 12,
   "metadata": {},
   "outputs": [
    {
     "data": {
      "text/plain": [
       "(550,)"
      ]
     },
     "execution_count": 12,
     "metadata": {},
     "output_type": "execute_result"
    }
   ],
   "source": [
    "df_data['skn'].unique().shape"
   ]
  },
  {
   "cell_type": "code",
   "execution_count": 13,
   "metadata": {},
   "outputs": [
    {
     "name": "stdout",
     "output_type": "stream",
     "text": [
      "549/550\r"
     ]
    }
   ],
   "source": [
    "# try on ten random stations\n",
    "list_df_results = []\n",
    "# n_samples = 100\n",
    "# skns = df_data['skn'].sample(n=n_samples).values\n",
    "params = {'n_estimators': 260, 'learning_rate': 0.1, 'max_depth': 3, 'early_stopping_rounds': 8, 'verbosity': 0}\n",
    "skns = df_data['skn'].unique()\n",
    "n_samples = skns.shape[0]\n",
    "for i, skn in enumerate(skns):\n",
    "    df_station = df_data[df_data['skn'] == skn]\n",
    "\n",
    "    X = np.array(df_station[columns])\n",
    "    Y = np.array(df_station['data_in'])\n",
    "\n",
    "    model = define_model()\n",
    "    callback = tf.keras.callbacks.EarlyStopping(monitor='val_loss', patience = 3, mode='min')\n",
    "    epochs=20\n",
    "    batch_size=64\n",
    "\n",
    "    yhat_nn = cross_val_predict_for_nn(model, X, Y, callback, batch_size, epochs, verbose=0)\n",
    "    rmse_nn = mean_squared_error(Y, yhat_nn, squared=False)\n",
    "    \n",
    "    yhat_lr = cross_val_predict(LinearRegression(), X, Y, n_jobs=-1)\n",
    "    rmse_lr = mean_squared_error(Y, yhat_lr, squared=False)\n",
    "    \n",
    "    yhat_xgb = cross_val_predict(XGBRegressor(**params), X, Y, n_jobs=-1)\n",
    "    rmse_xgb = mean_squared_error(Y, yhat_xgb, squared=False)\n",
    "    \n",
    "    list_df_results.append(\n",
    "        pd.DataFrame({\n",
    "            \"skn\": [skn] * df_station.shape[0],\n",
    "            \"data_in\": Y,\n",
    "            \"pred_nn\": yhat_nn.reshape(-1,),\n",
    "            \"pred_lr\": yhat_lr,\n",
    "            \"pred_xgb\": yhat_xgb\n",
    "        })\n",
    "    )\n",
    "    #print(f\"SKN: {skn}\")\n",
    "    #print(\"RMSE on NN : {:.3f}\\nRMSE on LR : {:.3f}\\nRMSE on XGB: {:.3f}\".format(rmse_nn, rmse_lr, rmse_xgb))\n",
    "    print(f\"{i}/{n_samples}\", end='\\r')\n",
    "df_results = pd.concat(list_df_results)"
   ]
  },
  {
   "cell_type": "code",
   "execution_count": 21,
   "metadata": {},
   "outputs": [],
   "source": [
    "df_results.to_csv(f\"{BASE_DIR}/NN/base_model_result.csv\", index=False)"
   ]
  },
  {
   "cell_type": "markdown",
   "metadata": {},
   "source": [
    "<hr>"
   ]
  },
  {
   "cell_type": "code",
   "execution_count": 4,
   "metadata": {},
   "outputs": [],
   "source": [
    "df_results = pd.read_csv(f\"{BASE_DIR}/NN/base_model_result.csv\")"
   ]
  },
  {
   "cell_type": "code",
   "execution_count": 5,
   "metadata": {},
   "outputs": [
    {
     "data": {
      "text/plain": [
       "(3.4360513726657063, 3.4597299840862576, 3.7356976071956907)"
      ]
     },
     "execution_count": 5,
     "metadata": {},
     "output_type": "execute_result"
    }
   ],
   "source": [
    "rmse_nn = mean_squared_error(df_results['data_in'], df_results['pred_nn'], squared=False)\n",
    "rmse_lr = mean_squared_error(df_results['data_in'], df_results['pred_lr'], squared=False)\n",
    "rmse_xgb = mean_squared_error(df_results['data_in'], df_results['pred_xgb'], squared=False)\n",
    "\n",
    "rmse_nn, rmse_lr, rmse_xgb"
   ]
  },
  {
   "cell_type": "code",
   "execution_count": 6,
   "metadata": {},
   "outputs": [
    {
     "data": {
      "text/plain": [
       "<matplotlib.legend.Legend at 0x2b3980fa0370>"
      ]
     },
     "execution_count": 6,
     "metadata": {},
     "output_type": "execute_result"
    },
    {
     "data": {
      "image/png": "[encoded data removed]",
      "text/plain": [
       "<Figure size 432x288 with 1 Axes>"
      ]
     },
     "metadata": {
      "needs_background": "light"
     },
     "output_type": "display_data"
    }
   ],
   "source": [
    "fig, ax = plt.subplots(1)\n",
    "ax.scatter(df_results['data_in'], df_results['pred_xgb'], s=0.1, color='k', label='xgb')\n",
    "ax.scatter(df_results['data_in'], df_results['pred_lr'], s=0.1, color='b', label='Linear')\n",
    "ax.scatter(df_results['data_in'], df_results['pred_nn'], s=0.1, color='r', label='NN')\n",
    "ax.plot([0, 50], [0, 50])\n",
    "ax.set_aspect('equal')\n",
    "ax.legend()"
   ]
  },
  {
   "cell_type": "code",
   "execution_count": 7,
   "metadata": {},
   "outputs": [],
   "source": [
    "df_results_per_station = (\n",
    "    df_results.groupby('skn')\n",
    "    .apply(lambda group: mean_squared_error(group['data_in'], group['pred_nn'], squared=False))\n",
    "    .reset_index()\n",
    "    .rename(columns={0: \"rmse\"})\n",
    "    .sort_values(\"rmse\")\n",
    ")"
   ]
  },
  {
   "cell_type": "markdown",
   "metadata": {},
   "source": [
    "# Try heteroskedastic regression"
   ]
  },
  {
   "cell_type": "code",
   "execution_count": 80,
   "metadata": {},
   "outputs": [],
   "source": [
    "def define_hetero_model(num_inputs=20, lr=0.0065):\n",
    "    inputs = Input(shape=(num_inputs,))\n",
    "    x = Dense(units=16, activation='relu', kernel_initializer='normal')(inputs)\n",
    "    x = Dense(units=12, activation='relu', kernel_initializer='normal')(x)\n",
    "    x = Dense(units=8, activation='relu', kernel_initializer='normal')(x)\n",
    "#    x = Dropout(rate=0.3)(x)\n",
    "    \n",
    "    m = Dense(units=4, activation='relu', kernel_initializer='normal')(x)\n",
    "#    m = Dropout(rate=0.3)(m)\n",
    "    m = Dense(units=1, activation='linear', kernel_initializer='normal')(m)\n",
    "    \n",
    "    s = Dense(units=4, activation='relu', kernel_initializer='normal')(x)\n",
    "#    s = Dropout(rate=0.3)(s)\n",
    "    s = Dense(units=1, activation='linear', kernel_initializer='normal')(s)\n",
    "    \n",
    "    ms = Concatenate(axis=-1)([m, s])\n",
    "    outputs = tfp.layers.DistributionLambda(\n",
    "        make_distribution_fn=lambda t: tfd.Normal(\n",
    "            loc=t[...,0], scale=tf.math.softplus(t[...,1])#scale=tf.exp(t[..., 1])\n",
    "        ),\n",
    "        convert_to_tensor_fn=lambda s: s.mean()\n",
    "    )(ms)\n",
    "    # print(type(outputs))\n",
    "    \n",
    "    model = Model(inputs=inputs, outputs=outputs)\n",
    "    \n",
    "    model.compile(\n",
    "        optimizer=tf.optimizers.Adam(learning_rate=lr),\n",
    "        loss=lambda y, p_y: -p_y.log_prob(y),\n",
    "        metrics=[RootMeanSquaredError()]\n",
    "    )\n",
    "    \n",
    "    return model"
   ]
  },
  {
   "cell_type": "code",
   "execution_count": 81,
   "metadata": {},
   "outputs": [
    {
     "name": "stdout",
     "output_type": "stream",
     "text": [
      "station 774.1 has 431 samples\n",
      "3.7926162998934854\n",
      "4.034172788431675\n",
      "3.3909840519720076\n",
      "4.089041209360951\n",
      "3.9939947605864234\n",
      "overall: 3.7057628832079876\n",
      "avg rmse 3.8601618220489087\n"
     ]
    }
   ],
   "source": [
    "skn = df_data['skn'].sample().values[0]\n",
    "df_station = df_data[df_data['skn'] == skn]\n",
    "print(f'station {skn} has {df_station.shape[0]} samples')\n",
    "lr = 0.003\n",
    "\n",
    "X = np.array(df_station[columns[:-3]])\n",
    "Y = np.array(df_station['data_in'])\n",
    "\n",
    "callback = tf.keras.callbacks.EarlyStopping(monitor='val_loss', patience = 3, mode='min')\n",
    "epochs=20\n",
    "batch_size=64\n",
    "preds = []\n",
    "rmses = []\n",
    "for i in range(5):\n",
    "    print(f\"round {i}\", end='\\r')\n",
    "    model = define_hetero_model(num_inputs=len(columns[:-3]), lr=lr)\n",
    "    yhat = cross_val_predict_for_nn(model, X, Y, callback, batch_size, epochs, verbose=0)\n",
    "    preds.append(yhat)\n",
    "    rmse = mean_squared_error(Y, yhat, squared=False)\n",
    "    rmses.append(rmse)\n",
    "    print(rmse)\n",
    "yhat = np.array(preds).mean(axis=0)\n",
    "    \n",
    "print(\"overall:\", mean_squared_error(Y, yhat, squared=False))\n",
    "print(\"avg rmse\", np.array(rmses).mean())"
   ]
  },
  {
   "cell_type": "code",
   "execution_count": 82,
   "metadata": {},
   "outputs": [
    {
     "name": "stdout",
     "output_type": "stream",
     "text": [
      "774.1\n"
     ]
    },
    {
     "data": {
      "text/plain": [
       "3.4411540812463293"
      ]
     },
     "execution_count": 82,
     "metadata": {},
     "output_type": "execute_result"
    }
   ],
   "source": [
    "print(f'{skn}')\n",
    "df_station = df_data[df_data['skn'] == skn]\n",
    "\n",
    "X = np.array(df_station[columns])\n",
    "Y = np.array(df_station['data_in'])\n",
    "\n",
    "model = define_model(lr=lr)\n",
    "callback = tf.keras.callbacks.EarlyStopping(monitor='val_loss', patience = 3, mode='min')\n",
    "epochs=20\n",
    "batch_size=64\n",
    "\n",
    "yhat = cross_val_predict_for_nn(model, X, Y, callback, batch_size, epochs, verbose=0)\n",
    "mean_squared_error(Y, yhat, squared=False)"
   ]
  },
  {
   "cell_type": "code",
   "execution_count": 83,
   "metadata": {},
   "outputs": [
    {
     "name": "stdout",
     "output_type": "stream",
     "text": [
      "774.1\n"
     ]
    },
    {
     "data": {
      "text/plain": [
       "3.342773090850899"
      ]
     },
     "execution_count": 83,
     "metadata": {},
     "output_type": "execute_result"
    }
   ],
   "source": [
    "print(f'{skn}')\n",
    "df_station = df_data[df_data['skn'] == skn]\n",
    "\n",
    "X = np.array(df_station[columns])\n",
    "Y = np.array(df_station['data_in'])\n",
    "\n",
    "model = LinearRegression()\n",
    "\n",
    "# yhat = cross_val_predict_for_nn(model, X, Y, callback, batch_size, epochs, verbose=0)\n",
    "yhat = cross_val_predict(model, X, Y)\n",
    "mean_squared_error(Y, yhat, squared=False)"
   ]
  },
  {
   "cell_type": "code",
   "execution_count": 87,
   "metadata": {},
   "outputs": [
    {
     "name": "stdout",
     "output_type": "stream",
     "text": [
      "99/100\r"
     ]
    }
   ],
   "source": [
    "# try on ten random stations\n",
    "list_df_results = []\n",
    "n_samples = 100\n",
    "skns = df_data['skn'].sample(n=n_samples).values\n",
    "params = {'n_estimators': 260, 'learning_rate': 0.1, 'max_depth': 3, 'early_stopping_rounds': 8, 'verbosity': 0}\n",
    "# skns = df_data['skn'].unique()\n",
    "n_samples = skns.shape[0]\n",
    "for i, skn in enumerate(skns):\n",
    "    df_station = df_data[df_data['skn'] == skn]\n",
    "\n",
    "    X = np.array(df_station[columns])\n",
    "    Y = np.array(df_station['data_in'])\n",
    "\n",
    "    model = define_hetero_model()\n",
    "    callback = tf.keras.callbacks.EarlyStopping(monitor='val_loss', patience = 3, mode='min')\n",
    "    epochs=20\n",
    "    batch_size=64\n",
    "\n",
    "    yhat_hetero = cross_val_predict_for_nn(model, X, Y, callback, batch_size, epochs, verbose=0)\n",
    "    rmse_hetero = mean_squared_error(Y, yhat_hetero, squared=False)\n",
    "    \n",
    "    # yhat_lr = cross_val_predict(LinearRegression(), X, Y, n_jobs=-1)\n",
    "    # rmse_lr = mean_squared_error(Y, yhat_lr, squared=False)\n",
    "    \n",
    "    # yhat_xgb = cross_val_predict(XGBRegressor(**params), X, Y, n_jobs=-1)\n",
    "    # rmse_xgb = mean_squared_error(Y, yhat_xgb, squared=False)\n",
    "    \n",
    "    model = define_model()\n",
    "    yhat_vanila = cross_val_predict_for_nn(model, X, Y, callback, batch_size, epochs, verbose=0)\n",
    "    rmse_vanila = mean_squared_error(Y, yhat_vanila, squared=False)\n",
    "    \n",
    "    \n",
    "    list_df_results.append(\n",
    "        pd.DataFrame({\n",
    "            \"skn\": [skn] * df_station.shape[0],\n",
    "            \"data_in\": Y,\n",
    "            \"pred_hetero\": yhat_hetero.reshape(-1,),\n",
    "            \"pred_valina\": yhat_vanila.reshape(-1,),\n",
    "        })\n",
    "    )\n",
    "    #print(f\"SKN: {skn}\")\n",
    "    #print(\"RMSE on NN : {:.3f}\\nRMSE on LR : {:.3f}\\nRMSE on XGB: {:.3f}\".format(rmse_nn, rmse_lr, rmse_xgb))\n",
    "    print(f\"{i}/{n_samples}\", end='\\r')\n",
    "df_results = pd.concat(list_df_results)"
   ]
  },
  {
   "cell_type": "code",
   "execution_count": 89,
   "metadata": {},
   "outputs": [
    {
     "data": {
      "text/plain": [
       "skn\n",
       "14.0       7.931480\n",
       "39.0       1.922409\n",
       "54.0      21.563302\n",
       "58.0      26.233462\n",
       "58.1      24.297456\n",
       "            ...    \n",
       "1092.0    17.259858\n",
       "1110.0     7.644320\n",
       "1115.0    32.387569\n",
       "1133.0    13.111475\n",
       "1145.0     7.018441\n",
       "Length: 87, dtype: float64"
      ]
     },
     "execution_count": 89,
     "metadata": {},
     "output_type": "execute_result"
    }
   ],
   "source": [
    "df_results.groupby('skn').apply(lambda group: mean_squared_error(group['data_in'], group['pred_hetero']))"
   ]
  },
  {
   "cell_type": "code",
   "execution_count": 90,
   "metadata": {},
   "outputs": [
    {
     "data": {
      "text/plain": [
       "4.015111003602443"
      ]
     },
     "execution_count": 90,
     "metadata": {},
     "output_type": "execute_result"
    }
   ],
   "source": [
    "mean_squared_error(df_results['data_in'], df_results['pred_hetero'], squared=False)"
   ]
  },
  {
   "cell_type": "code",
   "execution_count": 93,
   "metadata": {},
   "outputs": [
    {
     "data": {
      "text/plain": [
       "3.877957796209424"
      ]
     },
     "execution_count": 93,
     "metadata": {},
     "output_type": "execute_result"
    }
   ],
   "source": [
    "mean_squared_error(df_results['data_in'], df_results['pred_valina'], squared=False)"
   ]
  },
  {
   "cell_type": "markdown",
   "metadata": {},
   "source": [
    "# What if we use grid data?"
   ]
  },
  {
   "cell_type": "code",
   "execution_count": 95,
   "metadata": {},
   "outputs": [
    {
     "name": "stdout",
     "output_type": "stream",
     "text": [
      "air2m_0 air1000_500_0 hgt500_0 hgt1000_0 omega500_0 pottemp1000-500_0 pottemp1000-850_0 pr_wtr_0 shum-uwnd-700_0 shum-uwnd-925_0 shum-vwnd-700_0 shum-vwnd-950_0 shum700_0 shum925_0 skt_0 slp_0 air2m_1 air1000_500_1 hgt500_1 hgt1000_1 omega500_1 pottemp1000-500_1 pottemp1000-850_1 pr_wtr_1 shum-uwnd-700_1 shum-uwnd-925_1 shum-vwnd-700_1 shum-vwnd-950_1 shum700_1 shum925_1 skt_1 slp_1 air2m_2 air1000_500_2 hgt500_2 hgt1000_2 omega500_2 pottemp1000-500_2 pottemp1000-850_2 pr_wtr_2 shum-uwnd-700_2 shum-uwnd-925_2 shum-vwnd-700_2 shum-vwnd-950_2 shum700_2 shum925_2 skt_2 slp_2 air2m_3 air1000_500_3 hgt500_3 hgt1000_3 omega500_3 pottemp1000-500_3 pottemp1000-850_3 pr_wtr_3 shum-uwnd-700_3 shum-uwnd-925_3 shum-vwnd-700_3 shum-vwnd-950_3 shum700_3 shum925_3 skt_3 slp_3 air2m_4 air1000_500_4 hgt500_4 hgt1000_4 omega500_4 pottemp1000-500_4 pottemp1000-850_4 pr_wtr_4 shum-uwnd-700_4 shum-uwnd-925_4 shum-vwnd-700_4 shum-vwnd-950_4 shum700_4 shum925_4 skt_4 slp_4 air2m_5 air1000_500_5 hgt500_5 hgt1000_5 omega500_5 pottemp1000-500_5 pottemp1000-850_5 pr_wtr_5 shum-uwnd-700_5 shum-uwnd-925_5 shum-vwnd-700_5 shum-vwnd-950_5 shum700_5 shum925_5 skt_5 slp_5 lat lon elevation season_wet season_dry "
     ]
    }
   ],
   "source": [
    "reanalysis_data = [\n",
    "    'air2m', 'air1000_500', 'hgt500', 'hgt1000', 'omega500',\n",
    "    'pottemp1000-500', 'pottemp1000-850', 'pr_wtr', 'shum-uwnd-700',\n",
    "    'shum-uwnd-925', 'shum-vwnd-700', 'shum-vwnd-950', 'shum700', 'shum925', \n",
    "    'skt', 'slp'\n",
    "]\n",
    "\n",
    "columns = []\n",
    "for i in range(6):\n",
    "    for item in reanalysis_data:\n",
    "        columns.append(f\"{item}_{i}\")\n",
    "\n",
    "columns.extend(['lat', 'lon', 'elevation', 'season_wet', 'season_dry'])\n",
    "for item in columns:\n",
    "    print(item, end=' ')"
   ]
  },
  {
   "cell_type": "code",
   "execution_count": 8,
   "metadata": {},
   "outputs": [],
   "source": [
    "# load datasets\n",
    "df_train = pd.read_csv(f\"{BASE_DIR}/train.csv\")\n",
    "df_valid = pd.read_csv(f\"{BASE_DIR}/valid.csv\")\n",
    "df_test = pd.read_csv(f\"{BASE_DIR}/test.csv\")\n",
    "df_combined = pd.concat([df_train, df_valid, df_test])"
   ]
  },
  {
   "cell_type": "code",
   "execution_count": 114,
   "metadata": {},
   "outputs": [
    {
     "name": "stdout",
     "output_type": "stream",
     "text": [
      "station 682.0 has 720 samples\n",
      "2.081006049528605\n",
      "2.0433804833535776\n",
      "3.352129575951407\n",
      "2.0750106741025838\n",
      "2.047769701340767\n",
      "overall: 2.097688875108001\n",
      "avg rmse 2.3198592968553884\n"
     ]
    }
   ],
   "source": [
    "skn = df_combined['skn'].sample().values[0]\n",
    "df_station = df_combined[df_combined['skn'] == skn]\n",
    "print(f'station {skn} has {df_station.shape[0]} samples')\n",
    "lr = 0.003\n",
    "\n",
    "X = np.array(df_station[columns[:-3]])\n",
    "Y = np.array(df_station['data_in'])\n",
    "\n",
    "callback = tf.keras.callbacks.EarlyStopping(monitor='val_loss', patience = 3, mode='min')\n",
    "epochs=20\n",
    "batch_size=64\n",
    "preds = []\n",
    "rmses = []\n",
    "for i in range(5):\n",
    "    print(f\"round {i}\", end='\\r')\n",
    "    model = define_hetero_model(num_inputs=len(columns[:-3]), lr=lr)\n",
    "    yhat = cross_val_predict_for_nn(model, X, Y, callback, batch_size, epochs, verbose=0)\n",
    "    preds.append(yhat)\n",
    "    rmse = mean_squared_error(Y, yhat, squared=False)\n",
    "    rmses.append(rmse)\n",
    "    print(rmse)\n",
    "yhat = np.array(preds).mean(axis=0)\n",
    "    \n",
    "print(\"overall:\", mean_squared_error(Y, yhat, squared=False))\n",
    "print(\"avg rmse\", np.array(rmses).mean())"
   ]
  },
  {
   "cell_type": "code",
   "execution_count": 115,
   "metadata": {},
   "outputs": [
    {
     "name": "stdout",
     "output_type": "stream",
     "text": [
      "682.0\n"
     ]
    },
    {
     "data": {
      "text/plain": [
       "1.9793833960941611"
      ]
     },
     "execution_count": 115,
     "metadata": {},
     "output_type": "execute_result"
    }
   ],
   "source": [
    "print(f'{skn}')\n",
    "df_station = df_combined[df_combined['skn'] == skn]\n",
    "\n",
    "X = np.array(df_station[columns])\n",
    "Y = np.array(df_station['data_in'])\n",
    "\n",
    "model = define_model(lr=lr, num_inputs=len(columns))\n",
    "callback = tf.keras.callbacks.EarlyStopping(monitor='val_loss', patience = 3, mode='min')\n",
    "epochs=20\n",
    "batch_size=64\n",
    "\n",
    "yhat = cross_val_predict_for_nn(model, X, Y, callback, batch_size, epochs, verbose=0)\n",
    "mean_squared_error(Y, yhat, squared=False)"
   ]
  },
  {
   "cell_type": "code",
   "execution_count": 116,
   "metadata": {},
   "outputs": [
    {
     "name": "stdout",
     "output_type": "stream",
     "text": [
      "682.0\n"
     ]
    },
    {
     "data": {
      "text/plain": [
       "2.158795735053062"
      ]
     },
     "execution_count": 116,
     "metadata": {},
     "output_type": "execute_result"
    }
   ],
   "source": [
    "print(f'{skn}')\n",
    "df_station = df_combined[df_combined['skn'] == skn]\n",
    "\n",
    "X = np.array(df_station[columns])\n",
    "Y = np.array(df_station['data_in'])\n",
    "\n",
    "model = LinearRegression()\n",
    "\n",
    "# yhat = cross_val_predict_for_nn(model, X, Y, callback, batch_size, epochs, verbose=0)\n",
    "yhat = cross_val_predict(model, X, Y)\n",
    "mean_squared_error(Y, yhat, squared=False)"
   ]
  },
  {
   "cell_type": "code",
   "execution_count": null,
   "metadata": {},
   "outputs": [
    {
     "name": "stdout",
     "output_type": "stream",
     "text": [
      "302/1992\r"
     ]
    }
   ],
   "source": [
    "results = []\n",
    "n_stations = df_combined['skn'].unique().shape[0]\n",
    "for i, skn in enumerate(df_combined['skn'].unique()):\n",
    "    df_station = df_combined[df_combined['skn'] == skn]\n",
    "    if df_station.shape[0] <= 5: continue\n",
    "        \n",
    "    df_station = df_station.sort_values(by=['year', 'month'])\n",
    "        \n",
    "    X = np.array(df_station[columns])\n",
    "    Y = np.array(df_station['data_in'])\n",
    "\n",
    "    model = define_model(lr=lr, num_inputs=len(columns))\n",
    "    callback = tf.keras.callbacks.EarlyStopping(monitor='val_loss', patience = 3, mode='min')\n",
    "    epochs=20\n",
    "    batch_size=64\n",
    "\n",
    "    yhat_nn = cross_val_predict_for_nn(model, X, Y, callback, batch_size, epochs, verbose=0)\n",
    "    \n",
    "    model = LinearRegression()\n",
    "    yhat_lr = cross_val_predict(model, X, Y)\n",
    "\n",
    "    results.append(\n",
    "        pd.DataFrame(\n",
    "            {\n",
    "                \"skn\": [skn for _ in range(X.shape[0])],\n",
    "                \"data_in\": Y,\n",
    "                \"pred_nn\": yhat_nn.reshape(-1,),\n",
    "                \"pred_lr\": yhat_lr\n",
    "            }\n",
    "        )\n",
    "    )\n",
    "    print(f\"{i}/{n_stations}\", end='\\r')"
   ]
  },
  {
   "cell_type": "code",
   "execution_count": null,
   "metadata": {},
   "outputs": [],
   "source": [
    "temp = pd.concat(results)\n",
    "print(\n",
    "    \"Overall RMSE:\\nLR: {:.3f}\\nNN: {:.3f}\\n\"\n",
    "    .format(\n",
    "        mean_squared_error(temp['data_in'], temp['pred_lr'], squared=False),\n",
    "        mean_squared_error(temp['data_in'], temp['pred_nn'], squared=False)\n",
    "    )\n",
    ")\n",
    "for skn, group in temp.groupby('skn'):\n",
    "    print(skn)\n",
    "    print(\n",
    "        \"RMSE for LR: {:.3f}\\nRMSE for NN: {:.3f}\\n\"\n",
    "        .format(\n",
    "            mean_squared_error(group['data_in'], group['pred_lr'], squared=False),\n",
    "            mean_squared_error(group['data_in'], group['pred_nn'], squared=False)\n",
    "        )\n",
    "    )"
   ]
  },
  {
   "cell_type": "code",
   "execution_count": 151,
   "metadata": {},
   "outputs": [
    {
     "data": {
      "text/plain": [
       "67.7263961044705"
      ]
     },
     "execution_count": 151,
     "metadata": {},
     "output_type": "execute_result"
    }
   ],
   "source": [
    "df_anomaly = df_combined[df_combined['skn']==5.0]\n",
    "X = df_anomaly[columns]\n",
    "Y = df_anomaly['data_in']\n",
    "\n",
    "model = LinearRegression()\n",
    "yhat = cross_val_predict(model, X, Y)\n",
    "mean_squared_error(Y, yhat, squared=False)"
   ]
  },
  {
   "cell_type": "code",
   "execution_count": 4,
   "metadata": {},
   "outputs": [],
   "source": [
    "import pandas as pd\n",
    "df_result = pd.read_csv('/home/yusukemh/github/yusukemh/StatisticalDownscaling/codes/slurm/run_scripts/nn_vs_lr_6grid/result_nn_6grids.csv')\n",
    "# load datasets\n",
    "df_train = pd.read_csv(f\"{BASE_DIR}/train.csv\")\n",
    "df_valid = pd.read_csv(f\"{BASE_DIR}/valid.csv\")\n",
    "df_test = pd.read_csv(f\"{BASE_DIR}/test.csv\")\n",
    "df_combined = pd.concat([df_train, df_valid, df_test])"
   ]
  },
  {
   "cell_type": "code",
   "execution_count": 5,
   "metadata": {},
   "outputs": [
    {
     "data": {
      "text/plain": [
       "(3.8438406584896625, 5.235264344434101)"
      ]
     },
     "execution_count": 5,
     "metadata": {},
     "output_type": "execute_result"
    }
   ],
   "source": [
    "mean_squared_error(df_result['data_in'], df_result['pred_nn'], squared=False), mean_squared_error(df_result['data_in'], df_result['pred_lr'], squared=False)"
   ]
  },
  {
   "cell_type": "code",
   "execution_count": 6,
   "metadata": {},
   "outputs": [
    {
     "name": "stdout",
     "output_type": "stream",
     "text": [
      "air2m air1000_500 hgt500 hgt1000 omega500 pottemp1000-500 pottemp1000-850 pr_wtr shum-uwnd-700 shum-uwnd-925 shum-vwnd-700 shum-vwnd-950 shum700 shum925 skt slp season_wet elevation lat lon "
     ]
    }
   ],
   "source": [
    "columns = deepcopy(LABELS)\n",
    "columns.extend([\"season_wet\", \"elevation\", \"lat\", \"lon\"])\n",
    "for item in columns:\n",
    "    print(item, end=' ')"
   ]
  },
  {
   "cell_type": "code",
   "execution_count": 7,
   "metadata": {},
   "outputs": [
    {
     "name": "stdout",
     "output_type": "stream",
     "text": [
      "1985/1992\r"
     ]
    }
   ],
   "source": [
    "ytrue = []\n",
    "yhat = []\n",
    "n_stations = df_combined['skn'].unique().shape[0]\n",
    "for i, skn in enumerate(df_combined['skn'].unique()):\n",
    "    df_station = df_combined[df_combined['skn'] == skn]\n",
    "    if df_station.shape[0] <= 5: continue\n",
    "\n",
    "    df_station = df_station.sort_values(by=['year', 'month'])\n",
    "\n",
    "    X = np.array(df_station[columns])\n",
    "    Y = np.array(df_station['data_in'])\n",
    "\n",
    "    model = LinearRegression()\n",
    "    yhat_lr = cross_val_predict(model, X, Y)\n",
    "\n",
    "    yhat.extend(yhat_lr)\n",
    "    ytrue.extend(Y)\n",
    "    \n",
    "\n",
    "    line = f\"{i}/{n_stations}\"\n",
    "    print(line, end='\\r')\n"
   ]
  },
  {
   "cell_type": "code",
   "execution_count": 8,
   "metadata": {},
   "outputs": [
    {
     "data": {
      "text/plain": [
       "4.098059025373483"
      ]
     },
     "execution_count": 8,
     "metadata": {},
     "output_type": "execute_result"
    }
   ],
   "source": [
    "mean_squared_error(ytrue, yhat, squared=False)"
   ]
  },
  {
   "cell_type": "code",
   "execution_count": 9,
   "metadata": {},
   "outputs": [
    {
     "name": "stdout",
     "output_type": "stream",
     "text": [
      "RMSE using site-specific Linear Regression models: 5.235\n",
      "RMSE using a sigle XGBost model: 3.844\n"
     ]
    }
   ],
   "source": [
    "# df_result = pd.read_csv(f\"{BASE_DIR}/SiteSpecific/result.csv\")\n",
    "\n",
    "rmse_per_station_linear = df_result.groupby(by=\"skn\").apply(lambda group: mean_squared_error(group['data_in'], group['pred_lr'], squared=False))\n",
    "rmse_per_station_nn = df_result.groupby(by=\"skn\").apply(lambda group: mean_squared_error(group['data_in'], group['pred_nn'], squared=False))\n",
    "n_data = df_result.groupby(by=\"skn\").size()\n",
    "df_rmse = pd.DataFrame({\"n_data\": n_data, \"rmse_linear\": rmse_per_station_linear, \"rmse_xgb\": rmse_per_station_nn})\n",
    "df_rmse['diff'] = df_rmse['rmse_linear'] - df_rmse['rmse_xgb']\n",
    "\n",
    "rmse_linear = mean_squared_error(df_result['data_in'], df_result['pred_lr'], squared=False)\n",
    "rmse_nn = mean_squared_error(df_result['data_in'], df_result['pred_nn'], squared=False)\n",
    "\n",
    "print(\"RMSE using site-specific Linear Regression models: {:.3f}\".format(rmse_linear))\n",
    "print(\"RMSE using a sigle XGBost model: {:.3f}\".format(rmse_nn))"
   ]
  },
  {
   "cell_type": "code",
   "execution_count": 10,
   "metadata": {},
   "outputs": [
    {
     "name": "stdout",
     "output_type": "stream",
     "text": [
      "\n"
     ]
    },
    {
     "data": {
      "image/png": "[encoded data removed]",
      "text/plain": [
       "<Figure size 1440x360 with 1 Axes>"
      ]
     },
     "metadata": {
      "needs_background": "light"
     },
     "output_type": "display_data"
    }
   ],
   "source": [
    "# df_stats = df_combined.groupby('skn').size().reset_index().rename(columns={0:\"n_data\"}).groupby(\"n_data\").size().reset_index().rename(columns={0: \"n_stations\"})\n",
    "\n",
    "fig, ax = plt.subplots(1, figsize=(20,5))\n",
    "ax.bar(\n",
    "    x=df_rmse['n_data'],\n",
    "    height=df_rmse['diff'],\n",
    "    width=1,\n",
    "    color=['b' if item >= 0 else 'r' for item in df_rmse['diff']],\n",
    "    alpha=0.3\n",
    ")\n",
    "\n",
    "\n",
    "ax.set_ylim((-100, 200))\n",
    "ax.axhline(y=0, linestyle='-', linewidth=1, color='k', alpha=0.2)\n",
    "ax.axvline(127, linewidth=1, color='orange')\n",
    "ax.set_xlabel('# of stations')\n",
    "ax.set_ylabel('RMSE in inch')\n",
    "# ax.axhline(y=100, linewidth=1, linestyle='--')\n",
    "    \n",
    "ax.set_title(\"RMSE(linear - xgb) per station: 5-fold cross validation\")\n",
    "ax.set(yscale='symlog')\n",
    "# plt.tight_layout()\n",
    "\n",
    "# ax.scatter(df_stats['n_data'], df_stats['n_stations'], s=1, c='k', marker='x')\n",
    "print()"
   ]
  },
  {
   "cell_type": "code",
   "execution_count": 11,
   "metadata": {},
   "outputs": [
    {
     "data": {
      "text/plain": [
       "(-200.0, 200.0)"
      ]
     },
     "execution_count": 11,
     "metadata": {},
     "output_type": "execute_result"
    },
    {
     "data": {
      "image/png": "[encoded data removed]",
      "text/plain": [
       "<Figure size 720x720 with 1 Axes>"
      ]
     },
     "metadata": {
      "needs_background": "light"
     },
     "output_type": "display_data"
    }
   ],
   "source": [
    "fig, ax = plt.subplots(1, figsize=(10,10))\n",
    "ax.scatter(df_result['data_in'], df_result['pred_lr'], s=0.1, color='b', label='Linear')\n",
    "ax.scatter(df_result['data_in'], df_result['pred_nn'], s=0.1, color='r', label='NN')\n",
    "ax.plot([0, 50], [0, 50])\n",
    "ax.set_aspect('equal')\n",
    "ax.legend()\n",
    "ax.set_xlim([0,200])\n",
    "ax.set_ylim([-200,200])"
   ]
  },
  {
   "cell_type": "code",
   "execution_count": 12,
   "metadata": {},
   "outputs": [],
   "source": [
    "df_rmse = pd.concat([rmse_per_station_linear, rmse_per_station_nn], axis=1).rename(columns={0: \"rmse_linear\", 1:\"rmse_nn\"})\n",
    "df_rmse = df_rmse.merge(right=df_combined[['skn', 'lat', 'lon']].drop_duplicates(), left_on='skn', right_on='skn')\n",
    "df_rmse['diff'] = df_rmse.apply(lambda row: row['rmse_linear'] - row['rmse_nn'], axis=1)"
   ]
  },
  {
   "cell_type": "code",
   "execution_count": 13,
   "metadata": {},
   "outputs": [],
   "source": [
    "size = np.power(np.clip(df_rmse['diff'], a_min=-100, a_max=0), 2)"
   ]
  },
  {
   "cell_type": "code",
   "execution_count": 14,
   "metadata": {},
   "outputs": [
    {
     "name": "stdout",
     "output_type": "stream",
     "text": [
      "\n"
     ]
    },
    {
     "data": {
      "image/png": "[encoded data removed]",
      "text/plain": [
       "<Figure size 1200x720 with 1 Axes>"
      ]
     },
     "metadata": {
      "needs_background": "light"
     },
     "output_type": "display_data"
    }
   ],
   "source": [
    "plt.figure(figsize=(10, 6), dpi=120)\n",
    "\n",
    "ax = plt.axes(projection=ccrs.PlateCarree())\n",
    "\n",
    "xmin, xmax = -160, -153\n",
    "ymin, ymax = 17.5, 22.5\n",
    "\n",
    "ax.set_xticks(np.arange(xmin, xmax+1, 2.5))\n",
    "ax.set_yticks(np.arange(ymin, ymax+1, 2.5))\n",
    "\n",
    "ax.set_xlim(xmin, xmax)\n",
    "ax.set_ylim(ymin, ymax)\n",
    "\n",
    "lon_formatter = cticker.LongitudeFormatter()\n",
    "lat_formatter = cticker.LatitudeFormatter()\n",
    "ax.xaxis.set_major_formatter(lon_formatter)\n",
    "ax.yaxis.set_major_formatter(lat_formatter)\n",
    "ax.grid(linewidth=0.1, color='black', linestyle='--')\n",
    "\n",
    "stations = plt.scatter(df_rmse[\"lon\"], df_rmse[\"lat\"], s=size, marker='o', c=df_rmse['diff'], label=\"stations\", edgecolor='none', cmap='copper')\n",
    "plt.vlines(x=np.arange(xmin, xmax+1, 2.5) - 1.25, ymin=ymin, ymax=ymax, color=\"k\", linewidth=0.1, linestyle=\"--\", alpha=0.5)\n",
    "plt.hlines(y=np.arange(ymin, ymax+1, 2.5) - 1.25 , xmin=xmin, xmax=xmax, color=\"k\", linewidth=0.1, linestyle=\"--\", alpha=0.5)\n",
    "plt.title(\"Stations where linear regression works better\", fontsize=(15))\n",
    "plt.legend()\n",
    "ax.coastlines(resolution='10m')\n",
    "print()\n",
    "# plt.savefig(f\"{BASE_DIR}/images/reanalysis_grids.png\")"
   ]
  },
  {
   "cell_type": "code",
   "execution_count": null,
   "metadata": {},
   "outputs": [],
   "source": [
    "# change the grid\n",
    "# inspect the stations\n",
    "# inspect the heteroskedastic regression\n"
   ]
  }
 ],
 "metadata": {
  "kernelspec": {
   "display_name": "tfp",
   "language": "python",
   "name": "tfp"
  },
  "language_info": {
   "codemirror_mode": {
    "name": "ipython",
    "version": 3
   },
   "file_extension": ".py",
   "mimetype": "text/x-python",
   "name": "python",
   "nbconvert_exporter": "python",
   "pygments_lexer": "ipython3",
   "version": "3.10.4"
  }
 },
 "nbformat": 4,
 "nbformat_minor": 4
}

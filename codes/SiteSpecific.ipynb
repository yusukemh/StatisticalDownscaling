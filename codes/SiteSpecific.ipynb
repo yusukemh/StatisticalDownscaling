{
 "cells": [
  {
   "cell_type": "code",
   "execution_count": 21,
   "metadata": {},
   "outputs": [
    {
     "name": "stdin",
     "output_type": "stream",
     "text": [
      "Once deleted, variables cannot be recovered. Proceed (y/[n])?  y\n"
     ]
    }
   ],
   "source": [
    "%reset"
   ]
  },
  {
   "cell_type": "code",
   "execution_count": 2,
   "metadata": {},
   "outputs": [],
   "source": [
    "# basic libraries\n",
    "import numpy as np\n",
    "import pandas as pd\n",
    "import matplotlib.pyplot as plt\n",
    "\n",
    "# sklearn\n",
    "from sklearn.linear_model import LinearRegression\n",
    "from sklearn.model_selection import train_test_split, KFold, cross_val_predict, GridSearchCV\n",
    "from sklearn.metrics import mean_squared_error\n",
    "from sklearn.preprocessing import MinMaxScaler, OneHotEncoder, StandardScaler\n",
    "from sklearn.ensemble import GradientBoostingRegressor, RandomForestRegressor\n",
    "from sklearn.svm import SVR\n",
    "from sklearn.cluster import KMeans\n",
    "\n",
    "#others\n",
    "from xgboost import XGBRegressor\n",
    "import cartopy.crs as ccrs\n",
    "import cartopy.mpl.ticker as cticker\n",
    "import time\n",
    "import xarray as xr\n",
    "import sherpa\n",
    "import time\n",
    "from scipy.spatial import Delaunay\n",
    "from scipy import interpolate\n",
    "from copy import deepcopy\n",
    "\n",
    "# enable autoreload\n",
    "%load_ext autoreload\n",
    "%autoreload 2\n",
    "# Variables from config file\n",
    "from config import BASE_DIR, FILE_NAMES, LABELS, ATTRIBUTES, BEST_MODEL_COLUMNS\n",
    "from math import pi as PI"
   ]
  },
  {
   "cell_type": "markdown",
   "metadata": {},
   "source": [
    "# Train site-specific Linear Regression and compare the results with single-model XGBoost.\n",
    "\n",
    "Input lables to use: Single observation from the closest observation, with lat, lon, seasonality, and elevation"
   ]
  },
  {
   "cell_type": "code",
   "execution_count": 3,
   "metadata": {},
   "outputs": [
    {
     "name": "stdout",
     "output_type": "stream",
     "text": [
      "air2m air1000_500 hgt500 hgt1000 omega500 pottemp1000-500 pottemp1000-850 pr_wtr shum-uwnd-700 shum-uwnd-925 shum-vwnd-700 shum-vwnd-950 shum700 shum925 skt slp data_in season_wet elevation lat lon "
     ]
    }
   ],
   "source": [
    "columns = deepcopy(LABELS)\n",
    "columns.extend([\"data_in\", \"season_wet\", \"elevation\", \"lat\", \"lon\"])\n",
    "for item in columns:\n",
    "    print(item, end=' ')\n",
    "\n",
    "# load datasets\n",
    "df_train = pd.read_csv(f\"{BASE_DIR}/train.csv\", usecols=columns + ['year', 'month', 'skn'])\n",
    "df_valid = pd.read_csv(f\"{BASE_DIR}/valid.csv\", usecols=columns + ['year', 'month', 'skn'])\n",
    "df_test = pd.read_csv(f\"{BASE_DIR}/test.csv\", usecols=columns + ['year', 'month', 'skn'])\n",
    "df_combined = pd.concat([df_train, df_valid, df_test])"
   ]
  },
  {
   "cell_type": "markdown",
   "metadata": {},
   "source": [
    "### Assign chrono-split index to each data: `n_folds = 5`"
   ]
  },
  {
   "cell_type": "code",
   "execution_count": 3,
   "metadata": {},
   "outputs": [
    {
     "name": "stdout",
     "output_type": "stream",
     "text": [
      "The numbers of examples in each fold\n",
      "172693\n",
      "172475\n",
      "173153\n",
      "174015\n",
      "173225\n"
     ]
    }
   ],
   "source": [
    "n_folds = 5\n",
    "\n",
    "df_len_by_month = pd.DataFrame(df_combined.groupby(by=[\"year\", \"month\"]).size()).reset_index().rename({0:\"len\"}, axis=1)\n",
    "df_len_by_month['cumsum'] = df_len_by_month['len'].cumsum()\n",
    "\n",
    "n_samples_total = df_len_by_month['cumsum'].iloc[-1]\n",
    "n_samples_per_fold = np.ceil(n_samples_total / n_folds)\n",
    "\n",
    "df_len_by_month['fold'] = df_len_by_month.apply(lambda row: int(row['cumsum'] / n_samples_per_fold), axis=1)\n",
    "\n",
    "print(\"The numbers of examples in each fold\")\n",
    "for fold in range(5):\n",
    "    print(df_len_by_month[df_len_by_month['fold'] == fold]['len'].sum())\n",
    "    \n",
    "df_combined = pd.merge(left=df_combined, right=df_len_by_month, left_on=[\"year\", \"month\"], right_on=[\"year\", \"month\"])"
   ]
  },
  {
   "cell_type": "markdown",
   "metadata": {},
   "source": [
    "## 1. No chrono-split"
   ]
  },
  {
   "cell_type": "code",
   "execution_count": 162,
   "metadata": {},
   "outputs": [
    {
     "name": "stdout",
     "output_type": "stream",
     "text": [
      "1991/1992\n"
     ]
    }
   ],
   "source": [
    "num_groups = df_combined['skn'].unique().shape[0]\n",
    "df_result = []\n",
    "for i, (skn, group) in enumerate(df_combined.groupby(\"skn\")):# iterate the group object\n",
    "    if group.shape[0] < 5: continue\n",
    "    # Randomize the order: this causes high variance in performance\n",
    "    group = group.sample(frac=1)\n",
    "    group = group[columns]\n",
    "    \n",
    "    Y = np.array(group[\"data_in\"])\n",
    "    X = np.array(group.drop([\"data_in\"], axis=1))\n",
    "    \n",
    "    y_pred = cross_val_predict(LinearRegression(), X, Y, cv=5, n_jobs=-1)\n",
    "    \n",
    "    group[\"prediction_multi_linear\"] = y_pred\n",
    "    df_result.append(group)\n",
    "    \n",
    "    # print out the progress\n",
    "    print(f\"{i}/{num_groups}\", end=\"\\r\")\n",
    "print()\n",
    "\n",
    "df_result = pd.concat(df_result)\n",
    "\n",
    "rmse_multi_linear = mean_squared_error(df_result['data_in'], df_result['prediction_multi_linear'], squared=False)\n",
    "print(\"RMSE with site-specific linear regression: {:.3f}\".format(rmse_multi_linear))"
   ]
  },
  {
   "cell_type": "code",
   "execution_count": 50,
   "metadata": {},
   "outputs": [
    {
     "name": "stdout",
     "output_type": "stream",
     "text": [
      "RMSE with single xgboost regression: 4.018\n"
     ]
    }
   ],
   "source": [
    "# xgb\n",
    "xgboost = XGBRegressor(\n",
    "    n_estimators=280,\n",
    "    learning_rate=0.1,\n",
    "    max_depth=9,\n",
    "    verbosity=0\n",
    ")\n",
    "\n",
    "Xtrain = np.array(df_train[columns].drop([\"data_in\"], axis=1))\n",
    "Ytrain = np.array(df_train[\"data_in\"])\n",
    "\n",
    "Xtest = np.array(df_test[columns].drop([\"data_in\"], axis=1))\n",
    "Ytest = np.array(df_test[\"data_in\"])\n",
    "\n",
    "xgboost.fit(Xtrain, Ytrain)\n",
    "yhat = xgboost.predict(Xtest)\n",
    "rmse_single_xgb = mean_squared_error(Ytest, yhat, squared=False)\n",
    "print(\"RMSE with single xgboost regression: {:.3f}\".format(rmse_single_xgb))"
   ]
  },
  {
   "cell_type": "markdown",
   "metadata": {},
   "source": [
    "## 1.1 Apply chrono split"
   ]
  },
  {
   "cell_type": "code",
   "execution_count": 20,
   "metadata": {},
   "outputs": [
    {
     "name": "stdout",
     "output_type": "stream",
     "text": [
      "1991/1992\n",
      "RMSE with site-specific linear regression: 4.098153\n"
     ]
    }
   ],
   "source": [
    "num_groups = df_combined['skn'].unique().shape[0]\n",
    "df_result = []\n",
    "for i, (skn, group) in enumerate(df_combined.groupby(\"skn\")):# iterate the group object\n",
    "    if group.shape[0] < 5: \n",
    "        # print(skn)\n",
    "        continue\n",
    "    # sort chronologically\n",
    "    # enforce chrono split\n",
    "    group.sort_values(by=[\"year\", \"month\"], inplace=True)\n",
    "    \n",
    "    Y = np.array(group[columns][\"data_in\"])\n",
    "    X = np.array(group[columns].drop([\"data_in\"], axis=1))\n",
    "    \n",
    "    y_pred = cross_val_predict(LinearRegression(), X, Y, cv=5, n_jobs=-1)\n",
    "    \n",
    "    group[\"prediction_multi_linear\"] = y_pred\n",
    "    df_result.append(group)\n",
    "    \n",
    "    # print out the progress\n",
    "    print(f\"{i}/{num_groups}\", end=\"\\r\")\n",
    "print()\n",
    "\n",
    "df_result_linear = pd.concat(df_result).sort_index()\n",
    "\n",
    "rmse_multi_linear = mean_squared_error(df_result_linear['data_in'], df_result_linear['prediction_multi_linear'], squared=False)\n",
    "print(\"RMSE with site-specific linear regression: {:.6f}\".format(rmse_multi_linear))"
   ]
  },
  {
   "cell_type": "code",
   "execution_count": 21,
   "metadata": {},
   "outputs": [
    {
     "name": "stdout",
     "output_type": "stream",
     "text": [
      "RMSE with site-specific linear regression: 4.0981529422\n"
     ]
    }
   ],
   "source": [
    "print(\"RMSE with site-specific linear regression: {:.10f}\".format(rmse_multi_linear))"
   ]
  },
  {
   "cell_type": "code",
   "execution_count": 196,
   "metadata": {},
   "outputs": [
    {
     "name": "stdout",
     "output_type": "stream",
     "text": [
      "Running the 0-th fold\n",
      "Running the 1-th fold\n",
      "Running the 2-th fold\n",
      "Running the 3-th fold\n",
      "Running the 4-th fold\n",
      "274.9581937789917\n"
     ]
    }
   ],
   "source": [
    "xgboost = XGBRegressor(\n",
    "    n_estimators=280,\n",
    "    learning_rate=0.1,\n",
    "    max_depth=9,\n",
    "    verbosity=0\n",
    ")\n",
    "\n",
    "start = time.time()\n",
    "df_result = []\n",
    "for fold in range(n_folds):\n",
    "    print(f\"Running the {fold}-th fold\")\n",
    "    df_train = df_combined[df_combined['fold'] != fold]\n",
    "    df_test = df_combined[df_combined['fold'] == fold]\n",
    "    \n",
    "    Xtrain = np.array(df_train[columns].drop(\"data_in\", axis=1))\n",
    "    Ytrain = np.array(df_train[\"data_in\"])\n",
    "    \n",
    "    Xtest = np.array(df_test[columns].drop(\"data_in\", axis=1))\n",
    "    Ytest = np.array(df_test[\"data_in\"])\n",
    "    \n",
    "    xgboost.fit(Xtrain, Ytrain)\n",
    "    \n",
    "    yhat = xgboost.predict(Xtest)\n",
    "    df_test['prediction_single_xgb'] = yhat\n",
    "    df_result.append(df_test)\n",
    "    \n",
    "end = time.time()\n",
    "\n",
    "df_result_xgb = pd.concat(df_result)\n",
    "\n",
    "print(end - start)"
   ]
  },
  {
   "cell_type": "code",
   "execution_count": 217,
   "metadata": {},
   "outputs": [],
   "source": [
    "df_result_linear[\"prediction_single_xgb\"] = df_result_xgb[\"prediction_single_xgb\"]\n",
    "df_result_linear.to_csv(f\"{BASE_DIR}/cv/chrono/result_vanila.csv\", index=False)"
   ]
  },
  {
   "cell_type": "markdown",
   "metadata": {},
   "source": [
    "<hr>"
   ]
  },
  {
   "cell_type": "code",
   "execution_count": 53,
   "metadata": {},
   "outputs": [],
   "source": [
    "df_result = pd.read_csv(f\"{BASE_DIR}/cv/chrono/result_vanila.csv\")"
   ]
  },
  {
   "cell_type": "code",
   "execution_count": 54,
   "metadata": {},
   "outputs": [],
   "source": [
    "rmse_per_station_linear = []\n",
    "rmse_per_station_xgb = []\n",
    "diff = [] # RMSE(linear) - RMSE(XGBoost)\n",
    "n_data = []\n",
    "skn = []\n",
    "for name, group in df_result.groupby(by='skn'):\n",
    "    rmse_linear = mean_squared_error(group['data_in'], group['prediction_multi_linear'], squared=False)\n",
    "    rmse_xgb = mean_squared_error(group['data_in'], group['prediction_single_xgb'], squared=False)\n",
    "    \n",
    "    rmse_per_station_linear.append(rmse_linear)\n",
    "    rmse_per_station_xgb.append(rmse_xgb)\n",
    "    diff.append(rmse_linear - rmse_xgb)\n",
    "    n_data.append(group.shape[0])\n",
    "    skn.append(name)\n",
    "    \n",
    "df_result_per_station = pd.DataFrame(\n",
    "    {\n",
    "        'skn': skn,\n",
    "        'n_data': n_data,\n",
    "        'rmse_linear': rmse_per_station_linear,\n",
    "        'rmse_xgb': rmse_per_station_xgb,\n",
    "        'diff': diff\n",
    "    }\n",
    ")"
   ]
  },
  {
   "cell_type": "code",
   "execution_count": 55,
   "metadata": {},
   "outputs": [
    {
     "name": "stdout",
     "output_type": "stream",
     "text": [
      "RMSE using site-specific Linear Regression models: 4.098\n",
      "RMSE using a sigle XGBost model: 3.998\n"
     ]
    }
   ],
   "source": [
    "rmse_linear = mean_squared_error(df_result['data_in'], df_result['prediction_multi_linear'], squared=False)\n",
    "rmse_xgb = mean_squared_error(df_result['data_in'], df_result['prediction_single_xgb'], squared=False)\n",
    "\n",
    "print(\"RMSE using site-specific Linear Regression models: {:.3f}\".format(rmse_linear))\n",
    "print(\"RMSE using a sigle XGBost model: {:.3f}\".format(rmse_xgb))"
   ]
  },
  {
   "cell_type": "markdown",
   "metadata": {},
   "source": [
    "## Conclusion: chrono split leads to better performance for some reason"
   ]
  },
  {
   "cell_type": "markdown",
   "metadata": {},
   "source": [
    "<hr>"
   ]
  },
  {
   "cell_type": "markdown",
   "metadata": {},
   "source": [
    "site-specific xgb vs site-specific linear regression for stations with large numbers of samples"
   ]
  },
  {
   "cell_type": "code",
   "execution_count": null,
   "metadata": {},
   "outputs": [],
   "source": [
    "# implement cross_val_predict so that it can report mean trainig loss as well"
   ]
  },
  {
   "cell_type": "code",
   "execution_count": 4,
   "metadata": {},
   "outputs": [
    {
     "name": "stdout",
     "output_type": "stream",
     "text": [
      "1991/1992\n"
     ]
    }
   ],
   "source": [
    "n_splits = 5\n",
    "kf = KFold(n_splits=n_splits, shuffle=False)\n",
    "num_groups = df_combined['skn'].unique().shape[0]\n",
    "\n",
    "df_combined['train_prediction_multi_linear'] = np.zeros(df_combined.shape[0])\n",
    "df_combined['test_prediction_multi_linear'] = np.empty(df_combined.shape[0])\n",
    "df_combined['test_prediction_multi_linear'][:] = np.nan\n",
    "\n",
    "for i, (skn, group) in enumerate(df_combined.groupby(\"skn\")):# iterate the group object\n",
    "    if group.shape[0] < 5: continue\n",
    "    # sort chronologically\n",
    "    # enforce chrono split\n",
    "    group.sort_values(by=[\"year\", \"month\"], inplace=True)\n",
    "    \n",
    "    Y = np.array(group[columns][\"data_in\"])\n",
    "    X = np.array(group[columns].drop([\"data_in\"], axis=1))\n",
    "    \n",
    "    for train_index, test_index in kf.split(X):\n",
    "        Xtrain, Xtest = X[train_index], X[test_index]\n",
    "        Ytrain, Ytest = Y[train_index], Y[test_index]\n",
    "        \n",
    "        linear_regression = LinearRegression()\n",
    "        linear_regression.fit(Xtrain, Ytrain)\n",
    "        \n",
    "        # get predictions on training data and test data\n",
    "        yhat_train = linear_regression.predict(Xtrain)\n",
    "        yhat_test = linear_regression.predict(Xtest)\n",
    "        \n",
    "        df_combined['test_prediction_multi_linear'].iloc[group.index[test_index]] = yhat_test\n",
    "        df_combined['train_prediction_multi_linear'].iloc[group.index[train_index]] += yhat_train * (1.0/n_splits)\n",
    "    \n",
    "    print(f\"{i}/{num_groups}\", end=\"\\r\")\n",
    "print()"
   ]
  },
  {
   "cell_type": "code",
   "execution_count": 10,
   "metadata": {},
   "outputs": [
    {
     "name": "stdout",
     "output_type": "stream",
     "text": [
      "result on linear regression\n",
      "RMSE on training prediction: 3.848\n",
      "RMSE on test prediction: 4.098\n"
     ]
    }
   ],
   "source": [
    "rmse_multi_linear_test = mean_squared_error(df_combined.dropna()[\"data_in\"], df_combined.dropna()['test_prediction_multi_linear'], squared=False)\n",
    "rmse_multi_linear_train = mean_squared_error(df_combined.dropna()[\"data_in\"], df_combined.dropna()['train_prediction_multi_linear'], squared=False)\n",
    "\n",
    "print(\"result on linear regression\")\n",
    "print(\"RMSE on training prediction: {:.3f}\".format(rmse_multi_linear_train))\n",
    "print(\"RMSE on test prediction: {:.3f}\".format(rmse_multi_linear_test))"
   ]
  },
  {
   "cell_type": "code",
   "execution_count": 9,
   "metadata": {},
   "outputs": [
    {
     "name": "stdout",
     "output_type": "stream",
     "text": [
      "Running the 0-th fold\n",
      "Running the 1-th fold\n",
      "Running the 2-th fold\n",
      "Running the 3-th fold\n",
      "Running the 4-th fold\n",
      "258.3517200946808\n"
     ]
    }
   ],
   "source": [
    "xgboost = XGBRegressor(\n",
    "    n_estimators=280,\n",
    "    learning_rate=0.1,\n",
    "    max_depth=9,\n",
    "    verbosity=0\n",
    ")\n",
    "\n",
    "start = time.time()\n",
    "\n",
    "predictions = np.zeros(df_combined.shape[0])\n",
    "data_in = []\n",
    "mean_training_prediction = np.zeros(df_combined.shape[0])\n",
    "\n",
    "df_combined['test_prediction_single_xgb'] = np.zeros(df_combined.shape[0])\n",
    "df_combined['train_prediction_single_xgb'] = np.zeros(df_combined.shape[0])\n",
    "\n",
    "\n",
    "for fold in range(n_folds):\n",
    "    print(f\"Running the {fold}-th fold\")\n",
    "    df_train = df_combined[df_combined['fold'] != fold]\n",
    "    df_test = df_combined[df_combined['fold'] == fold]\n",
    "    \n",
    "    Xtrain = np.array(df_train[columns].drop(\"data_in\", axis=1))\n",
    "    Ytrain = np.array(df_train[\"data_in\"])\n",
    "    \n",
    "    Xtest = np.array(df_test[columns].drop(\"data_in\", axis=1))\n",
    "    Ytest = np.array(df_test[\"data_in\"])\n",
    "    \n",
    "    xgboost.fit(Xtrain, Ytrain)\n",
    "    \n",
    "    yhat = xgboost.predict(Xtest)\n",
    "\n",
    "    df_combined['test_prediction_single_xgb'].iloc[df_test.index] = xgboost.predict(Xtest)\n",
    "    df_combined['train_prediction_single_xgb'].iloc[df_train.index] += xgboost.predict(Xtrain) * (1.0/n_folds)\n",
    "    \n",
    "end = time.time()\n",
    "\n",
    "print(end - start)"
   ]
  },
  {
   "cell_type": "code",
   "execution_count": 11,
   "metadata": {},
   "outputs": [
    {
     "name": "stdout",
     "output_type": "stream",
     "text": [
      "result on xgboost\n",
      "RMSE on training prediction: 2.761\n",
      "RMSE on test prediction: 3.998\n"
     ]
    }
   ],
   "source": [
    "rmse_single_xgb_test = mean_squared_error(df_combined[\"data_in\"], df_combined['test_prediction_single_xgb'], squared=False)\n",
    "rmse_single_xgb_train = mean_squared_error(df_combined[\"data_in\"], df_combined['train_prediction_single_xgb'], squared=False)\n",
    "\n",
    "print(\"result on xgboost\")\n",
    "print(\"RMSE on training prediction: {:.3f}\".format(rmse_single_xgb_train))\n",
    "print(\"RMSE on test prediction: {:.3f}\".format(rmse_single_xgb_test))"
   ]
  },
  {
   "cell_type": "code",
   "execution_count": 25,
   "metadata": {},
   "outputs": [
    {
     "name": "stdout",
     "output_type": "stream",
     "text": [
      "\n"
     ]
    },
    {
     "data": {
      "image/png": "[encoded data removed]",
      "text/plain": [
       "<Figure size 1440x360 with 2 Axes>"
      ]
     },
     "metadata": {
      "needs_background": "light"
     },
     "output_type": "display_data"
    }
   ],
   "source": [
    "fig, axs = plt.subplots(2, figsize=(20,5))\n",
    "\n",
    "diff = []\n",
    "n_data = []\n",
    "# training prediction\n",
    "for name, group in df_combined.dropna().groupby(by='skn'):\n",
    "    rmse_per_station_linear = mean_squared_error(group['data_in'], group['train_prediction_multi_linear'], squared=False)\n",
    "    rmse_per_station_xgb = mean_squared_error(group['data_in'], group['train_prediction_single_xgb'], squared=False)\n",
    "    diff.append(rmse_per_station_linear - rmse_per_station_xgb)\n",
    "    n_data.append(group.shape[0])\n",
    "\n",
    "axs[0].bar(\n",
    "    x=n_data,\n",
    "    # height=np.log(1 + df_comparison_mean['diff']),\n",
    "    height=diff,\n",
    "    # height = np.log(1 + np.array(df_result_per_station['diff'])),\n",
    "    width=1,\n",
    "    color=['b' if item >= 0 else 'r' for item in diff],\n",
    "    alpha=0.3\n",
    ")\n",
    "\n",
    "diff = []\n",
    "n_data = []\n",
    "# test prediction\n",
    "for name, group in df_combined.dropna().groupby(by='skn'):\n",
    "    rmse_per_station_linear = mean_squared_error(group['data_in'], group['test_prediction_multi_linear'], squared=False)\n",
    "    rmse_per_station_xgb = mean_squared_error(group['data_in'], group['test_prediction_single_xgb'], squared=False)\n",
    "    diff.append(rmse_per_station_linear - rmse_per_station_xgb)\n",
    "    n_data.append(group.shape[0])\n",
    " \n",
    "axs[1].bar(\n",
    "    x=n_data,\n",
    "    # height=np.log(1 + df_comparison_mean['diff']),\n",
    "    height=diff,\n",
    "    # height = np.log(1 + np.array(df_result_per_station['diff'])),\n",
    "    width=1,\n",
    "    color=['b' if item >= 0 else 'r' for item in diff],\n",
    "    alpha=0.3\n",
    ")\n",
    "for ax in axs:\n",
    "    # ax.set_ylim((-np.log(abs(np.min(diff))) - 0.5, np.log(np.max(diff)) + 0.5))\n",
    "    ax.set_ylim((-100, 200))\n",
    "    ax.axhline(y=0, linestyle='-', linewidth=1, color='k', alpha=0.2)\n",
    "    ax.axvline(127, linewidth=1, color='orange')\n",
    "    ax.set_xlabel('# of stations')\n",
    "    ax.set_ylabel('RMSE in inch')\n",
    "    \n",
    "axs[0].set_title(\"(rmse_linear - rmse_xgb) on training prediction per station\")\n",
    "axs[1].set_title(\"(rmse_linear - rmse_xgb) on test prediction per station\")\n",
    "\n",
    "axs[0].set(yscale='symlog')\n",
    "axs[1].set(yscale='symlog')\n",
    "plt.tight_layout()\n",
    "print()"
   ]
  },
  {
   "cell_type": "markdown",
   "metadata": {},
   "source": [
    "# How well can XGB interpolate the locations?\n",
    "## pt.1 visual purpose only\n",
    "## pt.2 quantitative result using LOOCV\n",
    "TODO:\n",
    "1. choose a specific year and month\n",
    "2. remove that month from the data => test set, the rest is trainig set\n",
    "3. make prediction and compare the visual<br>\n",
    "This model can have training data for all stations, so the input is more permissive than the other experiment that follows."
   ]
  },
  {
   "cell_type": "code",
   "execution_count": 33,
   "metadata": {},
   "outputs": [],
   "source": [
    "df_locations = pd.read_csv(f\"{BASE_DIR}/SKNlocations.csv\")"
   ]
  },
  {
   "cell_type": "code",
   "execution_count": 37,
   "metadata": {},
   "outputs": [
    {
     "name": "stdout",
     "output_type": "stream",
     "text": [
      "\n"
     ]
    }
   ],
   "source": [
    "test_year, test_month = 1948, 1\n",
    "\n",
    "# prepare training data. remove specific (year, month)\n",
    "df_train_temp = df_combined[(df_combined['year'] == test_year) | (df_combined['month'] == test_month)]\n",
    "# df_test_temp = df_combined[(df_combined['year'] == test_year) & (df_combined['month'] == test_month)]\n",
    "\n",
    "# make sure to drop elevation\n",
    "Xtrain = np.array(df_train_temp[columns].drop([\"data_in\", \"elevation\"], axis=1))\n",
    "Ytrain = np.array(df_train_temp.drop(\"elevation\", axis=1)[\"data_in\"])\n",
    "\n",
    "# Xtest = np.array(df_test_temp[columns].drop(\"data_in\", axis=1))\n",
    "# Ytest = np.array(df_test_temp[\"data_in\"])\n",
    "\n",
    "# train the xgb model\n",
    "xgboost = XGBRegressor(\n",
    "    n_estimators=170,\n",
    "    learning_rate=0.1,\n",
    "    max_depth=9,\n",
    "    verbosity=0\n",
    ")\n",
    "\n",
    "xgboost.fit(Xtrain, Ytrain)\n",
    "print()"
   ]
  },
  {
   "cell_type": "code",
   "execution_count": null,
   "metadata": {},
   "outputs": [],
   "source": []
  },
  {
   "cell_type": "code",
   "execution_count": 32,
   "metadata": {},
   "outputs": [
    {
     "data": {
      "text/html": [
       "<div>\n",
       "<style scoped>\n",
       "    .dataframe tbody tr th:only-of-type {\n",
       "        vertical-align: middle;\n",
       "    }\n",
       "\n",
       "    .dataframe tbody tr th {\n",
       "        vertical-align: top;\n",
       "    }\n",
       "\n",
       "    .dataframe thead th {\n",
       "        text-align: right;\n",
       "    }\n",
       "</style>\n",
       "<table border=\"1\" class=\"dataframe\">\n",
       "  <thead>\n",
       "    <tr style=\"text-align: right;\">\n",
       "      <th></th>\n",
       "      <th>skn</th>\n",
       "      <th>year</th>\n",
       "      <th>month</th>\n",
       "      <th>data_in</th>\n",
       "      <th>lat</th>\n",
       "      <th>lon</th>\n",
       "      <th>elevation</th>\n",
       "      <th>air2m</th>\n",
       "      <th>air1000_500</th>\n",
       "      <th>hgt500</th>\n",
       "      <th>...</th>\n",
       "      <th>skt</th>\n",
       "      <th>slp</th>\n",
       "      <th>season_wet</th>\n",
       "      <th>len</th>\n",
       "      <th>cumsum</th>\n",
       "      <th>fold</th>\n",
       "      <th>train_prediction_multi_linear</th>\n",
       "      <th>test_prediction_multi_linear</th>\n",
       "      <th>test_prediction_single_xgb</th>\n",
       "      <th>train_prediction_single_xgb</th>\n",
       "    </tr>\n",
       "  </thead>\n",
       "  <tbody>\n",
       "    <tr>\n",
       "      <th>0</th>\n",
       "      <td>1.00</td>\n",
       "      <td>1948</td>\n",
       "      <td>2</td>\n",
       "      <td>1.330000</td>\n",
       "      <td>18.916176</td>\n",
       "      <td>-155.674994</td>\n",
       "      <td>35.0</td>\n",
       "      <td>294.80408</td>\n",
       "      <td>32.33000</td>\n",
       "      <td>5788.7930</td>\n",
       "      <td>...</td>\n",
       "      <td>22.271116</td>\n",
       "      <td>1015.4769</td>\n",
       "      <td>1</td>\n",
       "      <td>1158</td>\n",
       "      <td>2322</td>\n",
       "      <td>0</td>\n",
       "      <td>2.531375</td>\n",
       "      <td>3.332863</td>\n",
       "      <td>4.308321</td>\n",
       "      <td>1.628675</td>\n",
       "    </tr>\n",
       "    <tr>\n",
       "      <th>1</th>\n",
       "      <td>2.00</td>\n",
       "      <td>1948</td>\n",
       "      <td>2</td>\n",
       "      <td>2.780000</td>\n",
       "      <td>19.108660</td>\n",
       "      <td>-155.825545</td>\n",
       "      <td>1750.0</td>\n",
       "      <td>294.80408</td>\n",
       "      <td>32.33000</td>\n",
       "      <td>5788.7930</td>\n",
       "      <td>...</td>\n",
       "      <td>22.271116</td>\n",
       "      <td>1015.4769</td>\n",
       "      <td>1</td>\n",
       "      <td>1158</td>\n",
       "      <td>2322</td>\n",
       "      <td>0</td>\n",
       "      <td>3.955305</td>\n",
       "      <td>4.981063</td>\n",
       "      <td>3.766231</td>\n",
       "      <td>2.228792</td>\n",
       "    </tr>\n",
       "    <tr>\n",
       "      <th>2</th>\n",
       "      <td>2.20</td>\n",
       "      <td>1948</td>\n",
       "      <td>2</td>\n",
       "      <td>1.210000</td>\n",
       "      <td>19.164740</td>\n",
       "      <td>-155.682280</td>\n",
       "      <td>4890.0</td>\n",
       "      <td>294.80408</td>\n",
       "      <td>32.33000</td>\n",
       "      <td>5788.7930</td>\n",
       "      <td>...</td>\n",
       "      <td>22.271116</td>\n",
       "      <td>1015.4769</td>\n",
       "      <td>1</td>\n",
       "      <td>1158</td>\n",
       "      <td>2322</td>\n",
       "      <td>0</td>\n",
       "      <td>4.596828</td>\n",
       "      <td>6.109449</td>\n",
       "      <td>5.522999</td>\n",
       "      <td>2.839402</td>\n",
       "    </tr>\n",
       "    <tr>\n",
       "      <th>3</th>\n",
       "      <td>2.25</td>\n",
       "      <td>1948</td>\n",
       "      <td>2</td>\n",
       "      <td>2.317491</td>\n",
       "      <td>19.160603</td>\n",
       "      <td>-155.822488</td>\n",
       "      <td>2940.0</td>\n",
       "      <td>294.80408</td>\n",
       "      <td>32.33000</td>\n",
       "      <td>5788.7930</td>\n",
       "      <td>...</td>\n",
       "      <td>22.271116</td>\n",
       "      <td>1015.4769</td>\n",
       "      <td>1</td>\n",
       "      <td>1158</td>\n",
       "      <td>2322</td>\n",
       "      <td>0</td>\n",
       "      <td>3.926767</td>\n",
       "      <td>5.125054</td>\n",
       "      <td>4.977380</td>\n",
       "      <td>2.333403</td>\n",
       "    </tr>\n",
       "    <tr>\n",
       "      <th>4</th>\n",
       "      <td>2.26</td>\n",
       "      <td>1948</td>\n",
       "      <td>2</td>\n",
       "      <td>2.516542</td>\n",
       "      <td>19.225323</td>\n",
       "      <td>-155.778876</td>\n",
       "      <td>5680.0</td>\n",
       "      <td>294.80408</td>\n",
       "      <td>32.33000</td>\n",
       "      <td>5788.7930</td>\n",
       "      <td>...</td>\n",
       "      <td>22.271116</td>\n",
       "      <td>1015.4769</td>\n",
       "      <td>1</td>\n",
       "      <td>1158</td>\n",
       "      <td>2322</td>\n",
       "      <td>0</td>\n",
       "      <td>4.074112</td>\n",
       "      <td>5.471043</td>\n",
       "      <td>4.390144</td>\n",
       "      <td>1.966406</td>\n",
       "    </tr>\n",
       "    <tr>\n",
       "      <th>...</th>\n",
       "      <td>...</td>\n",
       "      <td>...</td>\n",
       "      <td>...</td>\n",
       "      <td>...</td>\n",
       "      <td>...</td>\n",
       "      <td>...</td>\n",
       "      <td>...</td>\n",
       "      <td>...</td>\n",
       "      <td>...</td>\n",
       "      <td>...</td>\n",
       "      <td>...</td>\n",
       "      <td>...</td>\n",
       "      <td>...</td>\n",
       "      <td>...</td>\n",
       "      <td>...</td>\n",
       "      <td>...</td>\n",
       "      <td>...</td>\n",
       "      <td>...</td>\n",
       "      <td>...</td>\n",
       "      <td>...</td>\n",
       "      <td>...</td>\n",
       "    </tr>\n",
       "    <tr>\n",
       "      <th>865172</th>\n",
       "      <td>1131.70</td>\n",
       "      <td>2011</td>\n",
       "      <td>1</td>\n",
       "      <td>4.980000</td>\n",
       "      <td>22.179583</td>\n",
       "      <td>-159.466389</td>\n",
       "      <td>60.0</td>\n",
       "      <td>296.39700</td>\n",
       "      <td>32.22001</td>\n",
       "      <td>5798.4194</td>\n",
       "      <td>...</td>\n",
       "      <td>24.971304</td>\n",
       "      <td>1014.8038</td>\n",
       "      <td>1</td>\n",
       "      <td>381</td>\n",
       "      <td>857054</td>\n",
       "      <td>4</td>\n",
       "      <td>5.403887</td>\n",
       "      <td>10.191005</td>\n",
       "      <td>7.658766</td>\n",
       "      <td>5.623470</td>\n",
       "    </tr>\n",
       "    <tr>\n",
       "      <th>865173</th>\n",
       "      <td>1134.00</td>\n",
       "      <td>2011</td>\n",
       "      <td>1</td>\n",
       "      <td>4.690000</td>\n",
       "      <td>22.211941</td>\n",
       "      <td>-159.407202</td>\n",
       "      <td>315.0</td>\n",
       "      <td>296.39700</td>\n",
       "      <td>32.22001</td>\n",
       "      <td>5798.4194</td>\n",
       "      <td>...</td>\n",
       "      <td>24.971304</td>\n",
       "      <td>1014.8038</td>\n",
       "      <td>1</td>\n",
       "      <td>381</td>\n",
       "      <td>857054</td>\n",
       "      <td>4</td>\n",
       "      <td>2.776283</td>\n",
       "      <td>3.039164</td>\n",
       "      <td>6.760193</td>\n",
       "      <td>3.871440</td>\n",
       "    </tr>\n",
       "    <tr>\n",
       "      <th>865174</th>\n",
       "      <td>1137.00</td>\n",
       "      <td>2011</td>\n",
       "      <td>1</td>\n",
       "      <td>5.720000</td>\n",
       "      <td>22.181408</td>\n",
       "      <td>-159.377758</td>\n",
       "      <td>735.0</td>\n",
       "      <td>296.39700</td>\n",
       "      <td>32.22001</td>\n",
       "      <td>5798.4194</td>\n",
       "      <td>...</td>\n",
       "      <td>24.971304</td>\n",
       "      <td>1014.8038</td>\n",
       "      <td>1</td>\n",
       "      <td>381</td>\n",
       "      <td>857054</td>\n",
       "      <td>4</td>\n",
       "      <td>3.824207</td>\n",
       "      <td>4.201322</td>\n",
       "      <td>8.776036</td>\n",
       "      <td>5.403469</td>\n",
       "    </tr>\n",
       "    <tr>\n",
       "      <th>865175</th>\n",
       "      <td>1145.00</td>\n",
       "      <td>2011</td>\n",
       "      <td>1</td>\n",
       "      <td>4.370000</td>\n",
       "      <td>22.182760</td>\n",
       "      <td>-159.332203</td>\n",
       "      <td>330.0</td>\n",
       "      <td>296.39700</td>\n",
       "      <td>32.22001</td>\n",
       "      <td>5798.4194</td>\n",
       "      <td>...</td>\n",
       "      <td>24.971304</td>\n",
       "      <td>1014.8038</td>\n",
       "      <td>1</td>\n",
       "      <td>381</td>\n",
       "      <td>857054</td>\n",
       "      <td>4</td>\n",
       "      <td>2.726379</td>\n",
       "      <td>3.299810</td>\n",
       "      <td>5.678957</td>\n",
       "      <td>3.172434</td>\n",
       "    </tr>\n",
       "    <tr>\n",
       "      <th>865176</th>\n",
       "      <td>1146.00</td>\n",
       "      <td>2011</td>\n",
       "      <td>1</td>\n",
       "      <td>1.180000</td>\n",
       "      <td>22.183333</td>\n",
       "      <td>-159.337500</td>\n",
       "      <td>280.0</td>\n",
       "      <td>296.39700</td>\n",
       "      <td>32.22001</td>\n",
       "      <td>5798.4194</td>\n",
       "      <td>...</td>\n",
       "      <td>24.971304</td>\n",
       "      <td>1014.8038</td>\n",
       "      <td>1</td>\n",
       "      <td>381</td>\n",
       "      <td>857054</td>\n",
       "      <td>4</td>\n",
       "      <td>4.399508</td>\n",
       "      <td>8.796320</td>\n",
       "      <td>6.024608</td>\n",
       "      <td>3.239508</td>\n",
       "    </tr>\n",
       "  </tbody>\n",
       "</table>\n",
       "<p>85352 rows × 31 columns</p>\n",
       "</div>"
      ],
      "text/plain": [
       "            skn  year  month   data_in        lat         lon  elevation  \\\n",
       "0          1.00  1948      2  1.330000  18.916176 -155.674994       35.0   \n",
       "1          2.00  1948      2  2.780000  19.108660 -155.825545     1750.0   \n",
       "2          2.20  1948      2  1.210000  19.164740 -155.682280     4890.0   \n",
       "3          2.25  1948      2  2.317491  19.160603 -155.822488     2940.0   \n",
       "4          2.26  1948      2  2.516542  19.225323 -155.778876     5680.0   \n",
       "...         ...   ...    ...       ...        ...         ...        ...   \n",
       "865172  1131.70  2011      1  4.980000  22.179583 -159.466389       60.0   \n",
       "865173  1134.00  2011      1  4.690000  22.211941 -159.407202      315.0   \n",
       "865174  1137.00  2011      1  5.720000  22.181408 -159.377758      735.0   \n",
       "865175  1145.00  2011      1  4.370000  22.182760 -159.332203      330.0   \n",
       "865176  1146.00  2011      1  1.180000  22.183333 -159.337500      280.0   \n",
       "\n",
       "            air2m  air1000_500     hgt500  ...        skt        slp  \\\n",
       "0       294.80408     32.33000  5788.7930  ...  22.271116  1015.4769   \n",
       "1       294.80408     32.33000  5788.7930  ...  22.271116  1015.4769   \n",
       "2       294.80408     32.33000  5788.7930  ...  22.271116  1015.4769   \n",
       "3       294.80408     32.33000  5788.7930  ...  22.271116  1015.4769   \n",
       "4       294.80408     32.33000  5788.7930  ...  22.271116  1015.4769   \n",
       "...           ...          ...        ...  ...        ...        ...   \n",
       "865172  296.39700     32.22001  5798.4194  ...  24.971304  1014.8038   \n",
       "865173  296.39700     32.22001  5798.4194  ...  24.971304  1014.8038   \n",
       "865174  296.39700     32.22001  5798.4194  ...  24.971304  1014.8038   \n",
       "865175  296.39700     32.22001  5798.4194  ...  24.971304  1014.8038   \n",
       "865176  296.39700     32.22001  5798.4194  ...  24.971304  1014.8038   \n",
       "\n",
       "        season_wet   len  cumsum  fold  train_prediction_multi_linear  \\\n",
       "0                1  1158    2322     0                       2.531375   \n",
       "1                1  1158    2322     0                       3.955305   \n",
       "2                1  1158    2322     0                       4.596828   \n",
       "3                1  1158    2322     0                       3.926767   \n",
       "4                1  1158    2322     0                       4.074112   \n",
       "...            ...   ...     ...   ...                            ...   \n",
       "865172           1   381  857054     4                       5.403887   \n",
       "865173           1   381  857054     4                       2.776283   \n",
       "865174           1   381  857054     4                       3.824207   \n",
       "865175           1   381  857054     4                       2.726379   \n",
       "865176           1   381  857054     4                       4.399508   \n",
       "\n",
       "        test_prediction_multi_linear  test_prediction_single_xgb  \\\n",
       "0                           3.332863                    4.308321   \n",
       "1                           4.981063                    3.766231   \n",
       "2                           6.109449                    5.522999   \n",
       "3                           5.125054                    4.977380   \n",
       "4                           5.471043                    4.390144   \n",
       "...                              ...                         ...   \n",
       "865172                     10.191005                    7.658766   \n",
       "865173                      3.039164                    6.760193   \n",
       "865174                      4.201322                    8.776036   \n",
       "865175                      3.299810                    5.678957   \n",
       "865176                      8.796320                    6.024608   \n",
       "\n",
       "        train_prediction_single_xgb  \n",
       "0                          1.628675  \n",
       "1                          2.228792  \n",
       "2                          2.839402  \n",
       "3                          2.333403  \n",
       "4                          1.966406  \n",
       "...                             ...  \n",
       "865172                     5.623470  \n",
       "865173                     3.871440  \n",
       "865174                     5.403469  \n",
       "865175                     3.172434  \n",
       "865176                     3.239508  \n",
       "\n",
       "[85352 rows x 31 columns]"
      ]
     },
     "execution_count": 32,
     "metadata": {},
     "output_type": "execute_result"
    }
   ],
   "source": []
  },
  {
   "cell_type": "code",
   "execution_count": null,
   "metadata": {},
   "outputs": [],
   "source": []
  },
  {
   "cell_type": "code",
   "execution_count": null,
   "metadata": {},
   "outputs": [],
   "source": []
  },
  {
   "cell_type": "code",
   "execution_count": null,
   "metadata": {},
   "outputs": [],
   "source": []
  },
  {
   "cell_type": "code",
   "execution_count": null,
   "metadata": {},
   "outputs": [],
   "source": [
    "# use (Sin, cos) for month"
   ]
  }
 ],
 "metadata": {
  "kernelspec": {
   "display_name": "climate",
   "language": "python",
   "name": "climate"
  },
  "language_info": {
   "codemirror_mode": {
    "name": "ipython",
    "version": 3
   },
   "file_extension": ".py",
   "mimetype": "text/x-python",
   "name": "python",
   "nbconvert_exporter": "python",
   "pygments_lexer": "ipython3",
   "version": "3.9.7"
  }
 },
 "nbformat": 4,
 "nbformat_minor": 4
}

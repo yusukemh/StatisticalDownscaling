{
 "cells": [
  {
   "cell_type": "code",
   "execution_count": 21,
   "metadata": {},
   "outputs": [
    {
     "name": "stdin",
     "output_type": "stream",
     "text": [
      "Once deleted, variables cannot be recovered. Proceed (y/[n])?  y\n"
     ]
    }
   ],
   "source": [
    "%reset"
   ]
  },
  {
   "cell_type": "code",
   "execution_count": 1,
   "metadata": {},
   "outputs": [],
   "source": [
    "# basic libraries\n",
    "import numpy as np\n",
    "import pandas as pd\n",
    "import matplotlib.pyplot as plt\n",
    "\n",
    "# sklearn\n",
    "from sklearn.linear_model import LinearRegression\n",
    "from sklearn.model_selection import train_test_split, KFold, cross_val_predict, GridSearchCV\n",
    "from sklearn.metrics import mean_squared_error\n",
    "from sklearn.preprocessing import MinMaxScaler, OneHotEncoder, StandardScaler\n",
    "from sklearn.ensemble import GradientBoostingRegressor, RandomForestRegressor\n",
    "from sklearn.svm import SVR\n",
    "from sklearn.cluster import KMeans\n",
    "\n",
    "#others\n",
    "from xgboost import XGBRegressor\n",
    "import cartopy.crs as ccrs\n",
    "import cartopy.mpl.ticker as cticker\n",
    "import time\n",
    "import xarray as xr\n",
    "import sherpa\n",
    "import time\n",
    "from scipy.spatial import Delaunay\n",
    "from scipy import interpolate\n",
    "from copy import deepcopy\n",
    "\n",
    "# enable autoreload\n",
    "%load_ext autoreload\n",
    "%autoreload 2\n",
    "# Variables from config file\n",
    "from config import BASE_DIR, FILE_NAMES, LABELS, ATTRIBUTES, BEST_MODEL_COLUMNS\n"
   ]
  },
  {
   "cell_type": "markdown",
   "metadata": {},
   "source": [
    "# Train site-specific Linear Regression and compare the results with single-model XGBoost.\n",
    "\n",
    "Input lables to use: Single observation from the closest observation, with lat, lon, seasonality, and elevation"
   ]
  },
  {
   "cell_type": "code",
   "execution_count": 154,
   "metadata": {},
   "outputs": [
    {
     "name": "stdout",
     "output_type": "stream",
     "text": [
      "air2m air1000_500 hgt500 hgt1000 omega500 pottemp1000-500 pottemp1000-850 pr_wtr shum-uwnd-700 shum-uwnd-925 shum-vwnd-700 shum-vwnd-950 shum700 shum925 skt slp data_in season_wet elevation lat lon "
     ]
    }
   ],
   "source": [
    "columns = deepcopy(LABELS)\n",
    "columns.extend([\"data_in\", \"season_wet\", \"elevation\", \"lat\", \"lon\"])\n",
    "for item in columns:\n",
    "    print(item, end=' ')\n",
    "\n",
    "# load datasets\n",
    "df_train = pd.read_csv(f\"{BASE_DIR}/train.csv\", usecols=columns + ['year', 'month', 'skn'])\n",
    "df_valid = pd.read_csv(f\"{BASE_DIR}/valid.csv\", usecols=columns + ['year', 'month', 'skn'])\n",
    "df_test = pd.read_csv(f\"{BASE_DIR}/test.csv\", usecols=columns + ['year', 'month', 'skn'])\n",
    "df_combined = pd.concat([df_train, df_valid, df_test])"
   ]
  },
  {
   "cell_type": "markdown",
   "metadata": {},
   "source": [
    "### Assign chrono-split index to each data: `n_folds = 5`"
   ]
  },
  {
   "cell_type": "code",
   "execution_count": 155,
   "metadata": {},
   "outputs": [
    {
     "name": "stdout",
     "output_type": "stream",
     "text": [
      "172693\n",
      "172475\n",
      "173153\n",
      "174015\n",
      "173225\n"
     ]
    }
   ],
   "source": [
    "n_folds = 5\n",
    "\n",
    "df_len_by_month = pd.DataFrame(df_combined.groupby(by=[\"year\", \"month\"]).size()).reset_index().rename({0:\"len\"}, axis=1)\n",
    "df_len_by_month['cumsum'] = df_len_by_month['len'].cumsum()\n",
    "\n",
    "n_samples_total = df_len_by_month['cumsum'].iloc[-1]\n",
    "n_samples_per_fold = np.ceil(n_samples_total / n_folds)\n",
    "\n",
    "df_len_by_month['fold'] = df_len_by_month.apply(lambda row: int(row['cumsum'] / n_samples_per_fold), axis=1)\n",
    "\n",
    "for fold in range(5):\n",
    "    print(df_len_by_month[df_len_by_month['fold'] == fold]['len'].sum())"
   ]
  },
  {
   "cell_type": "code",
   "execution_count": 165,
   "metadata": {},
   "outputs": [],
   "source": [
    "df_combined = pd.merge(left=df_combined, right=df_len_by_month, left_on=[\"year\", \"month\"], right_on=[\"year\", \"month\"])"
   ]
  },
  {
   "cell_type": "markdown",
   "metadata": {},
   "source": [
    "## 1. No chrono-split"
   ]
  },
  {
   "cell_type": "code",
   "execution_count": 162,
   "metadata": {},
   "outputs": [
    {
     "name": "stdout",
     "output_type": "stream",
     "text": [
      "1991/1992\n"
     ]
    }
   ],
   "source": [
    "num_groups = df_combined['skn'].unique().shape[0]\n",
    "df_result = []\n",
    "for i, (skn, group) in enumerate(df_combined.groupby(\"skn\")):# iterate the group object\n",
    "    if group.shape[0] < 5: continue\n",
    "    # Randomize the order: this causes high variance in performance\n",
    "    group = group.sample(frac=1)\n",
    "    group = group[columns]\n",
    "    \n",
    "    Y = np.array(group[\"data_in\"])\n",
    "    X = np.array(group.drop([\"data_in\"], axis=1))\n",
    "    \n",
    "    y_pred = cross_val_predict(LinearRegression(), X, Y, cv=5, n_jobs=-1)\n",
    "    \n",
    "    group[\"prediction_multi_linear\"] = y_pred\n",
    "    df_result.append(group)\n",
    "    \n",
    "    # print out the progress\n",
    "    print(f\"{i}/{num_groups}\", end=\"\\r\")\n",
    "print()\n",
    "\n",
    "df_result = pd.concat(df_result)\n",
    "\n",
    "rmse_multi_linear = mean_squared_error(df_result['data_in'], df_result['prediction_multi_linear'], squared=False)\n",
    "print(\"RMSE with site-specific linear regression: {:.3f}\".format(rmse_multi_linear))"
   ]
  },
  {
   "cell_type": "code",
   "execution_count": 50,
   "metadata": {},
   "outputs": [
    {
     "name": "stdout",
     "output_type": "stream",
     "text": [
      "RMSE with single xgboost regression: 4.018\n"
     ]
    }
   ],
   "source": [
    "# xgb\n",
    "xgboost = XGBRegressor(\n",
    "    n_estimators=280,\n",
    "    learning_rate=0.1,\n",
    "    max_depth=9,\n",
    "    verbosity=0\n",
    ")\n",
    "\n",
    "Xtrain = np.array(df_train[columns].drop([\"data_in\"], axis=1))\n",
    "Ytrain = np.array(df_train[\"data_in\"])\n",
    "\n",
    "Xtest = np.array(df_test[columns].drop([\"data_in\"], axis=1))\n",
    "Ytest = np.array(df_test[\"data_in\"])\n",
    "\n",
    "xgboost.fit(Xtrain, Ytrain)\n",
    "yhat = xgboost.predict(Xtest)\n",
    "rmse_single_xgb = mean_squared_error(Ytest, yhat, squared=False)\n",
    "print(\"RMSE with single xgboost regression: {:.3f}\".format(rmse_single_xgb))"
   ]
  },
  {
   "cell_type": "markdown",
   "metadata": {},
   "source": [
    "## 1.1 Apply chrono split"
   ]
  },
  {
   "cell_type": "code",
   "execution_count": 195,
   "metadata": {},
   "outputs": [
    {
     "name": "stdout",
     "output_type": "stream",
     "text": [
      "1991/1992\n",
      "RMSE with site-specific linear regression: 4.098\n"
     ]
    }
   ],
   "source": [
    "num_groups = df_combined['skn'].unique().shape[0]\n",
    "df_result = []\n",
    "for i, (skn, group) in enumerate(df_combined.groupby(\"skn\")):# iterate the group object\n",
    "    if group.shape[0] < 5: continue\n",
    "    # sort chronologically\n",
    "    # enforce chrono split\n",
    "    group.sort_values(by=[\"year\", \"month\"], inplace=True)\n",
    "    \n",
    "    Y = np.array(group[columns][\"data_in\"])\n",
    "    X = np.array(group[columns].drop([\"data_in\"], axis=1))\n",
    "    \n",
    "    y_pred = cross_val_predict(LinearRegression(), X, Y, cv=5, n_jobs=-1)\n",
    "    \n",
    "    group[\"prediction_multi_linear\"] = y_pred\n",
    "    df_result.append(group)\n",
    "    \n",
    "    # print out the progress\n",
    "    print(f\"{i}/{num_groups}\", end=\"\\r\")\n",
    "print()\n",
    "\n",
    "df_result_linear = pd.concat(df_result)\n",
    "\n",
    "rmse_multi_linear = mean_squared_error(df_result_linear['data_in'], df_result_linear['prediction_multi_linear'], squared=False)\n",
    "print(\"RMSE with site-specific linear regression: {:.3f}\".format(rmse_multi_linear))"
   ]
  },
  {
   "cell_type": "code",
   "execution_count": 196,
   "metadata": {},
   "outputs": [
    {
     "name": "stdout",
     "output_type": "stream",
     "text": [
      "Running the 0-th fold\n",
      "Running the 1-th fold\n",
      "Running the 2-th fold\n",
      "Running the 3-th fold\n",
      "Running the 4-th fold\n",
      "274.9581937789917\n"
     ]
    }
   ],
   "source": [
    "xgboost = XGBRegressor(\n",
    "    n_estimators=280,\n",
    "    learning_rate=0.1,\n",
    "    max_depth=9,\n",
    "    verbosity=0\n",
    ")\n",
    "\n",
    "start = time.time()\n",
    "df_result = []\n",
    "for fold in range(n_folds):\n",
    "    print(f\"Running the {fold}-th fold\")\n",
    "    df_train = df_combined[df_combined['fold'] != fold]\n",
    "    df_test = df_combined[df_combined['fold'] == fold]\n",
    "    \n",
    "    Xtrain = np.array(df_train[columns].drop(\"data_in\", axis=1))\n",
    "    Ytrain = np.array(df_train[\"data_in\"])\n",
    "    \n",
    "    Xtest = np.array(df_test[columns].drop(\"data_in\", axis=1))\n",
    "    Ytest = np.array(df_test[\"data_in\"])\n",
    "    \n",
    "    xgboost.fit(Xtrain, Ytrain)\n",
    "    \n",
    "    yhat = xgboost.predict(Xtest)\n",
    "    df_test['prediction_single_xgb'] = yhat\n",
    "    df_result.append(df_test)\n",
    "    \n",
    "end = time.time()\n",
    "\n",
    "df_result_xgb = pd.concat(df_result)\n",
    "\n",
    "print(end - start)"
   ]
  },
  {
   "cell_type": "code",
   "execution_count": 198,
   "metadata": {},
   "outputs": [
    {
     "data": {
      "text/plain": [
       "3.998269428278984"
      ]
     },
     "execution_count": 198,
     "metadata": {},
     "output_type": "execute_result"
    }
   ],
   "source": [
    "mean_squared_error(df_result_xgb['data_in'], df_result_xgb['prediction_single_xgb'], squared=False)"
   ]
  },
  {
   "cell_type": "code",
   "execution_count": 185,
   "metadata": {},
   "outputs": [
    {
     "data": {
      "text/plain": [
       "<matplotlib.collections.PathCollection at 0x2b3cbf39a2b0>"
      ]
     },
     "execution_count": 185,
     "metadata": {},
     "output_type": "execute_result"
    },
    {
     "data": {
      "image/png": "[encoded data removed]",
      "text/plain": [
       "<Figure size 432x288 with 1 Axes>"
      ]
     },
     "metadata": {
      "needs_background": "light"
     },
     "output_type": "display_data"
    }
   ],
   "source": [
    "fig, ax = plt.subplots(1)\n",
    "ax.scatter(x=df_result['data_in'], y=df_result[\"predict_sigle_xgb\"], s=1)"
   ]
  },
  {
   "cell_type": "code",
   "execution_count": null,
   "metadata": {},
   "outputs": [],
   "source": [
    "df_result_linear['prediction_single_xgb'] = df_result_xgb['preduction_single_xgb']\n",
    "df_result_linear"
   ]
  },
  {
   "cell_type": "markdown",
   "metadata": {},
   "source": [
    "### justification on the difference from the past experiments\n",
    "1. Basemodel_Comparison.ipynb: data split was inappropriate\n"
   ]
  },
  {
   "cell_type": "code",
   "execution_count": null,
   "metadata": {},
   "outputs": [],
   "source": []
  },
  {
   "cell_type": "code",
   "execution_count": null,
   "metadata": {},
   "outputs": [],
   "source": []
  },
  {
   "cell_type": "code",
   "execution_count": null,
   "metadata": {},
   "outputs": [],
   "source": []
  },
  {
   "cell_type": "code",
   "execution_count": null,
   "metadata": {},
   "outputs": [],
   "source": []
  },
  {
   "cell_type": "code",
   "execution_count": null,
   "metadata": {},
   "outputs": [],
   "source": [
    "# use (Sin, cos) for month"
   ]
  }
 ],
 "metadata": {
  "kernelspec": {
   "display_name": "climate",
   "language": "python",
   "name": "climate"
  },
  "language_info": {
   "codemirror_mode": {
    "name": "ipython",
    "version": 3
   },
   "file_extension": ".py",
   "mimetype": "text/x-python",
   "name": "python",
   "nbconvert_exporter": "python",
   "pygments_lexer": "ipython3",
   "version": "3.9.7"
  }
 },
 "nbformat": 4,
 "nbformat_minor": 4
}

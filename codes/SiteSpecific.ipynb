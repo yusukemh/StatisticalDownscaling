{
 "cells": [
  {
   "cell_type": "code",
   "execution_count": 21,
   "metadata": {},
   "outputs": [
    {
     "name": "stdin",
     "output_type": "stream",
     "text": [
      "Once deleted, variables cannot be recovered. Proceed (y/[n])?  y\n"
     ]
    }
   ],
   "source": [
    "%reset"
   ]
  },
  {
   "cell_type": "code",
   "execution_count": 1,
   "metadata": {},
   "outputs": [],
   "source": [
    "# basic libraries\n",
    "import numpy as np\n",
    "import pandas as pd\n",
    "import matplotlib.pyplot as plt\n",
    "\n",
    "# sklearn\n",
    "from sklearn.linear_model import LinearRegression\n",
    "from sklearn.model_selection import train_test_split, KFold, cross_val_predict, GridSearchCV\n",
    "from sklearn.metrics import mean_squared_error\n",
    "from sklearn.preprocessing import MinMaxScaler, OneHotEncoder, StandardScaler\n",
    "from sklearn.ensemble import GradientBoostingRegressor, RandomForestRegressor\n",
    "from sklearn.svm import SVR\n",
    "from sklearn.cluster import KMeans\n",
    "\n",
    "#others\n",
    "from xgboost import XGBRegressor\n",
    "import cartopy.crs as ccrs\n",
    "import cartopy.mpl.ticker as cticker\n",
    "import time\n",
    "import xarray as xr\n",
    "import sherpa\n",
    "import time\n",
    "from scipy.spatial import Delaunay\n",
    "from scipy import interpolate\n",
    "from copy import deepcopy\n",
    "\n",
    "# enable autoreload\n",
    "%load_ext autoreload\n",
    "%autoreload 2\n",
    "# Variables from config file\n",
    "from config import BASE_DIR, FILE_NAMES, LABELS, ATTRIBUTES, BEST_MODEL_COLUMNS\n"
   ]
  },
  {
   "cell_type": "markdown",
   "metadata": {},
   "source": [
    "# Train site-specific Linear Regression and compare the results with single-model XGBoost.\n",
    "\n",
    "Input lables to use: Single observation from the closest observation, with lat, lon, seasonality, and elevation"
   ]
  },
  {
   "cell_type": "code",
   "execution_count": 154,
   "metadata": {},
   "outputs": [
    {
     "name": "stdout",
     "output_type": "stream",
     "text": [
      "air2m air1000_500 hgt500 hgt1000 omega500 pottemp1000-500 pottemp1000-850 pr_wtr shum-uwnd-700 shum-uwnd-925 shum-vwnd-700 shum-vwnd-950 shum700 shum925 skt slp data_in season_wet elevation lat lon "
     ]
    }
   ],
   "source": [
    "columns = deepcopy(LABELS)\n",
    "columns.extend([\"data_in\", \"season_wet\", \"elevation\", \"lat\", \"lon\"])\n",
    "for item in columns:\n",
    "    print(item, end=' ')\n",
    "\n",
    "# load datasets\n",
    "df_train = pd.read_csv(f\"{BASE_DIR}/train.csv\", usecols=columns + ['year', 'month', 'skn'])\n",
    "df_valid = pd.read_csv(f\"{BASE_DIR}/valid.csv\", usecols=columns + ['year', 'month', 'skn'])\n",
    "df_test = pd.read_csv(f\"{BASE_DIR}/test.csv\", usecols=columns + ['year', 'month', 'skn'])\n",
    "df_combined = pd.concat([df_train, df_valid, df_test])"
   ]
  },
  {
   "cell_type": "markdown",
   "metadata": {},
   "source": [
    "### Assign chrono-split index to each data: `n_folds = 5`"
   ]
  },
  {
   "cell_type": "code",
   "execution_count": 155,
   "metadata": {},
   "outputs": [
    {
     "name": "stdout",
     "output_type": "stream",
     "text": [
      "172693\n",
      "172475\n",
      "173153\n",
      "174015\n",
      "173225\n"
     ]
    }
   ],
   "source": [
    "n_folds = 5\n",
    "\n",
    "df_len_by_month = pd.DataFrame(df_combined.groupby(by=[\"year\", \"month\"]).size()).reset_index().rename({0:\"len\"}, axis=1)\n",
    "df_len_by_month['cumsum'] = df_len_by_month['len'].cumsum()\n",
    "\n",
    "n_samples_total = df_len_by_month['cumsum'].iloc[-1]\n",
    "n_samples_per_fold = np.ceil(n_samples_total / n_folds)\n",
    "\n",
    "df_len_by_month['fold'] = df_len_by_month.apply(lambda row: int(row['cumsum'] / n_samples_per_fold), axis=1)\n",
    "\n",
    "for fold in range(5):\n",
    "    print(df_len_by_month[df_len_by_month['fold'] == fold]['len'].sum())"
   ]
  },
  {
   "cell_type": "code",
   "execution_count": 165,
   "metadata": {},
   "outputs": [],
   "source": [
    "df_combined = pd.merge(left=df_combined, right=df_len_by_month, left_on=[\"year\", \"month\"], right_on=[\"year\", \"month\"])"
   ]
  },
  {
   "cell_type": "markdown",
   "metadata": {},
   "source": [
    "## 1. No chrono-split"
   ]
  },
  {
   "cell_type": "code",
   "execution_count": 162,
   "metadata": {},
   "outputs": [
    {
     "name": "stdout",
     "output_type": "stream",
     "text": [
      "1991/1992\n"
     ]
    }
   ],
   "source": [
    "num_groups = df_combined['skn'].unique().shape[0]\n",
    "df_result = []\n",
    "for i, (skn, group) in enumerate(df_combined.groupby(\"skn\")):# iterate the group object\n",
    "    if group.shape[0] < 5: continue\n",
    "    # Randomize the order: this causes high variance in performance\n",
    "    group = group.sample(frac=1)\n",
    "    group = group[columns]\n",
    "    \n",
    "    Y = np.array(group[\"data_in\"])\n",
    "    X = np.array(group.drop([\"data_in\"], axis=1))\n",
    "    \n",
    "    y_pred = cross_val_predict(LinearRegression(), X, Y, cv=5, n_jobs=-1)\n",
    "    \n",
    "    group[\"prediction_multi_linear\"] = y_pred\n",
    "    df_result.append(group)\n",
    "    \n",
    "    # print out the progress\n",
    "    print(f\"{i}/{num_groups}\", end=\"\\r\")\n",
    "print()\n",
    "\n",
    "df_result = pd.concat(df_result)\n",
    "\n",
    "rmse_multi_linear = mean_squared_error(df_result['data_in'], df_result['prediction_multi_linear'], squared=False)\n",
    "print(\"RMSE with site-specific linear regression: {:.3f}\".format(rmse_multi_linear))"
   ]
  },
  {
   "cell_type": "code",
   "execution_count": 50,
   "metadata": {},
   "outputs": [
    {
     "name": "stdout",
     "output_type": "stream",
     "text": [
      "RMSE with single xgboost regression: 4.018\n"
     ]
    }
   ],
   "source": [
    "# xgb\n",
    "xgboost = XGBRegressor(\n",
    "    n_estimators=280,\n",
    "    learning_rate=0.1,\n",
    "    max_depth=9,\n",
    "    verbosity=0\n",
    ")\n",
    "\n",
    "Xtrain = np.array(df_train[columns].drop([\"data_in\"], axis=1))\n",
    "Ytrain = np.array(df_train[\"data_in\"])\n",
    "\n",
    "Xtest = np.array(df_test[columns].drop([\"data_in\"], axis=1))\n",
    "Ytest = np.array(df_test[\"data_in\"])\n",
    "\n",
    "xgboost.fit(Xtrain, Ytrain)\n",
    "yhat = xgboost.predict(Xtest)\n",
    "rmse_single_xgb = mean_squared_error(Ytest, yhat, squared=False)\n",
    "print(\"RMSE with single xgboost regression: {:.3f}\".format(rmse_single_xgb))"
   ]
  },
  {
   "cell_type": "markdown",
   "metadata": {},
   "source": [
    "## 1.1 Apply chrono split"
   ]
  },
  {
   "cell_type": "code",
   "execution_count": 207,
   "metadata": {},
   "outputs": [
    {
     "name": "stdout",
     "output_type": "stream",
     "text": [
      "1991/1992\n",
      "RMSE with site-specific linear regression: 4.098\n"
     ]
    }
   ],
   "source": [
    "num_groups = df_combined['skn'].unique().shape[0]\n",
    "df_result = []\n",
    "for i, (skn, group) in enumerate(df_combined.groupby(\"skn\")):# iterate the group object\n",
    "    if group.shape[0] < 5: continue\n",
    "    # sort chronologically\n",
    "    # enforce chrono split\n",
    "    group.sort_values(by=[\"year\", \"month\"], inplace=True)\n",
    "    \n",
    "    Y = np.array(group[columns][\"data_in\"])\n",
    "    X = np.array(group[columns].drop([\"data_in\"], axis=1))\n",
    "    \n",
    "    y_pred = cross_val_predict(LinearRegression(), X, Y, cv=5, n_jobs=-1)\n",
    "    \n",
    "    group[\"prediction_multi_linear\"] = y_pred\n",
    "    df_result.append(group)\n",
    "    \n",
    "    # print out the progress\n",
    "    print(f\"{i}/{num_groups}\", end=\"\\r\")\n",
    "print()\n",
    "\n",
    "df_result_linear = pd.concat(df_result).sort_index()\n",
    "\n",
    "rmse_multi_linear = mean_squared_error(df_result_linear['data_in'], df_result_linear['prediction_multi_linear'], squared=False)\n",
    "print(\"RMSE with site-specific linear regression: {:.3f}\".format(rmse_multi_linear))"
   ]
  },
  {
   "cell_type": "code",
   "execution_count": 196,
   "metadata": {},
   "outputs": [
    {
     "name": "stdout",
     "output_type": "stream",
     "text": [
      "Running the 0-th fold\n",
      "Running the 1-th fold\n",
      "Running the 2-th fold\n",
      "Running the 3-th fold\n",
      "Running the 4-th fold\n",
      "274.9581937789917\n"
     ]
    }
   ],
   "source": [
    "xgboost = XGBRegressor(\n",
    "    n_estimators=280,\n",
    "    learning_rate=0.1,\n",
    "    max_depth=9,\n",
    "    verbosity=0\n",
    ")\n",
    "\n",
    "start = time.time()\n",
    "df_result = []\n",
    "for fold in range(n_folds):\n",
    "    print(f\"Running the {fold}-th fold\")\n",
    "    df_train = df_combined[df_combined['fold'] != fold]\n",
    "    df_test = df_combined[df_combined['fold'] == fold]\n",
    "    \n",
    "    Xtrain = np.array(df_train[columns].drop(\"data_in\", axis=1))\n",
    "    Ytrain = np.array(df_train[\"data_in\"])\n",
    "    \n",
    "    Xtest = np.array(df_test[columns].drop(\"data_in\", axis=1))\n",
    "    Ytest = np.array(df_test[\"data_in\"])\n",
    "    \n",
    "    xgboost.fit(Xtrain, Ytrain)\n",
    "    \n",
    "    yhat = xgboost.predict(Xtest)\n",
    "    df_test['prediction_single_xgb'] = yhat\n",
    "    df_result.append(df_test)\n",
    "    \n",
    "end = time.time()\n",
    "\n",
    "df_result_xgb = pd.concat(df_result)\n",
    "\n",
    "print(end - start)"
   ]
  },
  {
   "cell_type": "code",
   "execution_count": 217,
   "metadata": {},
   "outputs": [],
   "source": [
    "df_result_linear[\"prediction_single_xgb\"] = df_result_xgb[\"prediction_single_xgb\"]\n",
    "df_result_linear.to_csv(f\"{BASE_DIR}/cv/chrono/result_vanila.csv\", index=False)"
   ]
  },
  {
   "cell_type": "markdown",
   "metadata": {},
   "source": [
    "<hr>"
   ]
  },
  {
   "cell_type": "code",
   "execution_count": 219,
   "metadata": {},
   "outputs": [],
   "source": [
    "df_result = pd.read_csv(f\"{BASE_DIR}/cv/chrono/result_vanila.csv\")"
   ]
  },
  {
   "cell_type": "code",
   "execution_count": 220,
   "metadata": {},
   "outputs": [
    {
     "name": "stdout",
     "output_type": "stream",
     "text": [
      "RMSE using site-specific Linear Regression models: 4.098\n",
      "RMSE using a sigle XGBost model: 3.998\n"
     ]
    }
   ],
   "source": [
    "rmse_linear = mean_squared_error(df_result['data_in'], df_result['prediction_multi_linear'], squared=False)\n",
    "rmse_xgb = mean_squared_error(df_result['data_in'], df_result['prediction_single_xgb'], squared=False)\n",
    "\n",
    "print(\"RMSE using site-specific Linear Regression models: {:.3f}\".format(rmse_linear))\n",
    "print(\"RMSE using a sigle XGBost model: {:.3f}\".format(rmse_xgb))"
   ]
  },
  {
   "cell_type": "code",
   "execution_count": 236,
   "metadata": {},
   "outputs": [],
   "source": [
    "rmse_per_station_linear = []\n",
    "rmse_per_station_xgb = []\n",
    "diff = [] # RMSE(linear) - RMSE(XGBoost)\n",
    "n_data = []\n",
    "skn = []\n",
    "for name, group in df_result.groupby(by='skn'):\n",
    "    rmse_linear = mean_squared_error(group['data_in'], group['prediction_multi_linear'], squared=False)\n",
    "    rmse_xgb = mean_squared_error(group['data_in'], group['prediction_single_xgb'], squared=False)\n",
    "    \n",
    "    rmse_per_station_linear.append(rmse_linear)\n",
    "    rmse_per_station_xgb.append(rmse_xgb)\n",
    "    diff.append(rmse_linear - rmse_xgb)\n",
    "    n_data.append(group.shape[0])\n",
    "    skn.append(name)"
   ]
  },
  {
   "cell_type": "code",
   "execution_count": 238,
   "metadata": {},
   "outputs": [],
   "source": [
    "df_result_per_station = pd.DataFrame(\n",
    "    {\n",
    "        'skn': skn,\n",
    "        'n_data': n_data,\n",
    "        'rmse_linear': rmse_per_station_linear,\n",
    "        'rmse_xgb': rmse_per_station_xgb,\n",
    "        'diff': diff\n",
    "    }\n",
    ")"
   ]
  },
  {
   "cell_type": "code",
   "execution_count": 223,
   "metadata": {},
   "outputs": [
    {
     "name": "stdout",
     "output_type": "stream",
     "text": [
      "\n"
     ]
    },
    {
     "data": {
      "image/png": "[encoded data removed]",
      "text/plain": [
       "<Figure size 1080x720 with 3 Axes>"
      ]
     },
     "metadata": {
      "needs_background": "light"
     },
     "output_type": "display_data"
    }
   ],
   "source": [
    "fig, ax = plt.subplots(\n",
    "    3, figsize=(15,10),\n",
    "    subplot_kw={\n",
    "        'ylim': (0, 110),\n",
    "        'xlabel': \"# of samples\",\n",
    "        'ylabel': 'RMSE in inch'\n",
    "    },\n",
    "    gridspec_kw=dict(hspace=0.5, wspace=0.1)\n",
    ")\n",
    "ax[0].scatter(n_data, rmse_per_station_linear, s=1)\n",
    "ax[1].scatter(n_data, rmse_per_station_xgb, s=1)\n",
    "\n",
    "ax[2].scatter(n_data, rmse_per_station_linear, s=1, alpha=0.5)\n",
    "ax[2].scatter(n_data, rmse_per_station_xgb, s=1, alpha=0.5)\n",
    "\n",
    "ax[0].set_title(\"fig. 1: Linear Regression: mean={:.3f}\".format(rmse_linear))\n",
    "ax[1].set_title(\"fig. 2: XGBoost: mean={:.3f}\".format(rmse_xgb))\n",
    "ax[2].set_title(\"fig. 3: fig. 1 + fig. 2\")\n",
    "\n",
    "ax[0].axvline(x=127, color='orange', linewidth=2, label=\"minimum: 127\")\n",
    "ax[1].axvline(x=127, color='orange', linewidth=2, label=\"minimum: 127\")\n",
    "ax[2].axvline(x=127, color='orange', linewidth=2, label=\"minimum: 127\")\n",
    "\n",
    "ax[0].legend()\n",
    "ax[1].legend()\n",
    "print()"
   ]
  },
  {
   "cell_type": "code",
   "execution_count": 230,
   "metadata": {},
   "outputs": [
    {
     "name": "stdout",
     "output_type": "stream",
     "text": [
      "\n"
     ]
    },
    {
     "data": {
      "image/png": "[encoded data removed]",
      "text/plain": [
       "<Figure size 1440x360 with 1 Axes>"
      ]
     },
     "metadata": {
      "needs_background": "light"
     },
     "output_type": "display_data"
    }
   ],
   "source": [
    "fig, ax = plt.subplots(1, figsize=(20,5))\n",
    "ax.bar(\n",
    "    x=n_data,\n",
    "    # height=np.log(1 + df_comparison_mean['diff']),\n",
    "    # height=diff,\n",
    "    height = np.log(1 + np.array(diff)),\n",
    "    width=1,\n",
    "    color=['b' if item >= 0 else 'r' for item in diff]\n",
    ")\n",
    "ax.set_ylim((-5, np.log(np.max(diff)) + 1))\n",
    "ax.axhline(y=0, linestyle='-', linewidth=1, color='k', alpha=0.2)\n",
    "ax.axvline(127, linewidth=1, color='orange')\n",
    "ax.set_title(\"(rmse_linear - rmse_xgb) per station in log space\")\n",
    "ax.set_xlabel('# of stations')\n",
    "ax.set_ylabel('log(RMSE+1) in inch')\n",
    "print()"
   ]
  },
  {
   "cell_type": "code",
   "execution_count": 242,
   "metadata": {},
   "outputs": [],
   "source": [
    "skn_linear_better = df_result_per_station[df_result_per_station['diff'] < 0]['skn']"
   ]
  },
  {
   "cell_type": "code",
   "execution_count": 265,
   "metadata": {},
   "outputs": [],
   "source": [
    "df_linear_better = df_combined[df_combined['skn'].isin(skn_linear_better)]\n",
    "df_xgb_better = df_combined[~df_combined['skn'].isin(skn_linear_better)]"
   ]
  },
  {
   "cell_type": "code",
   "execution_count": 266,
   "metadata": {},
   "outputs": [
    {
     "data": {
      "text/plain": [
       "6.436026697631431"
      ]
     },
     "execution_count": 266,
     "metadata": {},
     "output_type": "execute_result"
    }
   ],
   "source": [
    "np.std(df_linear_better['data_in'])"
   ]
  },
  {
   "cell_type": "code",
   "execution_count": 268,
   "metadata": {},
   "outputs": [
    {
     "data": {
      "text/plain": [
       "6.033955688955717"
      ]
     },
     "execution_count": 268,
     "metadata": {},
     "output_type": "execute_result"
    }
   ],
   "source": [
    "np.std(df_xgb_better['data_in'])"
   ]
  },
  {
   "cell_type": "code",
   "execution_count": null,
   "metadata": {},
   "outputs": [],
   "source": [
    "# scatter plot n_data vs std_per_station\n"
   ]
  },
  {
   "cell_type": "code",
   "execution_count": null,
   "metadata": {},
   "outputs": [],
   "source": [
    "# for each station, calculate teh standard deviation: if more samples=>less varance, AND variance ACROSS station is high=> linear regression is advantageous"
   ]
  },
  {
   "cell_type": "markdown",
   "metadata": {},
   "source": [
    "### justification on the difference from the past experiments\n",
    "1. Basemodel_Comparison.ipynb: data split was inappropriate\n"
   ]
  },
  {
   "cell_type": "code",
   "execution_count": null,
   "metadata": {},
   "outputs": [],
   "source": [
    "n"
   ]
  },
  {
   "cell_type": "code",
   "execution_count": null,
   "metadata": {},
   "outputs": [],
   "source": []
  },
  {
   "cell_type": "code",
   "execution_count": null,
   "metadata": {},
   "outputs": [],
   "source": []
  },
  {
   "cell_type": "code",
   "execution_count": null,
   "metadata": {},
   "outputs": [],
   "source": []
  },
  {
   "cell_type": "code",
   "execution_count": null,
   "metadata": {},
   "outputs": [],
   "source": [
    "# use (Sin, cos) for month"
   ]
  }
 ],
 "metadata": {
  "kernelspec": {
   "display_name": "climate",
   "language": "python",
   "name": "climate"
  },
  "language_info": {
   "codemirror_mode": {
    "name": "ipython",
    "version": 3
   },
   "file_extension": ".py",
   "mimetype": "text/x-python",
   "name": "python",
   "nbconvert_exporter": "python",
   "pygments_lexer": "ipython3",
   "version": "3.9.7"
  }
 },
 "nbformat": 4,
 "nbformat_minor": 4
}

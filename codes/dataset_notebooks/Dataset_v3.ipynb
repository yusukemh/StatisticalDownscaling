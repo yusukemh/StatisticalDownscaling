{
 "cells": [
  {
   "cell_type": "code",
   "execution_count": 1,
   "metadata": {},
   "outputs": [],
   "source": [
    "# basic libraries\n",
    "import numpy as np\n",
    "import pandas as pd\n",
    "import matplotlib.pyplot as plt\n",
    "\n",
    "# sklearn\n",
    "from sklearn.linear_model import LinearRegression\n",
    "from sklearn.model_selection import train_test_split, KFold, cross_val_predict, GridSearchCV\n",
    "from sklearn.metrics import mean_squared_error\n",
    "from sklearn.preprocessing import MinMaxScaler, OneHotEncoder, StandardScaler\n",
    "from sklearn.ensemble import GradientBoostingRegressor, RandomForestRegressor\n",
    "from sklearn.svm import SVR\n",
    "from sklearn.cluster import KMeans\n",
    "\n",
    "#others\n",
    "from xgboost import XGBRegressor\n",
    "import cartopy.crs as ccrs\n",
    "import cartopy.mpl.ticker as cticker\n",
    "import time\n",
    "import xarray as xr\n",
    "from multiprocessing import pool\n",
    "import multiprocessing as mp\n",
    "import dask.dataframe as dd\n",
    "from dask.multiprocessing import get\n",
    "\n",
    "# Variables from config file\n",
    "from config import BASE_DIR, FILE_NAMES, LABELS, ATTRIBUTES\n"
   ]
  },
  {
   "cell_type": "code",
   "execution_count": 2,
   "metadata": {},
   "outputs": [],
   "source": [
    "df_data = pd.read_excel(f\"{BASE_DIR}/FilledDataset2012.xlsx\", sheet_name=\"Data_in\")\n",
    "df_metadata = pd.read_excel(f\"{BASE_DIR}/FilledDataset2012.xlsx\", sheet_name=\"Header\")"
   ]
  },
  {
   "cell_type": "code",
   "execution_count": 3,
   "metadata": {},
   "outputs": [],
   "source": [
    "X = []\n",
    "for index, row in df_data.iterrows():\n",
    "    if row.Year < 1948:\n",
    "        # No need to keep data older than 1948 becase no data exists in netCDF files\n",
    "        continue\n",
    "    for i, cell in enumerate(row[2:]):\n",
    "        X.append([row.SKN, row.Year, i + 1, cell])\n",
    "        \n",
    "df_data_by_cell = pd.DataFrame(X, columns = [\"skn\", \"year\", \"month\", \"data_in\"]).dropna()\n",
    "df_data_by_cell = df_data_by_cell.replace(r'^\\s*$', np.nan, regex=True).dropna()"
   ]
  },
  {
   "cell_type": "code",
   "execution_count": 4,
   "metadata": {},
   "outputs": [],
   "source": [
    "df_data_w_coord = (\n",
    "    df_data_by_cell\n",
    "    .merge(right=df_metadata, left_on=\"skn\", right_on=\"SKN\")\n",
    "    .drop(columns=\"SKN\", axis=1)\n",
    "    .rename(columns={\"Lat_DD\": \"lat\", \"Lon_DD\": \"lon\", \"ElevFT\": \"elevation\", \"Name\": \"name\"})\n",
    ")"
   ]
  },
  {
   "cell_type": "code",
   "execution_count": 5,
   "metadata": {},
   "outputs": [
    {
     "name": "stdout",
     "output_type": "stream",
     "text": [
      "air.2m.mon.mean.regridded.nc air2m air\n",
      "air.1000-500.mon.mean.nc air1000_500 air\n",
      "hgt500.mon.mean.nc hgt500 hgt\n",
      "hgt1000.mon.mean.nc hgt1000 hgt\n",
      "omega500.mon.mean.nc omega500 omega\n",
      "pottmp.1000-500.mon.mean.nc pottemp1000-500 pottmp\n",
      "pottmp.1000-850.mon.mean.nc pottemp1000-850 pottmp\n",
      "pwtr.mon.mean.nc pr_wtr pr_wtr\n",
      "shum_x_uwnd.700.mon.mean.nc shum-uwnd-700 shum\n",
      "shum_x_uwnd.925.mon.mean.nc shum-uwnd-925 shum\n",
      "shum_x_vwnd.700.mon.mean.nc shum-vwnd-700 shum\n",
      "shum_x_vwnd.925.mon.mean.nc shum-vwnd-950 shum\n",
      "shum700.mon.mean.nc shum700 shum\n",
      "shum925.mon.mean.nc shum925 shum\n",
      "skt.mon.mean.regridded.nc skt skt\n",
      "slp.mon.mean.nc slp slp\n"
     ]
    }
   ],
   "source": [
    "# load only relevant portion of netCDF files\n",
    "lat_hawaii = [20, 22.5]\n",
    "lon_hawaii = np.array([-160, -157.5, -155]) + 360\n",
    "\n",
    "datasets = []\n",
    "for file_name, label, attribute in zip(FILE_NAMES, LABELS, ATTRIBUTES):\n",
    "    print(file_name, label, attribute)\n",
    "    # Linear Interpolation\n",
    "    ds = xr.open_dataset(f\"{BASE_DIR}/{file_name}\").loc[dict(lat=lat_hawaii, lon=lon_hawaii)].rename({f\"{attribute}\": f\"{label}\"})\n",
    "    if \"level\" in ds.dims:\n",
    "        ds = ds.squeeze(\"level\").drop(\"level\")\n",
    "    datasets.append({\n",
    "        \"file\": file_name,\n",
    "        \"dataset\": ds,\n",
    "        \"label\": label,\n",
    "        \"attribute\": attribute\n",
    "    })"
   ]
  },
  {
   "cell_type": "code",
   "execution_count": 6,
   "metadata": {},
   "outputs": [],
   "source": [
    "# the reanalysis data will solely depend on (year, month)\n",
    "# (Lat, Lon) = (-160, 22.5), (-157.5, 20), (-157.5, 22.5), (-155, 20), (-155, 22.5)"
   ]
  },
  {
   "cell_type": "code",
   "execution_count": 7,
   "metadata": {},
   "outputs": [],
   "source": [
    "#datasets[0][\"dataset\"].loc[dict(time=\"1948-04-01\")]"
   ]
  },
  {
   "cell_type": "code",
   "execution_count": 8,
   "metadata": {},
   "outputs": [],
   "source": [
    "ds_combined = xr.merge([datasets[i][\"dataset\"] for i in range(len(datasets))])"
   ]
  },
  {
   "cell_type": "code",
   "execution_count": 9,
   "metadata": {},
   "outputs": [
    {
     "data": {
      "text/html": [
       "<div>\n",
       "<style scoped>\n",
       "    .dataframe tbody tr th:only-of-type {\n",
       "        vertical-align: middle;\n",
       "    }\n",
       "\n",
       "    .dataframe tbody tr th {\n",
       "        vertical-align: top;\n",
       "    }\n",
       "\n",
       "    .dataframe thead th {\n",
       "        text-align: right;\n",
       "    }\n",
       "</style>\n",
       "<table border=\"1\" class=\"dataframe\">\n",
       "  <thead>\n",
       "    <tr style=\"text-align: right;\">\n",
       "      <th></th>\n",
       "      <th>year</th>\n",
       "      <th>month</th>\n",
       "    </tr>\n",
       "  </thead>\n",
       "  <tbody>\n",
       "    <tr>\n",
       "      <th>0</th>\n",
       "      <td>1948</td>\n",
       "      <td>1</td>\n",
       "    </tr>\n",
       "    <tr>\n",
       "      <th>1</th>\n",
       "      <td>1948</td>\n",
       "      <td>2</td>\n",
       "    </tr>\n",
       "    <tr>\n",
       "      <th>2</th>\n",
       "      <td>1948</td>\n",
       "      <td>3</td>\n",
       "    </tr>\n",
       "    <tr>\n",
       "      <th>3</th>\n",
       "      <td>1948</td>\n",
       "      <td>4</td>\n",
       "    </tr>\n",
       "    <tr>\n",
       "      <th>4</th>\n",
       "      <td>1948</td>\n",
       "      <td>5</td>\n",
       "    </tr>\n",
       "    <tr>\n",
       "      <th>...</th>\n",
       "      <td>...</td>\n",
       "      <td>...</td>\n",
       "    </tr>\n",
       "    <tr>\n",
       "      <th>775</th>\n",
       "      <td>2012</td>\n",
       "      <td>8</td>\n",
       "    </tr>\n",
       "    <tr>\n",
       "      <th>776</th>\n",
       "      <td>2012</td>\n",
       "      <td>9</td>\n",
       "    </tr>\n",
       "    <tr>\n",
       "      <th>777</th>\n",
       "      <td>2012</td>\n",
       "      <td>10</td>\n",
       "    </tr>\n",
       "    <tr>\n",
       "      <th>778</th>\n",
       "      <td>2012</td>\n",
       "      <td>11</td>\n",
       "    </tr>\n",
       "    <tr>\n",
       "      <th>779</th>\n",
       "      <td>2012</td>\n",
       "      <td>12</td>\n",
       "    </tr>\n",
       "  </tbody>\n",
       "</table>\n",
       "<p>780 rows × 2 columns</p>\n",
       "</div>"
      ],
      "text/plain": [
       "     year  month\n",
       "0    1948      1\n",
       "1    1948      2\n",
       "2    1948      3\n",
       "3    1948      4\n",
       "4    1948      5\n",
       "..    ...    ...\n",
       "775  2012      8\n",
       "776  2012      9\n",
       "777  2012     10\n",
       "778  2012     11\n",
       "779  2012     12\n",
       "\n",
       "[780 rows x 2 columns]"
      ]
     },
     "execution_count": 9,
     "metadata": {},
     "output_type": "execute_result"
    }
   ],
   "source": [
    "# compute the min year and max year in df_data_by_cell\n",
    "min_year, max_year = df_data_by_cell.year.min(), df_data_by_cell.year.max()\n",
    "# make a df\n",
    "df_year = pd.DataFrame(range(min_year, max_year + 1), columns=[\"year\"])\n",
    "df_month = pd.DataFrame(range(1, 13), columns=[\"month\"])\n",
    "df_year_month = df_year.merge(right=df_month, how='cross')\n",
    "df_year_month"
   ]
  },
  {
   "cell_type": "code",
   "execution_count": 10,
   "metadata": {},
   "outputs": [],
   "source": [
    "df_year_month[\"matrix\"] = df_year_month.apply(\n",
    "    lambda row: ds_combined.loc[dict(time=f\"{row.year}-{row.month}-01\")].to_array().to_numpy().reshape(16, 6),\n",
    "    axis=1\n",
    ")"
   ]
  },
  {
   "cell_type": "code",
   "execution_count": 11,
   "metadata": {},
   "outputs": [
    {
     "data": {
      "text/html": [
       "<div>\n",
       "<style scoped>\n",
       "    .dataframe tbody tr th:only-of-type {\n",
       "        vertical-align: middle;\n",
       "    }\n",
       "\n",
       "    .dataframe tbody tr th {\n",
       "        vertical-align: top;\n",
       "    }\n",
       "\n",
       "    .dataframe thead th {\n",
       "        text-align: right;\n",
       "    }\n",
       "</style>\n",
       "<table border=\"1\" class=\"dataframe\">\n",
       "  <thead>\n",
       "    <tr style=\"text-align: right;\">\n",
       "      <th></th>\n",
       "      <th>year</th>\n",
       "      <th>month</th>\n",
       "      <th>matrix</th>\n",
       "    </tr>\n",
       "  </thead>\n",
       "  <tbody>\n",
       "    <tr>\n",
       "      <th>0</th>\n",
       "      <td>1948</td>\n",
       "      <td>1</td>\n",
       "      <td>[[295.72696, 295.30087, 295.39603, 295.29828, ...</td>\n",
       "    </tr>\n",
       "    <tr>\n",
       "      <th>1</th>\n",
       "      <td>1948</td>\n",
       "      <td>2</td>\n",
       "      <td>[[295.32834, 294.9482, 294.80408, 294.7269, 29...</td>\n",
       "    </tr>\n",
       "    <tr>\n",
       "      <th>2</th>\n",
       "      <td>1948</td>\n",
       "      <td>3</td>\n",
       "      <td>[[295.80078, 295.27454, 294.9782, 295.36456, 2...</td>\n",
       "    </tr>\n",
       "    <tr>\n",
       "      <th>3</th>\n",
       "      <td>1948</td>\n",
       "      <td>4</td>\n",
       "      <td>[[296.61438, 296.05194, 295.79654, 296.1045, 2...</td>\n",
       "    </tr>\n",
       "    <tr>\n",
       "      <th>4</th>\n",
       "      <td>1948</td>\n",
       "      <td>5</td>\n",
       "      <td>[[297.48294, 296.84482, 296.50006, 297.02432, ...</td>\n",
       "    </tr>\n",
       "  </tbody>\n",
       "</table>\n",
       "</div>"
      ],
      "text/plain": [
       "   year  month                                             matrix\n",
       "0  1948      1  [[295.72696, 295.30087, 295.39603, 295.29828, ...\n",
       "1  1948      2  [[295.32834, 294.9482, 294.80408, 294.7269, 29...\n",
       "2  1948      3  [[295.80078, 295.27454, 294.9782, 295.36456, 2...\n",
       "3  1948      4  [[296.61438, 296.05194, 295.79654, 296.1045, 2...\n",
       "4  1948      5  [[297.48294, 296.84482, 296.50006, 297.02432, ..."
      ]
     },
     "execution_count": 11,
     "metadata": {},
     "output_type": "execute_result"
    }
   ],
   "source": [
    "df_year_month.head()"
   ]
  },
  {
   "cell_type": "code",
   "execution_count": 12,
   "metadata": {},
   "outputs": [],
   "source": [
    "for i in range(len(datasets)):\n",
    "    df_year_month[datasets[i]['label']] = df_year_month.apply(\n",
    "        lambda row: row['matrix'][i],\n",
    "        axis=1\n",
    "    )"
   ]
  },
  {
   "cell_type": "code",
   "execution_count": 13,
   "metadata": {},
   "outputs": [],
   "source": [
    "df_reanalysis_by_month = df_year_month.drop('matrix', axis=1)"
   ]
  },
  {
   "cell_type": "code",
   "execution_count": 14,
   "metadata": {},
   "outputs": [],
   "source": [
    "df_complete = pd.merge(\n",
    "    df_data_w_coord,\n",
    "    df_reanalysis_by_month,\n",
    "    on=[\"year\", \"month\"]\n",
    ")"
   ]
  },
  {
   "cell_type": "code",
   "execution_count": 15,
   "metadata": {},
   "outputs": [
    {
     "name": "stdout",
     "output_type": "stream",
     "text": [
      "air2m\n",
      "air1000_500\n",
      "hgt500\n",
      "hgt1000\n",
      "omega500\n",
      "pottemp1000-500\n",
      "pottemp1000-850\n",
      "pr_wtr\n",
      "shum-uwnd-700\n",
      "shum-uwnd-925\n",
      "shum-vwnd-700\n",
      "shum-vwnd-950\n",
      "shum700\n",
      "shum925\n",
      "skt\n",
      "slp\n"
     ]
    }
   ],
   "source": [
    "for i in range(len(datasets)):\n",
    "    print(datasets[i]['label'])\n",
    "    label = datasets[i]['label']\n",
    "    for i in range(6):\n",
    "        df_complete[f\"{label}_{i}\"] = df_complete.apply(\n",
    "            lambda row: row[label][i],\n",
    "            axis=1\n",
    "        )"
   ]
  },
  {
   "cell_type": "code",
   "execution_count": 16,
   "metadata": {},
   "outputs": [],
   "source": [
    "df_complete.to_csv(f\"{BASE_DIR}/dataset_5girds.csv\", index=False)"
   ]
  },
  {
   "cell_type": "code",
   "execution_count": 17,
   "metadata": {},
   "outputs": [
    {
     "name": "stdout",
     "output_type": "stream",
     "text": [
      "\n"
     ]
    }
   ],
   "source": [
    "print()"
   ]
  },
  {
   "cell_type": "code",
   "execution_count": 18,
   "metadata": {},
   "outputs": [
    {
     "name": "stdout",
     "output_type": "stream",
     "text": [
      "DONE!!\n"
     ]
    }
   ],
   "source": [
    "print(\"DONE!!\")"
   ]
  },
  {
   "cell_type": "code",
   "execution_count": null,
   "metadata": {},
   "outputs": [],
   "source": []
  }
 ],
 "metadata": {
  "kernelspec": {
   "display_name": "climate",
   "language": "python",
   "name": "climate"
  },
  "language_info": {
   "codemirror_mode": {
    "name": "ipython",
    "version": 3
   },
   "file_extension": ".py",
   "mimetype": "text/x-python",
   "name": "python",
   "nbconvert_exporter": "python",
   "pygments_lexer": "ipython3",
   "version": "3.9.7"
  }
 },
 "nbformat": 4,
 "nbformat_minor": 4
}

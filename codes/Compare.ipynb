{
 "cells": [
  {
   "cell_type": "code",
   "execution_count": 1,
   "metadata": {},
   "outputs": [],
   "source": [
    "# basic libraries\n",
    "import numpy as np\n",
    "import pandas as pd\n",
    "import matplotlib.pyplot as plt\n",
    "\n",
    "# sklearn\n",
    "from sklearn.linear_model import LinearRegression\n",
    "from sklearn.model_selection import train_test_split, KFold, cross_val_predict, GridSearchCV\n",
    "from sklearn.metrics import mean_squared_error\n",
    "from sklearn.preprocessing import MinMaxScaler, OneHotEncoder, StandardScaler\n",
    "from sklearn.ensemble import GradientBoostingRegressor, RandomForestRegressor\n",
    "from sklearn.svm import SVR\n",
    "from sklearn.cluster import KMeans\n",
    "\n",
    "#others\n",
    "from xgboost import XGBRegressor\n",
    "import cartopy.crs as ccrs\n",
    "import cartopy.mpl.ticker as cticker\n",
    "import time\n",
    "import xarray as xr\n",
    "import sherpa\n",
    "\n",
    "# Variables from config file\n",
    "from config import BASE_DIR, FILE_NAMES, LABELS, ATTRIBUTES\n"
   ]
  },
  {
   "cell_type": "code",
   "execution_count": 2,
   "metadata": {},
   "outputs": [],
   "source": [
    "# Load the datasets\n",
    "# Load the dataset\n",
    "df_metadata = pd.read_excel(f\"{BASE_DIR}/FilledDataset2012.xlsx\", sheet_name=\"Header\")\n",
    "df_data_original = pd.read_csv(f\"{BASE_DIR}/dataset.csv\")\n",
    "\n",
    "df_interp_100 = (\n",
    "    pd.read_csv(f\"{BASE_DIR}/dataset_interp_100.csv\")\n",
    "    .drop(labels=[\"year\", \"month\", \"name\", \"Observer\", \"NumMos\", \"MinYear\", \"MaxYear\", \"Status2010\"], axis=1)\n",
    ")\n",
    "\n",
    "df_interp_50 = (\n",
    "    pd.read_csv(f\"{BASE_DIR}/dataset_interp_50.csv\")\n",
    "    .drop(labels=[\"year\", \"month\", \"name\", \"Observer\", \"NumMos\", \"MinYear\", \"MaxYear\", \"Status2010\"], axis=1)\n",
    ")\n",
    "\n",
    "df_6grids = pd.read_csv(f\"{BASE_DIR}/dataset_5girds.csv\")\n",
    "df_6grids = df_6grids.drop(\n",
    "    labels=[\n",
    "        \"year\", \"month\", \"name\", \"Observer\", \"NumMos\", \"MinYear\", \"MaxYear\", \"Status2010\",\n",
    "        \"air2m\", \"air1000_500\", \"hgt500\", \"hgt1000\", \"omega500\",\n",
    "        \"pottemp1000-500\", \"pottemp1000-850\", \"pr_wtr\", \"shum-uwnd-700\",\n",
    "        \"shum-uwnd-925\", \"shum-vwnd-700\", \"shum-vwnd-950\", \"shum700\",\n",
    "        \"shum925\", \"slp\"\n",
    "    ],\n",
    "    axis=1\n",
    ")"
   ]
  },
  {
   "cell_type": "code",
   "execution_count": 36,
   "metadata": {},
   "outputs": [
    {
     "data": {
      "text/plain": [
       "array([2070])"
      ]
     },
     "execution_count": 36,
     "metadata": {},
     "output_type": "execute_result"
    }
   ],
   "source": [
    "np.where(df_metadata[\"Name\"] == \"Big Bog\")[0]\n",
    "np.where(df_metadata[\"Name\"] == \"HILO\")[0]\n",
    "np.where(df_metadata[\"Name\"] == \"HONOLULU\")[0]\n",
    "np.where(df_metadata[\"Name\"] == \"LIHUE\")[0]"
   ]
  },
  {
   "cell_type": "code",
   "execution_count": 46,
   "metadata": {},
   "outputs": [
    {
     "data": {
      "text/plain": [
       "(numpy.float64, 276.0)"
      ]
     },
     "execution_count": 46,
     "metadata": {},
     "output_type": "execute_result"
    }
   ],
   "source": [
    "skn_bigbog = df_metadata[df_metadata[\"Name\"] == \"Big Bog\"]['SKN'].iloc[0]\n",
    "type(skn_bigbog), skn_bigbog"
   ]
  },
  {
   "cell_type": "code",
   "execution_count": 32,
   "metadata": {},
   "outputs": [
    {
     "data": {
      "text/plain": [
       "0                   KALAE\n",
       "1             MORSE FIELD\n",
       "2         KALAE S TRK STA\n",
       "3                  MANUKA\n",
       "4       KAHUKU MAUKA 2.10\n",
       "              ...        \n",
       "2219             FIELD 30\n",
       "2220            FIELD 7-A\n",
       "2221             PUU AUAU\n",
       "2222         Moloaa Dairy\n",
       "2223       FLD 960-MOLOAA\n",
       "Name: Name, Length: 2224, dtype: object"
      ]
     },
     "execution_count": 32,
     "metadata": {},
     "output_type": "execute_result"
    }
   ],
   "source": [
    "df_metadata[\"Name\"]"
   ]
  },
  {
   "cell_type": "code",
   "execution_count": null,
   "metadata": {},
   "outputs": [],
   "source": [
    "# Hilo station on Big Island;\n",
    "# Big Bog station on Maui;\n",
    "# Honolulu Station on Oʻahu;\n",
    "# Līhuʻe station on Kauaʻi."
   ]
  }
 ],
 "metadata": {
  "kernelspec": {
   "display_name": "climate",
   "language": "python",
   "name": "climate"
  },
  "language_info": {
   "codemirror_mode": {
    "name": "ipython",
    "version": 3
   },
   "file_extension": ".py",
   "mimetype": "text/x-python",
   "name": "python",
   "nbconvert_exporter": "python",
   "pygments_lexer": "ipython3",
   "version": "3.9.7"
  }
 },
 "nbformat": 4,
 "nbformat_minor": 4
}

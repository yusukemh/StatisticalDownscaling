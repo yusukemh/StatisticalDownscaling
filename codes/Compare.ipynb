{
 "cells": [
  {
   "cell_type": "code",
   "execution_count": 1,
   "metadata": {},
   "outputs": [],
   "source": [
    "# basic libraries\n",
    "import numpy as np\n",
    "import pandas as pd\n",
    "import matplotlib.pyplot as plt\n",
    "\n",
    "# sklearn\n",
    "from sklearn.linear_model import LinearRegression\n",
    "from sklearn.model_selection import train_test_split, KFold, cross_val_predict, GridSearchCV\n",
    "from sklearn.metrics import mean_squared_error\n",
    "from sklearn.preprocessing import MinMaxScaler, OneHotEncoder, StandardScaler\n",
    "from sklearn.ensemble import GradientBoostingRegressor, RandomForestRegressor\n",
    "from sklearn.svm import SVR\n",
    "from sklearn.cluster import KMeans\n",
    "\n",
    "#others\n",
    "from xgboost import XGBRegressor\n",
    "import cartopy.crs as ccrs\n",
    "import cartopy.mpl.ticker as cticker\n",
    "import time\n",
    "import xarray as xr\n",
    "import sherpa\n",
    "\n",
    "# Variables from config file\n",
    "from config import BASE_DIR, FILE_NAMES, LABELS, ATTRIBUTES\n"
   ]
  },
  {
   "cell_type": "code",
   "execution_count": 2,
   "metadata": {},
   "outputs": [
    {
     "name": "stdout",
     "output_type": "stream",
     "text": [
      "air2m_0 air1000_500_0 hgt500_0 hgt1000_0 omega500_0 pottemp1000-500_0 pottemp1000-850_0 pr_wtr_0 shum-uwnd-700_0 shum-uwnd-925_0 shum-vwnd-700_0 shum-vwnd-950_0 shum700_0 shum925_0 skt_0 slp_0 air2m_1 air1000_500_1 hgt500_1 hgt1000_1 omega500_1 pottemp1000-500_1 pottemp1000-850_1 pr_wtr_1 shum-uwnd-700_1 shum-uwnd-925_1 shum-vwnd-700_1 shum-vwnd-950_1 shum700_1 shum925_1 skt_1 slp_1 air2m_2 air1000_500_2 hgt500_2 hgt1000_2 omega500_2 pottemp1000-500_2 pottemp1000-850_2 pr_wtr_2 shum-uwnd-700_2 shum-uwnd-925_2 shum-vwnd-700_2 shum-vwnd-950_2 shum700_2 shum925_2 skt_2 slp_2 air2m_3 air1000_500_3 hgt500_3 hgt1000_3 omega500_3 pottemp1000-500_3 pottemp1000-850_3 pr_wtr_3 shum-uwnd-700_3 shum-uwnd-925_3 shum-vwnd-700_3 shum-vwnd-950_3 shum700_3 shum925_3 skt_3 slp_3 air2m_4 air1000_500_4 hgt500_4 hgt1000_4 omega500_4 pottemp1000-500_4 pottemp1000-850_4 pr_wtr_4 shum-uwnd-700_4 shum-uwnd-925_4 shum-vwnd-700_4 shum-vwnd-950_4 shum700_4 shum925_4 skt_4 slp_4 air2m_5 air1000_500_5 hgt500_5 hgt1000_5 omega500_5 pottemp1000-500_5 pottemp1000-850_5 pr_wtr_5 shum-uwnd-700_5 shum-uwnd-925_5 shum-vwnd-700_5 shum-vwnd-950_5 shum700_5 shum925_5 skt_5 slp_5 data_in lat lon elevation season_wet season_dry "
     ]
    }
   ],
   "source": [
    "# Load the datasets\n",
    "# Load the dataset\n",
    "# df_metadata = pd.read_excel(f\"{BASE_DIR}/FilledDataset2012.xlsx\", sheet_name=\"Header\")\n",
    "# df_data_original = pd.read_csv(f\"{BASE_DIR}/dataset.csv\")\n",
    "\n",
    "\n",
    "# load datasets\n",
    "df_train = pd.read_csv(f\"{BASE_DIR}/train.csv\")\n",
    "df_valid = pd.read_csv(f\"{BASE_DIR}/valid.csv\")\n",
    "df_test = pd.read_csv(f\"{BASE_DIR}/test.csv\")\n",
    "\n",
    "# Nov-Apr = \"wet\", May-Oct = \"dry\"\n",
    "wet = [11, 12, 1, 2, 3, 4]\n",
    "dry = [5, 6, 7, 8, 9, 10]\n",
    "df_train['season_dry'] = df_train.apply(lambda row: 1 if row.month in dry else 0, axis=1)\n",
    "df_train['season_wet'] = df_train.apply(lambda row: 1 if row.month in wet else 0, axis=1)\n",
    "\n",
    "df_valid['season_dry'] = df_valid.apply(lambda row: 1 if row.month in dry else 0, axis=1)\n",
    "df_valid['season_wet'] = df_valid.apply(lambda row: 1 if row.month in wet else 0, axis=1)\n",
    "\n",
    "df_test['season_dry'] = df_test.apply(lambda row: 1 if row.month in dry else 0, axis=1)\n",
    "df_test['season_wet'] = df_test.apply(lambda row: 1 if row.month in wet else 0, axis=1)\n",
    "\n",
    "reanalysis_data = [\n",
    "    'air2m', 'air1000_500', 'hgt500', 'hgt1000', 'omega500',\n",
    "    'pottemp1000-500', 'pottemp1000-850', 'pr_wtr', 'shum-uwnd-700',\n",
    "    'shum-uwnd-925', 'shum-vwnd-700', 'shum-vwnd-950', 'shum700', 'shum925', \n",
    "    'skt', 'slp'\n",
    "]\n",
    "\n",
    "columns = []\n",
    "for i in range(6):\n",
    "    for item in reanalysis_data:\n",
    "        columns.append(f\"{item}_{i}\")\n",
    "\n",
    "columns.extend(['data_in', 'lat', 'lon', 'elevation', 'season_wet', 'season_dry'])\n",
    "for item in columns:\n",
    "    print(item, end=' ')"
   ]
  },
  {
   "cell_type": "code",
   "execution_count": 3,
   "metadata": {},
   "outputs": [
    {
     "data": {
      "text/plain": [
       "20         FIELD 435\n",
       "21          FIELD 51\n",
       "22           NAALEHU\n",
       "23           HONUAPO\n",
       "24     MOAULA TUNNEL\n",
       "25        MOAULA RES\n",
       "26      HIGASHI CAMP\n",
       "27            MOAULA\n",
       "28    ALILI TUNNEL 2\n",
       "29             ALILI\n",
       "Name: name, dtype: object"
      ]
     },
     "execution_count": 3,
     "metadata": {},
     "output_type": "execute_result"
    }
   ],
   "source": [
    "df_train['name'][20:30]"
   ]
  },
  {
   "cell_type": "code",
   "execution_count": 4,
   "metadata": {},
   "outputs": [],
   "source": [
    "station = \"H 23 CAMP 9\"\n",
    "\n",
    "df_train_station = df_train[df_train['name'] == station]\n",
    "df_test_station  = df_test[df_test['name'] == station]\n",
    "\n",
    "# xgboost trains on the entire dataset\n",
    "Xtrain = np.array(df_train[columns].drop(labels=[\"data_in\"], axis=1))\n",
    "Ytrain = np.array(df_train[\"data_in\"])\n",
    "# test on the station data\n",
    "Xtest = np.array(df_test_station[columns].drop(labels=[\"data_in\"], axis=1))\n",
    "Ytest = np.array(df_test_station[\"data_in\"])"
   ]
  },
  {
   "cell_type": "code",
   "execution_count": 5,
   "metadata": {},
   "outputs": [
    {
     "name": "stdout",
     "output_type": "stream",
     "text": [
      "MSE on xgboost (test) : 7.95053\n",
      "MSE on xgboost (train): 4.65344\n"
     ]
    }
   ],
   "source": [
    "# hyperparameters obtained by fine tuning\n",
    "xgboost = XGBRegressor(\n",
    "    n_estimators=170,\n",
    "    learning_rate=0.1,\n",
    "    max_depth=9,\n",
    "    verbosity=0\n",
    ")\n",
    "\n",
    "xgboost.fit(Xtrain, Ytrain)\n",
    "print(\"MSE on xgboost (test) : {:.5f}\".format(mean_squared_error(Ytest, xgboost.predict(Xtest))))\n",
    "print(\"MSE on xgboost (train): {:.5f}\".format(mean_squared_error(Ytrain, xgboost.predict(Xtrain))))"
   ]
  },
  {
   "cell_type": "code",
   "execution_count": 7,
   "metadata": {},
   "outputs": [
    {
     "name": "stdout",
     "output_type": "stream",
     "text": [
      "MSE on Linear Regression (test) : 98.38768\n",
      "MSE on Linear Regression (train): 0.000000000\n"
     ]
    }
   ],
   "source": [
    "# linear regression trains on the station dataset\n",
    "Xtrain = np.array(df_train_station[columns].drop(labels=[\"data_in\"], axis=1))\n",
    "Ytrain = np.array(df_train_station[\"data_in\"])\n",
    "# test on the station data\n",
    "Xtest = np.array(df_test_station[columns].drop(labels=[\"data_in\"], axis=1))\n",
    "Ytest = np.array(df_test_station[\"data_in\"])\n",
    "\n",
    "model = LinearRegression()\n",
    "model.fit(Xtrain, Ytrain)\n",
    "print(\"MSE on Linear Regression (test) : {:.5f}\".format(mean_squared_error(Ytest, model.predict(Xtest))))\n",
    "print(\"MSE on Linear Regression (train): {:.9f}\".format(mean_squared_error(Ytrain, model.predict(Xtrain))))"
   ]
  },
  {
   "cell_type": "code",
   "execution_count": 21,
   "metadata": {},
   "outputs": [
    {
     "data": {
      "text/plain": [
       "(79, 101)"
      ]
     },
     "execution_count": 21,
     "metadata": {},
     "output_type": "execute_result"
    }
   ],
   "source": [
    "Xtrain.shape"
   ]
  },
  {
   "cell_type": "code",
   "execution_count": 22,
   "metadata": {},
   "outputs": [
    {
     "data": {
      "text/plain": [
       "(29, 101)"
      ]
     },
     "execution_count": 22,
     "metadata": {},
     "output_type": "execute_result"
    }
   ],
   "source": [
    "Xtest.shape"
   ]
  },
  {
   "cell_type": "code",
   "execution_count": 9,
   "metadata": {},
   "outputs": [
    {
     "data": {
      "text/plain": [
       "array([ -1.37472834,  -3.9388546 ,   1.66263802,   3.64402281,\n",
       "         0.42597255,  -4.89964856,  -1.86897793,  -2.65666209,\n",
       "        -3.61230509,   3.24624348,   1.03520429,   2.50901055,\n",
       "        -0.24589212,   9.90739521,  -5.24803597, -31.29209095,\n",
       "        29.36384864,  15.68540875,  -3.67418031,   4.5585109 ,\n",
       "        10.48984597,  26.1794364 , -10.00933717,  -2.07021897,\n",
       "         8.57326135,  -5.46548312,   5.00506894,  -4.28891818,\n",
       "        26.28797123,   8.61259018,  20.50927849,   3.13582043,\n",
       "       -14.76622433, -22.73499744,   1.60480643,  -3.19608718,\n",
       "        11.62962897, -14.66302912,  12.91253628,   2.7244002 ,\n",
       "        -6.02482954,   2.68608791,   0.28615481,   3.1327232 ,\n",
       "       -16.39853266, -12.60992938, -20.1791427 , -23.60575842,\n",
       "       -14.02929353, -12.34466543,  -4.79106681,   3.03305395,\n",
       "        -3.82026822,   5.63260849,   6.70444031,  -2.40305905,\n",
       "         8.42467118,  -3.53881079,   2.90015113,  -2.44406572,\n",
       "         7.74875935, -15.65813399,  12.6652431 , -17.92720583,\n",
       "         2.61733333, -11.31682744,   7.99527768,  -6.43645014,\n",
       "        11.68763182, -11.22045176,  -3.62986118,   3.68592446,\n",
       "       -10.83063875,   5.67765878, -12.12303219,   4.42895463,\n",
       "       -23.19752999,  13.42524952,   0.56516885,   8.22022086,\n",
       "         2.77062402,  -1.2409437 ,  -3.18723397,   5.816709  ,\n",
       "        17.47532741,  27.83516324, -12.0906    ,  -1.76065676,\n",
       "         4.13303288,  -2.83543356,   2.79859478,  -3.05327414,\n",
       "         2.04018262,   1.38094888,  -0.42404266,   0.26657598,\n",
       "        -1.00026851,  -8.00214805,   0.        ,   0.81751148,\n",
       "        -0.8169505 ])"
      ]
     },
     "execution_count": 9,
     "metadata": {},
     "output_type": "execute_result"
    }
   ],
   "source": [
    "model.coef_"
   ]
  },
  {
   "cell_type": "code",
   "execution_count": 20,
   "metadata": {},
   "outputs": [
    {
     "name": "stdout",
     "output_type": "stream",
     "text": [
      "4.669999999998254 4.67\n",
      "3.069999999999709 3.0700000000000003\n",
      "4.000000000021828 4.0\n",
      "4.189999999987776 4.19\n",
      "3.390000000021246 3.39\n",
      "1.8299999999726424 1.83\n",
      "4.640000000021246 4.64\n",
      "3.7699999999967986 3.77\n",
      "7.990000000019791 7.99\n",
      "1.139999999999418 1.14\n",
      "0.750000000007276 0.75\n",
      "0.9900000000052387 0.99\n",
      "6.7000000000116415 6.7\n",
      "5.25 5.25\n",
      "3.8800000000192085 3.88\n",
      "9.809999999975844 9.81\n",
      "3.1200000000026193 3.12\n",
      "0.8500000000058208 0.85\n",
      "2.2400000000125146 2.24\n",
      "3.1200000000026193 3.12\n",
      "4.180000000014843 4.18\n",
      "7.400000000001455 7.4\n",
      "15.319999999999709 15.32\n",
      "18.68000000000029 18.68\n",
      "6.480000000010477 6.48\n",
      "1.3100000000194996 1.31\n",
      "4.07999999999447 4.08\n",
      "2.5300000000133878 2.53\n",
      "12.920000000020082 12.92\n",
      "6.010000000016589 6.01\n",
      "13.419999999998254 13.42\n",
      "14.71999999997206 14.72\n",
      "9.750000000007276 9.75\n",
      "7.649999999986903 7.65\n",
      "4.080000000001746 4.08\n",
      "10.800000000010186 10.8\n",
      "6.580000000023574 6.58\n",
      "6.169999999998254 6.17\n",
      "2.1300000000046566 2.13\n",
      "3.580000000009022 3.58\n",
      "5.810000000012224 5.8100000000000005\n",
      "3.900000000001455 3.9\n",
      "5.079999999987194 5.08\n",
      "1.3300000000017462 1.33\n",
      "3.080000000009022 3.08\n",
      "3.3500000000058208 3.35\n",
      "3.610000000007858 3.61\n",
      "14.960000000013679 14.96\n",
      "4.500000000007276 4.5\n",
      "4.219999999986612 4.22\n",
      "5.680000000007567 5.68\n",
      "2.360000000015134 2.36\n",
      "7.919999999998254 7.92\n",
      "4.180000000022119 4.18\n",
      "2.4899999999906868 2.49\n",
      "2.860000000015134 2.86\n",
      "4.259999999987485 4.26\n",
      "2.1900000000096043 2.19\n",
      "2.929999999993015 2.93\n",
      "4.949999999989814 4.95\n",
      "4.869999999995343 4.87\n",
      "21.490000000027067 21.49\n",
      "4.040000000008149 4.04\n",
      "2.2400000000125146 2.24\n",
      "1.2100000000136788 1.21\n",
      "2.250000000029104 2.25\n",
      "3.3700000000171713 3.37\n",
      "7.990000000027067 7.99\n",
      "4.769999999996799 4.7700000000000005\n",
      "8.419999999998254 8.42\n",
      "5.5200000000040745 5.5200000000000005\n",
      "1.2699999999967986 1.27\n",
      "6.840000000061991 6.84\n",
      "10.810000000004948 10.81\n",
      "2.4800000000032014 2.48\n",
      "0.9400000000241562 0.94\n",
      "1.9400000000168802 1.94\n",
      "6.190000000009604 6.19\n",
      "1.319999999999709 1.32\n"
     ]
    }
   ],
   "source": [
    "for train, test in zip(Xtrain, Ytrain):\n",
    "    print(train.dot(model.coef_) + model.intercept_, test)"
   ]
  },
  {
   "cell_type": "code",
   "execution_count": 14,
   "metadata": {},
   "outputs": [
    {
     "data": {
      "text/plain": [
       "4.67"
      ]
     },
     "execution_count": 14,
     "metadata": {},
     "output_type": "execute_result"
    }
   ],
   "source": [
    "Ytrain[0]"
   ]
  },
  {
   "cell_type": "code",
   "execution_count": 15,
   "metadata": {},
   "outputs": [
    {
     "data": {
      "text/plain": [
       "20"
      ]
     },
     "execution_count": 15,
     "metadata": {},
     "output_type": "execute_result"
    }
   ],
   "source": [
    "np.array([1,2,3]).dot(np.array([2,3,4]))"
   ]
  },
  {
   "cell_type": "code",
   "execution_count": null,
   "metadata": {},
   "outputs": [],
   "source": []
  },
  {
   "cell_type": "code",
   "execution_count": null,
   "metadata": {},
   "outputs": [],
   "source": []
  },
  {
   "cell_type": "code",
   "execution_count": 28,
   "metadata": {},
   "outputs": [],
   "source": [
    "stations = np.random.choice(df_train['name'], size=10, random_state=42?)"
   ]
  },
  {
   "cell_type": "code",
   "execution_count": 31,
   "metadata": {},
   "outputs": [
    {
     "name": "stdout",
     "output_type": "stream",
     "text": [
      "=========================================\n",
      "Running experiment on H 23 CAMP 9 station.\n",
      "There are:\n",
      "79 training data and\n",
      "29 test data\n",
      "=========================================\n",
      "MSE on xgboost (test) : 7.95053\n",
      "MSE on xgboost (train): 4.65344\n",
      "MSE on Linear Regression (test) : 98.38768\n",
      "MSE on Linear Regression (train): 0.00000\n",
      "=========================================\n",
      "Running experiment on FIELD 271 station.\n",
      "There are:\n",
      "450 training data and\n",
      "135 test data\n",
      "=========================================\n",
      "MSE on xgboost (test) : 5.64846\n",
      "MSE on xgboost (train): 4.65344\n",
      "MSE on Linear Regression (test) : 6.40395\n",
      "MSE on Linear Regression (train): 4.26141\n",
      "=========================================\n",
      "Running experiment on Kahakuloa station.\n",
      "There are:\n",
      "483 training data and\n",
      "142 test data\n",
      "=========================================\n",
      "MSE on xgboost (test) : 7.78734\n",
      "MSE on xgboost (train): 4.65344\n",
      "MSE on Linear Regression (test) : 7.04884\n",
      "MSE on Linear Regression (train): 4.99478\n",
      "=========================================\n",
      "Running experiment on PAUWELA station.\n",
      "There are:\n",
      "450 training data and\n",
      "135 test data\n",
      "=========================================\n",
      "MSE on xgboost (test) : 7.40762\n",
      "MSE on xgboost (train): 4.65344\n",
      "MSE on Linear Regression (test) : 7.71454\n",
      "MSE on Linear Regression (train): 4.55527\n",
      "=========================================\n",
      "Running experiment on KAHEKA station.\n",
      "There are:\n",
      "450 training data and\n",
      "135 test data\n",
      "=========================================\n",
      "MSE on xgboost (test) : 3.84246\n",
      "MSE on xgboost (train): 4.65344\n",
      "MSE on Linear Regression (test) : 4.36595\n",
      "MSE on Linear Regression (train): 2.53908\n",
      "=========================================\n",
      "Running experiment on KULA KORTE station.\n",
      "There are:\n",
      "118 training data and\n",
      "30 test data\n",
      "=========================================\n",
      "MSE on xgboost (test) : 3.30640\n",
      "MSE on xgboost (train): 4.65344\n",
      "MSE on Linear Regression (test) : 10.64760\n",
      "MSE on Linear Regression (train): 0.73852\n",
      "=========================================\n",
      "Running experiment on FIELD 201 station.\n",
      "There are:\n",
      "900 training data and\n",
      "270 test data\n",
      "=========================================\n",
      "MSE on xgboost (test) : 6.87120\n",
      "MSE on xgboost (train): 4.65344\n",
      "MSE on Linear Regression (test) : 7.88153\n",
      "MSE on Linear Regression (train): 5.97824\n",
      "=========================================\n",
      "Running experiment on L 20 station.\n",
      "There are:\n",
      "449 training data and\n",
      "135 test data\n",
      "=========================================\n",
      "MSE on xgboost (test) : 5.28610\n",
      "MSE on xgboost (train): 4.65344\n",
      "MSE on Linear Regression (test) : 5.58335\n",
      "MSE on Linear Regression (train): 4.63557\n",
      "=========================================\n",
      "Running experiment on KAALAPUUALI station.\n",
      "There are:\n",
      "438 training data and\n",
      "129 test data\n",
      "=========================================\n",
      "MSE on xgboost (test) : 9.11544\n",
      "MSE on xgboost (train): 4.65344\n",
      "MSE on Linear Regression (test) : 10.12625\n",
      "MSE on Linear Regression (train): 4.10702\n",
      "=========================================\n",
      "Running experiment on KAUPAKULOA FT 10 station.\n",
      "There are:\n",
      "66 training data and\n",
      "19 test data\n",
      "=========================================\n",
      "MSE on xgboost (test) : 27.23741\n",
      "MSE on xgboost (train): 4.65344\n",
      "MSE on Linear Regression (test) : 76.46426\n",
      "MSE on Linear Regression (train): 0.00000\n"
     ]
    }
   ],
   "source": [
    "for station in stations:\n",
    "    df_train_station = df_train[df_train['name'] == station]\n",
    "    df_test_station  = df_test[df_test['name'] == station]\n",
    "    if df_train_station.shape[0] == 0 or df_test_station.shape[0] == 0:\n",
    "        continue\n",
    "    print(\"=========================================\")\n",
    "    print(f\"Running experiment on {station} station.\")\n",
    "    print(f\"There are:\")\n",
    "    print(f\"{df_train_station.shape[0]} training data and\")\n",
    "    print(f\"{df_test_station.shape[0]} test data\")\n",
    "    print(\"=========================================\")\n",
    "\n",
    "    # xgboost trains on the entire dataset\n",
    "    Xtrain = np.array(df_train[columns].drop(labels=[\"data_in\"], axis=1))\n",
    "    Ytrain = np.array(df_train[\"data_in\"])\n",
    "    # test on the station data\n",
    "    Xtest = np.array(df_test_station[columns].drop(labels=[\"data_in\"], axis=1))\n",
    "    Ytest = np.array(df_test_station[\"data_in\"])\n",
    "\n",
    "    # hyperparameters obtained by fine tuning\n",
    "    xgboost = XGBRegressor(\n",
    "        n_estimators=170,\n",
    "        learning_rate=0.1,\n",
    "        max_depth=9,\n",
    "        verbosity=0\n",
    "    )\n",
    "\n",
    "    xgboost.fit(Xtrain, Ytrain)\n",
    "    print(\"MSE on xgboost (test) : {:.5f}\".format(mean_squared_error(Ytest, xgboost.predict(Xtest))))\n",
    "    print(\"MSE on xgboost (train): {:.5f}\".format(mean_squared_error(Ytrain, xgboost.predict(Xtrain))))\n",
    "\n",
    "    # linear regression trains on the station dataset\n",
    "    Xtrain = np.array(df_train_station[columns].drop(labels=[\"data_in\"], axis=1))\n",
    "    Ytrain = np.array(df_train_station[\"data_in\"])\n",
    "    # test on the station data\n",
    "    Xtest = np.array(df_test_station[columns].drop(labels=[\"data_in\"], axis=1))\n",
    "    Ytest = np.array(df_test_station[\"data_in\"])\n",
    "\n",
    "    model = LinearRegression()\n",
    "    model.fit(Xtrain, Ytrain)\n",
    "    print(\"MSE on Linear Regression (test) : {:.5f}\".format(mean_squared_error(Ytest, model.predict(Xtest))))\n",
    "    print(\"MSE on Linear Regression (train): {:.5f}\".format(mean_squared_error(Ytrain, model.predict(Xtrain))))"
   ]
  },
  {
   "cell_type": "code",
   "execution_count": 10,
   "metadata": {},
   "outputs": [
    {
     "name": "stdout",
     "output_type": "stream",
     "text": [
      "MSE on xgboost (test) : 36.22984\n",
      "MSE on xgboost (train): 4.65344\n",
      "MSE on Linear Regression (test) : 33.09867\n",
      "MSE on Linear Regression (train): 24.18849\n"
     ]
    }
   ],
   "source": [
    "station = \"HILO\"\n",
    "\n",
    "df_train_station = df_train[df_train['name'] == station]\n",
    "df_test_station  = df_test[df_test['name'] == station]\n",
    "\n",
    "# xgboost trains on the entire dataset\n",
    "Xtrain = np.array(df_train[columns].drop(labels=[\"data_in\"], axis=1))\n",
    "Ytrain = np.array(df_train[\"data_in\"])\n",
    "# test on the station data\n",
    "Xtest = np.array(df_test_station[columns].drop(labels=[\"data_in\"], axis=1))\n",
    "Ytest = np.array(df_test_station[\"data_in\"])\n",
    "\n",
    "# hyperparameters obtained by fine tuning\n",
    "xgboost = XGBRegressor(\n",
    "    n_estimators=170,\n",
    "    learning_rate=0.1,\n",
    "    max_depth=9,\n",
    "    verbosity=0\n",
    ")\n",
    "\n",
    "xgboost.fit(Xtrain, Ytrain)\n",
    "print(\"MSE on xgboost (test) : {:.5f}\".format(mean_squared_error(Ytest, xgboost.predict(Xtest))))\n",
    "print(\"MSE on xgboost (train): {:.5f}\".format(mean_squared_error(Ytrain, xgboost.predict(Xtrain))))\n",
    "\n",
    "# linear regression trains on the station dataset\n",
    "Xtrain = np.array(df_train_station[columns].drop(labels=[\"data_in\"], axis=1))\n",
    "Ytrain = np.array(df_train_station[\"data_in\"])\n",
    "# test on the station data\n",
    "Xtest = np.array(df_test_station[columns].drop(labels=[\"data_in\"], axis=1))\n",
    "Ytest = np.array(df_test_station[\"data_in\"])\n",
    "\n",
    "model = LinearRegression()\n",
    "model.fit(Xtrain, Ytrain)\n",
    "print(\"MSE on Linear Regression (test) : {:.5f}\".format(mean_squared_error(Ytest, model.predict(Xtest))))\n",
    "print(\"MSE on Linear Regression (train): {:.5f}\".format(mean_squared_error(Ytrain, model.predict(Xtrain))))"
   ]
  },
  {
   "cell_type": "code",
   "execution_count": null,
   "metadata": {},
   "outputs": [],
   "source": []
  },
  {
   "cell_type": "code",
   "execution_count": 11,
   "metadata": {},
   "outputs": [
    {
     "name": "stdout",
     "output_type": "stream",
     "text": [
      "MSE on xgboost (test) : 5.79774\n",
      "MSE on xgboost (train): 4.65344\n",
      "MSE on Linear Regression (test) : 6.01450\n",
      "MSE on Linear Regression (train): 5.17918\n"
     ]
    }
   ],
   "source": [
    "station = \"LIHUE\"\n",
    "\n",
    "df_train_station = df_train[df_train['name'] == station]\n",
    "df_test_station  = df_test[df_test['name'] == station]\n",
    "\n",
    "# xgboost trains on the entire dataset\n",
    "Xtrain = np.array(df_train[columns].drop(labels=[\"data_in\"], axis=1))\n",
    "Ytrain = np.array(df_train[\"data_in\"])\n",
    "# test on the station data\n",
    "Xtest = np.array(df_test_station[columns].drop(labels=[\"data_in\"], axis=1))\n",
    "Ytest = np.array(df_test_station[\"data_in\"])\n",
    "\n",
    "# hyperparameters obtained by fine tuning\n",
    "xgboost = XGBRegressor(\n",
    "    n_estimators=170,\n",
    "    learning_rate=0.1,\n",
    "    max_depth=9,\n",
    "    verbosity=0\n",
    ")\n",
    "\n",
    "xgboost.fit(Xtrain, Ytrain)\n",
    "print(\"MSE on xgboost (test) : {:.5f}\".format(mean_squared_error(Ytest, xgboost.predict(Xtest))))\n",
    "print(\"MSE on xgboost (train): {:.5f}\".format(mean_squared_error(Ytrain, xgboost.predict(Xtrain))))\n",
    "\n",
    "# linear regression trains on the station dataset\n",
    "Xtrain = np.array(df_train_station[columns].drop(labels=[\"data_in\"], axis=1))\n",
    "Ytrain = np.array(df_train_station[\"data_in\"])\n",
    "# test on the station data\n",
    "Xtest = np.array(df_test_station[columns].drop(labels=[\"data_in\"], axis=1))\n",
    "Ytest = np.array(df_test_station[\"data_in\"])\n",
    "\n",
    "model = LinearRegression()\n",
    "model.fit(Xtrain, Ytrain)\n",
    "print(\"MSE on Linear Regression (test) : {:.5f}\".format(mean_squared_error(Ytest, model.predict(Xtest))))\n",
    "print(\"MSE on Linear Regression (train): {:.5f}\".format(mean_squared_error(Ytrain, model.predict(Xtrain))))"
   ]
  },
  {
   "cell_type": "code",
   "execution_count": 13,
   "metadata": {},
   "outputs": [
    {
     "name": "stdout",
     "output_type": "stream",
     "text": [
      "MSE on xgboost (test) : 3.94315\n",
      "MSE on xgboost (train): 4.65344\n",
      "MSE on Linear Regression (test) : 5.24540\n",
      "MSE on Linear Regression (train): 2.00699\n"
     ]
    }
   ],
   "source": [
    "station = \"KALAE\"\n",
    "\n",
    "df_train_station = df_train[df_train['name'] == station]\n",
    "df_test_station  = df_test[df_test['name'] == station]\n",
    "\n",
    "# xgboost trains on the entire dataset\n",
    "Xtrain = np.array(df_train[columns].drop(labels=[\"data_in\"], axis=1))\n",
    "Ytrain = np.array(df_train[\"data_in\"])\n",
    "# test on the station data\n",
    "Xtest = np.array(df_test_station[columns].drop(labels=[\"data_in\"], axis=1))\n",
    "Ytest = np.array(df_test_station[\"data_in\"])\n",
    "\n",
    "# hyperparameters obtained by fine tuning\n",
    "xgboost = XGBRegressor(\n",
    "    n_estimators=170,\n",
    "    learning_rate=0.1,\n",
    "    max_depth=9,\n",
    "    verbosity=0\n",
    ")\n",
    "\n",
    "xgboost.fit(Xtrain, Ytrain)\n",
    "print(\"MSE on xgboost (test) : {:.5f}\".format(mean_squared_error(Ytest, xgboost.predict(Xtest))))\n",
    "print(\"MSE on xgboost (train): {:.5f}\".format(mean_squared_error(Ytrain, xgboost.predict(Xtrain))))\n",
    "\n",
    "# linear regression trains on the station dataset\n",
    "Xtrain = np.array(df_train_station[columns].drop(labels=[\"data_in\"], axis=1))\n",
    "Ytrain = np.array(df_train_station[\"data_in\"])\n",
    "# test on the station data\n",
    "Xtest = np.array(df_test_station[columns].drop(labels=[\"data_in\"], axis=1))\n",
    "Ytest = np.array(df_test_station[\"data_in\"])\n",
    "\n",
    "model = LinearRegression()\n",
    "model.fit(Xtrain, Ytrain)\n",
    "print(\"MSE on Linear Regression (test) : {:.5f}\".format(mean_squared_error(Ytest, model.predict(Xtest))))\n",
    "print(\"MSE on Linear Regression (train): {:.5f}\".format(mean_squared_error(Ytrain, model.predict(Xtrain))))"
   ]
  },
  {
   "cell_type": "code",
   "execution_count": null,
   "metadata": {},
   "outputs": [],
   "source": []
  },
  {
   "cell_type": "code",
   "execution_count": null,
   "metadata": {},
   "outputs": [],
   "source": []
  },
  {
   "cell_type": "code",
   "execution_count": null,
   "metadata": {},
   "outputs": [],
   "source": []
  },
  {
   "cell_type": "code",
   "execution_count": null,
   "metadata": {},
   "outputs": [],
   "source": []
  },
  {
   "cell_type": "code",
   "execution_count": null,
   "metadata": {},
   "outputs": [],
   "source": []
  },
  {
   "cell_type": "code",
   "execution_count": null,
   "metadata": {},
   "outputs": [],
   "source": []
  },
  {
   "cell_type": "code",
   "execution_count": null,
   "metadata": {},
   "outputs": [],
   "source": []
  },
  {
   "cell_type": "code",
   "execution_count": null,
   "metadata": {},
   "outputs": [],
   "source": []
  },
  {
   "cell_type": "code",
   "execution_count": null,
   "metadata": {},
   "outputs": [],
   "source": []
  },
  {
   "cell_type": "code",
   "execution_count": null,
   "metadata": {},
   "outputs": [],
   "source": []
  },
  {
   "cell_type": "code",
   "execution_count": null,
   "metadata": {},
   "outputs": [],
   "source": []
  },
  {
   "cell_type": "code",
   "execution_count": 32,
   "metadata": {},
   "outputs": [
    {
     "name": "stdout",
     "output_type": "stream",
     "text": [
      "MSE on Linear Regression (test) : 76.46426\n",
      "MSE on Linear Regression (train): 0.00000\n"
     ]
    }
   ],
   "source": [
    "station = \"KAUPAKULOA FT 10\"\n",
    "\n",
    "df_train_station = df_train[df_train['name'] == station]\n",
    "df_test_station  = df_test[df_test['name'] == station]\n",
    "\n",
    "\n",
    "# linear regression trains on the station dataset\n",
    "Xtrain = np.array(df_train_station[columns].drop(labels=[\"data_in\"], axis=1))\n",
    "Ytrain = np.array(df_train_station[\"data_in\"])\n",
    "# test on the station data\n",
    "Xtest = np.array(df_test_station[columns].drop(labels=[\"data_in\"], axis=1))\n",
    "Ytest = np.array(df_test_station[\"data_in\"])\n",
    "\n",
    "model = LinearRegression()\n",
    "model.fit(Xtrain, Ytrain)\n",
    "print(\"MSE on Linear Regression (test) : {:.5f}\".format(mean_squared_error(Ytest, model.predict(Xtest))))\n",
    "print(\"MSE on Linear Regression (train): {:.5f}\".format(mean_squared_error(Ytrain, model.predict(Xtrain))))"
   ]
  },
  {
   "cell_type": "code",
   "execution_count": 40,
   "metadata": {},
   "outputs": [],
   "source": [
    "n_data = df_train_station.shape[0]\n",
    "data = df_train_station['data_in'].to_numpy()"
   ]
  },
  {
   "cell_type": "code",
   "execution_count": null,
   "metadata": {},
   "outputs": [],
   "source": []
  }
 ],
 "metadata": {
  "kernelspec": {
   "display_name": "climate",
   "language": "python",
   "name": "climate"
  },
  "language_info": {
   "codemirror_mode": {
    "name": "ipython",
    "version": 3
   },
   "file_extension": ".py",
   "mimetype": "text/x-python",
   "name": "python",
   "nbconvert_exporter": "python",
   "pygments_lexer": "ipython3",
   "version": "3.9.7"
  }
 },
 "nbformat": 4,
 "nbformat_minor": 4
}

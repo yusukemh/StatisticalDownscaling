{
 "cells": [
  {
   "cell_type": "code",
   "execution_count": 1,
   "metadata": {},
   "outputs": [],
   "source": [
    "# basic libraries\n",
    "import numpy as np\n",
    "import pandas as pd\n",
    "import matplotlib.pyplot as plt\n",
    "\n",
    "# sklearn\n",
    "from sklearn.linear_model import LinearRegression\n",
    "from sklearn.model_selection import train_test_split, KFold, cross_val_predict, GridSearchCV\n",
    "from sklearn.metrics import mean_squared_error\n",
    "from sklearn.preprocessing import MinMaxScaler, OneHotEncoder, StandardScaler\n",
    "from sklearn.ensemble import GradientBoostingRegressor, RandomForestRegressor\n",
    "from sklearn.svm import SVR\n",
    "from sklearn.cluster import KMeans\n",
    "\n",
    "#others\n",
    "from xgboost import XGBRegressor\n",
    "import cartopy.crs as ccrs\n",
    "import cartopy.mpl.ticker as cticker\n",
    "import time\n",
    "import xarray as xr\n",
    "import sherpa\n",
    "\n",
    "# Variables from config file\n",
    "from config import BASE_DIR, FILE_NAMES, LABELS, ATTRIBUTES\n"
   ]
  },
  {
   "cell_type": "code",
   "execution_count": 2,
   "metadata": {},
   "outputs": [
    {
     "name": "stdout",
     "output_type": "stream",
     "text": [
      "air2m_0 air1000_500_0 hgt500_0 hgt1000_0 omega500_0 pottemp1000-500_0 pottemp1000-850_0 pr_wtr_0 shum-uwnd-700_0 shum-uwnd-925_0 shum-vwnd-700_0 shum-vwnd-950_0 shum700_0 shum925_0 skt_0 slp_0 air2m_1 air1000_500_1 hgt500_1 hgt1000_1 omega500_1 pottemp1000-500_1 pottemp1000-850_1 pr_wtr_1 shum-uwnd-700_1 shum-uwnd-925_1 shum-vwnd-700_1 shum-vwnd-950_1 shum700_1 shum925_1 skt_1 slp_1 air2m_2 air1000_500_2 hgt500_2 hgt1000_2 omega500_2 pottemp1000-500_2 pottemp1000-850_2 pr_wtr_2 shum-uwnd-700_2 shum-uwnd-925_2 shum-vwnd-700_2 shum-vwnd-950_2 shum700_2 shum925_2 skt_2 slp_2 air2m_3 air1000_500_3 hgt500_3 hgt1000_3 omega500_3 pottemp1000-500_3 pottemp1000-850_3 pr_wtr_3 shum-uwnd-700_3 shum-uwnd-925_3 shum-vwnd-700_3 shum-vwnd-950_3 shum700_3 shum925_3 skt_3 slp_3 air2m_4 air1000_500_4 hgt500_4 hgt1000_4 omega500_4 pottemp1000-500_4 pottemp1000-850_4 pr_wtr_4 shum-uwnd-700_4 shum-uwnd-925_4 shum-vwnd-700_4 shum-vwnd-950_4 shum700_4 shum925_4 skt_4 slp_4 air2m_5 air1000_500_5 hgt500_5 hgt1000_5 omega500_5 pottemp1000-500_5 pottemp1000-850_5 pr_wtr_5 shum-uwnd-700_5 shum-uwnd-925_5 shum-vwnd-700_5 shum-vwnd-950_5 shum700_5 shum925_5 skt_5 slp_5 data_in lat lon elevation season_wet season_dry "
     ]
    }
   ],
   "source": [
    "# Load the datasets\n",
    "# Load the dataset\n",
    "# df_metadata = pd.read_excel(f\"{BASE_DIR}/FilledDataset2012.xlsx\", sheet_name=\"Header\")\n",
    "# df_data_original = pd.read_csv(f\"{BASE_DIR}/dataset.csv\")\n",
    "\n",
    "\n",
    "# load datasets\n",
    "df_train = pd.read_csv(f\"{BASE_DIR}/train.csv\")\n",
    "df_valid = pd.read_csv(f\"{BASE_DIR}/valid.csv\")\n",
    "df_test = pd.read_csv(f\"{BASE_DIR}/test.csv\")\n",
    "\n",
    "# Nov-Apr = \"wet\", May-Oct = \"dry\"\n",
    "wet = [11, 12, 1, 2, 3, 4]\n",
    "dry = [5, 6, 7, 8, 9, 10]\n",
    "df_train['season_dry'] = df_train.apply(lambda row: 1 if row.month in dry else 0, axis=1)\n",
    "df_train['season_wet'] = df_train.apply(lambda row: 1 if row.month in wet else 0, axis=1)\n",
    "\n",
    "df_valid['season_dry'] = df_valid.apply(lambda row: 1 if row.month in dry else 0, axis=1)\n",
    "df_valid['season_wet'] = df_valid.apply(lambda row: 1 if row.month in wet else 0, axis=1)\n",
    "\n",
    "df_test['season_dry'] = df_test.apply(lambda row: 1 if row.month in dry else 0, axis=1)\n",
    "df_test['season_wet'] = df_test.apply(lambda row: 1 if row.month in wet else 0, axis=1)\n",
    "\n",
    "reanalysis_data = [\n",
    "    'air2m', 'air1000_500', 'hgt500', 'hgt1000', 'omega500',\n",
    "    'pottemp1000-500', 'pottemp1000-850', 'pr_wtr', 'shum-uwnd-700',\n",
    "    'shum-uwnd-925', 'shum-vwnd-700', 'shum-vwnd-950', 'shum700', 'shum925', \n",
    "    'skt', 'slp'\n",
    "]\n",
    "\n",
    "columns = []\n",
    "for i in range(6):\n",
    "    for item in reanalysis_data:\n",
    "        columns.append(f\"{item}_{i}\")\n",
    "\n",
    "columns.extend(['data_in', 'lat', 'lon', 'elevation', 'season_wet', 'season_dry'])\n",
    "for item in columns:\n",
    "    print(item, end=' ')"
   ]
  },
  {
   "cell_type": "code",
   "execution_count": 3,
   "metadata": {},
   "outputs": [
    {
     "data": {
      "text/plain": [
       "20         FIELD 435\n",
       "21          FIELD 51\n",
       "22           NAALEHU\n",
       "23           HONUAPO\n",
       "24     MOAULA TUNNEL\n",
       "25        MOAULA RES\n",
       "26      HIGASHI CAMP\n",
       "27            MOAULA\n",
       "28    ALILI TUNNEL 2\n",
       "29             ALILI\n",
       "Name: name, dtype: object"
      ]
     },
     "execution_count": 3,
     "metadata": {},
     "output_type": "execute_result"
    }
   ],
   "source": [
    "df_train['name'][20:30]"
   ]
  },
  {
   "cell_type": "code",
   "execution_count": 4,
   "metadata": {},
   "outputs": [],
   "source": [
    "station = \"H 23 CAMP 9\"\n",
    "\n",
    "df_train_station = df_train[df_train['name'] == station]\n",
    "df_test_station  = df_test[df_test['name'] == station]\n",
    "\n",
    "# xgboost trains on the entire dataset\n",
    "Xtrain = np.array(df_train[columns].drop(labels=[\"data_in\"], axis=1))\n",
    "Ytrain = np.array(df_train[\"data_in\"])\n",
    "# test on the station data\n",
    "Xtest = np.array(df_test_station[columns].drop(labels=[\"data_in\"], axis=1))\n",
    "Ytest = np.array(df_test_station[\"data_in\"])"
   ]
  },
  {
   "cell_type": "code",
   "execution_count": 5,
   "metadata": {},
   "outputs": [
    {
     "name": "stdout",
     "output_type": "stream",
     "text": [
      "MSE on xgboost (test) : 7.95053\n",
      "MSE on xgboost (train): 4.65344\n"
     ]
    }
   ],
   "source": [
    "# hyperparameters obtained by fine tuning\n",
    "xgboost = XGBRegressor(\n",
    "    n_estimators=170,\n",
    "    learning_rate=0.1,\n",
    "    max_depth=9,\n",
    "    verbosity=0\n",
    ")\n",
    "\n",
    "xgboost.fit(Xtrain, Ytrain)\n",
    "print(\"MSE on xgboost (test) : {:.5f}\".format(mean_squared_error(Ytest, xgboost.predict(Xtest))))\n",
    "print(\"MSE on xgboost (train): {:.5f}\".format(mean_squared_error(Ytrain, xgboost.predict(Xtrain))))"
   ]
  },
  {
   "cell_type": "code",
   "execution_count": 7,
   "metadata": {},
   "outputs": [
    {
     "name": "stdout",
     "output_type": "stream",
     "text": [
      "MSE on Linear Regression (test) : 98.38768\n",
      "MSE on Linear Regression (train): 0.000000000\n"
     ]
    }
   ],
   "source": [
    "# linear regression trains on the station dataset\n",
    "Xtrain = np.array(df_train_station[columns].drop(labels=[\"data_in\"], axis=1))\n",
    "Ytrain = np.array(df_train_station[\"data_in\"])\n",
    "# test on the station data\n",
    "Xtest = np.array(df_test_station[columns].drop(labels=[\"data_in\"], axis=1))\n",
    "Ytest = np.array(df_test_station[\"data_in\"])\n",
    "\n",
    "model = LinearRegression()\n",
    "model.fit(Xtrain, Ytrain)\n",
    "print(\"MSE on Linear Regression (test) : {:.5f}\".format(mean_squared_error(Ytest, model.predict(Xtest))))\n",
    "print(\"MSE on Linear Regression (train): {:.9f}\".format(mean_squared_error(Ytrain, model.predict(Xtrain))))"
   ]
  },
  {
   "cell_type": "code",
   "execution_count": 28,
   "metadata": {},
   "outputs": [],
   "source": [
    "stations = np.random.choice(df_train['name'], size=10, random_state=42?)"
   ]
  },
  {
   "cell_type": "code",
   "execution_count": 31,
   "metadata": {},
   "outputs": [
    {
     "name": "stdout",
     "output_type": "stream",
     "text": [
      "=========================================\n",
      "Running experiment on H 23 CAMP 9 station.\n",
      "There are:\n",
      "79 training data and\n",
      "29 test data\n",
      "=========================================\n",
      "MSE on xgboost (test) : 7.95053\n",
      "MSE on xgboost (train): 4.65344\n",
      "MSE on Linear Regression (test) : 98.38768\n",
      "MSE on Linear Regression (train): 0.00000\n",
      "=========================================\n",
      "Running experiment on FIELD 271 station.\n",
      "There are:\n",
      "450 training data and\n",
      "135 test data\n",
      "=========================================\n",
      "MSE on xgboost (test) : 5.64846\n",
      "MSE on xgboost (train): 4.65344\n",
      "MSE on Linear Regression (test) : 6.40395\n",
      "MSE on Linear Regression (train): 4.26141\n",
      "=========================================\n",
      "Running experiment on Kahakuloa station.\n",
      "There are:\n",
      "483 training data and\n",
      "142 test data\n",
      "=========================================\n",
      "MSE on xgboost (test) : 7.78734\n",
      "MSE on xgboost (train): 4.65344\n",
      "MSE on Linear Regression (test) : 7.04884\n",
      "MSE on Linear Regression (train): 4.99478\n",
      "=========================================\n",
      "Running experiment on PAUWELA station.\n",
      "There are:\n",
      "450 training data and\n",
      "135 test data\n",
      "=========================================\n",
      "MSE on xgboost (test) : 7.40762\n",
      "MSE on xgboost (train): 4.65344\n",
      "MSE on Linear Regression (test) : 7.71454\n",
      "MSE on Linear Regression (train): 4.55527\n",
      "=========================================\n",
      "Running experiment on KAHEKA station.\n",
      "There are:\n",
      "450 training data and\n",
      "135 test data\n",
      "=========================================\n",
      "MSE on xgboost (test) : 3.84246\n",
      "MSE on xgboost (train): 4.65344\n",
      "MSE on Linear Regression (test) : 4.36595\n",
      "MSE on Linear Regression (train): 2.53908\n",
      "=========================================\n",
      "Running experiment on KULA KORTE station.\n",
      "There are:\n",
      "118 training data and\n",
      "30 test data\n",
      "=========================================\n",
      "MSE on xgboost (test) : 3.30640\n",
      "MSE on xgboost (train): 4.65344\n",
      "MSE on Linear Regression (test) : 10.64760\n",
      "MSE on Linear Regression (train): 0.73852\n",
      "=========================================\n",
      "Running experiment on FIELD 201 station.\n",
      "There are:\n",
      "900 training data and\n",
      "270 test data\n",
      "=========================================\n",
      "MSE on xgboost (test) : 6.87120\n",
      "MSE on xgboost (train): 4.65344\n",
      "MSE on Linear Regression (test) : 7.88153\n",
      "MSE on Linear Regression (train): 5.97824\n",
      "=========================================\n",
      "Running experiment on L 20 station.\n",
      "There are:\n",
      "449 training data and\n",
      "135 test data\n",
      "=========================================\n",
      "MSE on xgboost (test) : 5.28610\n",
      "MSE on xgboost (train): 4.65344\n",
      "MSE on Linear Regression (test) : 5.58335\n",
      "MSE on Linear Regression (train): 4.63557\n",
      "=========================================\n",
      "Running experiment on KAALAPUUALI station.\n",
      "There are:\n",
      "438 training data and\n",
      "129 test data\n",
      "=========================================\n",
      "MSE on xgboost (test) : 9.11544\n",
      "MSE on xgboost (train): 4.65344\n",
      "MSE on Linear Regression (test) : 10.12625\n",
      "MSE on Linear Regression (train): 4.10702\n",
      "=========================================\n",
      "Running experiment on KAUPAKULOA FT 10 station.\n",
      "There are:\n",
      "66 training data and\n",
      "19 test data\n",
      "=========================================\n",
      "MSE on xgboost (test) : 27.23741\n",
      "MSE on xgboost (train): 4.65344\n",
      "MSE on Linear Regression (test) : 76.46426\n",
      "MSE on Linear Regression (train): 0.00000\n"
     ]
    }
   ],
   "source": [
    "for station in stations:\n",
    "    df_train_station = df_train[df_train['name'] == station]\n",
    "    df_test_station  = df_test[df_test['name'] == station]\n",
    "    if df_train_station.shape[0] == 0 or df_test_station.shape[0] == 0:\n",
    "        continue\n",
    "    print(\"=========================================\")\n",
    "    print(f\"Running experiment on {station} station.\")\n",
    "    print(f\"There are:\")\n",
    "    print(f\"{df_train_station.shape[0]} training data and\")\n",
    "    print(f\"{df_test_station.shape[0]} test data\")\n",
    "    print(\"=========================================\")\n",
    "\n",
    "    # xgboost trains on the entire dataset\n",
    "    Xtrain = np.array(df_train[columns].drop(labels=[\"data_in\"], axis=1))\n",
    "    Ytrain = np.array(df_train[\"data_in\"])\n",
    "    # test on the station data\n",
    "    Xtest = np.array(df_test_station[columns].drop(labels=[\"data_in\"], axis=1))\n",
    "    Ytest = np.array(df_test_station[\"data_in\"])\n",
    "\n",
    "    # hyperparameters obtained by fine tuning\n",
    "    xgboost = XGBRegressor(\n",
    "        n_estimators=170,\n",
    "        learning_rate=0.1,\n",
    "        max_depth=9,\n",
    "        verbosity=0\n",
    "    )\n",
    "\n",
    "    xgboost.fit(Xtrain, Ytrain)\n",
    "    print(\"MSE on xgboost (test) : {:.5f}\".format(mean_squared_error(Ytest, xgboost.predict(Xtest))))\n",
    "    print(\"MSE on xgboost (train): {:.5f}\".format(mean_squared_error(Ytrain, xgboost.predict(Xtrain))))\n",
    "\n",
    "    # linear regression trains on the station dataset\n",
    "    Xtrain = np.array(df_train_station[columns].drop(labels=[\"data_in\"], axis=1))\n",
    "    Ytrain = np.array(df_train_station[\"data_in\"])\n",
    "    # test on the station data\n",
    "    Xtest = np.array(df_test_station[columns].drop(labels=[\"data_in\"], axis=1))\n",
    "    Ytest = np.array(df_test_station[\"data_in\"])\n",
    "\n",
    "    model = LinearRegression()\n",
    "    model.fit(Xtrain, Ytrain)\n",
    "    print(\"MSE on Linear Regression (test) : {:.5f}\".format(mean_squared_error(Ytest, model.predict(Xtest))))\n",
    "    print(\"MSE on Linear Regression (train): {:.5f}\".format(mean_squared_error(Ytrain, model.predict(Xtrain))))"
   ]
  },
  {
   "cell_type": "code",
   "execution_count": 10,
   "metadata": {},
   "outputs": [
    {
     "name": "stdout",
     "output_type": "stream",
     "text": [
      "MSE on xgboost (test) : 36.22984\n",
      "MSE on xgboost (train): 4.65344\n",
      "MSE on Linear Regression (test) : 33.09867\n",
      "MSE on Linear Regression (train): 24.18849\n"
     ]
    }
   ],
   "source": [
    "station = \"HILO\"\n",
    "\n",
    "df_train_station = df_train[df_train['name'] == station]\n",
    "df_test_station  = df_test[df_test['name'] == station]\n",
    "\n",
    "# xgboost trains on the entire dataset\n",
    "Xtrain = np.array(df_train[columns].drop(labels=[\"data_in\"], axis=1))\n",
    "Ytrain = np.array(df_train[\"data_in\"])\n",
    "# test on the station data\n",
    "Xtest = np.array(df_test_station[columns].drop(labels=[\"data_in\"], axis=1))\n",
    "Ytest = np.array(df_test_station[\"data_in\"])\n",
    "\n",
    "# hyperparameters obtained by fine tuning\n",
    "xgboost = XGBRegressor(\n",
    "    n_estimators=170,\n",
    "    learning_rate=0.1,\n",
    "    max_depth=9,\n",
    "    verbosity=0\n",
    ")\n",
    "\n",
    "xgboost.fit(Xtrain, Ytrain)\n",
    "print(\"MSE on xgboost (test) : {:.5f}\".format(mean_squared_error(Ytest, xgboost.predict(Xtest))))\n",
    "print(\"MSE on xgboost (train): {:.5f}\".format(mean_squared_error(Ytrain, xgboost.predict(Xtrain))))\n",
    "\n",
    "# linear regression trains on the station dataset\n",
    "Xtrain = np.array(df_train_station[columns].drop(labels=[\"data_in\"], axis=1))\n",
    "Ytrain = np.array(df_train_station[\"data_in\"])\n",
    "# test on the station data\n",
    "Xtest = np.array(df_test_station[columns].drop(labels=[\"data_in\"], axis=1))\n",
    "Ytest = np.array(df_test_station[\"data_in\"])\n",
    "\n",
    "model = LinearRegression()\n",
    "model.fit(Xtrain, Ytrain)\n",
    "print(\"MSE on Linear Regression (test) : {:.5f}\".format(mean_squared_error(Ytest, model.predict(Xtest))))\n",
    "print(\"MSE on Linear Regression (train): {:.5f}\".format(mean_squared_error(Ytrain, model.predict(Xtrain))))"
   ]
  },
  {
   "cell_type": "code",
   "execution_count": null,
   "metadata": {},
   "outputs": [],
   "source": []
  },
  {
   "cell_type": "code",
   "execution_count": 11,
   "metadata": {},
   "outputs": [
    {
     "name": "stdout",
     "output_type": "stream",
     "text": [
      "MSE on xgboost (test) : 5.79774\n",
      "MSE on xgboost (train): 4.65344\n",
      "MSE on Linear Regression (test) : 6.01450\n",
      "MSE on Linear Regression (train): 5.17918\n"
     ]
    }
   ],
   "source": [
    "station = \"LIHUE\"\n",
    "\n",
    "df_train_station = df_train[df_train['name'] == station]\n",
    "df_test_station  = df_test[df_test['name'] == station]\n",
    "\n",
    "# xgboost trains on the entire dataset\n",
    "Xtrain = np.array(df_train[columns].drop(labels=[\"data_in\"], axis=1))\n",
    "Ytrain = np.array(df_train[\"data_in\"])\n",
    "# test on the station data\n",
    "Xtest = np.array(df_test_station[columns].drop(labels=[\"data_in\"], axis=1))\n",
    "Ytest = np.array(df_test_station[\"data_in\"])\n",
    "\n",
    "# hyperparameters obtained by fine tuning\n",
    "xgboost = XGBRegressor(\n",
    "    n_estimators=170,\n",
    "    learning_rate=0.1,\n",
    "    max_depth=9,\n",
    "    verbosity=0\n",
    ")\n",
    "\n",
    "xgboost.fit(Xtrain, Ytrain)\n",
    "print(\"MSE on xgboost (test) : {:.5f}\".format(mean_squared_error(Ytest, xgboost.predict(Xtest))))\n",
    "print(\"MSE on xgboost (train): {:.5f}\".format(mean_squared_error(Ytrain, xgboost.predict(Xtrain))))\n",
    "\n",
    "# linear regression trains on the station dataset\n",
    "Xtrain = np.array(df_train_station[columns].drop(labels=[\"data_in\"], axis=1))\n",
    "Ytrain = np.array(df_train_station[\"data_in\"])\n",
    "# test on the station data\n",
    "Xtest = np.array(df_test_station[columns].drop(labels=[\"data_in\"], axis=1))\n",
    "Ytest = np.array(df_test_station[\"data_in\"])\n",
    "\n",
    "model = LinearRegression()\n",
    "model.fit(Xtrain, Ytrain)\n",
    "print(\"MSE on Linear Regression (test) : {:.5f}\".format(mean_squared_error(Ytest, model.predict(Xtest))))\n",
    "print(\"MSE on Linear Regression (train): {:.5f}\".format(mean_squared_error(Ytrain, model.predict(Xtrain))))"
   ]
  },
  {
   "cell_type": "code",
   "execution_count": 13,
   "metadata": {},
   "outputs": [
    {
     "name": "stdout",
     "output_type": "stream",
     "text": [
      "MSE on xgboost (test) : 3.94315\n",
      "MSE on xgboost (train): 4.65344\n",
      "MSE on Linear Regression (test) : 5.24540\n",
      "MSE on Linear Regression (train): 2.00699\n"
     ]
    }
   ],
   "source": [
    "station = \"KALAE\"\n",
    "\n",
    "df_train_station = df_train[df_train['name'] == station]\n",
    "df_test_station  = df_test[df_test['name'] == station]\n",
    "\n",
    "# xgboost trains on the entire dataset\n",
    "Xtrain = np.array(df_train[columns].drop(labels=[\"data_in\"], axis=1))\n",
    "Ytrain = np.array(df_train[\"data_in\"])\n",
    "# test on the station data\n",
    "Xtest = np.array(df_test_station[columns].drop(labels=[\"data_in\"], axis=1))\n",
    "Ytest = np.array(df_test_station[\"data_in\"])\n",
    "\n",
    "# hyperparameters obtained by fine tuning\n",
    "xgboost = XGBRegressor(\n",
    "    n_estimators=170,\n",
    "    learning_rate=0.1,\n",
    "    max_depth=9,\n",
    "    verbosity=0\n",
    ")\n",
    "\n",
    "xgboost.fit(Xtrain, Ytrain)\n",
    "print(\"MSE on xgboost (test) : {:.5f}\".format(mean_squared_error(Ytest, xgboost.predict(Xtest))))\n",
    "print(\"MSE on xgboost (train): {:.5f}\".format(mean_squared_error(Ytrain, xgboost.predict(Xtrain))))\n",
    "\n",
    "# linear regression trains on the station dataset\n",
    "Xtrain = np.array(df_train_station[columns].drop(labels=[\"data_in\"], axis=1))\n",
    "Ytrain = np.array(df_train_station[\"data_in\"])\n",
    "# test on the station data\n",
    "Xtest = np.array(df_test_station[columns].drop(labels=[\"data_in\"], axis=1))\n",
    "Ytest = np.array(df_test_station[\"data_in\"])\n",
    "\n",
    "model = LinearRegression()\n",
    "model.fit(Xtrain, Ytrain)\n",
    "print(\"MSE on Linear Regression (test) : {:.5f}\".format(mean_squared_error(Ytest, model.predict(Xtest))))\n",
    "print(\"MSE on Linear Regression (train): {:.5f}\".format(mean_squared_error(Ytrain, model.predict(Xtrain))))"
   ]
  },
  {
   "cell_type": "code",
   "execution_count": null,
   "metadata": {},
   "outputs": [],
   "source": []
  },
  {
   "cell_type": "code",
   "execution_count": null,
   "metadata": {},
   "outputs": [],
   "source": []
  },
  {
   "cell_type": "code",
   "execution_count": null,
   "metadata": {},
   "outputs": [],
   "source": []
  },
  {
   "cell_type": "code",
   "execution_count": null,
   "metadata": {},
   "outputs": [],
   "source": []
  },
  {
   "cell_type": "code",
   "execution_count": null,
   "metadata": {},
   "outputs": [],
   "source": []
  },
  {
   "cell_type": "code",
   "execution_count": null,
   "metadata": {},
   "outputs": [],
   "source": []
  },
  {
   "cell_type": "code",
   "execution_count": null,
   "metadata": {},
   "outputs": [],
   "source": []
  },
  {
   "cell_type": "code",
   "execution_count": null,
   "metadata": {},
   "outputs": [],
   "source": []
  },
  {
   "cell_type": "code",
   "execution_count": null,
   "metadata": {},
   "outputs": [],
   "source": []
  },
  {
   "cell_type": "code",
   "execution_count": null,
   "metadata": {},
   "outputs": [],
   "source": []
  },
  {
   "cell_type": "code",
   "execution_count": null,
   "metadata": {},
   "outputs": [],
   "source": []
  },
  {
   "cell_type": "code",
   "execution_count": 32,
   "metadata": {},
   "outputs": [
    {
     "name": "stdout",
     "output_type": "stream",
     "text": [
      "MSE on Linear Regression (test) : 76.46426\n",
      "MSE on Linear Regression (train): 0.00000\n"
     ]
    }
   ],
   "source": [
    "station = \"KAUPAKULOA FT 10\"\n",
    "\n",
    "df_train_station = df_train[df_train['name'] == station]\n",
    "df_test_station  = df_test[df_test['name'] == station]\n",
    "\n",
    "\n",
    "# linear regression trains on the station dataset\n",
    "Xtrain = np.array(df_train_station[columns].drop(labels=[\"data_in\"], axis=1))\n",
    "Ytrain = np.array(df_train_station[\"data_in\"])\n",
    "# test on the station data\n",
    "Xtest = np.array(df_test_station[columns].drop(labels=[\"data_in\"], axis=1))\n",
    "Ytest = np.array(df_test_station[\"data_in\"])\n",
    "\n",
    "model = LinearRegression()\n",
    "model.fit(Xtrain, Ytrain)\n",
    "print(\"MSE on Linear Regression (test) : {:.5f}\".format(mean_squared_error(Ytest, model.predict(Xtest))))\n",
    "print(\"MSE on Linear Regression (train): {:.5f}\".format(mean_squared_error(Ytrain, model.predict(Xtrain))))"
   ]
  },
  {
   "cell_type": "code",
   "execution_count": 40,
   "metadata": {},
   "outputs": [],
   "source": [
    "n_data = df_train_station.shape[0]\n",
    "data = df_train_station['data_in'].to_numpy()"
   ]
  },
  {
   "cell_type": "code",
   "execution_count": null,
   "metadata": {},
   "outputs": [],
   "source": []
  }
 ],
 "metadata": {
  "kernelspec": {
   "display_name": "climate",
   "language": "python",
   "name": "climate"
  },
  "language_info": {
   "codemirror_mode": {
    "name": "ipython",
    "version": 3
   },
   "file_extension": ".py",
   "mimetype": "text/x-python",
   "name": "python",
   "nbconvert_exporter": "python",
   "pygments_lexer": "ipython3",
   "version": "3.9.7"
  }
 },
 "nbformat": 4,
 "nbformat_minor": 4
}

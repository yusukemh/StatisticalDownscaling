{
 "cells": [
  {
   "cell_type": "code",
   "execution_count": 1,
   "metadata": {},
   "outputs": [],
   "source": [
    "# this file contains code for creating mock-up stations\n",
    "# elevation is calculated by linear interpolation of actual data"
   ]
  },
  {
   "cell_type": "code",
   "execution_count": 34,
   "metadata": {},
   "outputs": [
    {
     "name": "stdout",
     "output_type": "stream",
     "text": [
      "The autoreload extension is already loaded. To reload it, use:\n",
      "  %reload_ext autoreload\n"
     ]
    }
   ],
   "source": [
    "# basic libraries\n",
    "import numpy as np\n",
    "import pandas as pd\n",
    "import matplotlib.pyplot as plt\n",
    "\n",
    "# sklearn\n",
    "from sklearn.linear_model import LinearRegression\n",
    "from sklearn.model_selection import train_test_split, KFold, cross_val_predict, GridSearchCV\n",
    "from sklearn.metrics import mean_squared_error\n",
    "from sklearn.preprocessing import MinMaxScaler, OneHotEncoder, StandardScaler\n",
    "from sklearn.ensemble import GradientBoostingRegressor, RandomForestRegressor\n",
    "from sklearn.svm import SVR\n",
    "from sklearn.cluster import KMeans\n",
    "\n",
    "#others\n",
    "from xgboost import XGBRegressor\n",
    "import cartopy.crs as ccrs\n",
    "import cartopy.mpl.ticker as cticker\n",
    "import time\n",
    "import xarray as xr\n",
    "import sherpa\n",
    "import time\n",
    "from scipy.spatial import Delaunay\n",
    "from scipy import interpolate\n",
    "from copy import deepcopy\n",
    "from matplotlib import collections as mc\n",
    "\n",
    "# enable autoreload\n",
    "%load_ext autoreload\n",
    "%autoreload 2\n",
    "# Variables from config file\n",
    "from config import BASE_DIR, FILE_NAMES, LABELS, ATTRIBUTES, BEST_MODEL_COLUMNS\n",
    "from math import pi as PI"
   ]
  },
  {
   "cell_type": "code",
   "execution_count": 2,
   "metadata": {},
   "outputs": [],
   "source": [
    "test_months = [(1948, 1), (2012, 12)]"
   ]
  },
  {
   "cell_type": "code",
   "execution_count": 3,
   "metadata": {},
   "outputs": [],
   "source": [
    "df_locations = pd.read_csv(f\"{BASE_DIR}/SKNlocations.csv\")"
   ]
  },
  {
   "cell_type": "code",
   "execution_count": 4,
   "metadata": {},
   "outputs": [],
   "source": [
    "def get_convexhull_coords(df_locations, lat_range, lon_range):\n",
    "    resolution = 200\n",
    "    df_locations_island = df_locations[\n",
    "        (df_locations[\"Lat_DD\"] > lat_range[0]) &\n",
    "        (df_locations[\"Lat_DD\"] < lat_range[1]) &\n",
    "        (df_locations[\"Lon_DD\"] > lon_range[0]) &\n",
    "        (df_locations[\"Lon_DD\"] < lon_range[1])\n",
    "    ]\n",
    "    \n",
    "    station_coords_island = df_locations_island[[\"Lon_DD\", \"Lat_DD\"]].to_numpy()\n",
    "    # find points that are inside the island convex hull\n",
    "    hull = Delaunay(station_coords_island)\n",
    "    xx, yy = np.meshgrid(np.linspace(*lon_range, resolution), np.linspace(*lat_range, resolution))\n",
    "    candidate_coords = np.dstack((xx.flatten(), yy.flatten())).reshape(-1,2)\n",
    "    idx_in = hull.find_simplex(candidate_coords)\n",
    "    coords_in = candidate_coords[np.where(idx_in > -1)[0]]\n",
    "    return coords_in"
   ]
  },
  {
   "cell_type": "code",
   "execution_count": 5,
   "metadata": {},
   "outputs": [],
   "source": [
    "lon_oahu = (-157.966174-0.45, -157.966174+0.45)\n",
    "lat_oahu = (21.485495-0.45, 21.485495+0.45)\n",
    "\n",
    "island_ranges = [\n",
    "    {\n",
    "        \"name\": \"kauai\",\n",
    "        \"lat\": (22.066281-0.45, 22.066281+0.45),\n",
    "        \"lon\": (-159.526021-0.45, -159.526021+0.45)\n",
    "    },\n",
    "    {\n",
    "        \"name\": \"oahu\",\n",
    "        \"lat\": (21.485495-0.45, 21.485495+0.45),\n",
    "        \"lon\": (-157.966174-0.45, -157.966174+0.45)\n",
    "    },\n",
    "    {\n",
    "        \"name\": \"molokai\",\n",
    "        \"lat\": (21.134806-0.15, 21.134806+0.15),\n",
    "        \"lon\":  (-157.015431-0.35, -157.015431+0.35),\n",
    "    },\n",
    "    {\n",
    "        \"name\": \"lanai\",\n",
    "        \"lat\": (20.829217-0.1, 20.829217+0.1),\n",
    "        \"lon\": (-156.926489-0.15, -156.926489+0.15),\n",
    "    },\n",
    "    {\n",
    "        \"name\": \"maui\",\n",
    "        \"lat\": (20.820998-0.24, 20.820998+0.24),\n",
    "        \"lon\": (-156.312097-0.45, -156.312097+0.45)\n",
    "    },\n",
    "    {\n",
    "        \"name\": \"kahoolawe\",\n",
    "        \"lat\": (20.548690-0.1, 20.548690+0.1),\n",
    "        \"lon\": (-156.608597-0.1, -156.608597+0.1)\n",
    "    },\n",
    "    {\n",
    "        \"name\": \"hawaii\",\n",
    "        \"lat\": (19.602708-0.7, 19.602708+0.7),\n",
    "        \"lon\": (-155.474286-0.7, -155.474286+0.7)\n",
    "    }\n",
    "]"
   ]
  },
  {
   "cell_type": "code",
   "execution_count": 6,
   "metadata": {},
   "outputs": [
    {
     "data": {
      "text/plain": [
       "<cartopy.mpl.feature_artist.FeatureArtist at 0x2b46bf316190>"
      ]
     },
     "execution_count": 6,
     "metadata": {},
     "output_type": "execute_result"
    },
    {
     "data": {
      "image/png": "[encoded data removed]",
      "text/plain": [
       "<Figure size 660x440 with 1 Axes>"
      ]
     },
     "metadata": {
      "needs_background": "light"
     },
     "output_type": "display_data"
    }
   ],
   "source": [
    "island_range = island_ranges[6]\n",
    "\n",
    "xmin, xmax = -161, -154\n",
    "ymin, ymax = 18, 23\n",
    "\n",
    "fig, ax = plt.subplots(\n",
    "    1, 1, figsize=(3, 2), dpi=220,\n",
    "    subplot_kw={\n",
    "        'projection': ccrs.PlateCarree(),\n",
    "        'xlim': (xmin, xmax),\n",
    "        'ylim': (ymin, ymax)\n",
    "    },\n",
    "    gridspec_kw={\n",
    "        \"hspace\": 0.1\n",
    "    }\n",
    ")\n",
    "\n",
    "for island_range in island_ranges:\n",
    "    test = get_convexhull_coords(\n",
    "        df_locations,\n",
    "        island_range['lat'], \n",
    "        island_range['lon'])\n",
    "    ax.scatter(test[:, 0], test[:, 1], s=0.1, facecolor='b', edgecolor='b', alpha=0.5)\n",
    "\n",
    "ax.coastlines(resolution='10m')"
   ]
  },
  {
   "cell_type": "code",
   "execution_count": 30,
   "metadata": {},
   "outputs": [],
   "source": [
    "lat = np.arange(17.5, 27.5, 2.5)\n",
    "lon = np.arange(195, 207.5, 2.5)\n",
    "\n",
    "xx, yy = np.meshgrid(lat, lon)\n",
    "grids = np.dstack((xx.flatten(), yy.flatten())).reshape(-1,2)\n",
    "\n",
    "def closest_grid(target, grids):\n",
    "    idx = np.linalg.norm(grids - target, axis=1).argmin()\n",
    "    return grids[idx]"
   ]
  },
  {
   "cell_type": "code",
   "execution_count": 8,
   "metadata": {},
   "outputs": [],
   "source": [
    "df_locations[\"Lon_DD_updated\"] = df_locations.apply(lambda row: row['Lon_DD'] + 360, axis=1)"
   ]
  },
  {
   "cell_type": "code",
   "execution_count": 53,
   "metadata": {},
   "outputs": [],
   "source": [
    "test_coords = df_locations[[\"Lat_DD\", \"Lon_DD_updated\"]].to_numpy()\n",
    "\n",
    "lines = []\n",
    "for target in test_coords:\n",
    "    closest = closest_grid(target, grids)\n",
    "    lines.append([(closest[1]-360, closest[0]), (target[1]-360, target[0])])"
   ]
  },
  {
   "cell_type": "code",
   "execution_count": 63,
   "metadata": {},
   "outputs": [
    {
     "data": {
      "text/plain": [
       "<cartopy.mpl.feature_artist.FeatureArtist at 0x2b46c160abe0>"
      ]
     },
     "execution_count": 63,
     "metadata": {},
     "output_type": "execute_result"
    },
    {
     "data": {
      "image/png": "[encoded data removed]",
      "text/plain": [
       "<Figure size 660x440 with 1 Axes>"
      ]
     },
     "metadata": {
      "needs_background": "light"
     },
     "output_type": "display_data"
    }
   ],
   "source": [
    "island_range = island_ranges[6]\n",
    "\n",
    "xmin, xmax = -162.5, -152.5\n",
    "ymin, ymax = 15, 25\n",
    "\n",
    "fig, ax = plt.subplots(\n",
    "    1, 1, figsize=(3, 2), dpi=220,\n",
    "    subplot_kw={\n",
    "        'projection': ccrs.PlateCarree(),\n",
    "        'xlim': (xmin, xmax),\n",
    "        'ylim': (ymin, ymax)\n",
    "    },\n",
    "    gridspec_kw={\n",
    "        \"hspace\": 0.1\n",
    "    }\n",
    ")\n",
    "\n",
    "lc = mc.LineCollection(lines, colors=\"skyblue\", linewidth=0.1)\n",
    "ax.scatter(grids[:, 1]-360, grids[:, 0], s=0.05, facecolor='b', edgecolor='b', alpha=0.5)\n",
    "\n",
    "plt.vlines(x=np.arange(xmin, xmax+1, 2.5) - 1.25, ymin=ymin, ymax=ymax, color=\"k\", linewidth=0.3, linestyle=\"--\", alpha=0.5)\n",
    "plt.hlines(y=np.arange(ymin, ymax+1, 2.5) - 1.25 , xmin=xmin, xmax=xmax, color=\"k\", linewidth=0.3, linestyle=\"--\", alpha=0.5)\n",
    "ax.add_collection(lc)\n",
    "ax.coastlines(resolution='10m')"
   ]
  },
  {
   "cell_type": "code",
   "execution_count": null,
   "metadata": {},
   "outputs": [],
   "source": []
  }
 ],
 "metadata": {
  "kernelspec": {
   "display_name": "climate",
   "language": "python",
   "name": "climate"
  },
  "language_info": {
   "codemirror_mode": {
    "name": "ipython",
    "version": 3
   },
   "file_extension": ".py",
   "mimetype": "text/x-python",
   "name": "python",
   "nbconvert_exporter": "python",
   "pygments_lexer": "ipython3",
   "version": "3.9.7"
  }
 },
 "nbformat": 4,
 "nbformat_minor": 4
}

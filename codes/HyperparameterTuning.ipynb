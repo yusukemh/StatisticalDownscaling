{
 "cells": [
  {
   "cell_type": "code",
   "execution_count": 1,
   "metadata": {},
   "outputs": [],
   "source": [
    "# basic libraries\n",
    "import numpy as np\n",
    "import pandas as pd\n",
    "import matplotlib.pyplot as plt\n",
    "\n",
    "# sklearn\n",
    "from sklearn.linear_model import LinearRegression\n",
    "from sklearn.model_selection import train_test_split, KFold, cross_val_predict, GridSearchCV\n",
    "from sklearn.metrics import mean_squared_error\n",
    "from sklearn.preprocessing import MinMaxScaler, OneHotEncoder, StandardScaler\n",
    "from sklearn.ensemble import GradientBoostingRegressor, RandomForestRegressor\n",
    "from sklearn.svm import SVR\n",
    "from sklearn.cluster import KMeans\n",
    "\n",
    "#others\n",
    "from xgboost import XGBRegressor\n",
    "import cartopy.crs as ccrs\n",
    "import cartopy.mpl.ticker as cticker\n",
    "import time\n",
    "import xarray as xr\n",
    "import sherpa"
   ]
  },
  {
   "cell_type": "code",
   "execution_count": 2,
   "metadata": {},
   "outputs": [],
   "source": [
    "# Models {RandomForestRegressor, GradientBoostingRegressor, XGBRegressor}\n",
    "# Datasets {original, +elev, +seasonality, 6grids, Linear-Interpolation}"
   ]
  },
  {
   "cell_type": "markdown",
   "metadata": {},
   "source": [
    "# 1. Hyperparameter Tuning on Original Dataset"
   ]
  },
  {
   "cell_type": "code",
   "execution_count": 2,
   "metadata": {},
   "outputs": [
    {
     "name": "stdout",
     "output_type": "stream",
     "text": [
      "There are 865561 samples.\n",
      "Each sample is associated with lat and lon coordinates.\n",
      "Use only the closest observation to represent each field, from 16 different NetCDF files.\n"
     ]
    }
   ],
   "source": [
    "\n",
    "# Variables from config file\n",
    "BASE_DIR = \"/home/yusukemh/github/yusukemh/StatisticalDownscaling/dataset\"\n",
    "\n",
    "# Load the dataset\n",
    "df_metadata = pd.read_excel(f\"{BASE_DIR}/FilledDataset2012.xlsx\", sheet_name=\"Header\")\n",
    "df_data_original = pd.read_csv(f\"{BASE_DIR}/dataset.csv\")\n",
    "\n",
    "# make sure there is no NaN value\n",
    "assert df_data_original.isnull().values.any() == False\n",
    "print(f\"There are {df_data_original.shape[0]} samples.\")\n",
    "print(\n",
    "    \"Each sample is associated with lat and lon coordinates.\\n\" + \n",
    "    \"Use only the closest observation to represent each field, from 16 different NetCDF files.\", )\n",
    "\n",
    "df_combined = df_data_original.merge(right=df_metadata[[\"SKN\", \"ElevFT\"]], left_on=\"skn\", right_on=\"SKN\")\n",
    "df_clean = (\n",
    "    df_combined.drop(\n",
    "        labels=[\"lat\", \"lon\", \"year\", \"month\", \"SKN\", \"skn\", \"Lon_DD_updated\"],\n",
    "        axis=1\n",
    "    ).rename(\n",
    "        columns={\"Lat_DD\": \"lat\", \"Lon_DD\": \"lon\", \"ElevFT\": \"elev\"}\n",
    "    )\n",
    ")\n",
    "\n",
    "# split the dataset without \"elev\"\n",
    "X = np.array(df_clean.drop(labels=[\"data_in\", \"elev\"], axis=1))\n",
    "Y = np.array(df_clean[\"data_in\"])\n",
    "\n",
    "Xtemp, Xtest, Ytemp, Ytest = train_test_split(X, Y, test_size=0.2, random_state=42)\n",
    "Xtrain, Xvalid, Ytrain, Yvalid = train_test_split(Xtemp, Ytemp, test_size=0.25, random_state=42)"
   ]
  },
  {
   "cell_type": "markdown",
   "metadata": {},
   "source": [
    "## 1.1 RadomForestRegressor"
   ]
  },
  {
   "cell_type": "code",
   "execution_count": null,
   "metadata": {},
   "outputs": [],
   "source": [
    "file_name = './hyperparametertuning/RFR_original.txt'\n",
    "\n",
    "parameters = [\n",
    "    sherpa.Choice('n_estimators', list(range(50, 310, 10))),\n",
    "    sherpa.Discrete('min_samples_split', [2, 10])\n",
    "]\n",
    "alg = sherpa.algorithms.RandomSearch(max_num_trials=2)\n",
    "study = sherpa.Study(parameters=parameters,\n",
    "                     algorithm=alg,\n",
    "                     lower_is_better=True)\n",
    "\n",
    "for trial in study:\n",
    "    start = time.time()\n",
    "    line = '===============================================\\n'\n",
    "    params = {\n",
    "        \"n_estimators\": trial.parameters['n_estimators'],\n",
    "        \"max_depth\": None,\n",
    "        \"min_samples_split\": trial.parameters[\"min_samples_split\"],\n",
    "        \"verbose\": True,\n",
    "        \"n_jobs\": -1\n",
    "    }\n",
    "    print(params)\n",
    "    line += str(params) + '\\n'\n",
    "    model = RandomForestRegressor(**params)\n",
    "    model.fit(Xtrain, Ytrain)\n",
    "    training_error = mean_squared_error(Ytrain, model.predict(Xtrain))\n",
    "    validation_error = mean_squared_error(Yvalid, model.predict(Xvalid))\n",
    "    study.add_observation(\n",
    "        trial=trial,\n",
    "        iteration=1,\n",
    "        objective=validation_error,\n",
    "        context={'training_error': training_error}\n",
    "    )\n",
    "    end = time.time()\n",
    "    line += \"MSE on training set  : {:.6f}\".format(training_error) + '\\n'\n",
    "    line += \"MSE on validation set: {:.6f}\".format(validation_error) + '\\n'\n",
    "    line += \"elapsed time         : {:.3f}\".format(end - start) + '\\n'\n",
    "    \n",
    "    with open(file_name, 'a') as f:\n",
    "        f.write(line)\n",
    "\n",
    "    study.finalize(trial)\n",
    "\n",
    "print(study.get_best_result())"
   ]
  },
  {
   "cell_type": "code",
   "execution_count": 3,
   "metadata": {},
   "outputs": [
    {
     "name": "stderr",
     "output_type": "stream",
     "text": [
      "[Parallel(n_jobs=-1)]: Using backend ThreadingBackend with 12 concurrent workers.\n",
      "[Parallel(n_jobs=-1)]: Done  26 tasks      | elapsed:   18.6s\n",
      "[Parallel(n_jobs=-1)]: Done 176 tasks      | elapsed:  1.6min\n",
      "[Parallel(n_jobs=-1)]: Done 280 out of 280 | elapsed:  2.5min finished\n",
      "[Parallel(n_jobs=12)]: Using backend ThreadingBackend with 12 concurrent workers.\n",
      "[Parallel(n_jobs=12)]: Done  26 tasks      | elapsed:    0.6s\n",
      "[Parallel(n_jobs=12)]: Done 176 tasks      | elapsed:    2.7s\n"
     ]
    },
    {
     "name": "stdout",
     "output_type": "stream",
     "text": [
      "MSE on test set: 7.2719\n"
     ]
    },
    {
     "name": "stderr",
     "output_type": "stream",
     "text": [
      "[Parallel(n_jobs=12)]: Done 280 out of 280 | elapsed:    4.0s finished\n"
     ]
    }
   ],
   "source": [
    "best_params = {'n_estimators': 280, 'max_depth': None, 'min_samples_split': 3, 'verbose': True, 'n_jobs': -1}\n",
    "model = RandomForestRegressor(**best_params)\n",
    "model.fit(Xtrain, Ytrain)\n",
    "yhat = model.predict(Xtest)\n",
    "print(\"MSE on test set: {:.4f}\".format(mean_squared_error(Ytest, yhat)))"
   ]
  },
  {
   "cell_type": "markdown",
   "metadata": {},
   "source": [
    "## 1.2 GradientBoostingRegressor"
   ]
  },
  {
   "cell_type": "code",
   "execution_count": 6,
   "metadata": {
    "collapsed": true,
    "jupyter": {
     "outputs_hidden": true
    }
   },
   "outputs": [
    {
     "name": "stderr",
     "output_type": "stream",
     "text": [
      "INFO:sherpa.core:\n",
      "-------------------------------------------------------\n",
      "SHERPA Dashboard running. Access via\n",
      "http://10.100.11.206:8880 if on a cluster or\n",
      "http://localhost:8880 if running locally.\n",
      "-------------------------------------------------------\n"
     ]
    },
    {
     "name": "stdout",
     "output_type": "stream",
     "text": [
      " * Serving Flask app 'sherpa.app.app' (lazy loading)\n",
      " * Environment: production\n",
      "\u001b[31m   WARNING: This is a development server. Do not use it in a production deployment.\u001b[0m\n",
      "\u001b[2m   Use a production WSGI server instead.\u001b[0m\n",
      " * Debug mode: on\n"
     ]
    },
    {
     "name": "stderr",
     "output_type": "stream",
     "text": [
      "WARNING:werkzeug: * Running on all addresses.\n",
      "   WARNING: This is a development server. Do not use it in a production deployment.\n"
     ]
    },
    {
     "name": "stdout",
     "output_type": "stream",
     "text": [
      "{'n_estimators': 190, 'learning_rate': 0.1, 'max_depth': 2, 'min_samples_split': 8, 'verbose': True}\n",
      "      Iter       Train Loss   Remaining Time \n",
      "         1          39.7233            3.78m\n",
      "         2          38.7459            3.69m\n",
      "         3          37.9059            3.67m\n",
      "         4          37.2039            3.62m\n"
     ]
    },
    {
     "ename": "KeyboardInterrupt",
     "evalue": "",
     "output_type": "error",
     "traceback": [
      "\u001b[0;31m---------------------------------------------------------------------------\u001b[0m",
      "\u001b[0;31mKeyboardInterrupt\u001b[0m                         Traceback (most recent call last)",
      "\u001b[0;32m/tmp/ipykernel_319970/612463766.py\u001b[0m in \u001b[0;36m<module>\u001b[0;34m\u001b[0m\n\u001b[1;32m     27\u001b[0m     \u001b[0mline\u001b[0m \u001b[0;34m+=\u001b[0m \u001b[0mstr\u001b[0m\u001b[0;34m(\u001b[0m\u001b[0mparams\u001b[0m\u001b[0;34m)\u001b[0m \u001b[0;34m+\u001b[0m \u001b[0;34m'\\n'\u001b[0m\u001b[0;34m\u001b[0m\u001b[0;34m\u001b[0m\u001b[0m\n\u001b[1;32m     28\u001b[0m     \u001b[0mmodel\u001b[0m \u001b[0;34m=\u001b[0m \u001b[0mGradientBoostingRegressor\u001b[0m\u001b[0;34m(\u001b[0m\u001b[0;34m**\u001b[0m\u001b[0mparams\u001b[0m\u001b[0;34m)\u001b[0m\u001b[0;34m\u001b[0m\u001b[0;34m\u001b[0m\u001b[0m\n\u001b[0;32m---> 29\u001b[0;31m     \u001b[0mmodel\u001b[0m\u001b[0;34m.\u001b[0m\u001b[0mfit\u001b[0m\u001b[0;34m(\u001b[0m\u001b[0mXtrain\u001b[0m\u001b[0;34m,\u001b[0m \u001b[0mYtrain\u001b[0m\u001b[0;34m)\u001b[0m\u001b[0;34m\u001b[0m\u001b[0;34m\u001b[0m\u001b[0m\n\u001b[0m\u001b[1;32m     30\u001b[0m     \u001b[0mtraining_error\u001b[0m \u001b[0;34m=\u001b[0m \u001b[0mmean_squared_error\u001b[0m\u001b[0;34m(\u001b[0m\u001b[0mYtrain\u001b[0m\u001b[0;34m,\u001b[0m \u001b[0mmodel\u001b[0m\u001b[0;34m.\u001b[0m\u001b[0mpredict\u001b[0m\u001b[0;34m(\u001b[0m\u001b[0mXtrain\u001b[0m\u001b[0;34m)\u001b[0m\u001b[0;34m)\u001b[0m\u001b[0;34m\u001b[0m\u001b[0;34m\u001b[0m\u001b[0m\n\u001b[1;32m     31\u001b[0m     \u001b[0mvalidation_error\u001b[0m \u001b[0;34m=\u001b[0m \u001b[0mmean_squared_error\u001b[0m\u001b[0;34m(\u001b[0m\u001b[0mYvalid\u001b[0m\u001b[0;34m,\u001b[0m \u001b[0mmodel\u001b[0m\u001b[0;34m.\u001b[0m\u001b[0mpredict\u001b[0m\u001b[0;34m(\u001b[0m\u001b[0mXvalid\u001b[0m\u001b[0;34m)\u001b[0m\u001b[0;34m)\u001b[0m\u001b[0;34m\u001b[0m\u001b[0;34m\u001b[0m\u001b[0m\n",
      "\u001b[0;32m~/.conda/envs/climate/lib/python3.9/site-packages/sklearn/ensemble/_gb.py\u001b[0m in \u001b[0;36mfit\u001b[0;34m(self, X, y, sample_weight, monitor)\u001b[0m\n\u001b[1;32m    584\u001b[0m \u001b[0;34m\u001b[0m\u001b[0m\n\u001b[1;32m    585\u001b[0m         \u001b[0;31m# fit the boosting stages\u001b[0m\u001b[0;34m\u001b[0m\u001b[0;34m\u001b[0m\u001b[0m\n\u001b[0;32m--> 586\u001b[0;31m         n_stages = self._fit_stages(\n\u001b[0m\u001b[1;32m    587\u001b[0m             \u001b[0mX\u001b[0m\u001b[0;34m,\u001b[0m\u001b[0;34m\u001b[0m\u001b[0;34m\u001b[0m\u001b[0m\n\u001b[1;32m    588\u001b[0m             \u001b[0my\u001b[0m\u001b[0;34m,\u001b[0m\u001b[0;34m\u001b[0m\u001b[0;34m\u001b[0m\u001b[0m\n",
      "\u001b[0;32m~/.conda/envs/climate/lib/python3.9/site-packages/sklearn/ensemble/_gb.py\u001b[0m in \u001b[0;36m_fit_stages\u001b[0;34m(self, X, y, raw_predictions, sample_weight, random_state, X_val, y_val, sample_weight_val, begin_at_stage, monitor)\u001b[0m\n\u001b[1;32m    661\u001b[0m \u001b[0;34m\u001b[0m\u001b[0m\n\u001b[1;32m    662\u001b[0m             \u001b[0;31m# fit next stage of trees\u001b[0m\u001b[0;34m\u001b[0m\u001b[0;34m\u001b[0m\u001b[0m\n\u001b[0;32m--> 663\u001b[0;31m             raw_predictions = self._fit_stage(\n\u001b[0m\u001b[1;32m    664\u001b[0m                 \u001b[0mi\u001b[0m\u001b[0;34m,\u001b[0m\u001b[0;34m\u001b[0m\u001b[0;34m\u001b[0m\u001b[0m\n\u001b[1;32m    665\u001b[0m                 \u001b[0mX\u001b[0m\u001b[0;34m,\u001b[0m\u001b[0;34m\u001b[0m\u001b[0;34m\u001b[0m\u001b[0m\n",
      "\u001b[0;32m~/.conda/envs/climate/lib/python3.9/site-packages/sklearn/ensemble/_gb.py\u001b[0m in \u001b[0;36m_fit_stage\u001b[0;34m(self, i, X, y, raw_predictions, sample_weight, sample_mask, random_state, X_csc, X_csr)\u001b[0m\n\u001b[1;32m    244\u001b[0m \u001b[0;34m\u001b[0m\u001b[0m\n\u001b[1;32m    245\u001b[0m             \u001b[0mX\u001b[0m \u001b[0;34m=\u001b[0m \u001b[0mX_csr\u001b[0m \u001b[0;32mif\u001b[0m \u001b[0mX_csr\u001b[0m \u001b[0;32mis\u001b[0m \u001b[0;32mnot\u001b[0m \u001b[0;32mNone\u001b[0m \u001b[0;32melse\u001b[0m \u001b[0mX\u001b[0m\u001b[0;34m\u001b[0m\u001b[0;34m\u001b[0m\u001b[0m\n\u001b[0;32m--> 246\u001b[0;31m             \u001b[0mtree\u001b[0m\u001b[0;34m.\u001b[0m\u001b[0mfit\u001b[0m\u001b[0;34m(\u001b[0m\u001b[0mX\u001b[0m\u001b[0;34m,\u001b[0m \u001b[0mresidual\u001b[0m\u001b[0;34m,\u001b[0m \u001b[0msample_weight\u001b[0m\u001b[0;34m=\u001b[0m\u001b[0msample_weight\u001b[0m\u001b[0;34m,\u001b[0m \u001b[0mcheck_input\u001b[0m\u001b[0;34m=\u001b[0m\u001b[0;32mFalse\u001b[0m\u001b[0;34m)\u001b[0m\u001b[0;34m\u001b[0m\u001b[0;34m\u001b[0m\u001b[0m\n\u001b[0m\u001b[1;32m    247\u001b[0m \u001b[0;34m\u001b[0m\u001b[0m\n\u001b[1;32m    248\u001b[0m             \u001b[0;31m# update tree leaves\u001b[0m\u001b[0;34m\u001b[0m\u001b[0;34m\u001b[0m\u001b[0m\n",
      "\u001b[0;32m~/.conda/envs/climate/lib/python3.9/site-packages/sklearn/tree/_classes.py\u001b[0m in \u001b[0;36mfit\u001b[0;34m(self, X, y, sample_weight, check_input, X_idx_sorted)\u001b[0m\n\u001b[1;32m   1313\u001b[0m         \"\"\"\n\u001b[1;32m   1314\u001b[0m \u001b[0;34m\u001b[0m\u001b[0m\n\u001b[0;32m-> 1315\u001b[0;31m         super().fit(\n\u001b[0m\u001b[1;32m   1316\u001b[0m             \u001b[0mX\u001b[0m\u001b[0;34m,\u001b[0m\u001b[0;34m\u001b[0m\u001b[0;34m\u001b[0m\u001b[0m\n\u001b[1;32m   1317\u001b[0m             \u001b[0my\u001b[0m\u001b[0;34m,\u001b[0m\u001b[0;34m\u001b[0m\u001b[0;34m\u001b[0m\u001b[0m\n",
      "\u001b[0;32m~/.conda/envs/climate/lib/python3.9/site-packages/sklearn/tree/_classes.py\u001b[0m in \u001b[0;36mfit\u001b[0;34m(self, X, y, sample_weight, check_input, X_idx_sorted)\u001b[0m\n\u001b[1;32m    418\u001b[0m             )\n\u001b[1;32m    419\u001b[0m \u001b[0;34m\u001b[0m\u001b[0m\n\u001b[0;32m--> 420\u001b[0;31m         \u001b[0mbuilder\u001b[0m\u001b[0;34m.\u001b[0m\u001b[0mbuild\u001b[0m\u001b[0;34m(\u001b[0m\u001b[0mself\u001b[0m\u001b[0;34m.\u001b[0m\u001b[0mtree_\u001b[0m\u001b[0;34m,\u001b[0m \u001b[0mX\u001b[0m\u001b[0;34m,\u001b[0m \u001b[0my\u001b[0m\u001b[0;34m,\u001b[0m \u001b[0msample_weight\u001b[0m\u001b[0;34m)\u001b[0m\u001b[0;34m\u001b[0m\u001b[0;34m\u001b[0m\u001b[0m\n\u001b[0m\u001b[1;32m    421\u001b[0m \u001b[0;34m\u001b[0m\u001b[0m\n\u001b[1;32m    422\u001b[0m         \u001b[0;32mif\u001b[0m \u001b[0mself\u001b[0m\u001b[0;34m.\u001b[0m\u001b[0mn_outputs_\u001b[0m \u001b[0;34m==\u001b[0m \u001b[0;36m1\u001b[0m \u001b[0;32mand\u001b[0m \u001b[0mis_classifier\u001b[0m\u001b[0;34m(\u001b[0m\u001b[0mself\u001b[0m\u001b[0;34m)\u001b[0m\u001b[0;34m:\u001b[0m\u001b[0;34m\u001b[0m\u001b[0;34m\u001b[0m\u001b[0m\n",
      "\u001b[0;31mKeyboardInterrupt\u001b[0m: "
     ]
    }
   ],
   "source": [
    "# # Done as batch job\n",
    "# file_name = './hyperparametertuning/GBR_original.txt'\n",
    "\n",
    "# parameters = [\n",
    "#     sherpa.Choice('n_estimators', list(range(100, 310, 10))),\n",
    "#     sherpa.Choice('learning_rate', [0.05, 0.1, 0.5, 1.0, 1.25, 1.5, 2]),\n",
    "#     sherpa.Discrete('max_depth', [1, 8]),\n",
    "#     sherpa.Discrete('min_samples_split', [2, 10])\n",
    "# ]\n",
    "\n",
    "# alg = sherpa.algorithms.RandomSearch(max_num_trials=50)\n",
    "# study = sherpa.Study(parameters=parameters,\n",
    "#                      algorithm=alg,\n",
    "#                      lower_is_better=True)\n",
    "\n",
    "# for trial in study:\n",
    "#     start = time.time()\n",
    "#     line = '===============================================\\n'\n",
    "#     params = {\n",
    "#         \"n_estimators\": trial.parameters['n_estimators'],\n",
    "#         \"learning_rate\": trial.parameters['learning_rate'],\n",
    "#         \"max_depth\": trial.parameters['max_depth'],\n",
    "#         \"min_samples_split\": trial.parameters[\"min_samples_split\"],\n",
    "#         \"verbose\": True\n",
    "#     }\n",
    "#     print(params)\n",
    "#     line += str(params) + '\\n'\n",
    "#     model = GradientBoostingRegressor(**params)\n",
    "#     model.fit(Xtrain, Ytrain)\n",
    "#     training_error = mean_squared_error(Ytrain, model.predict(Xtrain))\n",
    "#     validation_error = mean_squared_error(Yvalid, model.predict(Xvalid))\n",
    "#     study.add_observation(\n",
    "#         trial=trial,\n",
    "#         iteration=1,\n",
    "#         objective=validation_error,\n",
    "#         context={'training_error': training_error}\n",
    "#     )\n",
    "#     end = time.time()\n",
    "#     line += \"MSE on training set  : {:.6f}\".format(training_error) + '\\n'\n",
    "#     line += \"MSE on validation set: {:.6f}\".format(validation_error) + '\\n'\n",
    "#     line += \"elapsed time         : {:.3f}\".format(end - start) + '\\n'\n",
    "    \n",
    "#     with open(file_name, 'a') as f:\n",
    "#         f.write(line)\n",
    "\n",
    "#     study.finalize(trial)\n",
    "\n",
    "# print(study.get_best_result())"
   ]
  },
  {
   "cell_type": "code",
   "execution_count": 4,
   "metadata": {},
   "outputs": [
    {
     "name": "stdout",
     "output_type": "stream",
     "text": [
      "      Iter       Train Loss   Remaining Time \n",
      "         1          32.2614           12.01m\n",
      "         2          29.2945           11.16m\n",
      "         3          27.0433           10.97m\n",
      "         4          24.0742           10.74m\n",
      "         5          23.0473           10.50m\n",
      "         6          22.2017           10.43m\n",
      "         7          21.4775           10.50m\n",
      "         8          20.9718           10.42m\n",
      "         9          19.9031           10.46m\n",
      "        10          19.5112           10.42m\n",
      "        20          16.3080           10.19m\n",
      "        30          14.9034            9.73m\n",
      "        40          14.0348            9.35m\n",
      "        50          13.1496            8.94m\n",
      "        60          12.1846            8.52m\n",
      "        70          11.4769            8.12m\n",
      "        80          11.0272            7.70m\n",
      "        90          10.5960            7.32m\n",
      "       100          10.2779            6.95m\n",
      "       200           8.2380            3.11m\n",
      "MSE on test set: 9.1859\n"
     ]
    }
   ],
   "source": [
    "best_params = {'n_estimators': 280, 'learning_rate': 0.5, 'max_depth': 5, 'min_samples_split': 2, 'verbose': True}\n",
    "model = GradientBoostingRegressor(**best_params)\n",
    "model.fit(Xtrain, Ytrain)\n",
    "yhat = model.predict(Xtest)\n",
    "print(\"MSE on test set: {:.4f}\".format(mean_squared_error(Ytest, yhat)))"
   ]
  },
  {
   "cell_type": "markdown",
   "metadata": {},
   "source": [
    "## 1.2 XGBRegressor"
   ]
  },
  {
   "cell_type": "code",
   "execution_count": null,
   "metadata": {},
   "outputs": [],
   "source": [
    "# # Done as a batch job\n",
    "# file_name = './hyperparametertuning/XGB_original.txt'\n",
    "\n",
    "# parameters = [\n",
    "#     sherpa.Choice('n_estimators', list(range(100, 310, 10))),\n",
    "#     sherpa.Choice('learning_rate', [0.05, 0.1, 0.5, 1.0, 1.25, 1.5, 2]),\n",
    "#     sherpa.Discrete('max_depth', [1, 10]),\n",
    "# ]\n",
    "\n",
    "# alg = sherpa.algorithms.RandomSearch(max_num_trials=50)\n",
    "# study = sherpa.Study(parameters=parameters,\n",
    "#                      algorithm=alg,\n",
    "#                      lower_is_better=True)\n",
    "\n",
    "# for trial in study:\n",
    "#     start = time.time()\n",
    "#     line = '===============================================\\n'\n",
    "#     params = {\n",
    "#         \"n_estimators\": trial.parameters['n_estimators'],\n",
    "#         \"learning_rate\": trial.parameters['learning_rate'],\n",
    "#         \"max_depth\": trial.parameters['max_depth'],\n",
    "#         \"verbosity\": 1\n",
    "#     }\n",
    "#     print(params)\n",
    "#     line += str(params) + '\\n'\n",
    "#     model = XGBRegressor(**params)\n",
    "#     model.fit(Xtrain, Ytrain)\n",
    "#     training_error = mean_squared_error(Ytrain, model.predict(Xtrain))\n",
    "#     validation_error = mean_squared_error(Yvalid, model.predict(Xvalid))\n",
    "#     study.add_observation(\n",
    "#         trial=trial,\n",
    "#         iteration=1,\n",
    "#         objective=validation_error,\n",
    "#         context={'training_error': training_error}\n",
    "#     )\n",
    "#     end = time.time()\n",
    "#     line += \"MSE on training set  : {:.6f}\".format(training_error) + '\\n'\n",
    "#     line += \"MSE on validation set: {:.6f}\".format(validation_error) + '\\n'\n",
    "#     line += \"elapsed time         : {:.3f}\".format(end - start) + '\\n'\n",
    "    \n",
    "#     with open(file_name, 'a') as f:\n",
    "#         f.write(line)\n",
    "\n",
    "#     study.finalize(trial)\n",
    "\n",
    "# print(study.get_best_result())"
   ]
  },
  {
   "cell_type": "code",
   "execution_count": 5,
   "metadata": {},
   "outputs": [
    {
     "name": "stdout",
     "output_type": "stream",
     "text": [
      "MSE on test set: 7.5819\n"
     ]
    }
   ],
   "source": [
    "best_params = {'n_estimators': 110, 'learning_rate': 0.5, 'max_depth': 9, 'verbosity': 1}\n",
    "model = XGBRegressor(**best_params)\n",
    "model.fit(Xtrain, Ytrain)\n",
    "yhat = model.predict(Xtest)\n",
    "print(\"MSE on test set: {:.4f}\".format(mean_squared_error(Ytest, yhat)))"
   ]
  },
  {
   "cell_type": "markdown",
   "metadata": {},
   "source": [
    "# 2. Hyperparameter with elev data"
   ]
  },
  {
   "cell_type": "code",
   "execution_count": 7,
   "metadata": {},
   "outputs": [
    {
     "name": "stdout",
     "output_type": "stream",
     "text": [
      "There are 865561 samples.\n",
      "Each sample is associated with lat and lon coordinates.\n",
      "Use only the closest observation to represent each field, from 16 different NetCDF files.\n"
     ]
    }
   ],
   "source": [
    "df_metadata = pd.read_excel(f\"{BASE_DIR}/FilledDataset2012.xlsx\", sheet_name=\"Header\")\n",
    "df_data_original = pd.read_csv(f\"{BASE_DIR}/dataset.csv\")\n",
    "\n",
    "# make sure there is no NaN value\n",
    "assert df_data_original.isnull().values.any() == False\n",
    "print(f\"There are {df_data_original.shape[0]} samples.\")\n",
    "print(\n",
    "    \"Each sample is associated with lat and lon coordinates.\\n\" + \n",
    "    \"Use only the closest observation to represent each field, from 16 different NetCDF files.\", )\n",
    "\n",
    "df_combined = df_data_original.merge(right=df_metadata[[\"SKN\", \"ElevFT\"]], left_on=\"skn\", right_on=\"SKN\")\n",
    "df_clean = (\n",
    "    df_combined.drop(\n",
    "        labels=[\"lat\", \"lon\", \"year\", \"month\", \"SKN\", \"skn\", \"Lon_DD_updated\"],\n",
    "        axis=1\n",
    "    ).rename(\n",
    "        columns={\"Lat_DD\": \"lat\", \"Lon_DD\": \"lon\", \"ElevFT\": \"elev\"}\n",
    "    )\n",
    ")\n",
    "\n",
    "# split the dataset with\n",
    "X = np.array(df_clean.drop(labels=[\"data_in\"], axis=1))\n",
    "Y = np.array(df_clean[\"data_in\"])\n",
    "\n",
    "Xtemp, Xtest, Ytemp, Ytest = train_test_split(X, Y, test_size=0.2, random_state=42)\n",
    "Xtrain, Xvalid, Ytrain, Yvalid = train_test_split(Xtemp, Ytemp, test_size=0.25, random_state=42)"
   ]
  },
  {
   "cell_type": "markdown",
   "metadata": {},
   "source": [
    "## 2.1 RandomForestRegressor"
   ]
  },
  {
   "cell_type": "code",
   "execution_count": 9,
   "metadata": {},
   "outputs": [],
   "source": [
    "# # done as batch job\n",
    "# file_name = './RFR_elev.txt'\n",
    "\n",
    "# parameters = [\n",
    "#     sherpa.Choice('n_estimators', list(range(50, 310, 10))),\n",
    "#     sherpa.Discrete('min_samples_split', [2, 10])\n",
    "# ]\n",
    "# alg = sherpa.algorithms.RandomSearch(max_num_trials=50)\n",
    "# study = sherpa.Study(parameters=parameters,\n",
    "#                      algorithm=alg,\n",
    "#                      lower_is_better=True)\n",
    "\n",
    "# for trial in study:\n",
    "#     start = time.time()\n",
    "#     line = '===============================================\\n'\n",
    "#     params = {\n",
    "#         \"n_estimators\": trial.parameters['n_estimators'],\n",
    "#         \"max_depth\": None,\n",
    "#         \"min_samples_split\": trial.parameters[\"min_samples_split\"],\n",
    "#         \"verbose\": True,\n",
    "#         \"n_jobs\": -1\n",
    "#     }\n",
    "#     print(params)\n",
    "#     line += str(params) + '\\n'\n",
    "#     model = RandomForestRegressor(**params)\n",
    "#     model.fit(Xtrain, Ytrain)\n",
    "#     training_error = mean_squared_error(Ytrain, model.predict(Xtrain))\n",
    "#     validation_error = mean_squared_error(Yvalid, model.predict(Xvalid))\n",
    "#     study.add_observation(\n",
    "#         trial=trial,\n",
    "#         iteration=1,\n",
    "#         objective=validation_error,\n",
    "#         context={'training_error': training_error}\n",
    "#     )\n",
    "#     end = time.time()\n",
    "#     line += \"MSE on training set  : {:.6f}\".format(training_error) + '\\n'\n",
    "#     line += \"MSE on validation set: {:.6f}\".format(validation_error) + '\\n'\n",
    "#     line += \"elapsed time         : {:.3f}\".format(end - start) + '\\n'\n",
    "\n",
    "#     with open(file_name, 'a') as f:\n",
    "#         f.write(line)\n",
    "\n",
    "#     study.finalize(trial)"
   ]
  },
  {
   "cell_type": "code",
   "execution_count": null,
   "metadata": {},
   "outputs": [],
   "source": []
  }
 ],
 "metadata": {
  "kernelspec": {
   "display_name": "climate",
   "language": "python",
   "name": "climate"
  },
  "language_info": {
   "codemirror_mode": {
    "name": "ipython",
    "version": 3
   },
   "file_extension": ".py",
   "mimetype": "text/x-python",
   "name": "python",
   "nbconvert_exporter": "python",
   "pygments_lexer": "ipython3",
   "version": "3.9.7"
  }
 },
 "nbformat": 4,
 "nbformat_minor": 4
}

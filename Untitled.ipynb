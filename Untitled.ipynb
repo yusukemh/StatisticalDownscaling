{
 "cells": [
  {
   "cell_type": "code",
   "execution_count": 95,
   "id": "4e6b480f-9e40-4cfd-aedc-38c352ebff49",
   "metadata": {},
   "outputs": [],
   "source": [
    "import numpy as np\n",
    "import matplotlib.pyplot as plt\n",
    "# import tensorflow_probability as tfp\n",
    "import pandas as pd\n",
    "import time\n",
    "# tfd = tfp.distributions"
   ]
  },
  {
   "cell_type": "code",
   "execution_count": 119,
   "id": "f95aab1c-af88-46e2-81eb-9eb592488490",
   "metadata": {},
   "outputs": [
    {
     "name": "stdout",
     "output_type": "stream",
     "text": [
      "3.8428027629852295\n"
     ]
    },
    {
     "data": {
      "image/png": "[encoded data removed]",
      "text/plain": [
       "<Figure size 432x288 with 1 Axes>"
      ]
     },
     "metadata": {
      "needs_background": "light"
     },
     "output_type": "display_data"
    }
   ],
   "source": [
    "start = time.time()\n",
    "fig, ax = plt.subplots(1)\n",
    "for n in [1, 10, 100, 10000]:\n",
    "    rvs = np.random.uniform(low=-10, high=12, size=(10000, n)) # each row is array of experiments\n",
    "    mean = rvs.mean(axis=1)\n",
    "    ax.hist(mean, density=True, bins=1000)\n",
    "end = time.time()\n",
    "print(end - start)"
   ]
  },
  {
   "cell_type": "code",
   "execution_count": 102,
   "id": "30d86442-aabb-4685-91c0-0138039ca710",
   "metadata": {},
   "outputs": [
    {
     "data": {
      "text/plain": [
       "(10000,)"
      ]
     },
     "execution_count": 102,
     "metadata": {},
     "output_type": "execute_result"
    }
   ],
   "source": [
    "rvs = np.random.uniform(low=-10, high=12, size=(10000, n))\n",
    "rvs.sum(axis=1).shape"
   ]
  },
  {
   "cell_type": "code",
   "execution_count": 107,
   "id": "e5a31f62-511e-449f-8bd4-abee7432f921",
   "metadata": {},
   "outputs": [
    {
     "data": {
      "text/plain": [
       "(-5.0, 5.0)"
      ]
     },
     "execution_count": 107,
     "metadata": {},
     "output_type": "execute_result"
    },
    {
     "data": {
      "image/png": "[encoded data removed]",
      "text/plain": [
       "<Figure size 432x288 with 1 Axes>"
      ]
     },
     "metadata": {
      "needs_background": "light"
     },
     "output_type": "display_data"
    }
   ],
   "source": [
    "# central limit theorem\n",
    "t = np.linspace(-10, 12, 10000)\n",
    "fig, ax = plt.subplots(1)\n",
    "for n in [1, 10, 100, 1000]:\n",
    "    mu = (-10 + 12) * 0.5\n",
    "    var = 1./12. * (22)**2\n",
    "    rvs = np.random.uniform(low=-10, high=12, size=(100900, n))\n",
    "    rvs = (rvs.sum(axis=1) - mu * n) / np.sqrt(var * n)\n",
    "    ax.hist(rvs, density=True, bins=1000)\n",
    "ax.set_xlim((-5, 5))"
   ]
  },
  {
   "cell_type": "code",
   "execution_count": 118,
   "id": "7b28d691-ba41-4947-9170-9ecd3524ba9d",
   "metadata": {},
   "outputs": [
    {
     "data": {
      "text/plain": [
       "(-5.0, 5.0)"
      ]
     },
     "execution_count": 118,
     "metadata": {},
     "output_type": "execute_result"
    },
    {
     "data": {
      "image/png": "[encoded data removed]",
      "text/plain": [
       "<Figure size 432x288 with 1 Axes>"
      ]
     },
     "metadata": {
      "needs_background": "light"
     },
     "output_type": "display_data"
    }
   ],
   "source": [
    "# central limit theorem\n",
    "t = np.linspace(-10, 12, 10000)\n",
    "fig, ax = plt.subplots(1)\n",
    "for n in [1, 10, 100, 1000]:\n",
    "    mu = (-10 + 12) * 0.5\n",
    "    var = 1./12. * (22)**2\n",
    "    rvs = np.random.uniform(low=-10, high=12, size=(100900, n))\n",
    "    rvs = (rvs.sum(axis=1) - mu * n) / np.sqrt(var * n)\n",
    "    temp = np.histogram(rvs, bins=t, density=True)\n",
    "    ax.hist(rvs, density=True, bins=1000)\n",
    "ax.set_xlim((-5, 5))"
   ]
  },
  {
   "cell_type": "code",
   "execution_count": null,
   "id": "e548a448-31e2-4ad8-b340-daa2613e0084",
   "metadata": {},
   "outputs": [],
   "source": []
  }
 ],
 "metadata": {
  "kernelspec": {
   "display_name": "herox",
   "language": "python",
   "name": "herox"
  },
  "language_info": {
   "codemirror_mode": {
    "name": "ipython",
    "version": 3
   },
   "file_extension": ".py",
   "mimetype": "text/x-python",
   "name": "python",
   "nbconvert_exporter": "python",
   "pygments_lexer": "ipython3",
   "version": "3.9.12"
  }
 },
 "nbformat": 4,
 "nbformat_minor": 5
}
